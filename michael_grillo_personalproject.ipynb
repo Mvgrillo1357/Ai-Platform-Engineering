{
  "nbformat": 4,
  "nbformat_minor": 0,
  "metadata": {
    "kernelspec": {
      "name": "python3",
      "display_name": "Python 3"
    },
    "language_info": {
      "codemirror_mode": {
        "name": "ipython",
        "version": 3
      },
      "file_extension": ".py",
      "mimetype": "text/x-python",
      "name": "python",
      "nbconvert_exporter": "python",
      "pygments_lexer": "ipython3",
      "version": "3.7.4"
    },
    "colab": {
      "name": "michael_grillo_personalproject.ipynb",
      "provenance": [],
      "collapsed_sections": [],
      "machine_shape": "hm",
      "include_colab_link": true
    },
    "accelerator": "GPU"
  },
  "cells": [
    {
      "cell_type": "markdown",
      "metadata": {
        "id": "view-in-github",
        "colab_type": "text"
      },
      "source": [
        "<a href=\"https://colab.research.google.com/github/Mvgrillo1357/Ai-Platform-Engineering/blob/master/michael_grillo_personalproject.ipynb\" target=\"_parent\"><img src=\"https://colab.research.google.com/assets/colab-badge.svg\" alt=\"Open In Colab\"/></a>"
      ]
    },
    {
      "cell_type": "markdown",
      "metadata": {
        "id": "AzktjbmPhlce",
        "colab_type": "text"
      },
      "source": [
        "# Personal Project"
      ]
    },
    {
      "cell_type": "code",
      "metadata": {
        "id": "55mAlPf3xHQt",
        "colab_type": "code",
        "outputId": "a9660d6a-a463-4a26-a2b0-68051ad0876e",
        "colab": {
          "base_uri": "https://localhost:8080/",
          "height": 208
        }
      },
      "source": [
        "# Colab library to upload files to notebook\n",
        "from google.colab import files\n",
        "\n",
        "# Install Kaggle library\n",
        "!pip install kaggle"
      ],
      "execution_count": 3,
      "outputs": [
        {
          "output_type": "stream",
          "text": [
            "Requirement already satisfied: kaggle in /usr/local/lib/python3.6/dist-packages (1.5.6)\n",
            "Requirement already satisfied: certifi in /usr/local/lib/python3.6/dist-packages (from kaggle) (2019.11.28)\n",
            "Requirement already satisfied: requests in /usr/local/lib/python3.6/dist-packages (from kaggle) (2.21.0)\n",
            "Requirement already satisfied: python-dateutil in /usr/local/lib/python3.6/dist-packages (from kaggle) (2.6.1)\n",
            "Requirement already satisfied: tqdm in /usr/local/lib/python3.6/dist-packages (from kaggle) (4.28.1)\n",
            "Requirement already satisfied: six>=1.10 in /usr/local/lib/python3.6/dist-packages (from kaggle) (1.12.0)\n",
            "Requirement already satisfied: python-slugify in /usr/local/lib/python3.6/dist-packages (from kaggle) (4.0.0)\n",
            "Requirement already satisfied: urllib3<1.25,>=1.21.1 in /usr/local/lib/python3.6/dist-packages (from kaggle) (1.24.3)\n",
            "Requirement already satisfied: idna<2.9,>=2.5 in /usr/local/lib/python3.6/dist-packages (from requests->kaggle) (2.8)\n",
            "Requirement already satisfied: chardet<3.1.0,>=3.0.2 in /usr/local/lib/python3.6/dist-packages (from requests->kaggle) (3.0.4)\n",
            "Requirement already satisfied: text-unidecode>=1.3 in /usr/local/lib/python3.6/dist-packages (from python-slugify->kaggle) (1.3)\n"
          ],
          "name": "stdout"
        }
      ]
    },
    {
      "cell_type": "code",
      "metadata": {
        "id": "DXe1Q2GCb-YZ",
        "colab_type": "code",
        "colab": {}
      },
      "source": [
        "!mkdir .kaggle\n",
        "!mkdir ~/.kaggle"
      ],
      "execution_count": 0,
      "outputs": []
    },
    {
      "cell_type": "code",
      "metadata": {
        "id": "ZL6ZBxUicH7N",
        "colab_type": "code",
        "colab": {}
      },
      "source": [
        "import json\n",
        "token = {\"username\":\"michaelgrillo\",\"key\":\"1b1b61b21b7bd669c2b170bf718b9cd8\"}\n",
        "with open ('/content/.kaggle/kaggle.json', 'w') as file:\n",
        "  json.dump(token, file)"
      ],
      "execution_count": 0,
      "outputs": []
    },
    {
      "cell_type": "code",
      "metadata": {
        "id": "dtd3uU1IcIMU",
        "colab_type": "code",
        "colab": {}
      },
      "source": [
        "!chmod 600 /content/.kaggle/kaggle.json"
      ],
      "execution_count": 0,
      "outputs": []
    },
    {
      "cell_type": "code",
      "metadata": {
        "id": "cQCx8ytpcHwa",
        "colab_type": "code",
        "colab": {}
      },
      "source": [
        "!cp /content/.kaggle/kaggle.json ~/.kaggle/kaggle.json"
      ],
      "execution_count": 0,
      "outputs": []
    },
    {
      "cell_type": "code",
      "metadata": {
        "id": "Td448yXPcS51",
        "colab_type": "code",
        "outputId": "c8cd8ceb-bd20-4141-e5bf-561a1dae7dc6",
        "colab": {
          "base_uri": "https://localhost:8080/",
          "height": 34
        }
      },
      "source": [
        "!kaggle config set -n path -v{/content}"
      ],
      "execution_count": 8,
      "outputs": [
        {
          "output_type": "stream",
          "text": [
            "- path is now set to: {/content}\n"
          ],
          "name": "stdout"
        }
      ]
    },
    {
      "cell_type": "code",
      "metadata": {
        "id": "7v3dV80CcTbE",
        "colab_type": "code",
        "outputId": "4faa278d-3115-484e-df08-0ab6873276ac",
        "colab": {
          "base_uri": "https://localhost:8080/",
          "height": 69
        }
      },
      "source": [
        "!kaggle datasets download -d sobhanmoosavi/us-accidents -p /content --force"
      ],
      "execution_count": 9,
      "outputs": [
        {
          "output_type": "stream",
          "text": [
            "Downloading us-accidents.zip to /content\n",
            " 92% 182M/199M [00:09<00:00, 19.0MB/s]\n",
            "100% 199M/199M [00:09<00:00, 21.1MB/s]\n"
          ],
          "name": "stdout"
        }
      ]
    },
    {
      "cell_type": "code",
      "metadata": {
        "id": "vGIqUYAOc83D",
        "colab_type": "code",
        "outputId": "c207c258-b199-4486-bbc3-7d646a1bebd2",
        "colab": {
          "base_uri": "https://localhost:8080/",
          "height": 52
        }
      },
      "source": [
        "!unzip \\*.zip"
      ],
      "execution_count": 10,
      "outputs": [
        {
          "output_type": "stream",
          "text": [
            "Archive:  us-accidents.zip\n",
            "  inflating: US_Accidents_Dec19.csv  \n"
          ],
          "name": "stdout"
        }
      ]
    },
    {
      "cell_type": "code",
      "metadata": {
        "id": "oqoZYrvqc9P8",
        "colab_type": "code",
        "outputId": "36d3b14d-54d5-41a3-f3ab-962a097874e6",
        "colab": {
          "base_uri": "https://localhost:8080/",
          "height": 34
        }
      },
      "source": [
        "!ls"
      ],
      "execution_count": 11,
      "outputs": [
        {
          "output_type": "stream",
          "text": [
            "sample_data  US_Accidents_Dec19.csv  us-accidents.zip\n"
          ],
          "name": "stdout"
        }
      ]
    },
    {
      "cell_type": "code",
      "metadata": {
        "id": "Ha77Uol-xLOz",
        "colab_type": "code",
        "outputId": "ebf2e182-c8f7-46d4-e8d3-52a0a400dff0",
        "colab": {
          "base_uri": "https://localhost:8080/",
          "height": 451
        }
      },
      "source": [
        "import pandas as pd\n",
        "import matplotlib.pyplot as plt\n",
        "import seaborn as sns\n",
        "import numpy as np\n",
        "from sklearn.neighbors import KNeighborsClassifier\n",
        "from sklearn.model_selection import train_test_split\n",
        "import scipy as sp\n",
        "!pip install geopandas\n",
        "import sklearn as skl\n",
        "import geopandas as gpd\n",
        "import geopy\n",
        "import folium\n",
        "from shapely.geometry import Point, Polygon\n",
        "from sklearn.cluster import KMeans ,AgglomerativeClustering\n"
      ],
      "execution_count": 12,
      "outputs": [
        {
          "output_type": "stream",
          "text": [
            "Collecting geopandas\n",
            "\u001b[?25l  Downloading https://files.pythonhosted.org/packages/52/4f/6440a63c9367d981a91de458467eed4a8e259a26f24158071b610a1ed1dd/geopandas-0.6.3-py2.py3-none-any.whl (920kB)\n",
            "\u001b[K     |████████████████████████████████| 921kB 2.8MB/s \n",
            "\u001b[?25hCollecting fiona\n",
            "\u001b[?25l  Downloading https://files.pythonhosted.org/packages/50/f7/9899f8a9a2e38601472fe1079ce5088f58833221c8b8507d8b5eafd5404a/Fiona-1.8.13-cp36-cp36m-manylinux1_x86_64.whl (11.8MB)\n",
            "\u001b[K     |████████████████████████████████| 11.8MB 132kB/s \n",
            "\u001b[?25hRequirement already satisfied: shapely in /usr/local/lib/python3.6/dist-packages (from geopandas) (1.7.0)\n",
            "Collecting pyproj\n",
            "\u001b[?25l  Downloading https://files.pythonhosted.org/packages/d6/70/eedc98cd52b86de24a1589c762612a98bea26cde649ffdd60c1db396cce8/pyproj-2.4.2.post1-cp36-cp36m-manylinux2010_x86_64.whl (10.1MB)\n",
            "\u001b[K     |████████████████████████████████| 10.1MB 47.3MB/s \n",
            "\u001b[?25hRequirement already satisfied: pandas>=0.23.0 in /usr/local/lib/python3.6/dist-packages (from geopandas) (0.25.3)\n",
            "Collecting click-plugins>=1.0\n",
            "  Downloading https://files.pythonhosted.org/packages/e9/da/824b92d9942f4e472702488857914bdd50f73021efea15b4cad9aca8ecef/click_plugins-1.1.1-py2.py3-none-any.whl\n",
            "Requirement already satisfied: attrs>=17 in /usr/local/lib/python3.6/dist-packages (from fiona->geopandas) (19.3.0)\n",
            "Collecting munch\n",
            "  Downloading https://files.pythonhosted.org/packages/cc/ab/85d8da5c9a45e072301beb37ad7f833cd344e04c817d97e0cc75681d248f/munch-2.5.0-py2.py3-none-any.whl\n",
            "Collecting cligj>=0.5\n",
            "  Downloading https://files.pythonhosted.org/packages/e4/be/30a58b4b0733850280d01f8bd132591b4668ed5c7046761098d665ac2174/cligj-0.5.0-py3-none-any.whl\n",
            "Requirement already satisfied: six>=1.7 in /usr/local/lib/python3.6/dist-packages (from fiona->geopandas) (1.12.0)\n",
            "Requirement already satisfied: click<8,>=4.0 in /usr/local/lib/python3.6/dist-packages (from fiona->geopandas) (7.0)\n",
            "Requirement already satisfied: numpy>=1.13.3 in /usr/local/lib/python3.6/dist-packages (from pandas>=0.23.0->geopandas) (1.17.5)\n",
            "Requirement already satisfied: python-dateutil>=2.6.1 in /usr/local/lib/python3.6/dist-packages (from pandas>=0.23.0->geopandas) (2.6.1)\n",
            "Requirement already satisfied: pytz>=2017.2 in /usr/local/lib/python3.6/dist-packages (from pandas>=0.23.0->geopandas) (2018.9)\n",
            "Installing collected packages: click-plugins, munch, cligj, fiona, pyproj, geopandas\n",
            "Successfully installed click-plugins-1.1.1 cligj-0.5.0 fiona-1.8.13 geopandas-0.6.3 munch-2.5.0 pyproj-2.4.2.post1\n"
          ],
          "name": "stdout"
        }
      ]
    },
    {
      "cell_type": "code",
      "metadata": {
        "id": "Bna4HNi2s1TX",
        "colab_type": "code",
        "colab": {}
      },
      "source": [
        "import io\n",
        "df_traffic = pd.read_csv('US_Accidents_Dec19.csv')\n"
      ],
      "execution_count": 0,
      "outputs": []
    },
    {
      "cell_type": "markdown",
      "metadata": {
        "id": "nt00or5lhlc9",
        "colab_type": "text"
      },
      "source": [
        "For my personal individual project I would like to use machine learning in order to find trends over an extensive dataset which documents all traffic violations in 49 states of the United States collected from February 2016 to December 2019. The data set used was gathered from https://www.kaggle.com/sobhanmoosavi/us-accidents. By deploying a machine learning model that can predict trends and categorize variables I will be able be able to make predictive geographic clustering."
      ]
    },
    {
      "cell_type": "markdown",
      "metadata": {
        "id": "CZzhwyEyhldC",
        "colab_type": "text"
      },
      "source": [
        "https://smoosavi.org/datasets/us_accidents\n",
        "    this link defines the various variables of the dataset. This dataset is a live document but I used the data that lasted from February 2016 to December 2019."
      ]
    },
    {
      "cell_type": "code",
      "metadata": {
        "id": "MlzDNuX6hldp",
        "colab_type": "code",
        "outputId": "cb4f7837-9810-404d-adfb-3e3abe3844db",
        "colab": {
          "base_uri": "https://localhost:8080/",
          "height": 539
        }
      },
      "source": [
        "df_traffic.head()"
      ],
      "execution_count": 14,
      "outputs": [
        {
          "output_type": "execute_result",
          "data": {
            "text/html": [
              "<div>\n",
              "<style scoped>\n",
              "    .dataframe tbody tr th:only-of-type {\n",
              "        vertical-align: middle;\n",
              "    }\n",
              "\n",
              "    .dataframe tbody tr th {\n",
              "        vertical-align: top;\n",
              "    }\n",
              "\n",
              "    .dataframe thead th {\n",
              "        text-align: right;\n",
              "    }\n",
              "</style>\n",
              "<table border=\"1\" class=\"dataframe\">\n",
              "  <thead>\n",
              "    <tr style=\"text-align: right;\">\n",
              "      <th></th>\n",
              "      <th>ID</th>\n",
              "      <th>Source</th>\n",
              "      <th>TMC</th>\n",
              "      <th>Severity</th>\n",
              "      <th>Start_Time</th>\n",
              "      <th>End_Time</th>\n",
              "      <th>Start_Lat</th>\n",
              "      <th>Start_Lng</th>\n",
              "      <th>End_Lat</th>\n",
              "      <th>End_Lng</th>\n",
              "      <th>Distance(mi)</th>\n",
              "      <th>Description</th>\n",
              "      <th>Number</th>\n",
              "      <th>Street</th>\n",
              "      <th>Side</th>\n",
              "      <th>City</th>\n",
              "      <th>County</th>\n",
              "      <th>State</th>\n",
              "      <th>Zipcode</th>\n",
              "      <th>Country</th>\n",
              "      <th>Timezone</th>\n",
              "      <th>Airport_Code</th>\n",
              "      <th>Weather_Timestamp</th>\n",
              "      <th>Temperature(F)</th>\n",
              "      <th>Wind_Chill(F)</th>\n",
              "      <th>Humidity(%)</th>\n",
              "      <th>Pressure(in)</th>\n",
              "      <th>Visibility(mi)</th>\n",
              "      <th>Wind_Direction</th>\n",
              "      <th>Wind_Speed(mph)</th>\n",
              "      <th>Precipitation(in)</th>\n",
              "      <th>Weather_Condition</th>\n",
              "      <th>Amenity</th>\n",
              "      <th>Bump</th>\n",
              "      <th>Crossing</th>\n",
              "      <th>Give_Way</th>\n",
              "      <th>Junction</th>\n",
              "      <th>No_Exit</th>\n",
              "      <th>Railway</th>\n",
              "      <th>Roundabout</th>\n",
              "      <th>Station</th>\n",
              "      <th>Stop</th>\n",
              "      <th>Traffic_Calming</th>\n",
              "      <th>Traffic_Signal</th>\n",
              "      <th>Turning_Loop</th>\n",
              "      <th>Sunrise_Sunset</th>\n",
              "      <th>Civil_Twilight</th>\n",
              "      <th>Nautical_Twilight</th>\n",
              "      <th>Astronomical_Twilight</th>\n",
              "    </tr>\n",
              "  </thead>\n",
              "  <tbody>\n",
              "    <tr>\n",
              "      <th>0</th>\n",
              "      <td>A-1</td>\n",
              "      <td>MapQuest</td>\n",
              "      <td>201.0</td>\n",
              "      <td>3</td>\n",
              "      <td>2016-02-08 05:46:00</td>\n",
              "      <td>2016-02-08 11:00:00</td>\n",
              "      <td>39.865147</td>\n",
              "      <td>-84.058723</td>\n",
              "      <td>NaN</td>\n",
              "      <td>NaN</td>\n",
              "      <td>0.01</td>\n",
              "      <td>Right lane blocked due to accident on I-70 Eas...</td>\n",
              "      <td>NaN</td>\n",
              "      <td>I-70 E</td>\n",
              "      <td>R</td>\n",
              "      <td>Dayton</td>\n",
              "      <td>Montgomery</td>\n",
              "      <td>OH</td>\n",
              "      <td>45424</td>\n",
              "      <td>US</td>\n",
              "      <td>US/Eastern</td>\n",
              "      <td>KFFO</td>\n",
              "      <td>2016-02-08 05:58:00</td>\n",
              "      <td>36.9</td>\n",
              "      <td>NaN</td>\n",
              "      <td>91.0</td>\n",
              "      <td>29.68</td>\n",
              "      <td>10.0</td>\n",
              "      <td>Calm</td>\n",
              "      <td>NaN</td>\n",
              "      <td>0.02</td>\n",
              "      <td>Light Rain</td>\n",
              "      <td>False</td>\n",
              "      <td>False</td>\n",
              "      <td>False</td>\n",
              "      <td>False</td>\n",
              "      <td>False</td>\n",
              "      <td>False</td>\n",
              "      <td>False</td>\n",
              "      <td>False</td>\n",
              "      <td>False</td>\n",
              "      <td>False</td>\n",
              "      <td>False</td>\n",
              "      <td>False</td>\n",
              "      <td>False</td>\n",
              "      <td>Night</td>\n",
              "      <td>Night</td>\n",
              "      <td>Night</td>\n",
              "      <td>Night</td>\n",
              "    </tr>\n",
              "    <tr>\n",
              "      <th>1</th>\n",
              "      <td>A-2</td>\n",
              "      <td>MapQuest</td>\n",
              "      <td>201.0</td>\n",
              "      <td>2</td>\n",
              "      <td>2016-02-08 06:07:59</td>\n",
              "      <td>2016-02-08 06:37:59</td>\n",
              "      <td>39.928059</td>\n",
              "      <td>-82.831184</td>\n",
              "      <td>NaN</td>\n",
              "      <td>NaN</td>\n",
              "      <td>0.01</td>\n",
              "      <td>Accident on Brice Rd at Tussing Rd. Expect del...</td>\n",
              "      <td>2584.0</td>\n",
              "      <td>Brice Rd</td>\n",
              "      <td>L</td>\n",
              "      <td>Reynoldsburg</td>\n",
              "      <td>Franklin</td>\n",
              "      <td>OH</td>\n",
              "      <td>43068-3402</td>\n",
              "      <td>US</td>\n",
              "      <td>US/Eastern</td>\n",
              "      <td>KCMH</td>\n",
              "      <td>2016-02-08 05:51:00</td>\n",
              "      <td>37.9</td>\n",
              "      <td>NaN</td>\n",
              "      <td>100.0</td>\n",
              "      <td>29.65</td>\n",
              "      <td>10.0</td>\n",
              "      <td>Calm</td>\n",
              "      <td>NaN</td>\n",
              "      <td>0.00</td>\n",
              "      <td>Light Rain</td>\n",
              "      <td>False</td>\n",
              "      <td>False</td>\n",
              "      <td>False</td>\n",
              "      <td>False</td>\n",
              "      <td>False</td>\n",
              "      <td>False</td>\n",
              "      <td>False</td>\n",
              "      <td>False</td>\n",
              "      <td>False</td>\n",
              "      <td>False</td>\n",
              "      <td>False</td>\n",
              "      <td>False</td>\n",
              "      <td>False</td>\n",
              "      <td>Night</td>\n",
              "      <td>Night</td>\n",
              "      <td>Night</td>\n",
              "      <td>Day</td>\n",
              "    </tr>\n",
              "    <tr>\n",
              "      <th>2</th>\n",
              "      <td>A-3</td>\n",
              "      <td>MapQuest</td>\n",
              "      <td>201.0</td>\n",
              "      <td>2</td>\n",
              "      <td>2016-02-08 06:49:27</td>\n",
              "      <td>2016-02-08 07:19:27</td>\n",
              "      <td>39.063148</td>\n",
              "      <td>-84.032608</td>\n",
              "      <td>NaN</td>\n",
              "      <td>NaN</td>\n",
              "      <td>0.01</td>\n",
              "      <td>Accident on OH-32 State Route 32 Westbound at ...</td>\n",
              "      <td>NaN</td>\n",
              "      <td>State Route 32</td>\n",
              "      <td>R</td>\n",
              "      <td>Williamsburg</td>\n",
              "      <td>Clermont</td>\n",
              "      <td>OH</td>\n",
              "      <td>45176</td>\n",
              "      <td>US</td>\n",
              "      <td>US/Eastern</td>\n",
              "      <td>KI69</td>\n",
              "      <td>2016-02-08 06:56:00</td>\n",
              "      <td>36.0</td>\n",
              "      <td>33.3</td>\n",
              "      <td>100.0</td>\n",
              "      <td>29.67</td>\n",
              "      <td>10.0</td>\n",
              "      <td>SW</td>\n",
              "      <td>3.5</td>\n",
              "      <td>NaN</td>\n",
              "      <td>Overcast</td>\n",
              "      <td>False</td>\n",
              "      <td>False</td>\n",
              "      <td>False</td>\n",
              "      <td>False</td>\n",
              "      <td>False</td>\n",
              "      <td>False</td>\n",
              "      <td>False</td>\n",
              "      <td>False</td>\n",
              "      <td>False</td>\n",
              "      <td>False</td>\n",
              "      <td>False</td>\n",
              "      <td>True</td>\n",
              "      <td>False</td>\n",
              "      <td>Night</td>\n",
              "      <td>Night</td>\n",
              "      <td>Day</td>\n",
              "      <td>Day</td>\n",
              "    </tr>\n",
              "    <tr>\n",
              "      <th>3</th>\n",
              "      <td>A-4</td>\n",
              "      <td>MapQuest</td>\n",
              "      <td>201.0</td>\n",
              "      <td>3</td>\n",
              "      <td>2016-02-08 07:23:34</td>\n",
              "      <td>2016-02-08 07:53:34</td>\n",
              "      <td>39.747753</td>\n",
              "      <td>-84.205582</td>\n",
              "      <td>NaN</td>\n",
              "      <td>NaN</td>\n",
              "      <td>0.01</td>\n",
              "      <td>Accident on I-75 Southbound at Exits 52 52B US...</td>\n",
              "      <td>NaN</td>\n",
              "      <td>I-75 S</td>\n",
              "      <td>R</td>\n",
              "      <td>Dayton</td>\n",
              "      <td>Montgomery</td>\n",
              "      <td>OH</td>\n",
              "      <td>45417</td>\n",
              "      <td>US</td>\n",
              "      <td>US/Eastern</td>\n",
              "      <td>KDAY</td>\n",
              "      <td>2016-02-08 07:38:00</td>\n",
              "      <td>35.1</td>\n",
              "      <td>31.0</td>\n",
              "      <td>96.0</td>\n",
              "      <td>29.64</td>\n",
              "      <td>9.0</td>\n",
              "      <td>SW</td>\n",
              "      <td>4.6</td>\n",
              "      <td>NaN</td>\n",
              "      <td>Mostly Cloudy</td>\n",
              "      <td>False</td>\n",
              "      <td>False</td>\n",
              "      <td>False</td>\n",
              "      <td>False</td>\n",
              "      <td>False</td>\n",
              "      <td>False</td>\n",
              "      <td>False</td>\n",
              "      <td>False</td>\n",
              "      <td>False</td>\n",
              "      <td>False</td>\n",
              "      <td>False</td>\n",
              "      <td>False</td>\n",
              "      <td>False</td>\n",
              "      <td>Night</td>\n",
              "      <td>Day</td>\n",
              "      <td>Day</td>\n",
              "      <td>Day</td>\n",
              "    </tr>\n",
              "    <tr>\n",
              "      <th>4</th>\n",
              "      <td>A-5</td>\n",
              "      <td>MapQuest</td>\n",
              "      <td>201.0</td>\n",
              "      <td>2</td>\n",
              "      <td>2016-02-08 07:39:07</td>\n",
              "      <td>2016-02-08 08:09:07</td>\n",
              "      <td>39.627781</td>\n",
              "      <td>-84.188354</td>\n",
              "      <td>NaN</td>\n",
              "      <td>NaN</td>\n",
              "      <td>0.01</td>\n",
              "      <td>Accident on McEwen Rd at OH-725 Miamisburg Cen...</td>\n",
              "      <td>NaN</td>\n",
              "      <td>Miamisburg Centerville Rd</td>\n",
              "      <td>R</td>\n",
              "      <td>Dayton</td>\n",
              "      <td>Montgomery</td>\n",
              "      <td>OH</td>\n",
              "      <td>45459</td>\n",
              "      <td>US</td>\n",
              "      <td>US/Eastern</td>\n",
              "      <td>KMGY</td>\n",
              "      <td>2016-02-08 07:53:00</td>\n",
              "      <td>36.0</td>\n",
              "      <td>33.3</td>\n",
              "      <td>89.0</td>\n",
              "      <td>29.65</td>\n",
              "      <td>6.0</td>\n",
              "      <td>SW</td>\n",
              "      <td>3.5</td>\n",
              "      <td>NaN</td>\n",
              "      <td>Mostly Cloudy</td>\n",
              "      <td>False</td>\n",
              "      <td>False</td>\n",
              "      <td>False</td>\n",
              "      <td>False</td>\n",
              "      <td>False</td>\n",
              "      <td>False</td>\n",
              "      <td>False</td>\n",
              "      <td>False</td>\n",
              "      <td>False</td>\n",
              "      <td>False</td>\n",
              "      <td>False</td>\n",
              "      <td>True</td>\n",
              "      <td>False</td>\n",
              "      <td>Day</td>\n",
              "      <td>Day</td>\n",
              "      <td>Day</td>\n",
              "      <td>Day</td>\n",
              "    </tr>\n",
              "  </tbody>\n",
              "</table>\n",
              "</div>"
            ],
            "text/plain": [
              "    ID    Source    TMC  ...  Civil_Twilight Nautical_Twilight Astronomical_Twilight\n",
              "0  A-1  MapQuest  201.0  ...           Night             Night                 Night\n",
              "1  A-2  MapQuest  201.0  ...           Night             Night                   Day\n",
              "2  A-3  MapQuest  201.0  ...           Night               Day                   Day\n",
              "3  A-4  MapQuest  201.0  ...             Day               Day                   Day\n",
              "4  A-5  MapQuest  201.0  ...             Day               Day                   Day\n",
              "\n",
              "[5 rows x 49 columns]"
            ]
          },
          "metadata": {
            "tags": []
          },
          "execution_count": 14
        }
      ]
    },
    {
      "cell_type": "code",
      "metadata": {
        "id": "B5RYhqCchldz",
        "colab_type": "code",
        "outputId": "ef06e76f-3ac9-4bc1-d931-8ed1c58d4700",
        "colab": {
          "base_uri": "https://localhost:8080/",
          "height": 320
        }
      },
      "source": [
        "df_traffic.describe()"
      ],
      "execution_count": 15,
      "outputs": [
        {
          "output_type": "execute_result",
          "data": {
            "text/html": [
              "<div>\n",
              "<style scoped>\n",
              "    .dataframe tbody tr th:only-of-type {\n",
              "        vertical-align: middle;\n",
              "    }\n",
              "\n",
              "    .dataframe tbody tr th {\n",
              "        vertical-align: top;\n",
              "    }\n",
              "\n",
              "    .dataframe thead th {\n",
              "        text-align: right;\n",
              "    }\n",
              "</style>\n",
              "<table border=\"1\" class=\"dataframe\">\n",
              "  <thead>\n",
              "    <tr style=\"text-align: right;\">\n",
              "      <th></th>\n",
              "      <th>TMC</th>\n",
              "      <th>Severity</th>\n",
              "      <th>Start_Lat</th>\n",
              "      <th>Start_Lng</th>\n",
              "      <th>End_Lat</th>\n",
              "      <th>End_Lng</th>\n",
              "      <th>Distance(mi)</th>\n",
              "      <th>Number</th>\n",
              "      <th>Temperature(F)</th>\n",
              "      <th>Wind_Chill(F)</th>\n",
              "      <th>Humidity(%)</th>\n",
              "      <th>Pressure(in)</th>\n",
              "      <th>Visibility(mi)</th>\n",
              "      <th>Wind_Speed(mph)</th>\n",
              "      <th>Precipitation(in)</th>\n",
              "    </tr>\n",
              "  </thead>\n",
              "  <tbody>\n",
              "    <tr>\n",
              "      <th>count</th>\n",
              "      <td>2.246264e+06</td>\n",
              "      <td>2.974335e+06</td>\n",
              "      <td>2.974335e+06</td>\n",
              "      <td>2.974335e+06</td>\n",
              "      <td>728071.000000</td>\n",
              "      <td>728071.000000</td>\n",
              "      <td>2.974335e+06</td>\n",
              "      <td>1.056730e+06</td>\n",
              "      <td>2.918272e+06</td>\n",
              "      <td>1.121712e+06</td>\n",
              "      <td>2.915162e+06</td>\n",
              "      <td>2.926193e+06</td>\n",
              "      <td>2.908644e+06</td>\n",
              "      <td>2.533495e+06</td>\n",
              "      <td>975977.000000</td>\n",
              "    </tr>\n",
              "    <tr>\n",
              "      <th>mean</th>\n",
              "      <td>2.078316e+02</td>\n",
              "      <td>2.360190e+00</td>\n",
              "      <td>3.649361e+01</td>\n",
              "      <td>-9.542625e+01</td>\n",
              "      <td>37.580871</td>\n",
              "      <td>-99.976032</td>\n",
              "      <td>2.855654e-01</td>\n",
              "      <td>5.837004e+03</td>\n",
              "      <td>6.235120e+01</td>\n",
              "      <td>5.132685e+01</td>\n",
              "      <td>6.540542e+01</td>\n",
              "      <td>2.983190e+01</td>\n",
              "      <td>9.150770e+00</td>\n",
              "      <td>8.298064e+00</td>\n",
              "      <td>0.020495</td>\n",
              "    </tr>\n",
              "    <tr>\n",
              "      <th>std</th>\n",
              "      <td>2.032959e+01</td>\n",
              "      <td>5.414733e-01</td>\n",
              "      <td>4.918849e+00</td>\n",
              "      <td>1.721881e+01</td>\n",
              "      <td>5.004757</td>\n",
              "      <td>18.416647</td>\n",
              "      <td>1.548392e+00</td>\n",
              "      <td>1.515928e+04</td>\n",
              "      <td>1.878855e+01</td>\n",
              "      <td>2.519127e+01</td>\n",
              "      <td>2.255676e+01</td>\n",
              "      <td>7.213808e-01</td>\n",
              "      <td>2.892114e+00</td>\n",
              "      <td>5.138546e+00</td>\n",
              "      <td>0.235770</td>\n",
              "    </tr>\n",
              "    <tr>\n",
              "      <th>min</th>\n",
              "      <td>2.000000e+02</td>\n",
              "      <td>1.000000e+00</td>\n",
              "      <td>2.455527e+01</td>\n",
              "      <td>-1.246238e+02</td>\n",
              "      <td>24.570110</td>\n",
              "      <td>-124.497829</td>\n",
              "      <td>0.000000e+00</td>\n",
              "      <td>0.000000e+00</td>\n",
              "      <td>-7.780000e+01</td>\n",
              "      <td>-6.590000e+01</td>\n",
              "      <td>1.000000e+00</td>\n",
              "      <td>0.000000e+00</td>\n",
              "      <td>0.000000e+00</td>\n",
              "      <td>0.000000e+00</td>\n",
              "      <td>0.000000</td>\n",
              "    </tr>\n",
              "    <tr>\n",
              "      <th>25%</th>\n",
              "      <td>2.010000e+02</td>\n",
              "      <td>2.000000e+00</td>\n",
              "      <td>3.355040e+01</td>\n",
              "      <td>-1.172920e+02</td>\n",
              "      <td>33.957554</td>\n",
              "      <td>-118.286610</td>\n",
              "      <td>0.000000e+00</td>\n",
              "      <td>8.370000e+02</td>\n",
              "      <td>5.000000e+01</td>\n",
              "      <td>3.200000e+01</td>\n",
              "      <td>4.900000e+01</td>\n",
              "      <td>2.982000e+01</td>\n",
              "      <td>1.000000e+01</td>\n",
              "      <td>4.600000e+00</td>\n",
              "      <td>0.000000</td>\n",
              "    </tr>\n",
              "    <tr>\n",
              "      <th>50%</th>\n",
              "      <td>2.010000e+02</td>\n",
              "      <td>2.000000e+00</td>\n",
              "      <td>3.584969e+01</td>\n",
              "      <td>-9.025083e+01</td>\n",
              "      <td>37.903670</td>\n",
              "      <td>-96.631690</td>\n",
              "      <td>0.000000e+00</td>\n",
              "      <td>2.717000e+03</td>\n",
              "      <td>6.440000e+01</td>\n",
              "      <td>5.400000e+01</td>\n",
              "      <td>6.700000e+01</td>\n",
              "      <td>2.998000e+01</td>\n",
              "      <td>1.000000e+01</td>\n",
              "      <td>7.000000e+00</td>\n",
              "      <td>0.000000</td>\n",
              "    </tr>\n",
              "    <tr>\n",
              "      <th>75%</th>\n",
              "      <td>2.010000e+02</td>\n",
              "      <td>3.000000e+00</td>\n",
              "      <td>4.037026e+01</td>\n",
              "      <td>-8.091891e+01</td>\n",
              "      <td>41.372630</td>\n",
              "      <td>-82.323850</td>\n",
              "      <td>1.000000e-02</td>\n",
              "      <td>7.000000e+03</td>\n",
              "      <td>7.600000e+01</td>\n",
              "      <td>7.300000e+01</td>\n",
              "      <td>8.400000e+01</td>\n",
              "      <td>3.011000e+01</td>\n",
              "      <td>1.000000e+01</td>\n",
              "      <td>1.040000e+01</td>\n",
              "      <td>0.000000</td>\n",
              "    </tr>\n",
              "    <tr>\n",
              "      <th>max</th>\n",
              "      <td>4.060000e+02</td>\n",
              "      <td>4.000000e+00</td>\n",
              "      <td>4.900220e+01</td>\n",
              "      <td>-6.711317e+01</td>\n",
              "      <td>49.075000</td>\n",
              "      <td>-67.109242</td>\n",
              "      <td>3.336300e+02</td>\n",
              "      <td>9.999997e+06</td>\n",
              "      <td>1.706000e+02</td>\n",
              "      <td>1.150000e+02</td>\n",
              "      <td>1.000000e+02</td>\n",
              "      <td>3.304000e+01</td>\n",
              "      <td>1.400000e+02</td>\n",
              "      <td>8.228000e+02</td>\n",
              "      <td>25.000000</td>\n",
              "    </tr>\n",
              "  </tbody>\n",
              "</table>\n",
              "</div>"
            ],
            "text/plain": [
              "                TMC      Severity  ...  Wind_Speed(mph)  Precipitation(in)\n",
              "count  2.246264e+06  2.974335e+06  ...     2.533495e+06      975977.000000\n",
              "mean   2.078316e+02  2.360190e+00  ...     8.298064e+00           0.020495\n",
              "std    2.032959e+01  5.414733e-01  ...     5.138546e+00           0.235770\n",
              "min    2.000000e+02  1.000000e+00  ...     0.000000e+00           0.000000\n",
              "25%    2.010000e+02  2.000000e+00  ...     4.600000e+00           0.000000\n",
              "50%    2.010000e+02  2.000000e+00  ...     7.000000e+00           0.000000\n",
              "75%    2.010000e+02  3.000000e+00  ...     1.040000e+01           0.000000\n",
              "max    4.060000e+02  4.000000e+00  ...     8.228000e+02          25.000000\n",
              "\n",
              "[8 rows x 15 columns]"
            ]
          },
          "metadata": {
            "tags": []
          },
          "execution_count": 15
        }
      ]
    },
    {
      "cell_type": "code",
      "metadata": {
        "id": "RwdbSwCghleF",
        "colab_type": "code",
        "outputId": "f9473bb8-c9a2-484c-f24b-d0b0bfff4322",
        "colab": {
          "base_uri": "https://localhost:8080/",
          "height": 225
        }
      },
      "source": [
        "df_traffic.columns"
      ],
      "execution_count": 16,
      "outputs": [
        {
          "output_type": "execute_result",
          "data": {
            "text/plain": [
              "Index(['ID', 'Source', 'TMC', 'Severity', 'Start_Time', 'End_Time',\n",
              "       'Start_Lat', 'Start_Lng', 'End_Lat', 'End_Lng', 'Distance(mi)',\n",
              "       'Description', 'Number', 'Street', 'Side', 'City', 'County', 'State',\n",
              "       'Zipcode', 'Country', 'Timezone', 'Airport_Code', 'Weather_Timestamp',\n",
              "       'Temperature(F)', 'Wind_Chill(F)', 'Humidity(%)', 'Pressure(in)',\n",
              "       'Visibility(mi)', 'Wind_Direction', 'Wind_Speed(mph)',\n",
              "       'Precipitation(in)', 'Weather_Condition', 'Amenity', 'Bump', 'Crossing',\n",
              "       'Give_Way', 'Junction', 'No_Exit', 'Railway', 'Roundabout', 'Station',\n",
              "       'Stop', 'Traffic_Calming', 'Traffic_Signal', 'Turning_Loop',\n",
              "       'Sunrise_Sunset', 'Civil_Twilight', 'Nautical_Twilight',\n",
              "       'Astronomical_Twilight'],\n",
              "      dtype='object')"
            ]
          },
          "metadata": {
            "tags": []
          },
          "execution_count": 16
        }
      ]
    },
    {
      "cell_type": "code",
      "metadata": {
        "id": "mwB5IG7YdTNG",
        "colab_type": "code",
        "outputId": "6effa335-1563-4bb7-a868-eb7333760410",
        "colab": {
          "base_uri": "https://localhost:8080/",
          "height": 1000
        }
      },
      "source": [
        "corr=df_traffic.corr()\n",
        "cmap = sns.diverging_palette(200, 10, as_cmap=True)\n",
        "\n",
        "size=plt.figure(figsize=(80,30))\n",
        "\n",
        "sns.heatmap(corr, cmap=cmap, square='true', center=0)"
      ],
      "execution_count": 17,
      "outputs": [
        {
          "output_type": "execute_result",
          "data": {
            "text/plain": [
              "<matplotlib.axes._subplots.AxesSubplot at 0x7fa76d935588>"
            ]
          },
          "metadata": {
            "tags": []
          },
          "execution_count": 17
        },
        {
          "output_type": "display_data",
          "data": {
            "image/png": "[encoded data removed]",
            "text/plain": [
              "<Figure size 5760x2160 with 2 Axes>"
            ]
          },
          "metadata": {
            "tags": []
          }
        }
      ]
    },
    {
      "cell_type": "code",
      "metadata": {
        "id": "K5p-EC0WhleP",
        "colab_type": "code",
        "outputId": "6641c3bc-3786-4c57-d115-f654adacc904",
        "colab": {
          "base_uri": "https://localhost:8080/",
          "height": 885
        }
      },
      "source": [
        "print('Unique values',df_traffic.nunique())"
      ],
      "execution_count": 18,
      "outputs": [
        {
          "output_type": "stream",
          "text": [
            "Unique values ID                       2974335\n",
            "Source                         3\n",
            "TMC                           21\n",
            "Severity                       4\n",
            "Start_Time               2743101\n",
            "End_Time                 2761499\n",
            "Start_Lat                1002359\n",
            "Start_Lng                 985099\n",
            "End_Lat                   298605\n",
            "End_Lng                   302906\n",
            "Distance(mi)               12847\n",
            "Description              1597506\n",
            "Number                     37398\n",
            "Street                    160715\n",
            "Side                           3\n",
            "City                       11685\n",
            "County                      1713\n",
            "State                         49\n",
            "Zipcode                   377152\n",
            "Country                        1\n",
            "Timezone                       4\n",
            "Airport_Code                1995\n",
            "Weather_Timestamp         470781\n",
            "Temperature(F)               827\n",
            "Wind_Chill(F)                971\n",
            "Humidity(%)                  100\n",
            "Pressure(in)                 994\n",
            "Visibility(mi)                81\n",
            "Wind_Direction                24\n",
            "Wind_Speed(mph)              147\n",
            "Precipitation(in)            256\n",
            "Weather_Condition            120\n",
            "Amenity                        2\n",
            "Bump                           2\n",
            "Crossing                       2\n",
            "Give_Way                       2\n",
            "Junction                       2\n",
            "No_Exit                        2\n",
            "Railway                        2\n",
            "Roundabout                     2\n",
            "Station                        2\n",
            "Stop                           2\n",
            "Traffic_Calming                2\n",
            "Traffic_Signal                 2\n",
            "Turning_Loop                   1\n",
            "Sunrise_Sunset                 2\n",
            "Civil_Twilight                 2\n",
            "Nautical_Twilight              2\n",
            "Astronomical_Twilight          2\n",
            "dtype: int64\n"
          ],
          "name": "stdout"
        }
      ]
    },
    {
      "cell_type": "markdown",
      "metadata": {
        "id": "AXXCX8bDhleY",
        "colab_type": "text"
      },
      "source": [
        "This data is only for the United States so keeping the 'Country' column is 100% redundant."
      ]
    },
    {
      "cell_type": "code",
      "metadata": {
        "id": "BrSAg_8Ohlec",
        "colab_type": "code",
        "colab": {}
      },
      "source": [
        "df_traffic.drop(['Country'], axis=1, inplace=True)"
      ],
      "execution_count": 0,
      "outputs": []
    },
    {
      "cell_type": "code",
      "metadata": {
        "id": "orhz0LQWhlez",
        "colab_type": "code",
        "outputId": "2dd4673a-09fe-4cfe-d70c-50fa575ea13a",
        "colab": {
          "base_uri": "https://localhost:8080/",
          "height": 868
        }
      },
      "source": [
        "print(df_traffic.isnull().sum())\n"
      ],
      "execution_count": 20,
      "outputs": [
        {
          "output_type": "stream",
          "text": [
            "ID                             0\n",
            "Source                         0\n",
            "TMC                       728071\n",
            "Severity                       0\n",
            "Start_Time                     0\n",
            "End_Time                       0\n",
            "Start_Lat                      0\n",
            "Start_Lng                      0\n",
            "End_Lat                  2246264\n",
            "End_Lng                  2246264\n",
            "Distance(mi)                   0\n",
            "Description                    1\n",
            "Number                   1917605\n",
            "Street                         0\n",
            "Side                           0\n",
            "City                          83\n",
            "County                         0\n",
            "State                          0\n",
            "Zipcode                      880\n",
            "Timezone                    3163\n",
            "Airport_Code                5691\n",
            "Weather_Timestamp          36705\n",
            "Temperature(F)             56063\n",
            "Wind_Chill(F)            1852623\n",
            "Humidity(%)                59173\n",
            "Pressure(in)               48142\n",
            "Visibility(mi)             65691\n",
            "Wind_Direction             45101\n",
            "Wind_Speed(mph)           440840\n",
            "Precipitation(in)        1998358\n",
            "Weather_Condition          65932\n",
            "Amenity                        0\n",
            "Bump                           0\n",
            "Crossing                       0\n",
            "Give_Way                       0\n",
            "Junction                       0\n",
            "No_Exit                        0\n",
            "Railway                        0\n",
            "Roundabout                     0\n",
            "Station                        0\n",
            "Stop                           0\n",
            "Traffic_Calming                0\n",
            "Traffic_Signal                 0\n",
            "Turning_Loop                   0\n",
            "Sunrise_Sunset                93\n",
            "Civil_Twilight                93\n",
            "Nautical_Twilight             93\n",
            "Astronomical_Twilight         93\n",
            "dtype: int64\n"
          ],
          "name": "stdout"
        }
      ]
    },
    {
      "cell_type": "code",
      "metadata": {
        "id": "prABbkp0m_kh",
        "colab_type": "code",
        "outputId": "9ed8da6a-ff60-4661-845e-5cf237a8a9b3",
        "colab": {
          "base_uri": "https://localhost:8080/",
          "height": 52
        }
      },
      "source": [
        "print(len(df_traffic['End_Lat']))\n",
        "print(len(df_traffic['End_Lng']))"
      ],
      "execution_count": 21,
      "outputs": [
        {
          "output_type": "stream",
          "text": [
            "2974335\n",
            "2974335\n"
          ],
          "name": "stdout"
        }
      ]
    },
    {
      "cell_type": "code",
      "metadata": {
        "id": "xBvB9r61oUH2",
        "colab_type": "code",
        "outputId": "3e87706f-4eb9-427b-bd39-a27b31eb1909",
        "colab": {
          "base_uri": "https://localhost:8080/",
          "height": 52
        }
      },
      "source": [
        "print(len(df_traffic['End_Lat'].isnull())/(len(df_traffic['End_Lat'])))\n",
        "print(len(df_traffic['End_Lng'].isnull())/(len(df_traffic['End_Lat'])))"
      ],
      "execution_count": 22,
      "outputs": [
        {
          "output_type": "stream",
          "text": [
            "1.0\n",
            "1.0\n"
          ],
          "name": "stdout"
        }
      ]
    },
    {
      "cell_type": "markdown",
      "metadata": {
        "id": "v8rVLdgtouja",
        "colab_type": "text"
      },
      "source": [
        "The 'End_Lat' and 'End_Lng' are all null values so they need to be dropped."
      ]
    },
    {
      "cell_type": "code",
      "metadata": {
        "id": "HCVliMESmU0a",
        "colab_type": "code",
        "colab": {}
      },
      "source": [
        "df_traffic.drop(['End_Lat'], axis=1, inplace=True)\n",
        "df_traffic.drop(['End_Lng'], axis=1, inplace=True)"
      ],
      "execution_count": 0,
      "outputs": []
    },
    {
      "cell_type": "markdown",
      "metadata": {
        "id": "xf0ifThOQF38",
        "colab_type": "text"
      },
      "source": [
        "Since the data involves over 2 million accidents it is important to target States of interest. In my case I am looking for the state with the most accidents, the state with the most category 4 accidents and the state with the highest on average (mean) severity of accidents."
      ]
    },
    {
      "cell_type": "code",
      "metadata": {
        "id": "YY9gd-WMhlfR",
        "colab_type": "code",
        "colab": {}
      },
      "source": [
        "whichstate=df_traffic.State.unique()\n",
        "\n",
        "count_state=[]\n",
        "for i in df_traffic.State.unique():\n",
        "    count_state.append(df_traffic[df_traffic['State']==i].count()['ID'])\n"
      ],
      "execution_count": 0,
      "outputs": []
    },
    {
      "cell_type": "code",
      "metadata": {
        "id": "IJcUjlqYhlfX",
        "colab_type": "code",
        "colab": {}
      },
      "source": [
        ""
      ],
      "execution_count": 0,
      "outputs": []
    },
    {
      "cell_type": "code",
      "metadata": {
        "id": "CiV8VcCghlfe",
        "colab_type": "code",
        "outputId": "3f0109f1-a234-4caf-ca9f-dab12a054464",
        "colab": {
          "base_uri": "https://localhost:8080/",
          "height": 826
        }
      },
      "source": [
        "plt.figure(figsize=(20, 14))\n",
        "sns.barplot(whichstate, count_state)"
      ],
      "execution_count": 25,
      "outputs": [
        {
          "output_type": "execute_result",
          "data": {
            "text/plain": [
              "<matplotlib.axes._subplots.AxesSubplot at 0x7fa767dfab00>"
            ]
          },
          "metadata": {
            "tags": []
          },
          "execution_count": 25
        },
        {
          "output_type": "display_data",
          "data": {
            "image/png": "[encoded data removed]",
            "text/plain": [
              "<Figure size 1440x1008 with 1 Axes>"
            ]
          },
          "metadata": {
            "tags": []
          }
        }
      ]
    },
    {
      "cell_type": "markdown",
      "metadata": {
        "id": "Ufq7qYmzpSXU",
        "colab_type": "text"
      },
      "source": [
        "Excellent, california is definetely a state of interest. Next we will look at the mean of the severity of the accident that the individual States experience. "
      ]
    },
    {
      "cell_type": "code",
      "metadata": {
        "id": "kxKe4wIfhlfl",
        "colab_type": "code",
        "outputId": "e3df4e25-b1f2-49a8-aab4-f265669f8c1b",
        "colab": {
          "base_uri": "https://localhost:8080/",
          "height": 388
        }
      },
      "source": [
        "df_top_Severity_State = df_traffic.groupby('State').agg({'Severity': 'mean'}).sort_values('Severity').reset_index()\n",
        "plt.figure(figsize=(12,6))\n",
        "sns.barplot(y=\"Severity\", x=\"State\", data=df_top_Severity_State.head(10))\n",
        "plt.ioff()"
      ],
      "execution_count": 26,
      "outputs": [
        {
          "output_type": "display_data",
          "data": {
            "image/png": "[encoded data removed]",
            "text/plain": [
              "<Figure size 864x432 with 1 Axes>"
            ]
          },
          "metadata": {
            "tags": []
          }
        }
      ]
    },
    {
      "cell_type": "markdown",
      "metadata": {
        "id": "2Cd6i0k0RKut",
        "colab_type": "text"
      },
      "source": [
        "Arizona is definitely a state of interest. Texas is also a state of interest since Texas has a large number of accidents and yet it's mean is still in second place."
      ]
    },
    {
      "cell_type": "code",
      "metadata": {
        "id": "Z-5mm3VShlft",
        "colab_type": "code",
        "colab": {}
      },
      "source": [
        "severity_4=[]\n",
        "for i in whichstate:\n",
        "    severity_4.append(df_traffic[(df_traffic['Severity']==4)&(df_traffic['State']==i)].count()['ID'])"
      ],
      "execution_count": 0,
      "outputs": []
    },
    {
      "cell_type": "code",
      "metadata": {
        "id": "Sx1dGC8ChlgX",
        "colab_type": "code",
        "outputId": "9ce80eba-3320-464b-fe39-15552d107bc9",
        "colab": {
          "base_uri": "https://localhost:8080/",
          "height": 826
        }
      },
      "source": [
        "plt.figure(figsize=(20, 14))\n",
        "plt.bar(whichstate, severity_4, label= 'Severity 4', color= 'red')\n",
        "plt.legend()"
      ],
      "execution_count": 28,
      "outputs": [
        {
          "output_type": "execute_result",
          "data": {
            "text/plain": [
              "<matplotlib.legend.Legend at 0x7fa767dfa828>"
            ]
          },
          "metadata": {
            "tags": []
          },
          "execution_count": 28
        },
        {
          "output_type": "display_data",
          "data": {
            "image/png": "[encoded data removed]",
            "text/plain": [
              "<Figure size 1440x1008 with 1 Axes>"
            ]
          },
          "metadata": {
            "tags": []
          }
        }
      ]
    },
    {
      "cell_type": "markdown",
      "metadata": {
        "id": "1C4fLM_Jhlge",
        "colab_type": "text"
      },
      "source": [
        "From my analysis, Florida may not have the most accidents but it certainely has the most severe accidents. Of note Georgia has the second highest number of severity four accidents so therefore Georgia is also a state of interest. Let's check to see if different features are correllated with eachother."
      ]
    },
    {
      "cell_type": "code",
      "metadata": {
        "id": "Wr8sIN_LSOUM",
        "colab_type": "code",
        "outputId": "c32a673c-0312-4154-d606-2231d123f29b",
        "colab": {
          "base_uri": "https://localhost:8080/",
          "height": 34
        }
      },
      "source": [
        "df_traffic.shape"
      ],
      "execution_count": 29,
      "outputs": [
        {
          "output_type": "execute_result",
          "data": {
            "text/plain": [
              "(2974335, 46)"
            ]
          },
          "metadata": {
            "tags": []
          },
          "execution_count": 29
        }
      ]
    },
    {
      "cell_type": "code",
      "metadata": {
        "id": "1NOYXLtKSuTD",
        "colab_type": "code",
        "colab": {}
      },
      "source": [
        "\"\"\"\n",
        "since we have longitude and latitude we do not need number, street, county, zipcode. State and city will be useful for finding our target states to analyze and the city variable is nice to \n",
        "map out a centroid of each city and the differences between accidents and centers of the centroids\n",
        "\"\"\"\n",
        "df_traffic.drop(['Number'], axis=1, inplace=True)\n",
        "df_traffic.drop(['Street'], axis=1, inplace=True)\n",
        "df_traffic.drop(['County'], axis=1, inplace=True)\n",
        "df_traffic.drop(['Zipcode'], axis=1, inplace=True)\n",
        "\n",
        "df_traffic.shape"
      ],
      "execution_count": 0,
      "outputs": []
    },
    {
      "cell_type": "code",
      "metadata": {
        "id": "rbeV0VEvTLb-",
        "colab_type": "code",
        "colab": {}
      },
      "source": [
        "df_traffic.columns"
      ],
      "execution_count": 0,
      "outputs": []
    },
    {
      "cell_type": "code",
      "metadata": {
        "id": "_3hLW4xATLoc",
        "colab_type": "code",
        "colab": {}
      },
      "source": [
        "#lets check numerical correlation to see what our results are\n",
        "corr=df_traffic.corr()\n",
        "cmap = sns.diverging_palette(220, 10, as_cmap=True)\n",
        "\n",
        "size=plt.figure(figsize=(80,30))\n",
        "\n",
        "sns.heatmap(corr, cmap=cmap, square='true', center=0)"
      ],
      "execution_count": 0,
      "outputs": []
    },
    {
      "cell_type": "markdown",
      "metadata": {
        "id": "1cSnsyiVaGmo",
        "colab_type": "text"
      },
      "source": [
        "It looks like TMC, Start Lat, Start Lng, Distance, Wind Chill, Amenity, Crossing, Junction, Station, Stop, and Traffic Signal all have some level of correllation with Severity. "
      ]
    },
    {
      "cell_type": "code",
      "metadata": {
        "id": "oixTjQywWbUM",
        "colab_type": "code",
        "colab": {}
      },
      "source": [
        ""
      ],
      "execution_count": 0,
      "outputs": []
    },
    {
      "cell_type": "code",
      "metadata": {
        "id": "_VjymAkIWbb4",
        "colab_type": "code",
        "colab": {}
      },
      "source": [
        ""
      ],
      "execution_count": 0,
      "outputs": []
    },
    {
      "cell_type": "code",
      "metadata": {
        "id": "U-8k5KNphlgt",
        "colab_type": "code",
        "colab": {}
      },
      "source": [
        "bool_col= [col for col in df_traffic.columns if df_traffic[col].dtype ==np.dtype('bool')]\n",
        "booldf= df_traffic[bool_col]\n",
        "not_one_hot= booldf[booldf.sum(axis=1)>1]\n",
        "accidentlocation=booldf.sum(axis=0)\n"
      ],
      "execution_count": 0,
      "outputs": []
    },
    {
      "cell_type": "code",
      "metadata": {
        "id": "DpzO2MmThlgx",
        "colab_type": "code",
        "colab": {}
      },
      "source": [
        "accidentlocation"
      ],
      "execution_count": 0,
      "outputs": []
    },
    {
      "cell_type": "code",
      "metadata": {
        "id": "AQZHdZo6hlg4",
        "colab_type": "code",
        "colab": {}
      },
      "source": [
        "accidentlocation.plot.pie(autopct='%1.1f%%', shadow=True, figsize=(15,15))\n",
        "plt.ylabel('')\n",
        "plt.title('Proximity to Traffic Object');"
      ],
      "execution_count": 0,
      "outputs": []
    },
    {
      "cell_type": "markdown",
      "metadata": {
        "id": "upG1evsxhlg_",
        "colab_type": "text"
      },
      "source": [
        "Now that we have examined common occurences and trends within the accident data it is time to look at the data in terms of time series."
      ]
    },
    {
      "cell_type": "markdown",
      "metadata": {
        "id": "g5nHpCn9hlg_",
        "colab_type": "text"
      },
      "source": [
        "https://pandas.pydata.org/pandas-docs/stable/reference/api/pandas.to_datetime.html\n",
        "Datetime is useful for handling time series data"
      ]
    },
    {
      "cell_type": "code",
      "metadata": {
        "id": "ZP9XWEYHhlhB",
        "colab_type": "code",
        "colab": {}
      },
      "source": [
        "df_traffic['time'] = pd.to_datetime(df_traffic.Start_Time, format='%Y-%m-%d')\n",
        "df_traffic = df_traffic.set_index('time')\n",
        "df_traffic.head()"
      ],
      "execution_count": 0,
      "outputs": []
    },
    {
      "cell_type": "code",
      "metadata": {
        "id": "en-FBALdhlhG",
        "colab_type": "code",
        "colab": {}
      },
      "source": [
        "df_traffic.isnull().sum()"
      ],
      "execution_count": 0,
      "outputs": []
    },
    {
      "cell_type": "markdown",
      "metadata": {
        "id": "Y6wC-1u9hlhL",
        "colab_type": "text"
      },
      "source": [
        "The good news is that there are no NaN values for Start_Time so therefore I may proceed with plotting accidents per day without imputing."
      ]
    },
    {
      "cell_type": "code",
      "metadata": {
        "id": "z55PnibChlhN",
        "colab_type": "code",
        "colab": {}
      },
      "source": [
        "freq= {'D':'Daily'}\n",
        "plt.subplots(1,1,figsize=(21, 7))\n",
        "for i, (fr, text) in enumerate(freq.items(), 1):\n",
        "    plt.subplot(1,1,i)\n",
        "    sampleid=df_traffic.ID['2016':].resample(fr).count()\n",
        "    sampleid.plot(style='.')\n",
        "    plt.title('Accident, {} count'.format(text))\n",
        "    plt.xlabel('Date')\n",
        "    plt.ylabel('Accident Count');"
      ],
      "execution_count": 0,
      "outputs": []
    },
    {
      "cell_type": "markdown",
      "metadata": {
        "id": "NnQKVtbwmB1h",
        "colab_type": "text"
      },
      "source": [
        "Now we can look at the geographic data by utilizing the geopandas library."
      ]
    },
    {
      "cell_type": "code",
      "metadata": {
        "id": "Z0_bY9njqS-y",
        "colab_type": "code",
        "colab": {}
      },
      "source": [
        "df_florida= df_traffic.loc[(df_traffic['State']=='FL')][['ID', 'Start_Lat', 'Start_Lng', 'Severity']]\n",
        "df_florida.head()"
      ],
      "execution_count": 0,
      "outputs": []
    },
    {
      "cell_type": "code",
      "metadata": {
        "id": "dzUJrCzcibVj",
        "colab_type": "code",
        "colab": {}
      },
      "source": [
        "df_florida.shape"
      ],
      "execution_count": 0,
      "outputs": []
    },
    {
      "cell_type": "code",
      "metadata": {
        "id": "oPnBnFPtAnRl",
        "colab_type": "code",
        "colab": {}
      },
      "source": [
        "def create_gdf(df_florida, lat, lon):\n",
        "    \"\"\" Convert pandas dataframe into a Geopandas GeoDataFrame\"\"\"\n",
        "    crs = {'init': 'epsg:4326'}\n",
        "    geometry = [Point(xy) for xy in zip(df_florida['Start_Lng'], df_florida['Start_Lat'])]\n",
        "    gdf = gpd.GeoDataFrame(df_florida, crs= crs , geometry=geometry)\n",
        "    return gdf\n",
        "fl_gdf =  create_gdf(df_florida, \"latitude\", \"longitude\")\n",
        "fl_gdf.tail()"
      ],
      "execution_count": 0,
      "outputs": []
    },
    {
      "cell_type": "markdown",
      "metadata": {
        "id": "O6HqPrpuGHXD",
        "colab_type": "text"
      },
      "source": [
        "With a geopandas dataframe we can potentially create a centroid or cluster with K means clustering."
      ]
    },
    {
      "cell_type": "code",
      "metadata": {
        "id": "z3YRtziSh1sz",
        "colab_type": "code",
        "colab": {}
      },
      "source": [
        "\"\"\"\n",
        "map1 = folium.Map(\n",
        "    location=[27.6648, -81.5158],\n",
        "    tiles='cartodbpositron',\n",
        "    zoom_start=8,\n",
        ")\n",
        "fl_gdf.apply(lambda row:folium.CircleMarker(location=[row[\"Start_Lat\"], row[\"Start_Lng\"]]).add_to(map1), axis=1)\n",
        "map1\n",
        "\"\"\""
      ],
      "execution_count": 0,
      "outputs": []
    },
    {
      "cell_type": "code",
      "metadata": {
        "id": "0vtoTdQCDbnw",
        "colab_type": "code",
        "colab": {}
      },
      "source": [
        "df_floridatrain= df_traffic.loc[(df_traffic['State']=='FL')&(df_traffic['Severity']==4)][['ID', 'Start_Lat', 'Start_Lng']]\n",
        "df_floridatrain.shape"
      ],
      "execution_count": 0,
      "outputs": []
    },
    {
      "cell_type": "code",
      "metadata": {
        "id": "Au2N5pPezvrP",
        "colab_type": "code",
        "colab": {}
      },
      "source": [
        ""
      ],
      "execution_count": 0,
      "outputs": []
    },
    {
      "cell_type": "code",
      "metadata": {
        "id": "A4LbB5QUDb1O",
        "colab_type": "code",
        "colab": {}
      },
      "source": [
        "# creates 100 clusters using k-means clustering algorithm.\n",
        "kmeans = KMeans(100)\n",
        "clusters = kmeans.fit_predict(df_floridatrain[['Start_Lat','Start_Lng']])"
      ],
      "execution_count": 0,
      "outputs": []
    },
    {
      "cell_type": "code",
      "metadata": {
        "id": "-5g8Y8maz6Z1",
        "colab_type": "code",
        "colab": {}
      },
      "source": [
        "df_floridatrain['cluster'] = kmeans.predict(df_floridatrain[['Start_Lat','Start_Lng']])\n",
        "df_floridatrain.head()"
      ],
      "execution_count": 0,
      "outputs": []
    },
    {
      "cell_type": "markdown",
      "metadata": {
        "id": "dNQpQmAn1ohK",
        "colab_type": "text"
      },
      "source": [
        "Now that we have some clusters it is ideal if we plot the worst accidents with their clusters."
      ]
    },
    {
      "cell_type": "code",
      "metadata": {
        "id": "qor0xT9m1i0e",
        "colab_type": "code",
        "colab": {}
      },
      "source": [
        "plt.figure(figsize = (20,20))\n",
        "sns.scatterplot(df_floridatrain['Start_Lng'], df_floridatrain['Start_Lat'], hue=df_floridatrain['cluster'])"
      ],
      "execution_count": 0,
      "outputs": []
    },
    {
      "cell_type": "code",
      "metadata": {
        "id": "fUhclfpj-qKM",
        "colab_type": "code",
        "colab": {}
      },
      "source": [
        "def create_gdf(df_floridatrain, lat, lon):\n",
        "    \"\"\" Convert pandas dataframe into a Geopandas GeoDataFrame\"\"\"\n",
        "    crs = {'init': 'epsg:4326'}\n",
        "    geometry = [Point(xy) for xy in zip(df_floridatrain['Start_Lng'], df_floridatrain['Start_Lat'])]\n",
        "    gdf2 = gpd.GeoDataFrame(df_floridatrain, crs= crs , geometry=geometry)\n",
        "    return gdf2\n",
        "fl_gdf2 =  create_gdf(df_floridatrain, \"latitude\", \"longitude\")\n",
        "fl_gdf2.tail()"
      ],
      "execution_count": 0,
      "outputs": []
    },
    {
      "cell_type": "markdown",
      "metadata": {
        "id": "H3sLV8xs-_fi",
        "colab_type": "text"
      },
      "source": [
        "Now that we have a geodata frame for Florida it makes sense to find the centroids of the clusters"
      ]
    },
    {
      "cell_type": "code",
      "metadata": {
        "id": "oKsZaKKB_ff5",
        "colab_type": "code",
        "colab": {}
      },
      "source": [
        "clusters = pd.Series([coords[cluster_labels == n] for n in range(num_clusters)])\n",
        "print('Number of clusters: {}'.format(num_clusters))\n",
        "def get_centermost_point(cluster):\n",
        "    centroid = (MultiPoint(cluster).centroid.x, MultiPoint(cluster).centroid.y)\n",
        "    centermost_point = min(cluster, key=lambda point: great_circle(point, centroid).m)\n",
        "    return tuple(centermost_point)\n",
        "centermost_points = clusters.map(get_centermost_point)"
      ],
      "execution_count": 0,
      "outputs": []
    },
    {
      "cell_type": "code",
      "metadata": {
        "id": "ICzJursp_fkt",
        "colab_type": "code",
        "colab": {}
      },
      "source": [
        ""
      ],
      "execution_count": 0,
      "outputs": []
    },
    {
      "cell_type": "code",
      "metadata": {
        "id": "ByBI6iV9_fob",
        "colab_type": "code",
        "colab": {}
      },
      "source": [
        ""
      ],
      "execution_count": 0,
      "outputs": []
    },
    {
      "cell_type": "code",
      "metadata": {
        "id": "X09RPmMP1IgX",
        "colab_type": "code",
        "colab": {}
      },
      "source": [
        "\"\"\"\n",
        "mapcluster = folium.Map(\n",
        "    location=[27.6648, -81.5158],\n",
        "    tiles='cartodbpositron',\n",
        "    zoom_start=8,\n",
        ")\n",
        "fl_gdf.apply(lambda row:folium.CircleMarker(location=[row[\"Start_Lat\"], row[\"Start_Lng\"]]).add_to(map1), axis=1)\n",
        "map1\n",
        "\"\"\""
      ],
      "execution_count": 0,
      "outputs": []
    },
    {
      "cell_type": "code",
      "metadata": {
        "id": "B2wjPWaExI56",
        "colab_type": "code",
        "colab": {}
      },
      "source": [
        "\"\"\"\n",
        "map2 = folium.Map(\n",
        "    location=[34.0489, -111.0937],\n",
        "    tiles='cartodbpositron',\n",
        "    zoom_start=8,\n",
        ")\n",
        "df_arizona.apply(lambda row:folium.CircleMarker(location=[row[\"Start_Lat\"], row[\"Start_Lng\"]]).add_to(map1), axis=1)\n",
        "map2\n",
        "\"\"\""
      ],
      "execution_count": 0,
      "outputs": []
    },
    {
      "cell_type": "code",
      "metadata": {
        "id": "6Je1dJmU7mSR",
        "colab_type": "code",
        "colab": {}
      },
      "source": [
        "\"\"\"\n",
        "map3 = folium.Map(\n",
        "    location=[36.7783, -119.4179],\n",
        "    tiles='cartodbpositron',\n",
        "    zoom_start=8,\n",
        ")\n",
        "df_california.apply(lambda row:folium.CircleMarker(location=[row[\"Start_Lat\"], row[\"Start_Lng\"]]).add_to(map1), axis=1)\n",
        "map3\n",
        "\"\"\""
      ],
      "execution_count": 0,
      "outputs": []
    },
    {
      "cell_type": "code",
      "metadata": {
        "id": "xbkcdIaW6Q-y",
        "colab_type": "code",
        "colab": {}
      },
      "source": [
        ""
      ],
      "execution_count": 0,
      "outputs": []
    },
    {
      "cell_type": "markdown",
      "metadata": {
        "id": "8oJljRTV9Nt_",
        "colab_type": "text"
      },
      "source": [
        "Now that we have conducted preliminary analysis of the data and have found a target variable of severity and locations let's use K nearest neighbor clustering to predict problem areas that need attention. I also would like to know if there are features that are prevalent with these clusters."
      ]
    },
    {
      "cell_type": "code",
      "metadata": {
        "id": "DMuqN4yVqlOW",
        "colab_type": "code",
        "colab": {}
      },
      "source": [
        ""
      ],
      "execution_count": 0,
      "outputs": []
    },
    {
      "cell_type": "code",
      "metadata": {
        "id": "bFjoP6khIGRN",
        "colab_type": "code",
        "colab": {}
      },
      "source": [
        "\"\"\"\n",
        "from shapely.ops import nearest_points\n",
        "\n",
        "gdf['nearestpoints']=nearest_points(gdf['geometry'], gdf['centroid'],)\n",
        "\"\"\""
      ],
      "execution_count": 0,
      "outputs": []
    },
    {
      "cell_type": "markdown",
      "metadata": {
        "id": "VevOt4ExMfQd",
        "colab_type": "text"
      },
      "source": [
        "Let's try a new tactic to conduct KNN. So now we will check to see if location increases any type of severity and where to place officials to address accidents efficiently."
      ]
    },
    {
      "cell_type": "code",
      "metadata": {
        "colab_type": "code",
        "id": "bIQ1s_cEGzZx",
        "colab": {}
      },
      "source": [
        "df_florida=df_traffic.loc[(df_traffic['State']=='FL')][['ID', 'Start_Lng', 'Start_Lat', 'Severity']]\n",
        "df_florida.tail()"
      ],
      "execution_count": 0,
      "outputs": []
    },
    {
      "cell_type": "code",
      "metadata": {
        "colab_type": "code",
        "id": "9Ev2IOtSGzNk",
        "colab": {}
      },
      "source": [
        "X=pd.concat([df_florida['Start_Lat'],df_florida['Start_Lng']],axis=1)\n",
        "X.head()\n",
        "X.shape()"
      ],
      "execution_count": 0,
      "outputs": []
    },
    {
      "cell_type": "code",
      "metadata": {
        "colab_type": "code",
        "id": "LzCkU67CGy-O",
        "colab": {}
      },
      "source": [
        "y=df_florida['Severity']\n",
        "y.head()"
      ],
      "execution_count": 0,
      "outputs": []
    },
    {
      "cell_type": "code",
      "metadata": {
        "colab_type": "code",
        "id": "eLKYczSCGyul",
        "colab": {}
      },
      "source": [
        "X_train, X_test, y_train, y_test = train_test_split(X, y, test_size=0.33, random_state=100)\n",
        "neigh = KNeighborsClassifier(n_neighbors=100)\n",
        "neigh.fit(X_train, y_train)"
      ],
      "execution_count": 0,
      "outputs": []
    },
    {
      "cell_type": "code",
      "metadata": {
        "id": "kt2T_OmIGygX",
        "colab_type": "code",
        "colab": {}
      },
      "source": [
        ""
      ],
      "execution_count": 0,
      "outputs": []
    },
    {
      "cell_type": "code",
      "metadata": {
        "id": "7ppqImQCGyoC",
        "colab_type": "code",
        "colab": {}
      },
      "source": [
        ""
      ],
      "execution_count": 0,
      "outputs": []
    },
    {
      "cell_type": "code",
      "metadata": {
        "id": "14CXr0w9GyyT",
        "colab_type": "code",
        "colab": {}
      },
      "source": [
        ""
      ],
      "execution_count": 0,
      "outputs": []
    },
    {
      "cell_type": "markdown",
      "metadata": {
        "id": "gEO2jD8nm7A0",
        "colab_type": "text"
      },
      "source": [
        "Now that I have obtained the accuracy and loss of data that this model takes in for Florida, I will now try it for Arizona. I will run KNN for Arizona and California as well. I would like to potentially see if my IDE Integrated Drive Electronics will allow me to test the entirety of the United states as well. I also would like to get the coordinates of these clusters."
      ]
    },
    {
      "cell_type": "code",
      "metadata": {
        "id": "RK5MQ-zhFvxv",
        "colab_type": "code",
        "colab": {}
      },
      "source": [
        ""
      ],
      "execution_count": 0,
      "outputs": []
    },
    {
      "cell_type": "markdown",
      "metadata": {
        "id": "LInttnef1ZyU",
        "colab_type": "text"
      },
      "source": [
        "https://campus.datacamp.com/courses/visualizing-geospatial-data-in-python/creating-and-joining-geodataframes?ex=5\n",
        "\n",
        "This is a great source for understanding coordinate reference systems."
      ]
    },
    {
      "cell_type": "markdown",
      "metadata": {
        "id": "jauLEDjh8q9I",
        "colab_type": "text"
      },
      "source": [
        "https://medium.com/datadriveninvestor/k-nearest-neighbors-knn-7b4bd0128da7\n",
        "\n",
        "This article explains K nearest neighbor."
      ]
    },
    {
      "cell_type": "markdown",
      "metadata": {
        "id": "qTjKI8Gy8wb3",
        "colab_type": "text"
      },
      "source": [
        "https://towardsdatascience.com/nearest-neighbour-analysis-with-geospatial-data-7bcd95f34c0e\n",
        "\n",
        "This article assists with implementing k nearest neighbor for geo spatial data."
      ]
    },
    {
      "cell_type": "markdown",
      "metadata": {
        "id": "49rIfCnyAz-z",
        "colab_type": "text"
      },
      "source": [
        "https://automating-gis-processes.github.io/2017/lessons/L3/nearest-neighbour.html\n",
        "\n",
        "https://gist.github.com/shakasom/382a5cc0c59e24fdae29679de6d7e88a\n",
        "\n",
        "This documentation assists with implementing k nearest neighbor for geo spatial data."
      ]
    },
    {
      "cell_type": "markdown",
      "metadata": {
        "id": "zHJyf3UJ8p0R",
        "colab_type": "text"
      },
      "source": [
        "https://medium.com/datadriveninvestor/k-fold-and-other-cross-validation-techniques-6c03a2563f1e\n",
        "\n",
        "This article explains evaluation of K nearest neighbor."
      ]
    },
    {
      "cell_type": "markdown",
      "metadata": {
        "id": "SE7dSuySIPRf",
        "colab_type": "text"
      },
      "source": [
        "http://geopandas.org/gallery/create_geopandas_from_pandas.html#sphx-glr-gallery-create-geopandas-from-pandas-py\n",
        "\n",
        "this documentation is useful for creating centroids"
      ]
    },
    {
      "cell_type": "markdown",
      "metadata": {
        "id": "JJW1DyxUh_T1",
        "colab_type": "text"
      },
      "source": [
        "Moosavi, Sobhan, Mohammad Hossein Samavatian, Srinivasan Parthasarathy, and Rajiv Ramnath. “A Countrywide Traffic Accident Dataset.”, 2019.\n",
        "\n",
        "Moosavi, Sobhan, Mohammad Hossein Samavatian, Srinivasan Parthasarathy, Radu Teodorescu, and Rajiv Ramnath. \"Accident Risk Prediction based on Heterogeneous Sparse Data: New Dataset and Insights.\" In proceedings of the 27th ACM SIGSPATIAL International Conference on Advances in Geographic Information Systems, ACM, 2019."
      ]
    },
    {
      "cell_type": "code",
      "metadata": {
        "id": "mWnrkKh5c3rd",
        "colab_type": "code",
        "colab": {}
      },
      "source": [
        ""
      ],
      "execution_count": 0,
      "outputs": []
    }
  ]
}