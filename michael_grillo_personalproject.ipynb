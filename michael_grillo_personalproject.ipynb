{
  "nbformat": 4,
  "nbformat_minor": 0,
  "metadata": {
    "kernelspec": {
      "name": "python3",
      "display_name": "Python 3"
    },
    "language_info": {
      "codemirror_mode": {
        "name": "ipython",
        "version": 3
      },
      "file_extension": ".py",
      "mimetype": "text/x-python",
      "name": "python",
      "nbconvert_exporter": "python",
      "pygments_lexer": "ipython3",
      "version": "3.7.4"
    },
    "colab": {
      "name": "michael_grillo_personalproject.ipynb",
      "provenance": [],
      "collapsed_sections": [],
      "machine_shape": "hm",
      "include_colab_link": true
    },
    "accelerator": "GPU"
  },
  "cells": [
    {
      "cell_type": "markdown",
      "metadata": {
        "id": "view-in-github",
        "colab_type": "text"
      },
      "source": [
        "<a href=\"https://colab.research.google.com/github/Mvgrillo1357/Ai-Platform-Engineering/blob/master/michael_grillo_personalproject.ipynb\" target=\"_parent\"><img src=\"https://colab.research.google.com/assets/colab-badge.svg\" alt=\"Open In Colab\"/></a>"
      ]
    },
    {
      "cell_type": "markdown",
      "metadata": {
        "id": "AzktjbmPhlce",
        "colab_type": "text"
      },
      "source": [
        "# Personal Project"
      ]
    },
    {
      "cell_type": "code",
      "metadata": {
        "id": "55mAlPf3xHQt",
        "colab_type": "code",
        "outputId": "d9de4e49-7020-4552-a3d1-e7ef515022b4",
        "colab": {
          "base_uri": "https://localhost:8080/",
          "height": 208
        }
      },
      "source": [
        "# Colab library to upload files to notebook\n",
        "from google.colab import files\n",
        "\n",
        "# Install Kaggle library\n",
        "!pip install kaggle"
      ],
      "execution_count": 8,
      "outputs": [
        {
          "output_type": "stream",
          "text": [
            "Requirement already satisfied: kaggle in /usr/local/lib/python3.6/dist-packages (1.5.6)\n",
            "Requirement already satisfied: urllib3<1.25,>=1.21.1 in /usr/local/lib/python3.6/dist-packages (from kaggle) (1.24.3)\n",
            "Requirement already satisfied: six>=1.10 in /usr/local/lib/python3.6/dist-packages (from kaggle) (1.12.0)\n",
            "Requirement already satisfied: requests in /usr/local/lib/python3.6/dist-packages (from kaggle) (2.21.0)\n",
            "Requirement already satisfied: tqdm in /usr/local/lib/python3.6/dist-packages (from kaggle) (4.28.1)\n",
            "Requirement already satisfied: python-dateutil in /usr/local/lib/python3.6/dist-packages (from kaggle) (2.6.1)\n",
            "Requirement already satisfied: python-slugify in /usr/local/lib/python3.6/dist-packages (from kaggle) (4.0.0)\n",
            "Requirement already satisfied: certifi in /usr/local/lib/python3.6/dist-packages (from kaggle) (2019.11.28)\n",
            "Requirement already satisfied: chardet<3.1.0,>=3.0.2 in /usr/local/lib/python3.6/dist-packages (from requests->kaggle) (3.0.4)\n",
            "Requirement already satisfied: idna<2.9,>=2.5 in /usr/local/lib/python3.6/dist-packages (from requests->kaggle) (2.8)\n",
            "Requirement already satisfied: text-unidecode>=1.3 in /usr/local/lib/python3.6/dist-packages (from python-slugify->kaggle) (1.3)\n"
          ],
          "name": "stdout"
        }
      ]
    },
    {
      "cell_type": "code",
      "metadata": {
        "id": "DXe1Q2GCb-YZ",
        "colab_type": "code",
        "colab": {}
      },
      "source": [
        "!mkdir .kaggle\n",
        "!mkdir ~/.kaggle"
      ],
      "execution_count": 0,
      "outputs": []
    },
    {
      "cell_type": "code",
      "metadata": {
        "id": "ZL6ZBxUicH7N",
        "colab_type": "code",
        "colab": {}
      },
      "source": [
        "import json\n",
        "token = {\"username\":\"michaelgrillo\",\"key\":\"1b1b61b21b7bd669c2b170bf718b9cd8\"}\n",
        "with open ('/content/.kaggle/kaggle.json', 'w') as file:\n",
        "  json.dump(token, file)"
      ],
      "execution_count": 0,
      "outputs": []
    },
    {
      "cell_type": "code",
      "metadata": {
        "id": "dtd3uU1IcIMU",
        "colab_type": "code",
        "colab": {}
      },
      "source": [
        "!chmod 600 /content/.kaggle/kaggle.json"
      ],
      "execution_count": 0,
      "outputs": []
    },
    {
      "cell_type": "code",
      "metadata": {
        "id": "cQCx8ytpcHwa",
        "colab_type": "code",
        "colab": {}
      },
      "source": [
        "!cp /content/.kaggle/kaggle.json ~/.kaggle/kaggle.json"
      ],
      "execution_count": 0,
      "outputs": []
    },
    {
      "cell_type": "code",
      "metadata": {
        "id": "Td448yXPcS51",
        "colab_type": "code",
        "outputId": "f71a39fc-6142-45fa-addc-5fb9e67ad94c",
        "colab": {
          "base_uri": "https://localhost:8080/",
          "height": 34
        }
      },
      "source": [
        "!kaggle config set -n path -v{/content}"
      ],
      "execution_count": 13,
      "outputs": [
        {
          "output_type": "stream",
          "text": [
            "- path is now set to: {/content}\n"
          ],
          "name": "stdout"
        }
      ]
    },
    {
      "cell_type": "code",
      "metadata": {
        "id": "7v3dV80CcTbE",
        "colab_type": "code",
        "outputId": "22a2f855-7652-49a8-f8a5-886cf91af8e8",
        "colab": {
          "base_uri": "https://localhost:8080/",
          "height": 69
        }
      },
      "source": [
        "!kaggle datasets download -d sobhanmoosavi/us-accidents -p /content --force"
      ],
      "execution_count": 14,
      "outputs": [
        {
          "output_type": "stream",
          "text": [
            "Downloading us-accidents.zip to /content\n",
            " 97% 192M/199M [00:01<00:00, 148MB/s]\n",
            "100% 199M/199M [00:01<00:00, 158MB/s]\n"
          ],
          "name": "stdout"
        }
      ]
    },
    {
      "cell_type": "code",
      "metadata": {
        "id": "vGIqUYAOc83D",
        "colab_type": "code",
        "outputId": "8abf29ca-0ed1-4c60-ea1a-a8a90dc6c176",
        "colab": {
          "base_uri": "https://localhost:8080/",
          "height": 52
        }
      },
      "source": [
        "!unzip \\*.zip"
      ],
      "execution_count": 15,
      "outputs": [
        {
          "output_type": "stream",
          "text": [
            "Archive:  us-accidents.zip\n",
            "  inflating: US_Accidents_Dec19.csv  \n"
          ],
          "name": "stdout"
        }
      ]
    },
    {
      "cell_type": "code",
      "metadata": {
        "id": "oqoZYrvqc9P8",
        "colab_type": "code",
        "outputId": "461b0a0f-391c-4ee0-f0e5-59edd2cd97e9",
        "colab": {
          "base_uri": "https://localhost:8080/",
          "height": 34
        }
      },
      "source": [
        "!ls"
      ],
      "execution_count": 98,
      "outputs": [
        {
          "output_type": "stream",
          "text": [
            "sample_data  US_Accidents_Dec19.csv  us-accidents.zip\n"
          ],
          "name": "stdout"
        }
      ]
    },
    {
      "cell_type": "code",
      "metadata": {
        "id": "Ha77Uol-xLOz",
        "colab_type": "code",
        "outputId": "45d00ec7-b905-49d5-b0e1-86a62da8903d",
        "colab": {
          "base_uri": "https://localhost:8080/",
          "height": 260
        }
      },
      "source": [
        "import pandas as pd\n",
        "import matplotlib.pyplot as plt\n",
        "import seaborn as sns\n",
        "import numpy as np\n",
        "from sklearn.neighbors import KNeighborsClassifier\n",
        "from sklearn.model_selection import train_test_split\n",
        "import scipy as sp\n",
        "!pip install geopandas\n",
        "import sklearn as skl\n",
        "import geopandas as gpd\n",
        "import geopy\n",
        "import folium\n",
        "from shapely.geometry import Point, Polygon\n",
        "from sklearn.cluster import KMeans\n",
        "from shapely.ops import nearest_points\n",
        "from geopy.geocoders import Nominatim"
      ],
      "execution_count": 17,
      "outputs": [
        {
          "output_type": "stream",
          "text": [
            "Requirement already satisfied: geopandas in /usr/local/lib/python3.6/dist-packages (0.6.3)\n",
            "Requirement already satisfied: shapely in /usr/local/lib/python3.6/dist-packages (from geopandas) (1.7.0)\n",
            "Requirement already satisfied: fiona in /usr/local/lib/python3.6/dist-packages (from geopandas) (1.8.13)\n",
            "Requirement already satisfied: pyproj in /usr/local/lib/python3.6/dist-packages (from geopandas) (2.4.2.post1)\n",
            "Requirement already satisfied: pandas>=0.23.0 in /usr/local/lib/python3.6/dist-packages (from geopandas) (0.25.3)\n",
            "Requirement already satisfied: six>=1.7 in /usr/local/lib/python3.6/dist-packages (from fiona->geopandas) (1.12.0)\n",
            "Requirement already satisfied: munch in /usr/local/lib/python3.6/dist-packages (from fiona->geopandas) (2.5.0)\n",
            "Requirement already satisfied: attrs>=17 in /usr/local/lib/python3.6/dist-packages (from fiona->geopandas) (19.3.0)\n",
            "Requirement already satisfied: click-plugins>=1.0 in /usr/local/lib/python3.6/dist-packages (from fiona->geopandas) (1.1.1)\n",
            "Requirement already satisfied: cligj>=0.5 in /usr/local/lib/python3.6/dist-packages (from fiona->geopandas) (0.5.0)\n",
            "Requirement already satisfied: click<8,>=4.0 in /usr/local/lib/python3.6/dist-packages (from fiona->geopandas) (7.0)\n",
            "Requirement already satisfied: numpy>=1.13.3 in /usr/local/lib/python3.6/dist-packages (from pandas>=0.23.0->geopandas) (1.17.5)\n",
            "Requirement already satisfied: pytz>=2017.2 in /usr/local/lib/python3.6/dist-packages (from pandas>=0.23.0->geopandas) (2018.9)\n",
            "Requirement already satisfied: python-dateutil>=2.6.1 in /usr/local/lib/python3.6/dist-packages (from pandas>=0.23.0->geopandas) (2.6.1)\n"
          ],
          "name": "stdout"
        }
      ]
    },
    {
      "cell_type": "code",
      "metadata": {
        "id": "Bna4HNi2s1TX",
        "colab_type": "code",
        "colab": {}
      },
      "source": [
        "import io\n",
        "df_traffic = pd.read_csv('US_Accidents_Dec19.csv')\n"
      ],
      "execution_count": 0,
      "outputs": []
    },
    {
      "cell_type": "markdown",
      "metadata": {
        "id": "nt00or5lhlc9",
        "colab_type": "text"
      },
      "source": [
        "For my personal individual project I would like to use machine learning in order to find trends over an extensive dataset which documents all traffic violations in 49 states of the United States collected from February 2016 to December 2019. The data set used was gathered from https://www.kaggle.com/sobhanmoosavi/us-accidents. By deploying a machine learning model that can predict trends and categorize variables I will be able be able to make predictive geographic clustering."
      ]
    },
    {
      "cell_type": "markdown",
      "metadata": {
        "id": "CZzhwyEyhldC",
        "colab_type": "text"
      },
      "source": [
        "https://smoosavi.org/datasets/us_accidents\n",
        "    this link defines the various variables of the dataset. This dataset is a live document but I used the data that lasted from February 2016 to December 2019."
      ]
    },
    {
      "cell_type": "code",
      "metadata": {
        "id": "MlzDNuX6hldp",
        "colab_type": "code",
        "outputId": "e99dddc8-653a-41ff-8601-a60efd44c08a",
        "colab": {
          "base_uri": "https://localhost:8080/",
          "height": 570
        }
      },
      "source": [
        "df_traffic.head()"
      ],
      "execution_count": 99,
      "outputs": [
        {
          "output_type": "execute_result",
          "data": {
            "text/html": [
              "<div>\n",
              "<style scoped>\n",
              "    .dataframe tbody tr th:only-of-type {\n",
              "        vertical-align: middle;\n",
              "    }\n",
              "\n",
              "    .dataframe tbody tr th {\n",
              "        vertical-align: top;\n",
              "    }\n",
              "\n",
              "    .dataframe thead th {\n",
              "        text-align: right;\n",
              "    }\n",
              "</style>\n",
              "<table border=\"1\" class=\"dataframe\">\n",
              "  <thead>\n",
              "    <tr style=\"text-align: right;\">\n",
              "      <th></th>\n",
              "      <th>ID</th>\n",
              "      <th>Source</th>\n",
              "      <th>TMC</th>\n",
              "      <th>Severity</th>\n",
              "      <th>Start_Time</th>\n",
              "      <th>End_Time</th>\n",
              "      <th>Start_Lat</th>\n",
              "      <th>Start_Lng</th>\n",
              "      <th>Distance(mi)</th>\n",
              "      <th>Description</th>\n",
              "      <th>Side</th>\n",
              "      <th>City</th>\n",
              "      <th>State</th>\n",
              "      <th>Timezone</th>\n",
              "      <th>Airport_Code</th>\n",
              "      <th>Weather_Timestamp</th>\n",
              "      <th>Temperature(F)</th>\n",
              "      <th>Wind_Chill(F)</th>\n",
              "      <th>Humidity(%)</th>\n",
              "      <th>Pressure(in)</th>\n",
              "      <th>Visibility(mi)</th>\n",
              "      <th>Wind_Direction</th>\n",
              "      <th>Wind_Speed(mph)</th>\n",
              "      <th>Precipitation(in)</th>\n",
              "      <th>Weather_Condition</th>\n",
              "      <th>Amenity</th>\n",
              "      <th>Bump</th>\n",
              "      <th>Crossing</th>\n",
              "      <th>Give_Way</th>\n",
              "      <th>Junction</th>\n",
              "      <th>No_Exit</th>\n",
              "      <th>Railway</th>\n",
              "      <th>Roundabout</th>\n",
              "      <th>Station</th>\n",
              "      <th>Stop</th>\n",
              "      <th>Traffic_Calming</th>\n",
              "      <th>Traffic_Signal</th>\n",
              "      <th>Turning_Loop</th>\n",
              "      <th>Sunrise_Sunset</th>\n",
              "      <th>Civil_Twilight</th>\n",
              "      <th>Nautical_Twilight</th>\n",
              "      <th>Astronomical_Twilight</th>\n",
              "    </tr>\n",
              "    <tr>\n",
              "      <th>time</th>\n",
              "      <th></th>\n",
              "      <th></th>\n",
              "      <th></th>\n",
              "      <th></th>\n",
              "      <th></th>\n",
              "      <th></th>\n",
              "      <th></th>\n",
              "      <th></th>\n",
              "      <th></th>\n",
              "      <th></th>\n",
              "      <th></th>\n",
              "      <th></th>\n",
              "      <th></th>\n",
              "      <th></th>\n",
              "      <th></th>\n",
              "      <th></th>\n",
              "      <th></th>\n",
              "      <th></th>\n",
              "      <th></th>\n",
              "      <th></th>\n",
              "      <th></th>\n",
              "      <th></th>\n",
              "      <th></th>\n",
              "      <th></th>\n",
              "      <th></th>\n",
              "      <th></th>\n",
              "      <th></th>\n",
              "      <th></th>\n",
              "      <th></th>\n",
              "      <th></th>\n",
              "      <th></th>\n",
              "      <th></th>\n",
              "      <th></th>\n",
              "      <th></th>\n",
              "      <th></th>\n",
              "      <th></th>\n",
              "      <th></th>\n",
              "      <th></th>\n",
              "      <th></th>\n",
              "      <th></th>\n",
              "      <th></th>\n",
              "      <th></th>\n",
              "    </tr>\n",
              "  </thead>\n",
              "  <tbody>\n",
              "    <tr>\n",
              "      <th>2016-02-08 05:46:00</th>\n",
              "      <td>A-1</td>\n",
              "      <td>MapQuest</td>\n",
              "      <td>201.0</td>\n",
              "      <td>3</td>\n",
              "      <td>2016-02-08 05:46:00</td>\n",
              "      <td>2016-02-08 11:00:00</td>\n",
              "      <td>39.865147</td>\n",
              "      <td>-84.058723</td>\n",
              "      <td>0.01</td>\n",
              "      <td>Right lane blocked due to accident on I-70 Eas...</td>\n",
              "      <td>R</td>\n",
              "      <td>Dayton</td>\n",
              "      <td>OH</td>\n",
              "      <td>US/Eastern</td>\n",
              "      <td>KFFO</td>\n",
              "      <td>2016-02-08 05:58:00</td>\n",
              "      <td>36.9</td>\n",
              "      <td>NaN</td>\n",
              "      <td>91.0</td>\n",
              "      <td>29.68</td>\n",
              "      <td>10.0</td>\n",
              "      <td>Calm</td>\n",
              "      <td>NaN</td>\n",
              "      <td>0.02</td>\n",
              "      <td>Light Rain</td>\n",
              "      <td>False</td>\n",
              "      <td>False</td>\n",
              "      <td>False</td>\n",
              "      <td>False</td>\n",
              "      <td>False</td>\n",
              "      <td>False</td>\n",
              "      <td>False</td>\n",
              "      <td>False</td>\n",
              "      <td>False</td>\n",
              "      <td>False</td>\n",
              "      <td>False</td>\n",
              "      <td>False</td>\n",
              "      <td>False</td>\n",
              "      <td>Night</td>\n",
              "      <td>Night</td>\n",
              "      <td>Night</td>\n",
              "      <td>Night</td>\n",
              "    </tr>\n",
              "    <tr>\n",
              "      <th>2016-02-08 06:07:59</th>\n",
              "      <td>A-2</td>\n",
              "      <td>MapQuest</td>\n",
              "      <td>201.0</td>\n",
              "      <td>2</td>\n",
              "      <td>2016-02-08 06:07:59</td>\n",
              "      <td>2016-02-08 06:37:59</td>\n",
              "      <td>39.928059</td>\n",
              "      <td>-82.831184</td>\n",
              "      <td>0.01</td>\n",
              "      <td>Accident on Brice Rd at Tussing Rd. Expect del...</td>\n",
              "      <td>L</td>\n",
              "      <td>Reynoldsburg</td>\n",
              "      <td>OH</td>\n",
              "      <td>US/Eastern</td>\n",
              "      <td>KCMH</td>\n",
              "      <td>2016-02-08 05:51:00</td>\n",
              "      <td>37.9</td>\n",
              "      <td>NaN</td>\n",
              "      <td>100.0</td>\n",
              "      <td>29.65</td>\n",
              "      <td>10.0</td>\n",
              "      <td>Calm</td>\n",
              "      <td>NaN</td>\n",
              "      <td>0.00</td>\n",
              "      <td>Light Rain</td>\n",
              "      <td>False</td>\n",
              "      <td>False</td>\n",
              "      <td>False</td>\n",
              "      <td>False</td>\n",
              "      <td>False</td>\n",
              "      <td>False</td>\n",
              "      <td>False</td>\n",
              "      <td>False</td>\n",
              "      <td>False</td>\n",
              "      <td>False</td>\n",
              "      <td>False</td>\n",
              "      <td>False</td>\n",
              "      <td>False</td>\n",
              "      <td>Night</td>\n",
              "      <td>Night</td>\n",
              "      <td>Night</td>\n",
              "      <td>Day</td>\n",
              "    </tr>\n",
              "    <tr>\n",
              "      <th>2016-02-08 06:49:27</th>\n",
              "      <td>A-3</td>\n",
              "      <td>MapQuest</td>\n",
              "      <td>201.0</td>\n",
              "      <td>2</td>\n",
              "      <td>2016-02-08 06:49:27</td>\n",
              "      <td>2016-02-08 07:19:27</td>\n",
              "      <td>39.063148</td>\n",
              "      <td>-84.032608</td>\n",
              "      <td>0.01</td>\n",
              "      <td>Accident on OH-32 State Route 32 Westbound at ...</td>\n",
              "      <td>R</td>\n",
              "      <td>Williamsburg</td>\n",
              "      <td>OH</td>\n",
              "      <td>US/Eastern</td>\n",
              "      <td>KI69</td>\n",
              "      <td>2016-02-08 06:56:00</td>\n",
              "      <td>36.0</td>\n",
              "      <td>33.3</td>\n",
              "      <td>100.0</td>\n",
              "      <td>29.67</td>\n",
              "      <td>10.0</td>\n",
              "      <td>SW</td>\n",
              "      <td>3.5</td>\n",
              "      <td>NaN</td>\n",
              "      <td>Overcast</td>\n",
              "      <td>False</td>\n",
              "      <td>False</td>\n",
              "      <td>False</td>\n",
              "      <td>False</td>\n",
              "      <td>False</td>\n",
              "      <td>False</td>\n",
              "      <td>False</td>\n",
              "      <td>False</td>\n",
              "      <td>False</td>\n",
              "      <td>False</td>\n",
              "      <td>False</td>\n",
              "      <td>True</td>\n",
              "      <td>False</td>\n",
              "      <td>Night</td>\n",
              "      <td>Night</td>\n",
              "      <td>Day</td>\n",
              "      <td>Day</td>\n",
              "    </tr>\n",
              "    <tr>\n",
              "      <th>2016-02-08 07:23:34</th>\n",
              "      <td>A-4</td>\n",
              "      <td>MapQuest</td>\n",
              "      <td>201.0</td>\n",
              "      <td>3</td>\n",
              "      <td>2016-02-08 07:23:34</td>\n",
              "      <td>2016-02-08 07:53:34</td>\n",
              "      <td>39.747753</td>\n",
              "      <td>-84.205582</td>\n",
              "      <td>0.01</td>\n",
              "      <td>Accident on I-75 Southbound at Exits 52 52B US...</td>\n",
              "      <td>R</td>\n",
              "      <td>Dayton</td>\n",
              "      <td>OH</td>\n",
              "      <td>US/Eastern</td>\n",
              "      <td>KDAY</td>\n",
              "      <td>2016-02-08 07:38:00</td>\n",
              "      <td>35.1</td>\n",
              "      <td>31.0</td>\n",
              "      <td>96.0</td>\n",
              "      <td>29.64</td>\n",
              "      <td>9.0</td>\n",
              "      <td>SW</td>\n",
              "      <td>4.6</td>\n",
              "      <td>NaN</td>\n",
              "      <td>Mostly Cloudy</td>\n",
              "      <td>False</td>\n",
              "      <td>False</td>\n",
              "      <td>False</td>\n",
              "      <td>False</td>\n",
              "      <td>False</td>\n",
              "      <td>False</td>\n",
              "      <td>False</td>\n",
              "      <td>False</td>\n",
              "      <td>False</td>\n",
              "      <td>False</td>\n",
              "      <td>False</td>\n",
              "      <td>False</td>\n",
              "      <td>False</td>\n",
              "      <td>Night</td>\n",
              "      <td>Day</td>\n",
              "      <td>Day</td>\n",
              "      <td>Day</td>\n",
              "    </tr>\n",
              "    <tr>\n",
              "      <th>2016-02-08 07:39:07</th>\n",
              "      <td>A-5</td>\n",
              "      <td>MapQuest</td>\n",
              "      <td>201.0</td>\n",
              "      <td>2</td>\n",
              "      <td>2016-02-08 07:39:07</td>\n",
              "      <td>2016-02-08 08:09:07</td>\n",
              "      <td>39.627781</td>\n",
              "      <td>-84.188354</td>\n",
              "      <td>0.01</td>\n",
              "      <td>Accident on McEwen Rd at OH-725 Miamisburg Cen...</td>\n",
              "      <td>R</td>\n",
              "      <td>Dayton</td>\n",
              "      <td>OH</td>\n",
              "      <td>US/Eastern</td>\n",
              "      <td>KMGY</td>\n",
              "      <td>2016-02-08 07:53:00</td>\n",
              "      <td>36.0</td>\n",
              "      <td>33.3</td>\n",
              "      <td>89.0</td>\n",
              "      <td>29.65</td>\n",
              "      <td>6.0</td>\n",
              "      <td>SW</td>\n",
              "      <td>3.5</td>\n",
              "      <td>NaN</td>\n",
              "      <td>Mostly Cloudy</td>\n",
              "      <td>False</td>\n",
              "      <td>False</td>\n",
              "      <td>False</td>\n",
              "      <td>False</td>\n",
              "      <td>False</td>\n",
              "      <td>False</td>\n",
              "      <td>False</td>\n",
              "      <td>False</td>\n",
              "      <td>False</td>\n",
              "      <td>False</td>\n",
              "      <td>False</td>\n",
              "      <td>True</td>\n",
              "      <td>False</td>\n",
              "      <td>Day</td>\n",
              "      <td>Day</td>\n",
              "      <td>Day</td>\n",
              "      <td>Day</td>\n",
              "    </tr>\n",
              "  </tbody>\n",
              "</table>\n",
              "</div>"
            ],
            "text/plain": [
              "                      ID    Source  ...  Nautical_Twilight  Astronomical_Twilight\n",
              "time                                ...                                          \n",
              "2016-02-08 05:46:00  A-1  MapQuest  ...              Night                  Night\n",
              "2016-02-08 06:07:59  A-2  MapQuest  ...              Night                    Day\n",
              "2016-02-08 06:49:27  A-3  MapQuest  ...                Day                    Day\n",
              "2016-02-08 07:23:34  A-4  MapQuest  ...                Day                    Day\n",
              "2016-02-08 07:39:07  A-5  MapQuest  ...                Day                    Day\n",
              "\n",
              "[5 rows x 42 columns]"
            ]
          },
          "metadata": {
            "tags": []
          },
          "execution_count": 99
        }
      ]
    },
    {
      "cell_type": "code",
      "metadata": {
        "id": "B5RYhqCchldz",
        "colab_type": "code",
        "outputId": "6422f58e-5ee1-41ee-b720-e6922dc690b6",
        "colab": {
          "base_uri": "https://localhost:8080/",
          "height": 320
        }
      },
      "source": [
        "df_traffic.describe()"
      ],
      "execution_count": 20,
      "outputs": [
        {
          "output_type": "execute_result",
          "data": {
            "text/html": [
              "<div>\n",
              "<style scoped>\n",
              "    .dataframe tbody tr th:only-of-type {\n",
              "        vertical-align: middle;\n",
              "    }\n",
              "\n",
              "    .dataframe tbody tr th {\n",
              "        vertical-align: top;\n",
              "    }\n",
              "\n",
              "    .dataframe thead th {\n",
              "        text-align: right;\n",
              "    }\n",
              "</style>\n",
              "<table border=\"1\" class=\"dataframe\">\n",
              "  <thead>\n",
              "    <tr style=\"text-align: right;\">\n",
              "      <th></th>\n",
              "      <th>TMC</th>\n",
              "      <th>Severity</th>\n",
              "      <th>Start_Lat</th>\n",
              "      <th>Start_Lng</th>\n",
              "      <th>End_Lat</th>\n",
              "      <th>End_Lng</th>\n",
              "      <th>Distance(mi)</th>\n",
              "      <th>Number</th>\n",
              "      <th>Temperature(F)</th>\n",
              "      <th>Wind_Chill(F)</th>\n",
              "      <th>Humidity(%)</th>\n",
              "      <th>Pressure(in)</th>\n",
              "      <th>Visibility(mi)</th>\n",
              "      <th>Wind_Speed(mph)</th>\n",
              "      <th>Precipitation(in)</th>\n",
              "    </tr>\n",
              "  </thead>\n",
              "  <tbody>\n",
              "    <tr>\n",
              "      <th>count</th>\n",
              "      <td>2.246264e+06</td>\n",
              "      <td>2.974335e+06</td>\n",
              "      <td>2.974335e+06</td>\n",
              "      <td>2.974335e+06</td>\n",
              "      <td>728071.000000</td>\n",
              "      <td>728071.000000</td>\n",
              "      <td>2.974335e+06</td>\n",
              "      <td>1.056730e+06</td>\n",
              "      <td>2.918272e+06</td>\n",
              "      <td>1.121712e+06</td>\n",
              "      <td>2.915162e+06</td>\n",
              "      <td>2.926193e+06</td>\n",
              "      <td>2.908644e+06</td>\n",
              "      <td>2.533495e+06</td>\n",
              "      <td>975977.000000</td>\n",
              "    </tr>\n",
              "    <tr>\n",
              "      <th>mean</th>\n",
              "      <td>2.078316e+02</td>\n",
              "      <td>2.360190e+00</td>\n",
              "      <td>3.649361e+01</td>\n",
              "      <td>-9.542625e+01</td>\n",
              "      <td>37.580871</td>\n",
              "      <td>-99.976032</td>\n",
              "      <td>2.855654e-01</td>\n",
              "      <td>5.837004e+03</td>\n",
              "      <td>6.235120e+01</td>\n",
              "      <td>5.132685e+01</td>\n",
              "      <td>6.540542e+01</td>\n",
              "      <td>2.983190e+01</td>\n",
              "      <td>9.150770e+00</td>\n",
              "      <td>8.298064e+00</td>\n",
              "      <td>0.020495</td>\n",
              "    </tr>\n",
              "    <tr>\n",
              "      <th>std</th>\n",
              "      <td>2.032959e+01</td>\n",
              "      <td>5.414733e-01</td>\n",
              "      <td>4.918849e+00</td>\n",
              "      <td>1.721881e+01</td>\n",
              "      <td>5.004757</td>\n",
              "      <td>18.416647</td>\n",
              "      <td>1.548392e+00</td>\n",
              "      <td>1.515928e+04</td>\n",
              "      <td>1.878855e+01</td>\n",
              "      <td>2.519127e+01</td>\n",
              "      <td>2.255676e+01</td>\n",
              "      <td>7.213808e-01</td>\n",
              "      <td>2.892114e+00</td>\n",
              "      <td>5.138546e+00</td>\n",
              "      <td>0.235770</td>\n",
              "    </tr>\n",
              "    <tr>\n",
              "      <th>min</th>\n",
              "      <td>2.000000e+02</td>\n",
              "      <td>1.000000e+00</td>\n",
              "      <td>2.455527e+01</td>\n",
              "      <td>-1.246238e+02</td>\n",
              "      <td>24.570110</td>\n",
              "      <td>-124.497829</td>\n",
              "      <td>0.000000e+00</td>\n",
              "      <td>0.000000e+00</td>\n",
              "      <td>-7.780000e+01</td>\n",
              "      <td>-6.590000e+01</td>\n",
              "      <td>1.000000e+00</td>\n",
              "      <td>0.000000e+00</td>\n",
              "      <td>0.000000e+00</td>\n",
              "      <td>0.000000e+00</td>\n",
              "      <td>0.000000</td>\n",
              "    </tr>\n",
              "    <tr>\n",
              "      <th>25%</th>\n",
              "      <td>2.010000e+02</td>\n",
              "      <td>2.000000e+00</td>\n",
              "      <td>3.355040e+01</td>\n",
              "      <td>-1.172920e+02</td>\n",
              "      <td>33.957554</td>\n",
              "      <td>-118.286610</td>\n",
              "      <td>0.000000e+00</td>\n",
              "      <td>8.370000e+02</td>\n",
              "      <td>5.000000e+01</td>\n",
              "      <td>3.200000e+01</td>\n",
              "      <td>4.900000e+01</td>\n",
              "      <td>2.982000e+01</td>\n",
              "      <td>1.000000e+01</td>\n",
              "      <td>4.600000e+00</td>\n",
              "      <td>0.000000</td>\n",
              "    </tr>\n",
              "    <tr>\n",
              "      <th>50%</th>\n",
              "      <td>2.010000e+02</td>\n",
              "      <td>2.000000e+00</td>\n",
              "      <td>3.584969e+01</td>\n",
              "      <td>-9.025083e+01</td>\n",
              "      <td>37.903670</td>\n",
              "      <td>-96.631690</td>\n",
              "      <td>0.000000e+00</td>\n",
              "      <td>2.717000e+03</td>\n",
              "      <td>6.440000e+01</td>\n",
              "      <td>5.400000e+01</td>\n",
              "      <td>6.700000e+01</td>\n",
              "      <td>2.998000e+01</td>\n",
              "      <td>1.000000e+01</td>\n",
              "      <td>7.000000e+00</td>\n",
              "      <td>0.000000</td>\n",
              "    </tr>\n",
              "    <tr>\n",
              "      <th>75%</th>\n",
              "      <td>2.010000e+02</td>\n",
              "      <td>3.000000e+00</td>\n",
              "      <td>4.037026e+01</td>\n",
              "      <td>-8.091891e+01</td>\n",
              "      <td>41.372630</td>\n",
              "      <td>-82.323850</td>\n",
              "      <td>1.000000e-02</td>\n",
              "      <td>7.000000e+03</td>\n",
              "      <td>7.600000e+01</td>\n",
              "      <td>7.300000e+01</td>\n",
              "      <td>8.400000e+01</td>\n",
              "      <td>3.011000e+01</td>\n",
              "      <td>1.000000e+01</td>\n",
              "      <td>1.040000e+01</td>\n",
              "      <td>0.000000</td>\n",
              "    </tr>\n",
              "    <tr>\n",
              "      <th>max</th>\n",
              "      <td>4.060000e+02</td>\n",
              "      <td>4.000000e+00</td>\n",
              "      <td>4.900220e+01</td>\n",
              "      <td>-6.711317e+01</td>\n",
              "      <td>49.075000</td>\n",
              "      <td>-67.109242</td>\n",
              "      <td>3.336300e+02</td>\n",
              "      <td>9.999997e+06</td>\n",
              "      <td>1.706000e+02</td>\n",
              "      <td>1.150000e+02</td>\n",
              "      <td>1.000000e+02</td>\n",
              "      <td>3.304000e+01</td>\n",
              "      <td>1.400000e+02</td>\n",
              "      <td>8.228000e+02</td>\n",
              "      <td>25.000000</td>\n",
              "    </tr>\n",
              "  </tbody>\n",
              "</table>\n",
              "</div>"
            ],
            "text/plain": [
              "                TMC      Severity  ...  Wind_Speed(mph)  Precipitation(in)\n",
              "count  2.246264e+06  2.974335e+06  ...     2.533495e+06      975977.000000\n",
              "mean   2.078316e+02  2.360190e+00  ...     8.298064e+00           0.020495\n",
              "std    2.032959e+01  5.414733e-01  ...     5.138546e+00           0.235770\n",
              "min    2.000000e+02  1.000000e+00  ...     0.000000e+00           0.000000\n",
              "25%    2.010000e+02  2.000000e+00  ...     4.600000e+00           0.000000\n",
              "50%    2.010000e+02  2.000000e+00  ...     7.000000e+00           0.000000\n",
              "75%    2.010000e+02  3.000000e+00  ...     1.040000e+01           0.000000\n",
              "max    4.060000e+02  4.000000e+00  ...     8.228000e+02          25.000000\n",
              "\n",
              "[8 rows x 15 columns]"
            ]
          },
          "metadata": {
            "tags": []
          },
          "execution_count": 20
        }
      ]
    },
    {
      "cell_type": "code",
      "metadata": {
        "id": "RwdbSwCghleF",
        "colab_type": "code",
        "outputId": "232188d4-6966-4acc-aa82-46a0f1c93680",
        "colab": {
          "base_uri": "https://localhost:8080/",
          "height": 225
        }
      },
      "source": [
        "df_traffic.columns"
      ],
      "execution_count": 21,
      "outputs": [
        {
          "output_type": "execute_result",
          "data": {
            "text/plain": [
              "Index(['ID', 'Source', 'TMC', 'Severity', 'Start_Time', 'End_Time',\n",
              "       'Start_Lat', 'Start_Lng', 'End_Lat', 'End_Lng', 'Distance(mi)',\n",
              "       'Description', 'Number', 'Street', 'Side', 'City', 'County', 'State',\n",
              "       'Zipcode', 'Country', 'Timezone', 'Airport_Code', 'Weather_Timestamp',\n",
              "       'Temperature(F)', 'Wind_Chill(F)', 'Humidity(%)', 'Pressure(in)',\n",
              "       'Visibility(mi)', 'Wind_Direction', 'Wind_Speed(mph)',\n",
              "       'Precipitation(in)', 'Weather_Condition', 'Amenity', 'Bump', 'Crossing',\n",
              "       'Give_Way', 'Junction', 'No_Exit', 'Railway', 'Roundabout', 'Station',\n",
              "       'Stop', 'Traffic_Calming', 'Traffic_Signal', 'Turning_Loop',\n",
              "       'Sunrise_Sunset', 'Civil_Twilight', 'Nautical_Twilight',\n",
              "       'Astronomical_Twilight'],\n",
              "      dtype='object')"
            ]
          },
          "metadata": {
            "tags": []
          },
          "execution_count": 21
        }
      ]
    },
    {
      "cell_type": "code",
      "metadata": {
        "id": "mwB5IG7YdTNG",
        "colab_type": "code",
        "outputId": "bad943cc-6646-4c84-ab8b-8998c8b1d502",
        "colab": {
          "base_uri": "https://localhost:8080/",
          "height": 1000
        }
      },
      "source": [
        "corr=df_traffic.corr()\n",
        "cmap = sns.diverging_palette(200, 10, as_cmap=True)\n",
        "\n",
        "size=plt.figure(figsize=(80,30))\n",
        "\n",
        "sns.heatmap(corr, cmap=cmap, square='true', center=0)"
      ],
      "execution_count": 22,
      "outputs": [
        {
          "output_type": "execute_result",
          "data": {
            "text/plain": [
              "<matplotlib.axes._subplots.AxesSubplot at 0x7f282360e9e8>"
            ]
          },
          "metadata": {
            "tags": []
          },
          "execution_count": 22
        },
        {
          "output_type": "display_data",
          "data": {
            "image/png": "[encoded data removed]",
            "text/plain": [
              "<Figure size 5760x2160 with 2 Axes>"
            ]
          },
          "metadata": {
            "tags": []
          }
        }
      ]
    },
    {
      "cell_type": "code",
      "metadata": {
        "id": "K5p-EC0WhleP",
        "colab_type": "code",
        "outputId": "dd2c473c-62d9-4cef-8d32-6a4e69428da2",
        "colab": {
          "base_uri": "https://localhost:8080/",
          "height": 885
        }
      },
      "source": [
        "print('Unique values',df_traffic.nunique())"
      ],
      "execution_count": 23,
      "outputs": [
        {
          "output_type": "stream",
          "text": [
            "Unique values ID                       2974335\n",
            "Source                         3\n",
            "TMC                           21\n",
            "Severity                       4\n",
            "Start_Time               2743101\n",
            "End_Time                 2761499\n",
            "Start_Lat                1002359\n",
            "Start_Lng                 985099\n",
            "End_Lat                   298605\n",
            "End_Lng                   302906\n",
            "Distance(mi)               12847\n",
            "Description              1597506\n",
            "Number                     37398\n",
            "Street                    160715\n",
            "Side                           3\n",
            "City                       11685\n",
            "County                      1713\n",
            "State                         49\n",
            "Zipcode                   377152\n",
            "Country                        1\n",
            "Timezone                       4\n",
            "Airport_Code                1995\n",
            "Weather_Timestamp         470781\n",
            "Temperature(F)               827\n",
            "Wind_Chill(F)                971\n",
            "Humidity(%)                  100\n",
            "Pressure(in)                 994\n",
            "Visibility(mi)                81\n",
            "Wind_Direction                24\n",
            "Wind_Speed(mph)              147\n",
            "Precipitation(in)            256\n",
            "Weather_Condition            120\n",
            "Amenity                        2\n",
            "Bump                           2\n",
            "Crossing                       2\n",
            "Give_Way                       2\n",
            "Junction                       2\n",
            "No_Exit                        2\n",
            "Railway                        2\n",
            "Roundabout                     2\n",
            "Station                        2\n",
            "Stop                           2\n",
            "Traffic_Calming                2\n",
            "Traffic_Signal                 2\n",
            "Turning_Loop                   1\n",
            "Sunrise_Sunset                 2\n",
            "Civil_Twilight                 2\n",
            "Nautical_Twilight              2\n",
            "Astronomical_Twilight          2\n",
            "dtype: int64\n"
          ],
          "name": "stdout"
        }
      ]
    },
    {
      "cell_type": "markdown",
      "metadata": {
        "id": "AXXCX8bDhleY",
        "colab_type": "text"
      },
      "source": [
        "This data is only for the United States so keeping the 'Country' column is 100% redundant."
      ]
    },
    {
      "cell_type": "code",
      "metadata": {
        "id": "BrSAg_8Ohlec",
        "colab_type": "code",
        "colab": {}
      },
      "source": [
        "df_traffic.drop(['Country'], axis=1, inplace=True)"
      ],
      "execution_count": 0,
      "outputs": []
    },
    {
      "cell_type": "code",
      "metadata": {
        "id": "orhz0LQWhlez",
        "colab_type": "code",
        "outputId": "99b14ff0-e94e-43e3-9802-a52b3379415b",
        "colab": {
          "base_uri": "https://localhost:8080/",
          "height": 868
        }
      },
      "source": [
        "print(df_traffic.isnull().sum())\n"
      ],
      "execution_count": 25,
      "outputs": [
        {
          "output_type": "stream",
          "text": [
            "ID                             0\n",
            "Source                         0\n",
            "TMC                       728071\n",
            "Severity                       0\n",
            "Start_Time                     0\n",
            "End_Time                       0\n",
            "Start_Lat                      0\n",
            "Start_Lng                      0\n",
            "End_Lat                  2246264\n",
            "End_Lng                  2246264\n",
            "Distance(mi)                   0\n",
            "Description                    1\n",
            "Number                   1917605\n",
            "Street                         0\n",
            "Side                           0\n",
            "City                          83\n",
            "County                         0\n",
            "State                          0\n",
            "Zipcode                      880\n",
            "Timezone                    3163\n",
            "Airport_Code                5691\n",
            "Weather_Timestamp          36705\n",
            "Temperature(F)             56063\n",
            "Wind_Chill(F)            1852623\n",
            "Humidity(%)                59173\n",
            "Pressure(in)               48142\n",
            "Visibility(mi)             65691\n",
            "Wind_Direction             45101\n",
            "Wind_Speed(mph)           440840\n",
            "Precipitation(in)        1998358\n",
            "Weather_Condition          65932\n",
            "Amenity                        0\n",
            "Bump                           0\n",
            "Crossing                       0\n",
            "Give_Way                       0\n",
            "Junction                       0\n",
            "No_Exit                        0\n",
            "Railway                        0\n",
            "Roundabout                     0\n",
            "Station                        0\n",
            "Stop                           0\n",
            "Traffic_Calming                0\n",
            "Traffic_Signal                 0\n",
            "Turning_Loop                   0\n",
            "Sunrise_Sunset                93\n",
            "Civil_Twilight                93\n",
            "Nautical_Twilight             93\n",
            "Astronomical_Twilight         93\n",
            "dtype: int64\n"
          ],
          "name": "stdout"
        }
      ]
    },
    {
      "cell_type": "code",
      "metadata": {
        "id": "prABbkp0m_kh",
        "colab_type": "code",
        "outputId": "9151735e-3d86-4508-d85e-a87a649c6ba7",
        "colab": {
          "base_uri": "https://localhost:8080/",
          "height": 52
        }
      },
      "source": [
        "print(len(df_traffic['End_Lat']))\n",
        "print(len(df_traffic['End_Lng']))"
      ],
      "execution_count": 26,
      "outputs": [
        {
          "output_type": "stream",
          "text": [
            "2974335\n",
            "2974335\n"
          ],
          "name": "stdout"
        }
      ]
    },
    {
      "cell_type": "code",
      "metadata": {
        "id": "xBvB9r61oUH2",
        "colab_type": "code",
        "outputId": "e962cb80-2d45-4320-9d8e-9dfaf48ebcb7",
        "colab": {
          "base_uri": "https://localhost:8080/",
          "height": 52
        }
      },
      "source": [
        "print(len(df_traffic['End_Lat'].isnull())/(len(df_traffic['End_Lat'])))\n",
        "print(len(df_traffic['End_Lng'].isnull())/(len(df_traffic['End_Lat'])))"
      ],
      "execution_count": 27,
      "outputs": [
        {
          "output_type": "stream",
          "text": [
            "1.0\n",
            "1.0\n"
          ],
          "name": "stdout"
        }
      ]
    },
    {
      "cell_type": "markdown",
      "metadata": {
        "id": "v8rVLdgtouja",
        "colab_type": "text"
      },
      "source": [
        "The 'End_Lat' and 'End_Lng' are all null values so they need to be dropped."
      ]
    },
    {
      "cell_type": "code",
      "metadata": {
        "id": "HCVliMESmU0a",
        "colab_type": "code",
        "colab": {}
      },
      "source": [
        "df_traffic.drop(['End_Lat'], axis=1, inplace=True)\n",
        "df_traffic.drop(['End_Lng'], axis=1, inplace=True)"
      ],
      "execution_count": 0,
      "outputs": []
    },
    {
      "cell_type": "markdown",
      "metadata": {
        "id": "xf0ifThOQF38",
        "colab_type": "text"
      },
      "source": [
        "Since the data involves over 2 million accidents it is important to target States of interest. In my case I am looking for the state with the most accidents, the state with the most category 4 accidents and the state with the highest on average (mean) severity of accidents."
      ]
    },
    {
      "cell_type": "code",
      "metadata": {
        "id": "YY9gd-WMhlfR",
        "colab_type": "code",
        "colab": {}
      },
      "source": [
        "whichstate=df_traffic.State.unique()\n",
        "\n",
        "count_state=[]\n",
        "for i in df_traffic.State.unique():\n",
        "    count_state.append(df_traffic[df_traffic['State']==i].count()['ID'])\n"
      ],
      "execution_count": 0,
      "outputs": []
    },
    {
      "cell_type": "code",
      "metadata": {
        "id": "IJcUjlqYhlfX",
        "colab_type": "code",
        "colab": {}
      },
      "source": [
        ""
      ],
      "execution_count": 0,
      "outputs": []
    },
    {
      "cell_type": "code",
      "metadata": {
        "id": "CiV8VcCghlfe",
        "colab_type": "code",
        "outputId": "d3a6ae9b-f8e9-43f3-ce9b-9c9f6f416090",
        "colab": {
          "base_uri": "https://localhost:8080/",
          "height": 826
        }
      },
      "source": [
        "plt.figure(figsize=(20, 14))\n",
        "sns.barplot(whichstate, count_state)"
      ],
      "execution_count": 30,
      "outputs": [
        {
          "output_type": "execute_result",
          "data": {
            "text/plain": [
              "<matplotlib.axes._subplots.AxesSubplot at 0x7f27e3145f28>"
            ]
          },
          "metadata": {
            "tags": []
          },
          "execution_count": 30
        },
        {
          "output_type": "display_data",
          "data": {
            "image/png": "[encoded data removed]",
            "text/plain": [
              "<Figure size 1440x1008 with 1 Axes>"
            ]
          },
          "metadata": {
            "tags": []
          }
        }
      ]
    },
    {
      "cell_type": "markdown",
      "metadata": {
        "id": "Ufq7qYmzpSXU",
        "colab_type": "text"
      },
      "source": [
        "Excellent, california is definetely a state of interest. Next we will look at the mean of the severity of the accident that the individual States experience. "
      ]
    },
    {
      "cell_type": "code",
      "metadata": {
        "id": "kxKe4wIfhlfl",
        "colab_type": "code",
        "outputId": "90130460-e704-439e-c3a7-47bf7c36ef89",
        "colab": {
          "base_uri": "https://localhost:8080/",
          "height": 388
        }
      },
      "source": [
        "df_top_Severity_State = df_traffic.groupby('State').agg({'Severity': 'mean'}).sort_values('Severity').reset_index()\n",
        "plt.figure(figsize=(12,6))\n",
        "sns.barplot(y=\"Severity\", x=\"State\", data=df_top_Severity_State.head(10))\n",
        "plt.ioff()"
      ],
      "execution_count": 31,
      "outputs": [
        {
          "output_type": "display_data",
          "data": {
            "image/png": "[encoded data removed]",
            "text/plain": [
              "<Figure size 864x432 with 1 Axes>"
            ]
          },
          "metadata": {
            "tags": []
          }
        }
      ]
    },
    {
      "cell_type": "markdown",
      "metadata": {
        "id": "2Cd6i0k0RKut",
        "colab_type": "text"
      },
      "source": [
        "Arizona is definitely a state of interest. Texas is also a state of interest since Texas has a large number of accidents and yet it's mean is still in second place."
      ]
    },
    {
      "cell_type": "code",
      "metadata": {
        "id": "Z-5mm3VShlft",
        "colab_type": "code",
        "colab": {}
      },
      "source": [
        "severity_4=[]\n",
        "for i in whichstate:\n",
        "    severity_4.append(df_traffic[(df_traffic['Severity']==4)&(df_traffic['State']==i)].count()['ID'])"
      ],
      "execution_count": 0,
      "outputs": []
    },
    {
      "cell_type": "code",
      "metadata": {
        "id": "Sx1dGC8ChlgX",
        "colab_type": "code",
        "outputId": "0290cb52-dfa3-4d87-c5fd-968c51e6970c",
        "colab": {
          "base_uri": "https://localhost:8080/",
          "height": 826
        }
      },
      "source": [
        "plt.figure(figsize=(20, 14))\n",
        "plt.bar(whichstate, severity_4, label= 'Severity 4', color= 'red')\n",
        "plt.legend()"
      ],
      "execution_count": 33,
      "outputs": [
        {
          "output_type": "execute_result",
          "data": {
            "text/plain": [
              "<matplotlib.legend.Legend at 0x7f2798823ac8>"
            ]
          },
          "metadata": {
            "tags": []
          },
          "execution_count": 33
        },
        {
          "output_type": "display_data",
          "data": {
            "image/png": "[encoded data removed]",
            "text/plain": [
              "<Figure size 1440x1008 with 1 Axes>"
            ]
          },
          "metadata": {
            "tags": []
          }
        }
      ]
    },
    {
      "cell_type": "markdown",
      "metadata": {
        "id": "1C4fLM_Jhlge",
        "colab_type": "text"
      },
      "source": [
        "From my analysis, Florida may not have the most accidents but it certainely has the most severe accidents. Of note Georgia has the second highest number of severity four accidents so therefore Georgia is also a state of interest. Let's check to see if different features are correllated with eachother."
      ]
    },
    {
      "cell_type": "code",
      "metadata": {
        "id": "Wr8sIN_LSOUM",
        "colab_type": "code",
        "outputId": "5cb83b01-a424-4e43-ec15-906e31981133",
        "colab": {
          "base_uri": "https://localhost:8080/",
          "height": 34
        }
      },
      "source": [
        "df_traffic.shape"
      ],
      "execution_count": 34,
      "outputs": [
        {
          "output_type": "execute_result",
          "data": {
            "text/plain": [
              "(2974335, 46)"
            ]
          },
          "metadata": {
            "tags": []
          },
          "execution_count": 34
        }
      ]
    },
    {
      "cell_type": "code",
      "metadata": {
        "id": "1NOYXLtKSuTD",
        "colab_type": "code",
        "outputId": "a36cc564-7b5d-47a4-be1f-c5d36c8b59d6",
        "colab": {
          "base_uri": "https://localhost:8080/",
          "height": 34
        }
      },
      "source": [
        "\"\"\"\n",
        "since we have longitude and latitude we do not need number, street, county, zipcode. State and city will be useful for finding our target states to analyze and the city variable is nice to \n",
        "map out a centroid of each city and the differences between accidents and centers of the centroids. If we are not given longitude and latitude we can use geocaching in the geopy library to\n",
        "find the longitude and latitude needed for our model to make a prediction.\n",
        "\"\"\"\n",
        "df_traffic.drop(['Number'], axis=1, inplace=True)\n",
        "df_traffic.drop(['Street'], axis=1, inplace=True)\n",
        "df_traffic.drop(['County'], axis=1, inplace=True)\n",
        "df_traffic.drop(['Zipcode'], axis=1, inplace=True)\n",
        "\n",
        "df_traffic.shape"
      ],
      "execution_count": 35,
      "outputs": [
        {
          "output_type": "execute_result",
          "data": {
            "text/plain": [
              "(2974335, 42)"
            ]
          },
          "metadata": {
            "tags": []
          },
          "execution_count": 35
        }
      ]
    },
    {
      "cell_type": "code",
      "metadata": {
        "id": "rbeV0VEvTLb-",
        "colab_type": "code",
        "outputId": "fadd240d-b791-46ab-cca2-c592edcf68a4",
        "colab": {
          "base_uri": "https://localhost:8080/",
          "height": 208
        }
      },
      "source": [
        "df_traffic.columns"
      ],
      "execution_count": 36,
      "outputs": [
        {
          "output_type": "execute_result",
          "data": {
            "text/plain": [
              "Index(['ID', 'Source', 'TMC', 'Severity', 'Start_Time', 'End_Time',\n",
              "       'Start_Lat', 'Start_Lng', 'Distance(mi)', 'Description', 'Side', 'City',\n",
              "       'State', 'Timezone', 'Airport_Code', 'Weather_Timestamp',\n",
              "       'Temperature(F)', 'Wind_Chill(F)', 'Humidity(%)', 'Pressure(in)',\n",
              "       'Visibility(mi)', 'Wind_Direction', 'Wind_Speed(mph)',\n",
              "       'Precipitation(in)', 'Weather_Condition', 'Amenity', 'Bump', 'Crossing',\n",
              "       'Give_Way', 'Junction', 'No_Exit', 'Railway', 'Roundabout', 'Station',\n",
              "       'Stop', 'Traffic_Calming', 'Traffic_Signal', 'Turning_Loop',\n",
              "       'Sunrise_Sunset', 'Civil_Twilight', 'Nautical_Twilight',\n",
              "       'Astronomical_Twilight'],\n",
              "      dtype='object')"
            ]
          },
          "metadata": {
            "tags": []
          },
          "execution_count": 36
        }
      ]
    },
    {
      "cell_type": "code",
      "metadata": {
        "id": "_3hLW4xATLoc",
        "colab_type": "code",
        "outputId": "7a0cad09-936c-4d00-dd18-a47ccad9801a",
        "colab": {
          "base_uri": "https://localhost:8080/",
          "height": 1000
        }
      },
      "source": [
        "#lets check numerical correlation to see what our results are\n",
        "corr=df_traffic.corr()\n",
        "cmap = sns.diverging_palette(220, 10, as_cmap=True)\n",
        "\n",
        "size=plt.figure(figsize=(80,30))\n",
        "\n",
        "sns.heatmap(corr, cmap=cmap, square='true', center=0)"
      ],
      "execution_count": 37,
      "outputs": [
        {
          "output_type": "execute_result",
          "data": {
            "text/plain": [
              "<matplotlib.axes._subplots.AxesSubplot at 0x7f27ce0a3cc0>"
            ]
          },
          "metadata": {
            "tags": []
          },
          "execution_count": 37
        },
        {
          "output_type": "display_data",
          "data": {
            "image/png": "[encoded data removed]",
            "text/plain": [
              "<Figure size 5760x2160 with 2 Axes>"
            ]
          },
          "metadata": {
            "tags": []
          }
        }
      ]
    },
    {
      "cell_type": "markdown",
      "metadata": {
        "id": "1cSnsyiVaGmo",
        "colab_type": "text"
      },
      "source": [
        "It looks like TMC, Start Lat, Start Lng, Distance, Wind Chill, Amenity, Crossing, Junction, Station, Stop, and Traffic Signal all have some level of correllation with Severity. "
      ]
    },
    {
      "cell_type": "code",
      "metadata": {
        "id": "oixTjQywWbUM",
        "colab_type": "code",
        "colab": {}
      },
      "source": [
        ""
      ],
      "execution_count": 0,
      "outputs": []
    },
    {
      "cell_type": "code",
      "metadata": {
        "id": "_VjymAkIWbb4",
        "colab_type": "code",
        "colab": {}
      },
      "source": [
        ""
      ],
      "execution_count": 0,
      "outputs": []
    },
    {
      "cell_type": "code",
      "metadata": {
        "id": "U-8k5KNphlgt",
        "colab_type": "code",
        "colab": {}
      },
      "source": [
        "bool_col= [col for col in df_traffic.columns if df_traffic[col].dtype ==np.dtype('bool')]\n",
        "booldf= df_traffic[bool_col]\n",
        "not_one_hot= booldf[booldf.sum(axis=1)>1]\n",
        "accidentlocation=booldf.sum(axis=0)\n"
      ],
      "execution_count": 0,
      "outputs": []
    },
    {
      "cell_type": "code",
      "metadata": {
        "id": "DpzO2MmThlgx",
        "colab_type": "code",
        "outputId": "6a880995-c2be-478b-b065-10b1b2de7546",
        "colab": {
          "base_uri": "https://localhost:8080/",
          "height": 260
        }
      },
      "source": [
        "accidentlocation"
      ],
      "execution_count": 39,
      "outputs": [
        {
          "output_type": "execute_result",
          "data": {
            "text/plain": [
              "Amenity             35220\n",
              "Bump                  454\n",
              "Crossing           207590\n",
              "Give_Way             7627\n",
              "Junction           238447\n",
              "No_Exit              3395\n",
              "Railway             25161\n",
              "Roundabout            168\n",
              "Station             56413\n",
              "Stop                40160\n",
              "Traffic_Calming      1111\n",
              "Traffic_Signal     503383\n",
              "Turning_Loop            0\n",
              "dtype: int64"
            ]
          },
          "metadata": {
            "tags": []
          },
          "execution_count": 39
        }
      ]
    },
    {
      "cell_type": "code",
      "metadata": {
        "id": "AQZHdZo6hlg4",
        "colab_type": "code",
        "outputId": "7390159f-49a5-4aaf-f686-325bacaf7889",
        "colab": {
          "base_uri": "https://localhost:8080/",
          "height": 862
        }
      },
      "source": [
        "accidentlocation.plot.pie(autopct='%1.1f%%', shadow=True, figsize=(15,15))\n",
        "plt.ylabel('')\n",
        "plt.title('Proximity to Traffic Object');"
      ],
      "execution_count": 40,
      "outputs": [
        {
          "output_type": "display_data",
          "data": {
            "image/png": "[encoded data removed]",
            "text/plain": [
              "<Figure size 1080x1080 with 1 Axes>"
            ]
          },
          "metadata": {
            "tags": []
          }
        }
      ]
    },
    {
      "cell_type": "markdown",
      "metadata": {
        "id": "upG1evsxhlg_",
        "colab_type": "text"
      },
      "source": [
        "Now that we have examined common occurences and trends within the accident data it is time to look at the data in terms of time series."
      ]
    },
    {
      "cell_type": "markdown",
      "metadata": {
        "id": "g5nHpCn9hlg_",
        "colab_type": "text"
      },
      "source": [
        "https://pandas.pydata.org/pandas-docs/stable/reference/api/pandas.to_datetime.html\n",
        "Datetime is useful for handling time series data"
      ]
    },
    {
      "cell_type": "code",
      "metadata": {
        "id": "ZP9XWEYHhlhB",
        "colab_type": "code",
        "outputId": "a7ace83a-ba7e-4924-acb4-9bdc0e7bc8fe",
        "colab": {
          "base_uri": "https://localhost:8080/",
          "height": 570
        }
      },
      "source": [
        "df_traffic['time'] = pd.to_datetime(df_traffic.Start_Time, format='%Y-%m-%d')\n",
        "df_traffic = df_traffic.set_index('time')\n",
        "df_traffic.head()"
      ],
      "execution_count": 41,
      "outputs": [
        {
          "output_type": "execute_result",
          "data": {
            "text/html": [
              "<div>\n",
              "<style scoped>\n",
              "    .dataframe tbody tr th:only-of-type {\n",
              "        vertical-align: middle;\n",
              "    }\n",
              "\n",
              "    .dataframe tbody tr th {\n",
              "        vertical-align: top;\n",
              "    }\n",
              "\n",
              "    .dataframe thead th {\n",
              "        text-align: right;\n",
              "    }\n",
              "</style>\n",
              "<table border=\"1\" class=\"dataframe\">\n",
              "  <thead>\n",
              "    <tr style=\"text-align: right;\">\n",
              "      <th></th>\n",
              "      <th>ID</th>\n",
              "      <th>Source</th>\n",
              "      <th>TMC</th>\n",
              "      <th>Severity</th>\n",
              "      <th>Start_Time</th>\n",
              "      <th>End_Time</th>\n",
              "      <th>Start_Lat</th>\n",
              "      <th>Start_Lng</th>\n",
              "      <th>Distance(mi)</th>\n",
              "      <th>Description</th>\n",
              "      <th>Side</th>\n",
              "      <th>City</th>\n",
              "      <th>State</th>\n",
              "      <th>Timezone</th>\n",
              "      <th>Airport_Code</th>\n",
              "      <th>Weather_Timestamp</th>\n",
              "      <th>Temperature(F)</th>\n",
              "      <th>Wind_Chill(F)</th>\n",
              "      <th>Humidity(%)</th>\n",
              "      <th>Pressure(in)</th>\n",
              "      <th>Visibility(mi)</th>\n",
              "      <th>Wind_Direction</th>\n",
              "      <th>Wind_Speed(mph)</th>\n",
              "      <th>Precipitation(in)</th>\n",
              "      <th>Weather_Condition</th>\n",
              "      <th>Amenity</th>\n",
              "      <th>Bump</th>\n",
              "      <th>Crossing</th>\n",
              "      <th>Give_Way</th>\n",
              "      <th>Junction</th>\n",
              "      <th>No_Exit</th>\n",
              "      <th>Railway</th>\n",
              "      <th>Roundabout</th>\n",
              "      <th>Station</th>\n",
              "      <th>Stop</th>\n",
              "      <th>Traffic_Calming</th>\n",
              "      <th>Traffic_Signal</th>\n",
              "      <th>Turning_Loop</th>\n",
              "      <th>Sunrise_Sunset</th>\n",
              "      <th>Civil_Twilight</th>\n",
              "      <th>Nautical_Twilight</th>\n",
              "      <th>Astronomical_Twilight</th>\n",
              "    </tr>\n",
              "    <tr>\n",
              "      <th>time</th>\n",
              "      <th></th>\n",
              "      <th></th>\n",
              "      <th></th>\n",
              "      <th></th>\n",
              "      <th></th>\n",
              "      <th></th>\n",
              "      <th></th>\n",
              "      <th></th>\n",
              "      <th></th>\n",
              "      <th></th>\n",
              "      <th></th>\n",
              "      <th></th>\n",
              "      <th></th>\n",
              "      <th></th>\n",
              "      <th></th>\n",
              "      <th></th>\n",
              "      <th></th>\n",
              "      <th></th>\n",
              "      <th></th>\n",
              "      <th></th>\n",
              "      <th></th>\n",
              "      <th></th>\n",
              "      <th></th>\n",
              "      <th></th>\n",
              "      <th></th>\n",
              "      <th></th>\n",
              "      <th></th>\n",
              "      <th></th>\n",
              "      <th></th>\n",
              "      <th></th>\n",
              "      <th></th>\n",
              "      <th></th>\n",
              "      <th></th>\n",
              "      <th></th>\n",
              "      <th></th>\n",
              "      <th></th>\n",
              "      <th></th>\n",
              "      <th></th>\n",
              "      <th></th>\n",
              "      <th></th>\n",
              "      <th></th>\n",
              "      <th></th>\n",
              "    </tr>\n",
              "  </thead>\n",
              "  <tbody>\n",
              "    <tr>\n",
              "      <th>2016-02-08 05:46:00</th>\n",
              "      <td>A-1</td>\n",
              "      <td>MapQuest</td>\n",
              "      <td>201.0</td>\n",
              "      <td>3</td>\n",
              "      <td>2016-02-08 05:46:00</td>\n",
              "      <td>2016-02-08 11:00:00</td>\n",
              "      <td>39.865147</td>\n",
              "      <td>-84.058723</td>\n",
              "      <td>0.01</td>\n",
              "      <td>Right lane blocked due to accident on I-70 Eas...</td>\n",
              "      <td>R</td>\n",
              "      <td>Dayton</td>\n",
              "      <td>OH</td>\n",
              "      <td>US/Eastern</td>\n",
              "      <td>KFFO</td>\n",
              "      <td>2016-02-08 05:58:00</td>\n",
              "      <td>36.9</td>\n",
              "      <td>NaN</td>\n",
              "      <td>91.0</td>\n",
              "      <td>29.68</td>\n",
              "      <td>10.0</td>\n",
              "      <td>Calm</td>\n",
              "      <td>NaN</td>\n",
              "      <td>0.02</td>\n",
              "      <td>Light Rain</td>\n",
              "      <td>False</td>\n",
              "      <td>False</td>\n",
              "      <td>False</td>\n",
              "      <td>False</td>\n",
              "      <td>False</td>\n",
              "      <td>False</td>\n",
              "      <td>False</td>\n",
              "      <td>False</td>\n",
              "      <td>False</td>\n",
              "      <td>False</td>\n",
              "      <td>False</td>\n",
              "      <td>False</td>\n",
              "      <td>False</td>\n",
              "      <td>Night</td>\n",
              "      <td>Night</td>\n",
              "      <td>Night</td>\n",
              "      <td>Night</td>\n",
              "    </tr>\n",
              "    <tr>\n",
              "      <th>2016-02-08 06:07:59</th>\n",
              "      <td>A-2</td>\n",
              "      <td>MapQuest</td>\n",
              "      <td>201.0</td>\n",
              "      <td>2</td>\n",
              "      <td>2016-02-08 06:07:59</td>\n",
              "      <td>2016-02-08 06:37:59</td>\n",
              "      <td>39.928059</td>\n",
              "      <td>-82.831184</td>\n",
              "      <td>0.01</td>\n",
              "      <td>Accident on Brice Rd at Tussing Rd. Expect del...</td>\n",
              "      <td>L</td>\n",
              "      <td>Reynoldsburg</td>\n",
              "      <td>OH</td>\n",
              "      <td>US/Eastern</td>\n",
              "      <td>KCMH</td>\n",
              "      <td>2016-02-08 05:51:00</td>\n",
              "      <td>37.9</td>\n",
              "      <td>NaN</td>\n",
              "      <td>100.0</td>\n",
              "      <td>29.65</td>\n",
              "      <td>10.0</td>\n",
              "      <td>Calm</td>\n",
              "      <td>NaN</td>\n",
              "      <td>0.00</td>\n",
              "      <td>Light Rain</td>\n",
              "      <td>False</td>\n",
              "      <td>False</td>\n",
              "      <td>False</td>\n",
              "      <td>False</td>\n",
              "      <td>False</td>\n",
              "      <td>False</td>\n",
              "      <td>False</td>\n",
              "      <td>False</td>\n",
              "      <td>False</td>\n",
              "      <td>False</td>\n",
              "      <td>False</td>\n",
              "      <td>False</td>\n",
              "      <td>False</td>\n",
              "      <td>Night</td>\n",
              "      <td>Night</td>\n",
              "      <td>Night</td>\n",
              "      <td>Day</td>\n",
              "    </tr>\n",
              "    <tr>\n",
              "      <th>2016-02-08 06:49:27</th>\n",
              "      <td>A-3</td>\n",
              "      <td>MapQuest</td>\n",
              "      <td>201.0</td>\n",
              "      <td>2</td>\n",
              "      <td>2016-02-08 06:49:27</td>\n",
              "      <td>2016-02-08 07:19:27</td>\n",
              "      <td>39.063148</td>\n",
              "      <td>-84.032608</td>\n",
              "      <td>0.01</td>\n",
              "      <td>Accident on OH-32 State Route 32 Westbound at ...</td>\n",
              "      <td>R</td>\n",
              "      <td>Williamsburg</td>\n",
              "      <td>OH</td>\n",
              "      <td>US/Eastern</td>\n",
              "      <td>KI69</td>\n",
              "      <td>2016-02-08 06:56:00</td>\n",
              "      <td>36.0</td>\n",
              "      <td>33.3</td>\n",
              "      <td>100.0</td>\n",
              "      <td>29.67</td>\n",
              "      <td>10.0</td>\n",
              "      <td>SW</td>\n",
              "      <td>3.5</td>\n",
              "      <td>NaN</td>\n",
              "      <td>Overcast</td>\n",
              "      <td>False</td>\n",
              "      <td>False</td>\n",
              "      <td>False</td>\n",
              "      <td>False</td>\n",
              "      <td>False</td>\n",
              "      <td>False</td>\n",
              "      <td>False</td>\n",
              "      <td>False</td>\n",
              "      <td>False</td>\n",
              "      <td>False</td>\n",
              "      <td>False</td>\n",
              "      <td>True</td>\n",
              "      <td>False</td>\n",
              "      <td>Night</td>\n",
              "      <td>Night</td>\n",
              "      <td>Day</td>\n",
              "      <td>Day</td>\n",
              "    </tr>\n",
              "    <tr>\n",
              "      <th>2016-02-08 07:23:34</th>\n",
              "      <td>A-4</td>\n",
              "      <td>MapQuest</td>\n",
              "      <td>201.0</td>\n",
              "      <td>3</td>\n",
              "      <td>2016-02-08 07:23:34</td>\n",
              "      <td>2016-02-08 07:53:34</td>\n",
              "      <td>39.747753</td>\n",
              "      <td>-84.205582</td>\n",
              "      <td>0.01</td>\n",
              "      <td>Accident on I-75 Southbound at Exits 52 52B US...</td>\n",
              "      <td>R</td>\n",
              "      <td>Dayton</td>\n",
              "      <td>OH</td>\n",
              "      <td>US/Eastern</td>\n",
              "      <td>KDAY</td>\n",
              "      <td>2016-02-08 07:38:00</td>\n",
              "      <td>35.1</td>\n",
              "      <td>31.0</td>\n",
              "      <td>96.0</td>\n",
              "      <td>29.64</td>\n",
              "      <td>9.0</td>\n",
              "      <td>SW</td>\n",
              "      <td>4.6</td>\n",
              "      <td>NaN</td>\n",
              "      <td>Mostly Cloudy</td>\n",
              "      <td>False</td>\n",
              "      <td>False</td>\n",
              "      <td>False</td>\n",
              "      <td>False</td>\n",
              "      <td>False</td>\n",
              "      <td>False</td>\n",
              "      <td>False</td>\n",
              "      <td>False</td>\n",
              "      <td>False</td>\n",
              "      <td>False</td>\n",
              "      <td>False</td>\n",
              "      <td>False</td>\n",
              "      <td>False</td>\n",
              "      <td>Night</td>\n",
              "      <td>Day</td>\n",
              "      <td>Day</td>\n",
              "      <td>Day</td>\n",
              "    </tr>\n",
              "    <tr>\n",
              "      <th>2016-02-08 07:39:07</th>\n",
              "      <td>A-5</td>\n",
              "      <td>MapQuest</td>\n",
              "      <td>201.0</td>\n",
              "      <td>2</td>\n",
              "      <td>2016-02-08 07:39:07</td>\n",
              "      <td>2016-02-08 08:09:07</td>\n",
              "      <td>39.627781</td>\n",
              "      <td>-84.188354</td>\n",
              "      <td>0.01</td>\n",
              "      <td>Accident on McEwen Rd at OH-725 Miamisburg Cen...</td>\n",
              "      <td>R</td>\n",
              "      <td>Dayton</td>\n",
              "      <td>OH</td>\n",
              "      <td>US/Eastern</td>\n",
              "      <td>KMGY</td>\n",
              "      <td>2016-02-08 07:53:00</td>\n",
              "      <td>36.0</td>\n",
              "      <td>33.3</td>\n",
              "      <td>89.0</td>\n",
              "      <td>29.65</td>\n",
              "      <td>6.0</td>\n",
              "      <td>SW</td>\n",
              "      <td>3.5</td>\n",
              "      <td>NaN</td>\n",
              "      <td>Mostly Cloudy</td>\n",
              "      <td>False</td>\n",
              "      <td>False</td>\n",
              "      <td>False</td>\n",
              "      <td>False</td>\n",
              "      <td>False</td>\n",
              "      <td>False</td>\n",
              "      <td>False</td>\n",
              "      <td>False</td>\n",
              "      <td>False</td>\n",
              "      <td>False</td>\n",
              "      <td>False</td>\n",
              "      <td>True</td>\n",
              "      <td>False</td>\n",
              "      <td>Day</td>\n",
              "      <td>Day</td>\n",
              "      <td>Day</td>\n",
              "      <td>Day</td>\n",
              "    </tr>\n",
              "  </tbody>\n",
              "</table>\n",
              "</div>"
            ],
            "text/plain": [
              "                      ID    Source  ...  Nautical_Twilight  Astronomical_Twilight\n",
              "time                                ...                                          \n",
              "2016-02-08 05:46:00  A-1  MapQuest  ...              Night                  Night\n",
              "2016-02-08 06:07:59  A-2  MapQuest  ...              Night                    Day\n",
              "2016-02-08 06:49:27  A-3  MapQuest  ...                Day                    Day\n",
              "2016-02-08 07:23:34  A-4  MapQuest  ...                Day                    Day\n",
              "2016-02-08 07:39:07  A-5  MapQuest  ...                Day                    Day\n",
              "\n",
              "[5 rows x 42 columns]"
            ]
          },
          "metadata": {
            "tags": []
          },
          "execution_count": 41
        }
      ]
    },
    {
      "cell_type": "code",
      "metadata": {
        "id": "en-FBALdhlhG",
        "colab_type": "code",
        "outputId": "2b005aad-71f0-4628-9325-e4447db8ef47",
        "colab": {
          "base_uri": "https://localhost:8080/",
          "height": 764
        }
      },
      "source": [
        "df_traffic.isnull().sum()"
      ],
      "execution_count": 42,
      "outputs": [
        {
          "output_type": "execute_result",
          "data": {
            "text/plain": [
              "ID                             0\n",
              "Source                         0\n",
              "TMC                       728071\n",
              "Severity                       0\n",
              "Start_Time                     0\n",
              "End_Time                       0\n",
              "Start_Lat                      0\n",
              "Start_Lng                      0\n",
              "Distance(mi)                   0\n",
              "Description                    1\n",
              "Side                           0\n",
              "City                          83\n",
              "State                          0\n",
              "Timezone                    3163\n",
              "Airport_Code                5691\n",
              "Weather_Timestamp          36705\n",
              "Temperature(F)             56063\n",
              "Wind_Chill(F)            1852623\n",
              "Humidity(%)                59173\n",
              "Pressure(in)               48142\n",
              "Visibility(mi)             65691\n",
              "Wind_Direction             45101\n",
              "Wind_Speed(mph)           440840\n",
              "Precipitation(in)        1998358\n",
              "Weather_Condition          65932\n",
              "Amenity                        0\n",
              "Bump                           0\n",
              "Crossing                       0\n",
              "Give_Way                       0\n",
              "Junction                       0\n",
              "No_Exit                        0\n",
              "Railway                        0\n",
              "Roundabout                     0\n",
              "Station                        0\n",
              "Stop                           0\n",
              "Traffic_Calming                0\n",
              "Traffic_Signal                 0\n",
              "Turning_Loop                   0\n",
              "Sunrise_Sunset                93\n",
              "Civil_Twilight                93\n",
              "Nautical_Twilight             93\n",
              "Astronomical_Twilight         93\n",
              "dtype: int64"
            ]
          },
          "metadata": {
            "tags": []
          },
          "execution_count": 42
        }
      ]
    },
    {
      "cell_type": "markdown",
      "metadata": {
        "id": "NnQKVtbwmB1h",
        "colab_type": "text"
      },
      "source": [
        "Now we can look at the geographic data by utilizing the geopandas library."
      ]
    },
    {
      "cell_type": "code",
      "metadata": {
        "id": "Z0_bY9njqS-y",
        "colab_type": "code",
        "outputId": "12af4346-225e-4f77-ac6a-82126f327219",
        "colab": {
          "base_uri": "https://localhost:8080/",
          "height": 238
        }
      },
      "source": [
        "df_florida= df_traffic.loc[(df_traffic['State']=='FL')][['ID', 'Start_Lat', 'Start_Lng', 'Severity']]\n",
        "df_florida.head()"
      ],
      "execution_count": 43,
      "outputs": [
        {
          "output_type": "execute_result",
          "data": {
            "text/html": [
              "<div>\n",
              "<style scoped>\n",
              "    .dataframe tbody tr th:only-of-type {\n",
              "        vertical-align: middle;\n",
              "    }\n",
              "\n",
              "    .dataframe tbody tr th {\n",
              "        vertical-align: top;\n",
              "    }\n",
              "\n",
              "    .dataframe thead th {\n",
              "        text-align: right;\n",
              "    }\n",
              "</style>\n",
              "<table border=\"1\" class=\"dataframe\">\n",
              "  <thead>\n",
              "    <tr style=\"text-align: right;\">\n",
              "      <th></th>\n",
              "      <th>ID</th>\n",
              "      <th>Start_Lat</th>\n",
              "      <th>Start_Lng</th>\n",
              "      <th>Severity</th>\n",
              "    </tr>\n",
              "    <tr>\n",
              "      <th>time</th>\n",
              "      <th></th>\n",
              "      <th></th>\n",
              "      <th></th>\n",
              "      <th></th>\n",
              "    </tr>\n",
              "  </thead>\n",
              "  <tbody>\n",
              "    <tr>\n",
              "      <th>2016-11-30 15:36:03</th>\n",
              "      <td>A-116062</td>\n",
              "      <td>27.981367</td>\n",
              "      <td>-82.326561</td>\n",
              "      <td>3</td>\n",
              "    </tr>\n",
              "    <tr>\n",
              "      <th>2016-11-30 16:25:35</th>\n",
              "      <td>A-116063</td>\n",
              "      <td>27.981367</td>\n",
              "      <td>-82.326561</td>\n",
              "      <td>3</td>\n",
              "    </tr>\n",
              "    <tr>\n",
              "      <th>2016-11-30 16:40:31</th>\n",
              "      <td>A-116064</td>\n",
              "      <td>25.627699</td>\n",
              "      <td>-80.374451</td>\n",
              "      <td>2</td>\n",
              "    </tr>\n",
              "    <tr>\n",
              "      <th>2016-11-30 16:34:57</th>\n",
              "      <td>A-116065</td>\n",
              "      <td>25.899435</td>\n",
              "      <td>-80.346680</td>\n",
              "      <td>3</td>\n",
              "    </tr>\n",
              "    <tr>\n",
              "      <th>2016-11-30 16:38:41</th>\n",
              "      <td>A-116066</td>\n",
              "      <td>26.272926</td>\n",
              "      <td>-80.296432</td>\n",
              "      <td>2</td>\n",
              "    </tr>\n",
              "  </tbody>\n",
              "</table>\n",
              "</div>"
            ],
            "text/plain": [
              "                           ID  Start_Lat  Start_Lng  Severity\n",
              "time                                                         \n",
              "2016-11-30 15:36:03  A-116062  27.981367 -82.326561         3\n",
              "2016-11-30 16:25:35  A-116063  27.981367 -82.326561         3\n",
              "2016-11-30 16:40:31  A-116064  25.627699 -80.374451         2\n",
              "2016-11-30 16:34:57  A-116065  25.899435 -80.346680         3\n",
              "2016-11-30 16:38:41  A-116066  26.272926 -80.296432         2"
            ]
          },
          "metadata": {
            "tags": []
          },
          "execution_count": 43
        }
      ]
    },
    {
      "cell_type": "code",
      "metadata": {
        "id": "dzUJrCzcibVj",
        "colab_type": "code",
        "outputId": "9bf6c01a-11f1-4fb5-88c6-b44b31703af2",
        "colab": {
          "base_uri": "https://localhost:8080/",
          "height": 34
        }
      },
      "source": [
        "df_florida.shape"
      ],
      "execution_count": 44,
      "outputs": [
        {
          "output_type": "execute_result",
          "data": {
            "text/plain": [
              "(223746, 4)"
            ]
          },
          "metadata": {
            "tags": []
          },
          "execution_count": 44
        }
      ]
    },
    {
      "cell_type": "code",
      "metadata": {
        "id": "oPnBnFPtAnRl",
        "colab_type": "code",
        "outputId": "439fb388-a468-408d-edd2-10f7857f84fd",
        "colab": {
          "base_uri": "https://localhost:8080/",
          "height": 238
        }
      },
      "source": [
        "def create_gdf(df_florida, lat, lon):\n",
        "    \"\"\" Convert pandas dataframe into a Geopandas GeoDataFrame\"\"\"\n",
        "    crs = {'init': 'epsg:4326'}\n",
        "    geometry = [Point(xy) for xy in zip(df_florida['Start_Lng'], df_florida['Start_Lat'])]\n",
        "    gdf = gpd.GeoDataFrame(df_florida, crs= crs , geometry=geometry)\n",
        "    return gdf\n",
        "fl_gdf =  create_gdf(df_florida, \"latitude\", \"longitude\")\n",
        "fl_gdf.tail()"
      ],
      "execution_count": 45,
      "outputs": [
        {
          "output_type": "execute_result",
          "data": {
            "text/html": [
              "<div>\n",
              "<style scoped>\n",
              "    .dataframe tbody tr th:only-of-type {\n",
              "        vertical-align: middle;\n",
              "    }\n",
              "\n",
              "    .dataframe tbody tr th {\n",
              "        vertical-align: top;\n",
              "    }\n",
              "\n",
              "    .dataframe thead th {\n",
              "        text-align: right;\n",
              "    }\n",
              "</style>\n",
              "<table border=\"1\" class=\"dataframe\">\n",
              "  <thead>\n",
              "    <tr style=\"text-align: right;\">\n",
              "      <th></th>\n",
              "      <th>ID</th>\n",
              "      <th>Start_Lat</th>\n",
              "      <th>Start_Lng</th>\n",
              "      <th>Severity</th>\n",
              "      <th>geometry</th>\n",
              "    </tr>\n",
              "    <tr>\n",
              "      <th>time</th>\n",
              "      <th></th>\n",
              "      <th></th>\n",
              "      <th></th>\n",
              "      <th></th>\n",
              "      <th></th>\n",
              "    </tr>\n",
              "  </thead>\n",
              "  <tbody>\n",
              "    <tr>\n",
              "      <th>2019-08-23 14:16:20</th>\n",
              "      <td>A-2974027</td>\n",
              "      <td>26.84352</td>\n",
              "      <td>-80.10460</td>\n",
              "      <td>2</td>\n",
              "      <td>POINT (-80.10460 26.84352)</td>\n",
              "    </tr>\n",
              "    <tr>\n",
              "      <th>2019-08-23 14:12:39</th>\n",
              "      <td>A-2974028</td>\n",
              "      <td>29.40633</td>\n",
              "      <td>-81.15644</td>\n",
              "      <td>3</td>\n",
              "      <td>POINT (-81.15644 29.40633)</td>\n",
              "    </tr>\n",
              "    <tr>\n",
              "      <th>2019-08-23 17:28:24</th>\n",
              "      <td>A-2974033</td>\n",
              "      <td>27.96509</td>\n",
              "      <td>-82.44727</td>\n",
              "      <td>4</td>\n",
              "      <td>POINT (-82.44727 27.96509)</td>\n",
              "    </tr>\n",
              "    <tr>\n",
              "      <th>2019-08-23 19:51:27</th>\n",
              "      <td>A-2974038</td>\n",
              "      <td>28.54708</td>\n",
              "      <td>-81.27017</td>\n",
              "      <td>4</td>\n",
              "      <td>POINT (-81.27017 28.54708)</td>\n",
              "    </tr>\n",
              "    <tr>\n",
              "      <th>2019-08-23 19:14:05</th>\n",
              "      <td>A-2974039</td>\n",
              "      <td>25.93595</td>\n",
              "      <td>-80.19918</td>\n",
              "      <td>4</td>\n",
              "      <td>POINT (-80.19918 25.93595)</td>\n",
              "    </tr>\n",
              "  </tbody>\n",
              "</table>\n",
              "</div>"
            ],
            "text/plain": [
              "                            ID  Start_Lat  ...  Severity                    geometry\n",
              "time                                       ...                                      \n",
              "2019-08-23 14:16:20  A-2974027   26.84352  ...         2  POINT (-80.10460 26.84352)\n",
              "2019-08-23 14:12:39  A-2974028   29.40633  ...         3  POINT (-81.15644 29.40633)\n",
              "2019-08-23 17:28:24  A-2974033   27.96509  ...         4  POINT (-82.44727 27.96509)\n",
              "2019-08-23 19:51:27  A-2974038   28.54708  ...         4  POINT (-81.27017 28.54708)\n",
              "2019-08-23 19:14:05  A-2974039   25.93595  ...         4  POINT (-80.19918 25.93595)\n",
              "\n",
              "[5 rows x 5 columns]"
            ]
          },
          "metadata": {
            "tags": []
          },
          "execution_count": 45
        }
      ]
    },
    {
      "cell_type": "markdown",
      "metadata": {
        "id": "O6HqPrpuGHXD",
        "colab_type": "text"
      },
      "source": [
        "With a geopandas dataframe we can potentially create a centroid or cluster with K means clustering."
      ]
    },
    {
      "cell_type": "code",
      "metadata": {
        "id": "z3YRtziSh1sz",
        "colab_type": "code",
        "outputId": "e3238479-19cd-4853-ac68-47bbb4dde18e",
        "colab": {
          "base_uri": "https://localhost:8080/",
          "height": 54
        }
      },
      "source": [
        "\"\"\"\n",
        "map1 = folium.Map(\n",
        "    location=[27.6648, -81.5158],\n",
        "    tiles='cartodbpositron',\n",
        "    zoom_start=8,\n",
        ")\n",
        "fl_gdf.apply(lambda row:folium.CircleMarker(location=[row[\"Start_Lat\"], row[\"Start_Lng\"]]).add_to(map1), axis=1)\n",
        "map1\n",
        "\"\"\""
      ],
      "execution_count": 46,
      "outputs": [
        {
          "output_type": "execute_result",
          "data": {
            "text/plain": [
              "'\\nmap1 = folium.Map(\\n    location=[27.6648, -81.5158],\\n    tiles=\\'cartodbpositron\\',\\n    zoom_start=8,\\n)\\nfl_gdf.apply(lambda row:folium.CircleMarker(location=[row[\"Start_Lat\"], row[\"Start_Lng\"]]).add_to(map1), axis=1)\\nmap1\\n'"
            ]
          },
          "metadata": {
            "tags": []
          },
          "execution_count": 46
        }
      ]
    },
    {
      "cell_type": "code",
      "metadata": {
        "id": "0vtoTdQCDbnw",
        "colab_type": "code",
        "outputId": "07d0a260-081f-4f0b-bdfc-590ef5e5bbe5",
        "colab": {
          "base_uri": "https://localhost:8080/",
          "height": 34
        }
      },
      "source": [
        "df_floridatrain= df_traffic.loc[(df_traffic['State']=='FL')&(df_traffic['Severity']==4)][['ID', 'Start_Lat', 'Start_Lng']]\n",
        "df_floridatrain.shape"
      ],
      "execution_count": 47,
      "outputs": [
        {
          "output_type": "execute_result",
          "data": {
            "text/plain": [
              "(7422, 3)"
            ]
          },
          "metadata": {
            "tags": []
          },
          "execution_count": 47
        }
      ]
    },
    {
      "cell_type": "code",
      "metadata": {
        "id": "Au2N5pPezvrP",
        "colab_type": "code",
        "colab": {}
      },
      "source": [
        ""
      ],
      "execution_count": 0,
      "outputs": []
    },
    {
      "cell_type": "code",
      "metadata": {
        "id": "A4LbB5QUDb1O",
        "colab_type": "code",
        "colab": {}
      },
      "source": [
        "# creates 100 clusters using k-means clustering algorithm.\n",
        "kmeans = KMeans(100)\n",
        "clusters = kmeans.fit_predict(df_floridatrain[['Start_Lat','Start_Lng']])\n"
      ],
      "execution_count": 0,
      "outputs": []
    },
    {
      "cell_type": "code",
      "metadata": {
        "id": "-5g8Y8maz6Z1",
        "colab_type": "code",
        "outputId": "8052bd76-4698-4d19-e7b1-6bd0d0ec4bdc",
        "colab": {
          "base_uri": "https://localhost:8080/",
          "height": 34
        }
      },
      "source": [
        "df_floridatrain['cluster'] = kmeans.predict(df_floridatrain[['Start_Lat','Start_Lng']])\n",
        "df_floridatrain.shape"
      ],
      "execution_count": 91,
      "outputs": [
        {
          "output_type": "execute_result",
          "data": {
            "text/plain": [
              "(7422, 5)"
            ]
          },
          "metadata": {
            "tags": []
          },
          "execution_count": 91
        }
      ]
    },
    {
      "cell_type": "markdown",
      "metadata": {
        "id": "dNQpQmAn1ohK",
        "colab_type": "text"
      },
      "source": [
        "Now that we have some clusters it is ideal if we plot the worst accidents with their clusters."
      ]
    },
    {
      "cell_type": "code",
      "metadata": {
        "id": "qor0xT9m1i0e",
        "colab_type": "code",
        "outputId": "5ed4c903-a188-41c1-d762-b0b9c511af9e",
        "colab": {
          "base_uri": "https://localhost:8080/",
          "height": 1000
        }
      },
      "source": [
        "plt.figure(figsize = (20,20))\n",
        "sns.scatterplot(df_floridatrain['Start_Lng'], df_floridatrain['Start_Lat'], hue=df_floridatrain['cluster'])"
      ],
      "execution_count": 50,
      "outputs": [
        {
          "output_type": "execute_result",
          "data": {
            "text/plain": [
              "<matplotlib.axes._subplots.AxesSubplot at 0x7f279550d128>"
            ]
          },
          "metadata": {
            "tags": []
          },
          "execution_count": 50
        },
        {
          "output_type": "display_data",
          "data": {
            "image/png": "[encoded data removed]",
            "text/plain": [
              "<Figure size 1440x1440 with 1 Axes>"
            ]
          },
          "metadata": {
            "tags": []
          }
        }
      ]
    },
    {
      "cell_type": "code",
      "metadata": {
        "id": "fUhclfpj-qKM",
        "colab_type": "code",
        "outputId": "25ee0e02-459b-4035-8133-9f1915192dfc",
        "colab": {
          "base_uri": "https://localhost:8080/",
          "height": 238
        }
      },
      "source": [
        "def create_gdf(df_floridatrain, lat, lon):\n",
        "    \"\"\" Convert pandas dataframe into a Geopandas GeoDataFrame\"\"\"\n",
        "    crs = {'init': 'epsg:4326'}\n",
        "    geometry = [Point(xy) for xy in zip(df_floridatrain['Start_Lng'], df_floridatrain['Start_Lat'])]\n",
        "    gdf2 = gpd.GeoDataFrame(df_floridatrain, crs= crs , geometry=geometry)\n",
        "    return gdf2\n",
        "fl_gdf2 =  create_gdf(df_floridatrain, \"latitude\", \"longitude\")\n",
        "fl_gdf2.tail()"
      ],
      "execution_count": 51,
      "outputs": [
        {
          "output_type": "execute_result",
          "data": {
            "text/html": [
              "<div>\n",
              "<style scoped>\n",
              "    .dataframe tbody tr th:only-of-type {\n",
              "        vertical-align: middle;\n",
              "    }\n",
              "\n",
              "    .dataframe tbody tr th {\n",
              "        vertical-align: top;\n",
              "    }\n",
              "\n",
              "    .dataframe thead th {\n",
              "        text-align: right;\n",
              "    }\n",
              "</style>\n",
              "<table border=\"1\" class=\"dataframe\">\n",
              "  <thead>\n",
              "    <tr style=\"text-align: right;\">\n",
              "      <th></th>\n",
              "      <th>ID</th>\n",
              "      <th>Start_Lat</th>\n",
              "      <th>Start_Lng</th>\n",
              "      <th>cluster</th>\n",
              "      <th>geometry</th>\n",
              "    </tr>\n",
              "    <tr>\n",
              "      <th>time</th>\n",
              "      <th></th>\n",
              "      <th></th>\n",
              "      <th></th>\n",
              "      <th></th>\n",
              "      <th></th>\n",
              "    </tr>\n",
              "  </thead>\n",
              "  <tbody>\n",
              "    <tr>\n",
              "      <th>2019-08-23 10:18:28</th>\n",
              "      <td>A-2974019</td>\n",
              "      <td>27.703600</td>\n",
              "      <td>-80.895270</td>\n",
              "      <td>15</td>\n",
              "      <td>POINT (-80.89527 27.70360)</td>\n",
              "    </tr>\n",
              "    <tr>\n",
              "      <th>2019-08-23 13:32:30</th>\n",
              "      <td>A-2974026</td>\n",
              "      <td>30.328189</td>\n",
              "      <td>-82.959449</td>\n",
              "      <td>19</td>\n",
              "      <td>POINT (-82.95945 30.32819)</td>\n",
              "    </tr>\n",
              "    <tr>\n",
              "      <th>2019-08-23 17:28:24</th>\n",
              "      <td>A-2974033</td>\n",
              "      <td>27.965090</td>\n",
              "      <td>-82.447270</td>\n",
              "      <td>12</td>\n",
              "      <td>POINT (-82.44727 27.96509)</td>\n",
              "    </tr>\n",
              "    <tr>\n",
              "      <th>2019-08-23 19:51:27</th>\n",
              "      <td>A-2974038</td>\n",
              "      <td>28.547080</td>\n",
              "      <td>-81.270170</td>\n",
              "      <td>42</td>\n",
              "      <td>POINT (-81.27017 28.54708)</td>\n",
              "    </tr>\n",
              "    <tr>\n",
              "      <th>2019-08-23 19:14:05</th>\n",
              "      <td>A-2974039</td>\n",
              "      <td>25.935950</td>\n",
              "      <td>-80.199180</td>\n",
              "      <td>1</td>\n",
              "      <td>POINT (-80.19918 25.93595)</td>\n",
              "    </tr>\n",
              "  </tbody>\n",
              "</table>\n",
              "</div>"
            ],
            "text/plain": [
              "                            ID  Start_Lat  ...  cluster                    geometry\n",
              "time                                       ...                                     \n",
              "2019-08-23 10:18:28  A-2974019  27.703600  ...       15  POINT (-80.89527 27.70360)\n",
              "2019-08-23 13:32:30  A-2974026  30.328189  ...       19  POINT (-82.95945 30.32819)\n",
              "2019-08-23 17:28:24  A-2974033  27.965090  ...       12  POINT (-82.44727 27.96509)\n",
              "2019-08-23 19:51:27  A-2974038  28.547080  ...       42  POINT (-81.27017 28.54708)\n",
              "2019-08-23 19:14:05  A-2974039  25.935950  ...        1  POINT (-80.19918 25.93595)\n",
              "\n",
              "[5 rows x 5 columns]"
            ]
          },
          "metadata": {
            "tags": []
          },
          "execution_count": 51
        }
      ]
    },
    {
      "cell_type": "code",
      "metadata": {
        "id": "DrtZ8naNZ6XM",
        "colab_type": "code",
        "colab": {
          "base_uri": "https://localhost:8080/",
          "height": 1000
        },
        "outputId": "cc52df11-284d-44b9-a402-becb1a3dd5e2"
      },
      "source": [
        "fl_gdf2.plot(column='cluster', cmap= 'hsv', figsize=(20,22))"
      ],
      "execution_count": 52,
      "outputs": [
        {
          "output_type": "execute_result",
          "data": {
            "text/plain": [
              "<matplotlib.axes._subplots.AxesSubplot at 0x7f2797ffab00>"
            ]
          },
          "metadata": {
            "tags": []
          },
          "execution_count": 52
        },
        {
          "output_type": "display_data",
          "data": {
            "image/png": "[encoded data removed]",
            "text/plain": [
              "<Figure size 1440x1584 with 1 Axes>"
            ]
          },
          "metadata": {
            "tags": []
          }
        }
      ]
    },
    {
      "cell_type": "code",
      "metadata": {
        "id": "cmr6X6q4vuGx",
        "colab_type": "code",
        "outputId": "89f0b90e-e8f0-47e5-d7a5-6692db08b881",
        "colab": {
          "base_uri": "https://localhost:8080/",
          "height": 69
        }
      },
      "source": [
        "xc=np.array(df_floridatrain['Start_Lng'])\n",
        "yc=np.array(df_floridatrain['Start_Lat'])\n",
        "print(xc.shape)\n",
        "print(yc.shape)\n",
        "ctest=np.array(df_floridatrain['cluster'])\n",
        "print(ctest.shape)"
      ],
      "execution_count": 53,
      "outputs": [
        {
          "output_type": "stream",
          "text": [
            "(7422,)\n",
            "(7422,)\n",
            "(7422,)\n"
          ],
          "name": "stdout"
        }
      ]
    },
    {
      "cell_type": "code",
      "metadata": {
        "id": "--eLuvVo0-E8",
        "colab_type": "code",
        "outputId": "1df117fd-b8eb-4e28-e80d-ba8e467f54bb",
        "colab": {
          "base_uri": "https://localhost:8080/",
          "height": 139
        }
      },
      "source": [
        "centroids=kmeans.cluster_centers_[ctest]\n",
        "print(centroids)"
      ],
      "execution_count": 54,
      "outputs": [
        {
          "output_type": "stream",
          "text": [
            "[[ 25.8031533  -80.20795719]\n",
            " [ 25.8031533  -80.20795719]\n",
            " [ 27.31702166 -82.46532754]\n",
            " ...\n",
            " [ 27.99465941 -82.48318418]\n",
            " [ 28.53623072 -81.2464243 ]\n",
            " [ 25.92416724 -80.2065288 ]]\n"
          ],
          "name": "stdout"
        }
      ]
    },
    {
      "cell_type": "code",
      "metadata": {
        "id": "nLnsdoBSzjdz",
        "colab_type": "code",
        "outputId": "0c247309-c183-463e-bf04-88b73421e1a1",
        "colab": {
          "base_uri": "https://localhost:8080/",
          "height": 34
        }
      },
      "source": [
        "centroids.shape"
      ],
      "execution_count": 55,
      "outputs": [
        {
          "output_type": "execute_result",
          "data": {
            "text/plain": [
              "(7422, 2)"
            ]
          },
          "metadata": {
            "tags": []
          },
          "execution_count": 55
        }
      ]
    },
    {
      "cell_type": "code",
      "metadata": {
        "id": "xbkcdIaW6Q-y",
        "colab_type": "code",
        "colab": {}
      },
      "source": [
        ""
      ],
      "execution_count": 0,
      "outputs": []
    },
    {
      "cell_type": "code",
      "metadata": {
        "id": "0rx9bN3dbhKV",
        "colab_type": "code",
        "colab": {}
      },
      "source": [
        ""
      ],
      "execution_count": 0,
      "outputs": []
    },
    {
      "cell_type": "markdown",
      "metadata": {
        "id": "8oJljRTV9Nt_",
        "colab_type": "text"
      },
      "source": [
        "Now that we have conducted preliminary analysis of the data and have found a target variable of severity and locations let's use K nearest neighbor clustering to predict problem areas that need attention."
      ]
    },
    {
      "cell_type": "code",
      "metadata": {
        "id": "DMuqN4yVqlOW",
        "colab_type": "code",
        "colab": {}
      },
      "source": [
        ""
      ],
      "execution_count": 0,
      "outputs": []
    },
    {
      "cell_type": "code",
      "metadata": {
        "id": "bFjoP6khIGRN",
        "colab_type": "code",
        "outputId": "b7590cba-363d-42d8-bef3-67166db4a95b",
        "colab": {
          "base_uri": "https://localhost:8080/",
          "height": 34
        }
      },
      "source": [
        "\"\"\"\n",
        "from shapely.ops import nearest_points\n",
        "\n",
        "gdf['nearestpoints']=nearest_points(gdf['geometry'], gdf['centroid'],)\n",
        "\"\"\""
      ],
      "execution_count": 56,
      "outputs": [
        {
          "output_type": "execute_result",
          "data": {
            "text/plain": [
              "\"\\nfrom shapely.ops import nearest_points\\n\\ngdf['nearestpoints']=nearest_points(gdf['geometry'], gdf['centroid'],)\\n\""
            ]
          },
          "metadata": {
            "tags": []
          },
          "execution_count": 56
        }
      ]
    },
    {
      "cell_type": "markdown",
      "metadata": {
        "id": "VevOt4ExMfQd",
        "colab_type": "text"
      },
      "source": [
        "Let's try a new tactic to conduct KNN. So now we will check to see if location increases any type of severity and where to place officials to address accidents efficiently."
      ]
    },
    {
      "cell_type": "code",
      "metadata": {
        "colab_type": "code",
        "id": "bIQ1s_cEGzZx",
        "outputId": "12b2a1c6-db8c-45db-feee-fa5f8485c397",
        "colab": {
          "base_uri": "https://localhost:8080/",
          "height": 238
        }
      },
      "source": [
        "df_florida=df_traffic.loc[(df_traffic['State']=='FL')][['ID', 'Start_Lng', 'Start_Lat', 'Severity']]\n",
        "df_florida.tail()"
      ],
      "execution_count": 57,
      "outputs": [
        {
          "output_type": "execute_result",
          "data": {
            "text/html": [
              "<div>\n",
              "<style scoped>\n",
              "    .dataframe tbody tr th:only-of-type {\n",
              "        vertical-align: middle;\n",
              "    }\n",
              "\n",
              "    .dataframe tbody tr th {\n",
              "        vertical-align: top;\n",
              "    }\n",
              "\n",
              "    .dataframe thead th {\n",
              "        text-align: right;\n",
              "    }\n",
              "</style>\n",
              "<table border=\"1\" class=\"dataframe\">\n",
              "  <thead>\n",
              "    <tr style=\"text-align: right;\">\n",
              "      <th></th>\n",
              "      <th>ID</th>\n",
              "      <th>Start_Lng</th>\n",
              "      <th>Start_Lat</th>\n",
              "      <th>Severity</th>\n",
              "    </tr>\n",
              "    <tr>\n",
              "      <th>time</th>\n",
              "      <th></th>\n",
              "      <th></th>\n",
              "      <th></th>\n",
              "      <th></th>\n",
              "    </tr>\n",
              "  </thead>\n",
              "  <tbody>\n",
              "    <tr>\n",
              "      <th>2019-08-23 14:16:20</th>\n",
              "      <td>A-2974027</td>\n",
              "      <td>-80.10460</td>\n",
              "      <td>26.84352</td>\n",
              "      <td>2</td>\n",
              "    </tr>\n",
              "    <tr>\n",
              "      <th>2019-08-23 14:12:39</th>\n",
              "      <td>A-2974028</td>\n",
              "      <td>-81.15644</td>\n",
              "      <td>29.40633</td>\n",
              "      <td>3</td>\n",
              "    </tr>\n",
              "    <tr>\n",
              "      <th>2019-08-23 17:28:24</th>\n",
              "      <td>A-2974033</td>\n",
              "      <td>-82.44727</td>\n",
              "      <td>27.96509</td>\n",
              "      <td>4</td>\n",
              "    </tr>\n",
              "    <tr>\n",
              "      <th>2019-08-23 19:51:27</th>\n",
              "      <td>A-2974038</td>\n",
              "      <td>-81.27017</td>\n",
              "      <td>28.54708</td>\n",
              "      <td>4</td>\n",
              "    </tr>\n",
              "    <tr>\n",
              "      <th>2019-08-23 19:14:05</th>\n",
              "      <td>A-2974039</td>\n",
              "      <td>-80.19918</td>\n",
              "      <td>25.93595</td>\n",
              "      <td>4</td>\n",
              "    </tr>\n",
              "  </tbody>\n",
              "</table>\n",
              "</div>"
            ],
            "text/plain": [
              "                            ID  Start_Lng  Start_Lat  Severity\n",
              "time                                                          \n",
              "2019-08-23 14:16:20  A-2974027  -80.10460   26.84352         2\n",
              "2019-08-23 14:12:39  A-2974028  -81.15644   29.40633         3\n",
              "2019-08-23 17:28:24  A-2974033  -82.44727   27.96509         4\n",
              "2019-08-23 19:51:27  A-2974038  -81.27017   28.54708         4\n",
              "2019-08-23 19:14:05  A-2974039  -80.19918   25.93595         4"
            ]
          },
          "metadata": {
            "tags": []
          },
          "execution_count": 57
        }
      ]
    },
    {
      "cell_type": "code",
      "metadata": {
        "colab_type": "code",
        "id": "9Ev2IOtSGzNk",
        "outputId": "3ddd5ebc-be87-439a-f254-2865d61d132c",
        "colab": {
          "base_uri": "https://localhost:8080/",
          "height": 238
        }
      },
      "source": [
        "X=pd.concat([df_florida['Start_Lat'],df_florida['Start_Lng']],axis=1)\n",
        "X.head()"
      ],
      "execution_count": 58,
      "outputs": [
        {
          "output_type": "execute_result",
          "data": {
            "text/html": [
              "<div>\n",
              "<style scoped>\n",
              "    .dataframe tbody tr th:only-of-type {\n",
              "        vertical-align: middle;\n",
              "    }\n",
              "\n",
              "    .dataframe tbody tr th {\n",
              "        vertical-align: top;\n",
              "    }\n",
              "\n",
              "    .dataframe thead th {\n",
              "        text-align: right;\n",
              "    }\n",
              "</style>\n",
              "<table border=\"1\" class=\"dataframe\">\n",
              "  <thead>\n",
              "    <tr style=\"text-align: right;\">\n",
              "      <th></th>\n",
              "      <th>Start_Lat</th>\n",
              "      <th>Start_Lng</th>\n",
              "    </tr>\n",
              "    <tr>\n",
              "      <th>time</th>\n",
              "      <th></th>\n",
              "      <th></th>\n",
              "    </tr>\n",
              "  </thead>\n",
              "  <tbody>\n",
              "    <tr>\n",
              "      <th>2016-11-30 15:36:03</th>\n",
              "      <td>27.981367</td>\n",
              "      <td>-82.326561</td>\n",
              "    </tr>\n",
              "    <tr>\n",
              "      <th>2016-11-30 16:25:35</th>\n",
              "      <td>27.981367</td>\n",
              "      <td>-82.326561</td>\n",
              "    </tr>\n",
              "    <tr>\n",
              "      <th>2016-11-30 16:40:31</th>\n",
              "      <td>25.627699</td>\n",
              "      <td>-80.374451</td>\n",
              "    </tr>\n",
              "    <tr>\n",
              "      <th>2016-11-30 16:34:57</th>\n",
              "      <td>25.899435</td>\n",
              "      <td>-80.346680</td>\n",
              "    </tr>\n",
              "    <tr>\n",
              "      <th>2016-11-30 16:38:41</th>\n",
              "      <td>26.272926</td>\n",
              "      <td>-80.296432</td>\n",
              "    </tr>\n",
              "  </tbody>\n",
              "</table>\n",
              "</div>"
            ],
            "text/plain": [
              "                     Start_Lat  Start_Lng\n",
              "time                                     \n",
              "2016-11-30 15:36:03  27.981367 -82.326561\n",
              "2016-11-30 16:25:35  27.981367 -82.326561\n",
              "2016-11-30 16:40:31  25.627699 -80.374451\n",
              "2016-11-30 16:34:57  25.899435 -80.346680\n",
              "2016-11-30 16:38:41  26.272926 -80.296432"
            ]
          },
          "metadata": {
            "tags": []
          },
          "execution_count": 58
        }
      ]
    },
    {
      "cell_type": "code",
      "metadata": {
        "id": "_dTNfqnTjmTb",
        "colab_type": "code",
        "outputId": "e3bd0e8f-68a6-4644-c9cf-ff9ff329df0f",
        "colab": {
          "base_uri": "https://localhost:8080/",
          "height": 34
        }
      },
      "source": [
        "X.shape"
      ],
      "execution_count": 59,
      "outputs": [
        {
          "output_type": "execute_result",
          "data": {
            "text/plain": [
              "(223746, 2)"
            ]
          },
          "metadata": {
            "tags": []
          },
          "execution_count": 59
        }
      ]
    },
    {
      "cell_type": "code",
      "metadata": {
        "colab_type": "code",
        "id": "LzCkU67CGy-O",
        "outputId": "9b8ba481-2539-4ec6-b053-68a380121446",
        "colab": {
          "base_uri": "https://localhost:8080/",
          "height": 139
        }
      },
      "source": [
        "y=df_florida['Severity']\n",
        "y.head()"
      ],
      "execution_count": 60,
      "outputs": [
        {
          "output_type": "execute_result",
          "data": {
            "text/plain": [
              "time\n",
              "2016-11-30 15:36:03    3\n",
              "2016-11-30 16:25:35    3\n",
              "2016-11-30 16:40:31    2\n",
              "2016-11-30 16:34:57    3\n",
              "2016-11-30 16:38:41    2\n",
              "Name: Severity, dtype: int64"
            ]
          },
          "metadata": {
            "tags": []
          },
          "execution_count": 60
        }
      ]
    },
    {
      "cell_type": "code",
      "metadata": {
        "id": "pyihiyZvjpO-",
        "colab_type": "code",
        "outputId": "8f157361-c58e-4923-d155-d1980cfa4ef5",
        "colab": {
          "base_uri": "https://localhost:8080/",
          "height": 34
        }
      },
      "source": [
        "y.shape"
      ],
      "execution_count": 61,
      "outputs": [
        {
          "output_type": "execute_result",
          "data": {
            "text/plain": [
              "(223746,)"
            ]
          },
          "metadata": {
            "tags": []
          },
          "execution_count": 61
        }
      ]
    },
    {
      "cell_type": "code",
      "metadata": {
        "colab_type": "code",
        "id": "eLKYczSCGyul",
        "colab": {}
      },
      "source": [
        "X_train, X_test, y_train, y_test = train_test_split(X, y, test_size=0.2, random_state=100)\n"
      ],
      "execution_count": 0,
      "outputs": []
    },
    {
      "cell_type": "code",
      "metadata": {
        "id": "zbtfQpVNj3o4",
        "colab_type": "code",
        "outputId": "215c1df6-0eec-44d2-c3c3-4a9bff420049",
        "colab": {
          "base_uri": "https://localhost:8080/",
          "height": 34
        }
      },
      "source": [
        "y_train.shape"
      ],
      "execution_count": 63,
      "outputs": [
        {
          "output_type": "execute_result",
          "data": {
            "text/plain": [
              "(178996,)"
            ]
          },
          "metadata": {
            "tags": []
          },
          "execution_count": 63
        }
      ]
    },
    {
      "cell_type": "code",
      "metadata": {
        "id": "kt2T_OmIGygX",
        "colab_type": "code",
        "outputId": "5d0accde-7509-4162-a916-2bbbe5860596",
        "colab": {
          "base_uri": "https://localhost:8080/",
          "height": 54
        }
      },
      "source": [
        "\"\"\"\n",
        "What KNN is doing when called\n",
        "\n",
        "def euclid_distance(x1, x2):\n",
        "  np.sqrt(np.sum((x1-x)**2))\n",
        "\n",
        "class KNN:\n",
        "  def euclidean_distance(x1, x2):\n",
        "    return np.sqrt(np.sum(()))\n",
        "\n",
        "  def __init__(self, k=100):\n",
        "    self.k = k\n",
        "\n",
        "  def fit(self, X, y):\n",
        "    self.X_train = X\n",
        "    self.y_train = y\n",
        "\n",
        "  def predict(self, X):\n",
        "    #compute distances\n",
        "    predicted_labels = [self._predict(x) for x in X]\n",
        "    return \n",
        "    \n",
        "  def _predict(self, x):\n",
        "    #compute distance\n",
        "    distances = [euclidean_distance(X, X_train) for X_train in self.X_train]\n",
        "    #get K nearest samples, labels\n",
        "    k_indices= np.argsort(distances)[:self.k]\n",
        "    k_nearest_labels = [self.y_train[i] for i in k_indices]\n",
        "\"\"\""
      ],
      "execution_count": 64,
      "outputs": [
        {
          "output_type": "execute_result",
          "data": {
            "text/plain": [
              "'\\nWhat KNN is doing when called\\n\\ndef euclid_distance(x1, x2):\\n  np.sqrt(np.sum((x1-x)**2))\\n\\nclass KNN:\\n  def euclidean_distance(x1, x2):\\n    return np.sqrt(np.sum(()))\\n\\n  def __init__(self, k=100):\\n    self.k = k\\n\\n  def fit(self, X, y):\\n    self.X_train = X\\n    self.y_train = y\\n\\n  def predict(self, X):\\n    #compute distances\\n    predicted_labels = [self._predict(x) for x in X]\\n    return \\n    \\n  def _predict(self, x):\\n    #compute distance\\n    distances = [euclidean_distance(X, X_train) for X_train in self.X_train]\\n    #get K nearest samples, labels\\n    k_indices= np.argsort(distances)[:self.k]\\n    k_nearest_labels = [self.y_train[i] for i in k_indices]\\n'"
            ]
          },
          "metadata": {
            "tags": []
          },
          "execution_count": 64
        }
      ]
    },
    {
      "cell_type": "code",
      "metadata": {
        "id": "7ppqImQCGyoC",
        "colab_type": "code",
        "colab": {}
      },
      "source": [
        "accidentneighbors = KNeighborsClassifier(n_neighbors=100)\n",
        "accidentneighbors.fit(X_train, y_train)\n",
        "predictions = accidentneighbors.predict(X_test)"
      ],
      "execution_count": 0,
      "outputs": []
    },
    {
      "cell_type": "code",
      "metadata": {
        "id": "14CXr0w9GyyT",
        "colab_type": "code",
        "outputId": "b5bb1ce0-d186-47de-da8d-054b29d532c4",
        "colab": {
          "base_uri": "https://localhost:8080/",
          "height": 34
        }
      },
      "source": [
        "accuracy=np.sum(predictions == y_test) / len(y_test)\n",
        "print(accuracy)"
      ],
      "execution_count": 66,
      "outputs": [
        {
          "output_type": "stream",
          "text": [
            "0.8094301675977653\n"
          ],
          "name": "stdout"
        }
      ]
    },
    {
      "cell_type": "code",
      "metadata": {
        "id": "6mziKBRbsSWv",
        "colab_type": "code",
        "colab": {}
      },
      "source": [
        ""
      ],
      "execution_count": 0,
      "outputs": []
    },
    {
      "cell_type": "code",
      "metadata": {
        "id": "HeKCgHwLsSc1",
        "colab_type": "code",
        "colab": {}
      },
      "source": [
        ""
      ],
      "execution_count": 0,
      "outputs": []
    },
    {
      "cell_type": "markdown",
      "metadata": {
        "id": "gEO2jD8nm7A0",
        "colab_type": "text"
      },
      "source": [
        "Now that I have obtained the accuracy and loss of data that this model takes in for Florida, I will now try it for Arizona. I will run KNN for Arizona and California as well. I would like to potentially see if google collab will allow me to test the entirety of the United states as well. I would like to test out coordinates of an accident site to see if the model can accurately predict the severity of the accident."
      ]
    },
    {
      "cell_type": "code",
      "metadata": {
        "id": "RK5MQ-zhFvxv",
        "colab_type": "code",
        "outputId": "0f02c9d4-bd68-4d82-afc8-f7386458d155",
        "colab": {
          "base_uri": "https://localhost:8080/",
          "height": 238
        }
      },
      "source": [
        "df_arizona=df_traffic.loc[df_traffic['State']=='AZ'][['ID', 'Start_Lat', 'Start_Lng', 'Severity']]\n",
        "df_arizona.head()"
      ],
      "execution_count": 67,
      "outputs": [
        {
          "output_type": "execute_result",
          "data": {
            "text/html": [
              "<div>\n",
              "<style scoped>\n",
              "    .dataframe tbody tr th:only-of-type {\n",
              "        vertical-align: middle;\n",
              "    }\n",
              "\n",
              "    .dataframe tbody tr th {\n",
              "        vertical-align: top;\n",
              "    }\n",
              "\n",
              "    .dataframe thead th {\n",
              "        text-align: right;\n",
              "    }\n",
              "</style>\n",
              "<table border=\"1\" class=\"dataframe\">\n",
              "  <thead>\n",
              "    <tr style=\"text-align: right;\">\n",
              "      <th></th>\n",
              "      <th>ID</th>\n",
              "      <th>Start_Lat</th>\n",
              "      <th>Start_Lng</th>\n",
              "      <th>Severity</th>\n",
              "    </tr>\n",
              "    <tr>\n",
              "      <th>time</th>\n",
              "      <th></th>\n",
              "      <th></th>\n",
              "      <th></th>\n",
              "      <th></th>\n",
              "    </tr>\n",
              "  </thead>\n",
              "  <tbody>\n",
              "    <tr>\n",
              "      <th>2019-12-24 23:36:25</th>\n",
              "      <td>A-512575</td>\n",
              "      <td>33.445259</td>\n",
              "      <td>-111.856468</td>\n",
              "      <td>2</td>\n",
              "    </tr>\n",
              "    <tr>\n",
              "      <th>2019-12-24 23:48:13</th>\n",
              "      <td>A-512576</td>\n",
              "      <td>35.264706</td>\n",
              "      <td>-112.049538</td>\n",
              "      <td>3</td>\n",
              "    </tr>\n",
              "    <tr>\n",
              "      <th>2019-12-25 04:32:47</th>\n",
              "      <td>A-512577</td>\n",
              "      <td>33.622849</td>\n",
              "      <td>-111.927834</td>\n",
              "      <td>2</td>\n",
              "    </tr>\n",
              "    <tr>\n",
              "      <th>2019-12-25 07:30:49</th>\n",
              "      <td>A-512578</td>\n",
              "      <td>33.503201</td>\n",
              "      <td>-112.043671</td>\n",
              "      <td>2</td>\n",
              "    </tr>\n",
              "    <tr>\n",
              "      <th>2019-12-25 09:06:59</th>\n",
              "      <td>A-512579</td>\n",
              "      <td>33.287281</td>\n",
              "      <td>-111.859009</td>\n",
              "      <td>2</td>\n",
              "    </tr>\n",
              "  </tbody>\n",
              "</table>\n",
              "</div>"
            ],
            "text/plain": [
              "                           ID  Start_Lat   Start_Lng  Severity\n",
              "time                                                          \n",
              "2019-12-24 23:36:25  A-512575  33.445259 -111.856468         2\n",
              "2019-12-24 23:48:13  A-512576  35.264706 -112.049538         3\n",
              "2019-12-25 04:32:47  A-512577  33.622849 -111.927834         2\n",
              "2019-12-25 07:30:49  A-512578  33.503201 -112.043671         2\n",
              "2019-12-25 09:06:59  A-512579  33.287281 -111.859009         2"
            ]
          },
          "metadata": {
            "tags": []
          },
          "execution_count": 67
        }
      ]
    },
    {
      "cell_type": "code",
      "metadata": {
        "id": "Y-QmvAQZdrHh",
        "colab_type": "code",
        "outputId": "2e3e3744-90e5-4168-b894-0d52a7fa6902",
        "colab": {
          "base_uri": "https://localhost:8080/",
          "height": 278
        }
      },
      "source": [
        "X2=pd.concat([df_arizona['Start_Lat'],df_arizona['Start_Lng']],axis=1)\n",
        "X2.shape\n",
        "X2.head"
      ],
      "execution_count": 68,
      "outputs": [
        {
          "output_type": "execute_result",
          "data": {
            "text/plain": [
              "<bound method NDFrame.head of                      Start_Lat   Start_Lng\n",
              "time                                      \n",
              "2019-12-24 23:36:25  33.445259 -111.856468\n",
              "2019-12-24 23:48:13  35.264706 -112.049538\n",
              "2019-12-25 04:32:47  33.622849 -111.927834\n",
              "2019-12-25 07:30:49  33.503201 -112.043671\n",
              "2019-12-25 09:06:59  33.287281 -111.859009\n",
              "...                        ...         ...\n",
              "2019-08-23 16:55:55  33.504990 -112.112570\n",
              "2019-08-23 18:25:05  33.668760 -112.072750\n",
              "2019-08-23 18:17:28  33.485120 -112.264000\n",
              "2019-08-23 19:22:48  33.378330 -111.893270\n",
              "2019-08-23 19:15:18  32.266400 -111.007310\n",
              "\n",
              "[62330 rows x 2 columns]>"
            ]
          },
          "metadata": {
            "tags": []
          },
          "execution_count": 68
        }
      ]
    },
    {
      "cell_type": "code",
      "metadata": {
        "id": "VI-aH5zjdrQS",
        "colab_type": "code",
        "outputId": "e82d431e-de0d-47b5-db91-7733fc9cd41f",
        "colab": {
          "base_uri": "https://localhost:8080/",
          "height": 243
        }
      },
      "source": [
        "y2=df_arizona['Severity']\n",
        "y2.shape\n",
        "y2.head"
      ],
      "execution_count": 69,
      "outputs": [
        {
          "output_type": "execute_result",
          "data": {
            "text/plain": [
              "<bound method NDFrame.head of time\n",
              "2019-12-24 23:36:25    2\n",
              "2019-12-24 23:48:13    3\n",
              "2019-12-25 04:32:47    2\n",
              "2019-12-25 07:30:49    2\n",
              "2019-12-25 09:06:59    2\n",
              "                      ..\n",
              "2019-08-23 16:55:55    2\n",
              "2019-08-23 18:25:05    2\n",
              "2019-08-23 18:17:28    2\n",
              "2019-08-23 19:22:48    2\n",
              "2019-08-23 19:15:18    2\n",
              "Name: Severity, Length: 62330, dtype: int64>"
            ]
          },
          "metadata": {
            "tags": []
          },
          "execution_count": 69
        }
      ]
    },
    {
      "cell_type": "code",
      "metadata": {
        "id": "whsGnIz-jW66",
        "colab_type": "code",
        "colab": {}
      },
      "source": [
        "X2_train, X2_test, y2_train, y2_test = train_test_split(X2, y2, test_size=0.2, random_state=101)"
      ],
      "execution_count": 0,
      "outputs": []
    },
    {
      "cell_type": "code",
      "metadata": {
        "id": "3tJ7PRAfewhK",
        "colab_type": "code",
        "colab": {}
      },
      "source": [
        "accidentneighbors2 = KNeighborsClassifier(n_neighbors=100)\n",
        "accidentneighbors2.fit(X2_train, y2_train)\n",
        "predictions2 = accidentneighbors2.predict(X2_test)"
      ],
      "execution_count": 0,
      "outputs": []
    },
    {
      "cell_type": "code",
      "metadata": {
        "id": "diqrn7Qkf1zZ",
        "colab_type": "code",
        "outputId": "e775e1de-cad6-465c-99f8-6e063da64129",
        "colab": {
          "base_uri": "https://localhost:8080/",
          "height": 34
        }
      },
      "source": [
        "accuracy2=np.sum(predictions2 == y2_test) / len(y2_test)\n",
        "print(accuracy2)"
      ],
      "execution_count": 72,
      "outputs": [
        {
          "output_type": "stream",
          "text": [
            "0.8065939355045725\n"
          ],
          "name": "stdout"
        }
      ]
    },
    {
      "cell_type": "code",
      "metadata": {
        "id": "of5yQyKDf16I",
        "colab_type": "code",
        "outputId": "bae170d3-8904-44e2-97d3-8726f4662001",
        "colab": {
          "base_uri": "https://localhost:8080/",
          "height": 238
        }
      },
      "source": [
        "df_california=df_traffic.loc[(df_traffic['State']=='CA')][['ID', 'Start_Lng', 'Start_Lat', 'Severity']]\n",
        "df_california.tail()"
      ],
      "execution_count": 73,
      "outputs": [
        {
          "output_type": "execute_result",
          "data": {
            "text/html": [
              "<div>\n",
              "<style scoped>\n",
              "    .dataframe tbody tr th:only-of-type {\n",
              "        vertical-align: middle;\n",
              "    }\n",
              "\n",
              "    .dataframe tbody tr th {\n",
              "        vertical-align: top;\n",
              "    }\n",
              "\n",
              "    .dataframe thead th {\n",
              "        text-align: right;\n",
              "    }\n",
              "</style>\n",
              "<table border=\"1\" class=\"dataframe\">\n",
              "  <thead>\n",
              "    <tr style=\"text-align: right;\">\n",
              "      <th></th>\n",
              "      <th>ID</th>\n",
              "      <th>Start_Lng</th>\n",
              "      <th>Start_Lat</th>\n",
              "      <th>Severity</th>\n",
              "    </tr>\n",
              "    <tr>\n",
              "      <th>time</th>\n",
              "      <th></th>\n",
              "      <th></th>\n",
              "      <th></th>\n",
              "      <th></th>\n",
              "    </tr>\n",
              "  </thead>\n",
              "  <tbody>\n",
              "    <tr>\n",
              "      <th>2019-08-23 18:03:25</th>\n",
              "      <td>A-2974354</td>\n",
              "      <td>-117.37936</td>\n",
              "      <td>34.00248</td>\n",
              "      <td>2</td>\n",
              "    </tr>\n",
              "    <tr>\n",
              "      <th>2019-08-23 19:11:30</th>\n",
              "      <td>A-2974355</td>\n",
              "      <td>-117.14806</td>\n",
              "      <td>32.76696</td>\n",
              "      <td>2</td>\n",
              "    </tr>\n",
              "    <tr>\n",
              "      <th>2019-08-23 19:00:21</th>\n",
              "      <td>A-2974356</td>\n",
              "      <td>-117.84779</td>\n",
              "      <td>33.77545</td>\n",
              "      <td>2</td>\n",
              "    </tr>\n",
              "    <tr>\n",
              "      <th>2019-08-23 19:00:21</th>\n",
              "      <td>A-2974357</td>\n",
              "      <td>-118.40302</td>\n",
              "      <td>33.99246</td>\n",
              "      <td>2</td>\n",
              "    </tr>\n",
              "    <tr>\n",
              "      <th>2019-08-23 18:52:06</th>\n",
              "      <td>A-2974358</td>\n",
              "      <td>-117.23092</td>\n",
              "      <td>34.13393</td>\n",
              "      <td>2</td>\n",
              "    </tr>\n",
              "  </tbody>\n",
              "</table>\n",
              "</div>"
            ],
            "text/plain": [
              "                            ID  Start_Lng  Start_Lat  Severity\n",
              "time                                                          \n",
              "2019-08-23 18:03:25  A-2974354 -117.37936   34.00248         2\n",
              "2019-08-23 19:11:30  A-2974355 -117.14806   32.76696         2\n",
              "2019-08-23 19:00:21  A-2974356 -117.84779   33.77545         2\n",
              "2019-08-23 19:00:21  A-2974357 -118.40302   33.99246         2\n",
              "2019-08-23 18:52:06  A-2974358 -117.23092   34.13393         2"
            ]
          },
          "metadata": {
            "tags": []
          },
          "execution_count": 73
        }
      ]
    },
    {
      "cell_type": "code",
      "metadata": {
        "id": "cIss3eYcewpn",
        "colab_type": "code",
        "outputId": "570f0332-a09e-4d76-b76e-c1fc4e03aebe",
        "colab": {
          "base_uri": "https://localhost:8080/",
          "height": 34
        }
      },
      "source": [
        "X3=pd.concat([df_california['Start_Lng'], df_california['Start_Lat']], axis=1)\n",
        "X3.shape"
      ],
      "execution_count": 74,
      "outputs": [
        {
          "output_type": "execute_result",
          "data": {
            "text/plain": [
              "(663204, 2)"
            ]
          },
          "metadata": {
            "tags": []
          },
          "execution_count": 74
        }
      ]
    },
    {
      "cell_type": "code",
      "metadata": {
        "id": "E1dfwsUfkgQx",
        "colab_type": "code",
        "outputId": "d2fe1117-c5ae-44ca-cf84-d88e1011b433",
        "colab": {
          "base_uri": "https://localhost:8080/",
          "height": 34
        }
      },
      "source": [
        "y3=df_california['Severity']\n",
        "y3.shape"
      ],
      "execution_count": 75,
      "outputs": [
        {
          "output_type": "execute_result",
          "data": {
            "text/plain": [
              "(663204,)"
            ]
          },
          "metadata": {
            "tags": []
          },
          "execution_count": 75
        }
      ]
    },
    {
      "cell_type": "code",
      "metadata": {
        "id": "MlYUmdBekgVC",
        "colab_type": "code",
        "colab": {}
      },
      "source": [
        "X3_train, X3_test, y3_train, y3_test = train_test_split(X3, y3, test_size=0.2, random_state=102)"
      ],
      "execution_count": 0,
      "outputs": []
    },
    {
      "cell_type": "code",
      "metadata": {
        "id": "zuvw39P6kgZO",
        "colab_type": "code",
        "colab": {}
      },
      "source": [
        "accidentneighbors3 = KNeighborsClassifier(n_neighbors=100)\n",
        "accidentneighbors3.fit(X3_train, y3_train)\n",
        "predictions3 = accidentneighbors3.predict(X3_test)"
      ],
      "execution_count": 0,
      "outputs": []
    },
    {
      "cell_type": "code",
      "metadata": {
        "id": "yeLnmHFAlwb7",
        "colab_type": "code",
        "outputId": "3ebb9676-574e-42b7-bbb6-494e42405d27",
        "colab": {
          "base_uri": "https://localhost:8080/",
          "height": 34
        }
      },
      "source": [
        "accuracy3=np.sum(predictions3 == y3_test) / len(y3_test)\n",
        "print(accuracy3)"
      ],
      "execution_count": 78,
      "outputs": [
        {
          "output_type": "stream",
          "text": [
            "0.79472410491477\n"
          ],
          "name": "stdout"
        }
      ]
    },
    {
      "cell_type": "markdown",
      "metadata": {
        "id": "FTr4lvDkzEEZ",
        "colab_type": "text"
      },
      "source": [
        "Now let's attempt this for 49 States not including Alaska or Hawaii and see if we can iterate through"
      ]
    },
    {
      "cell_type": "code",
      "metadata": {
        "id": "6lHG1LNvlwk1",
        "colab_type": "code",
        "outputId": "2cdb0ff9-67e4-4b75-8da2-7bfcf3ceb9ee",
        "colab": {
          "base_uri": "https://localhost:8080/",
          "height": 238
        }
      },
      "source": [
        "df_us=df_traffic[['ID', 'Start_Lng', 'Start_Lat', 'Severity']]\n",
        "df_us.tail()\n"
      ],
      "execution_count": 79,
      "outputs": [
        {
          "output_type": "execute_result",
          "data": {
            "text/html": [
              "<div>\n",
              "<style scoped>\n",
              "    .dataframe tbody tr th:only-of-type {\n",
              "        vertical-align: middle;\n",
              "    }\n",
              "\n",
              "    .dataframe tbody tr th {\n",
              "        vertical-align: top;\n",
              "    }\n",
              "\n",
              "    .dataframe thead th {\n",
              "        text-align: right;\n",
              "    }\n",
              "</style>\n",
              "<table border=\"1\" class=\"dataframe\">\n",
              "  <thead>\n",
              "    <tr style=\"text-align: right;\">\n",
              "      <th></th>\n",
              "      <th>ID</th>\n",
              "      <th>Start_Lng</th>\n",
              "      <th>Start_Lat</th>\n",
              "      <th>Severity</th>\n",
              "    </tr>\n",
              "    <tr>\n",
              "      <th>time</th>\n",
              "      <th></th>\n",
              "      <th></th>\n",
              "      <th></th>\n",
              "      <th></th>\n",
              "    </tr>\n",
              "  </thead>\n",
              "  <tbody>\n",
              "    <tr>\n",
              "      <th>2019-08-23 18:03:25</th>\n",
              "      <td>A-2974354</td>\n",
              "      <td>-117.37936</td>\n",
              "      <td>34.00248</td>\n",
              "      <td>2</td>\n",
              "    </tr>\n",
              "    <tr>\n",
              "      <th>2019-08-23 19:11:30</th>\n",
              "      <td>A-2974355</td>\n",
              "      <td>-117.14806</td>\n",
              "      <td>32.76696</td>\n",
              "      <td>2</td>\n",
              "    </tr>\n",
              "    <tr>\n",
              "      <th>2019-08-23 19:00:21</th>\n",
              "      <td>A-2974356</td>\n",
              "      <td>-117.84779</td>\n",
              "      <td>33.77545</td>\n",
              "      <td>2</td>\n",
              "    </tr>\n",
              "    <tr>\n",
              "      <th>2019-08-23 19:00:21</th>\n",
              "      <td>A-2974357</td>\n",
              "      <td>-118.40302</td>\n",
              "      <td>33.99246</td>\n",
              "      <td>2</td>\n",
              "    </tr>\n",
              "    <tr>\n",
              "      <th>2019-08-23 18:52:06</th>\n",
              "      <td>A-2974358</td>\n",
              "      <td>-117.23092</td>\n",
              "      <td>34.13393</td>\n",
              "      <td>2</td>\n",
              "    </tr>\n",
              "  </tbody>\n",
              "</table>\n",
              "</div>"
            ],
            "text/plain": [
              "                            ID  Start_Lng  Start_Lat  Severity\n",
              "time                                                          \n",
              "2019-08-23 18:03:25  A-2974354 -117.37936   34.00248         2\n",
              "2019-08-23 19:11:30  A-2974355 -117.14806   32.76696         2\n",
              "2019-08-23 19:00:21  A-2974356 -117.84779   33.77545         2\n",
              "2019-08-23 19:00:21  A-2974357 -118.40302   33.99246         2\n",
              "2019-08-23 18:52:06  A-2974358 -117.23092   34.13393         2"
            ]
          },
          "metadata": {
            "tags": []
          },
          "execution_count": 79
        }
      ]
    },
    {
      "cell_type": "code",
      "metadata": {
        "id": "2QBOdkz7yN1E",
        "colab_type": "code",
        "outputId": "86a8137f-114b-487b-a8a1-a9ba5645a208",
        "colab": {
          "base_uri": "https://localhost:8080/",
          "height": 34
        }
      },
      "source": [
        "df_us.shape"
      ],
      "execution_count": 80,
      "outputs": [
        {
          "output_type": "execute_result",
          "data": {
            "text/plain": [
              "(2974335, 4)"
            ]
          },
          "metadata": {
            "tags": []
          },
          "execution_count": 80
        }
      ]
    },
    {
      "cell_type": "code",
      "metadata": {
        "id": "LqDA8lqszjGp",
        "colab_type": "code",
        "outputId": "8fb855ca-7c6c-42c5-f691-d5bdd6fe61b0",
        "colab": {
          "base_uri": "https://localhost:8080/",
          "height": 34
        }
      },
      "source": [
        "Xf=pd.concat([df_us['Start_Lng'], df_us['Start_Lat']], axis=1)\n",
        "Xf.shape"
      ],
      "execution_count": 81,
      "outputs": [
        {
          "output_type": "execute_result",
          "data": {
            "text/plain": [
              "(2974335, 2)"
            ]
          },
          "metadata": {
            "tags": []
          },
          "execution_count": 81
        }
      ]
    },
    {
      "cell_type": "code",
      "metadata": {
        "id": "NKl8OOjrzjMz",
        "colab_type": "code",
        "outputId": "8f47ea99-c805-479c-cec0-ea7aeafc756b",
        "colab": {
          "base_uri": "https://localhost:8080/",
          "height": 34
        }
      },
      "source": [
        "yf=df_us['Severity']\n",
        "yf.shape"
      ],
      "execution_count": 82,
      "outputs": [
        {
          "output_type": "execute_result",
          "data": {
            "text/plain": [
              "(2974335,)"
            ]
          },
          "metadata": {
            "tags": []
          },
          "execution_count": 82
        }
      ]
    },
    {
      "cell_type": "code",
      "metadata": {
        "id": "Cjm78pHhyN4c",
        "colab_type": "code",
        "colab": {}
      },
      "source": [
        "Xf_train, Xf_test, yf_train, yf_test = train_test_split(Xf, yf, test_size=0.3, random_state=103)"
      ],
      "execution_count": 0,
      "outputs": []
    },
    {
      "cell_type": "markdown",
      "metadata": {
        "id": "ymT3QflS8Spw",
        "colab_type": "text"
      },
      "source": [
        "For this test, let's use manhattan distance since longitude and latitude go east to west, north to south. And we will start with 10 neighbors for each State."
      ]
    },
    {
      "cell_type": "code",
      "metadata": {
        "id": "Vt94XpJO2fhz",
        "colab_type": "code",
        "colab": {}
      },
      "source": [
        "accidentneighborsf = KNeighborsClassifier(n_neighbors=490, p=1)\n",
        "accidentneighborsf.fit(Xf_train, yf_train)\n",
        "predictionsf = accidentneighborsf.predict(Xf_test)"
      ],
      "execution_count": 0,
      "outputs": []
    },
    {
      "cell_type": "code",
      "metadata": {
        "id": "47aV3ORu2fna",
        "colab_type": "code",
        "outputId": "dc77a9c8-96c9-45af-dad3-e599b3a67b3e",
        "colab": {
          "base_uri": "https://localhost:8080/",
          "height": 34
        }
      },
      "source": [
        "accuracyf=np.sum(predictionsf == yf_test) / len(yf_test)\n",
        "print(accuracyf)"
      ],
      "execution_count": 85,
      "outputs": [
        {
          "output_type": "stream",
          "text": [
            "0.7518752080295774\n"
          ],
          "name": "stdout"
        }
      ]
    },
    {
      "cell_type": "code",
      "metadata": {
        "id": "NC4n5cS_yN8E",
        "colab_type": "code",
        "outputId": "83343d84-233f-4445-89bf-6cc3fd21ff40",
        "colab": {
          "base_uri": "https://localhost:8080/",
          "height": 34
        }
      },
      "source": [
        "accidentneighborsf = KNeighborsClassifier(n_neighbors=500, p=1)\n",
        "accidentneighborsf.fit(Xf_train, yf_train)\n",
        "predictionsf = accidentneighborsf.predict(Xf_test)\n",
        "accuracyf=np.sum(predictionsf == yf_test) / len(yf_test)\n",
        "print(accuracyf)"
      ],
      "execution_count": 86,
      "outputs": [
        {
          "output_type": "stream",
          "text": [
            "0.7516230509659857\n"
          ],
          "name": "stdout"
        }
      ]
    },
    {
      "cell_type": "code",
      "metadata": {
        "id": "yuXfyks5lwti",
        "colab_type": "code",
        "outputId": "103b407f-5be7-48b5-9b1e-1dde0c47fa03",
        "colab": {
          "base_uri": "https://localhost:8080/",
          "height": 34
        }
      },
      "source": [
        "accidentneighborsf = KNeighborsClassifier(n_neighbors=450, p=1)\n",
        "accidentneighborsf.fit(Xf_train, yf_train)\n",
        "predictionsf = accidentneighborsf.predict(Xf_test)\n",
        "accuracyf=np.sum(predictionsf == yf_test) / len(yf_test)\n",
        "print(accuracyf)"
      ],
      "execution_count": 103,
      "outputs": [
        {
          "output_type": "stream",
          "text": [
            "0.7530384926162809\n"
          ],
          "name": "stdout"
        }
      ]
    },
    {
      "cell_type": "code",
      "metadata": {
        "id": "Uhm_QiTYkgn6",
        "colab_type": "code",
        "outputId": "59c563e0-b657-4b0b-b252-741eec4ab0ca",
        "colab": {
          "base_uri": "https://localhost:8080/",
          "height": 34
        }
      },
      "source": [
        "accidentneighborsf = KNeighborsClassifier(n_neighbors=400, p=1)\n",
        "accidentneighborsf.fit(Xf_train, yf_train)\n",
        "predictionsf = accidentneighborsf.predict(Xf_test)\n",
        "accuracyf=np.sum(predictionsf == yf_test) / len(yf_test)\n",
        "print(accuracyf)"
      ],
      "execution_count": 104,
      "outputs": [
        {
          "output_type": "stream",
          "text": [
            "0.7554345450694329\n"
          ],
          "name": "stdout"
        }
      ]
    },
    {
      "cell_type": "code",
      "metadata": {
        "id": "SXOjOE5xoMug",
        "colab_type": "code",
        "outputId": "676d4782-ed7c-4a4d-83a0-541eb354278f",
        "colab": {
          "base_uri": "https://localhost:8080/",
          "height": 34
        }
      },
      "source": [
        "accidentneighborsf = KNeighborsClassifier(n_neighbors=430, p=1)\n",
        "accidentneighborsf.fit(Xf_train, yf_train)\n",
        "predictionsf = accidentneighborsf.predict(Xf_test)\n",
        "accuracyf=np.sum(predictionsf == yf_test) / len(yf_test)\n",
        "print(accuracyf)"
      ],
      "execution_count": 105,
      "outputs": [
        {
          "output_type": "stream",
          "text": [
            "0.7543653991198037\n"
          ],
          "name": "stdout"
        }
      ]
    },
    {
      "cell_type": "code",
      "metadata": {
        "id": "orTN0uRyoM2a",
        "colab_type": "code",
        "colab": {}
      },
      "source": [
        ""
      ],
      "execution_count": 0,
      "outputs": []
    },
    {
      "cell_type": "code",
      "metadata": {
        "id": "N2omER8KO7wX",
        "colab_type": "code",
        "colab": {}
      },
      "source": [
        "df_bad=df_traffic.loc[(df_traffic['Severity']==4)][['ID', 'Start_Lng', 'Start_Lat', 'Severity']]"
      ],
      "execution_count": 0,
      "outputs": []
    },
    {
      "cell_type": "code",
      "metadata": {
        "id": "3dGI86Hdd3V9",
        "colab_type": "code",
        "colab": {}
      },
      "source": [
        "kmean = KMeans(490)\n",
        "clusters = kmeans.fit_predict(df_bad[['Start_Lat','Start_Lng']])"
      ],
      "execution_count": 0,
      "outputs": []
    },
    {
      "cell_type": "code",
      "metadata": {
        "id": "ZpdYIzird3af",
        "colab_type": "code",
        "colab": {
          "base_uri": "https://localhost:8080/",
          "height": 34
        },
        "outputId": "83861176-2cce-4ce8-f27d-5a45e8e12fae"
      },
      "source": [
        "df_bad['cluster'] = kmeans.predict(df_bad[['Start_Lat','Start_Lng']])\n",
        "df_bad.shape"
      ],
      "execution_count": 110,
      "outputs": [
        {
          "output_type": "execute_result",
          "data": {
            "text/plain": [
              "(92337, 5)"
            ]
          },
          "metadata": {
            "tags": []
          },
          "execution_count": 110
        }
      ]
    },
    {
      "cell_type": "code",
      "metadata": {
        "id": "TeMg2z2sO70R",
        "colab_type": "code",
        "colab": {
          "base_uri": "https://localhost:8080/",
          "height": 238
        },
        "outputId": "8065d20a-8c0e-4521-ccef-50b7bc2f6943"
      },
      "source": [
        "df_bad.head()"
      ],
      "execution_count": 111,
      "outputs": [
        {
          "output_type": "execute_result",
          "data": {
            "text/html": [
              "<div>\n",
              "<style scoped>\n",
              "    .dataframe tbody tr th:only-of-type {\n",
              "        vertical-align: middle;\n",
              "    }\n",
              "\n",
              "    .dataframe tbody tr th {\n",
              "        vertical-align: top;\n",
              "    }\n",
              "\n",
              "    .dataframe thead th {\n",
              "        text-align: right;\n",
              "    }\n",
              "</style>\n",
              "<table border=\"1\" class=\"dataframe\">\n",
              "  <thead>\n",
              "    <tr style=\"text-align: right;\">\n",
              "      <th></th>\n",
              "      <th>ID</th>\n",
              "      <th>Start_Lng</th>\n",
              "      <th>Start_Lat</th>\n",
              "      <th>Severity</th>\n",
              "      <th>cluster</th>\n",
              "    </tr>\n",
              "    <tr>\n",
              "      <th>time</th>\n",
              "      <th></th>\n",
              "      <th></th>\n",
              "      <th></th>\n",
              "      <th></th>\n",
              "      <th></th>\n",
              "    </tr>\n",
              "  </thead>\n",
              "  <tbody>\n",
              "    <tr>\n",
              "      <th>2016-03-11 13:18:48</th>\n",
              "      <td>A-620</td>\n",
              "      <td>-83.014236</td>\n",
              "      <td>39.917412</td>\n",
              "      <td>4</td>\n",
              "      <td>34</td>\n",
              "    </tr>\n",
              "    <tr>\n",
              "      <th>2016-06-24 22:28:49</th>\n",
              "      <td>A-1198</td>\n",
              "      <td>-121.899887</td>\n",
              "      <td>37.321117</td>\n",
              "      <td>4</td>\n",
              "      <td>25</td>\n",
              "    </tr>\n",
              "    <tr>\n",
              "      <th>2016-07-01 14:09:13</th>\n",
              "      <td>A-1902</td>\n",
              "      <td>-122.435043</td>\n",
              "      <td>37.630623</td>\n",
              "      <td>4</td>\n",
              "      <td>25</td>\n",
              "    </tr>\n",
              "    <tr>\n",
              "      <th>2016-07-25 14:23:33</th>\n",
              "      <td>A-4144</td>\n",
              "      <td>-121.851807</td>\n",
              "      <td>37.339115</td>\n",
              "      <td>4</td>\n",
              "      <td>25</td>\n",
              "    </tr>\n",
              "    <tr>\n",
              "      <th>2016-08-01 07:44:37</th>\n",
              "      <td>A-4965</td>\n",
              "      <td>-122.166687</td>\n",
              "      <td>37.710648</td>\n",
              "      <td>4</td>\n",
              "      <td>25</td>\n",
              "    </tr>\n",
              "  </tbody>\n",
              "</table>\n",
              "</div>"
            ],
            "text/plain": [
              "                         ID   Start_Lng  Start_Lat  Severity  cluster\n",
              "time                                                                 \n",
              "2016-03-11 13:18:48   A-620  -83.014236  39.917412         4       34\n",
              "2016-06-24 22:28:49  A-1198 -121.899887  37.321117         4       25\n",
              "2016-07-01 14:09:13  A-1902 -122.435043  37.630623         4       25\n",
              "2016-07-25 14:23:33  A-4144 -121.851807  37.339115         4       25\n",
              "2016-08-01 07:44:37  A-4965 -122.166687  37.710648         4       25"
            ]
          },
          "metadata": {
            "tags": []
          },
          "execution_count": 111
        }
      ]
    },
    {
      "cell_type": "code",
      "metadata": {
        "id": "IFOOk0V-eijV",
        "colab_type": "code",
        "colab": {
          "base_uri": "https://localhost:8080/",
          "height": 69
        },
        "outputId": "8491d99a-207b-46b4-e492-a5642fc2bdee"
      },
      "source": [
        "xu=np.array(df_bad['Start_Lng'])\n",
        "yu=np.array(df_bad['Start_Lat'])\n",
        "print(xu.shape)\n",
        "print(yu.shape)\n",
        "ctestu=np.array(df_bad['cluster'])\n",
        "print(ctestu.shape)"
      ],
      "execution_count": 112,
      "outputs": [
        {
          "output_type": "stream",
          "text": [
            "(92337,)\n",
            "(92337,)\n",
            "(92337,)\n"
          ],
          "name": "stdout"
        }
      ]
    },
    {
      "cell_type": "code",
      "metadata": {
        "id": "kP-S7y9Teioz",
        "colab_type": "code",
        "colab": {
          "base_uri": "https://localhost:8080/",
          "height": 139
        },
        "outputId": "af7acc45-8aae-4460-fe9f-d429e89a7894"
      },
      "source": [
        "centroidsu=kmeans.cluster_centers_[ctestu]\n",
        "print(centroidsu)"
      ],
      "execution_count": 119,
      "outputs": [
        {
          "output_type": "stream",
          "text": [
            "[[  39.99602865  -82.93569076]\n",
            " [  37.67721151 -122.02530646]\n",
            " [  37.67721151 -122.02530646]\n",
            " ...\n",
            " [  34.05713905 -118.06754956]\n",
            " [  34.05713905 -118.06754956]\n",
            " [  34.05713905 -118.06754956]]\n"
          ],
          "name": "stdout"
        }
      ]
    },
    {
      "cell_type": "code",
      "metadata": {
        "id": "xAt2xsLZoNa3",
        "colab_type": "code",
        "colab": {
          "base_uri": "https://localhost:8080/",
          "height": 52
        },
        "outputId": "b00524dc-9b33-40a6-c860-76ea2936ae0c"
      },
      "source": [
        "\"\"\"for geocoding, a great example\"\"\"\n",
        "geolocator = Nominatim(user_agent=\"specify_your_app_name_here\")\n",
        "location = geolocator.geocode(\"175 5th Avenue NYC\")\n",
        "print(location.address)\n",
        "print((location.longitude, location.latitude))"
      ],
      "execution_count": 116,
      "outputs": [
        {
          "output_type": "stream",
          "text": [
            "Flatiron Building, 175, 5th Avenue, Flatiron District, Manhattan Community Board 5, Manhattan, New York County, New York, 10010, United States of America\n",
            "(-73.98964162240998, 40.741059199999995)\n"
          ],
          "name": "stdout"
        }
      ]
    },
    {
      "cell_type": "code",
      "metadata": {
        "id": "CBMZuDGWZaO6",
        "colab_type": "code",
        "colab": {}
      },
      "source": [
        ""
      ],
      "execution_count": 0,
      "outputs": []
    },
    {
      "cell_type": "code",
      "metadata": {
        "id": "tgo0jorOZaV5",
        "colab_type": "code",
        "colab": {}
      },
      "source": [
        ""
      ],
      "execution_count": 0,
      "outputs": []
    },
    {
      "cell_type": "markdown",
      "metadata": {
        "id": "LInttnef1ZyU",
        "colab_type": "text"
      },
      "source": [
        "https://scikit-learn.org/stable/modules/generated/sklearn.neighbors.DistanceMetric.html\n",
        "\n",
        "This explains sklearn's Distance Metric parameter"
      ]
    },
    {
      "cell_type": "markdown",
      "metadata": {
        "id": "jauLEDjh8q9I",
        "colab_type": "text"
      },
      "source": [
        "https://medium.com/datadriveninvestor/k-nearest-neighbors-knn-7b4bd0128da7\n",
        "\n",
        "This article explains K nearest neighbor."
      ]
    },
    {
      "cell_type": "markdown",
      "metadata": {
        "id": "qTjKI8Gy8wb3",
        "colab_type": "text"
      },
      "source": [
        "https://towardsdatascience.com/nearest-neighbour-analysis-with-geospatial-data-7bcd95f34c0e\n",
        "\n",
        "This article assists with implementing k nearest neighbor for geo spatial data."
      ]
    },
    {
      "cell_type": "markdown",
      "metadata": {
        "id": "49rIfCnyAz-z",
        "colab_type": "text"
      },
      "source": [
        "https://scikit-learn.org/stable/modules/generated/sklearn.neighbors.KNeighborsClassifier.html#sklearn.neighbors.KNeighborsClassifier.kneighbors\n",
        "\n",
        "This explains KNearest Neighbor from sklearn."
      ]
    },
    {
      "cell_type": "markdown",
      "metadata": {
        "id": "zHJyf3UJ8p0R",
        "colab_type": "text"
      },
      "source": [
        "https://medium.com/datadriveninvestor/k-fold-and-other-cross-validation-techniques-6c03a2563f1e\n",
        "\n",
        "This article explains evaluation of K nearest neighbor."
      ]
    },
    {
      "cell_type": "markdown",
      "metadata": {
        "id": "JJW1DyxUh_T1",
        "colab_type": "text"
      },
      "source": [
        "Moosavi, Sobhan, Mohammad Hossein Samavatian, Srinivasan Parthasarathy, and Rajiv Ramnath. “A Countrywide Traffic Accident Dataset.”, 2019.\n",
        "\n",
        "Moosavi, Sobhan, Mohammad Hossein Samavatian, Srinivasan Parthasarathy, Radu Teodorescu, and Rajiv Ramnath. \"Accident Risk Prediction based on Heterogeneous Sparse Data: New Dataset and Insights.\" In proceedings of the 27th ACM SIGSPATIAL International Conference on Advances in Geographic Information Systems, ACM, 2019."
      ]
    },
    {
      "cell_type": "code",
      "metadata": {
        "id": "mWnrkKh5c3rd",
        "colab_type": "code",
        "colab": {}
      },
      "source": [
        ""
      ],
      "execution_count": 0,
      "outputs": []
    }
  ]
}