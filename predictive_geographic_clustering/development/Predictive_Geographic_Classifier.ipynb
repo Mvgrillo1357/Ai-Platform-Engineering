{
  "nbformat": 4,
  "nbformat_minor": 0,
  "metadata": {
    "kernelspec": {
      "name": "python3",
      "display_name": "Python 3"
    },
    "language_info": {
      "codemirror_mode": {
        "name": "ipython",
        "version": 3
      },
      "file_extension": ".py",
      "mimetype": "text/x-python",
      "name": "python",
      "nbconvert_exporter": "python",
      "pygments_lexer": "ipython3",
      "version": "3.7.4"
    },
    "colab": {
      "name": "Predictive_Geographic_Classifier.ipynb",
      "provenance": [],
      "collapsed_sections": [],
      "machine_shape": "hm",
      "include_colab_link": true
    },
    "accelerator": "GPU"
  },
  "cells": [
    {
      "cell_type": "markdown",
      "metadata": {
        "id": "view-in-github",
        "colab_type": "text"
      },
      "source": [
        "<a href=\"https://colab.research.google.com/github/Mvgrillo1357/Ai-Platform-Engineering/blob/master/predictive_geographic_clustering/development/Predictive_Geographic_Classifier.ipynb\" target=\"_parent\"><img src=\"https://colab.research.google.com/assets/colab-badge.svg\" alt=\"Open In Colab\"/></a>"
      ]
    },
    {
      "cell_type": "markdown",
      "metadata": {
        "id": "AzktjbmPhlce",
        "colab_type": "text"
      },
      "source": [
        "# Personal Project"
      ]
    },
    {
      "cell_type": "code",
      "metadata": {
        "id": "55mAlPf3xHQt",
        "colab_type": "code",
        "outputId": "d5f1d40c-9a91-4ef6-b094-50760d26811d",
        "colab": {
          "base_uri": "https://localhost:8080/",
          "height": 208
        }
      },
      "source": [
        "# Colab library to upload files to notebook\n",
        "from google.colab import files\n",
        "\n",
        "# Install Kaggle library\n",
        "!pip install kaggle"
      ],
      "execution_count": 0,
      "outputs": [
        {
          "output_type": "stream",
          "text": [
            "Requirement already satisfied: kaggle in /usr/local/lib/python3.6/dist-packages (1.5.6)\n",
            "Requirement already satisfied: six>=1.10 in /usr/local/lib/python3.6/dist-packages (from kaggle) (1.12.0)\n",
            "Requirement already satisfied: certifi in /usr/local/lib/python3.6/dist-packages (from kaggle) (2019.11.28)\n",
            "Requirement already satisfied: python-dateutil in /usr/local/lib/python3.6/dist-packages (from kaggle) (2.6.1)\n",
            "Requirement already satisfied: requests in /usr/local/lib/python3.6/dist-packages (from kaggle) (2.21.0)\n",
            "Requirement already satisfied: tqdm in /usr/local/lib/python3.6/dist-packages (from kaggle) (4.28.1)\n",
            "Requirement already satisfied: urllib3<1.25,>=1.21.1 in /usr/local/lib/python3.6/dist-packages (from kaggle) (1.24.3)\n",
            "Requirement already satisfied: python-slugify in /usr/local/lib/python3.6/dist-packages (from kaggle) (4.0.0)\n",
            "Requirement already satisfied: chardet<3.1.0,>=3.0.2 in /usr/local/lib/python3.6/dist-packages (from requests->kaggle) (3.0.4)\n",
            "Requirement already satisfied: idna<2.9,>=2.5 in /usr/local/lib/python3.6/dist-packages (from requests->kaggle) (2.8)\n",
            "Requirement already satisfied: text-unidecode>=1.3 in /usr/local/lib/python3.6/dist-packages (from python-slugify->kaggle) (1.3)\n"
          ],
          "name": "stdout"
        }
      ]
    },
    {
      "cell_type": "code",
      "metadata": {
        "id": "DXe1Q2GCb-YZ",
        "colab_type": "code",
        "colab": {}
      },
      "source": [
        "!mkdir .kaggle\n",
        "!mkdir ~/.kaggle"
      ],
      "execution_count": 0,
      "outputs": []
    },
    {
      "cell_type": "code",
      "metadata": {
        "id": "ZL6ZBxUicH7N",
        "colab_type": "code",
        "colab": {}
      },
      "source": [
        "import json\n",
        "token = {\"username\":\"michaelgrillo\",\"key\":\"1b1b61b21b7bd669c2b170bf718b9cd8\"}\n",
        "with open ('/content/.kaggle/kaggle.json', 'w') as file:\n",
        "  json.dump(token, file)"
      ],
      "execution_count": 0,
      "outputs": []
    },
    {
      "cell_type": "code",
      "metadata": {
        "id": "dtd3uU1IcIMU",
        "colab_type": "code",
        "colab": {}
      },
      "source": [
        "!chmod 600 /content/.kaggle/kaggle.json"
      ],
      "execution_count": 0,
      "outputs": []
    },
    {
      "cell_type": "code",
      "metadata": {
        "id": "cQCx8ytpcHwa",
        "colab_type": "code",
        "colab": {}
      },
      "source": [
        "!cp /content/.kaggle/kaggle.json ~/.kaggle/kaggle.json"
      ],
      "execution_count": 0,
      "outputs": []
    },
    {
      "cell_type": "code",
      "metadata": {
        "id": "Td448yXPcS51",
        "colab_type": "code",
        "outputId": "b73cd02e-e6ea-4c30-8a77-053da71d5457",
        "colab": {
          "base_uri": "https://localhost:8080/",
          "height": 34
        }
      },
      "source": [
        "!kaggle config set -n path -v{/content}"
      ],
      "execution_count": 0,
      "outputs": [
        {
          "output_type": "stream",
          "text": [
            "- path is now set to: {/content}\n"
          ],
          "name": "stdout"
        }
      ]
    },
    {
      "cell_type": "code",
      "metadata": {
        "id": "7v3dV80CcTbE",
        "colab_type": "code",
        "outputId": "074b9a64-565e-43d4-d59c-360067278145",
        "colab": {
          "base_uri": "https://localhost:8080/",
          "height": 69
        }
      },
      "source": [
        "!kaggle datasets download -d sobhanmoosavi/us-accidents -p /content --force"
      ],
      "execution_count": 0,
      "outputs": [
        {
          "output_type": "stream",
          "text": [
            "Downloading us-accidents.zip to /content\n",
            " 93% 185M/199M [00:03<00:00, 51.6MB/s]\n",
            "100% 199M/199M [00:03<00:00, 61.7MB/s]\n"
          ],
          "name": "stdout"
        }
      ]
    },
    {
      "cell_type": "code",
      "metadata": {
        "id": "vGIqUYAOc83D",
        "colab_type": "code",
        "outputId": "c1106fb3-146c-4c6e-c09a-971c3a1bfee2",
        "colab": {
          "base_uri": "https://localhost:8080/",
          "height": 52
        }
      },
      "source": [
        "!unzip \\*.zip"
      ],
      "execution_count": 0,
      "outputs": [
        {
          "output_type": "stream",
          "text": [
            "Archive:  us-accidents.zip\n",
            "  inflating: US_Accidents_Dec19.csv  \n"
          ],
          "name": "stdout"
        }
      ]
    },
    {
      "cell_type": "code",
      "metadata": {
        "id": "oqoZYrvqc9P8",
        "colab_type": "code",
        "outputId": "5d856e16-97e2-474e-872c-fb2bcdbaaadc",
        "colab": {
          "base_uri": "https://localhost:8080/",
          "height": 34
        }
      },
      "source": [
        "!ls"
      ],
      "execution_count": 0,
      "outputs": [
        {
          "output_type": "stream",
          "text": [
            "sample_data  US_Accidents_Dec19.csv  us-accidents.zip\n"
          ],
          "name": "stdout"
        }
      ]
    },
    {
      "cell_type": "code",
      "metadata": {
        "id": "Ha77Uol-xLOz",
        "colab_type": "code",
        "outputId": "2ca78df7-8c8a-4ccf-b40d-5e4e6bd594d1",
        "colab": {
          "base_uri": "https://localhost:8080/",
          "height": 645
        }
      },
      "source": [
        "import pandas as pd\n",
        "import matplotlib.pyplot as plt\n",
        "import seaborn as sns\n",
        "import numpy as np\n",
        "from sklearn.neighbors import KNeighborsClassifier\n",
        "from sklearn.model_selection import train_test_split\n",
        "import scipy as sp\n",
        "!pip install geopandas\n",
        "import sklearn as skl\n",
        "import geopandas as gpd\n",
        "import geopy\n",
        "import folium\n",
        "from shapely.geometry import Point, Polygon\n",
        "from sklearn.cluster import KMeans\n",
        "from shapely.ops import nearest_points\n",
        "from geopy.geocoders import Nominatim\n",
        "from sklearn.metrics import accuracy_score\n",
        "from sklearn.metrics import classification_report\n",
        "from sklearn.metrics import confusion_matrix, mean_squared_error\n",
        "from collections import Counter\n",
        "from sklearn.datasets import make_classification\n",
        "!pip install imblearn\n",
        "from imblearn.over_sampling import SMOTE\n",
        "from sklearn.preprocessing import StandardScaler\n",
        "import pickle as plk\n",
        "import math\n"
      ],
      "execution_count": 0,
      "outputs": [
        {
          "output_type": "stream",
          "text": [
            "Collecting geopandas\n",
            "\u001b[?25l  Downloading https://files.pythonhosted.org/packages/83/c5/3cf9cdc39a6f2552922f79915f36b45a95b71fd343cfc51170a5b6ddb6e8/geopandas-0.7.0-py2.py3-none-any.whl (928kB)\n",
            "\u001b[K     |████████████████████████████████| 931kB 4.5MB/s \n",
            "\u001b[?25hRequirement already satisfied: shapely in /usr/local/lib/python3.6/dist-packages (from geopandas) (1.7.0)\n",
            "Collecting pyproj>=2.2.0\n",
            "\u001b[?25l  Downloading https://files.pythonhosted.org/packages/77/15/d93f446d253d26b91553f86cf21049183e9b0f51f8c8e6cb2cff081bcc02/pyproj-2.5.0-cp36-cp36m-manylinux2010_x86_64.whl (10.4MB)\n",
            "\u001b[K     |████████████████████████████████| 10.4MB 187kB/s \n",
            "\u001b[?25hRequirement already satisfied: pandas>=0.23.0 in /usr/local/lib/python3.6/dist-packages (from geopandas) (0.25.3)\n",
            "Collecting fiona\n",
            "\u001b[?25l  Downloading https://files.pythonhosted.org/packages/ec/20/4e63bc5c6e62df889297b382c3ccd4a7a488b00946aaaf81a118158c6f09/Fiona-1.8.13.post1-cp36-cp36m-manylinux1_x86_64.whl (14.7MB)\n",
            "\u001b[K     |████████████████████████████████| 14.7MB 210kB/s \n",
            "\u001b[?25hRequirement already satisfied: python-dateutil>=2.6.1 in /usr/local/lib/python3.6/dist-packages (from pandas>=0.23.0->geopandas) (2.6.1)\n",
            "Requirement already satisfied: pytz>=2017.2 in /usr/local/lib/python3.6/dist-packages (from pandas>=0.23.0->geopandas) (2018.9)\n",
            "Requirement already satisfied: numpy>=1.13.3 in /usr/local/lib/python3.6/dist-packages (from pandas>=0.23.0->geopandas) (1.17.5)\n",
            "Requirement already satisfied: six>=1.7 in /usr/local/lib/python3.6/dist-packages (from fiona->geopandas) (1.12.0)\n",
            "Collecting munch\n",
            "  Downloading https://files.pythonhosted.org/packages/cc/ab/85d8da5c9a45e072301beb37ad7f833cd344e04c817d97e0cc75681d248f/munch-2.5.0-py2.py3-none-any.whl\n",
            "Collecting click-plugins>=1.0\n",
            "  Downloading https://files.pythonhosted.org/packages/e9/da/824b92d9942f4e472702488857914bdd50f73021efea15b4cad9aca8ecef/click_plugins-1.1.1-py2.py3-none-any.whl\n",
            "Requirement already satisfied: attrs>=17 in /usr/local/lib/python3.6/dist-packages (from fiona->geopandas) (19.3.0)\n",
            "Collecting cligj>=0.5\n",
            "  Downloading https://files.pythonhosted.org/packages/e4/be/30a58b4b0733850280d01f8bd132591b4668ed5c7046761098d665ac2174/cligj-0.5.0-py3-none-any.whl\n",
            "Requirement already satisfied: click<8,>=4.0 in /usr/local/lib/python3.6/dist-packages (from fiona->geopandas) (7.0)\n",
            "Installing collected packages: pyproj, munch, click-plugins, cligj, fiona, geopandas\n",
            "Successfully installed click-plugins-1.1.1 cligj-0.5.0 fiona-1.8.13.post1 geopandas-0.7.0 munch-2.5.0 pyproj-2.5.0\n",
            "Requirement already satisfied: imblearn in /usr/local/lib/python3.6/dist-packages (0.0)\n",
            "Requirement already satisfied: imbalanced-learn in /usr/local/lib/python3.6/dist-packages (from imblearn) (0.4.3)\n",
            "Requirement already satisfied: scikit-learn>=0.20 in /usr/local/lib/python3.6/dist-packages (from imbalanced-learn->imblearn) (0.22.1)\n",
            "Requirement already satisfied: scipy>=0.13.3 in /usr/local/lib/python3.6/dist-packages (from imbalanced-learn->imblearn) (1.4.1)\n",
            "Requirement already satisfied: numpy>=1.8.2 in /usr/local/lib/python3.6/dist-packages (from imbalanced-learn->imblearn) (1.17.5)\n",
            "Requirement already satisfied: joblib>=0.11 in /usr/local/lib/python3.6/dist-packages (from scikit-learn>=0.20->imbalanced-learn->imblearn) (0.14.1)\n"
          ],
          "name": "stdout"
        },
        {
          "output_type": "stream",
          "text": [
            "/usr/local/lib/python3.6/dist-packages/sklearn/externals/six.py:31: FutureWarning: The module is deprecated in version 0.21 and will be removed in version 0.23 since we've dropped support for Python 2.7. Please rely on the official version of six (https://pypi.org/project/six/).\n",
            "  \"(https://pypi.org/project/six/).\", FutureWarning)\n",
            "/usr/local/lib/python3.6/dist-packages/sklearn/utils/deprecation.py:144: FutureWarning: The sklearn.neighbors.base module is  deprecated in version 0.22 and will be removed in version 0.24. The corresponding classes / functions should instead be imported from sklearn.neighbors. Anything that cannot be imported from sklearn.neighbors is now part of the private API.\n",
            "  warnings.warn(message, FutureWarning)\n"
          ],
          "name": "stderr"
        }
      ]
    },
    {
      "cell_type": "code",
      "metadata": {
        "id": "Bna4HNi2s1TX",
        "colab_type": "code",
        "colab": {}
      },
      "source": [
        "import io\n",
        "df_traffic = pd.read_csv('US_Accidents_Dec19.csv')\n"
      ],
      "execution_count": 0,
      "outputs": []
    },
    {
      "cell_type": "markdown",
      "metadata": {
        "id": "nt00or5lhlc9",
        "colab_type": "text"
      },
      "source": [
        "For my personal individual project I would like to use machine learning in order to find trends over an extensive dataset which documents all traffic violations in 49 states of the United States collected from February 2016 to December 2019. The data set used was gathered from https://www.kaggle.com/sobhanmoosavi/us-accidents. By deploying a machine learning model that can predict trends and categorize variables I will be able be able to make predictive geographic clustering."
      ]
    },
    {
      "cell_type": "markdown",
      "metadata": {
        "id": "CZzhwyEyhldC",
        "colab_type": "text"
      },
      "source": [
        "https://smoosavi.org/datasets/us_accidents\n",
        "    this link defines the various variables of the dataset. This dataset is a live document but I used the data that lasted from February 2016 to December 2019."
      ]
    },
    {
      "cell_type": "code",
      "metadata": {
        "id": "MlzDNuX6hldp",
        "colab_type": "code",
        "outputId": "28775348-fbcc-4a26-90f0-ff7460e7a46a",
        "colab": {
          "base_uri": "https://localhost:8080/",
          "height": 539
        }
      },
      "source": [
        "df_traffic.head()"
      ],
      "execution_count": 0,
      "outputs": [
        {
          "output_type": "execute_result",
          "data": {
            "text/html": [
              "<div>\n",
              "<style scoped>\n",
              "    .dataframe tbody tr th:only-of-type {\n",
              "        vertical-align: middle;\n",
              "    }\n",
              "\n",
              "    .dataframe tbody tr th {\n",
              "        vertical-align: top;\n",
              "    }\n",
              "\n",
              "    .dataframe thead th {\n",
              "        text-align: right;\n",
              "    }\n",
              "</style>\n",
              "<table border=\"1\" class=\"dataframe\">\n",
              "  <thead>\n",
              "    <tr style=\"text-align: right;\">\n",
              "      <th></th>\n",
              "      <th>ID</th>\n",
              "      <th>Source</th>\n",
              "      <th>TMC</th>\n",
              "      <th>Severity</th>\n",
              "      <th>Start_Time</th>\n",
              "      <th>End_Time</th>\n",
              "      <th>Start_Lat</th>\n",
              "      <th>Start_Lng</th>\n",
              "      <th>End_Lat</th>\n",
              "      <th>End_Lng</th>\n",
              "      <th>Distance(mi)</th>\n",
              "      <th>Description</th>\n",
              "      <th>Number</th>\n",
              "      <th>Street</th>\n",
              "      <th>Side</th>\n",
              "      <th>City</th>\n",
              "      <th>County</th>\n",
              "      <th>State</th>\n",
              "      <th>Zipcode</th>\n",
              "      <th>Country</th>\n",
              "      <th>Timezone</th>\n",
              "      <th>Airport_Code</th>\n",
              "      <th>Weather_Timestamp</th>\n",
              "      <th>Temperature(F)</th>\n",
              "      <th>Wind_Chill(F)</th>\n",
              "      <th>Humidity(%)</th>\n",
              "      <th>Pressure(in)</th>\n",
              "      <th>Visibility(mi)</th>\n",
              "      <th>Wind_Direction</th>\n",
              "      <th>Wind_Speed(mph)</th>\n",
              "      <th>Precipitation(in)</th>\n",
              "      <th>Weather_Condition</th>\n",
              "      <th>Amenity</th>\n",
              "      <th>Bump</th>\n",
              "      <th>Crossing</th>\n",
              "      <th>Give_Way</th>\n",
              "      <th>Junction</th>\n",
              "      <th>No_Exit</th>\n",
              "      <th>Railway</th>\n",
              "      <th>Roundabout</th>\n",
              "      <th>Station</th>\n",
              "      <th>Stop</th>\n",
              "      <th>Traffic_Calming</th>\n",
              "      <th>Traffic_Signal</th>\n",
              "      <th>Turning_Loop</th>\n",
              "      <th>Sunrise_Sunset</th>\n",
              "      <th>Civil_Twilight</th>\n",
              "      <th>Nautical_Twilight</th>\n",
              "      <th>Astronomical_Twilight</th>\n",
              "    </tr>\n",
              "  </thead>\n",
              "  <tbody>\n",
              "    <tr>\n",
              "      <th>0</th>\n",
              "      <td>A-1</td>\n",
              "      <td>MapQuest</td>\n",
              "      <td>201.0</td>\n",
              "      <td>3</td>\n",
              "      <td>2016-02-08 05:46:00</td>\n",
              "      <td>2016-02-08 11:00:00</td>\n",
              "      <td>39.865147</td>\n",
              "      <td>-84.058723</td>\n",
              "      <td>NaN</td>\n",
              "      <td>NaN</td>\n",
              "      <td>0.01</td>\n",
              "      <td>Right lane blocked due to accident on I-70 Eas...</td>\n",
              "      <td>NaN</td>\n",
              "      <td>I-70 E</td>\n",
              "      <td>R</td>\n",
              "      <td>Dayton</td>\n",
              "      <td>Montgomery</td>\n",
              "      <td>OH</td>\n",
              "      <td>45424</td>\n",
              "      <td>US</td>\n",
              "      <td>US/Eastern</td>\n",
              "      <td>KFFO</td>\n",
              "      <td>2016-02-08 05:58:00</td>\n",
              "      <td>36.9</td>\n",
              "      <td>NaN</td>\n",
              "      <td>91.0</td>\n",
              "      <td>29.68</td>\n",
              "      <td>10.0</td>\n",
              "      <td>Calm</td>\n",
              "      <td>NaN</td>\n",
              "      <td>0.02</td>\n",
              "      <td>Light Rain</td>\n",
              "      <td>False</td>\n",
              "      <td>False</td>\n",
              "      <td>False</td>\n",
              "      <td>False</td>\n",
              "      <td>False</td>\n",
              "      <td>False</td>\n",
              "      <td>False</td>\n",
              "      <td>False</td>\n",
              "      <td>False</td>\n",
              "      <td>False</td>\n",
              "      <td>False</td>\n",
              "      <td>False</td>\n",
              "      <td>False</td>\n",
              "      <td>Night</td>\n",
              "      <td>Night</td>\n",
              "      <td>Night</td>\n",
              "      <td>Night</td>\n",
              "    </tr>\n",
              "    <tr>\n",
              "      <th>1</th>\n",
              "      <td>A-2</td>\n",
              "      <td>MapQuest</td>\n",
              "      <td>201.0</td>\n",
              "      <td>2</td>\n",
              "      <td>2016-02-08 06:07:59</td>\n",
              "      <td>2016-02-08 06:37:59</td>\n",
              "      <td>39.928059</td>\n",
              "      <td>-82.831184</td>\n",
              "      <td>NaN</td>\n",
              "      <td>NaN</td>\n",
              "      <td>0.01</td>\n",
              "      <td>Accident on Brice Rd at Tussing Rd. Expect del...</td>\n",
              "      <td>2584.0</td>\n",
              "      <td>Brice Rd</td>\n",
              "      <td>L</td>\n",
              "      <td>Reynoldsburg</td>\n",
              "      <td>Franklin</td>\n",
              "      <td>OH</td>\n",
              "      <td>43068-3402</td>\n",
              "      <td>US</td>\n",
              "      <td>US/Eastern</td>\n",
              "      <td>KCMH</td>\n",
              "      <td>2016-02-08 05:51:00</td>\n",
              "      <td>37.9</td>\n",
              "      <td>NaN</td>\n",
              "      <td>100.0</td>\n",
              "      <td>29.65</td>\n",
              "      <td>10.0</td>\n",
              "      <td>Calm</td>\n",
              "      <td>NaN</td>\n",
              "      <td>0.00</td>\n",
              "      <td>Light Rain</td>\n",
              "      <td>False</td>\n",
              "      <td>False</td>\n",
              "      <td>False</td>\n",
              "      <td>False</td>\n",
              "      <td>False</td>\n",
              "      <td>False</td>\n",
              "      <td>False</td>\n",
              "      <td>False</td>\n",
              "      <td>False</td>\n",
              "      <td>False</td>\n",
              "      <td>False</td>\n",
              "      <td>False</td>\n",
              "      <td>False</td>\n",
              "      <td>Night</td>\n",
              "      <td>Night</td>\n",
              "      <td>Night</td>\n",
              "      <td>Day</td>\n",
              "    </tr>\n",
              "    <tr>\n",
              "      <th>2</th>\n",
              "      <td>A-3</td>\n",
              "      <td>MapQuest</td>\n",
              "      <td>201.0</td>\n",
              "      <td>2</td>\n",
              "      <td>2016-02-08 06:49:27</td>\n",
              "      <td>2016-02-08 07:19:27</td>\n",
              "      <td>39.063148</td>\n",
              "      <td>-84.032608</td>\n",
              "      <td>NaN</td>\n",
              "      <td>NaN</td>\n",
              "      <td>0.01</td>\n",
              "      <td>Accident on OH-32 State Route 32 Westbound at ...</td>\n",
              "      <td>NaN</td>\n",
              "      <td>State Route 32</td>\n",
              "      <td>R</td>\n",
              "      <td>Williamsburg</td>\n",
              "      <td>Clermont</td>\n",
              "      <td>OH</td>\n",
              "      <td>45176</td>\n",
              "      <td>US</td>\n",
              "      <td>US/Eastern</td>\n",
              "      <td>KI69</td>\n",
              "      <td>2016-02-08 06:56:00</td>\n",
              "      <td>36.0</td>\n",
              "      <td>33.3</td>\n",
              "      <td>100.0</td>\n",
              "      <td>29.67</td>\n",
              "      <td>10.0</td>\n",
              "      <td>SW</td>\n",
              "      <td>3.5</td>\n",
              "      <td>NaN</td>\n",
              "      <td>Overcast</td>\n",
              "      <td>False</td>\n",
              "      <td>False</td>\n",
              "      <td>False</td>\n",
              "      <td>False</td>\n",
              "      <td>False</td>\n",
              "      <td>False</td>\n",
              "      <td>False</td>\n",
              "      <td>False</td>\n",
              "      <td>False</td>\n",
              "      <td>False</td>\n",
              "      <td>False</td>\n",
              "      <td>True</td>\n",
              "      <td>False</td>\n",
              "      <td>Night</td>\n",
              "      <td>Night</td>\n",
              "      <td>Day</td>\n",
              "      <td>Day</td>\n",
              "    </tr>\n",
              "    <tr>\n",
              "      <th>3</th>\n",
              "      <td>A-4</td>\n",
              "      <td>MapQuest</td>\n",
              "      <td>201.0</td>\n",
              "      <td>3</td>\n",
              "      <td>2016-02-08 07:23:34</td>\n",
              "      <td>2016-02-08 07:53:34</td>\n",
              "      <td>39.747753</td>\n",
              "      <td>-84.205582</td>\n",
              "      <td>NaN</td>\n",
              "      <td>NaN</td>\n",
              "      <td>0.01</td>\n",
              "      <td>Accident on I-75 Southbound at Exits 52 52B US...</td>\n",
              "      <td>NaN</td>\n",
              "      <td>I-75 S</td>\n",
              "      <td>R</td>\n",
              "      <td>Dayton</td>\n",
              "      <td>Montgomery</td>\n",
              "      <td>OH</td>\n",
              "      <td>45417</td>\n",
              "      <td>US</td>\n",
              "      <td>US/Eastern</td>\n",
              "      <td>KDAY</td>\n",
              "      <td>2016-02-08 07:38:00</td>\n",
              "      <td>35.1</td>\n",
              "      <td>31.0</td>\n",
              "      <td>96.0</td>\n",
              "      <td>29.64</td>\n",
              "      <td>9.0</td>\n",
              "      <td>SW</td>\n",
              "      <td>4.6</td>\n",
              "      <td>NaN</td>\n",
              "      <td>Mostly Cloudy</td>\n",
              "      <td>False</td>\n",
              "      <td>False</td>\n",
              "      <td>False</td>\n",
              "      <td>False</td>\n",
              "      <td>False</td>\n",
              "      <td>False</td>\n",
              "      <td>False</td>\n",
              "      <td>False</td>\n",
              "      <td>False</td>\n",
              "      <td>False</td>\n",
              "      <td>False</td>\n",
              "      <td>False</td>\n",
              "      <td>False</td>\n",
              "      <td>Night</td>\n",
              "      <td>Day</td>\n",
              "      <td>Day</td>\n",
              "      <td>Day</td>\n",
              "    </tr>\n",
              "    <tr>\n",
              "      <th>4</th>\n",
              "      <td>A-5</td>\n",
              "      <td>MapQuest</td>\n",
              "      <td>201.0</td>\n",
              "      <td>2</td>\n",
              "      <td>2016-02-08 07:39:07</td>\n",
              "      <td>2016-02-08 08:09:07</td>\n",
              "      <td>39.627781</td>\n",
              "      <td>-84.188354</td>\n",
              "      <td>NaN</td>\n",
              "      <td>NaN</td>\n",
              "      <td>0.01</td>\n",
              "      <td>Accident on McEwen Rd at OH-725 Miamisburg Cen...</td>\n",
              "      <td>NaN</td>\n",
              "      <td>Miamisburg Centerville Rd</td>\n",
              "      <td>R</td>\n",
              "      <td>Dayton</td>\n",
              "      <td>Montgomery</td>\n",
              "      <td>OH</td>\n",
              "      <td>45459</td>\n",
              "      <td>US</td>\n",
              "      <td>US/Eastern</td>\n",
              "      <td>KMGY</td>\n",
              "      <td>2016-02-08 07:53:00</td>\n",
              "      <td>36.0</td>\n",
              "      <td>33.3</td>\n",
              "      <td>89.0</td>\n",
              "      <td>29.65</td>\n",
              "      <td>6.0</td>\n",
              "      <td>SW</td>\n",
              "      <td>3.5</td>\n",
              "      <td>NaN</td>\n",
              "      <td>Mostly Cloudy</td>\n",
              "      <td>False</td>\n",
              "      <td>False</td>\n",
              "      <td>False</td>\n",
              "      <td>False</td>\n",
              "      <td>False</td>\n",
              "      <td>False</td>\n",
              "      <td>False</td>\n",
              "      <td>False</td>\n",
              "      <td>False</td>\n",
              "      <td>False</td>\n",
              "      <td>False</td>\n",
              "      <td>True</td>\n",
              "      <td>False</td>\n",
              "      <td>Day</td>\n",
              "      <td>Day</td>\n",
              "      <td>Day</td>\n",
              "      <td>Day</td>\n",
              "    </tr>\n",
              "  </tbody>\n",
              "</table>\n",
              "</div>"
            ],
            "text/plain": [
              "    ID    Source    TMC  ...  Civil_Twilight Nautical_Twilight Astronomical_Twilight\n",
              "0  A-1  MapQuest  201.0  ...           Night             Night                 Night\n",
              "1  A-2  MapQuest  201.0  ...           Night             Night                   Day\n",
              "2  A-3  MapQuest  201.0  ...           Night               Day                   Day\n",
              "3  A-4  MapQuest  201.0  ...             Day               Day                   Day\n",
              "4  A-5  MapQuest  201.0  ...             Day               Day                   Day\n",
              "\n",
              "[5 rows x 49 columns]"
            ]
          },
          "metadata": {
            "tags": []
          },
          "execution_count": 12
        }
      ]
    },
    {
      "cell_type": "code",
      "metadata": {
        "id": "B5RYhqCchldz",
        "colab_type": "code",
        "outputId": "fcba28bb-5169-4274-820f-4b7fc90bc16f",
        "colab": {
          "base_uri": "https://localhost:8080/",
          "height": 320
        }
      },
      "source": [
        "df_traffic.describe()"
      ],
      "execution_count": 0,
      "outputs": [
        {
          "output_type": "execute_result",
          "data": {
            "text/html": [
              "<div>\n",
              "<style scoped>\n",
              "    .dataframe tbody tr th:only-of-type {\n",
              "        vertical-align: middle;\n",
              "    }\n",
              "\n",
              "    .dataframe tbody tr th {\n",
              "        vertical-align: top;\n",
              "    }\n",
              "\n",
              "    .dataframe thead th {\n",
              "        text-align: right;\n",
              "    }\n",
              "</style>\n",
              "<table border=\"1\" class=\"dataframe\">\n",
              "  <thead>\n",
              "    <tr style=\"text-align: right;\">\n",
              "      <th></th>\n",
              "      <th>TMC</th>\n",
              "      <th>Severity</th>\n",
              "      <th>Start_Lat</th>\n",
              "      <th>Start_Lng</th>\n",
              "      <th>End_Lat</th>\n",
              "      <th>End_Lng</th>\n",
              "      <th>Distance(mi)</th>\n",
              "      <th>Number</th>\n",
              "      <th>Temperature(F)</th>\n",
              "      <th>Wind_Chill(F)</th>\n",
              "      <th>Humidity(%)</th>\n",
              "      <th>Pressure(in)</th>\n",
              "      <th>Visibility(mi)</th>\n",
              "      <th>Wind_Speed(mph)</th>\n",
              "      <th>Precipitation(in)</th>\n",
              "    </tr>\n",
              "  </thead>\n",
              "  <tbody>\n",
              "    <tr>\n",
              "      <th>count</th>\n",
              "      <td>2.246264e+06</td>\n",
              "      <td>2.974335e+06</td>\n",
              "      <td>2.974335e+06</td>\n",
              "      <td>2.974335e+06</td>\n",
              "      <td>728071.000000</td>\n",
              "      <td>728071.000000</td>\n",
              "      <td>2.974335e+06</td>\n",
              "      <td>1.056730e+06</td>\n",
              "      <td>2.918272e+06</td>\n",
              "      <td>1.121712e+06</td>\n",
              "      <td>2.915162e+06</td>\n",
              "      <td>2.926193e+06</td>\n",
              "      <td>2.908644e+06</td>\n",
              "      <td>2.533495e+06</td>\n",
              "      <td>975977.000000</td>\n",
              "    </tr>\n",
              "    <tr>\n",
              "      <th>mean</th>\n",
              "      <td>2.078316e+02</td>\n",
              "      <td>2.360190e+00</td>\n",
              "      <td>3.649361e+01</td>\n",
              "      <td>-9.542625e+01</td>\n",
              "      <td>37.580871</td>\n",
              "      <td>-99.976032</td>\n",
              "      <td>2.855654e-01</td>\n",
              "      <td>5.837004e+03</td>\n",
              "      <td>6.235120e+01</td>\n",
              "      <td>5.132685e+01</td>\n",
              "      <td>6.540542e+01</td>\n",
              "      <td>2.983190e+01</td>\n",
              "      <td>9.150770e+00</td>\n",
              "      <td>8.298064e+00</td>\n",
              "      <td>0.020495</td>\n",
              "    </tr>\n",
              "    <tr>\n",
              "      <th>std</th>\n",
              "      <td>2.032959e+01</td>\n",
              "      <td>5.414733e-01</td>\n",
              "      <td>4.918849e+00</td>\n",
              "      <td>1.721881e+01</td>\n",
              "      <td>5.004757</td>\n",
              "      <td>18.416647</td>\n",
              "      <td>1.548392e+00</td>\n",
              "      <td>1.515928e+04</td>\n",
              "      <td>1.878855e+01</td>\n",
              "      <td>2.519127e+01</td>\n",
              "      <td>2.255676e+01</td>\n",
              "      <td>7.213808e-01</td>\n",
              "      <td>2.892114e+00</td>\n",
              "      <td>5.138546e+00</td>\n",
              "      <td>0.235770</td>\n",
              "    </tr>\n",
              "    <tr>\n",
              "      <th>min</th>\n",
              "      <td>2.000000e+02</td>\n",
              "      <td>1.000000e+00</td>\n",
              "      <td>2.455527e+01</td>\n",
              "      <td>-1.246238e+02</td>\n",
              "      <td>24.570110</td>\n",
              "      <td>-124.497829</td>\n",
              "      <td>0.000000e+00</td>\n",
              "      <td>0.000000e+00</td>\n",
              "      <td>-7.780000e+01</td>\n",
              "      <td>-6.590000e+01</td>\n",
              "      <td>1.000000e+00</td>\n",
              "      <td>0.000000e+00</td>\n",
              "      <td>0.000000e+00</td>\n",
              "      <td>0.000000e+00</td>\n",
              "      <td>0.000000</td>\n",
              "    </tr>\n",
              "    <tr>\n",
              "      <th>25%</th>\n",
              "      <td>2.010000e+02</td>\n",
              "      <td>2.000000e+00</td>\n",
              "      <td>3.355040e+01</td>\n",
              "      <td>-1.172920e+02</td>\n",
              "      <td>33.957554</td>\n",
              "      <td>-118.286610</td>\n",
              "      <td>0.000000e+00</td>\n",
              "      <td>8.370000e+02</td>\n",
              "      <td>5.000000e+01</td>\n",
              "      <td>3.200000e+01</td>\n",
              "      <td>4.900000e+01</td>\n",
              "      <td>2.982000e+01</td>\n",
              "      <td>1.000000e+01</td>\n",
              "      <td>4.600000e+00</td>\n",
              "      <td>0.000000</td>\n",
              "    </tr>\n",
              "    <tr>\n",
              "      <th>50%</th>\n",
              "      <td>2.010000e+02</td>\n",
              "      <td>2.000000e+00</td>\n",
              "      <td>3.584969e+01</td>\n",
              "      <td>-9.025083e+01</td>\n",
              "      <td>37.903670</td>\n",
              "      <td>-96.631690</td>\n",
              "      <td>0.000000e+00</td>\n",
              "      <td>2.717000e+03</td>\n",
              "      <td>6.440000e+01</td>\n",
              "      <td>5.400000e+01</td>\n",
              "      <td>6.700000e+01</td>\n",
              "      <td>2.998000e+01</td>\n",
              "      <td>1.000000e+01</td>\n",
              "      <td>7.000000e+00</td>\n",
              "      <td>0.000000</td>\n",
              "    </tr>\n",
              "    <tr>\n",
              "      <th>75%</th>\n",
              "      <td>2.010000e+02</td>\n",
              "      <td>3.000000e+00</td>\n",
              "      <td>4.037026e+01</td>\n",
              "      <td>-8.091891e+01</td>\n",
              "      <td>41.372630</td>\n",
              "      <td>-82.323850</td>\n",
              "      <td>1.000000e-02</td>\n",
              "      <td>7.000000e+03</td>\n",
              "      <td>7.600000e+01</td>\n",
              "      <td>7.300000e+01</td>\n",
              "      <td>8.400000e+01</td>\n",
              "      <td>3.011000e+01</td>\n",
              "      <td>1.000000e+01</td>\n",
              "      <td>1.040000e+01</td>\n",
              "      <td>0.000000</td>\n",
              "    </tr>\n",
              "    <tr>\n",
              "      <th>max</th>\n",
              "      <td>4.060000e+02</td>\n",
              "      <td>4.000000e+00</td>\n",
              "      <td>4.900220e+01</td>\n",
              "      <td>-6.711317e+01</td>\n",
              "      <td>49.075000</td>\n",
              "      <td>-67.109242</td>\n",
              "      <td>3.336300e+02</td>\n",
              "      <td>9.999997e+06</td>\n",
              "      <td>1.706000e+02</td>\n",
              "      <td>1.150000e+02</td>\n",
              "      <td>1.000000e+02</td>\n",
              "      <td>3.304000e+01</td>\n",
              "      <td>1.400000e+02</td>\n",
              "      <td>8.228000e+02</td>\n",
              "      <td>25.000000</td>\n",
              "    </tr>\n",
              "  </tbody>\n",
              "</table>\n",
              "</div>"
            ],
            "text/plain": [
              "                TMC      Severity  ...  Wind_Speed(mph)  Precipitation(in)\n",
              "count  2.246264e+06  2.974335e+06  ...     2.533495e+06      975977.000000\n",
              "mean   2.078316e+02  2.360190e+00  ...     8.298064e+00           0.020495\n",
              "std    2.032959e+01  5.414733e-01  ...     5.138546e+00           0.235770\n",
              "min    2.000000e+02  1.000000e+00  ...     0.000000e+00           0.000000\n",
              "25%    2.010000e+02  2.000000e+00  ...     4.600000e+00           0.000000\n",
              "50%    2.010000e+02  2.000000e+00  ...     7.000000e+00           0.000000\n",
              "75%    2.010000e+02  3.000000e+00  ...     1.040000e+01           0.000000\n",
              "max    4.060000e+02  4.000000e+00  ...     8.228000e+02          25.000000\n",
              "\n",
              "[8 rows x 15 columns]"
            ]
          },
          "metadata": {
            "tags": []
          },
          "execution_count": 13
        }
      ]
    },
    {
      "cell_type": "code",
      "metadata": {
        "id": "RwdbSwCghleF",
        "colab_type": "code",
        "outputId": "1412e143-d4f3-4438-9536-78e01b29c6ea",
        "colab": {
          "base_uri": "https://localhost:8080/",
          "height": 225
        }
      },
      "source": [
        "df_traffic.columns"
      ],
      "execution_count": 0,
      "outputs": [
        {
          "output_type": "execute_result",
          "data": {
            "text/plain": [
              "Index(['ID', 'Source', 'TMC', 'Severity', 'Start_Time', 'End_Time',\n",
              "       'Start_Lat', 'Start_Lng', 'End_Lat', 'End_Lng', 'Distance(mi)',\n",
              "       'Description', 'Number', 'Street', 'Side', 'City', 'County', 'State',\n",
              "       'Zipcode', 'Country', 'Timezone', 'Airport_Code', 'Weather_Timestamp',\n",
              "       'Temperature(F)', 'Wind_Chill(F)', 'Humidity(%)', 'Pressure(in)',\n",
              "       'Visibility(mi)', 'Wind_Direction', 'Wind_Speed(mph)',\n",
              "       'Precipitation(in)', 'Weather_Condition', 'Amenity', 'Bump', 'Crossing',\n",
              "       'Give_Way', 'Junction', 'No_Exit', 'Railway', 'Roundabout', 'Station',\n",
              "       'Stop', 'Traffic_Calming', 'Traffic_Signal', 'Turning_Loop',\n",
              "       'Sunrise_Sunset', 'Civil_Twilight', 'Nautical_Twilight',\n",
              "       'Astronomical_Twilight'],\n",
              "      dtype='object')"
            ]
          },
          "metadata": {
            "tags": []
          },
          "execution_count": 14
        }
      ]
    },
    {
      "cell_type": "code",
      "metadata": {
        "id": "mwB5IG7YdTNG",
        "colab_type": "code",
        "outputId": "1256d557-68e2-41b1-b41d-27be66c21b78",
        "colab": {
          "base_uri": "https://localhost:8080/",
          "height": 1000
        }
      },
      "source": [
        "corr=df_traffic.corr()\n",
        "cmap = sns.diverging_palette(200, 10, as_cmap=True)\n",
        "\n",
        "size=plt.figure(figsize=(80,30))\n",
        "\n",
        "sns.heatmap(corr, cmap=cmap, square='true', center=0)"
      ],
      "execution_count": 0,
      "outputs": [
        {
          "output_type": "execute_result",
          "data": {
            "text/plain": [
              "<matplotlib.axes._subplots.AxesSubplot at 0x7f57eec9e240>"
            ]
          },
          "metadata": {
            "tags": []
          },
          "execution_count": 15
        },
        {
          "output_type": "display_data",
          "data": {
            "image/png": "[encoded data removed]",
            "text/plain": [
              "<Figure size 5760x2160 with 2 Axes>"
            ]
          },
          "metadata": {
            "tags": []
          }
        }
      ]
    },
    {
      "cell_type": "code",
      "metadata": {
        "id": "K5p-EC0WhleP",
        "colab_type": "code",
        "outputId": "3b71ea14-cf72-451e-b467-1afe2c1b23ec",
        "colab": {
          "base_uri": "https://localhost:8080/",
          "height": 885
        }
      },
      "source": [
        "print('Unique values',df_traffic.nunique())"
      ],
      "execution_count": 0,
      "outputs": [
        {
          "output_type": "stream",
          "text": [
            "Unique values ID                       2974335\n",
            "Source                         3\n",
            "TMC                           21\n",
            "Severity                       4\n",
            "Start_Time               2743101\n",
            "End_Time                 2761499\n",
            "Start_Lat                1002359\n",
            "Start_Lng                 985099\n",
            "End_Lat                   298605\n",
            "End_Lng                   302906\n",
            "Distance(mi)               12847\n",
            "Description              1597506\n",
            "Number                     37398\n",
            "Street                    160715\n",
            "Side                           3\n",
            "City                       11685\n",
            "County                      1713\n",
            "State                         49\n",
            "Zipcode                   377152\n",
            "Country                        1\n",
            "Timezone                       4\n",
            "Airport_Code                1995\n",
            "Weather_Timestamp         470781\n",
            "Temperature(F)               827\n",
            "Wind_Chill(F)                971\n",
            "Humidity(%)                  100\n",
            "Pressure(in)                 994\n",
            "Visibility(mi)                81\n",
            "Wind_Direction                24\n",
            "Wind_Speed(mph)              147\n",
            "Precipitation(in)            256\n",
            "Weather_Condition            120\n",
            "Amenity                        2\n",
            "Bump                           2\n",
            "Crossing                       2\n",
            "Give_Way                       2\n",
            "Junction                       2\n",
            "No_Exit                        2\n",
            "Railway                        2\n",
            "Roundabout                     2\n",
            "Station                        2\n",
            "Stop                           2\n",
            "Traffic_Calming                2\n",
            "Traffic_Signal                 2\n",
            "Turning_Loop                   1\n",
            "Sunrise_Sunset                 2\n",
            "Civil_Twilight                 2\n",
            "Nautical_Twilight              2\n",
            "Astronomical_Twilight          2\n",
            "dtype: int64\n"
          ],
          "name": "stdout"
        }
      ]
    },
    {
      "cell_type": "markdown",
      "metadata": {
        "id": "AXXCX8bDhleY",
        "colab_type": "text"
      },
      "source": [
        "This data is only for the United States so keeping the 'Country' column is 100% redundant."
      ]
    },
    {
      "cell_type": "code",
      "metadata": {
        "id": "BrSAg_8Ohlec",
        "colab_type": "code",
        "colab": {}
      },
      "source": [
        "df_traffic.drop(['Country'], axis=1, inplace=True)"
      ],
      "execution_count": 0,
      "outputs": []
    },
    {
      "cell_type": "code",
      "metadata": {
        "id": "orhz0LQWhlez",
        "colab_type": "code",
        "outputId": "04ca010d-95a1-4d8d-8483-242e85ff3542",
        "colab": {
          "base_uri": "https://localhost:8080/",
          "height": 868
        }
      },
      "source": [
        "print(df_traffic.isnull().sum())\n"
      ],
      "execution_count": 0,
      "outputs": [
        {
          "output_type": "stream",
          "text": [
            "ID                             0\n",
            "Source                         0\n",
            "TMC                       728071\n",
            "Severity                       0\n",
            "Start_Time                     0\n",
            "End_Time                       0\n",
            "Start_Lat                      0\n",
            "Start_Lng                      0\n",
            "End_Lat                  2246264\n",
            "End_Lng                  2246264\n",
            "Distance(mi)                   0\n",
            "Description                    1\n",
            "Number                   1917605\n",
            "Street                         0\n",
            "Side                           0\n",
            "City                          83\n",
            "County                         0\n",
            "State                          0\n",
            "Zipcode                      880\n",
            "Timezone                    3163\n",
            "Airport_Code                5691\n",
            "Weather_Timestamp          36705\n",
            "Temperature(F)             56063\n",
            "Wind_Chill(F)            1852623\n",
            "Humidity(%)                59173\n",
            "Pressure(in)               48142\n",
            "Visibility(mi)             65691\n",
            "Wind_Direction             45101\n",
            "Wind_Speed(mph)           440840\n",
            "Precipitation(in)        1998358\n",
            "Weather_Condition          65932\n",
            "Amenity                        0\n",
            "Bump                           0\n",
            "Crossing                       0\n",
            "Give_Way                       0\n",
            "Junction                       0\n",
            "No_Exit                        0\n",
            "Railway                        0\n",
            "Roundabout                     0\n",
            "Station                        0\n",
            "Stop                           0\n",
            "Traffic_Calming                0\n",
            "Traffic_Signal                 0\n",
            "Turning_Loop                   0\n",
            "Sunrise_Sunset                93\n",
            "Civil_Twilight                93\n",
            "Nautical_Twilight             93\n",
            "Astronomical_Twilight         93\n",
            "dtype: int64\n"
          ],
          "name": "stdout"
        }
      ]
    },
    {
      "cell_type": "code",
      "metadata": {
        "id": "prABbkp0m_kh",
        "colab_type": "code",
        "outputId": "887aa0fb-2b25-46a3-fb85-836f524a3ee2",
        "colab": {
          "base_uri": "https://localhost:8080/",
          "height": 52
        }
      },
      "source": [
        "print(len(df_traffic['End_Lat']))\n",
        "print(len(df_traffic['End_Lng']))"
      ],
      "execution_count": 0,
      "outputs": [
        {
          "output_type": "stream",
          "text": [
            "2974335\n",
            "2974335\n"
          ],
          "name": "stdout"
        }
      ]
    },
    {
      "cell_type": "code",
      "metadata": {
        "id": "xBvB9r61oUH2",
        "colab_type": "code",
        "outputId": "15530133-d817-48d8-dc84-d44bbb42f8f4",
        "colab": {
          "base_uri": "https://localhost:8080/",
          "height": 52
        }
      },
      "source": [
        "print(len(df_traffic['End_Lat'].isnull())/(len(df_traffic['End_Lat'])))\n",
        "print(len(df_traffic['End_Lng'].isnull())/(len(df_traffic['End_Lat'])))"
      ],
      "execution_count": 0,
      "outputs": [
        {
          "output_type": "stream",
          "text": [
            "1.0\n",
            "1.0\n"
          ],
          "name": "stdout"
        }
      ]
    },
    {
      "cell_type": "markdown",
      "metadata": {
        "id": "v8rVLdgtouja",
        "colab_type": "text"
      },
      "source": [
        "The 'End_Lat' and 'End_Lng' are all null values so they need to be dropped."
      ]
    },
    {
      "cell_type": "code",
      "metadata": {
        "id": "HCVliMESmU0a",
        "colab_type": "code",
        "colab": {}
      },
      "source": [
        "df_traffic.drop(['End_Lat'], axis=1, inplace=True)\n",
        "df_traffic.drop(['End_Lng'], axis=1, inplace=True)"
      ],
      "execution_count": 0,
      "outputs": []
    },
    {
      "cell_type": "markdown",
      "metadata": {
        "id": "xf0ifThOQF38",
        "colab_type": "text"
      },
      "source": [
        "Since the data involves over 2 million accidents it is important to target States of interest. In my case I am looking for the state with the most accidents, the state with the most category 4 accidents and the state with the highest on average (mean) severity of accidents."
      ]
    },
    {
      "cell_type": "code",
      "metadata": {
        "id": "YY9gd-WMhlfR",
        "colab_type": "code",
        "colab": {}
      },
      "source": [
        "whichstate=df_traffic.State.unique()\n",
        "\n",
        "count_state=[]\n",
        "for i in df_traffic.State.unique():\n",
        "    count_state.append(df_traffic[df_traffic['State']==i].count()['ID'])\n"
      ],
      "execution_count": 0,
      "outputs": []
    },
    {
      "cell_type": "code",
      "metadata": {
        "id": "IJcUjlqYhlfX",
        "colab_type": "code",
        "colab": {}
      },
      "source": [
        ""
      ],
      "execution_count": 0,
      "outputs": []
    },
    {
      "cell_type": "code",
      "metadata": {
        "id": "CiV8VcCghlfe",
        "colab_type": "code",
        "outputId": "5eef7f9a-9bae-44dc-b599-2f2797bee7fb",
        "colab": {
          "base_uri": "https://localhost:8080/",
          "height": 826
        }
      },
      "source": [
        "plt.figure(figsize=(20, 14))\n",
        "sns.barplot(whichstate, count_state)"
      ],
      "execution_count": 0,
      "outputs": [
        {
          "output_type": "execute_result",
          "data": {
            "text/plain": [
              "<matplotlib.axes._subplots.AxesSubplot at 0x7f585a6d4a20>"
            ]
          },
          "metadata": {
            "tags": []
          },
          "execution_count": 23
        },
        {
          "output_type": "display_data",
          "data": {
            "image/png": "[encoded data removed]",
            "text/plain": [
              "<Figure size 1440x1008 with 1 Axes>"
            ]
          },
          "metadata": {
            "tags": []
          }
        }
      ]
    },
    {
      "cell_type": "markdown",
      "metadata": {
        "id": "Ufq7qYmzpSXU",
        "colab_type": "text"
      },
      "source": [
        "Excellent, california is definetely a state of interest. Next we will look at the mean of the severity of the accident that the individual States experience. "
      ]
    },
    {
      "cell_type": "code",
      "metadata": {
        "id": "kxKe4wIfhlfl",
        "colab_type": "code",
        "outputId": "397db17b-02eb-462e-ff0b-d2e38e37742d",
        "colab": {
          "base_uri": "https://localhost:8080/",
          "height": 388
        }
      },
      "source": [
        "df_top_Severity_State = df_traffic.groupby('State').agg({'Severity': 'mean'}).sort_values('Severity').reset_index()\n",
        "plt.figure(figsize=(12,6))\n",
        "sns.barplot(y=\"Severity\", x=\"State\", data=df_top_Severity_State.head(10))\n",
        "plt.ioff()"
      ],
      "execution_count": 0,
      "outputs": [
        {
          "output_type": "display_data",
          "data": {
            "image/png": "[encoded data removed]",
            "text/plain": [
              "<Figure size 864x432 with 1 Axes>"
            ]
          },
          "metadata": {
            "tags": []
          }
        }
      ]
    },
    {
      "cell_type": "markdown",
      "metadata": {
        "id": "2Cd6i0k0RKut",
        "colab_type": "text"
      },
      "source": [
        "Arizona is definitely a state of interest. Texas is also a state of interest since Texas has a large number of accidents and yet it's mean is still in second place."
      ]
    },
    {
      "cell_type": "code",
      "metadata": {
        "id": "Z-5mm3VShlft",
        "colab_type": "code",
        "colab": {}
      },
      "source": [
        "severity_4=[]\n",
        "for i in whichstate:\n",
        "    severity_4.append(df_traffic[(df_traffic['Severity']==4)&(df_traffic['State']==i)].count()['ID'])"
      ],
      "execution_count": 0,
      "outputs": []
    },
    {
      "cell_type": "code",
      "metadata": {
        "id": "Sx1dGC8ChlgX",
        "colab_type": "code",
        "outputId": "8e7d0184-496f-440c-ce6e-ed10a1af3871",
        "colab": {
          "base_uri": "https://localhost:8080/",
          "height": 826
        }
      },
      "source": [
        "plt.figure(figsize=(20, 14))\n",
        "plt.bar(whichstate, severity_4, label= 'Severity 4', color= 'red')\n",
        "plt.legend()"
      ],
      "execution_count": 0,
      "outputs": [
        {
          "output_type": "execute_result",
          "data": {
            "text/plain": [
              "<matplotlib.legend.Legend at 0x7f5825342208>"
            ]
          },
          "metadata": {
            "tags": []
          },
          "execution_count": 26
        },
        {
          "output_type": "display_data",
          "data": {
            "image/png": "[encoded data removed]",
            "text/plain": [
              "<Figure size 1440x1008 with 1 Axes>"
            ]
          },
          "metadata": {
            "tags": []
          }
        }
      ]
    },
    {
      "cell_type": "markdown",
      "metadata": {
        "id": "1C4fLM_Jhlge",
        "colab_type": "text"
      },
      "source": [
        "From my analysis, Florida may not have the most accidents but it certainely has the most severe accidents. Of note Georgia has the second highest number of severity four accidents so therefore Georgia is also a state of interest. Let's check to see if different features are correllated with eachother."
      ]
    },
    {
      "cell_type": "code",
      "metadata": {
        "id": "Wr8sIN_LSOUM",
        "colab_type": "code",
        "outputId": "d5f23dd8-813a-48e9-af21-792b799af6ef",
        "colab": {
          "base_uri": "https://localhost:8080/",
          "height": 34
        }
      },
      "source": [
        "df_traffic.shape"
      ],
      "execution_count": 0,
      "outputs": [
        {
          "output_type": "execute_result",
          "data": {
            "text/plain": [
              "(2974335, 46)"
            ]
          },
          "metadata": {
            "tags": []
          },
          "execution_count": 27
        }
      ]
    },
    {
      "cell_type": "code",
      "metadata": {
        "id": "1NOYXLtKSuTD",
        "colab_type": "code",
        "outputId": "b2c95cc9-d511-45a5-8e0b-0222e36b7928",
        "colab": {
          "base_uri": "https://localhost:8080/",
          "height": 34
        }
      },
      "source": [
        "\"\"\"\n",
        "since we have longitude and latitude we do not need number, street, county, zipcode. State and city will be useful for finding our target states to analyze and the city variable is nice to \n",
        "map out a centroid of each city and the differences between accidents and centers of the centroids. If we are not given longitude and latitude we can use geocaching in the geopy library to\n",
        "find the longitude and latitude needed for our model to make a prediction.\n",
        "\"\"\"\n",
        "df_traffic.drop(['Number'], axis=1, inplace=True)\n",
        "df_traffic.drop(['Street'], axis=1, inplace=True)\n",
        "df_traffic.drop(['County'], axis=1, inplace=True)\n",
        "df_traffic.drop(['Zipcode'], axis=1, inplace=True)\n",
        "\n",
        "df_traffic.shape"
      ],
      "execution_count": 0,
      "outputs": [
        {
          "output_type": "execute_result",
          "data": {
            "text/plain": [
              "(2974335, 42)"
            ]
          },
          "metadata": {
            "tags": []
          },
          "execution_count": 28
        }
      ]
    },
    {
      "cell_type": "code",
      "metadata": {
        "id": "rbeV0VEvTLb-",
        "colab_type": "code",
        "outputId": "aae00c36-1a1c-4a9c-cce0-d223e4876446",
        "colab": {
          "base_uri": "https://localhost:8080/",
          "height": 208
        }
      },
      "source": [
        "df_traffic.columns"
      ],
      "execution_count": 0,
      "outputs": [
        {
          "output_type": "execute_result",
          "data": {
            "text/plain": [
              "Index(['ID', 'Source', 'TMC', 'Severity', 'Start_Time', 'End_Time',\n",
              "       'Start_Lat', 'Start_Lng', 'Distance(mi)', 'Description', 'Side', 'City',\n",
              "       'State', 'Timezone', 'Airport_Code', 'Weather_Timestamp',\n",
              "       'Temperature(F)', 'Wind_Chill(F)', 'Humidity(%)', 'Pressure(in)',\n",
              "       'Visibility(mi)', 'Wind_Direction', 'Wind_Speed(mph)',\n",
              "       'Precipitation(in)', 'Weather_Condition', 'Amenity', 'Bump', 'Crossing',\n",
              "       'Give_Way', 'Junction', 'No_Exit', 'Railway', 'Roundabout', 'Station',\n",
              "       'Stop', 'Traffic_Calming', 'Traffic_Signal', 'Turning_Loop',\n",
              "       'Sunrise_Sunset', 'Civil_Twilight', 'Nautical_Twilight',\n",
              "       'Astronomical_Twilight'],\n",
              "      dtype='object')"
            ]
          },
          "metadata": {
            "tags": []
          },
          "execution_count": 29
        }
      ]
    },
    {
      "cell_type": "code",
      "metadata": {
        "id": "_3hLW4xATLoc",
        "colab_type": "code",
        "outputId": "dcaf3525-fca8-425d-e4ac-a78f1e7a7906",
        "colab": {
          "base_uri": "https://localhost:8080/",
          "height": 1000
        }
      },
      "source": [
        "#lets check numerical correlation to see what our results are\n",
        "corr=df_traffic.corr()\n",
        "cmap = sns.diverging_palette(220, 10, as_cmap=True)\n",
        "\n",
        "size=plt.figure(figsize=(80,30))\n",
        "\n",
        "sns.heatmap(corr, cmap=cmap, square='true', center=0)"
      ],
      "execution_count": 0,
      "outputs": [
        {
          "output_type": "execute_result",
          "data": {
            "text/plain": [
              "<matplotlib.axes._subplots.AxesSubplot at 0x7f583650d6d8>"
            ]
          },
          "metadata": {
            "tags": []
          },
          "execution_count": 30
        },
        {
          "output_type": "display_data",
          "data": {
            "image/png": "[encoded data removed]",
            "text/plain": [
              "<Figure size 5760x2160 with 2 Axes>"
            ]
          },
          "metadata": {
            "tags": []
          }
        }
      ]
    },
    {
      "cell_type": "markdown",
      "metadata": {
        "id": "1cSnsyiVaGmo",
        "colab_type": "text"
      },
      "source": [
        "It looks like TMC, Start Lat, Start Lng, Distance, Wind Chill, Amenity, Crossing, Junction, Station, Stop, and Traffic Signal all have some level of correllation with Severity. "
      ]
    },
    {
      "cell_type": "code",
      "metadata": {
        "id": "U-8k5KNphlgt",
        "colab_type": "code",
        "colab": {}
      },
      "source": [
        "bool_col= [col for col in df_traffic.columns if df_traffic[col].dtype ==np.dtype('bool')]\n",
        "booldf= df_traffic[bool_col]\n",
        "not_one_hot= booldf[booldf.sum(axis=1)>1]\n",
        "accidentlocation=booldf.sum(axis=0)\n"
      ],
      "execution_count": 0,
      "outputs": []
    },
    {
      "cell_type": "code",
      "metadata": {
        "id": "DpzO2MmThlgx",
        "colab_type": "code",
        "outputId": "6852ba1c-8558-470b-edfc-150361cad731",
        "colab": {
          "base_uri": "https://localhost:8080/",
          "height": 260
        }
      },
      "source": [
        "accidentlocation"
      ],
      "execution_count": 0,
      "outputs": [
        {
          "output_type": "execute_result",
          "data": {
            "text/plain": [
              "Amenity             35220\n",
              "Bump                  454\n",
              "Crossing           207590\n",
              "Give_Way             7627\n",
              "Junction           238447\n",
              "No_Exit              3395\n",
              "Railway             25161\n",
              "Roundabout            168\n",
              "Station             56413\n",
              "Stop                40160\n",
              "Traffic_Calming      1111\n",
              "Traffic_Signal     503383\n",
              "Turning_Loop            0\n",
              "dtype: int64"
            ]
          },
          "metadata": {
            "tags": []
          },
          "execution_count": 32
        }
      ]
    },
    {
      "cell_type": "markdown",
      "metadata": {
        "id": "upG1evsxhlg_",
        "colab_type": "text"
      },
      "source": [
        "Now that we have examined common occurences and trends within the accident data it is time to look at the data in terms of time series."
      ]
    },
    {
      "cell_type": "markdown",
      "metadata": {
        "id": "g5nHpCn9hlg_",
        "colab_type": "text"
      },
      "source": [
        "https://pandas.pydata.org/pandas-docs/stable/reference/api/pandas.to_datetime.html\n",
        "Datetime is useful for handling time series data"
      ]
    },
    {
      "cell_type": "code",
      "metadata": {
        "id": "en-FBALdhlhG",
        "colab_type": "code",
        "outputId": "d4694400-3ffb-4a2e-e9d9-76a473a3f830",
        "colab": {
          "base_uri": "https://localhost:8080/",
          "height": 764
        }
      },
      "source": [
        "df_traffic.isnull().sum()"
      ],
      "execution_count": 0,
      "outputs": [
        {
          "output_type": "execute_result",
          "data": {
            "text/plain": [
              "ID                             0\n",
              "Source                         0\n",
              "TMC                       728071\n",
              "Severity                       0\n",
              "Start_Time                     0\n",
              "End_Time                       0\n",
              "Start_Lat                      0\n",
              "Start_Lng                      0\n",
              "Distance(mi)                   0\n",
              "Description                    1\n",
              "Side                           0\n",
              "City                          83\n",
              "State                          0\n",
              "Timezone                    3163\n",
              "Airport_Code                5691\n",
              "Weather_Timestamp          36705\n",
              "Temperature(F)             56063\n",
              "Wind_Chill(F)            1852623\n",
              "Humidity(%)                59173\n",
              "Pressure(in)               48142\n",
              "Visibility(mi)             65691\n",
              "Wind_Direction             45101\n",
              "Wind_Speed(mph)           440840\n",
              "Precipitation(in)        1998358\n",
              "Weather_Condition          65932\n",
              "Amenity                        0\n",
              "Bump                           0\n",
              "Crossing                       0\n",
              "Give_Way                       0\n",
              "Junction                       0\n",
              "No_Exit                        0\n",
              "Railway                        0\n",
              "Roundabout                     0\n",
              "Station                        0\n",
              "Stop                           0\n",
              "Traffic_Calming                0\n",
              "Traffic_Signal                 0\n",
              "Turning_Loop                   0\n",
              "Sunrise_Sunset                93\n",
              "Civil_Twilight                93\n",
              "Nautical_Twilight             93\n",
              "Astronomical_Twilight         93\n",
              "dtype: int64"
            ]
          },
          "metadata": {
            "tags": []
          },
          "execution_count": 33
        }
      ]
    },
    {
      "cell_type": "markdown",
      "metadata": {
        "id": "NnQKVtbwmB1h",
        "colab_type": "text"
      },
      "source": [
        "Now we can look at the geographic data by utilizing the geopandas library."
      ]
    },
    {
      "cell_type": "code",
      "metadata": {
        "id": "Z0_bY9njqS-y",
        "colab_type": "code",
        "outputId": "1b5f9d93-e4e0-4c52-8b38-e6b45eefa7c7",
        "colab": {
          "base_uri": "https://localhost:8080/",
          "height": 206
        }
      },
      "source": [
        "df_florida= df_traffic.loc[(df_traffic['State']=='FL')][['ID', 'Start_Lat', 'Start_Lng', 'Severity']]\n",
        "df_florida.head()"
      ],
      "execution_count": 0,
      "outputs": [
        {
          "output_type": "execute_result",
          "data": {
            "text/html": [
              "<div>\n",
              "<style scoped>\n",
              "    .dataframe tbody tr th:only-of-type {\n",
              "        vertical-align: middle;\n",
              "    }\n",
              "\n",
              "    .dataframe tbody tr th {\n",
              "        vertical-align: top;\n",
              "    }\n",
              "\n",
              "    .dataframe thead th {\n",
              "        text-align: right;\n",
              "    }\n",
              "</style>\n",
              "<table border=\"1\" class=\"dataframe\">\n",
              "  <thead>\n",
              "    <tr style=\"text-align: right;\">\n",
              "      <th></th>\n",
              "      <th>ID</th>\n",
              "      <th>Start_Lat</th>\n",
              "      <th>Start_Lng</th>\n",
              "      <th>Severity</th>\n",
              "    </tr>\n",
              "  </thead>\n",
              "  <tbody>\n",
              "    <tr>\n",
              "      <th>116060</th>\n",
              "      <td>A-116062</td>\n",
              "      <td>27.981367</td>\n",
              "      <td>-82.326561</td>\n",
              "      <td>3</td>\n",
              "    </tr>\n",
              "    <tr>\n",
              "      <th>116061</th>\n",
              "      <td>A-116063</td>\n",
              "      <td>27.981367</td>\n",
              "      <td>-82.326561</td>\n",
              "      <td>3</td>\n",
              "    </tr>\n",
              "    <tr>\n",
              "      <th>116062</th>\n",
              "      <td>A-116064</td>\n",
              "      <td>25.627699</td>\n",
              "      <td>-80.374451</td>\n",
              "      <td>2</td>\n",
              "    </tr>\n",
              "    <tr>\n",
              "      <th>116063</th>\n",
              "      <td>A-116065</td>\n",
              "      <td>25.899435</td>\n",
              "      <td>-80.346680</td>\n",
              "      <td>3</td>\n",
              "    </tr>\n",
              "    <tr>\n",
              "      <th>116064</th>\n",
              "      <td>A-116066</td>\n",
              "      <td>26.272926</td>\n",
              "      <td>-80.296432</td>\n",
              "      <td>2</td>\n",
              "    </tr>\n",
              "  </tbody>\n",
              "</table>\n",
              "</div>"
            ],
            "text/plain": [
              "              ID  Start_Lat  Start_Lng  Severity\n",
              "116060  A-116062  27.981367 -82.326561         3\n",
              "116061  A-116063  27.981367 -82.326561         3\n",
              "116062  A-116064  25.627699 -80.374451         2\n",
              "116063  A-116065  25.899435 -80.346680         3\n",
              "116064  A-116066  26.272926 -80.296432         2"
            ]
          },
          "metadata": {
            "tags": []
          },
          "execution_count": 34
        }
      ]
    },
    {
      "cell_type": "code",
      "metadata": {
        "id": "dzUJrCzcibVj",
        "colab_type": "code",
        "outputId": "d9f849d4-a6d4-4ca7-ad23-d3efd7ddde56",
        "colab": {
          "base_uri": "https://localhost:8080/",
          "height": 34
        }
      },
      "source": [
        "df_florida.shape"
      ],
      "execution_count": 0,
      "outputs": [
        {
          "output_type": "execute_result",
          "data": {
            "text/plain": [
              "(223746, 4)"
            ]
          },
          "metadata": {
            "tags": []
          },
          "execution_count": 35
        }
      ]
    },
    {
      "cell_type": "code",
      "metadata": {
        "id": "oPnBnFPtAnRl",
        "colab_type": "code",
        "outputId": "e80a5b2e-72e2-4545-c72b-7206f8e99cb2",
        "colab": {
          "base_uri": "https://localhost:8080/",
          "height": 261
        }
      },
      "source": [
        "def create_gdf(df_florida, lat, lon):\n",
        "    \"\"\" Convert pandas dataframe into a Geopandas GeoDataFrame\"\"\"\n",
        "    crs = {'init': 'epsg:4326'}\n",
        "    geometry = [Point(xy) for xy in zip(df_florida['Start_Lng'], df_florida['Start_Lat'])]\n",
        "    gdf = gpd.GeoDataFrame(df_florida, crs= crs , geometry=geometry)\n",
        "    return gdf\n",
        "fl_gdf =  create_gdf(df_florida, \"latitude\", \"longitude\")\n",
        "fl_gdf.tail()"
      ],
      "execution_count": 0,
      "outputs": [
        {
          "output_type": "stream",
          "text": [
            "/usr/local/lib/python3.6/dist-packages/pyproj/crs/crs.py:55: FutureWarning: '+init=<authority>:<code>' syntax is deprecated. '<authority>:<code>' is the preferred initialization method. When making the change, be mindful of axis order changes: https://pyproj4.github.io/pyproj/stable/gotchas.html#axis-order-changes-in-proj-6\n",
            "  return _prepare_from_string(\" \".join(pjargs))\n"
          ],
          "name": "stderr"
        },
        {
          "output_type": "execute_result",
          "data": {
            "text/html": [
              "<div>\n",
              "<style scoped>\n",
              "    .dataframe tbody tr th:only-of-type {\n",
              "        vertical-align: middle;\n",
              "    }\n",
              "\n",
              "    .dataframe tbody tr th {\n",
              "        vertical-align: top;\n",
              "    }\n",
              "\n",
              "    .dataframe thead th {\n",
              "        text-align: right;\n",
              "    }\n",
              "</style>\n",
              "<table border=\"1\" class=\"dataframe\">\n",
              "  <thead>\n",
              "    <tr style=\"text-align: right;\">\n",
              "      <th></th>\n",
              "      <th>ID</th>\n",
              "      <th>Start_Lat</th>\n",
              "      <th>Start_Lng</th>\n",
              "      <th>Severity</th>\n",
              "      <th>geometry</th>\n",
              "    </tr>\n",
              "  </thead>\n",
              "  <tbody>\n",
              "    <tr>\n",
              "      <th>2974003</th>\n",
              "      <td>A-2974027</td>\n",
              "      <td>26.84352</td>\n",
              "      <td>-80.10460</td>\n",
              "      <td>2</td>\n",
              "      <td>POINT (-80.10460 26.84352)</td>\n",
              "    </tr>\n",
              "    <tr>\n",
              "      <th>2974004</th>\n",
              "      <td>A-2974028</td>\n",
              "      <td>29.40633</td>\n",
              "      <td>-81.15644</td>\n",
              "      <td>3</td>\n",
              "      <td>POINT (-81.15644 29.40633)</td>\n",
              "    </tr>\n",
              "    <tr>\n",
              "      <th>2974009</th>\n",
              "      <td>A-2974033</td>\n",
              "      <td>27.96509</td>\n",
              "      <td>-82.44727</td>\n",
              "      <td>4</td>\n",
              "      <td>POINT (-82.44727 27.96509)</td>\n",
              "    </tr>\n",
              "    <tr>\n",
              "      <th>2974014</th>\n",
              "      <td>A-2974038</td>\n",
              "      <td>28.54708</td>\n",
              "      <td>-81.27017</td>\n",
              "      <td>4</td>\n",
              "      <td>POINT (-81.27017 28.54708)</td>\n",
              "    </tr>\n",
              "    <tr>\n",
              "      <th>2974015</th>\n",
              "      <td>A-2974039</td>\n",
              "      <td>25.93595</td>\n",
              "      <td>-80.19918</td>\n",
              "      <td>4</td>\n",
              "      <td>POINT (-80.19918 25.93595)</td>\n",
              "    </tr>\n",
              "  </tbody>\n",
              "</table>\n",
              "</div>"
            ],
            "text/plain": [
              "                ID  Start_Lat  Start_Lng  Severity                    geometry\n",
              "2974003  A-2974027   26.84352  -80.10460         2  POINT (-80.10460 26.84352)\n",
              "2974004  A-2974028   29.40633  -81.15644         3  POINT (-81.15644 29.40633)\n",
              "2974009  A-2974033   27.96509  -82.44727         4  POINT (-82.44727 27.96509)\n",
              "2974014  A-2974038   28.54708  -81.27017         4  POINT (-81.27017 28.54708)\n",
              "2974015  A-2974039   25.93595  -80.19918         4  POINT (-80.19918 25.93595)"
            ]
          },
          "metadata": {
            "tags": []
          },
          "execution_count": 36
        }
      ]
    },
    {
      "cell_type": "markdown",
      "metadata": {
        "id": "O6HqPrpuGHXD",
        "colab_type": "text"
      },
      "source": [
        "With a geopandas dataframe we can potentially create a centroid or cluster with K means clustering."
      ]
    },
    {
      "cell_type": "code",
      "metadata": {
        "id": "z3YRtziSh1sz",
        "colab_type": "code",
        "outputId": "83d0f250-bd17-4249-afa3-92cb7a93fc1f",
        "colab": {
          "base_uri": "https://localhost:8080/",
          "height": 54
        }
      },
      "source": [
        "\"\"\"\n",
        "map1 = folium.Map(\n",
        "    location=[27.6648, -81.5158],\n",
        "    tiles='cartodbpositron',\n",
        "    zoom_start=8,\n",
        ")\n",
        "fl_gdf.apply(lambda row:folium.CircleMarker(location=[row[\"Start_Lat\"], row[\"Start_Lng\"]]).add_to(map1), axis=1)\n",
        "map1\n",
        "\"\"\""
      ],
      "execution_count": 0,
      "outputs": [
        {
          "output_type": "execute_result",
          "data": {
            "text/plain": [
              "'\\nmap1 = folium.Map(\\n    location=[27.6648, -81.5158],\\n    tiles=\\'cartodbpositron\\',\\n    zoom_start=8,\\n)\\nfl_gdf.apply(lambda row:folium.CircleMarker(location=[row[\"Start_Lat\"], row[\"Start_Lng\"]]).add_to(map1), axis=1)\\nmap1\\n'"
            ]
          },
          "metadata": {
            "tags": []
          },
          "execution_count": 37
        }
      ]
    },
    {
      "cell_type": "code",
      "metadata": {
        "id": "0vtoTdQCDbnw",
        "colab_type": "code",
        "outputId": "eddf07a7-0786-4095-fac9-70f2c177dd25",
        "colab": {
          "base_uri": "https://localhost:8080/",
          "height": 34
        }
      },
      "source": [
        "df_floridatrain= df_traffic.loc[(df_traffic['State']=='FL')&(df_traffic['Severity']==4)][['ID', 'Start_Lat', 'Start_Lng']]\n",
        "df_floridatrain.shape"
      ],
      "execution_count": 0,
      "outputs": [
        {
          "output_type": "execute_result",
          "data": {
            "text/plain": [
              "(7422, 3)"
            ]
          },
          "metadata": {
            "tags": []
          },
          "execution_count": 38
        }
      ]
    },
    {
      "cell_type": "code",
      "metadata": {
        "id": "Au2N5pPezvrP",
        "colab_type": "code",
        "colab": {}
      },
      "source": [
        ""
      ],
      "execution_count": 0,
      "outputs": []
    },
    {
      "cell_type": "code",
      "metadata": {
        "id": "A4LbB5QUDb1O",
        "colab_type": "code",
        "colab": {}
      },
      "source": [
        "# creates 100 clusters using k-means clustering algorithm.\n",
        "kmeans = KMeans(n_clusters=100)\n",
        "clusters = kmeans.fit_predict(df_floridatrain[['Start_Lat','Start_Lng']])\n"
      ],
      "execution_count": 0,
      "outputs": []
    },
    {
      "cell_type": "code",
      "metadata": {
        "id": "-5g8Y8maz6Z1",
        "colab_type": "code",
        "outputId": "ab0113a0-0675-4cec-efa9-6a14d03049df",
        "colab": {
          "base_uri": "https://localhost:8080/",
          "height": 34
        }
      },
      "source": [
        "df_floridatrain['cluster'] = kmeans.predict(df_floridatrain[['Start_Lat','Start_Lng']])\n",
        "df_floridatrain.shape"
      ],
      "execution_count": 0,
      "outputs": [
        {
          "output_type": "execute_result",
          "data": {
            "text/plain": [
              "(7422, 4)"
            ]
          },
          "metadata": {
            "tags": []
          },
          "execution_count": 40
        }
      ]
    },
    {
      "cell_type": "markdown",
      "metadata": {
        "id": "dNQpQmAn1ohK",
        "colab_type": "text"
      },
      "source": [
        "Now that we have some clusters it is ideal if we plot the worst accidents with their clusters."
      ]
    },
    {
      "cell_type": "code",
      "metadata": {
        "id": "qor0xT9m1i0e",
        "colab_type": "code",
        "outputId": "45e8339a-79ac-4ded-a0e0-e1226671621a",
        "colab": {
          "base_uri": "https://localhost:8080/",
          "height": 1000
        }
      },
      "source": [
        "plt.figure(figsize = (20,20))\n",
        "sns.scatterplot(df_floridatrain['Start_Lng'], df_floridatrain['Start_Lat'], hue=df_floridatrain['cluster'])"
      ],
      "execution_count": 0,
      "outputs": [
        {
          "output_type": "execute_result",
          "data": {
            "text/plain": [
              "<matplotlib.axes._subplots.AxesSubplot at 0x7f582261bac8>"
            ]
          },
          "metadata": {
            "tags": []
          },
          "execution_count": 41
        },
        {
          "output_type": "display_data",
          "data": {
            "image/png": "[encoded data removed]",
            "text/plain": [
              "<Figure size 1440x1440 with 1 Axes>"
            ]
          },
          "metadata": {
            "tags": []
          }
        }
      ]
    },
    {
      "cell_type": "code",
      "metadata": {
        "id": "fUhclfpj-qKM",
        "colab_type": "code",
        "outputId": "98cbbaf0-fb69-4cbb-921f-aa2c58594dd2",
        "colab": {
          "base_uri": "https://localhost:8080/",
          "height": 261
        }
      },
      "source": [
        "def create_gdf(df_floridatrain, lat, lon):\n",
        "    \"\"\" Convert pandas dataframe into a Geopandas GeoDataFrame\"\"\"\n",
        "    crs = {'init': 'epsg:4326'}\n",
        "    geometry = [Point(xy) for xy in zip(df_floridatrain['Start_Lng'], df_floridatrain['Start_Lat'])]\n",
        "    gdf2 = gpd.GeoDataFrame(df_floridatrain, crs= crs , geometry=geometry)\n",
        "    return gdf2\n",
        "fl_gdf2 =  create_gdf(df_floridatrain, \"latitude\", \"longitude\")\n",
        "fl_gdf2.tail()"
      ],
      "execution_count": 0,
      "outputs": [
        {
          "output_type": "stream",
          "text": [
            "/usr/local/lib/python3.6/dist-packages/pyproj/crs/crs.py:55: FutureWarning: '+init=<authority>:<code>' syntax is deprecated. '<authority>:<code>' is the preferred initialization method. When making the change, be mindful of axis order changes: https://pyproj4.github.io/pyproj/stable/gotchas.html#axis-order-changes-in-proj-6\n",
            "  return _prepare_from_string(\" \".join(pjargs))\n"
          ],
          "name": "stderr"
        },
        {
          "output_type": "execute_result",
          "data": {
            "text/html": [
              "<div>\n",
              "<style scoped>\n",
              "    .dataframe tbody tr th:only-of-type {\n",
              "        vertical-align: middle;\n",
              "    }\n",
              "\n",
              "    .dataframe tbody tr th {\n",
              "        vertical-align: top;\n",
              "    }\n",
              "\n",
              "    .dataframe thead th {\n",
              "        text-align: right;\n",
              "    }\n",
              "</style>\n",
              "<table border=\"1\" class=\"dataframe\">\n",
              "  <thead>\n",
              "    <tr style=\"text-align: right;\">\n",
              "      <th></th>\n",
              "      <th>ID</th>\n",
              "      <th>Start_Lat</th>\n",
              "      <th>Start_Lng</th>\n",
              "      <th>cluster</th>\n",
              "      <th>geometry</th>\n",
              "    </tr>\n",
              "  </thead>\n",
              "  <tbody>\n",
              "    <tr>\n",
              "      <th>2973995</th>\n",
              "      <td>A-2974019</td>\n",
              "      <td>27.703600</td>\n",
              "      <td>-80.895270</td>\n",
              "      <td>28</td>\n",
              "      <td>POINT (-80.89527 27.70360)</td>\n",
              "    </tr>\n",
              "    <tr>\n",
              "      <th>2974002</th>\n",
              "      <td>A-2974026</td>\n",
              "      <td>30.328189</td>\n",
              "      <td>-82.959449</td>\n",
              "      <td>16</td>\n",
              "      <td>POINT (-82.95945 30.32819)</td>\n",
              "    </tr>\n",
              "    <tr>\n",
              "      <th>2974009</th>\n",
              "      <td>A-2974033</td>\n",
              "      <td>27.965090</td>\n",
              "      <td>-82.447270</td>\n",
              "      <td>51</td>\n",
              "      <td>POINT (-82.44727 27.96509)</td>\n",
              "    </tr>\n",
              "    <tr>\n",
              "      <th>2974014</th>\n",
              "      <td>A-2974038</td>\n",
              "      <td>28.547080</td>\n",
              "      <td>-81.270170</td>\n",
              "      <td>17</td>\n",
              "      <td>POINT (-81.27017 28.54708)</td>\n",
              "    </tr>\n",
              "    <tr>\n",
              "      <th>2974015</th>\n",
              "      <td>A-2974039</td>\n",
              "      <td>25.935950</td>\n",
              "      <td>-80.199180</td>\n",
              "      <td>14</td>\n",
              "      <td>POINT (-80.19918 25.93595)</td>\n",
              "    </tr>\n",
              "  </tbody>\n",
              "</table>\n",
              "</div>"
            ],
            "text/plain": [
              "                ID  Start_Lat  Start_Lng  cluster                    geometry\n",
              "2973995  A-2974019  27.703600 -80.895270       28  POINT (-80.89527 27.70360)\n",
              "2974002  A-2974026  30.328189 -82.959449       16  POINT (-82.95945 30.32819)\n",
              "2974009  A-2974033  27.965090 -82.447270       51  POINT (-82.44727 27.96509)\n",
              "2974014  A-2974038  28.547080 -81.270170       17  POINT (-81.27017 28.54708)\n",
              "2974015  A-2974039  25.935950 -80.199180       14  POINT (-80.19918 25.93595)"
            ]
          },
          "metadata": {
            "tags": []
          },
          "execution_count": 42
        }
      ]
    },
    {
      "cell_type": "code",
      "metadata": {
        "id": "DrtZ8naNZ6XM",
        "colab_type": "code",
        "outputId": "0e1e0561-decc-4ca4-fcaa-aa63c6561cc6",
        "colab": {
          "base_uri": "https://localhost:8080/",
          "height": 1000
        }
      },
      "source": [
        "fl_gdf2.plot(column='cluster', cmap= 'hsv', figsize=(20,22))"
      ],
      "execution_count": 0,
      "outputs": [
        {
          "output_type": "execute_result",
          "data": {
            "text/plain": [
              "<matplotlib.axes._subplots.AxesSubplot at 0x7f582258d278>"
            ]
          },
          "metadata": {
            "tags": []
          },
          "execution_count": 43
        },
        {
          "output_type": "display_data",
          "data": {
            "image/png": "[encoded data removed]",
            "text/plain": [
              "<Figure size 1440x1584 with 1 Axes>"
            ]
          },
          "metadata": {
            "tags": []
          }
        }
      ]
    },
    {
      "cell_type": "code",
      "metadata": {
        "id": "cmr6X6q4vuGx",
        "colab_type": "code",
        "outputId": "f2cd9280-127a-4696-e109-752f93a596dc",
        "colab": {
          "base_uri": "https://localhost:8080/",
          "height": 69
        }
      },
      "source": [
        "xc=np.array(df_floridatrain['Start_Lng'])\n",
        "yc=np.array(df_floridatrain['Start_Lat'])\n",
        "print(xc.shape)\n",
        "print(yc.shape)\n",
        "ctest=np.array(df_floridatrain['cluster'])\n",
        "print(ctest.shape)"
      ],
      "execution_count": 0,
      "outputs": [
        {
          "output_type": "stream",
          "text": [
            "(7422,)\n",
            "(7422,)\n",
            "(7422,)\n"
          ],
          "name": "stdout"
        }
      ]
    },
    {
      "cell_type": "code",
      "metadata": {
        "id": "--eLuvVo0-E8",
        "colab_type": "code",
        "outputId": "76f5d76a-db8a-402d-a851-47e9368debdb",
        "colab": {
          "base_uri": "https://localhost:8080/",
          "height": 139
        }
      },
      "source": [
        "centroids=kmeans.cluster_centers_[ctest]\n",
        "print(centroids)"
      ],
      "execution_count": 0,
      "outputs": [
        {
          "output_type": "stream",
          "text": [
            "[[ 25.80829665 -80.20230521]\n",
            " [ 25.80829665 -80.20230521]\n",
            " [ 27.3137745  -82.48840961]\n",
            " ...\n",
            " [ 28.00075553 -82.45284779]\n",
            " [ 28.53111706 -81.24607359]\n",
            " [ 25.9244474  -80.20723988]]\n"
          ],
          "name": "stdout"
        }
      ]
    },
    {
      "cell_type": "code",
      "metadata": {
        "id": "nLnsdoBSzjdz",
        "colab_type": "code",
        "outputId": "60f05eac-db71-4b02-f2cd-d6a0c3be0f9f",
        "colab": {
          "base_uri": "https://localhost:8080/",
          "height": 34
        }
      },
      "source": [
        "centroids.shape"
      ],
      "execution_count": 0,
      "outputs": [
        {
          "output_type": "execute_result",
          "data": {
            "text/plain": [
              "(7422, 2)"
            ]
          },
          "metadata": {
            "tags": []
          },
          "execution_count": 46
        }
      ]
    },
    {
      "cell_type": "code",
      "metadata": {
        "id": "xbkcdIaW6Q-y",
        "colab_type": "code",
        "colab": {}
      },
      "source": [
        "df_centroids=pd.DataFrame(data=centroids)\n",
        "df_centroids=df_centroids.rename(columns={0: 'Lat', 1: 'Lng'})"
      ],
      "execution_count": 0,
      "outputs": []
    },
    {
      "cell_type": "code",
      "metadata": {
        "id": "0rx9bN3dbhKV",
        "colab_type": "code",
        "outputId": "0f9c8476-a528-4123-b136-5352d46fb3d7",
        "colab": {
          "base_uri": "https://localhost:8080/",
          "height": 206
        }
      },
      "source": [
        "df_centroids.head()"
      ],
      "execution_count": 0,
      "outputs": [
        {
          "output_type": "execute_result",
          "data": {
            "text/html": [
              "<div>\n",
              "<style scoped>\n",
              "    .dataframe tbody tr th:only-of-type {\n",
              "        vertical-align: middle;\n",
              "    }\n",
              "\n",
              "    .dataframe tbody tr th {\n",
              "        vertical-align: top;\n",
              "    }\n",
              "\n",
              "    .dataframe thead th {\n",
              "        text-align: right;\n",
              "    }\n",
              "</style>\n",
              "<table border=\"1\" class=\"dataframe\">\n",
              "  <thead>\n",
              "    <tr style=\"text-align: right;\">\n",
              "      <th></th>\n",
              "      <th>Lat</th>\n",
              "      <th>Lng</th>\n",
              "    </tr>\n",
              "  </thead>\n",
              "  <tbody>\n",
              "    <tr>\n",
              "      <th>0</th>\n",
              "      <td>25.808297</td>\n",
              "      <td>-80.202305</td>\n",
              "    </tr>\n",
              "    <tr>\n",
              "      <th>1</th>\n",
              "      <td>25.808297</td>\n",
              "      <td>-80.202305</td>\n",
              "    </tr>\n",
              "    <tr>\n",
              "      <th>2</th>\n",
              "      <td>27.313775</td>\n",
              "      <td>-82.488410</td>\n",
              "    </tr>\n",
              "    <tr>\n",
              "      <th>3</th>\n",
              "      <td>25.995398</td>\n",
              "      <td>-80.169216</td>\n",
              "    </tr>\n",
              "    <tr>\n",
              "      <th>4</th>\n",
              "      <td>28.000756</td>\n",
              "      <td>-82.452848</td>\n",
              "    </tr>\n",
              "  </tbody>\n",
              "</table>\n",
              "</div>"
            ],
            "text/plain": [
              "         Lat        Lng\n",
              "0  25.808297 -80.202305\n",
              "1  25.808297 -80.202305\n",
              "2  27.313775 -82.488410\n",
              "3  25.995398 -80.169216\n",
              "4  28.000756 -82.452848"
            ]
          },
          "metadata": {
            "tags": []
          },
          "execution_count": 48
        }
      ]
    },
    {
      "cell_type": "code",
      "metadata": {
        "id": "sSSK4RDgESEr",
        "colab_type": "code",
        "outputId": "f9516bab-7c5a-4b03-976d-c868e37ef7cf",
        "colab": {
          "base_uri": "https://localhost:8080/",
          "height": 261
        }
      },
      "source": [
        "def create_gdf2(df_centroids, lat, lon):\n",
        "    \"\"\" Convert pandas dataframe into a Geopandas GeoDataFrame\"\"\"\n",
        "    crs = {'init': 'epsg:4326'}\n",
        "    geometry = [Point(xy) for xy in zip(df_centroids['Lng'], df_centroids['Lat'])]\n",
        "    gdf3 = gpd.GeoDataFrame(df_centroids, crs= crs , geometry=geometry)\n",
        "    return gdf3\n",
        "fl_gdf4 =  create_gdf2(df_centroids, \"latitude\", \"longitude\")\n",
        "fl_gdf4.tail()"
      ],
      "execution_count": 0,
      "outputs": [
        {
          "output_type": "stream",
          "text": [
            "/usr/local/lib/python3.6/dist-packages/pyproj/crs/crs.py:55: FutureWarning: '+init=<authority>:<code>' syntax is deprecated. '<authority>:<code>' is the preferred initialization method. When making the change, be mindful of axis order changes: https://pyproj4.github.io/pyproj/stable/gotchas.html#axis-order-changes-in-proj-6\n",
            "  return _prepare_from_string(\" \".join(pjargs))\n"
          ],
          "name": "stderr"
        },
        {
          "output_type": "execute_result",
          "data": {
            "text/html": [
              "<div>\n",
              "<style scoped>\n",
              "    .dataframe tbody tr th:only-of-type {\n",
              "        vertical-align: middle;\n",
              "    }\n",
              "\n",
              "    .dataframe tbody tr th {\n",
              "        vertical-align: top;\n",
              "    }\n",
              "\n",
              "    .dataframe thead th {\n",
              "        text-align: right;\n",
              "    }\n",
              "</style>\n",
              "<table border=\"1\" class=\"dataframe\">\n",
              "  <thead>\n",
              "    <tr style=\"text-align: right;\">\n",
              "      <th></th>\n",
              "      <th>Lat</th>\n",
              "      <th>Lng</th>\n",
              "      <th>geometry</th>\n",
              "    </tr>\n",
              "  </thead>\n",
              "  <tbody>\n",
              "    <tr>\n",
              "      <th>7417</th>\n",
              "      <td>27.701330</td>\n",
              "      <td>-80.902592</td>\n",
              "      <td>POINT (-80.90259 27.70133)</td>\n",
              "    </tr>\n",
              "    <tr>\n",
              "      <th>7418</th>\n",
              "      <td>30.403621</td>\n",
              "      <td>-83.036418</td>\n",
              "      <td>POINT (-83.03642 30.40362)</td>\n",
              "    </tr>\n",
              "    <tr>\n",
              "      <th>7419</th>\n",
              "      <td>28.000756</td>\n",
              "      <td>-82.452848</td>\n",
              "      <td>POINT (-82.45285 28.00076)</td>\n",
              "    </tr>\n",
              "    <tr>\n",
              "      <th>7420</th>\n",
              "      <td>28.531117</td>\n",
              "      <td>-81.246074</td>\n",
              "      <td>POINT (-81.24607 28.53112)</td>\n",
              "    </tr>\n",
              "    <tr>\n",
              "      <th>7421</th>\n",
              "      <td>25.924447</td>\n",
              "      <td>-80.207240</td>\n",
              "      <td>POINT (-80.20724 25.92445)</td>\n",
              "    </tr>\n",
              "  </tbody>\n",
              "</table>\n",
              "</div>"
            ],
            "text/plain": [
              "            Lat        Lng                    geometry\n",
              "7417  27.701330 -80.902592  POINT (-80.90259 27.70133)\n",
              "7418  30.403621 -83.036418  POINT (-83.03642 30.40362)\n",
              "7419  28.000756 -82.452848  POINT (-82.45285 28.00076)\n",
              "7420  28.531117 -81.246074  POINT (-81.24607 28.53112)\n",
              "7421  25.924447 -80.207240  POINT (-80.20724 25.92445)"
            ]
          },
          "metadata": {
            "tags": []
          },
          "execution_count": 49
        }
      ]
    },
    {
      "cell_type": "code",
      "metadata": {
        "id": "rfu4WaERGf1g",
        "colab_type": "code",
        "outputId": "76609ed9-abe8-4570-8696-8e52dd159554",
        "colab": {
          "base_uri": "https://localhost:8080/",
          "height": 1000
        }
      },
      "source": [
        "fl_gdf4.plot(figsize=(20,22))"
      ],
      "execution_count": 0,
      "outputs": [
        {
          "output_type": "execute_result",
          "data": {
            "text/plain": [
              "<matplotlib.axes._subplots.AxesSubplot at 0x7f58223aa320>"
            ]
          },
          "metadata": {
            "tags": []
          },
          "execution_count": 50
        },
        {
          "output_type": "display_data",
          "data": {
            "image/png": "[encoded data removed]",
            "text/plain": [
              "<Figure size 1440x1584 with 1 Axes>"
            ]
          },
          "metadata": {
            "tags": []
          }
        }
      ]
    },
    {
      "cell_type": "code",
      "metadata": {
        "id": "C4YUOygFGf_Y",
        "colab_type": "code",
        "colab": {}
      },
      "source": [
        ""
      ],
      "execution_count": 0,
      "outputs": []
    },
    {
      "cell_type": "markdown",
      "metadata": {
        "id": "8oJljRTV9Nt_",
        "colab_type": "text"
      },
      "source": [
        "Now that we have conducted preliminary analysis of the data and have found a target variable of severity and locations let's use K nearest neighbor clustering to predict problem areas that need attention."
      ]
    },
    {
      "cell_type": "code",
      "metadata": {
        "id": "DMuqN4yVqlOW",
        "colab_type": "code",
        "colab": {}
      },
      "source": [
        ""
      ],
      "execution_count": 0,
      "outputs": []
    },
    {
      "cell_type": "code",
      "metadata": {
        "id": "bFjoP6khIGRN",
        "colab_type": "code",
        "outputId": "1dc2acb5-6d16-433d-ec58-34116819c462",
        "colab": {
          "base_uri": "https://localhost:8080/",
          "height": 34
        }
      },
      "source": [
        "\"\"\"\n",
        "from shapely.ops import nearest_points\n",
        "\n",
        "gdf['nearestpoints']=nearest_points(gdf['geometry'], gdf['centroid'],)\n",
        "\"\"\""
      ],
      "execution_count": 0,
      "outputs": [
        {
          "output_type": "execute_result",
          "data": {
            "text/plain": [
              "\"\\nfrom shapely.ops import nearest_points\\n\\ngdf['nearestpoints']=nearest_points(gdf['geometry'], gdf['centroid'],)\\n\""
            ]
          },
          "metadata": {
            "tags": []
          },
          "execution_count": 51
        }
      ]
    },
    {
      "cell_type": "markdown",
      "metadata": {
        "id": "VevOt4ExMfQd",
        "colab_type": "text"
      },
      "source": [
        "Let's try a new tactic to conduct KNN. So now we will check to see if location increases any type of severity and where to place officials to address accidents efficiently."
      ]
    },
    {
      "cell_type": "code",
      "metadata": {
        "colab_type": "code",
        "id": "bIQ1s_cEGzZx",
        "outputId": "f4ca3d2f-0cff-40e7-c981-937c76efd72f",
        "colab": {
          "base_uri": "https://localhost:8080/",
          "height": 206
        }
      },
      "source": [
        "df_florida=df_traffic.loc[(df_traffic['State']=='FL')][['ID', 'Start_Lng', 'Start_Lat', 'Severity']]\n",
        "df_florida.tail()"
      ],
      "execution_count": 0,
      "outputs": [
        {
          "output_type": "execute_result",
          "data": {
            "text/html": [
              "<div>\n",
              "<style scoped>\n",
              "    .dataframe tbody tr th:only-of-type {\n",
              "        vertical-align: middle;\n",
              "    }\n",
              "\n",
              "    .dataframe tbody tr th {\n",
              "        vertical-align: top;\n",
              "    }\n",
              "\n",
              "    .dataframe thead th {\n",
              "        text-align: right;\n",
              "    }\n",
              "</style>\n",
              "<table border=\"1\" class=\"dataframe\">\n",
              "  <thead>\n",
              "    <tr style=\"text-align: right;\">\n",
              "      <th></th>\n",
              "      <th>ID</th>\n",
              "      <th>Start_Lng</th>\n",
              "      <th>Start_Lat</th>\n",
              "      <th>Severity</th>\n",
              "    </tr>\n",
              "  </thead>\n",
              "  <tbody>\n",
              "    <tr>\n",
              "      <th>2974003</th>\n",
              "      <td>A-2974027</td>\n",
              "      <td>-80.10460</td>\n",
              "      <td>26.84352</td>\n",
              "      <td>2</td>\n",
              "    </tr>\n",
              "    <tr>\n",
              "      <th>2974004</th>\n",
              "      <td>A-2974028</td>\n",
              "      <td>-81.15644</td>\n",
              "      <td>29.40633</td>\n",
              "      <td>3</td>\n",
              "    </tr>\n",
              "    <tr>\n",
              "      <th>2974009</th>\n",
              "      <td>A-2974033</td>\n",
              "      <td>-82.44727</td>\n",
              "      <td>27.96509</td>\n",
              "      <td>4</td>\n",
              "    </tr>\n",
              "    <tr>\n",
              "      <th>2974014</th>\n",
              "      <td>A-2974038</td>\n",
              "      <td>-81.27017</td>\n",
              "      <td>28.54708</td>\n",
              "      <td>4</td>\n",
              "    </tr>\n",
              "    <tr>\n",
              "      <th>2974015</th>\n",
              "      <td>A-2974039</td>\n",
              "      <td>-80.19918</td>\n",
              "      <td>25.93595</td>\n",
              "      <td>4</td>\n",
              "    </tr>\n",
              "  </tbody>\n",
              "</table>\n",
              "</div>"
            ],
            "text/plain": [
              "                ID  Start_Lng  Start_Lat  Severity\n",
              "2974003  A-2974027  -80.10460   26.84352         2\n",
              "2974004  A-2974028  -81.15644   29.40633         3\n",
              "2974009  A-2974033  -82.44727   27.96509         4\n",
              "2974014  A-2974038  -81.27017   28.54708         4\n",
              "2974015  A-2974039  -80.19918   25.93595         4"
            ]
          },
          "metadata": {
            "tags": []
          },
          "execution_count": 52
        }
      ]
    },
    {
      "cell_type": "code",
      "metadata": {
        "colab_type": "code",
        "id": "9Ev2IOtSGzNk",
        "outputId": "523c195a-6804-46de-c453-cde5c1ad35eb",
        "colab": {
          "base_uri": "https://localhost:8080/",
          "height": 206
        }
      },
      "source": [
        "X=pd.concat([df_florida['Start_Lat'],df_florida['Start_Lng']],axis=1)\n",
        "X.head()"
      ],
      "execution_count": 0,
      "outputs": [
        {
          "output_type": "execute_result",
          "data": {
            "text/html": [
              "<div>\n",
              "<style scoped>\n",
              "    .dataframe tbody tr th:only-of-type {\n",
              "        vertical-align: middle;\n",
              "    }\n",
              "\n",
              "    .dataframe tbody tr th {\n",
              "        vertical-align: top;\n",
              "    }\n",
              "\n",
              "    .dataframe thead th {\n",
              "        text-align: right;\n",
              "    }\n",
              "</style>\n",
              "<table border=\"1\" class=\"dataframe\">\n",
              "  <thead>\n",
              "    <tr style=\"text-align: right;\">\n",
              "      <th></th>\n",
              "      <th>Start_Lat</th>\n",
              "      <th>Start_Lng</th>\n",
              "    </tr>\n",
              "  </thead>\n",
              "  <tbody>\n",
              "    <tr>\n",
              "      <th>116060</th>\n",
              "      <td>27.981367</td>\n",
              "      <td>-82.326561</td>\n",
              "    </tr>\n",
              "    <tr>\n",
              "      <th>116061</th>\n",
              "      <td>27.981367</td>\n",
              "      <td>-82.326561</td>\n",
              "    </tr>\n",
              "    <tr>\n",
              "      <th>116062</th>\n",
              "      <td>25.627699</td>\n",
              "      <td>-80.374451</td>\n",
              "    </tr>\n",
              "    <tr>\n",
              "      <th>116063</th>\n",
              "      <td>25.899435</td>\n",
              "      <td>-80.346680</td>\n",
              "    </tr>\n",
              "    <tr>\n",
              "      <th>116064</th>\n",
              "      <td>26.272926</td>\n",
              "      <td>-80.296432</td>\n",
              "    </tr>\n",
              "  </tbody>\n",
              "</table>\n",
              "</div>"
            ],
            "text/plain": [
              "        Start_Lat  Start_Lng\n",
              "116060  27.981367 -82.326561\n",
              "116061  27.981367 -82.326561\n",
              "116062  25.627699 -80.374451\n",
              "116063  25.899435 -80.346680\n",
              "116064  26.272926 -80.296432"
            ]
          },
          "metadata": {
            "tags": []
          },
          "execution_count": 53
        }
      ]
    },
    {
      "cell_type": "code",
      "metadata": {
        "id": "_dTNfqnTjmTb",
        "colab_type": "code",
        "outputId": "bf3badc7-9c2c-4797-9af1-62195e485e75",
        "colab": {
          "base_uri": "https://localhost:8080/",
          "height": 34
        }
      },
      "source": [
        "X.shape"
      ],
      "execution_count": 0,
      "outputs": [
        {
          "output_type": "execute_result",
          "data": {
            "text/plain": [
              "(223746, 2)"
            ]
          },
          "metadata": {
            "tags": []
          },
          "execution_count": 54
        }
      ]
    },
    {
      "cell_type": "code",
      "metadata": {
        "colab_type": "code",
        "id": "LzCkU67CGy-O",
        "outputId": "3a8ab4d4-57a9-4f10-9e2a-16f2cf91b19c",
        "colab": {
          "base_uri": "https://localhost:8080/",
          "height": 121
        }
      },
      "source": [
        "y=df_florida['Severity']\n",
        "y.head()"
      ],
      "execution_count": 0,
      "outputs": [
        {
          "output_type": "execute_result",
          "data": {
            "text/plain": [
              "116060    3\n",
              "116061    3\n",
              "116062    2\n",
              "116063    3\n",
              "116064    2\n",
              "Name: Severity, dtype: int64"
            ]
          },
          "metadata": {
            "tags": []
          },
          "execution_count": 55
        }
      ]
    },
    {
      "cell_type": "code",
      "metadata": {
        "id": "pyihiyZvjpO-",
        "colab_type": "code",
        "outputId": "56943d12-b884-44fc-fcb6-bb648c99b879",
        "colab": {
          "base_uri": "https://localhost:8080/",
          "height": 34
        }
      },
      "source": [
        "y.shape"
      ],
      "execution_count": 0,
      "outputs": [
        {
          "output_type": "execute_result",
          "data": {
            "text/plain": [
              "(223746,)"
            ]
          },
          "metadata": {
            "tags": []
          },
          "execution_count": 56
        }
      ]
    },
    {
      "cell_type": "code",
      "metadata": {
        "colab_type": "code",
        "id": "eLKYczSCGyul",
        "colab": {}
      },
      "source": [
        "X_train, X_test, y_train, y_test = train_test_split(X, y, test_size=0.2, random_state=100)\n"
      ],
      "execution_count": 0,
      "outputs": []
    },
    {
      "cell_type": "code",
      "metadata": {
        "id": "zbtfQpVNj3o4",
        "colab_type": "code",
        "outputId": "34e7e3ef-30cd-4bf6-99e5-715fbb1062ae",
        "colab": {
          "base_uri": "https://localhost:8080/",
          "height": 34
        }
      },
      "source": [
        "y_train.shape"
      ],
      "execution_count": 0,
      "outputs": [
        {
          "output_type": "execute_result",
          "data": {
            "text/plain": [
              "(178996,)"
            ]
          },
          "metadata": {
            "tags": []
          },
          "execution_count": 58
        }
      ]
    },
    {
      "cell_type": "code",
      "metadata": {
        "id": "kt2T_OmIGygX",
        "colab_type": "code",
        "outputId": "0f77e086-f3a1-4640-877f-15f13325c8e5",
        "colab": {
          "base_uri": "https://localhost:8080/",
          "height": 54
        }
      },
      "source": [
        "\"\"\"\n",
        "What KNN is doing when called\n",
        "\n",
        "def euclid_distance(x1, x2):\n",
        "  np.sqrt(np.sum((x1-x)**2))\n",
        "\n",
        "class KNN:\n",
        "  def euclidean_distance(x1, x2):\n",
        "    return np.sqrt(np.sum(()))\n",
        "  def Manhattan Distance(x1, x2, y1, y2):\n",
        "    return abs(x1-x2)+abs(y1-y2)\n",
        "  def __init__(self, k=100):\n",
        "    self.k = k\n",
        "\n",
        "  def fit(self, X, y):\n",
        "    self.X_train = X\n",
        "    self.y_train = y\n",
        "\n",
        "  def predict(self, X):\n",
        "    #compute distances\n",
        "    predicted_labels = [self._predict(x) for x in X]\n",
        "    return \n",
        "    \n",
        "  def _predict(self, x):\n",
        "    #compute distance\n",
        "    distances = [euclidean_distance(X, X_train) for X_train in self.X_train]\n",
        "    #get K nearest samples, labels\n",
        "    k_indices= np.argsort(distances)[:self.k]\n",
        "    k_nearest_labels = [self.y_train[i] for i in k_indices]\n",
        "\"\"\""
      ],
      "execution_count": 0,
      "outputs": [
        {
          "output_type": "execute_result",
          "data": {
            "text/plain": [
              "'\\nWhat KNN is doing when called\\n\\ndef euclid_distance(x1, x2):\\n  np.sqrt(np.sum((x1-x)**2))\\n\\nclass KNN:\\n  def euclidean_distance(x1, x2):\\n    return np.sqrt(np.sum(()))\\n  def Manhattan Distance(x1, x2, y1, y2):\\n    return abs(x1-x2)+abs(y1-y2)\\n  def __init__(self, k=100):\\n    self.k = k\\n\\n  def fit(self, X, y):\\n    self.X_train = X\\n    self.y_train = y\\n\\n  def predict(self, X):\\n    #compute distances\\n    predicted_labels = [self._predict(x) for x in X]\\n    return \\n    \\n  def _predict(self, x):\\n    #compute distance\\n    distances = [euclidean_distance(X, X_train) for X_train in self.X_train]\\n    #get K nearest samples, labels\\n    k_indices= np.argsort(distances)[:self.k]\\n    k_nearest_labels = [self.y_train[i] for i in k_indices]\\n'"
            ]
          },
          "metadata": {
            "tags": []
          },
          "execution_count": 59
        }
      ]
    },
    {
      "cell_type": "code",
      "metadata": {
        "id": "7ppqImQCGyoC",
        "colab_type": "code",
        "colab": {}
      },
      "source": [
        "accidentneighbors = KNeighborsClassifier(n_neighbors=100)\n",
        "accidentneighbors.fit(X_train, y_train)\n",
        "predictions = accidentneighbors.predict(X_test)"
      ],
      "execution_count": 0,
      "outputs": []
    },
    {
      "cell_type": "code",
      "metadata": {
        "id": "14CXr0w9GyyT",
        "colab_type": "code",
        "outputId": "a4891884-e27a-4d79-80c1-fd6a68133c86",
        "colab": {
          "base_uri": "https://localhost:8080/",
          "height": 34
        }
      },
      "source": [
        "accuracy=np.sum(predictions == y_test) / len(y_test)\n",
        "print(accuracy)"
      ],
      "execution_count": 0,
      "outputs": [
        {
          "output_type": "stream",
          "text": [
            "0.8094301675977653\n"
          ],
          "name": "stdout"
        }
      ]
    },
    {
      "cell_type": "code",
      "metadata": {
        "id": "6mziKBRbsSWv",
        "colab_type": "code",
        "colab": {}
      },
      "source": [
        ""
      ],
      "execution_count": 0,
      "outputs": []
    },
    {
      "cell_type": "code",
      "metadata": {
        "id": "HeKCgHwLsSc1",
        "colab_type": "code",
        "colab": {}
      },
      "source": [
        ""
      ],
      "execution_count": 0,
      "outputs": []
    },
    {
      "cell_type": "markdown",
      "metadata": {
        "id": "gEO2jD8nm7A0",
        "colab_type": "text"
      },
      "source": [
        "Now that I have obtained the accuracy and loss of data that this model takes in for Florida, I will now try it for Arizona. I will run KNN for Arizona and California as well. I would like to potentially see if google collab will allow me to test the entirety of the United states as well. I would like to test out coordinates of an accident site to see if the model can accurately predict the severity of the accident."
      ]
    },
    {
      "cell_type": "code",
      "metadata": {
        "id": "RK5MQ-zhFvxv",
        "colab_type": "code",
        "outputId": "cb907ca9-aca6-4c57-a8cf-e3b2e696c9c5",
        "colab": {
          "base_uri": "https://localhost:8080/",
          "height": 206
        }
      },
      "source": [
        "df_arizona=df_traffic.loc[df_traffic['State']=='AZ'][['ID', 'Start_Lat', 'Start_Lng', 'Severity']]\n",
        "df_arizona.head()"
      ],
      "execution_count": 0,
      "outputs": [
        {
          "output_type": "execute_result",
          "data": {
            "text/html": [
              "<div>\n",
              "<style scoped>\n",
              "    .dataframe tbody tr th:only-of-type {\n",
              "        vertical-align: middle;\n",
              "    }\n",
              "\n",
              "    .dataframe tbody tr th {\n",
              "        vertical-align: top;\n",
              "    }\n",
              "\n",
              "    .dataframe thead th {\n",
              "        text-align: right;\n",
              "    }\n",
              "</style>\n",
              "<table border=\"1\" class=\"dataframe\">\n",
              "  <thead>\n",
              "    <tr style=\"text-align: right;\">\n",
              "      <th></th>\n",
              "      <th>ID</th>\n",
              "      <th>Start_Lat</th>\n",
              "      <th>Start_Lng</th>\n",
              "      <th>Severity</th>\n",
              "    </tr>\n",
              "  </thead>\n",
              "  <tbody>\n",
              "    <tr>\n",
              "      <th>512569</th>\n",
              "      <td>A-512575</td>\n",
              "      <td>33.445259</td>\n",
              "      <td>-111.856468</td>\n",
              "      <td>2</td>\n",
              "    </tr>\n",
              "    <tr>\n",
              "      <th>512570</th>\n",
              "      <td>A-512576</td>\n",
              "      <td>35.264706</td>\n",
              "      <td>-112.049538</td>\n",
              "      <td>3</td>\n",
              "    </tr>\n",
              "    <tr>\n",
              "      <th>512571</th>\n",
              "      <td>A-512577</td>\n",
              "      <td>33.622849</td>\n",
              "      <td>-111.927834</td>\n",
              "      <td>2</td>\n",
              "    </tr>\n",
              "    <tr>\n",
              "      <th>512572</th>\n",
              "      <td>A-512578</td>\n",
              "      <td>33.503201</td>\n",
              "      <td>-112.043671</td>\n",
              "      <td>2</td>\n",
              "    </tr>\n",
              "    <tr>\n",
              "      <th>512573</th>\n",
              "      <td>A-512579</td>\n",
              "      <td>33.287281</td>\n",
              "      <td>-111.859009</td>\n",
              "      <td>2</td>\n",
              "    </tr>\n",
              "  </tbody>\n",
              "</table>\n",
              "</div>"
            ],
            "text/plain": [
              "              ID  Start_Lat   Start_Lng  Severity\n",
              "512569  A-512575  33.445259 -111.856468         2\n",
              "512570  A-512576  35.264706 -112.049538         3\n",
              "512571  A-512577  33.622849 -111.927834         2\n",
              "512572  A-512578  33.503201 -112.043671         2\n",
              "512573  A-512579  33.287281 -111.859009         2"
            ]
          },
          "metadata": {
            "tags": []
          },
          "execution_count": 62
        }
      ]
    },
    {
      "cell_type": "code",
      "metadata": {
        "id": "Y-QmvAQZdrHh",
        "colab_type": "code",
        "outputId": "c5a541ba-2cb9-4c51-9cc8-8d1403482e15",
        "colab": {
          "base_uri": "https://localhost:8080/",
          "height": 260
        }
      },
      "source": [
        "X2=pd.concat([df_arizona['Start_Lat'],df_arizona['Start_Lng']],axis=1)\n",
        "X2.shape\n",
        "X2.head"
      ],
      "execution_count": 0,
      "outputs": [
        {
          "output_type": "execute_result",
          "data": {
            "text/plain": [
              "<bound method NDFrame.head of          Start_Lat   Start_Lng\n",
              "512569   33.445259 -111.856468\n",
              "512570   35.264706 -112.049538\n",
              "512571   33.622849 -111.927834\n",
              "512572   33.503201 -112.043671\n",
              "512573   33.287281 -111.859009\n",
              "...            ...         ...\n",
              "2974142  33.504990 -112.112570\n",
              "2974143  33.668760 -112.072750\n",
              "2974144  33.485120 -112.264000\n",
              "2974145  33.378330 -111.893270\n",
              "2974146  32.266400 -111.007310\n",
              "\n",
              "[62330 rows x 2 columns]>"
            ]
          },
          "metadata": {
            "tags": []
          },
          "execution_count": 63
        }
      ]
    },
    {
      "cell_type": "code",
      "metadata": {
        "id": "VI-aH5zjdrQS",
        "colab_type": "code",
        "outputId": "26d151a8-070e-46bc-bc69-8c757c499299",
        "colab": {
          "base_uri": "https://localhost:8080/",
          "height": 225
        }
      },
      "source": [
        "y2=df_arizona['Severity']\n",
        "y2.shape\n",
        "y2.head"
      ],
      "execution_count": 0,
      "outputs": [
        {
          "output_type": "execute_result",
          "data": {
            "text/plain": [
              "<bound method NDFrame.head of 512569     2\n",
              "512570     3\n",
              "512571     2\n",
              "512572     2\n",
              "512573     2\n",
              "          ..\n",
              "2974142    2\n",
              "2974143    2\n",
              "2974144    2\n",
              "2974145    2\n",
              "2974146    2\n",
              "Name: Severity, Length: 62330, dtype: int64>"
            ]
          },
          "metadata": {
            "tags": []
          },
          "execution_count": 64
        }
      ]
    },
    {
      "cell_type": "code",
      "metadata": {
        "id": "whsGnIz-jW66",
        "colab_type": "code",
        "colab": {}
      },
      "source": [
        "X2_train, X2_test, y2_train, y2_test = train_test_split(X2, y2, test_size=0.2, random_state=101)"
      ],
      "execution_count": 0,
      "outputs": []
    },
    {
      "cell_type": "code",
      "metadata": {
        "id": "3tJ7PRAfewhK",
        "colab_type": "code",
        "colab": {}
      },
      "source": [
        "accidentneighbors2 = KNeighborsClassifier(n_neighbors=100)\n",
        "accidentneighbors2.fit(X2_train, y2_train)\n",
        "predictions2 = accidentneighbors2.predict(X2_test)"
      ],
      "execution_count": 0,
      "outputs": []
    },
    {
      "cell_type": "code",
      "metadata": {
        "id": "diqrn7Qkf1zZ",
        "colab_type": "code",
        "outputId": "409f3f39-25d9-48b8-8754-e79782aafae0",
        "colab": {
          "base_uri": "https://localhost:8080/",
          "height": 34
        }
      },
      "source": [
        "accuracy2=np.sum(predictions2 == y2_test) / len(y2_test)\n",
        "print(accuracy2)"
      ],
      "execution_count": 0,
      "outputs": [
        {
          "output_type": "stream",
          "text": [
            "0.8065939355045725\n"
          ],
          "name": "stdout"
        }
      ]
    },
    {
      "cell_type": "code",
      "metadata": {
        "id": "of5yQyKDf16I",
        "colab_type": "code",
        "outputId": "f9c4db66-2051-4b42-c38f-6fdafa61d711",
        "colab": {
          "base_uri": "https://localhost:8080/",
          "height": 206
        }
      },
      "source": [
        "df_california=df_traffic.loc[(df_traffic['State']=='CA')][['ID', 'Start_Lng', 'Start_Lat', 'Severity']]\n",
        "df_california.tail()"
      ],
      "execution_count": 0,
      "outputs": [
        {
          "output_type": "execute_result",
          "data": {
            "text/html": [
              "<div>\n",
              "<style scoped>\n",
              "    .dataframe tbody tr th:only-of-type {\n",
              "        vertical-align: middle;\n",
              "    }\n",
              "\n",
              "    .dataframe tbody tr th {\n",
              "        vertical-align: top;\n",
              "    }\n",
              "\n",
              "    .dataframe thead th {\n",
              "        text-align: right;\n",
              "    }\n",
              "</style>\n",
              "<table border=\"1\" class=\"dataframe\">\n",
              "  <thead>\n",
              "    <tr style=\"text-align: right;\">\n",
              "      <th></th>\n",
              "      <th>ID</th>\n",
              "      <th>Start_Lng</th>\n",
              "      <th>Start_Lat</th>\n",
              "      <th>Severity</th>\n",
              "    </tr>\n",
              "  </thead>\n",
              "  <tbody>\n",
              "    <tr>\n",
              "      <th>2974330</th>\n",
              "      <td>A-2974354</td>\n",
              "      <td>-117.37936</td>\n",
              "      <td>34.00248</td>\n",
              "      <td>2</td>\n",
              "    </tr>\n",
              "    <tr>\n",
              "      <th>2974331</th>\n",
              "      <td>A-2974355</td>\n",
              "      <td>-117.14806</td>\n",
              "      <td>32.76696</td>\n",
              "      <td>2</td>\n",
              "    </tr>\n",
              "    <tr>\n",
              "      <th>2974332</th>\n",
              "      <td>A-2974356</td>\n",
              "      <td>-117.84779</td>\n",
              "      <td>33.77545</td>\n",
              "      <td>2</td>\n",
              "    </tr>\n",
              "    <tr>\n",
              "      <th>2974333</th>\n",
              "      <td>A-2974357</td>\n",
              "      <td>-118.40302</td>\n",
              "      <td>33.99246</td>\n",
              "      <td>2</td>\n",
              "    </tr>\n",
              "    <tr>\n",
              "      <th>2974334</th>\n",
              "      <td>A-2974358</td>\n",
              "      <td>-117.23092</td>\n",
              "      <td>34.13393</td>\n",
              "      <td>2</td>\n",
              "    </tr>\n",
              "  </tbody>\n",
              "</table>\n",
              "</div>"
            ],
            "text/plain": [
              "                ID  Start_Lng  Start_Lat  Severity\n",
              "2974330  A-2974354 -117.37936   34.00248         2\n",
              "2974331  A-2974355 -117.14806   32.76696         2\n",
              "2974332  A-2974356 -117.84779   33.77545         2\n",
              "2974333  A-2974357 -118.40302   33.99246         2\n",
              "2974334  A-2974358 -117.23092   34.13393         2"
            ]
          },
          "metadata": {
            "tags": []
          },
          "execution_count": 68
        }
      ]
    },
    {
      "cell_type": "code",
      "metadata": {
        "id": "cIss3eYcewpn",
        "colab_type": "code",
        "outputId": "0afb31ef-fc77-46d0-b179-bb7336b749b7",
        "colab": {
          "base_uri": "https://localhost:8080/",
          "height": 34
        }
      },
      "source": [
        "X3=pd.concat([df_california['Start_Lng'], df_california['Start_Lat']], axis=1)\n",
        "X3.shape"
      ],
      "execution_count": 0,
      "outputs": [
        {
          "output_type": "execute_result",
          "data": {
            "text/plain": [
              "(663204, 2)"
            ]
          },
          "metadata": {
            "tags": []
          },
          "execution_count": 69
        }
      ]
    },
    {
      "cell_type": "code",
      "metadata": {
        "id": "E1dfwsUfkgQx",
        "colab_type": "code",
        "outputId": "e560f35a-4d5f-402e-d50c-768bbe721dd1",
        "colab": {
          "base_uri": "https://localhost:8080/",
          "height": 34
        }
      },
      "source": [
        "y3=df_california['Severity']\n",
        "y3.shape"
      ],
      "execution_count": 0,
      "outputs": [
        {
          "output_type": "execute_result",
          "data": {
            "text/plain": [
              "(663204,)"
            ]
          },
          "metadata": {
            "tags": []
          },
          "execution_count": 70
        }
      ]
    },
    {
      "cell_type": "code",
      "metadata": {
        "id": "MlYUmdBekgVC",
        "colab_type": "code",
        "colab": {}
      },
      "source": [
        "X3_train, X3_test, y3_train, y3_test = train_test_split(X3, y3, test_size=0.2, random_state=102)"
      ],
      "execution_count": 0,
      "outputs": []
    },
    {
      "cell_type": "code",
      "metadata": {
        "id": "zuvw39P6kgZO",
        "colab_type": "code",
        "colab": {}
      },
      "source": [
        "accidentneighbors3 = KNeighborsClassifier(n_neighbors=100)\n",
        "accidentneighbors3.fit(X3_train, y3_train)\n",
        "predictions3 = accidentneighbors3.predict(X3_test)"
      ],
      "execution_count": 0,
      "outputs": []
    },
    {
      "cell_type": "code",
      "metadata": {
        "id": "yeLnmHFAlwb7",
        "colab_type": "code",
        "outputId": "3e300548-f190-4910-afed-37489ea3c797",
        "colab": {
          "base_uri": "https://localhost:8080/",
          "height": 34
        }
      },
      "source": [
        "accuracy3=np.sum(predictions3 == y3_test) / len(y3_test)\n",
        "print(accuracy3)"
      ],
      "execution_count": 0,
      "outputs": [
        {
          "output_type": "stream",
          "text": [
            "0.79472410491477\n"
          ],
          "name": "stdout"
        }
      ]
    },
    {
      "cell_type": "markdown",
      "metadata": {
        "id": "FTr4lvDkzEEZ",
        "colab_type": "text"
      },
      "source": [
        "Now let's attempt this for 49 States not including Alaska or Hawaii and see if we can iterate through"
      ]
    },
    {
      "cell_type": "code",
      "metadata": {
        "id": "6lHG1LNvlwk1",
        "colab_type": "code",
        "outputId": "a5f1789b-4603-4b31-fa22-7591de374664",
        "colab": {
          "base_uri": "https://localhost:8080/",
          "height": 206
        }
      },
      "source": [
        "df_us=df_traffic[['ID', 'Start_Lng', 'Start_Lat', 'Severity']]\n",
        "df_us.tail()\n"
      ],
      "execution_count": 0,
      "outputs": [
        {
          "output_type": "execute_result",
          "data": {
            "text/html": [
              "<div>\n",
              "<style scoped>\n",
              "    .dataframe tbody tr th:only-of-type {\n",
              "        vertical-align: middle;\n",
              "    }\n",
              "\n",
              "    .dataframe tbody tr th {\n",
              "        vertical-align: top;\n",
              "    }\n",
              "\n",
              "    .dataframe thead th {\n",
              "        text-align: right;\n",
              "    }\n",
              "</style>\n",
              "<table border=\"1\" class=\"dataframe\">\n",
              "  <thead>\n",
              "    <tr style=\"text-align: right;\">\n",
              "      <th></th>\n",
              "      <th>ID</th>\n",
              "      <th>Start_Lng</th>\n",
              "      <th>Start_Lat</th>\n",
              "      <th>Severity</th>\n",
              "    </tr>\n",
              "  </thead>\n",
              "  <tbody>\n",
              "    <tr>\n",
              "      <th>2974330</th>\n",
              "      <td>A-2974354</td>\n",
              "      <td>-117.37936</td>\n",
              "      <td>34.00248</td>\n",
              "      <td>2</td>\n",
              "    </tr>\n",
              "    <tr>\n",
              "      <th>2974331</th>\n",
              "      <td>A-2974355</td>\n",
              "      <td>-117.14806</td>\n",
              "      <td>32.76696</td>\n",
              "      <td>2</td>\n",
              "    </tr>\n",
              "    <tr>\n",
              "      <th>2974332</th>\n",
              "      <td>A-2974356</td>\n",
              "      <td>-117.84779</td>\n",
              "      <td>33.77545</td>\n",
              "      <td>2</td>\n",
              "    </tr>\n",
              "    <tr>\n",
              "      <th>2974333</th>\n",
              "      <td>A-2974357</td>\n",
              "      <td>-118.40302</td>\n",
              "      <td>33.99246</td>\n",
              "      <td>2</td>\n",
              "    </tr>\n",
              "    <tr>\n",
              "      <th>2974334</th>\n",
              "      <td>A-2974358</td>\n",
              "      <td>-117.23092</td>\n",
              "      <td>34.13393</td>\n",
              "      <td>2</td>\n",
              "    </tr>\n",
              "  </tbody>\n",
              "</table>\n",
              "</div>"
            ],
            "text/plain": [
              "                ID  Start_Lng  Start_Lat  Severity\n",
              "2974330  A-2974354 -117.37936   34.00248         2\n",
              "2974331  A-2974355 -117.14806   32.76696         2\n",
              "2974332  A-2974356 -117.84779   33.77545         2\n",
              "2974333  A-2974357 -118.40302   33.99246         2\n",
              "2974334  A-2974358 -117.23092   34.13393         2"
            ]
          },
          "metadata": {
            "tags": []
          },
          "execution_count": 74
        }
      ]
    },
    {
      "cell_type": "code",
      "metadata": {
        "id": "2QBOdkz7yN1E",
        "colab_type": "code",
        "outputId": "d38a70c7-95e8-43af-a4b0-fbb80dd7fdc5",
        "colab": {
          "base_uri": "https://localhost:8080/",
          "height": 34
        }
      },
      "source": [
        "df_us.shape"
      ],
      "execution_count": 0,
      "outputs": [
        {
          "output_type": "execute_result",
          "data": {
            "text/plain": [
              "(2974335, 4)"
            ]
          },
          "metadata": {
            "tags": []
          },
          "execution_count": 75
        }
      ]
    },
    {
      "cell_type": "code",
      "metadata": {
        "id": "LqDA8lqszjGp",
        "colab_type": "code",
        "outputId": "6f630763-dede-4c80-c03f-47ddd7498d29",
        "colab": {
          "base_uri": "https://localhost:8080/",
          "height": 34
        }
      },
      "source": [
        "Xf=pd.concat([df_us['Start_Lng'], df_us['Start_Lat']], axis=1)\n",
        "Xf.shape"
      ],
      "execution_count": 0,
      "outputs": [
        {
          "output_type": "execute_result",
          "data": {
            "text/plain": [
              "(2974335, 2)"
            ]
          },
          "metadata": {
            "tags": []
          },
          "execution_count": 76
        }
      ]
    },
    {
      "cell_type": "code",
      "metadata": {
        "id": "NKl8OOjrzjMz",
        "colab_type": "code",
        "outputId": "cbe6afb9-5d22-4906-b3e1-fdcf36f63a1e",
        "colab": {
          "base_uri": "https://localhost:8080/",
          "height": 34
        }
      },
      "source": [
        "yf=df_us['Severity']\n",
        "yf.shape"
      ],
      "execution_count": 0,
      "outputs": [
        {
          "output_type": "execute_result",
          "data": {
            "text/plain": [
              "(2974335,)"
            ]
          },
          "metadata": {
            "tags": []
          },
          "execution_count": 77
        }
      ]
    },
    {
      "cell_type": "code",
      "metadata": {
        "id": "Cjm78pHhyN4c",
        "colab_type": "code",
        "colab": {}
      },
      "source": [
        "Xf_train, Xf_test, yf_train, yf_test = train_test_split(Xf, yf, train_size=0.8, random_state=1)"
      ],
      "execution_count": 0,
      "outputs": []
    },
    {
      "cell_type": "code",
      "metadata": {
        "id": "EJuIq9rNe8x7",
        "colab_type": "code",
        "outputId": "8e927331-c581-45e3-db24-0313666cdb69",
        "colab": {
          "base_uri": "https://localhost:8080/",
          "height": 104
        }
      },
      "source": [
        "yf_train.value_counts()"
      ],
      "execution_count": 0,
      "outputs": [
        {
          "output_type": "execute_result",
          "data": {
            "text/plain": [
              "2    1594617\n",
              "3     710382\n",
              "4      73677\n",
              "1        792\n",
              "Name: Severity, dtype: int64"
            ]
          },
          "metadata": {
            "tags": []
          },
          "execution_count": 79
        }
      ]
    },
    {
      "cell_type": "markdown",
      "metadata": {
        "id": "ymT3QflS8Spw",
        "colab_type": "text"
      },
      "source": [
        "For this test, let's use manhattan distance since longitude and latitude go east to west, north to south. And we will start with 10 neighbors for each State."
      ]
    },
    {
      "cell_type": "code",
      "metadata": {
        "id": "Vt94XpJO2fhz",
        "colab_type": "code",
        "colab": {}
      },
      "source": [
        "accidentneighborsf = KNeighborsClassifier(n_neighbors=490, p=1)\n",
        "accidentneighborsf.fit(Xf_train, yf_train)\n",
        "predictionsf = accidentneighborsf.predict(Xf_test)"
      ],
      "execution_count": 0,
      "outputs": []
    },
    {
      "cell_type": "code",
      "metadata": {
        "id": "47aV3ORu2fna",
        "colab_type": "code",
        "outputId": "b53f8aa1-a317-4a8f-f904-9e6265e79c4b",
        "colab": {
          "base_uri": "https://localhost:8080/",
          "height": 34
        }
      },
      "source": [
        "accuracyf=np.sum(predictionsf == yf_test) / len(yf_test)\n",
        "print(accuracyf)"
      ],
      "execution_count": 0,
      "outputs": [
        {
          "output_type": "stream",
          "text": [
            "0.7530405956289389\n"
          ],
          "name": "stdout"
        }
      ]
    },
    {
      "cell_type": "code",
      "metadata": {
        "id": "NC4n5cS_yN8E",
        "colab_type": "code",
        "outputId": "45d82076-0862-4e66-9b29-00c4b0a01170",
        "colab": {
          "base_uri": "https://localhost:8080/",
          "height": 34
        }
      },
      "source": [
        "accidentneighborsf = KNeighborsClassifier(n_neighbors=500, p=1)\n",
        "accidentneighborsf.fit(Xf_train, yf_train)\n",
        "predictionsf = accidentneighborsf.predict(Xf_test)\n",
        "accuracyf=np.sum(predictionsf == yf_test) / len(yf_test)\n",
        "print(accuracyf)"
      ],
      "execution_count": 0,
      "outputs": [
        {
          "output_type": "stream",
          "text": [
            "0.7528405509130612\n"
          ],
          "name": "stdout"
        }
      ]
    },
    {
      "cell_type": "code",
      "metadata": {
        "id": "yuXfyks5lwti",
        "colab_type": "code",
        "outputId": "99a3e6a8-932b-4873-b482-860afd6ce8b1",
        "colab": {
          "base_uri": "https://localhost:8080/",
          "height": 34
        }
      },
      "source": [
        "accidentneighborsf = KNeighborsClassifier(n_neighbors=450, p=1)\n",
        "accidentneighborsf.fit(Xf_train, yf_train)\n",
        "predictionsf = accidentneighborsf.predict(Xf_test)\n",
        "accuracyf=np.sum(predictionsf == yf_test) / len(yf_test)\n",
        "print(accuracyf)\n"
      ],
      "execution_count": 0,
      "outputs": [
        {
          "output_type": "stream",
          "text": [
            "0.7549469040978908\n"
          ],
          "name": "stdout"
        }
      ]
    },
    {
      "cell_type": "code",
      "metadata": {
        "id": "N2omER8KO7wX",
        "colab_type": "code",
        "colab": {}
      },
      "source": [
        "df_bad=df_traffic.loc[(df_traffic['Severity']==4)][['ID', 'Start_Lng', 'Start_Lat', 'Severity']]\n"
      ],
      "execution_count": 0,
      "outputs": []
    },
    {
      "cell_type": "code",
      "metadata": {
        "id": "3dGI86Hdd3V9",
        "colab_type": "code",
        "colab": {}
      },
      "source": [
        "kmean = KMeans(n_clusters=540)\n",
        "clusters = kmean.fit_predict(df_bad[['Start_Lat','Start_Lng']])\n"
      ],
      "execution_count": 0,
      "outputs": []
    },
    {
      "cell_type": "code",
      "metadata": {
        "id": "ZpdYIzird3af",
        "colab_type": "code",
        "outputId": "aaa317a5-7c75-4196-a399-b31fe5cc11b5",
        "colab": {
          "base_uri": "https://localhost:8080/",
          "height": 34
        }
      },
      "source": [
        "df_bad['cluster'] = kmean.predict(df_bad[['Start_Lat','Start_Lng']])\n",
        "df_bad.shape\n"
      ],
      "execution_count": 0,
      "outputs": [
        {
          "output_type": "execute_result",
          "data": {
            "text/plain": [
              "(92337, 5)"
            ]
          },
          "metadata": {
            "tags": []
          },
          "execution_count": 86
        }
      ]
    },
    {
      "cell_type": "code",
      "metadata": {
        "id": "TeMg2z2sO70R",
        "colab_type": "code",
        "outputId": "3849908c-ad85-4a0d-d972-4705456f7b24",
        "colab": {
          "base_uri": "https://localhost:8080/",
          "height": 206
        }
      },
      "source": [
        "df_bad.head()"
      ],
      "execution_count": 0,
      "outputs": [
        {
          "output_type": "execute_result",
          "data": {
            "text/html": [
              "<div>\n",
              "<style scoped>\n",
              "    .dataframe tbody tr th:only-of-type {\n",
              "        vertical-align: middle;\n",
              "    }\n",
              "\n",
              "    .dataframe tbody tr th {\n",
              "        vertical-align: top;\n",
              "    }\n",
              "\n",
              "    .dataframe thead th {\n",
              "        text-align: right;\n",
              "    }\n",
              "</style>\n",
              "<table border=\"1\" class=\"dataframe\">\n",
              "  <thead>\n",
              "    <tr style=\"text-align: right;\">\n",
              "      <th></th>\n",
              "      <th>ID</th>\n",
              "      <th>Start_Lng</th>\n",
              "      <th>Start_Lat</th>\n",
              "      <th>Severity</th>\n",
              "      <th>cluster</th>\n",
              "    </tr>\n",
              "  </thead>\n",
              "  <tbody>\n",
              "    <tr>\n",
              "      <th>619</th>\n",
              "      <td>A-620</td>\n",
              "      <td>-83.014236</td>\n",
              "      <td>39.917412</td>\n",
              "      <td>4</td>\n",
              "      <td>360</td>\n",
              "    </tr>\n",
              "    <tr>\n",
              "      <th>1197</th>\n",
              "      <td>A-1198</td>\n",
              "      <td>-121.899887</td>\n",
              "      <td>37.321117</td>\n",
              "      <td>4</td>\n",
              "      <td>311</td>\n",
              "    </tr>\n",
              "    <tr>\n",
              "      <th>1901</th>\n",
              "      <td>A-1902</td>\n",
              "      <td>-122.435043</td>\n",
              "      <td>37.630623</td>\n",
              "      <td>4</td>\n",
              "      <td>99</td>\n",
              "    </tr>\n",
              "    <tr>\n",
              "      <th>4143</th>\n",
              "      <td>A-4144</td>\n",
              "      <td>-121.851807</td>\n",
              "      <td>37.339115</td>\n",
              "      <td>4</td>\n",
              "      <td>311</td>\n",
              "    </tr>\n",
              "    <tr>\n",
              "      <th>4964</th>\n",
              "      <td>A-4965</td>\n",
              "      <td>-122.166687</td>\n",
              "      <td>37.710648</td>\n",
              "      <td>4</td>\n",
              "      <td>457</td>\n",
              "    </tr>\n",
              "  </tbody>\n",
              "</table>\n",
              "</div>"
            ],
            "text/plain": [
              "          ID   Start_Lng  Start_Lat  Severity  cluster\n",
              "619    A-620  -83.014236  39.917412         4      360\n",
              "1197  A-1198 -121.899887  37.321117         4      311\n",
              "1901  A-1902 -122.435043  37.630623         4       99\n",
              "4143  A-4144 -121.851807  37.339115         4      311\n",
              "4964  A-4965 -122.166687  37.710648         4      457"
            ]
          },
          "metadata": {
            "tags": []
          },
          "execution_count": 87
        }
      ]
    },
    {
      "cell_type": "code",
      "metadata": {
        "id": "IFOOk0V-eijV",
        "colab_type": "code",
        "outputId": "ef57c96b-bb61-4edd-a1f9-e2c5eb0d9c0a",
        "colab": {
          "base_uri": "https://localhost:8080/",
          "height": 69
        }
      },
      "source": [
        "xu=np.array(df_bad['Start_Lng'])\n",
        "yu=np.array(df_bad['Start_Lat'])\n",
        "print(xu.shape)\n",
        "print(yu.shape)\n",
        "ctestu=np.array(df_bad['cluster'])\n",
        "print(ctestu.shape)"
      ],
      "execution_count": 0,
      "outputs": [
        {
          "output_type": "stream",
          "text": [
            "(92337,)\n",
            "(92337,)\n",
            "(92337,)\n"
          ],
          "name": "stdout"
        }
      ]
    },
    {
      "cell_type": "code",
      "metadata": {
        "id": "kP-S7y9Teioz",
        "colab_type": "code",
        "outputId": "a1bf4e07-a9ed-4cd0-9251-c105bdec9628",
        "colab": {
          "base_uri": "https://localhost:8080/",
          "height": 139
        }
      },
      "source": [
        "centroidsu=kmean.cluster_centers_[ctestu]\n",
        "print(centroidsu)"
      ],
      "execution_count": 0,
      "outputs": [
        {
          "output_type": "stream",
          "text": [
            "[[  39.97081199  -82.95893606]\n",
            " [  37.41421428 -121.9703242 ]\n",
            " [  37.52900647 -122.35965011]\n",
            " ...\n",
            " [  33.74286217 -117.83988359]\n",
            " [  33.74286217 -117.83988359]\n",
            " [  33.74286217 -117.83988359]]\n"
          ],
          "name": "stdout"
        }
      ]
    },
    {
      "cell_type": "code",
      "metadata": {
        "id": "PluTMlQE67mV",
        "colab_type": "code",
        "outputId": "ceef6d58-77e7-4103-9abc-51cb6c2d905b",
        "colab": {
          "base_uri": "https://localhost:8080/",
          "height": 52
        }
      },
      "source": [
        "print(centroidsu[0])\n",
        "print(centroidsu.shape)"
      ],
      "execution_count": 0,
      "outputs": [
        {
          "output_type": "stream",
          "text": [
            "[ 39.97081199 -82.95893606]\n",
            "(92337, 2)\n"
          ],
          "name": "stdout"
        }
      ]
    },
    {
      "cell_type": "code",
      "metadata": {
        "id": "K7Sses8K_7sQ",
        "colab_type": "code",
        "outputId": "81135c00-3f18-4c3d-b9eb-a6fb30563c56",
        "colab": {
          "base_uri": "https://localhost:8080/",
          "height": 206
        }
      },
      "source": [
        "df_centroidsu = pd.DataFrame(data=centroidsu, columns=['Lat', 'Lng'])\n",
        "df_centroidsu.head()"
      ],
      "execution_count": 0,
      "outputs": [
        {
          "output_type": "execute_result",
          "data": {
            "text/html": [
              "<div>\n",
              "<style scoped>\n",
              "    .dataframe tbody tr th:only-of-type {\n",
              "        vertical-align: middle;\n",
              "    }\n",
              "\n",
              "    .dataframe tbody tr th {\n",
              "        vertical-align: top;\n",
              "    }\n",
              "\n",
              "    .dataframe thead th {\n",
              "        text-align: right;\n",
              "    }\n",
              "</style>\n",
              "<table border=\"1\" class=\"dataframe\">\n",
              "  <thead>\n",
              "    <tr style=\"text-align: right;\">\n",
              "      <th></th>\n",
              "      <th>Lat</th>\n",
              "      <th>Lng</th>\n",
              "    </tr>\n",
              "  </thead>\n",
              "  <tbody>\n",
              "    <tr>\n",
              "      <th>0</th>\n",
              "      <td>39.970812</td>\n",
              "      <td>-82.958936</td>\n",
              "    </tr>\n",
              "    <tr>\n",
              "      <th>1</th>\n",
              "      <td>37.414214</td>\n",
              "      <td>-121.970324</td>\n",
              "    </tr>\n",
              "    <tr>\n",
              "      <th>2</th>\n",
              "      <td>37.529006</td>\n",
              "      <td>-122.359650</td>\n",
              "    </tr>\n",
              "    <tr>\n",
              "      <th>3</th>\n",
              "      <td>37.414214</td>\n",
              "      <td>-121.970324</td>\n",
              "    </tr>\n",
              "    <tr>\n",
              "      <th>4</th>\n",
              "      <td>37.905560</td>\n",
              "      <td>-122.233439</td>\n",
              "    </tr>\n",
              "  </tbody>\n",
              "</table>\n",
              "</div>"
            ],
            "text/plain": [
              "         Lat         Lng\n",
              "0  39.970812  -82.958936\n",
              "1  37.414214 -121.970324\n",
              "2  37.529006 -122.359650\n",
              "3  37.414214 -121.970324\n",
              "4  37.905560 -122.233439"
            ]
          },
          "metadata": {
            "tags": []
          },
          "execution_count": 91
        }
      ]
    },
    {
      "cell_type": "code",
      "metadata": {
        "id": "s0uhywDFHI9E",
        "colab_type": "code",
        "outputId": "d3eb6313-24de-404c-8c4d-ce355fd41470",
        "colab": {
          "base_uri": "https://localhost:8080/",
          "height": 261
        }
      },
      "source": [
        "def create_gdfu(df_centroidsu, lat, lon):\n",
        "    \"\"\" Convert pandas dataframe into a Geopandas GeoDataFrame\"\"\"\n",
        "    crs = {'init': 'epsg:4326'}\n",
        "    geometry = [Point(xy) for xy in zip(df_centroidsu['Lng'], df_centroidsu['Lat'])]\n",
        "    gdfu = gpd.GeoDataFrame(df_centroidsu, crs= crs , geometry=geometry)\n",
        "    return gdfu\n",
        "us_gdf =  create_gdfu(df_centroidsu, \"latitude\", \"longitude\")\n",
        "us_gdf.tail()"
      ],
      "execution_count": 0,
      "outputs": [
        {
          "output_type": "stream",
          "text": [
            "/usr/local/lib/python3.6/dist-packages/pyproj/crs/crs.py:55: FutureWarning: '+init=<authority>:<code>' syntax is deprecated. '<authority>:<code>' is the preferred initialization method. When making the change, be mindful of axis order changes: https://pyproj4.github.io/pyproj/stable/gotchas.html#axis-order-changes-in-proj-6\n",
            "  return _prepare_from_string(\" \".join(pjargs))\n"
          ],
          "name": "stderr"
        },
        {
          "output_type": "execute_result",
          "data": {
            "text/html": [
              "<div>\n",
              "<style scoped>\n",
              "    .dataframe tbody tr th:only-of-type {\n",
              "        vertical-align: middle;\n",
              "    }\n",
              "\n",
              "    .dataframe tbody tr th {\n",
              "        vertical-align: top;\n",
              "    }\n",
              "\n",
              "    .dataframe thead th {\n",
              "        text-align: right;\n",
              "    }\n",
              "</style>\n",
              "<table border=\"1\" class=\"dataframe\">\n",
              "  <thead>\n",
              "    <tr style=\"text-align: right;\">\n",
              "      <th></th>\n",
              "      <th>Lat</th>\n",
              "      <th>Lng</th>\n",
              "      <th>geometry</th>\n",
              "    </tr>\n",
              "  </thead>\n",
              "  <tbody>\n",
              "    <tr>\n",
              "      <th>92332</th>\n",
              "      <td>39.414644</td>\n",
              "      <td>-121.756852</td>\n",
              "      <td>POINT (-121.75685 39.41464)</td>\n",
              "    </tr>\n",
              "    <tr>\n",
              "      <th>92333</th>\n",
              "      <td>39.414644</td>\n",
              "      <td>-121.756852</td>\n",
              "      <td>POINT (-121.75685 39.41464)</td>\n",
              "    </tr>\n",
              "    <tr>\n",
              "      <th>92334</th>\n",
              "      <td>33.742862</td>\n",
              "      <td>-117.839884</td>\n",
              "      <td>POINT (-117.83988 33.74286)</td>\n",
              "    </tr>\n",
              "    <tr>\n",
              "      <th>92335</th>\n",
              "      <td>33.742862</td>\n",
              "      <td>-117.839884</td>\n",
              "      <td>POINT (-117.83988 33.74286)</td>\n",
              "    </tr>\n",
              "    <tr>\n",
              "      <th>92336</th>\n",
              "      <td>33.742862</td>\n",
              "      <td>-117.839884</td>\n",
              "      <td>POINT (-117.83988 33.74286)</td>\n",
              "    </tr>\n",
              "  </tbody>\n",
              "</table>\n",
              "</div>"
            ],
            "text/plain": [
              "             Lat         Lng                     geometry\n",
              "92332  39.414644 -121.756852  POINT (-121.75685 39.41464)\n",
              "92333  39.414644 -121.756852  POINT (-121.75685 39.41464)\n",
              "92334  33.742862 -117.839884  POINT (-117.83988 33.74286)\n",
              "92335  33.742862 -117.839884  POINT (-117.83988 33.74286)\n",
              "92336  33.742862 -117.839884  POINT (-117.83988 33.74286)"
            ]
          },
          "metadata": {
            "tags": []
          },
          "execution_count": 92
        }
      ]
    },
    {
      "cell_type": "code",
      "metadata": {
        "id": "x3OmrYJbH9q3",
        "colab_type": "code",
        "outputId": "b74dc1a6-79e9-4a26-df15-8cbb511c296b",
        "colab": {
          "base_uri": "https://localhost:8080/",
          "height": 547
        }
      },
      "source": [
        "us_gdf.plot(cmap= 'Greens', figsize=(20,20))"
      ],
      "execution_count": 0,
      "outputs": [
        {
          "output_type": "execute_result",
          "data": {
            "text/plain": [
              "<matplotlib.axes._subplots.AxesSubplot at 0x7f58221c2940>"
            ]
          },
          "metadata": {
            "tags": []
          },
          "execution_count": 93
        },
        {
          "output_type": "display_data",
          "data": {
            "image/png": "[encoded data removed]",
            "text/plain": [
              "<Figure size 1440x1440 with 1 Axes>"
            ]
          },
          "metadata": {
            "tags": []
          }
        }
      ]
    },
    {
      "cell_type": "code",
      "metadata": {
        "id": "agL0oK0Lvxng",
        "colab_type": "code",
        "outputId": "0aa22e4a-68e1-47c4-eed8-d9e11a4efdf0",
        "colab": {
          "base_uri": "https://localhost:8080/",
          "height": 34
        }
      },
      "source": [
        "from sklearn.neighbors import NearestCentroid\n",
        "Xcent=pd.concat([us_gdf['Lng'], us_gdf['Lat']], axis=1)\n",
        "ycent=df_bad['cluster']\n",
        "clst = NearestCentroid(metric='manhattan')\n",
        "clst.fit(Xcent, ycent)\n",
        "\n"
      ],
      "execution_count": 0,
      "outputs": [
        {
          "output_type": "execute_result",
          "data": {
            "text/plain": [
              "NearestCentroid(metric='manhattan', shrink_threshold=None)"
            ]
          },
          "metadata": {
            "tags": []
          },
          "execution_count": 94
        }
      ]
    },
    {
      "cell_type": "code",
      "metadata": {
        "id": "Th-GicX1zrMO",
        "colab_type": "code",
        "outputId": "735af2b8-188c-49af-e21e-389d6eacfbc0",
        "colab": {
          "base_uri": "https://localhost:8080/",
          "height": 89
        }
      },
      "source": [
        "clst.predict([['-111.0937', '34.0489']])"
      ],
      "execution_count": 0,
      "outputs": [
        {
          "output_type": "stream",
          "text": [
            "/usr/local/lib/python3.6/dist-packages/sklearn/neighbors/_nearest_centroid.py:196: FutureWarning: Beginning in version 0.22, arrays of bytes/strings will be converted to decimal numbers if dtype='numeric'. It is recommended that you convert the array to a float dtype before using it in scikit-learn, for example by using your_array = your_array.astype(np.float64).\n",
            "  X = check_array(X, accept_sparse='csr')\n"
          ],
          "name": "stderr"
        },
        {
          "output_type": "execute_result",
          "data": {
            "text/plain": [
              "array([295], dtype=int32)"
            ]
          },
          "metadata": {
            "tags": []
          },
          "execution_count": 95
        }
      ]
    },
    {
      "cell_type": "code",
      "metadata": {
        "id": "CBMZuDGWZaO6",
        "colab_type": "code",
        "outputId": "32d75912-efdc-4337-ea40-e177ea029384",
        "colab": {
          "base_uri": "https://localhost:8080/",
          "height": 295
        }
      },
      "source": [
        "accidentneighborsf = KNeighborsClassifier(n_neighbors=13, weights= 'distance', p=1, leaf_size=60, algorithm='auto')\n",
        "accidentneighborsf.fit(Xf_train, yf_train)\n",
        "predictionsf = accidentneighborsf.predict(Xf_test)\n",
        "print(accuracy_score(yf_test, predictionsf))\n",
        "print(classification_report(yf_test, predictionsf))\n",
        "print(confusion_matrix(yf_test, predictionsf))\n"
      ],
      "execution_count": 0,
      "outputs": [
        {
          "output_type": "stream",
          "text": [
            "0.8606293507624393\n",
            "              precision    recall  f1-score   support\n",
            "\n",
            "           1       0.00      0.00      0.00       176\n",
            "           2       0.90      0.91      0.90    398793\n",
            "           3       0.80      0.81      0.81    177238\n",
            "           4       0.54      0.31      0.40     18660\n",
            "\n",
            "    accuracy                           0.86    594867\n",
            "   macro avg       0.56      0.51      0.53    594867\n",
            "weighted avg       0.86      0.86      0.86    594867\n",
            "\n",
            "[[     0    148     25      3]\n",
            " [    37 362407  32605   3744]\n",
            " [     2  32243 143712   1281]\n",
            " [     1   9363   3455   5841]]\n"
          ],
          "name": "stdout"
        }
      ]
    },
    {
      "cell_type": "code",
      "metadata": {
        "id": "WJKYUSln6Sd_",
        "colab_type": "code",
        "outputId": "0aba3173-9281-4b8f-d832-ccea36d4e14f",
        "colab": {
          "base_uri": "https://localhost:8080/",
          "height": 104
        }
      },
      "source": [
        "yf_test.value_counts()"
      ],
      "execution_count": 0,
      "outputs": [
        {
          "output_type": "execute_result",
          "data": {
            "text/plain": [
              "2    398793\n",
              "3    177238\n",
              "4     18660\n",
              "1       176\n",
              "Name: Severity, dtype: int64"
            ]
          },
          "metadata": {
            "tags": []
          },
          "execution_count": 97
        }
      ]
    },
    {
      "cell_type": "markdown",
      "metadata": {
        "id": "s20iFQfCnBI3",
        "colab_type": "text"
      },
      "source": [
        "It looks like the category 2 accidents are overrepresented while severity 3, 4 accidents are exceptionally important to get true positives on. Therefore I will try use oversampling of severity 4 accidents or possibly undersampling of severity 2 accidents. I will first attempt to use SMOTE."
      ]
    },
    {
      "cell_type": "code",
      "metadata": {
        "id": "CzXyWh7nQ3SN",
        "colab_type": "code",
        "colab": {}
      },
      "source": [
        "Xult=pd.concat([df_us['Start_Lng'], df_us['Start_Lat']], axis=1)"
      ],
      "execution_count": 0,
      "outputs": []
    },
    {
      "cell_type": "code",
      "metadata": {
        "id": "6LK_6AKEQ3WL",
        "colab_type": "code",
        "colab": {}
      },
      "source": [
        "yult=df_us['Severity']"
      ],
      "execution_count": 0,
      "outputs": []
    },
    {
      "cell_type": "code",
      "metadata": {
        "id": "srub4BCqQ3fQ",
        "colab_type": "code",
        "colab": {}
      },
      "source": [
        "sm = SMOTE(k_neighbors=10, random_state = 33)"
      ],
      "execution_count": 0,
      "outputs": []
    },
    {
      "cell_type": "code",
      "metadata": {
        "id": "ie8zgDzdS9VH",
        "colab_type": "code",
        "outputId": "16900186-72f4-4751-d07a-a76a21fe8a52",
        "colab": {
          "base_uri": "https://localhost:8080/",
          "height": 121
        }
      },
      "source": [
        "Xult_train_new, yult_train_new = sm.fit_resample(Xult, yult)"
      ],
      "execution_count": 0,
      "outputs": [
        {
          "output_type": "stream",
          "text": [
            "/usr/local/lib/python3.6/dist-packages/sklearn/utils/deprecation.py:87: FutureWarning: Function safe_indexing is deprecated; safe_indexing is deprecated in version 0.22 and will be removed in version 0.24.\n",
            "  warnings.warn(msg, category=FutureWarning)\n",
            "/usr/local/lib/python3.6/dist-packages/sklearn/utils/deprecation.py:87: FutureWarning: Function safe_indexing is deprecated; safe_indexing is deprecated in version 0.22 and will be removed in version 0.24.\n",
            "  warnings.warn(msg, category=FutureWarning)\n",
            "/usr/local/lib/python3.6/dist-packages/sklearn/utils/deprecation.py:87: FutureWarning: Function safe_indexing is deprecated; safe_indexing is deprecated in version 0.22 and will be removed in version 0.24.\n",
            "  warnings.warn(msg, category=FutureWarning)\n"
          ],
          "name": "stderr"
        }
      ]
    },
    {
      "cell_type": "code",
      "metadata": {
        "id": "judUi1UGs-AN",
        "colab_type": "code",
        "outputId": "1e19990b-3acb-4526-8c27-54a1068a640e",
        "colab": {
          "base_uri": "https://localhost:8080/",
          "height": 34
        }
      },
      "source": [
        "sm.get_params\n",
        "Xult_train_new.shape\n",
        "yult_train_new.shape"
      ],
      "execution_count": 0,
      "outputs": [
        {
          "output_type": "execute_result",
          "data": {
            "text/plain": [
              "(7973640,)"
            ]
          },
          "metadata": {
            "tags": []
          },
          "execution_count": 102
        }
      ]
    },
    {
      "cell_type": "code",
      "metadata": {
        "id": "HeQqmaezQ3gk",
        "colab_type": "code",
        "colab": {}
      },
      "source": [
        "Xult_trains, Xult_tests, yult_trains, yult_tests = train_test_split(Xult_train_new, yult_train_new, test_size = 0.3, random_state = 33, shuffle = True)"
      ],
      "execution_count": 0,
      "outputs": []
    },
    {
      "cell_type": "code",
      "metadata": {
        "id": "EGarz7rEQ3tI",
        "colab_type": "code",
        "colab": {}
      },
      "source": [
        "clf= KNeighborsClassifier(n_neighbors=13, weights= 'distance', p=1, leaf_size=60, algorithm='auto')"
      ],
      "execution_count": 0,
      "outputs": []
    },
    {
      "cell_type": "code",
      "metadata": {
        "id": "1HuIoMwZS9ZJ",
        "colab_type": "code",
        "outputId": "8872a896-87d2-426a-cc0c-60d42e1b2c38",
        "colab": {
          "base_uri": "https://localhost:8080/",
          "height": 295
        }
      },
      "source": [
        "clf.fit(Xult_trains, yult_trains)\n",
        "predsm = clf.predict(Xult_tests)\n",
        "print(accuracy_score(yult_tests, predsm))\n",
        "print(classification_report(yult_tests, predsm))\n",
        "print(confusion_matrix(yult_tests, predsm))"
      ],
      "execution_count": 0,
      "outputs": [
        {
          "output_type": "stream",
          "text": [
            "0.864843827076885\n",
            "              precision    recall  f1-score   support\n",
            "\n",
            "           1       0.93      0.94      0.94    597249\n",
            "           2       0.82      0.82      0.82    598471\n",
            "           3       0.83      0.87      0.85    597624\n",
            "           4       0.88      0.83      0.86    598748\n",
            "\n",
            "    accuracy                           0.86   2392092\n",
            "   macro avg       0.87      0.86      0.86   2392092\n",
            "weighted avg       0.87      0.86      0.86   2392092\n",
            "\n",
            "[[562815  17957   5056  11421]\n",
            " [ 20585 488873  57128  31885]\n",
            " [  3185  49937 517355  27147]\n",
            " [ 16565  41912  40528 499743]]\n"
          ],
          "name": "stdout"
        }
      ]
    },
    {
      "cell_type": "code",
      "metadata": {
        "id": "lq0yNFibS9iu",
        "colab_type": "code",
        "outputId": "f17faa3c-1e62-449c-a22d-be9c6377e578",
        "colab": {
          "base_uri": "https://localhost:8080/",
          "height": 34
        }
      },
      "source": [
        "\n",
        "#for geocoding\n",
        "geolocator = Nominatim(user_agent=\"geocacher\")\n",
        "a= ('12702 Bruce B Downs Blvd, Tampa, FL 33612')\n",
        "location = geolocator.geocode(a)\n",
        "print((location.longitude, location.latitude))\n"
      ],
      "execution_count": 0,
      "outputs": [
        {
          "output_type": "stream",
          "text": [
            "(-82.4079436, 28.088122)\n"
          ],
          "name": "stdout"
        }
      ]
    },
    {
      "cell_type": "markdown",
      "metadata": {
        "id": "OwK09JttI2jI",
        "colab_type": "text"
      },
      "source": [
        "Now to test a pickled trained model"
      ]
    },
    {
      "cell_type": "code",
      "metadata": {
        "id": "aJswtm7TS9wM",
        "colab_type": "code",
        "colab": {}
      },
      "source": [
        "saved_model = plk.dumps(clf)"
      ],
      "execution_count": 0,
      "outputs": []
    },
    {
      "cell_type": "code",
      "metadata": {
        "id": "lxYgE4kAS9df",
        "colab_type": "code",
        "colab": {}
      },
      "source": [
        "knn_from_pickle = plk.loads(saved_model) "
      ],
      "execution_count": 0,
      "outputs": []
    },
    {
      "cell_type": "code",
      "metadata": {
        "id": "rwRAyglzIGX_",
        "colab_type": "code",
        "outputId": "ad993e9a-b107-41d1-e032-f98883198c0f",
        "colab": {
          "base_uri": "https://localhost:8080/",
          "height": 34
        }
      },
      "source": [
        "X_test_pkl=[[-117.37, 34.00248]]\n",
        "knn_from_pickle.predict(X_test_pkl)"
      ],
      "execution_count": 0,
      "outputs": [
        {
          "output_type": "execute_result",
          "data": {
            "text/plain": [
              "array([2])"
            ]
          },
          "metadata": {
            "tags": []
          },
          "execution_count": 109
        }
      ]
    },
    {
      "cell_type": "code",
      "metadata": {
        "id": "yzex9F2VI9hH",
        "colab_type": "code",
        "outputId": "2f22ee7e-1d3e-4e18-fabe-0e1fe81e37f2",
        "colab": {
          "base_uri": "https://localhost:8080/",
          "height": 34
        }
      },
      "source": [
        "X_test_pkl2=[[-80.75, 35.45]]\n",
        "knn_from_pickle.predict_proba(X_test_pkl2)"
      ],
      "execution_count": 0,
      "outputs": [
        {
          "output_type": "execute_result",
          "data": {
            "text/plain": [
              "array([[0.89035469, 0.        , 0.        , 0.10964531]])"
            ]
          },
          "metadata": {
            "tags": []
          },
          "execution_count": 110
        }
      ]
    },
    {
      "cell_type": "code",
      "metadata": {
        "id": "fu1oMBcmI0Nu",
        "colab_type": "code",
        "colab": {}
      },
      "source": [
        "plk.dump(knn_from_pickle, open('clf.plk', 'wb'))"
      ],
      "execution_count": 0,
      "outputs": []
    },
    {
      "cell_type": "code",
      "metadata": {
        "id": "qMKZaG7TFBWm",
        "colab_type": "code",
        "outputId": "caadaa6a-a9f5-4b23-9ff4-8b27493cdc59",
        "colab": {
          "base_uri": "https://localhost:8080/",
          "height": 34
        }
      },
      "source": [
        "knn_from_pickle.predict([[-116.572, 35.01248]])"
      ],
      "execution_count": 0,
      "outputs": [
        {
          "output_type": "execute_result",
          "data": {
            "text/plain": [
              "array([3])"
            ]
          },
          "metadata": {
            "tags": []
          },
          "execution_count": 112
        }
      ]
    },
    {
      "cell_type": "code",
      "metadata": {
        "id": "1dGlkv7QXeGw",
        "colab_type": "code",
        "outputId": "667de76a-8a2a-49c0-8025-02c0e9a0aac4",
        "colab": {
          "base_uri": "https://localhost:8080/",
          "height": 34
        }
      },
      "source": [
        "knn_from_pickle.predict_proba([[-116.572, 35.01248]])"
      ],
      "execution_count": 0,
      "outputs": [
        {
          "output_type": "execute_result",
          "data": {
            "text/plain": [
              "array([[0.        , 0.20150376, 0.79849624, 0.        ]])"
            ]
          },
          "metadata": {
            "tags": []
          },
          "execution_count": 113
        }
      ]
    },
    {
      "cell_type": "markdown",
      "metadata": {
        "id": "Wqh7X2xBZ2aQ",
        "colab_type": "text"
      },
      "source": [
        "Now let's test Haversine Distance to see if this is a much better metric."
      ]
    },
    {
      "cell_type": "code",
      "metadata": {
        "id": "xv-2EokPEM-T",
        "colab_type": "code",
        "outputId": "d73d99e8-a71b-413d-dee1-243a7d5de283",
        "colab": {
          "base_uri": "https://localhost:8080/",
          "height": 34
        }
      },
      "source": [
        "\"\"\"\n",
        "Xrad=Xult*(math.pi)/180\n",
        "Xrad.shape\n",
        "\"\"\""
      ],
      "execution_count": 0,
      "outputs": [
        {
          "output_type": "execute_result",
          "data": {
            "text/plain": [
              "'\\nXrad=Xult*(math.pi)/180\\nXrad.shape\\n'"
            ]
          },
          "metadata": {
            "tags": []
          },
          "execution_count": 114
        }
      ]
    },
    {
      "cell_type": "code",
      "metadata": {
        "id": "7uIIAHbMdpls",
        "colab_type": "code",
        "outputId": "171fb199-f06d-4e72-a19f-bde95d5d2dd8",
        "colab": {
          "base_uri": "https://localhost:8080/",
          "height": 34
        }
      },
      "source": [
        "\"\"\"\n",
        "yult.shape\n",
        "yrad=yult\n",
        "yrad.shape\n",
        "\"\"\""
      ],
      "execution_count": 0,
      "outputs": [
        {
          "output_type": "execute_result",
          "data": {
            "text/plain": [
              "'\\nyult.shape\\nyrad=yult\\nyrad.shape\\n'"
            ]
          },
          "metadata": {
            "tags": []
          },
          "execution_count": 115
        }
      ]
    },
    {
      "cell_type": "code",
      "metadata": {
        "id": "0Sf47v2k-KBo",
        "colab_type": "code",
        "outputId": "abde464d-7f14-4fa4-dfaa-6224625cd5b1",
        "colab": {
          "base_uri": "https://localhost:8080/",
          "height": 34
        }
      },
      "source": [
        "\"\"\"\n",
        "X_rad_new, y_rad_new = sm.fit_resample(Xrad, yrad)\n",
        "\"\"\""
      ],
      "execution_count": 0,
      "outputs": [
        {
          "output_type": "execute_result",
          "data": {
            "text/plain": [
              "'\\nX_rad_new, y_rad_new = sm.fit_resample(Xrad, yrad)\\n'"
            ]
          },
          "metadata": {
            "tags": []
          },
          "execution_count": 116
        }
      ]
    },
    {
      "cell_type": "code",
      "metadata": {
        "id": "TscN1e9H_Tte",
        "colab_type": "code",
        "outputId": "d64ed7b9-1491-44eb-9b84-d5170d1dde14",
        "colab": {
          "base_uri": "https://localhost:8080/",
          "height": 34
        }
      },
      "source": [
        "\"\"\"\n",
        "sm.get_params\n",
        "X_rad_new.shape\n",
        "y_rad_new.shape\n",
        "\"\"\""
      ],
      "execution_count": 0,
      "outputs": [
        {
          "output_type": "execute_result",
          "data": {
            "text/plain": [
              "'\\nsm.get_params\\nX_rad_new.shape\\ny_rad_new.shape\\n'"
            ]
          },
          "metadata": {
            "tags": []
          },
          "execution_count": 117
        }
      ]
    },
    {
      "cell_type": "code",
      "metadata": {
        "id": "aoli1AKX_Tyr",
        "colab_type": "code",
        "outputId": "e7cc7371-b46c-42ad-8a6e-e09d80868145",
        "colab": {
          "base_uri": "https://localhost:8080/",
          "height": 34
        }
      },
      "source": [
        "\"\"\"\n",
        "X_rad_train, X_rad_test, y_rad_train, y_rad_test = train_test_split(X_rad_new, y_rad_new, test_size = 0.2, random_state = 40, shuffle = True)\n",
        "\"\"\""
      ],
      "execution_count": 0,
      "outputs": [
        {
          "output_type": "execute_result",
          "data": {
            "text/plain": [
              "'\\nX_rad_train, X_rad_test, y_rad_train, y_rad_test = train_test_split(X_rad_new, y_rad_new, test_size = 0.2, random_state = 40, shuffle = True)\\n'"
            ]
          },
          "metadata": {
            "tags": []
          },
          "execution_count": 118
        }
      ]
    },
    {
      "cell_type": "code",
      "metadata": {
        "id": "K_g26JOR_3jI",
        "colab_type": "code",
        "outputId": "a87680e1-80d3-449f-d915-5de4d2bf65c2",
        "colab": {
          "base_uri": "https://localhost:8080/",
          "height": 34
        }
      },
      "source": [
        "\"\"\"\n",
        "haversineclf= KNeighborsClassifier(n_neighbors=10, weights= 'distance', metric='haversine', leaf_size=100, algorithm='auto')\n",
        "\"\"\""
      ],
      "execution_count": 0,
      "outputs": [
        {
          "output_type": "execute_result",
          "data": {
            "text/plain": [
              "\"\\nhaversineclf= KNeighborsClassifier(n_neighbors=10, weights= 'distance', metric='haversine', leaf_size=100, algorithm='auto')\\n\""
            ]
          },
          "metadata": {
            "tags": []
          },
          "execution_count": 119
        }
      ]
    },
    {
      "cell_type": "code",
      "metadata": {
        "id": "aw5EmTv8AmJR",
        "colab_type": "code",
        "outputId": "9a7e81cd-89b4-4a6b-cdf7-b3842d58d464",
        "colab": {
          "base_uri": "https://localhost:8080/",
          "height": 54
        }
      },
      "source": [
        "\"\"\"\n",
        "haversineclf.fit(X_rad_train, y_rad_train)\n",
        "havpred=haversineclf.predict(X_rad_test)\n",
        "print(accuracy_score(y_rad_test, havpred))\n",
        "print(classification_report(y_rad_test, havpred))\n",
        "print(confusion_matrix(y_rad_test, havpred))\n",
        "\"\"\""
      ],
      "execution_count": 0,
      "outputs": [
        {
          "output_type": "execute_result",
          "data": {
            "text/plain": [
              "'\\nhaversineclf.fit(X_rad_train, y_rad_train)\\nhavpred=haversineclf.predict(X_rad_test)\\nprint(accuracy_score(y_rad_test, havpred))\\nprint(classification_report(y_rad_test, havpred))\\nprint(confusion_matrix(y_rad_test, havpred))\\n'"
            ]
          },
          "metadata": {
            "tags": []
          },
          "execution_count": 120
        }
      ]
    },
    {
      "cell_type": "markdown",
      "metadata": {
        "id": "tKtGbi_y1qAI",
        "colab_type": "text"
      },
      "source": [
        "For now I would actually like to try to see if other techniques work. First, I will use a decision tree algorithm."
      ]
    },
    {
      "cell_type": "code",
      "metadata": {
        "id": "BT2OKAVoxQgD",
        "colab_type": "code",
        "colab": {}
      },
      "source": [
        "from sklearn.ensemble import RandomForestClassifier\n",
        "from sklearn.datasets import make_classification"
      ],
      "execution_count": 0,
      "outputs": []
    },
    {
      "cell_type": "code",
      "metadata": {
        "id": "QiSyTMfy1o2d",
        "colab_type": "code",
        "outputId": "b8011656-ee7b-4a7f-8747-5c0bd6c383ec",
        "colab": {
          "base_uri": "https://localhost:8080/",
          "height": 86
        }
      },
      "source": [
        "Xult_train_new, yult_train_new = make_classification(n_samples=100000, n_classes=4, n_informative=4, \n",
        "                           random_state=50, shuffle=False)\n",
        "forest = RandomForestClassifier(max_depth=16, random_state=0)\n",
        "forest.fit(Xult_train_new, yult_train_new)\n",
        "\n",
        "print(forest.feature_importances_)\n"
      ],
      "execution_count": 0,
      "outputs": [
        {
          "output_type": "stream",
          "text": [
            "[0.12913408 0.19468511 0.17510318 0.14735858 0.10596873 0.14872561\n",
            " 0.00713006 0.00702959 0.00704705 0.00699231 0.00717571 0.00706306\n",
            " 0.00706178 0.00711128 0.00691817 0.00708327 0.00704811 0.00703215\n",
            " 0.00705827 0.00727392]\n"
          ],
          "name": "stdout"
        }
      ]
    },
    {
      "cell_type": "code",
      "metadata": {
        "id": "7OhlRXFY_ioE",
        "colab_type": "code",
        "outputId": "47a17b83-70cd-43ed-9740-eba382487a31",
        "colab": {
          "base_uri": "https://localhost:8080/",
          "height": 295
        }
      },
      "source": [
        "predforest = forest.predict(Xult_train_new)\n",
        "print(accuracy_score(yult_train_new, predforest))\n",
        "print(classification_report(yult_train_new, predforest))\n",
        "print(confusion_matrix(yult_train_new, predforest))"
      ],
      "execution_count": 0,
      "outputs": [
        {
          "output_type": "stream",
          "text": [
            "0.95726\n",
            "              precision    recall  f1-score   support\n",
            "\n",
            "           0       0.97      0.95      0.96     24993\n",
            "           1       0.94      0.96      0.95     24970\n",
            "           2       0.96      0.96      0.96     25029\n",
            "           3       0.96      0.97      0.96     25008\n",
            "\n",
            "    accuracy                           0.96    100000\n",
            "   macro avg       0.96      0.96      0.96    100000\n",
            "weighted avg       0.96      0.96      0.96    100000\n",
            "\n",
            "[[23668   797   298   230]\n",
            " [  396 23970   411   193]\n",
            " [  217   302 23947   563]\n",
            " [  163   351   353 24141]]\n"
          ],
          "name": "stdout"
        }
      ]
    },
    {
      "cell_type": "code",
      "metadata": {
        "id": "Bv-CzRTjBjKN",
        "colab_type": "code",
        "colab": {}
      },
      "source": [
        ""
      ],
      "execution_count": 0,
      "outputs": []
    },
    {
      "cell_type": "markdown",
      "metadata": {
        "id": "LInttnef1ZyU",
        "colab_type": "text"
      },
      "source": [
        "https://scikit-learn.org/stable/modules/generated/sklearn.neighbors.DistanceMetric.html\n",
        "\n",
        "This explains sklearn's Distance Metric parameter"
      ]
    },
    {
      "cell_type": "markdown",
      "metadata": {
        "id": "jauLEDjh8q9I",
        "colab_type": "text"
      },
      "source": [
        "https://medium.com/datadriveninvestor/k-nearest-neighbors-knn-7b4bd0128da7\n",
        "\n",
        "This article explains K nearest neighbor."
      ]
    },
    {
      "cell_type": "markdown",
      "metadata": {
        "id": "qTjKI8Gy8wb3",
        "colab_type": "text"
      },
      "source": [
        "https://towardsdatascience.com/nearest-neighbour-analysis-with-geospatial-data-7bcd95f34c0e\n",
        "\n",
        "This article assists with implementing k nearest neighbor for geo spatial data."
      ]
    },
    {
      "cell_type": "markdown",
      "metadata": {
        "id": "49rIfCnyAz-z",
        "colab_type": "text"
      },
      "source": [
        "https://scikit-learn.org/stable/modules/generated/sklearn.neighbors.KNeighborsClassifier.html#sklearn.neighbors.KNeighborsClassifier.kneighbors\n",
        "\n",
        "This explains KNearest Neighbor from sklearn."
      ]
    },
    {
      "cell_type": "markdown",
      "metadata": {
        "id": "zHJyf3UJ8p0R",
        "colab_type": "text"
      },
      "source": [
        "https://medium.com/datadriveninvestor/k-fold-and-other-cross-validation-techniques-6c03a2563f1e\n",
        "\n",
        "This article explains evaluation of K nearest neighbor."
      ]
    },
    {
      "cell_type": "markdown",
      "metadata": {
        "id": "JJW1DyxUh_T1",
        "colab_type": "text"
      },
      "source": [
        "Moosavi, Sobhan, Mohammad Hossein Samavatian, Srinivasan Parthasarathy, and Rajiv Ramnath. “A Countrywide Traffic Accident Dataset.”, 2019.\n",
        "\n",
        "Moosavi, Sobhan, Mohammad Hossein Samavatian, Srinivasan Parthasarathy, Radu Teodorescu, and Rajiv Ramnath. \"Accident Risk Prediction based on Heterogeneous Sparse Data: New Dataset and Insights.\" In proceedings of the 27th ACM SIGSPATIAL International Conference on Advances in Geographic Information Systems, ACM, 2019."
      ]
    }
  ]
}