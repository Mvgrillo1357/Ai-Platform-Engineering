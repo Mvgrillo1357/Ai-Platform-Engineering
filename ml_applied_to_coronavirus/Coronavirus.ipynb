{
  "nbformat": 4,
  "nbformat_minor": 0,
  "metadata": {
    "colab": {
      "name": "Coronavirus.ipynb",
      "provenance": [],
      "collapsed_sections": [],
      "authorship_tag": "ABX9TyOWsAN02Wghs38fuXdl1shd",
      "include_colab_link": true
    },
    "kernelspec": {
      "name": "python3",
      "display_name": "Python 3"
    },
    "accelerator": "GPU"
  },
  "cells": [
    {
      "cell_type": "markdown",
      "metadata": {
        "id": "view-in-github",
        "colab_type": "text"
      },
      "source": [
        "<a href=\"https://colab.research.google.com/github/Mvgrillo1357/Ai-Platform-Engineering/blob/master/ml_applied_to_coronavirus/Coronavirus.ipynb\" target=\"_parent\"><img src=\"https://colab.research.google.com/assets/colab-badge.svg\" alt=\"Open In Colab\"/></a>"
      ]
    },
    {
      "cell_type": "markdown",
      "metadata": {
        "id": "drkeDK3tS2JF",
        "colab_type": "text"
      },
      "source": [
        "https://www.kaggle.com/kimjihoo/coronavirusdataset#case.csv the dataset source"
      ]
    },
    {
      "cell_type": "code",
      "metadata": {
        "id": "FfoY892ptBzT",
        "colab_type": "code",
        "outputId": "ba4b53a5-6b73-41eb-dff5-01ae3628cc25",
        "colab": {
          "base_uri": "https://localhost:8080/",
          "height": 204
        }
      },
      "source": [
        "# Colab library to upload files to notebook\n",
        "from google.colab import files\n",
        "\n",
        "# Install Kaggle library\n",
        "!pip install kaggle\n"
      ],
      "execution_count": 1,
      "outputs": [
        {
          "output_type": "stream",
          "text": [
            "Requirement already satisfied: kaggle in /usr/local/lib/python3.6/dist-packages (1.5.6)\n",
            "Requirement already satisfied: six>=1.10 in /usr/local/lib/python3.6/dist-packages (from kaggle) (1.12.0)\n",
            "Requirement already satisfied: certifi in /usr/local/lib/python3.6/dist-packages (from kaggle) (2019.11.28)\n",
            "Requirement already satisfied: urllib3<1.25,>=1.21.1 in /usr/local/lib/python3.6/dist-packages (from kaggle) (1.24.3)\n",
            "Requirement already satisfied: tqdm in /usr/local/lib/python3.6/dist-packages (from kaggle) (4.38.0)\n",
            "Requirement already satisfied: requests in /usr/local/lib/python3.6/dist-packages (from kaggle) (2.21.0)\n",
            "Requirement already satisfied: python-slugify in /usr/local/lib/python3.6/dist-packages (from kaggle) (4.0.0)\n",
            "Requirement already satisfied: python-dateutil in /usr/local/lib/python3.6/dist-packages (from kaggle) (2.8.1)\n",
            "Requirement already satisfied: idna<2.9,>=2.5 in /usr/local/lib/python3.6/dist-packages (from requests->kaggle) (2.8)\n",
            "Requirement already satisfied: chardet<3.1.0,>=3.0.2 in /usr/local/lib/python3.6/dist-packages (from requests->kaggle) (3.0.4)\n",
            "Requirement already satisfied: text-unidecode>=1.3 in /usr/local/lib/python3.6/dist-packages (from python-slugify->kaggle) (1.3)\n"
          ],
          "name": "stdout"
        }
      ]
    },
    {
      "cell_type": "code",
      "metadata": {
        "id": "JfH4KbeCtJhD",
        "colab_type": "code",
        "colab": {}
      },
      "source": [
        "!mkdir .kaggle\n",
        "!mkdir ~/.kaggle"
      ],
      "execution_count": 0,
      "outputs": []
    },
    {
      "cell_type": "code",
      "metadata": {
        "id": "mOJnpFzqtRCh",
        "colab_type": "code",
        "colab": {}
      },
      "source": [
        "import json\n",
        "token = {\"username\":\"michaelgrillo\",\"key\":\"1b1b61b21b7bd669c2b170bf718b9cd8\"}\n",
        "with open ('/content/.kaggle/kaggle.json', 'w') as file:\n",
        "  json.dump(token, file)"
      ],
      "execution_count": 0,
      "outputs": []
    },
    {
      "cell_type": "code",
      "metadata": {
        "id": "w7R-S4FBtR0J",
        "colab_type": "code",
        "colab": {}
      },
      "source": [
        "!chmod 600 /content/.kaggle/kaggle.json"
      ],
      "execution_count": 0,
      "outputs": []
    },
    {
      "cell_type": "code",
      "metadata": {
        "id": "J7e9DLm1tTvz",
        "colab_type": "code",
        "colab": {}
      },
      "source": [
        "!cp /content/.kaggle/kaggle.json ~/.kaggle/kaggle.json"
      ],
      "execution_count": 0,
      "outputs": []
    },
    {
      "cell_type": "code",
      "metadata": {
        "id": "8MPjkeiJtVbe",
        "colab_type": "code",
        "outputId": "c5cac1e4-6067-4cd5-f14a-37e15d83b99d",
        "colab": {
          "base_uri": "https://localhost:8080/",
          "height": 34
        }
      },
      "source": [
        "!kaggle config set -n path -v{/content}"
      ],
      "execution_count": 6,
      "outputs": [
        {
          "output_type": "stream",
          "text": [
            "- path is now set to: {/content}\n"
          ],
          "name": "stdout"
        }
      ]
    },
    {
      "cell_type": "code",
      "metadata": {
        "id": "7rx79rjGtXN3",
        "colab_type": "code",
        "outputId": "1f675284-8d23-4b8f-a61e-b227cd14d1f3",
        "colab": {
          "base_uri": "https://localhost:8080/",
          "height": 68
        }
      },
      "source": [
        "!kaggle datasets download -d kimjihoo/coronavirusdataset -p /content --force"
      ],
      "execution_count": 7,
      "outputs": [
        {
          "output_type": "stream",
          "text": [
            "Downloading coronavirusdataset.zip to /content\n",
            "\r  0% 0.00/2.53M [00:00<?, ?B/s]\n",
            "\r100% 2.53M/2.53M [00:00<00:00, 82.8MB/s]\n"
          ],
          "name": "stdout"
        }
      ]
    },
    {
      "cell_type": "code",
      "metadata": {
        "id": "0DeA8FGptcFU",
        "colab_type": "code",
        "outputId": "5d27f734-f0d5-41e1-c4aa-ccb2fcac916a",
        "colab": {
          "base_uri": "https://localhost:8080/",
          "height": 221
        }
      },
      "source": [
        "!unzip \\*.zip"
      ],
      "execution_count": 8,
      "outputs": [
        {
          "output_type": "stream",
          "text": [
            "Archive:  coronavirusdataset.zip\n",
            "  inflating: Case.csv                \n",
            "  inflating: PatientInfo.csv         \n",
            "  inflating: PatientRoute.csv        \n",
            "  inflating: Region.csv              \n",
            "  inflating: SearchTrend.csv         \n",
            "  inflating: SeoulFloating.csv       \n",
            "  inflating: Time.csv                \n",
            "  inflating: TimeAge.csv             \n",
            "  inflating: TimeGender.csv          \n",
            "  inflating: TimeProvince.csv        \n",
            "  inflating: Weather.csv             \n"
          ],
          "name": "stdout"
        }
      ]
    },
    {
      "cell_type": "code",
      "metadata": {
        "id": "E-PjS2pRtflI",
        "colab_type": "code",
        "outputId": "d4c918b3-c2e9-4840-81c8-08c7a814d176",
        "colab": {
          "base_uri": "https://localhost:8080/",
          "height": 85
        }
      },
      "source": [
        "!ls"
      ],
      "execution_count": 9,
      "outputs": [
        {
          "output_type": "stream",
          "text": [
            "Case.csv\t\tRegion.csv\t   TimeAge.csv\t     Weather.csv\n",
            "coronavirusdataset.zip\tsample_data\t   Time.csv\n",
            "PatientInfo.csv\t\tSearchTrend.csv    TimeGender.csv\n",
            "PatientRoute.csv\tSeoulFloating.csv  TimeProvince.csv\n"
          ],
          "name": "stdout"
        }
      ]
    },
    {
      "cell_type": "code",
      "metadata": {
        "id": "oJj5umJuthIK",
        "colab_type": "code",
        "outputId": "1164f1a7-70ad-455f-828f-bd1fbbe19976",
        "colab": {
          "base_uri": "https://localhost:8080/",
          "height": 632
        }
      },
      "source": [
        "import pandas as pd\n",
        "import matplotlib.pyplot as plt\n",
        "import seaborn as sns\n",
        "import numpy as np\n",
        "from sklearn.neighbors import KNeighborsClassifier\n",
        "from sklearn.model_selection import train_test_split\n",
        "import scipy as sp\n",
        "!pip install geopandas\n",
        "import sklearn as skl\n",
        "import geopandas as gpd\n",
        "import geopy\n",
        "import folium\n",
        "from shapely.geometry import Point, Polygon\n",
        "from sklearn.cluster import KMeans\n",
        "from shapely.ops import nearest_points\n",
        "from geopy.geocoders import Nominatim\n",
        "from sklearn.metrics import accuracy_score\n",
        "from sklearn.metrics import classification_report\n",
        "from sklearn.metrics import confusion_matrix, mean_squared_error\n",
        "from collections import Counter\n",
        "from sklearn.datasets import make_classification\n",
        "!pip install imblearn\n",
        "from imblearn.over_sampling import SMOTE\n",
        "from sklearn.preprocessing import StandardScaler\n",
        "import pickle as plk\n",
        "import math\n",
        "import matplotlib as mpl"
      ],
      "execution_count": 10,
      "outputs": [
        {
          "output_type": "stream",
          "text": [
            "Collecting geopandas\n",
            "\u001b[?25l  Downloading https://files.pythonhosted.org/packages/83/c5/3cf9cdc39a6f2552922f79915f36b45a95b71fd343cfc51170a5b6ddb6e8/geopandas-0.7.0-py2.py3-none-any.whl (928kB)\n",
            "\u001b[K     |████████████████████████████████| 931kB 3.4MB/s \n",
            "\u001b[?25hCollecting fiona\n",
            "\u001b[?25l  Downloading https://files.pythonhosted.org/packages/ec/20/4e63bc5c6e62df889297b382c3ccd4a7a488b00946aaaf81a118158c6f09/Fiona-1.8.13.post1-cp36-cp36m-manylinux1_x86_64.whl (14.7MB)\n",
            "\u001b[K     |████████████████████████████████| 14.7MB 201kB/s \n",
            "\u001b[?25hRequirement already satisfied: pandas>=0.23.0 in /usr/local/lib/python3.6/dist-packages (from geopandas) (0.25.3)\n",
            "Collecting pyproj>=2.2.0\n",
            "\u001b[?25l  Downloading https://files.pythonhosted.org/packages/ce/37/705ee471f71130d4ceee41bbcb06f3b52175cb89273cbb5755ed5e6374e0/pyproj-2.6.0-cp36-cp36m-manylinux2010_x86_64.whl (10.4MB)\n",
            "\u001b[K     |████████████████████████████████| 10.4MB 24.0MB/s \n",
            "\u001b[?25hRequirement already satisfied: shapely in /usr/local/lib/python3.6/dist-packages (from geopandas) (1.7.0)\n",
            "Requirement already satisfied: six>=1.7 in /usr/local/lib/python3.6/dist-packages (from fiona->geopandas) (1.12.0)\n",
            "Collecting cligj>=0.5\n",
            "  Downloading https://files.pythonhosted.org/packages/e4/be/30a58b4b0733850280d01f8bd132591b4668ed5c7046761098d665ac2174/cligj-0.5.0-py3-none-any.whl\n",
            "Collecting munch\n",
            "  Downloading https://files.pythonhosted.org/packages/cc/ab/85d8da5c9a45e072301beb37ad7f833cd344e04c817d97e0cc75681d248f/munch-2.5.0-py2.py3-none-any.whl\n",
            "Collecting click-plugins>=1.0\n",
            "  Downloading https://files.pythonhosted.org/packages/e9/da/824b92d9942f4e472702488857914bdd50f73021efea15b4cad9aca8ecef/click_plugins-1.1.1-py2.py3-none-any.whl\n",
            "Requirement already satisfied: click<8,>=4.0 in /usr/local/lib/python3.6/dist-packages (from fiona->geopandas) (7.1.1)\n",
            "Requirement already satisfied: attrs>=17 in /usr/local/lib/python3.6/dist-packages (from fiona->geopandas) (19.3.0)\n",
            "Requirement already satisfied: python-dateutil>=2.6.1 in /usr/local/lib/python3.6/dist-packages (from pandas>=0.23.0->geopandas) (2.8.1)\n",
            "Requirement already satisfied: numpy>=1.13.3 in /usr/local/lib/python3.6/dist-packages (from pandas>=0.23.0->geopandas) (1.18.2)\n",
            "Requirement already satisfied: pytz>=2017.2 in /usr/local/lib/python3.6/dist-packages (from pandas>=0.23.0->geopandas) (2018.9)\n",
            "Installing collected packages: cligj, munch, click-plugins, fiona, pyproj, geopandas\n",
            "Successfully installed click-plugins-1.1.1 cligj-0.5.0 fiona-1.8.13.post1 geopandas-0.7.0 munch-2.5.0 pyproj-2.6.0\n",
            "Requirement already satisfied: imblearn in /usr/local/lib/python3.6/dist-packages (0.0)\n",
            "Requirement already satisfied: imbalanced-learn in /usr/local/lib/python3.6/dist-packages (from imblearn) (0.4.3)\n",
            "Requirement already satisfied: scikit-learn>=0.20 in /usr/local/lib/python3.6/dist-packages (from imbalanced-learn->imblearn) (0.22.2.post1)\n",
            "Requirement already satisfied: scipy>=0.13.3 in /usr/local/lib/python3.6/dist-packages (from imbalanced-learn->imblearn) (1.4.1)\n",
            "Requirement already satisfied: numpy>=1.8.2 in /usr/local/lib/python3.6/dist-packages (from imbalanced-learn->imblearn) (1.18.2)\n",
            "Requirement already satisfied: joblib>=0.11 in /usr/local/lib/python3.6/dist-packages (from scikit-learn>=0.20->imbalanced-learn->imblearn) (0.14.1)\n"
          ],
          "name": "stdout"
        },
        {
          "output_type": "stream",
          "text": [
            "/usr/local/lib/python3.6/dist-packages/sklearn/externals/six.py:31: FutureWarning: The module is deprecated in version 0.21 and will be removed in version 0.23 since we've dropped support for Python 2.7. Please rely on the official version of six (https://pypi.org/project/six/).\n",
            "  \"(https://pypi.org/project/six/).\", FutureWarning)\n",
            "/usr/local/lib/python3.6/dist-packages/sklearn/utils/deprecation.py:144: FutureWarning: The sklearn.neighbors.base module is  deprecated in version 0.22 and will be removed in version 0.24. The corresponding classes / functions should instead be imported from sklearn.neighbors. Anything that cannot be imported from sklearn.neighbors is now part of the private API.\n",
            "  warnings.warn(message, FutureWarning)\n"
          ],
          "name": "stderr"
        }
      ]
    },
    {
      "cell_type": "code",
      "metadata": {
        "id": "BwA_EtWQtnBC",
        "colab_type": "code",
        "colab": {}
      },
      "source": [
        "import io\n",
        "df_case = pd.read_csv('Case.csv')\n",
        "df_patientroute = pd.read_csv('PatientRoute.csv')\n",
        "df_region = pd.read_csv('Region.csv')\n",
        "df_patientinfo = pd.read_csv('PatientInfo.csv')\n",
        "df_searchtrend=pd.read_csv('SearchTrend.csv')\n",
        "df_timeage=pd.read_csv('TimeAge.csv')\n",
        "df_time=pd.read_csv('Time.csv')\n",
        "df_timegender=pd.read_csv('TimeGender.csv')\n",
        "df_timeprovince=pd.read_csv('TimeProvince.csv')\n",
        "df_weather=pd.read_csv('Weather.csv')"
      ],
      "execution_count": 0,
      "outputs": []
    },
    {
      "cell_type": "code",
      "metadata": {
        "id": "2jq8FEwz4EbE",
        "colab_type": "code",
        "outputId": "6cbd4c84-f5af-4d12-87c6-8d4d67426bf6",
        "colab": {
          "base_uri": "https://localhost:8080/",
          "height": 204
        }
      },
      "source": [
        "df_case.head()"
      ],
      "execution_count": 12,
      "outputs": [
        {
          "output_type": "execute_result",
          "data": {
            "text/html": [
              "<div>\n",
              "<style scoped>\n",
              "    .dataframe tbody tr th:only-of-type {\n",
              "        vertical-align: middle;\n",
              "    }\n",
              "\n",
              "    .dataframe tbody tr th {\n",
              "        vertical-align: top;\n",
              "    }\n",
              "\n",
              "    .dataframe thead th {\n",
              "        text-align: right;\n",
              "    }\n",
              "</style>\n",
              "<table border=\"1\" class=\"dataframe\">\n",
              "  <thead>\n",
              "    <tr style=\"text-align: right;\">\n",
              "      <th></th>\n",
              "      <th>case_id</th>\n",
              "      <th>province</th>\n",
              "      <th>city</th>\n",
              "      <th>group</th>\n",
              "      <th>infection_case</th>\n",
              "      <th>confirmed</th>\n",
              "      <th>latitude</th>\n",
              "      <th>longitude</th>\n",
              "    </tr>\n",
              "  </thead>\n",
              "  <tbody>\n",
              "    <tr>\n",
              "      <th>0</th>\n",
              "      <td>1000001</td>\n",
              "      <td>Seoul</td>\n",
              "      <td>Guro-gu</td>\n",
              "      <td>True</td>\n",
              "      <td>Guro-gu Call Center</td>\n",
              "      <td>79</td>\n",
              "      <td>37.508163</td>\n",
              "      <td>126.884387</td>\n",
              "    </tr>\n",
              "    <tr>\n",
              "      <th>1</th>\n",
              "      <td>1000002</td>\n",
              "      <td>Seoul</td>\n",
              "      <td>Dongdaemun-gu</td>\n",
              "      <td>True</td>\n",
              "      <td>Dongan Church</td>\n",
              "      <td>24</td>\n",
              "      <td>37.592888</td>\n",
              "      <td>127.056766</td>\n",
              "    </tr>\n",
              "    <tr>\n",
              "      <th>2</th>\n",
              "      <td>1000003</td>\n",
              "      <td>Seoul</td>\n",
              "      <td>Eunpyeong-gu</td>\n",
              "      <td>True</td>\n",
              "      <td>Eunpyeong St. Mary's Hospital</td>\n",
              "      <td>14</td>\n",
              "      <td>37.63369</td>\n",
              "      <td>126.9165</td>\n",
              "    </tr>\n",
              "    <tr>\n",
              "      <th>3</th>\n",
              "      <td>1000004</td>\n",
              "      <td>Seoul</td>\n",
              "      <td>Seongdong-gu</td>\n",
              "      <td>True</td>\n",
              "      <td>Seongdong-gu APT</td>\n",
              "      <td>13</td>\n",
              "      <td>37.55713</td>\n",
              "      <td>127.0403</td>\n",
              "    </tr>\n",
              "    <tr>\n",
              "      <th>4</th>\n",
              "      <td>1000005</td>\n",
              "      <td>Seoul</td>\n",
              "      <td>Jongno-gu</td>\n",
              "      <td>True</td>\n",
              "      <td>Jongno Community Center</td>\n",
              "      <td>10</td>\n",
              "      <td>37.57681</td>\n",
              "      <td>127.006</td>\n",
              "    </tr>\n",
              "  </tbody>\n",
              "</table>\n",
              "</div>"
            ],
            "text/plain": [
              "   case_id province           city  ...  confirmed   latitude   longitude\n",
              "0  1000001    Seoul        Guro-gu  ...         79  37.508163  126.884387\n",
              "1  1000002    Seoul  Dongdaemun-gu  ...         24  37.592888  127.056766\n",
              "2  1000003    Seoul   Eunpyeong-gu  ...         14   37.63369    126.9165\n",
              "3  1000004    Seoul   Seongdong-gu  ...         13   37.55713    127.0403\n",
              "4  1000005    Seoul      Jongno-gu  ...         10   37.57681     127.006\n",
              "\n",
              "[5 rows x 8 columns]"
            ]
          },
          "metadata": {
            "tags": []
          },
          "execution_count": 12
        }
      ]
    },
    {
      "cell_type": "markdown",
      "metadata": {
        "id": "bUZRJXmMiVdj",
        "colab_type": "text"
      },
      "source": [
        "It looks like the null values are described as \"-\" these values need to be handled."
      ]
    },
    {
      "cell_type": "code",
      "metadata": {
        "id": "ftI1fl30l-jI",
        "colab_type": "code",
        "outputId": "60b35b98-26d2-43d3-c2d3-65263ba89d91",
        "colab": {
          "base_uri": "https://localhost:8080/",
          "height": 1000
        }
      },
      "source": [
        "badpoints=df_case.loc[df_case['latitude']== '-']\n",
        "badpoints"
      ],
      "execution_count": 13,
      "outputs": [
        {
          "output_type": "execute_result",
          "data": {
            "text/html": [
              "<div>\n",
              "<style scoped>\n",
              "    .dataframe tbody tr th:only-of-type {\n",
              "        vertical-align: middle;\n",
              "    }\n",
              "\n",
              "    .dataframe tbody tr th {\n",
              "        vertical-align: top;\n",
              "    }\n",
              "\n",
              "    .dataframe thead th {\n",
              "        text-align: right;\n",
              "    }\n",
              "</style>\n",
              "<table border=\"1\" class=\"dataframe\">\n",
              "  <thead>\n",
              "    <tr style=\"text-align: right;\">\n",
              "      <th></th>\n",
              "      <th>case_id</th>\n",
              "      <th>province</th>\n",
              "      <th>city</th>\n",
              "      <th>group</th>\n",
              "      <th>infection_case</th>\n",
              "      <th>confirmed</th>\n",
              "      <th>latitude</th>\n",
              "      <th>longitude</th>\n",
              "    </tr>\n",
              "  </thead>\n",
              "  <tbody>\n",
              "    <tr>\n",
              "      <th>6</th>\n",
              "      <td>1000007</td>\n",
              "      <td>Seoul</td>\n",
              "      <td>from other city</td>\n",
              "      <td>True</td>\n",
              "      <td>Shincheonji Church</td>\n",
              "      <td>6</td>\n",
              "      <td>-</td>\n",
              "      <td>-</td>\n",
              "    </tr>\n",
              "    <tr>\n",
              "      <th>7</th>\n",
              "      <td>1000008</td>\n",
              "      <td>Seoul</td>\n",
              "      <td>-</td>\n",
              "      <td>False</td>\n",
              "      <td>etc</td>\n",
              "      <td>65</td>\n",
              "      <td>-</td>\n",
              "      <td>-</td>\n",
              "    </tr>\n",
              "    <tr>\n",
              "      <th>9</th>\n",
              "      <td>1100002</td>\n",
              "      <td>Busan</td>\n",
              "      <td>from other city</td>\n",
              "      <td>True</td>\n",
              "      <td>Shincheonji Church</td>\n",
              "      <td>8</td>\n",
              "      <td>-</td>\n",
              "      <td>-</td>\n",
              "    </tr>\n",
              "    <tr>\n",
              "      <th>13</th>\n",
              "      <td>1100006</td>\n",
              "      <td>Busan</td>\n",
              "      <td>from other city</td>\n",
              "      <td>True</td>\n",
              "      <td>Cheongdo Daenam Hospital</td>\n",
              "      <td>1</td>\n",
              "      <td>-</td>\n",
              "      <td>-</td>\n",
              "    </tr>\n",
              "    <tr>\n",
              "      <th>14</th>\n",
              "      <td>1100007</td>\n",
              "      <td>Busan</td>\n",
              "      <td>-</td>\n",
              "      <td>False</td>\n",
              "      <td>etc</td>\n",
              "      <td>32</td>\n",
              "      <td>-</td>\n",
              "      <td>-</td>\n",
              "    </tr>\n",
              "    <tr>\n",
              "      <th>16</th>\n",
              "      <td>1200002</td>\n",
              "      <td>Daegu</td>\n",
              "      <td>-</td>\n",
              "      <td>False</td>\n",
              "      <td>contact with patient</td>\n",
              "      <td>649</td>\n",
              "      <td>-</td>\n",
              "      <td>-</td>\n",
              "    </tr>\n",
              "    <tr>\n",
              "      <th>17</th>\n",
              "      <td>1200003</td>\n",
              "      <td>Daegu</td>\n",
              "      <td>from other city</td>\n",
              "      <td>True</td>\n",
              "      <td>Cheongdo Daenam Hospital</td>\n",
              "      <td>2</td>\n",
              "      <td>-</td>\n",
              "      <td>-</td>\n",
              "    </tr>\n",
              "    <tr>\n",
              "      <th>18</th>\n",
              "      <td>1200004</td>\n",
              "      <td>Daegu</td>\n",
              "      <td>-</td>\n",
              "      <td>False</td>\n",
              "      <td>etc</td>\n",
              "      <td>1056</td>\n",
              "      <td>-</td>\n",
              "      <td>-</td>\n",
              "    </tr>\n",
              "    <tr>\n",
              "      <th>19</th>\n",
              "      <td>1300001</td>\n",
              "      <td>Gwangju</td>\n",
              "      <td>from other city</td>\n",
              "      <td>True</td>\n",
              "      <td>Shincheonji Church</td>\n",
              "      <td>9</td>\n",
              "      <td>-</td>\n",
              "      <td>-</td>\n",
              "    </tr>\n",
              "    <tr>\n",
              "      <th>20</th>\n",
              "      <td>1300002</td>\n",
              "      <td>Gwangju</td>\n",
              "      <td>-</td>\n",
              "      <td>False</td>\n",
              "      <td>contact with patient</td>\n",
              "      <td>4</td>\n",
              "      <td>-</td>\n",
              "      <td>-</td>\n",
              "    </tr>\n",
              "    <tr>\n",
              "      <th>21</th>\n",
              "      <td>1300003</td>\n",
              "      <td>Gwangju</td>\n",
              "      <td>-</td>\n",
              "      <td>False</td>\n",
              "      <td>overseas inflow</td>\n",
              "      <td>1</td>\n",
              "      <td>-</td>\n",
              "      <td>-</td>\n",
              "    </tr>\n",
              "    <tr>\n",
              "      <th>22</th>\n",
              "      <td>1300004</td>\n",
              "      <td>Gwangju</td>\n",
              "      <td>-</td>\n",
              "      <td>False</td>\n",
              "      <td>etc</td>\n",
              "      <td>2</td>\n",
              "      <td>-</td>\n",
              "      <td>-</td>\n",
              "    </tr>\n",
              "    <tr>\n",
              "      <th>23</th>\n",
              "      <td>1400001</td>\n",
              "      <td>Incheon</td>\n",
              "      <td>from other city</td>\n",
              "      <td>True</td>\n",
              "      <td>Guro-gu Call Center</td>\n",
              "      <td>18</td>\n",
              "      <td>-</td>\n",
              "      <td>-</td>\n",
              "    </tr>\n",
              "    <tr>\n",
              "      <th>24</th>\n",
              "      <td>1400002</td>\n",
              "      <td>Incheon</td>\n",
              "      <td>-</td>\n",
              "      <td>False</td>\n",
              "      <td>contact with patient</td>\n",
              "      <td>5</td>\n",
              "      <td>-</td>\n",
              "      <td>-</td>\n",
              "    </tr>\n",
              "    <tr>\n",
              "      <th>25</th>\n",
              "      <td>1400003</td>\n",
              "      <td>Incheon</td>\n",
              "      <td>from other city</td>\n",
              "      <td>True</td>\n",
              "      <td>Shincheonji Church</td>\n",
              "      <td>2</td>\n",
              "      <td>-</td>\n",
              "      <td>-</td>\n",
              "    </tr>\n",
              "    <tr>\n",
              "      <th>26</th>\n",
              "      <td>1400004</td>\n",
              "      <td>Incheon</td>\n",
              "      <td>-</td>\n",
              "      <td>False</td>\n",
              "      <td>overseas inflow</td>\n",
              "      <td>1</td>\n",
              "      <td>-</td>\n",
              "      <td>-</td>\n",
              "    </tr>\n",
              "    <tr>\n",
              "      <th>27</th>\n",
              "      <td>1400005</td>\n",
              "      <td>Incheon</td>\n",
              "      <td>-</td>\n",
              "      <td>False</td>\n",
              "      <td>etc</td>\n",
              "      <td>4</td>\n",
              "      <td>-</td>\n",
              "      <td>-</td>\n",
              "    </tr>\n",
              "    <tr>\n",
              "      <th>28</th>\n",
              "      <td>1500001</td>\n",
              "      <td>Daejeon</td>\n",
              "      <td>-</td>\n",
              "      <td>False</td>\n",
              "      <td>contact with patient</td>\n",
              "      <td>8</td>\n",
              "      <td>-</td>\n",
              "      <td>-</td>\n",
              "    </tr>\n",
              "    <tr>\n",
              "      <th>29</th>\n",
              "      <td>1500002</td>\n",
              "      <td>Daejeon</td>\n",
              "      <td>from other city</td>\n",
              "      <td>True</td>\n",
              "      <td>Shincheonji Church</td>\n",
              "      <td>2</td>\n",
              "      <td>-</td>\n",
              "      <td>-</td>\n",
              "    </tr>\n",
              "    <tr>\n",
              "      <th>30</th>\n",
              "      <td>1500003</td>\n",
              "      <td>Daejeon</td>\n",
              "      <td>from other city</td>\n",
              "      <td>True</td>\n",
              "      <td>Seosan-si Laboratory</td>\n",
              "      <td>2</td>\n",
              "      <td>-</td>\n",
              "      <td>-</td>\n",
              "    </tr>\n",
              "    <tr>\n",
              "      <th>31</th>\n",
              "      <td>1500003</td>\n",
              "      <td>Daejeon</td>\n",
              "      <td>-</td>\n",
              "      <td>False</td>\n",
              "      <td>etc</td>\n",
              "      <td>10</td>\n",
              "      <td>-</td>\n",
              "      <td>-</td>\n",
              "    </tr>\n",
              "    <tr>\n",
              "      <th>32</th>\n",
              "      <td>1600001</td>\n",
              "      <td>Ulsan</td>\n",
              "      <td>from other city</td>\n",
              "      <td>True</td>\n",
              "      <td>Shincheonji Church</td>\n",
              "      <td>16</td>\n",
              "      <td>-</td>\n",
              "      <td>-</td>\n",
              "    </tr>\n",
              "    <tr>\n",
              "      <th>33</th>\n",
              "      <td>1600002</td>\n",
              "      <td>Ulsan</td>\n",
              "      <td>-</td>\n",
              "      <td>False</td>\n",
              "      <td>contact with patient</td>\n",
              "      <td>6</td>\n",
              "      <td>-</td>\n",
              "      <td>-</td>\n",
              "    </tr>\n",
              "    <tr>\n",
              "      <th>34</th>\n",
              "      <td>1600003</td>\n",
              "      <td>Ulsan</td>\n",
              "      <td>-</td>\n",
              "      <td>False</td>\n",
              "      <td>etc</td>\n",
              "      <td>6</td>\n",
              "      <td>-</td>\n",
              "      <td>-</td>\n",
              "    </tr>\n",
              "    <tr>\n",
              "      <th>37</th>\n",
              "      <td>1700003</td>\n",
              "      <td>Sejong</td>\n",
              "      <td>from other city</td>\n",
              "      <td>True</td>\n",
              "      <td>Shincheonji Church</td>\n",
              "      <td>1</td>\n",
              "      <td>-</td>\n",
              "      <td>-</td>\n",
              "    </tr>\n",
              "    <tr>\n",
              "      <th>38</th>\n",
              "      <td>1700004</td>\n",
              "      <td>Sejong</td>\n",
              "      <td>-</td>\n",
              "      <td>False</td>\n",
              "      <td>etc</td>\n",
              "      <td>3</td>\n",
              "      <td>-</td>\n",
              "      <td>-</td>\n",
              "    </tr>\n",
              "    <tr>\n",
              "      <th>39</th>\n",
              "      <td>2000001</td>\n",
              "      <td>Gyeonggi-do</td>\n",
              "      <td>from other city</td>\n",
              "      <td>True</td>\n",
              "      <td>Guro-gu Call Center</td>\n",
              "      <td>32</td>\n",
              "      <td>-</td>\n",
              "      <td>-</td>\n",
              "    </tr>\n",
              "    <tr>\n",
              "      <th>40</th>\n",
              "      <td>2000002</td>\n",
              "      <td>Gyeonggi-do</td>\n",
              "      <td>from other city</td>\n",
              "      <td>True</td>\n",
              "      <td>Shincheonji Church</td>\n",
              "      <td>28</td>\n",
              "      <td>-</td>\n",
              "      <td>-</td>\n",
              "    </tr>\n",
              "    <tr>\n",
              "      <th>44</th>\n",
              "      <td>2000006</td>\n",
              "      <td>Gyeonggi-do</td>\n",
              "      <td>-</td>\n",
              "      <td>False</td>\n",
              "      <td>overseas inflow</td>\n",
              "      <td>6</td>\n",
              "      <td>-</td>\n",
              "      <td>-</td>\n",
              "    </tr>\n",
              "    <tr>\n",
              "      <th>45</th>\n",
              "      <td>2000007</td>\n",
              "      <td>Gyeonggi-do</td>\n",
              "      <td>-</td>\n",
              "      <td>False</td>\n",
              "      <td>etc</td>\n",
              "      <td>47</td>\n",
              "      <td>-</td>\n",
              "      <td>-</td>\n",
              "    </tr>\n",
              "    <tr>\n",
              "      <th>46</th>\n",
              "      <td>3000001</td>\n",
              "      <td>Gangwon-do</td>\n",
              "      <td>from other city</td>\n",
              "      <td>True</td>\n",
              "      <td>Shincheonji Church</td>\n",
              "      <td>20</td>\n",
              "      <td>-</td>\n",
              "      <td>-</td>\n",
              "    </tr>\n",
              "    <tr>\n",
              "      <th>47</th>\n",
              "      <td>3000002</td>\n",
              "      <td>Gangwon-do</td>\n",
              "      <td>from other city</td>\n",
              "      <td>True</td>\n",
              "      <td>gym facility in Cheonan</td>\n",
              "      <td>1</td>\n",
              "      <td>-</td>\n",
              "      <td>-</td>\n",
              "    </tr>\n",
              "    <tr>\n",
              "      <th>48</th>\n",
              "      <td>3000003</td>\n",
              "      <td>Gangwon-do</td>\n",
              "      <td>-</td>\n",
              "      <td>False</td>\n",
              "      <td>etc</td>\n",
              "      <td>8</td>\n",
              "      <td>-</td>\n",
              "      <td>-</td>\n",
              "    </tr>\n",
              "    <tr>\n",
              "      <th>49</th>\n",
              "      <td>4000001</td>\n",
              "      <td>Chungcheongbuk-do</td>\n",
              "      <td>from other city</td>\n",
              "      <td>True</td>\n",
              "      <td>Shincheonji Church</td>\n",
              "      <td>10</td>\n",
              "      <td>-</td>\n",
              "      <td>-</td>\n",
              "    </tr>\n",
              "    <tr>\n",
              "      <th>51</th>\n",
              "      <td>4000003</td>\n",
              "      <td>Chungcheongbuk-do</td>\n",
              "      <td>-</td>\n",
              "      <td>False</td>\n",
              "      <td>contact with patient</td>\n",
              "      <td>6</td>\n",
              "      <td>-</td>\n",
              "      <td>-</td>\n",
              "    </tr>\n",
              "    <tr>\n",
              "      <th>52</th>\n",
              "      <td>4000004</td>\n",
              "      <td>Chungcheongbuk-do</td>\n",
              "      <td>-</td>\n",
              "      <td>False</td>\n",
              "      <td>etc</td>\n",
              "      <td>4</td>\n",
              "      <td>-</td>\n",
              "      <td>-</td>\n",
              "    </tr>\n",
              "    <tr>\n",
              "      <th>55</th>\n",
              "      <td>4100003</td>\n",
              "      <td>Chungcheongnam-do</td>\n",
              "      <td>-</td>\n",
              "      <td>False</td>\n",
              "      <td>etc</td>\n",
              "      <td>3</td>\n",
              "      <td>-</td>\n",
              "      <td>-</td>\n",
              "    </tr>\n",
              "    <tr>\n",
              "      <th>56</th>\n",
              "      <td>5000001</td>\n",
              "      <td>Jeollabuk-do</td>\n",
              "      <td>-</td>\n",
              "      <td>False</td>\n",
              "      <td>contact with patient</td>\n",
              "      <td>2</td>\n",
              "      <td>-</td>\n",
              "      <td>-</td>\n",
              "    </tr>\n",
              "    <tr>\n",
              "      <th>57</th>\n",
              "      <td>5000002</td>\n",
              "      <td>Jeollabuk-do</td>\n",
              "      <td>from other city</td>\n",
              "      <td>True</td>\n",
              "      <td>Shincheonji Church</td>\n",
              "      <td>1</td>\n",
              "      <td>-</td>\n",
              "      <td>-</td>\n",
              "    </tr>\n",
              "    <tr>\n",
              "      <th>58</th>\n",
              "      <td>5000003</td>\n",
              "      <td>Jeollabuk-do</td>\n",
              "      <td>-</td>\n",
              "      <td>False</td>\n",
              "      <td>overseas inflow</td>\n",
              "      <td>1</td>\n",
              "      <td>-</td>\n",
              "      <td>-</td>\n",
              "    </tr>\n",
              "    <tr>\n",
              "      <th>59</th>\n",
              "      <td>5000004</td>\n",
              "      <td>Jeollabuk-do</td>\n",
              "      <td>-</td>\n",
              "      <td>False</td>\n",
              "      <td>etc</td>\n",
              "      <td>3</td>\n",
              "      <td>-</td>\n",
              "      <td>-</td>\n",
              "    </tr>\n",
              "    <tr>\n",
              "      <th>60</th>\n",
              "      <td>5100001</td>\n",
              "      <td>Jeollanam-do</td>\n",
              "      <td>from other city</td>\n",
              "      <td>True</td>\n",
              "      <td>Shincheonji Church</td>\n",
              "      <td>1</td>\n",
              "      <td>-</td>\n",
              "      <td>-</td>\n",
              "    </tr>\n",
              "    <tr>\n",
              "      <th>61</th>\n",
              "      <td>5100002</td>\n",
              "      <td>Jeollanam-do</td>\n",
              "      <td>-</td>\n",
              "      <td>False</td>\n",
              "      <td>overseas inflow</td>\n",
              "      <td>1</td>\n",
              "      <td>-</td>\n",
              "      <td>-</td>\n",
              "    </tr>\n",
              "    <tr>\n",
              "      <th>62</th>\n",
              "      <td>5100003</td>\n",
              "      <td>Jeollanam-do</td>\n",
              "      <td>-</td>\n",
              "      <td>False</td>\n",
              "      <td>contact with patient</td>\n",
              "      <td>1</td>\n",
              "      <td>-</td>\n",
              "      <td>-</td>\n",
              "    </tr>\n",
              "    <tr>\n",
              "      <th>63</th>\n",
              "      <td>5100004</td>\n",
              "      <td>Jeollanam-do</td>\n",
              "      <td>-</td>\n",
              "      <td>False</td>\n",
              "      <td>etc</td>\n",
              "      <td>1</td>\n",
              "      <td>-</td>\n",
              "      <td>-</td>\n",
              "    </tr>\n",
              "    <tr>\n",
              "      <th>64</th>\n",
              "      <td>6000001</td>\n",
              "      <td>Gyeongsangbuk-do</td>\n",
              "      <td>from other city</td>\n",
              "      <td>True</td>\n",
              "      <td>Shincheonji Church</td>\n",
              "      <td>517</td>\n",
              "      <td>-</td>\n",
              "      <td>-</td>\n",
              "    </tr>\n",
              "    <tr>\n",
              "      <th>67</th>\n",
              "      <td>6000004</td>\n",
              "      <td>Gyeongsangbuk-do</td>\n",
              "      <td>from other city</td>\n",
              "      <td>True</td>\n",
              "      <td>Pilgrimage to Israel</td>\n",
              "      <td>49</td>\n",
              "      <td>-</td>\n",
              "      <td>-</td>\n",
              "    </tr>\n",
              "    <tr>\n",
              "      <th>72</th>\n",
              "      <td>6000009</td>\n",
              "      <td>Gyeongsangbuk-do</td>\n",
              "      <td>-</td>\n",
              "      <td>False</td>\n",
              "      <td>etc</td>\n",
              "      <td>322</td>\n",
              "      <td>-</td>\n",
              "      <td>-</td>\n",
              "    </tr>\n",
              "    <tr>\n",
              "      <th>73</th>\n",
              "      <td>6100001</td>\n",
              "      <td>Gyeongsangnam-do</td>\n",
              "      <td>from other city</td>\n",
              "      <td>True</td>\n",
              "      <td>Shincheonji Church</td>\n",
              "      <td>32</td>\n",
              "      <td>-</td>\n",
              "      <td>-</td>\n",
              "    </tr>\n",
              "    <tr>\n",
              "      <th>78</th>\n",
              "      <td>6100006</td>\n",
              "      <td>Gyeongsangnam-do</td>\n",
              "      <td>from other city</td>\n",
              "      <td>True</td>\n",
              "      <td>Onchun Church</td>\n",
              "      <td>2</td>\n",
              "      <td>-</td>\n",
              "      <td>-</td>\n",
              "    </tr>\n",
              "    <tr>\n",
              "      <th>79</th>\n",
              "      <td>6100007</td>\n",
              "      <td>Gyeongsangnam-do</td>\n",
              "      <td>-</td>\n",
              "      <td>False</td>\n",
              "      <td>etc</td>\n",
              "      <td>19</td>\n",
              "      <td>-</td>\n",
              "      <td>-</td>\n",
              "    </tr>\n",
              "    <tr>\n",
              "      <th>80</th>\n",
              "      <td>7000001</td>\n",
              "      <td>Jeju-do</td>\n",
              "      <td>-</td>\n",
              "      <td>False</td>\n",
              "      <td>etc</td>\n",
              "      <td>4</td>\n",
              "      <td>-</td>\n",
              "      <td>-</td>\n",
              "    </tr>\n",
              "  </tbody>\n",
              "</table>\n",
              "</div>"
            ],
            "text/plain": [
              "    case_id           province             city  ...  confirmed latitude  longitude\n",
              "6   1000007              Seoul  from other city  ...          6        -          -\n",
              "7   1000008              Seoul                -  ...         65        -          -\n",
              "9   1100002              Busan  from other city  ...          8        -          -\n",
              "13  1100006              Busan  from other city  ...          1        -          -\n",
              "14  1100007              Busan                -  ...         32        -          -\n",
              "16  1200002              Daegu                -  ...        649        -          -\n",
              "17  1200003              Daegu  from other city  ...          2        -          -\n",
              "18  1200004              Daegu                -  ...       1056        -          -\n",
              "19  1300001            Gwangju  from other city  ...          9        -          -\n",
              "20  1300002            Gwangju                -  ...          4        -          -\n",
              "21  1300003            Gwangju                -  ...          1        -          -\n",
              "22  1300004            Gwangju                -  ...          2        -          -\n",
              "23  1400001            Incheon  from other city  ...         18        -          -\n",
              "24  1400002            Incheon                -  ...          5        -          -\n",
              "25  1400003            Incheon  from other city  ...          2        -          -\n",
              "26  1400004            Incheon                -  ...          1        -          -\n",
              "27  1400005            Incheon                -  ...          4        -          -\n",
              "28  1500001            Daejeon                -  ...          8        -          -\n",
              "29  1500002            Daejeon  from other city  ...          2        -          -\n",
              "30  1500003            Daejeon  from other city  ...          2        -          -\n",
              "31  1500003            Daejeon                -  ...         10        -          -\n",
              "32  1600001              Ulsan  from other city  ...         16        -          -\n",
              "33  1600002              Ulsan                -  ...          6        -          -\n",
              "34  1600003              Ulsan                -  ...          6        -          -\n",
              "37  1700003             Sejong  from other city  ...          1        -          -\n",
              "38  1700004             Sejong                -  ...          3        -          -\n",
              "39  2000001        Gyeonggi-do  from other city  ...         32        -          -\n",
              "40  2000002        Gyeonggi-do  from other city  ...         28        -          -\n",
              "44  2000006        Gyeonggi-do                -  ...          6        -          -\n",
              "45  2000007        Gyeonggi-do                -  ...         47        -          -\n",
              "46  3000001         Gangwon-do  from other city  ...         20        -          -\n",
              "47  3000002         Gangwon-do  from other city  ...          1        -          -\n",
              "48  3000003         Gangwon-do                -  ...          8        -          -\n",
              "49  4000001  Chungcheongbuk-do  from other city  ...         10        -          -\n",
              "51  4000003  Chungcheongbuk-do                -  ...          6        -          -\n",
              "52  4000004  Chungcheongbuk-do                -  ...          4        -          -\n",
              "55  4100003  Chungcheongnam-do                -  ...          3        -          -\n",
              "56  5000001       Jeollabuk-do                -  ...          2        -          -\n",
              "57  5000002       Jeollabuk-do  from other city  ...          1        -          -\n",
              "58  5000003       Jeollabuk-do                -  ...          1        -          -\n",
              "59  5000004       Jeollabuk-do                -  ...          3        -          -\n",
              "60  5100001       Jeollanam-do  from other city  ...          1        -          -\n",
              "61  5100002       Jeollanam-do                -  ...          1        -          -\n",
              "62  5100003       Jeollanam-do                -  ...          1        -          -\n",
              "63  5100004       Jeollanam-do                -  ...          1        -          -\n",
              "64  6000001   Gyeongsangbuk-do  from other city  ...        517        -          -\n",
              "67  6000004   Gyeongsangbuk-do  from other city  ...         49        -          -\n",
              "72  6000009   Gyeongsangbuk-do                -  ...        322        -          -\n",
              "73  6100001   Gyeongsangnam-do  from other city  ...         32        -          -\n",
              "78  6100006   Gyeongsangnam-do  from other city  ...          2        -          -\n",
              "79  6100007   Gyeongsangnam-do                -  ...         19        -          -\n",
              "80  7000001            Jeju-do                -  ...          4        -          -\n",
              "\n",
              "[52 rows x 8 columns]"
            ]
          },
          "metadata": {
            "tags": []
          },
          "execution_count": 13
        }
      ]
    },
    {
      "cell_type": "markdown",
      "metadata": {
        "id": "pBOpVUJFpSHO",
        "colab_type": "text"
      },
      "source": [
        "Fascinating, According to https://www.nytimes.com/2020/03/10/world/asia/south-korea-coronavirus-shincheonji.html and https://www.christianitytoday.com/news/2020/february/korea-coronavirus-shincheonji-church-daegu-covid19.html , Shincheonji Church is a haven for the virus. That may make it difficult to handle this data especially since the dataset states they are from other cities so this will have to be dropped. The Pilgrimage to Israel is impossible to tell where in the pilgrimmage the infection originated from. According to https://www.christianitytoday.com/news/2020/february/korea-coronavirus-churches-close-sunday-shincheonji-covid19.html Onchun Church is “investigating the possibility of Shincheonji’s infiltrating into our church” so that could mean that the virus was spread from Shincheonji Church!?!\n",
        "\n",
        "Additionally there are points that are represented as \"etc.\" and \"overseas inflow\" which are impossible to impute.\n",
        "\n",
        "This data table is not great for my needs but dropping the null \"-\" values may allow me to conduct reasonable geospatial analysis.\n"
      ]
    },
    {
      "cell_type": "code",
      "metadata": {
        "id": "KhjbWWcCzWA9",
        "colab_type": "code",
        "outputId": "333be49f-b1c6-43e6-effc-ab3147cef950",
        "colab": {
          "base_uri": "https://localhost:8080/",
          "height": 948
        }
      },
      "source": [
        "df_casef = df_case[df_case.latitude != '-']\n",
        "df_casef"
      ],
      "execution_count": 14,
      "outputs": [
        {
          "output_type": "execute_result",
          "data": {
            "text/html": [
              "<div>\n",
              "<style scoped>\n",
              "    .dataframe tbody tr th:only-of-type {\n",
              "        vertical-align: middle;\n",
              "    }\n",
              "\n",
              "    .dataframe tbody tr th {\n",
              "        vertical-align: top;\n",
              "    }\n",
              "\n",
              "    .dataframe thead th {\n",
              "        text-align: right;\n",
              "    }\n",
              "</style>\n",
              "<table border=\"1\" class=\"dataframe\">\n",
              "  <thead>\n",
              "    <tr style=\"text-align: right;\">\n",
              "      <th></th>\n",
              "      <th>case_id</th>\n",
              "      <th>province</th>\n",
              "      <th>city</th>\n",
              "      <th>group</th>\n",
              "      <th>infection_case</th>\n",
              "      <th>confirmed</th>\n",
              "      <th>latitude</th>\n",
              "      <th>longitude</th>\n",
              "    </tr>\n",
              "  </thead>\n",
              "  <tbody>\n",
              "    <tr>\n",
              "      <th>0</th>\n",
              "      <td>1000001</td>\n",
              "      <td>Seoul</td>\n",
              "      <td>Guro-gu</td>\n",
              "      <td>True</td>\n",
              "      <td>Guro-gu Call Center</td>\n",
              "      <td>79</td>\n",
              "      <td>37.508163</td>\n",
              "      <td>126.884387</td>\n",
              "    </tr>\n",
              "    <tr>\n",
              "      <th>1</th>\n",
              "      <td>1000002</td>\n",
              "      <td>Seoul</td>\n",
              "      <td>Dongdaemun-gu</td>\n",
              "      <td>True</td>\n",
              "      <td>Dongan Church</td>\n",
              "      <td>24</td>\n",
              "      <td>37.592888</td>\n",
              "      <td>127.056766</td>\n",
              "    </tr>\n",
              "    <tr>\n",
              "      <th>2</th>\n",
              "      <td>1000003</td>\n",
              "      <td>Seoul</td>\n",
              "      <td>Eunpyeong-gu</td>\n",
              "      <td>True</td>\n",
              "      <td>Eunpyeong St. Mary's Hospital</td>\n",
              "      <td>14</td>\n",
              "      <td>37.63369</td>\n",
              "      <td>126.9165</td>\n",
              "    </tr>\n",
              "    <tr>\n",
              "      <th>3</th>\n",
              "      <td>1000004</td>\n",
              "      <td>Seoul</td>\n",
              "      <td>Seongdong-gu</td>\n",
              "      <td>True</td>\n",
              "      <td>Seongdong-gu APT</td>\n",
              "      <td>13</td>\n",
              "      <td>37.55713</td>\n",
              "      <td>127.0403</td>\n",
              "    </tr>\n",
              "    <tr>\n",
              "      <th>4</th>\n",
              "      <td>1000005</td>\n",
              "      <td>Seoul</td>\n",
              "      <td>Jongno-gu</td>\n",
              "      <td>True</td>\n",
              "      <td>Jongno Community Center</td>\n",
              "      <td>10</td>\n",
              "      <td>37.57681</td>\n",
              "      <td>127.006</td>\n",
              "    </tr>\n",
              "    <tr>\n",
              "      <th>5</th>\n",
              "      <td>1000006</td>\n",
              "      <td>Seoul</td>\n",
              "      <td>Jung-gu</td>\n",
              "      <td>True</td>\n",
              "      <td>Jung-gu Fashion Company</td>\n",
              "      <td>7</td>\n",
              "      <td>37.562405</td>\n",
              "      <td>126.984377</td>\n",
              "    </tr>\n",
              "    <tr>\n",
              "      <th>8</th>\n",
              "      <td>1100001</td>\n",
              "      <td>Busan</td>\n",
              "      <td>Dongnae-gu</td>\n",
              "      <td>True</td>\n",
              "      <td>Onchun Church</td>\n",
              "      <td>34</td>\n",
              "      <td>35.21628</td>\n",
              "      <td>129.0771</td>\n",
              "    </tr>\n",
              "    <tr>\n",
              "      <th>10</th>\n",
              "      <td>1100003</td>\n",
              "      <td>Busan</td>\n",
              "      <td>Suyeong-gu</td>\n",
              "      <td>True</td>\n",
              "      <td>Suyeong-gu Kindergarten</td>\n",
              "      <td>6</td>\n",
              "      <td>35.16708</td>\n",
              "      <td>129.1124</td>\n",
              "    </tr>\n",
              "    <tr>\n",
              "      <th>11</th>\n",
              "      <td>1100004</td>\n",
              "      <td>Busan</td>\n",
              "      <td>Haeundae-gu</td>\n",
              "      <td>True</td>\n",
              "      <td>Haeundae-gu Catholic Church</td>\n",
              "      <td>6</td>\n",
              "      <td>35.20599</td>\n",
              "      <td>129.1256</td>\n",
              "    </tr>\n",
              "    <tr>\n",
              "      <th>12</th>\n",
              "      <td>1100005</td>\n",
              "      <td>Busan</td>\n",
              "      <td>Jin-gu</td>\n",
              "      <td>True</td>\n",
              "      <td>Jin-gu Academy</td>\n",
              "      <td>4</td>\n",
              "      <td>35.17371</td>\n",
              "      <td>129.0633</td>\n",
              "    </tr>\n",
              "    <tr>\n",
              "      <th>15</th>\n",
              "      <td>1200001</td>\n",
              "      <td>Daegu</td>\n",
              "      <td>Nam-gu</td>\n",
              "      <td>True</td>\n",
              "      <td>Shincheonji Church</td>\n",
              "      <td>4359</td>\n",
              "      <td>35.84008</td>\n",
              "      <td>128.5667</td>\n",
              "    </tr>\n",
              "    <tr>\n",
              "      <th>35</th>\n",
              "      <td>1700001</td>\n",
              "      <td>Sejong</td>\n",
              "      <td>Eojin-dong</td>\n",
              "      <td>True</td>\n",
              "      <td>Ministry of Oceans and Fisheries</td>\n",
              "      <td>28</td>\n",
              "      <td>36.504713</td>\n",
              "      <td>127.265172</td>\n",
              "    </tr>\n",
              "    <tr>\n",
              "      <th>36</th>\n",
              "      <td>1700002</td>\n",
              "      <td>Sejong</td>\n",
              "      <td>Boram-dong</td>\n",
              "      <td>True</td>\n",
              "      <td>gym facility in Sejong</td>\n",
              "      <td>8</td>\n",
              "      <td>36.48025</td>\n",
              "      <td>127.289</td>\n",
              "    </tr>\n",
              "    <tr>\n",
              "      <th>41</th>\n",
              "      <td>2000003</td>\n",
              "      <td>Gyeonggi-do</td>\n",
              "      <td>Seongnam-si</td>\n",
              "      <td>True</td>\n",
              "      <td>Bundang Jesaeng Hospital</td>\n",
              "      <td>22</td>\n",
              "      <td>37.38833</td>\n",
              "      <td>127.1218</td>\n",
              "    </tr>\n",
              "    <tr>\n",
              "      <th>42</th>\n",
              "      <td>2000004</td>\n",
              "      <td>Gyeonggi-do</td>\n",
              "      <td>Seongnam-si</td>\n",
              "      <td>True</td>\n",
              "      <td>River of Grace Community Church</td>\n",
              "      <td>19</td>\n",
              "      <td>37.455687</td>\n",
              "      <td>127.161627</td>\n",
              "    </tr>\n",
              "    <tr>\n",
              "      <th>43</th>\n",
              "      <td>2000005</td>\n",
              "      <td>Gyeonggi-do</td>\n",
              "      <td>Suwon-si</td>\n",
              "      <td>True</td>\n",
              "      <td>Suwon Saeng Myeong Saem Church</td>\n",
              "      <td>10</td>\n",
              "      <td>37.2376</td>\n",
              "      <td>127.0517</td>\n",
              "    </tr>\n",
              "    <tr>\n",
              "      <th>50</th>\n",
              "      <td>4000002</td>\n",
              "      <td>Chungcheongbuk-do</td>\n",
              "      <td>Goesan-gun</td>\n",
              "      <td>True</td>\n",
              "      <td>Goesan-gun Jangyeon-myeon</td>\n",
              "      <td>11</td>\n",
              "      <td>36.82422</td>\n",
              "      <td>127.9552</td>\n",
              "    </tr>\n",
              "    <tr>\n",
              "      <th>53</th>\n",
              "      <td>4100001</td>\n",
              "      <td>Chungcheongnam-do</td>\n",
              "      <td>Cheonan-si</td>\n",
              "      <td>True</td>\n",
              "      <td>gym facility in Cheonan</td>\n",
              "      <td>104</td>\n",
              "      <td>36.81503</td>\n",
              "      <td>127.1139</td>\n",
              "    </tr>\n",
              "    <tr>\n",
              "      <th>54</th>\n",
              "      <td>4100002</td>\n",
              "      <td>Chungcheongnam-do</td>\n",
              "      <td>Seosan-si</td>\n",
              "      <td>True</td>\n",
              "      <td>Seosan-si Laboratory</td>\n",
              "      <td>8</td>\n",
              "      <td>37.000354</td>\n",
              "      <td>126.354443</td>\n",
              "    </tr>\n",
              "    <tr>\n",
              "      <th>65</th>\n",
              "      <td>6000002</td>\n",
              "      <td>Gyeongsangbuk-do</td>\n",
              "      <td>Cheongdo-gun</td>\n",
              "      <td>True</td>\n",
              "      <td>Cheongdo Daenam Hospital</td>\n",
              "      <td>119</td>\n",
              "      <td>35.64887</td>\n",
              "      <td>128.7368</td>\n",
              "    </tr>\n",
              "    <tr>\n",
              "      <th>66</th>\n",
              "      <td>6000003</td>\n",
              "      <td>Gyeongsangbuk-do</td>\n",
              "      <td>Bonghwa-gun</td>\n",
              "      <td>True</td>\n",
              "      <td>Bonghwa Pureun Nursing Home</td>\n",
              "      <td>58</td>\n",
              "      <td>36.92757</td>\n",
              "      <td>128.9099</td>\n",
              "    </tr>\n",
              "    <tr>\n",
              "      <th>68</th>\n",
              "      <td>6000005</td>\n",
              "      <td>Gyeongsangbuk-do</td>\n",
              "      <td>Chilgok-gun</td>\n",
              "      <td>True</td>\n",
              "      <td>Milal Shelter</td>\n",
              "      <td>25</td>\n",
              "      <td>36.0581</td>\n",
              "      <td>128.4941</td>\n",
              "    </tr>\n",
              "    <tr>\n",
              "      <th>69</th>\n",
              "      <td>6000006</td>\n",
              "      <td>Gyeongsangbuk-do</td>\n",
              "      <td>Gyeongsan-si</td>\n",
              "      <td>True</td>\n",
              "      <td>Gyeongsan Seorin Nursing Home</td>\n",
              "      <td>22</td>\n",
              "      <td>35.782149</td>\n",
              "      <td>128.801498</td>\n",
              "    </tr>\n",
              "    <tr>\n",
              "      <th>70</th>\n",
              "      <td>6000007</td>\n",
              "      <td>Gyeongsangbuk-do</td>\n",
              "      <td>Gyeongsan-si</td>\n",
              "      <td>True</td>\n",
              "      <td>Gyeongsan Jeil Silver Town</td>\n",
              "      <td>17</td>\n",
              "      <td>35.84819</td>\n",
              "      <td>128.7621</td>\n",
              "    </tr>\n",
              "    <tr>\n",
              "      <th>71</th>\n",
              "      <td>6000008</td>\n",
              "      <td>Gyeongsangbuk-do</td>\n",
              "      <td>Gyeongsan-si</td>\n",
              "      <td>True</td>\n",
              "      <td>Gyeongsan Cham Joeun Community Center</td>\n",
              "      <td>16</td>\n",
              "      <td>35.82558</td>\n",
              "      <td>128.7373</td>\n",
              "    </tr>\n",
              "    <tr>\n",
              "      <th>74</th>\n",
              "      <td>6100002</td>\n",
              "      <td>Gyeongsangnam-do</td>\n",
              "      <td>Geochang-gun</td>\n",
              "      <td>True</td>\n",
              "      <td>Geochang Church</td>\n",
              "      <td>10</td>\n",
              "      <td>35.68556</td>\n",
              "      <td>127.9127</td>\n",
              "    </tr>\n",
              "    <tr>\n",
              "      <th>75</th>\n",
              "      <td>6100003</td>\n",
              "      <td>Gyeongsangnam-do</td>\n",
              "      <td>Geochang-gun</td>\n",
              "      <td>True</td>\n",
              "      <td>Geochang-gun Woongyang-myeon</td>\n",
              "      <td>8</td>\n",
              "      <td>35.805681</td>\n",
              "      <td>127.917805</td>\n",
              "    </tr>\n",
              "    <tr>\n",
              "      <th>76</th>\n",
              "      <td>6100004</td>\n",
              "      <td>Gyeongsangnam-do</td>\n",
              "      <td>Changwon-si</td>\n",
              "      <td>True</td>\n",
              "      <td>Hanmaeum Changwon Hospital</td>\n",
              "      <td>7</td>\n",
              "      <td>35.22115</td>\n",
              "      <td>128.6866</td>\n",
              "    </tr>\n",
              "    <tr>\n",
              "      <th>77</th>\n",
              "      <td>6100005</td>\n",
              "      <td>Gyeongsangnam-do</td>\n",
              "      <td>Changnyeong-gun</td>\n",
              "      <td>True</td>\n",
              "      <td>Changnyeong Coin Karaoke</td>\n",
              "      <td>7</td>\n",
              "      <td>35.54127</td>\n",
              "      <td>128.5008</td>\n",
              "    </tr>\n",
              "  </tbody>\n",
              "</table>\n",
              "</div>"
            ],
            "text/plain": [
              "    case_id           province  ...   latitude   longitude\n",
              "0   1000001              Seoul  ...  37.508163  126.884387\n",
              "1   1000002              Seoul  ...  37.592888  127.056766\n",
              "2   1000003              Seoul  ...   37.63369    126.9165\n",
              "3   1000004              Seoul  ...   37.55713    127.0403\n",
              "4   1000005              Seoul  ...   37.57681     127.006\n",
              "5   1000006              Seoul  ...  37.562405  126.984377\n",
              "8   1100001              Busan  ...   35.21628    129.0771\n",
              "10  1100003              Busan  ...   35.16708    129.1124\n",
              "11  1100004              Busan  ...   35.20599    129.1256\n",
              "12  1100005              Busan  ...   35.17371    129.0633\n",
              "15  1200001              Daegu  ...   35.84008    128.5667\n",
              "35  1700001             Sejong  ...  36.504713  127.265172\n",
              "36  1700002             Sejong  ...   36.48025     127.289\n",
              "41  2000003        Gyeonggi-do  ...   37.38833    127.1218\n",
              "42  2000004        Gyeonggi-do  ...  37.455687  127.161627\n",
              "43  2000005        Gyeonggi-do  ...    37.2376    127.0517\n",
              "50  4000002  Chungcheongbuk-do  ...   36.82422    127.9552\n",
              "53  4100001  Chungcheongnam-do  ...   36.81503    127.1139\n",
              "54  4100002  Chungcheongnam-do  ...  37.000354  126.354443\n",
              "65  6000002   Gyeongsangbuk-do  ...   35.64887    128.7368\n",
              "66  6000003   Gyeongsangbuk-do  ...   36.92757    128.9099\n",
              "68  6000005   Gyeongsangbuk-do  ...    36.0581    128.4941\n",
              "69  6000006   Gyeongsangbuk-do  ...  35.782149  128.801498\n",
              "70  6000007   Gyeongsangbuk-do  ...   35.84819    128.7621\n",
              "71  6000008   Gyeongsangbuk-do  ...   35.82558    128.7373\n",
              "74  6100002   Gyeongsangnam-do  ...   35.68556    127.9127\n",
              "75  6100003   Gyeongsangnam-do  ...  35.805681  127.917805\n",
              "76  6100004   Gyeongsangnam-do  ...   35.22115    128.6866\n",
              "77  6100005   Gyeongsangnam-do  ...   35.54127    128.5008\n",
              "\n",
              "[29 rows x 8 columns]"
            ]
          },
          "metadata": {
            "tags": []
          },
          "execution_count": 14
        }
      ]
    },
    {
      "cell_type": "markdown",
      "metadata": {
        "id": "Gwzt1j80D20h",
        "colab_type": "text"
      },
      "source": [
        "now that we have the non null values we can conduct further analysis"
      ]
    },
    {
      "cell_type": "code",
      "metadata": {
        "id": "5MrDwtp-CcJC",
        "colab_type": "code",
        "outputId": "f4cea8cd-6ca6-4037-b4bc-17043e8e2f5b",
        "colab": {
          "base_uri": "https://localhost:8080/",
          "height": 119
        }
      },
      "source": [
        "df_casef.city.unique()"
      ],
      "execution_count": 15,
      "outputs": [
        {
          "output_type": "execute_result",
          "data": {
            "text/plain": [
              "array(['Guro-gu', 'Dongdaemun-gu', 'Eunpyeong-gu', 'Seongdong-gu',\n",
              "       'Jongno-gu', 'Jung-gu', 'Dongnae-gu', 'Suyeong-gu', 'Haeundae-gu',\n",
              "       'Jin-gu', 'Nam-gu', 'Eojin-dong', 'Boram-dong', 'Seongnam-si',\n",
              "       'Suwon-si', 'Goesan-gun', 'Cheonan-si', 'Seosan-si',\n",
              "       'Cheongdo-gun', 'Bonghwa-gun', 'Chilgok-gun', 'Gyeongsan-si',\n",
              "       'Geochang-gun', 'Changwon-si', 'Changnyeong-gun'], dtype=object)"
            ]
          },
          "metadata": {
            "tags": []
          },
          "execution_count": 15
        }
      ]
    },
    {
      "cell_type": "markdown",
      "metadata": {
        "id": "CEKWHV5SHdmW",
        "colab_type": "text"
      },
      "source": [
        "In order to easily map the data I created a geodataframe.\n",
        "\n",
        "It turns out WGS84 stands for World Geodetic System 1984 and the crs for this is actually EPSG:3395."
      ]
    },
    {
      "cell_type": "code",
      "metadata": {
        "id": "QnVv7JET5W7p",
        "colab_type": "code",
        "outputId": "2f829664-10a7-4d91-d7df-a7f2518ff4bc",
        "colab": {
          "base_uri": "https://localhost:8080/",
          "height": 258
        }
      },
      "source": [
        "def create_gdf(df_casef, lng, lat):\n",
        "    \"Convert pandas dataframe into a Geopandas GeoDataFrame\"\n",
        "    crs = {'init': 'EPSG:3395'}\n",
        "    xlng= pd.to_numeric(df_casef['longitude'], errors='coerce')\n",
        "    ylat= pd.to_numeric(df_casef['latitude'], errors='coerce')\n",
        "    geometry = [Point(xy) for xy in zip(xlng, ylat)]\n",
        "    gdf2 = gpd.GeoDataFrame(df_casef, crs= crs , geometry=geometry)\n",
        "    return gdf2\n",
        "gdf_casef =  create_gdf(df_casef, \"longitude\", \"latitude\")\n",
        "gdf_casef.tail()"
      ],
      "execution_count": 16,
      "outputs": [
        {
          "output_type": "stream",
          "text": [
            "/usr/local/lib/python3.6/dist-packages/pyproj/crs/crs.py:53: FutureWarning: '+init=<authority>:<code>' syntax is deprecated. '<authority>:<code>' is the preferred initialization method. When making the change, be mindful of axis order changes: https://pyproj4.github.io/pyproj/stable/gotchas.html#axis-order-changes-in-proj-6\n",
            "  return _prepare_from_string(\" \".join(pjargs))\n"
          ],
          "name": "stderr"
        },
        {
          "output_type": "execute_result",
          "data": {
            "text/html": [
              "<div>\n",
              "<style scoped>\n",
              "    .dataframe tbody tr th:only-of-type {\n",
              "        vertical-align: middle;\n",
              "    }\n",
              "\n",
              "    .dataframe tbody tr th {\n",
              "        vertical-align: top;\n",
              "    }\n",
              "\n",
              "    .dataframe thead th {\n",
              "        text-align: right;\n",
              "    }\n",
              "</style>\n",
              "<table border=\"1\" class=\"dataframe\">\n",
              "  <thead>\n",
              "    <tr style=\"text-align: right;\">\n",
              "      <th></th>\n",
              "      <th>case_id</th>\n",
              "      <th>province</th>\n",
              "      <th>city</th>\n",
              "      <th>group</th>\n",
              "      <th>infection_case</th>\n",
              "      <th>confirmed</th>\n",
              "      <th>latitude</th>\n",
              "      <th>longitude</th>\n",
              "      <th>geometry</th>\n",
              "    </tr>\n",
              "  </thead>\n",
              "  <tbody>\n",
              "    <tr>\n",
              "      <th>71</th>\n",
              "      <td>6000008</td>\n",
              "      <td>Gyeongsangbuk-do</td>\n",
              "      <td>Gyeongsan-si</td>\n",
              "      <td>True</td>\n",
              "      <td>Gyeongsan Cham Joeun Community Center</td>\n",
              "      <td>16</td>\n",
              "      <td>35.82558</td>\n",
              "      <td>128.7373</td>\n",
              "      <td>POINT (128.73730 35.82558)</td>\n",
              "    </tr>\n",
              "    <tr>\n",
              "      <th>74</th>\n",
              "      <td>6100002</td>\n",
              "      <td>Gyeongsangnam-do</td>\n",
              "      <td>Geochang-gun</td>\n",
              "      <td>True</td>\n",
              "      <td>Geochang Church</td>\n",
              "      <td>10</td>\n",
              "      <td>35.68556</td>\n",
              "      <td>127.9127</td>\n",
              "      <td>POINT (127.91270 35.68556)</td>\n",
              "    </tr>\n",
              "    <tr>\n",
              "      <th>75</th>\n",
              "      <td>6100003</td>\n",
              "      <td>Gyeongsangnam-do</td>\n",
              "      <td>Geochang-gun</td>\n",
              "      <td>True</td>\n",
              "      <td>Geochang-gun Woongyang-myeon</td>\n",
              "      <td>8</td>\n",
              "      <td>35.805681</td>\n",
              "      <td>127.917805</td>\n",
              "      <td>POINT (127.91781 35.80568)</td>\n",
              "    </tr>\n",
              "    <tr>\n",
              "      <th>76</th>\n",
              "      <td>6100004</td>\n",
              "      <td>Gyeongsangnam-do</td>\n",
              "      <td>Changwon-si</td>\n",
              "      <td>True</td>\n",
              "      <td>Hanmaeum Changwon Hospital</td>\n",
              "      <td>7</td>\n",
              "      <td>35.22115</td>\n",
              "      <td>128.6866</td>\n",
              "      <td>POINT (128.68660 35.22115)</td>\n",
              "    </tr>\n",
              "    <tr>\n",
              "      <th>77</th>\n",
              "      <td>6100005</td>\n",
              "      <td>Gyeongsangnam-do</td>\n",
              "      <td>Changnyeong-gun</td>\n",
              "      <td>True</td>\n",
              "      <td>Changnyeong Coin Karaoke</td>\n",
              "      <td>7</td>\n",
              "      <td>35.54127</td>\n",
              "      <td>128.5008</td>\n",
              "      <td>POINT (128.50080 35.54127)</td>\n",
              "    </tr>\n",
              "  </tbody>\n",
              "</table>\n",
              "</div>"
            ],
            "text/plain": [
              "    case_id          province  ...   longitude                    geometry\n",
              "71  6000008  Gyeongsangbuk-do  ...    128.7373  POINT (128.73730 35.82558)\n",
              "74  6100002  Gyeongsangnam-do  ...    127.9127  POINT (127.91270 35.68556)\n",
              "75  6100003  Gyeongsangnam-do  ...  127.917805  POINT (127.91781 35.80568)\n",
              "76  6100004  Gyeongsangnam-do  ...    128.6866  POINT (128.68660 35.22115)\n",
              "77  6100005  Gyeongsangnam-do  ...    128.5008  POINT (128.50080 35.54127)\n",
              "\n",
              "[5 rows x 9 columns]"
            ]
          },
          "metadata": {
            "tags": []
          },
          "execution_count": 16
        }
      ]
    },
    {
      "cell_type": "code",
      "metadata": {
        "id": "9H441FRS5sD2",
        "colab_type": "code",
        "outputId": "f6d90849-bc9a-41ce-8666-0fc0484cfcce",
        "colab": {
          "base_uri": "https://localhost:8080/",
          "height": 282
        }
      },
      "source": [
        "gdf_casef.plot()"
      ],
      "execution_count": 17,
      "outputs": [
        {
          "output_type": "execute_result",
          "data": {
            "text/plain": [
              "<matplotlib.axes._subplots.AxesSubplot at 0x7f3c776888d0>"
            ]
          },
          "metadata": {
            "tags": []
          },
          "execution_count": 17
        },
        {
          "output_type": "display_data",
          "data": {
            "image/png": "[encoded data removed]",
            "text/plain": [
              "<Figure size 432x288 with 1 Axes>"
            ]
          },
          "metadata": {
            "tags": []
          }
        }
      ]
    },
    {
      "cell_type": "markdown",
      "metadata": {
        "id": "QZGO47gT4f2D",
        "colab_type": "text"
      },
      "source": [
        "Let's see if we can find the minimum haversine distance to optimize medical resource placement/ find centroids of the clusters of greatest problems to find the features of those centroids."
      ]
    },
    {
      "cell_type": "code",
      "metadata": {
        "id": "QkydB0rE4clS",
        "colab_type": "code",
        "colab": {}
      },
      "source": [
        ""
      ],
      "execution_count": 0,
      "outputs": []
    },
    {
      "cell_type": "code",
      "metadata": {
        "id": "8ifEPrxY4FHw",
        "colab_type": "code",
        "outputId": "a69efd13-078e-449c-8a1a-1103dfd24458",
        "colab": {
          "base_uri": "https://localhost:8080/",
          "height": 204
        }
      },
      "source": [
        "df_patientroute.tail()"
      ],
      "execution_count": 18,
      "outputs": [
        {
          "output_type": "execute_result",
          "data": {
            "text/html": [
              "<div>\n",
              "<style scoped>\n",
              "    .dataframe tbody tr th:only-of-type {\n",
              "        vertical-align: middle;\n",
              "    }\n",
              "\n",
              "    .dataframe tbody tr th {\n",
              "        vertical-align: top;\n",
              "    }\n",
              "\n",
              "    .dataframe thead th {\n",
              "        text-align: right;\n",
              "    }\n",
              "</style>\n",
              "<table border=\"1\" class=\"dataframe\">\n",
              "  <thead>\n",
              "    <tr style=\"text-align: right;\">\n",
              "      <th></th>\n",
              "      <th>patient_id</th>\n",
              "      <th>global_num</th>\n",
              "      <th>date</th>\n",
              "      <th>province</th>\n",
              "      <th>city</th>\n",
              "      <th>latitude</th>\n",
              "      <th>longitude</th>\n",
              "    </tr>\n",
              "  </thead>\n",
              "  <tbody>\n",
              "    <tr>\n",
              "      <th>170</th>\n",
              "      <td>1200000031</td>\n",
              "      <td>31</td>\n",
              "      <td>2020-02-09</td>\n",
              "      <td>Daegu</td>\n",
              "      <td>Nam-gu</td>\n",
              "      <td>35.83982</td>\n",
              "      <td>128.5666</td>\n",
              "    </tr>\n",
              "    <tr>\n",
              "      <th>171</th>\n",
              "      <td>1200000031</td>\n",
              "      <td>31</td>\n",
              "      <td>2020-02-15</td>\n",
              "      <td>Daegu</td>\n",
              "      <td>Dong-gu</td>\n",
              "      <td>35.88241</td>\n",
              "      <td>128.6621</td>\n",
              "    </tr>\n",
              "    <tr>\n",
              "      <th>172</th>\n",
              "      <td>1200000031</td>\n",
              "      <td>31</td>\n",
              "      <td>2020-02-16</td>\n",
              "      <td>Daegu</td>\n",
              "      <td>Nam-gu</td>\n",
              "      <td>35.83982</td>\n",
              "      <td>128.5666</td>\n",
              "    </tr>\n",
              "    <tr>\n",
              "      <th>173</th>\n",
              "      <td>1200000031</td>\n",
              "      <td>31</td>\n",
              "      <td>2020-02-17</td>\n",
              "      <td>Daegu</td>\n",
              "      <td>Suseong-gu</td>\n",
              "      <td>35.84473</td>\n",
              "      <td>128.6123</td>\n",
              "    </tr>\n",
              "    <tr>\n",
              "      <th>174</th>\n",
              "      <td>1200000031</td>\n",
              "      <td>31</td>\n",
              "      <td>2020-02-18</td>\n",
              "      <td>Daegu</td>\n",
              "      <td>Seo-gu</td>\n",
              "      <td>35.85959</td>\n",
              "      <td>128.5406</td>\n",
              "    </tr>\n",
              "  </tbody>\n",
              "</table>\n",
              "</div>"
            ],
            "text/plain": [
              "     patient_id  global_num        date  ...        city  latitude  longitude\n",
              "170  1200000031          31  2020-02-09  ...      Nam-gu  35.83982   128.5666\n",
              "171  1200000031          31  2020-02-15  ...     Dong-gu  35.88241   128.6621\n",
              "172  1200000031          31  2020-02-16  ...      Nam-gu  35.83982   128.5666\n",
              "173  1200000031          31  2020-02-17  ...  Suseong-gu  35.84473   128.6123\n",
              "174  1200000031          31  2020-02-18  ...      Seo-gu  35.85959   128.5406\n",
              "\n",
              "[5 rows x 7 columns]"
            ]
          },
          "metadata": {
            "tags": []
          },
          "execution_count": 18
        }
      ]
    },
    {
      "cell_type": "code",
      "metadata": {
        "id": "RZLy8sT2w980",
        "colab_type": "code",
        "outputId": "495090b2-3d0d-4ca8-e876-44fd4e09e588",
        "colab": {
          "base_uri": "https://localhost:8080/",
          "height": 83
        }
      },
      "source": [
        "badroutes=df_patientroute.loc[df_patientroute['latitude']== '-']\n",
        "badroutes"
      ],
      "execution_count": 19,
      "outputs": [
        {
          "output_type": "stream",
          "text": [
            "/usr/local/lib/python3.6/dist-packages/pandas/core/ops/__init__.py:1115: FutureWarning: elementwise comparison failed; returning scalar instead, but in the future will perform elementwise comparison\n",
            "  result = method(y)\n"
          ],
          "name": "stderr"
        },
        {
          "output_type": "execute_result",
          "data": {
            "text/html": [
              "<div>\n",
              "<style scoped>\n",
              "    .dataframe tbody tr th:only-of-type {\n",
              "        vertical-align: middle;\n",
              "    }\n",
              "\n",
              "    .dataframe tbody tr th {\n",
              "        vertical-align: top;\n",
              "    }\n",
              "\n",
              "    .dataframe thead th {\n",
              "        text-align: right;\n",
              "    }\n",
              "</style>\n",
              "<table border=\"1\" class=\"dataframe\">\n",
              "  <thead>\n",
              "    <tr style=\"text-align: right;\">\n",
              "      <th></th>\n",
              "      <th>patient_id</th>\n",
              "      <th>global_num</th>\n",
              "      <th>date</th>\n",
              "      <th>province</th>\n",
              "      <th>city</th>\n",
              "      <th>latitude</th>\n",
              "      <th>longitude</th>\n",
              "    </tr>\n",
              "  </thead>\n",
              "  <tbody>\n",
              "  </tbody>\n",
              "</table>\n",
              "</div>"
            ],
            "text/plain": [
              "Empty DataFrame\n",
              "Columns: [patient_id, global_num, date, province, city, latitude, longitude]\n",
              "Index: []"
            ]
          },
          "metadata": {
            "tags": []
          },
          "execution_count": 19
        }
      ]
    },
    {
      "cell_type": "markdown",
      "metadata": {
        "id": "grnZk9OP4IKK",
        "colab_type": "text"
      },
      "source": [
        "Good this data is complete. We can use this "
      ]
    },
    {
      "cell_type": "code",
      "metadata": {
        "id": "Qfm_Dye2JjvD",
        "colab_type": "code",
        "outputId": "3b87c17d-b53f-4f59-f722-febf06da2cf2",
        "colab": {
          "base_uri": "https://localhost:8080/",
          "height": 153
        }
      },
      "source": [
        "df_patientroute.isnull().sum()"
      ],
      "execution_count": 20,
      "outputs": [
        {
          "output_type": "execute_result",
          "data": {
            "text/plain": [
              "patient_id    0\n",
              "global_num    0\n",
              "date          0\n",
              "province      0\n",
              "city          0\n",
              "latitude      0\n",
              "longitude     0\n",
              "dtype: int64"
            ]
          },
          "metadata": {
            "tags": []
          },
          "execution_count": 20
        }
      ]
    },
    {
      "cell_type": "code",
      "metadata": {
        "id": "jQVdj27oReng",
        "colab_type": "code",
        "outputId": "1b26dd8d-04fd-42ca-af1a-1ad1c56ea08c",
        "colab": {
          "base_uri": "https://localhost:8080/",
          "height": 258
        }
      },
      "source": [
        "def create_gdf2(df_patientroute, lng, lat):\n",
        "    \"Convert pandas dataframe into a Geopandas GeoDataFrame\"\n",
        "    crs = {'init': 'EPSG:3395'}\n",
        "    xlng= pd.to_numeric(df_patientroute['longitude'], errors='coerce')\n",
        "    ylat= pd.to_numeric(df_patientroute['latitude'], errors='coerce')\n",
        "    geometry = [Point(xy) for xy in zip(xlng, ylat)]\n",
        "    gdf3 = gpd.GeoDataFrame(df_patientroute, crs= crs , geometry=geometry)\n",
        "    return gdf3\n",
        "gdf_patientroutef =  create_gdf2(df_patientroute, \"longitude\", \"latitude\")\n",
        "gdf_patientroutef.tail()"
      ],
      "execution_count": 21,
      "outputs": [
        {
          "output_type": "stream",
          "text": [
            "/usr/local/lib/python3.6/dist-packages/pyproj/crs/crs.py:53: FutureWarning: '+init=<authority>:<code>' syntax is deprecated. '<authority>:<code>' is the preferred initialization method. When making the change, be mindful of axis order changes: https://pyproj4.github.io/pyproj/stable/gotchas.html#axis-order-changes-in-proj-6\n",
            "  return _prepare_from_string(\" \".join(pjargs))\n"
          ],
          "name": "stderr"
        },
        {
          "output_type": "execute_result",
          "data": {
            "text/html": [
              "<div>\n",
              "<style scoped>\n",
              "    .dataframe tbody tr th:only-of-type {\n",
              "        vertical-align: middle;\n",
              "    }\n",
              "\n",
              "    .dataframe tbody tr th {\n",
              "        vertical-align: top;\n",
              "    }\n",
              "\n",
              "    .dataframe thead th {\n",
              "        text-align: right;\n",
              "    }\n",
              "</style>\n",
              "<table border=\"1\" class=\"dataframe\">\n",
              "  <thead>\n",
              "    <tr style=\"text-align: right;\">\n",
              "      <th></th>\n",
              "      <th>patient_id</th>\n",
              "      <th>global_num</th>\n",
              "      <th>date</th>\n",
              "      <th>province</th>\n",
              "      <th>city</th>\n",
              "      <th>latitude</th>\n",
              "      <th>longitude</th>\n",
              "      <th>geometry</th>\n",
              "    </tr>\n",
              "  </thead>\n",
              "  <tbody>\n",
              "    <tr>\n",
              "      <th>170</th>\n",
              "      <td>1200000031</td>\n",
              "      <td>31</td>\n",
              "      <td>2020-02-09</td>\n",
              "      <td>Daegu</td>\n",
              "      <td>Nam-gu</td>\n",
              "      <td>35.83982</td>\n",
              "      <td>128.5666</td>\n",
              "      <td>POINT (128.56660 35.83982)</td>\n",
              "    </tr>\n",
              "    <tr>\n",
              "      <th>171</th>\n",
              "      <td>1200000031</td>\n",
              "      <td>31</td>\n",
              "      <td>2020-02-15</td>\n",
              "      <td>Daegu</td>\n",
              "      <td>Dong-gu</td>\n",
              "      <td>35.88241</td>\n",
              "      <td>128.6621</td>\n",
              "      <td>POINT (128.66210 35.88241)</td>\n",
              "    </tr>\n",
              "    <tr>\n",
              "      <th>172</th>\n",
              "      <td>1200000031</td>\n",
              "      <td>31</td>\n",
              "      <td>2020-02-16</td>\n",
              "      <td>Daegu</td>\n",
              "      <td>Nam-gu</td>\n",
              "      <td>35.83982</td>\n",
              "      <td>128.5666</td>\n",
              "      <td>POINT (128.56660 35.83982)</td>\n",
              "    </tr>\n",
              "    <tr>\n",
              "      <th>173</th>\n",
              "      <td>1200000031</td>\n",
              "      <td>31</td>\n",
              "      <td>2020-02-17</td>\n",
              "      <td>Daegu</td>\n",
              "      <td>Suseong-gu</td>\n",
              "      <td>35.84473</td>\n",
              "      <td>128.6123</td>\n",
              "      <td>POINT (128.61230 35.84473)</td>\n",
              "    </tr>\n",
              "    <tr>\n",
              "      <th>174</th>\n",
              "      <td>1200000031</td>\n",
              "      <td>31</td>\n",
              "      <td>2020-02-18</td>\n",
              "      <td>Daegu</td>\n",
              "      <td>Seo-gu</td>\n",
              "      <td>35.85959</td>\n",
              "      <td>128.5406</td>\n",
              "      <td>POINT (128.54060 35.85959)</td>\n",
              "    </tr>\n",
              "  </tbody>\n",
              "</table>\n",
              "</div>"
            ],
            "text/plain": [
              "     patient_id  global_num  ... longitude                    geometry\n",
              "170  1200000031          31  ...  128.5666  POINT (128.56660 35.83982)\n",
              "171  1200000031          31  ...  128.6621  POINT (128.66210 35.88241)\n",
              "172  1200000031          31  ...  128.5666  POINT (128.56660 35.83982)\n",
              "173  1200000031          31  ...  128.6123  POINT (128.61230 35.84473)\n",
              "174  1200000031          31  ...  128.5406  POINT (128.54060 35.85959)\n",
              "\n",
              "[5 rows x 8 columns]"
            ]
          },
          "metadata": {
            "tags": []
          },
          "execution_count": 21
        }
      ]
    },
    {
      "cell_type": "code",
      "metadata": {
        "id": "7r3iaUCT6N7O",
        "colab_type": "code",
        "outputId": "84809dd8-9e36-4d8e-c3f1-bac745e69d7d",
        "colab": {
          "base_uri": "https://localhost:8080/",
          "height": 282
        }
      },
      "source": [
        "gdf_patientroutef.plot()"
      ],
      "execution_count": 22,
      "outputs": [
        {
          "output_type": "execute_result",
          "data": {
            "text/plain": [
              "<matplotlib.axes._subplots.AxesSubplot at 0x7f3c74d94048>"
            ]
          },
          "metadata": {
            "tags": []
          },
          "execution_count": 22
        },
        {
          "output_type": "display_data",
          "data": {
            "image/png": "[encoded data removed]",
            "text/plain": [
              "<Figure size 432x288 with 1 Axes>"
            ]
          },
          "metadata": {
            "tags": []
          }
        }
      ]
    },
    {
      "cell_type": "code",
      "metadata": {
        "id": "_r4fvtIMTAHX",
        "colab_type": "code",
        "colab": {}
      },
      "source": [
        ""
      ],
      "execution_count": 0,
      "outputs": []
    },
    {
      "cell_type": "code",
      "metadata": {
        "id": "IxW17_eeTANt",
        "colab_type": "code",
        "colab": {}
      },
      "source": [
        ""
      ],
      "execution_count": 0,
      "outputs": []
    },
    {
      "cell_type": "code",
      "metadata": {
        "id": "qKPfOOpiTATZ",
        "colab_type": "code",
        "colab": {}
      },
      "source": [
        ""
      ],
      "execution_count": 0,
      "outputs": []
    },
    {
      "cell_type": "code",
      "metadata": {
        "id": "Yd7CqEc94FRS",
        "colab_type": "code",
        "outputId": "d63e1c68-fab6-444c-e900-e1babae00fc3",
        "colab": {
          "base_uri": "https://localhost:8080/",
          "height": 204
        }
      },
      "source": [
        "df_region.head()"
      ],
      "execution_count": 23,
      "outputs": [
        {
          "output_type": "execute_result",
          "data": {
            "text/html": [
              "<div>\n",
              "<style scoped>\n",
              "    .dataframe tbody tr th:only-of-type {\n",
              "        vertical-align: middle;\n",
              "    }\n",
              "\n",
              "    .dataframe tbody tr th {\n",
              "        vertical-align: top;\n",
              "    }\n",
              "\n",
              "    .dataframe thead th {\n",
              "        text-align: right;\n",
              "    }\n",
              "</style>\n",
              "<table border=\"1\" class=\"dataframe\">\n",
              "  <thead>\n",
              "    <tr style=\"text-align: right;\">\n",
              "      <th></th>\n",
              "      <th>code</th>\n",
              "      <th>province</th>\n",
              "      <th>city</th>\n",
              "      <th>latitude</th>\n",
              "      <th>longitude</th>\n",
              "      <th>elementary_school_count</th>\n",
              "      <th>kindergarten_count</th>\n",
              "      <th>university_count</th>\n",
              "      <th>academy_ratio</th>\n",
              "      <th>elderly_population_ratio</th>\n",
              "      <th>elderly_alone_ratio</th>\n",
              "      <th>nursing_home_count</th>\n",
              "    </tr>\n",
              "  </thead>\n",
              "  <tbody>\n",
              "    <tr>\n",
              "      <th>0</th>\n",
              "      <td>10000</td>\n",
              "      <td>Seoul</td>\n",
              "      <td>Seoul</td>\n",
              "      <td>37.566953</td>\n",
              "      <td>126.977977</td>\n",
              "      <td>607</td>\n",
              "      <td>830</td>\n",
              "      <td>48</td>\n",
              "      <td>1.44</td>\n",
              "      <td>15.38</td>\n",
              "      <td>5.8</td>\n",
              "      <td>22739</td>\n",
              "    </tr>\n",
              "    <tr>\n",
              "      <th>1</th>\n",
              "      <td>10010</td>\n",
              "      <td>Seoul</td>\n",
              "      <td>Gangnam-gu</td>\n",
              "      <td>37.518421</td>\n",
              "      <td>127.047222</td>\n",
              "      <td>33</td>\n",
              "      <td>38</td>\n",
              "      <td>0</td>\n",
              "      <td>4.18</td>\n",
              "      <td>13.17</td>\n",
              "      <td>4.3</td>\n",
              "      <td>3088</td>\n",
              "    </tr>\n",
              "    <tr>\n",
              "      <th>2</th>\n",
              "      <td>10020</td>\n",
              "      <td>Seoul</td>\n",
              "      <td>Gangdong-gu</td>\n",
              "      <td>37.530492</td>\n",
              "      <td>127.123837</td>\n",
              "      <td>27</td>\n",
              "      <td>32</td>\n",
              "      <td>0</td>\n",
              "      <td>1.54</td>\n",
              "      <td>14.55</td>\n",
              "      <td>5.4</td>\n",
              "      <td>1023</td>\n",
              "    </tr>\n",
              "    <tr>\n",
              "      <th>3</th>\n",
              "      <td>10030</td>\n",
              "      <td>Seoul</td>\n",
              "      <td>Gangbuk-gu</td>\n",
              "      <td>37.639938</td>\n",
              "      <td>127.025508</td>\n",
              "      <td>14</td>\n",
              "      <td>21</td>\n",
              "      <td>0</td>\n",
              "      <td>0.67</td>\n",
              "      <td>19.49</td>\n",
              "      <td>8.5</td>\n",
              "      <td>628</td>\n",
              "    </tr>\n",
              "    <tr>\n",
              "      <th>4</th>\n",
              "      <td>10040</td>\n",
              "      <td>Seoul</td>\n",
              "      <td>Gangseo-gu</td>\n",
              "      <td>37.551166</td>\n",
              "      <td>126.849506</td>\n",
              "      <td>36</td>\n",
              "      <td>56</td>\n",
              "      <td>1</td>\n",
              "      <td>1.17</td>\n",
              "      <td>14.39</td>\n",
              "      <td>5.7</td>\n",
              "      <td>1080</td>\n",
              "    </tr>\n",
              "  </tbody>\n",
              "</table>\n",
              "</div>"
            ],
            "text/plain": [
              "    code province  ... elderly_alone_ratio  nursing_home_count\n",
              "0  10000    Seoul  ...                 5.8               22739\n",
              "1  10010    Seoul  ...                 4.3                3088\n",
              "2  10020    Seoul  ...                 5.4                1023\n",
              "3  10030    Seoul  ...                 8.5                 628\n",
              "4  10040    Seoul  ...                 5.7                1080\n",
              "\n",
              "[5 rows x 12 columns]"
            ]
          },
          "metadata": {
            "tags": []
          },
          "execution_count": 23
        }
      ]
    },
    {
      "cell_type": "code",
      "metadata": {
        "id": "ffOxQAdGQFDM",
        "colab_type": "code",
        "outputId": "c65a8fb1-220f-4284-f277-28f0f2248dbb",
        "colab": {
          "base_uri": "https://localhost:8080/",
          "height": 238
        }
      },
      "source": [
        "df_region.isnull().sum()"
      ],
      "execution_count": 24,
      "outputs": [
        {
          "output_type": "execute_result",
          "data": {
            "text/plain": [
              "code                        0\n",
              "province                    0\n",
              "city                        0\n",
              "latitude                    0\n",
              "longitude                   0\n",
              "elementary_school_count     0\n",
              "kindergarten_count          0\n",
              "university_count            0\n",
              "academy_ratio               0\n",
              "elderly_population_ratio    0\n",
              "elderly_alone_ratio         0\n",
              "nursing_home_count          0\n",
              "dtype: int64"
            ]
          },
          "metadata": {
            "tags": []
          },
          "execution_count": 24
        }
      ]
    },
    {
      "cell_type": "markdown",
      "metadata": {
        "id": "Ga8QzPI77BFc",
        "colab_type": "text"
      },
      "source": [
        "This data may need to be included joined with case data so that we can understand commonalities between areas with cases of coronavirus and areas without cases of coronavirus. "
      ]
    },
    {
      "cell_type": "code",
      "metadata": {
        "id": "KoHoEYZN65ik",
        "colab_type": "code",
        "outputId": "060f82e7-bfaf-4131-88fa-11f8451409b3",
        "colab": {
          "base_uri": "https://localhost:8080/",
          "height": 34
        }
      },
      "source": [
        "df_region['city'].count()"
      ],
      "execution_count": 25,
      "outputs": [
        {
          "output_type": "execute_result",
          "data": {
            "text/plain": [
              "244"
            ]
          },
          "metadata": {
            "tags": []
          },
          "execution_count": 25
        }
      ]
    },
    {
      "cell_type": "code",
      "metadata": {
        "id": "AkGjK1V2bn1v",
        "colab_type": "code",
        "outputId": "6eeb4f14-e081-4883-830a-e183fca3501b",
        "colab": {
          "base_uri": "https://localhost:8080/",
          "height": 238
        }
      },
      "source": [
        "df_region.dtypes"
      ],
      "execution_count": 26,
      "outputs": [
        {
          "output_type": "execute_result",
          "data": {
            "text/plain": [
              "code                          int64\n",
              "province                     object\n",
              "city                         object\n",
              "latitude                    float64\n",
              "longitude                   float64\n",
              "elementary_school_count       int64\n",
              "kindergarten_count            int64\n",
              "university_count              int64\n",
              "academy_ratio               float64\n",
              "elderly_population_ratio    float64\n",
              "elderly_alone_ratio         float64\n",
              "nursing_home_count            int64\n",
              "dtype: object"
            ]
          },
          "metadata": {
            "tags": []
          },
          "execution_count": 26
        }
      ]
    },
    {
      "cell_type": "code",
      "metadata": {
        "id": "X_BZFvKStzJ0",
        "colab_type": "code",
        "outputId": "c2ed1662-adc9-4efa-8486-3be0d5357f83",
        "colab": {
          "base_uri": "https://localhost:8080/",
          "height": 204
        }
      },
      "source": [
        "df_patientinfo.head()"
      ],
      "execution_count": 27,
      "outputs": [
        {
          "output_type": "execute_result",
          "data": {
            "text/html": [
              "<div>\n",
              "<style scoped>\n",
              "    .dataframe tbody tr th:only-of-type {\n",
              "        vertical-align: middle;\n",
              "    }\n",
              "\n",
              "    .dataframe tbody tr th {\n",
              "        vertical-align: top;\n",
              "    }\n",
              "\n",
              "    .dataframe thead th {\n",
              "        text-align: right;\n",
              "    }\n",
              "</style>\n",
              "<table border=\"1\" class=\"dataframe\">\n",
              "  <thead>\n",
              "    <tr style=\"text-align: right;\">\n",
              "      <th></th>\n",
              "      <th>patient_id</th>\n",
              "      <th>global_num</th>\n",
              "      <th>sex</th>\n",
              "      <th>birth_year</th>\n",
              "      <th>age</th>\n",
              "      <th>country</th>\n",
              "      <th>province</th>\n",
              "      <th>city</th>\n",
              "      <th>disease</th>\n",
              "      <th>infection_case</th>\n",
              "      <th>infection_order</th>\n",
              "      <th>infected_by</th>\n",
              "      <th>contact_number</th>\n",
              "      <th>symptom_onset_date</th>\n",
              "      <th>confirmed_date</th>\n",
              "      <th>released_date</th>\n",
              "      <th>deceased_date</th>\n",
              "      <th>state</th>\n",
              "    </tr>\n",
              "  </thead>\n",
              "  <tbody>\n",
              "    <tr>\n",
              "      <th>0</th>\n",
              "      <td>1000000001</td>\n",
              "      <td>2.0</td>\n",
              "      <td>male</td>\n",
              "      <td>1964.0</td>\n",
              "      <td>50s</td>\n",
              "      <td>Korea</td>\n",
              "      <td>Seoul</td>\n",
              "      <td>Gangseo-gu</td>\n",
              "      <td>NaN</td>\n",
              "      <td>overseas inflow</td>\n",
              "      <td>1.0</td>\n",
              "      <td>NaN</td>\n",
              "      <td>75.0</td>\n",
              "      <td>2020-01-22</td>\n",
              "      <td>2020-01-23</td>\n",
              "      <td>2020-02-05</td>\n",
              "      <td>NaN</td>\n",
              "      <td>released</td>\n",
              "    </tr>\n",
              "    <tr>\n",
              "      <th>1</th>\n",
              "      <td>1000000002</td>\n",
              "      <td>5.0</td>\n",
              "      <td>male</td>\n",
              "      <td>1987.0</td>\n",
              "      <td>30s</td>\n",
              "      <td>Korea</td>\n",
              "      <td>Seoul</td>\n",
              "      <td>Jungnang-gu</td>\n",
              "      <td>NaN</td>\n",
              "      <td>overseas inflow</td>\n",
              "      <td>1.0</td>\n",
              "      <td>NaN</td>\n",
              "      <td>31.0</td>\n",
              "      <td>NaN</td>\n",
              "      <td>2020-01-30</td>\n",
              "      <td>2020-03-02</td>\n",
              "      <td>NaN</td>\n",
              "      <td>released</td>\n",
              "    </tr>\n",
              "    <tr>\n",
              "      <th>2</th>\n",
              "      <td>1000000003</td>\n",
              "      <td>6.0</td>\n",
              "      <td>male</td>\n",
              "      <td>1964.0</td>\n",
              "      <td>50s</td>\n",
              "      <td>Korea</td>\n",
              "      <td>Seoul</td>\n",
              "      <td>Jongno-gu</td>\n",
              "      <td>NaN</td>\n",
              "      <td>contact with patient</td>\n",
              "      <td>2.0</td>\n",
              "      <td>2.002000e+09</td>\n",
              "      <td>17.0</td>\n",
              "      <td>NaN</td>\n",
              "      <td>2020-01-30</td>\n",
              "      <td>2020-02-19</td>\n",
              "      <td>NaN</td>\n",
              "      <td>released</td>\n",
              "    </tr>\n",
              "    <tr>\n",
              "      <th>3</th>\n",
              "      <td>1000000004</td>\n",
              "      <td>7.0</td>\n",
              "      <td>male</td>\n",
              "      <td>1991.0</td>\n",
              "      <td>20s</td>\n",
              "      <td>Korea</td>\n",
              "      <td>Seoul</td>\n",
              "      <td>Mapo-gu</td>\n",
              "      <td>NaN</td>\n",
              "      <td>overseas inflow</td>\n",
              "      <td>1.0</td>\n",
              "      <td>NaN</td>\n",
              "      <td>9.0</td>\n",
              "      <td>2020-01-26</td>\n",
              "      <td>2020-01-30</td>\n",
              "      <td>2020-02-15</td>\n",
              "      <td>NaN</td>\n",
              "      <td>released</td>\n",
              "    </tr>\n",
              "    <tr>\n",
              "      <th>4</th>\n",
              "      <td>1000000005</td>\n",
              "      <td>9.0</td>\n",
              "      <td>female</td>\n",
              "      <td>1992.0</td>\n",
              "      <td>20s</td>\n",
              "      <td>Korea</td>\n",
              "      <td>Seoul</td>\n",
              "      <td>Seongbuk-gu</td>\n",
              "      <td>NaN</td>\n",
              "      <td>contact with patient</td>\n",
              "      <td>2.0</td>\n",
              "      <td>1.000000e+09</td>\n",
              "      <td>2.0</td>\n",
              "      <td>NaN</td>\n",
              "      <td>2020-01-31</td>\n",
              "      <td>2020-02-24</td>\n",
              "      <td>NaN</td>\n",
              "      <td>released</td>\n",
              "    </tr>\n",
              "  </tbody>\n",
              "</table>\n",
              "</div>"
            ],
            "text/plain": [
              "   patient_id  global_num     sex  ...  released_date deceased_date     state\n",
              "0  1000000001         2.0    male  ...     2020-02-05           NaN  released\n",
              "1  1000000002         5.0    male  ...     2020-03-02           NaN  released\n",
              "2  1000000003         6.0    male  ...     2020-02-19           NaN  released\n",
              "3  1000000004         7.0    male  ...     2020-02-15           NaN  released\n",
              "4  1000000005         9.0  female  ...     2020-02-24           NaN  released\n",
              "\n",
              "[5 rows x 18 columns]"
            ]
          },
          "metadata": {
            "tags": []
          },
          "execution_count": 27
        }
      ]
    },
    {
      "cell_type": "code",
      "metadata": {
        "id": "xTOaKK0Afv-B",
        "colab_type": "code",
        "outputId": "250b7a9b-b942-4afd-df53-ae811feb79b4",
        "colab": {
          "base_uri": "https://localhost:8080/",
          "height": 34
        }
      },
      "source": [
        "df_patientinfo.shape"
      ],
      "execution_count": 28,
      "outputs": [
        {
          "output_type": "execute_result",
          "data": {
            "text/plain": [
              "(2243, 18)"
            ]
          },
          "metadata": {
            "tags": []
          },
          "execution_count": 28
        }
      ]
    },
    {
      "cell_type": "code",
      "metadata": {
        "id": "Jpx6zGF7QJGs",
        "colab_type": "code",
        "outputId": "a3e684ea-71fd-4925-9eaa-6fc20ea3c21b",
        "colab": {
          "base_uri": "https://localhost:8080/",
          "height": 340
        }
      },
      "source": [
        "df_patientinfo.isnull().sum()"
      ],
      "execution_count": 29,
      "outputs": [
        {
          "output_type": "execute_result",
          "data": {
            "text/plain": [
              "patient_id               0\n",
              "global_num             906\n",
              "sex                     96\n",
              "birth_year             454\n",
              "age                    258\n",
              "country                  0\n",
              "province                 0\n",
              "city                    67\n",
              "disease               2224\n",
              "infection_case        1050\n",
              "infection_order       2201\n",
              "infected_by           1768\n",
              "contact_number        1830\n",
              "symptom_onset_date    2049\n",
              "confirmed_date         145\n",
              "released_date         2010\n",
              "deceased_date         2213\n",
              "state                   96\n",
              "dtype: int64"
            ]
          },
          "metadata": {
            "tags": []
          },
          "execution_count": 29
        }
      ]
    },
    {
      "cell_type": "code",
      "metadata": {
        "id": "9ZAzg0-FP1-p",
        "colab_type": "code",
        "outputId": "8234ac7a-55d3-46bf-8a07-b423c3c0d4d1",
        "colab": {
          "base_uri": "https://localhost:8080/",
          "height": 408
        }
      },
      "source": [
        "df_patientinfo.info()"
      ],
      "execution_count": 30,
      "outputs": [
        {
          "output_type": "stream",
          "text": [
            "<class 'pandas.core.frame.DataFrame'>\n",
            "RangeIndex: 2243 entries, 0 to 2242\n",
            "Data columns (total 18 columns):\n",
            "patient_id            2243 non-null int64\n",
            "global_num            1337 non-null float64\n",
            "sex                   2147 non-null object\n",
            "birth_year            1789 non-null float64\n",
            "age                   1985 non-null object\n",
            "country               2243 non-null object\n",
            "province              2243 non-null object\n",
            "city                  2176 non-null object\n",
            "disease               19 non-null object\n",
            "infection_case        1193 non-null object\n",
            "infection_order       42 non-null float64\n",
            "infected_by           475 non-null float64\n",
            "contact_number        413 non-null float64\n",
            "symptom_onset_date    194 non-null object\n",
            "confirmed_date        2098 non-null object\n",
            "released_date         233 non-null object\n",
            "deceased_date         30 non-null object\n",
            "state                 2147 non-null object\n",
            "dtypes: float64(5), int64(1), object(12)\n",
            "memory usage: 315.5+ KB\n"
          ],
          "name": "stdout"
        }
      ]
    },
    {
      "cell_type": "code",
      "metadata": {
        "id": "5IWMBVYhfa-z",
        "colab_type": "code",
        "outputId": "83857ba1-c885-4dea-b8db-ac6ee7060fa7",
        "colab": {
          "base_uri": "https://localhost:8080/",
          "height": 34
        }
      },
      "source": [
        "df_patientinfo['state'].nunique()"
      ],
      "execution_count": 31,
      "outputs": [
        {
          "output_type": "execute_result",
          "data": {
            "text/plain": [
              "3"
            ]
          },
          "metadata": {
            "tags": []
          },
          "execution_count": 31
        }
      ]
    },
    {
      "cell_type": "code",
      "metadata": {
        "id": "F0VeM360gWco",
        "colab_type": "code",
        "colab": {}
      },
      "source": [
        "statuscount=df_patientinfo.state.unique()\n",
        "\n",
        "count_status=[]\n",
        "for i in df_patientinfo.state.unique():\n",
        "    count_status.append(df_patientinfo[df_patientinfo['state']==i].count()['patient_id'])"
      ],
      "execution_count": 0,
      "outputs": []
    },
    {
      "cell_type": "code",
      "metadata": {
        "id": "dZAb9u8SibmP",
        "colab_type": "code",
        "outputId": "40cac9dd-0282-48d4-c00f-a19cd16fa2ac",
        "colab": {
          "base_uri": "https://localhost:8080/",
          "height": 34
        }
      },
      "source": [
        "statuscount"
      ],
      "execution_count": 33,
      "outputs": [
        {
          "output_type": "execute_result",
          "data": {
            "text/plain": [
              "array(['released', 'isolated', 'deceased', nan], dtype=object)"
            ]
          },
          "metadata": {
            "tags": []
          },
          "execution_count": 33
        }
      ]
    },
    {
      "cell_type": "code",
      "metadata": {
        "id": "tivo3y3Yoqbm",
        "colab_type": "code",
        "outputId": "45f58795-2f7b-4bde-c4fc-e0cf8fa834b9",
        "colab": {
          "base_uri": "https://localhost:8080/",
          "height": 34
        }
      },
      "source": [
        "count_status"
      ],
      "execution_count": 34,
      "outputs": [
        {
          "output_type": "execute_result",
          "data": {
            "text/plain": [
              "[314, 1801, 32, 0]"
            ]
          },
          "metadata": {
            "tags": []
          },
          "execution_count": 34
        }
      ]
    },
    {
      "cell_type": "code",
      "metadata": {
        "id": "FYN5_5AxkNAT",
        "colab_type": "code",
        "outputId": "1bd62a16-60d2-4dfe-b909-2cb26cd22357",
        "colab": {
          "base_uri": "https://localhost:8080/",
          "height": 337
        }
      },
      "source": [
        "plt.figure(figsize=(10,5))\n",
        "sns.barplot(statuscount, count_status)"
      ],
      "execution_count": 35,
      "outputs": [
        {
          "output_type": "execute_result",
          "data": {
            "text/plain": [
              "<matplotlib.axes._subplots.AxesSubplot at 0x7f3c74862eb8>"
            ]
          },
          "metadata": {
            "tags": []
          },
          "execution_count": 35
        },
        {
          "output_type": "display_data",
          "data": {
            "image/png": "[encoded data removed]",
            "text/plain": [
              "<Figure size 720x360 with 1 Axes>"
            ]
          },
          "metadata": {
            "tags": []
          }
        }
      ]
    },
    {
      "cell_type": "code",
      "metadata": {
        "id": "lrzMm6bQkNG1",
        "colab_type": "code",
        "outputId": "ec48641c-5d37-40f9-979a-94b5626352ea",
        "colab": {
          "base_uri": "https://localhost:8080/",
          "height": 34
        }
      },
      "source": [
        "percentdead=32/2117\n",
        "percentdead"
      ],
      "execution_count": 36,
      "outputs": [
        {
          "output_type": "execute_result",
          "data": {
            "text/plain": [
              "0.015115729806329713"
            ]
          },
          "metadata": {
            "tags": []
          },
          "execution_count": 36
        }
      ]
    },
    {
      "cell_type": "code",
      "metadata": {
        "id": "ZsQtwmv5qFjF",
        "colab_type": "code",
        "outputId": "8e6a0976-0e18-4863-f5b2-0e73b93ddc83",
        "colab": {
          "base_uri": "https://localhost:8080/",
          "height": 34
        }
      },
      "source": [
        "df_patientinfo.disease.unique()"
      ],
      "execution_count": 37,
      "outputs": [
        {
          "output_type": "execute_result",
          "data": {
            "text/plain": [
              "array([nan, True], dtype=object)"
            ]
          },
          "metadata": {
            "tags": []
          },
          "execution_count": 37
        }
      ]
    },
    {
      "cell_type": "code",
      "metadata": {
        "id": "7osfiaNt0fjp",
        "colab_type": "code",
        "outputId": "28b70ac5-d570-4a84-c05d-9b4d78999866",
        "colab": {
          "base_uri": "https://localhost:8080/",
          "height": 136
        }
      },
      "source": [
        "df_patientinfo.infection_case.unique()"
      ],
      "execution_count": 38,
      "outputs": [
        {
          "output_type": "execute_result",
          "data": {
            "text/plain": [
              "array(['overseas inflow', 'contact with patient', 'Seongdong-gu APT',\n",
              "       'etc', \"Eunpyeong St. Mary's Hospital\", 'Shincheonji Church',\n",
              "       'Dongan Church', 'Guro-gu Call Center', 'Onchun Church',\n",
              "       'Cheongdo Daenam Hospital', 'Suyeong-gu Kindergarten', nan,\n",
              "       'Ministry of Oceans and Fisheries', 'gym facility in Cheonan',\n",
              "       'gym facility in Sejong', 'River of Grace Community Church',\n",
              "       'Pilgrimage to Israel'], dtype=object)"
            ]
          },
          "metadata": {
            "tags": []
          },
          "execution_count": 38
        }
      ]
    },
    {
      "cell_type": "code",
      "metadata": {
        "id": "RyWvmEIY0fqC",
        "colab_type": "code",
        "colab": {}
      },
      "source": [
        "howinfected=df_patientinfo.infection_case.unique()\n",
        "\n",
        "count_infection=[]\n",
        "for i in df_patientinfo.infection_case.unique():\n",
        "    count_infection.append(df_patientinfo[df_patientinfo['infection_case']==i].count()['patient_id'])"
      ],
      "execution_count": 0,
      "outputs": []
    },
    {
      "cell_type": "code",
      "metadata": {
        "id": "YKZqlpPm6Azz",
        "colab_type": "code",
        "outputId": "f6173ec5-3648-42d0-ae14-4ea1bdc9e1ca",
        "colab": {
          "base_uri": "https://localhost:8080/",
          "height": 465
        }
      },
      "source": [
        "plt.figure(figsize=(50,7))\n",
        "sns.barplot(howinfected, count_infection)"
      ],
      "execution_count": 40,
      "outputs": [
        {
          "output_type": "execute_result",
          "data": {
            "text/plain": [
              "<matplotlib.axes._subplots.AxesSubplot at 0x7f3c74836b00>"
            ]
          },
          "metadata": {
            "tags": []
          },
          "execution_count": 40
        },
        {
          "output_type": "display_data",
          "data": {
            "image/png": "[encoded data removed]",
            "text/plain": [
              "<Figure size 3600x504 with 1 Axes>"
            ]
          },
          "metadata": {
            "tags": []
          }
        }
      ]
    },
    {
      "cell_type": "code",
      "metadata": {
        "id": "yeGR0Ai87c8O",
        "colab_type": "code",
        "outputId": "a6b0aff7-a0e5-4be6-c679-9bd6d4f6a17d",
        "colab": {
          "base_uri": "https://localhost:8080/",
          "height": 238
        }
      },
      "source": [
        "df_patientinfo.contact_number.unique()"
      ],
      "execution_count": 41,
      "outputs": [
        {
          "output_type": "execute_result",
          "data": {
            "text/plain": [
              "array([7.500e+01, 3.100e+01, 1.700e+01, 9.000e+00, 2.000e+00, 4.300e+01,\n",
              "       0.000e+00, 6.800e+01, 6.000e+00, 2.300e+01, 1.170e+02, 2.700e+01,\n",
              "       8.000e+00,       nan, 1.091e+03, 1.310e+02, 1.600e+01, 1.400e+01,\n",
              "       4.850e+02, 4.000e+00, 1.900e+01, 2.960e+02, 1.500e+01, 3.400e+01,\n",
              "       1.000e+00, 3.700e+01, 2.200e+01, 7.000e+00, 1.000e+01, 2.800e+01,\n",
              "       2.100e+01, 3.000e+00, 5.000e+00, 2.500e+01, 1.800e+01, 1.590e+02,\n",
              "       1.100e+01, 3.000e+01, 4.100e+01, 7.100e+01, 3.800e+01, 1.300e+01,\n",
              "       1.160e+03, 4.500e+02, 6.500e+01, 1.560e+02, 3.900e+01, 4.700e+01,\n",
              "       8.600e+01, 7.400e+01, 1.200e+01, 4.600e+01, 6.400e+01, 6.600e+01,\n",
              "       4.000e+01, 4.900e+01, 2.000e+01, 9.500e+01, 4.220e+02, 2.900e+02,\n",
              "       5.300e+01, 4.500e+01, 2.400e+01, 3.500e+01, 5.100e+01, 1.300e+02,\n",
              "       1.060e+02, 1.740e+02, 7.800e+01, 3.300e+01, 1.130e+02, 8.700e+01,\n",
              "       8.400e+01])"
            ]
          },
          "metadata": {
            "tags": []
          },
          "execution_count": 41
        }
      ]
    },
    {
      "cell_type": "code",
      "metadata": {
        "id": "X5ORYB0B7kMe",
        "colab_type": "code",
        "colab": {}
      },
      "source": [
        "numbercontacted=df_patientinfo.contact_number.unique()\n",
        "\n",
        "count_seen=[]\n",
        "for i in df_patientinfo.contact_number.unique():\n",
        "    count_seen.append(df_patientinfo[df_patientinfo['contact_number']==i].count()['patient_id'])"
      ],
      "execution_count": 0,
      "outputs": []
    },
    {
      "cell_type": "code",
      "metadata": {
        "id": "MnTuMwE29u-p",
        "colab_type": "code",
        "outputId": "3af1865d-c68e-4204-99cf-f31ec34b0f0f",
        "colab": {
          "base_uri": "https://localhost:8080/",
          "height": 465
        }
      },
      "source": [
        "plt.figure(figsize=(50,7))\n",
        "sns.barplot(numbercontacted, count_seen)"
      ],
      "execution_count": 43,
      "outputs": [
        {
          "output_type": "execute_result",
          "data": {
            "text/plain": [
              "<matplotlib.axes._subplots.AxesSubplot at 0x7f3c74d8a780>"
            ]
          },
          "metadata": {
            "tags": []
          },
          "execution_count": 43
        },
        {
          "output_type": "display_data",
          "data": {
            "image/png": "[encoded data removed]",
            "text/plain": [
              "<Figure size 3600x504 with 1 Axes>"
            ]
          },
          "metadata": {
            "tags": []
          }
        }
      ]
    },
    {
      "cell_type": "code",
      "metadata": {
        "id": "o5YW4TZO966J",
        "colab_type": "code",
        "colab": {}
      },
      "source": [
        ""
      ],
      "execution_count": 0,
      "outputs": []
    },
    {
      "cell_type": "code",
      "metadata": {
        "id": "ku09kO8F-AFA",
        "colab_type": "code",
        "colab": {}
      },
      "source": [
        ""
      ],
      "execution_count": 0,
      "outputs": []
    },
    {
      "cell_type": "code",
      "metadata": {
        "id": "YvAVSZ_m6ENW",
        "colab_type": "code",
        "outputId": "ee822402-a954-455f-da00-2d9162d761c7",
        "colab": {
          "base_uri": "https://localhost:8080/",
          "height": 204
        }
      },
      "source": [
        "df_searchtrend.head()"
      ],
      "execution_count": 44,
      "outputs": [
        {
          "output_type": "execute_result",
          "data": {
            "text/html": [
              "<div>\n",
              "<style scoped>\n",
              "    .dataframe tbody tr th:only-of-type {\n",
              "        vertical-align: middle;\n",
              "    }\n",
              "\n",
              "    .dataframe tbody tr th {\n",
              "        vertical-align: top;\n",
              "    }\n",
              "\n",
              "    .dataframe thead th {\n",
              "        text-align: right;\n",
              "    }\n",
              "</style>\n",
              "<table border=\"1\" class=\"dataframe\">\n",
              "  <thead>\n",
              "    <tr style=\"text-align: right;\">\n",
              "      <th></th>\n",
              "      <th>date</th>\n",
              "      <th>cold</th>\n",
              "      <th>flu</th>\n",
              "      <th>pneumonia</th>\n",
              "      <th>coronavirus</th>\n",
              "    </tr>\n",
              "  </thead>\n",
              "  <tbody>\n",
              "    <tr>\n",
              "      <th>0</th>\n",
              "      <td>2016-03-17</td>\n",
              "      <td>0.15554</td>\n",
              "      <td>0.34471</td>\n",
              "      <td>0.18181</td>\n",
              "      <td>0.01236</td>\n",
              "    </tr>\n",
              "    <tr>\n",
              "      <th>1</th>\n",
              "      <td>2016-03-18</td>\n",
              "      <td>0.14417</td>\n",
              "      <td>0.49416</td>\n",
              "      <td>0.17563</td>\n",
              "      <td>0.01027</td>\n",
              "    </tr>\n",
              "    <tr>\n",
              "      <th>2</th>\n",
              "      <td>2016-03-19</td>\n",
              "      <td>0.13290</td>\n",
              "      <td>0.39907</td>\n",
              "      <td>0.15145</td>\n",
              "      <td>0.01154</td>\n",
              "    </tr>\n",
              "    <tr>\n",
              "      <th>3</th>\n",
              "      <td>2016-03-20</td>\n",
              "      <td>0.13863</td>\n",
              "      <td>0.39662</td>\n",
              "      <td>0.14408</td>\n",
              "      <td>0.00945</td>\n",
              "    </tr>\n",
              "    <tr>\n",
              "      <th>4</th>\n",
              "      <td>2016-03-21</td>\n",
              "      <td>0.16735</td>\n",
              "      <td>0.56989</td>\n",
              "      <td>0.21199</td>\n",
              "      <td>0.00963</td>\n",
              "    </tr>\n",
              "  </tbody>\n",
              "</table>\n",
              "</div>"
            ],
            "text/plain": [
              "         date     cold      flu  pneumonia  coronavirus\n",
              "0  2016-03-17  0.15554  0.34471    0.18181      0.01236\n",
              "1  2016-03-18  0.14417  0.49416    0.17563      0.01027\n",
              "2  2016-03-19  0.13290  0.39907    0.15145      0.01154\n",
              "3  2016-03-20  0.13863  0.39662    0.14408      0.00945\n",
              "4  2016-03-21  0.16735  0.56989    0.21199      0.00963"
            ]
          },
          "metadata": {
            "tags": []
          },
          "execution_count": 44
        }
      ]
    },
    {
      "cell_type": "code",
      "metadata": {
        "id": "5M0DlTeoQOLz",
        "colab_type": "code",
        "outputId": "a0bc8dd5-2b76-40de-f407-492cd0f37934",
        "colab": {
          "base_uri": "https://localhost:8080/",
          "height": 119
        }
      },
      "source": [
        "df_searchtrend.isnull().sum()"
      ],
      "execution_count": 45,
      "outputs": [
        {
          "output_type": "execute_result",
          "data": {
            "text/plain": [
              "date           0\n",
              "cold           0\n",
              "flu            0\n",
              "pneumonia      0\n",
              "coronavirus    0\n",
              "dtype: int64"
            ]
          },
          "metadata": {
            "tags": []
          },
          "execution_count": 45
        }
      ]
    },
    {
      "cell_type": "code",
      "metadata": {
        "id": "4K9popVE6ET-",
        "colab_type": "code",
        "outputId": "44acb993-19a1-46d2-c111-86556798efe4",
        "colab": {
          "base_uri": "https://localhost:8080/",
          "height": 669
        }
      },
      "source": [
        "df_timeage.head(20)"
      ],
      "execution_count": 46,
      "outputs": [
        {
          "output_type": "execute_result",
          "data": {
            "text/html": [
              "<div>\n",
              "<style scoped>\n",
              "    .dataframe tbody tr th:only-of-type {\n",
              "        vertical-align: middle;\n",
              "    }\n",
              "\n",
              "    .dataframe tbody tr th {\n",
              "        vertical-align: top;\n",
              "    }\n",
              "\n",
              "    .dataframe thead th {\n",
              "        text-align: right;\n",
              "    }\n",
              "</style>\n",
              "<table border=\"1\" class=\"dataframe\">\n",
              "  <thead>\n",
              "    <tr style=\"text-align: right;\">\n",
              "      <th></th>\n",
              "      <th>date</th>\n",
              "      <th>time</th>\n",
              "      <th>age</th>\n",
              "      <th>confirmed</th>\n",
              "      <th>deceased</th>\n",
              "    </tr>\n",
              "  </thead>\n",
              "  <tbody>\n",
              "    <tr>\n",
              "      <th>0</th>\n",
              "      <td>2020-03-02</td>\n",
              "      <td>0</td>\n",
              "      <td>0s</td>\n",
              "      <td>32</td>\n",
              "      <td>0</td>\n",
              "    </tr>\n",
              "    <tr>\n",
              "      <th>1</th>\n",
              "      <td>2020-03-02</td>\n",
              "      <td>0</td>\n",
              "      <td>10s</td>\n",
              "      <td>169</td>\n",
              "      <td>0</td>\n",
              "    </tr>\n",
              "    <tr>\n",
              "      <th>2</th>\n",
              "      <td>2020-03-02</td>\n",
              "      <td>0</td>\n",
              "      <td>20s</td>\n",
              "      <td>1235</td>\n",
              "      <td>0</td>\n",
              "    </tr>\n",
              "    <tr>\n",
              "      <th>3</th>\n",
              "      <td>2020-03-02</td>\n",
              "      <td>0</td>\n",
              "      <td>30s</td>\n",
              "      <td>506</td>\n",
              "      <td>1</td>\n",
              "    </tr>\n",
              "    <tr>\n",
              "      <th>4</th>\n",
              "      <td>2020-03-02</td>\n",
              "      <td>0</td>\n",
              "      <td>40s</td>\n",
              "      <td>633</td>\n",
              "      <td>1</td>\n",
              "    </tr>\n",
              "    <tr>\n",
              "      <th>5</th>\n",
              "      <td>2020-03-02</td>\n",
              "      <td>0</td>\n",
              "      <td>50s</td>\n",
              "      <td>834</td>\n",
              "      <td>5</td>\n",
              "    </tr>\n",
              "    <tr>\n",
              "      <th>6</th>\n",
              "      <td>2020-03-02</td>\n",
              "      <td>0</td>\n",
              "      <td>60s</td>\n",
              "      <td>530</td>\n",
              "      <td>6</td>\n",
              "    </tr>\n",
              "    <tr>\n",
              "      <th>7</th>\n",
              "      <td>2020-03-02</td>\n",
              "      <td>0</td>\n",
              "      <td>70s</td>\n",
              "      <td>192</td>\n",
              "      <td>6</td>\n",
              "    </tr>\n",
              "    <tr>\n",
              "      <th>8</th>\n",
              "      <td>2020-03-02</td>\n",
              "      <td>0</td>\n",
              "      <td>80s</td>\n",
              "      <td>81</td>\n",
              "      <td>3</td>\n",
              "    </tr>\n",
              "    <tr>\n",
              "      <th>9</th>\n",
              "      <td>2020-03-03</td>\n",
              "      <td>0</td>\n",
              "      <td>0s</td>\n",
              "      <td>34</td>\n",
              "      <td>0</td>\n",
              "    </tr>\n",
              "    <tr>\n",
              "      <th>10</th>\n",
              "      <td>2020-03-03</td>\n",
              "      <td>0</td>\n",
              "      <td>10s</td>\n",
              "      <td>204</td>\n",
              "      <td>0</td>\n",
              "    </tr>\n",
              "    <tr>\n",
              "      <th>11</th>\n",
              "      <td>2020-03-03</td>\n",
              "      <td>0</td>\n",
              "      <td>20s</td>\n",
              "      <td>1417</td>\n",
              "      <td>0</td>\n",
              "    </tr>\n",
              "    <tr>\n",
              "      <th>12</th>\n",
              "      <td>2020-03-03</td>\n",
              "      <td>0</td>\n",
              "      <td>30s</td>\n",
              "      <td>578</td>\n",
              "      <td>1</td>\n",
              "    </tr>\n",
              "    <tr>\n",
              "      <th>13</th>\n",
              "      <td>2020-03-03</td>\n",
              "      <td>0</td>\n",
              "      <td>40s</td>\n",
              "      <td>713</td>\n",
              "      <td>1</td>\n",
              "    </tr>\n",
              "    <tr>\n",
              "      <th>14</th>\n",
              "      <td>2020-03-03</td>\n",
              "      <td>0</td>\n",
              "      <td>50s</td>\n",
              "      <td>952</td>\n",
              "      <td>5</td>\n",
              "    </tr>\n",
              "    <tr>\n",
              "      <th>15</th>\n",
              "      <td>2020-03-03</td>\n",
              "      <td>0</td>\n",
              "      <td>60s</td>\n",
              "      <td>597</td>\n",
              "      <td>7</td>\n",
              "    </tr>\n",
              "    <tr>\n",
              "      <th>16</th>\n",
              "      <td>2020-03-03</td>\n",
              "      <td>0</td>\n",
              "      <td>70s</td>\n",
              "      <td>224</td>\n",
              "      <td>9</td>\n",
              "    </tr>\n",
              "    <tr>\n",
              "      <th>17</th>\n",
              "      <td>2020-03-03</td>\n",
              "      <td>0</td>\n",
              "      <td>80s</td>\n",
              "      <td>93</td>\n",
              "      <td>5</td>\n",
              "    </tr>\n",
              "    <tr>\n",
              "      <th>18</th>\n",
              "      <td>2020-03-04</td>\n",
              "      <td>0</td>\n",
              "      <td>0s</td>\n",
              "      <td>34</td>\n",
              "      <td>0</td>\n",
              "    </tr>\n",
              "    <tr>\n",
              "      <th>19</th>\n",
              "      <td>2020-03-04</td>\n",
              "      <td>0</td>\n",
              "      <td>10s</td>\n",
              "      <td>233</td>\n",
              "      <td>0</td>\n",
              "    </tr>\n",
              "  </tbody>\n",
              "</table>\n",
              "</div>"
            ],
            "text/plain": [
              "          date  time  age  confirmed  deceased\n",
              "0   2020-03-02     0   0s         32         0\n",
              "1   2020-03-02     0  10s        169         0\n",
              "2   2020-03-02     0  20s       1235         0\n",
              "3   2020-03-02     0  30s        506         1\n",
              "4   2020-03-02     0  40s        633         1\n",
              "5   2020-03-02     0  50s        834         5\n",
              "6   2020-03-02     0  60s        530         6\n",
              "7   2020-03-02     0  70s        192         6\n",
              "8   2020-03-02     0  80s         81         3\n",
              "9   2020-03-03     0   0s         34         0\n",
              "10  2020-03-03     0  10s        204         0\n",
              "11  2020-03-03     0  20s       1417         0\n",
              "12  2020-03-03     0  30s        578         1\n",
              "13  2020-03-03     0  40s        713         1\n",
              "14  2020-03-03     0  50s        952         5\n",
              "15  2020-03-03     0  60s        597         7\n",
              "16  2020-03-03     0  70s        224         9\n",
              "17  2020-03-03     0  80s         93         5\n",
              "18  2020-03-04     0   0s         34         0\n",
              "19  2020-03-04     0  10s        233         0"
            ]
          },
          "metadata": {
            "tags": []
          },
          "execution_count": 46
        }
      ]
    },
    {
      "cell_type": "code",
      "metadata": {
        "id": "recWQly76EYH",
        "colab_type": "code",
        "outputId": "29cdbd50-ab86-4660-8e21-df03a4b60d18",
        "colab": {
          "base_uri": "https://localhost:8080/",
          "height": 204
        }
      },
      "source": [
        "df_time.head()"
      ],
      "execution_count": 47,
      "outputs": [
        {
          "output_type": "execute_result",
          "data": {
            "text/html": [
              "<div>\n",
              "<style scoped>\n",
              "    .dataframe tbody tr th:only-of-type {\n",
              "        vertical-align: middle;\n",
              "    }\n",
              "\n",
              "    .dataframe tbody tr th {\n",
              "        vertical-align: top;\n",
              "    }\n",
              "\n",
              "    .dataframe thead th {\n",
              "        text-align: right;\n",
              "    }\n",
              "</style>\n",
              "<table border=\"1\" class=\"dataframe\">\n",
              "  <thead>\n",
              "    <tr style=\"text-align: right;\">\n",
              "      <th></th>\n",
              "      <th>date</th>\n",
              "      <th>time</th>\n",
              "      <th>test</th>\n",
              "      <th>negative</th>\n",
              "      <th>confirmed</th>\n",
              "      <th>released</th>\n",
              "      <th>deceased</th>\n",
              "    </tr>\n",
              "  </thead>\n",
              "  <tbody>\n",
              "    <tr>\n",
              "      <th>0</th>\n",
              "      <td>2020-01-20</td>\n",
              "      <td>16</td>\n",
              "      <td>1</td>\n",
              "      <td>0</td>\n",
              "      <td>1</td>\n",
              "      <td>0</td>\n",
              "      <td>0</td>\n",
              "    </tr>\n",
              "    <tr>\n",
              "      <th>1</th>\n",
              "      <td>2020-01-21</td>\n",
              "      <td>16</td>\n",
              "      <td>1</td>\n",
              "      <td>0</td>\n",
              "      <td>1</td>\n",
              "      <td>0</td>\n",
              "      <td>0</td>\n",
              "    </tr>\n",
              "    <tr>\n",
              "      <th>2</th>\n",
              "      <td>2020-01-22</td>\n",
              "      <td>16</td>\n",
              "      <td>4</td>\n",
              "      <td>3</td>\n",
              "      <td>1</td>\n",
              "      <td>0</td>\n",
              "      <td>0</td>\n",
              "    </tr>\n",
              "    <tr>\n",
              "      <th>3</th>\n",
              "      <td>2020-01-23</td>\n",
              "      <td>16</td>\n",
              "      <td>22</td>\n",
              "      <td>21</td>\n",
              "      <td>1</td>\n",
              "      <td>0</td>\n",
              "      <td>0</td>\n",
              "    </tr>\n",
              "    <tr>\n",
              "      <th>4</th>\n",
              "      <td>2020-01-24</td>\n",
              "      <td>16</td>\n",
              "      <td>27</td>\n",
              "      <td>25</td>\n",
              "      <td>2</td>\n",
              "      <td>0</td>\n",
              "      <td>0</td>\n",
              "    </tr>\n",
              "  </tbody>\n",
              "</table>\n",
              "</div>"
            ],
            "text/plain": [
              "         date  time  test  negative  confirmed  released  deceased\n",
              "0  2020-01-20    16     1         0          1         0         0\n",
              "1  2020-01-21    16     1         0          1         0         0\n",
              "2  2020-01-22    16     4         3          1         0         0\n",
              "3  2020-01-23    16    22        21          1         0         0\n",
              "4  2020-01-24    16    27        25          2         0         0"
            ]
          },
          "metadata": {
            "tags": []
          },
          "execution_count": 47
        }
      ]
    },
    {
      "cell_type": "code",
      "metadata": {
        "id": "IOgOwfeYQSvp",
        "colab_type": "code",
        "outputId": "e40045ed-1c50-4272-9ffc-66d2b346ae03",
        "colab": {
          "base_uri": "https://localhost:8080/",
          "height": 153
        }
      },
      "source": [
        "df_time.isnull().sum()"
      ],
      "execution_count": 48,
      "outputs": [
        {
          "output_type": "execute_result",
          "data": {
            "text/plain": [
              "date         0\n",
              "time         0\n",
              "test         0\n",
              "negative     0\n",
              "confirmed    0\n",
              "released     0\n",
              "deceased     0\n",
              "dtype: int64"
            ]
          },
          "metadata": {
            "tags": []
          },
          "execution_count": 48
        }
      ]
    },
    {
      "cell_type": "code",
      "metadata": {
        "id": "FxtYfp_v6Edg",
        "colab_type": "code",
        "outputId": "b73cd3b7-0463-4c7b-c7f2-346fae16ffd5",
        "colab": {
          "base_uri": "https://localhost:8080/",
          "height": 204
        }
      },
      "source": [
        "df_timegender.head()"
      ],
      "execution_count": 49,
      "outputs": [
        {
          "output_type": "execute_result",
          "data": {
            "text/html": [
              "<div>\n",
              "<style scoped>\n",
              "    .dataframe tbody tr th:only-of-type {\n",
              "        vertical-align: middle;\n",
              "    }\n",
              "\n",
              "    .dataframe tbody tr th {\n",
              "        vertical-align: top;\n",
              "    }\n",
              "\n",
              "    .dataframe thead th {\n",
              "        text-align: right;\n",
              "    }\n",
              "</style>\n",
              "<table border=\"1\" class=\"dataframe\">\n",
              "  <thead>\n",
              "    <tr style=\"text-align: right;\">\n",
              "      <th></th>\n",
              "      <th>date</th>\n",
              "      <th>time</th>\n",
              "      <th>sex</th>\n",
              "      <th>confirmed</th>\n",
              "      <th>deceased</th>\n",
              "    </tr>\n",
              "  </thead>\n",
              "  <tbody>\n",
              "    <tr>\n",
              "      <th>0</th>\n",
              "      <td>2020-03-02</td>\n",
              "      <td>0</td>\n",
              "      <td>male</td>\n",
              "      <td>1591</td>\n",
              "      <td>13</td>\n",
              "    </tr>\n",
              "    <tr>\n",
              "      <th>1</th>\n",
              "      <td>2020-03-02</td>\n",
              "      <td>0</td>\n",
              "      <td>female</td>\n",
              "      <td>2621</td>\n",
              "      <td>9</td>\n",
              "    </tr>\n",
              "    <tr>\n",
              "      <th>2</th>\n",
              "      <td>2020-03-03</td>\n",
              "      <td>0</td>\n",
              "      <td>male</td>\n",
              "      <td>1810</td>\n",
              "      <td>16</td>\n",
              "    </tr>\n",
              "    <tr>\n",
              "      <th>3</th>\n",
              "      <td>2020-03-03</td>\n",
              "      <td>0</td>\n",
              "      <td>female</td>\n",
              "      <td>3002</td>\n",
              "      <td>12</td>\n",
              "    </tr>\n",
              "    <tr>\n",
              "      <th>4</th>\n",
              "      <td>2020-03-04</td>\n",
              "      <td>0</td>\n",
              "      <td>male</td>\n",
              "      <td>1996</td>\n",
              "      <td>20</td>\n",
              "    </tr>\n",
              "  </tbody>\n",
              "</table>\n",
              "</div>"
            ],
            "text/plain": [
              "         date  time     sex  confirmed  deceased\n",
              "0  2020-03-02     0    male       1591        13\n",
              "1  2020-03-02     0  female       2621         9\n",
              "2  2020-03-03     0    male       1810        16\n",
              "3  2020-03-03     0  female       3002        12\n",
              "4  2020-03-04     0    male       1996        20"
            ]
          },
          "metadata": {
            "tags": []
          },
          "execution_count": 49
        }
      ]
    },
    {
      "cell_type": "code",
      "metadata": {
        "id": "UD6llWqoQVsf",
        "colab_type": "code",
        "outputId": "cfc64481-e59d-4907-f187-7b5049cb922a",
        "colab": {
          "base_uri": "https://localhost:8080/",
          "height": 119
        }
      },
      "source": [
        "df_timegender.isnull().sum()"
      ],
      "execution_count": 50,
      "outputs": [
        {
          "output_type": "execute_result",
          "data": {
            "text/plain": [
              "date         0\n",
              "time         0\n",
              "sex          0\n",
              "confirmed    0\n",
              "deceased     0\n",
              "dtype: int64"
            ]
          },
          "metadata": {
            "tags": []
          },
          "execution_count": 50
        }
      ]
    },
    {
      "cell_type": "code",
      "metadata": {
        "id": "KieLh6XK6VVV",
        "colab_type": "code",
        "outputId": "3c47f485-ec4b-49df-e16c-b725d24e7942",
        "colab": {
          "base_uri": "https://localhost:8080/",
          "height": 204
        }
      },
      "source": [
        "df_timeprovince.head()"
      ],
      "execution_count": 51,
      "outputs": [
        {
          "output_type": "execute_result",
          "data": {
            "text/html": [
              "<div>\n",
              "<style scoped>\n",
              "    .dataframe tbody tr th:only-of-type {\n",
              "        vertical-align: middle;\n",
              "    }\n",
              "\n",
              "    .dataframe tbody tr th {\n",
              "        vertical-align: top;\n",
              "    }\n",
              "\n",
              "    .dataframe thead th {\n",
              "        text-align: right;\n",
              "    }\n",
              "</style>\n",
              "<table border=\"1\" class=\"dataframe\">\n",
              "  <thead>\n",
              "    <tr style=\"text-align: right;\">\n",
              "      <th></th>\n",
              "      <th>date</th>\n",
              "      <th>time</th>\n",
              "      <th>province</th>\n",
              "      <th>confirmed</th>\n",
              "      <th>released</th>\n",
              "      <th>deceased</th>\n",
              "    </tr>\n",
              "  </thead>\n",
              "  <tbody>\n",
              "    <tr>\n",
              "      <th>0</th>\n",
              "      <td>2020-01-20</td>\n",
              "      <td>16</td>\n",
              "      <td>Seoul</td>\n",
              "      <td>0</td>\n",
              "      <td>0</td>\n",
              "      <td>0</td>\n",
              "    </tr>\n",
              "    <tr>\n",
              "      <th>1</th>\n",
              "      <td>2020-01-20</td>\n",
              "      <td>16</td>\n",
              "      <td>Busan</td>\n",
              "      <td>0</td>\n",
              "      <td>0</td>\n",
              "      <td>0</td>\n",
              "    </tr>\n",
              "    <tr>\n",
              "      <th>2</th>\n",
              "      <td>2020-01-20</td>\n",
              "      <td>16</td>\n",
              "      <td>Daegu</td>\n",
              "      <td>0</td>\n",
              "      <td>0</td>\n",
              "      <td>0</td>\n",
              "    </tr>\n",
              "    <tr>\n",
              "      <th>3</th>\n",
              "      <td>2020-01-20</td>\n",
              "      <td>16</td>\n",
              "      <td>Incheon</td>\n",
              "      <td>1</td>\n",
              "      <td>0</td>\n",
              "      <td>0</td>\n",
              "    </tr>\n",
              "    <tr>\n",
              "      <th>4</th>\n",
              "      <td>2020-01-20</td>\n",
              "      <td>16</td>\n",
              "      <td>Gwangju</td>\n",
              "      <td>0</td>\n",
              "      <td>0</td>\n",
              "      <td>0</td>\n",
              "    </tr>\n",
              "  </tbody>\n",
              "</table>\n",
              "</div>"
            ],
            "text/plain": [
              "         date  time province  confirmed  released  deceased\n",
              "0  2020-01-20    16    Seoul          0         0         0\n",
              "1  2020-01-20    16    Busan          0         0         0\n",
              "2  2020-01-20    16    Daegu          0         0         0\n",
              "3  2020-01-20    16  Incheon          1         0         0\n",
              "4  2020-01-20    16  Gwangju          0         0         0"
            ]
          },
          "metadata": {
            "tags": []
          },
          "execution_count": 51
        }
      ]
    },
    {
      "cell_type": "code",
      "metadata": {
        "id": "dtXRl3JVQYu2",
        "colab_type": "code",
        "outputId": "a261a9a6-1b53-4af4-f036-e918021b351f",
        "colab": {
          "base_uri": "https://localhost:8080/",
          "height": 136
        }
      },
      "source": [
        "df_timeprovince.isnull().sum()"
      ],
      "execution_count": 52,
      "outputs": [
        {
          "output_type": "execute_result",
          "data": {
            "text/plain": [
              "date         0\n",
              "time         0\n",
              "province     0\n",
              "confirmed    0\n",
              "released     0\n",
              "deceased     0\n",
              "dtype: int64"
            ]
          },
          "metadata": {
            "tags": []
          },
          "execution_count": 52
        }
      ]
    },
    {
      "cell_type": "code",
      "metadata": {
        "id": "ppotu2XKLZ-8",
        "colab_type": "code",
        "outputId": "059663a5-76fb-4bf5-bd1d-a7455f6c7bad",
        "colab": {
          "base_uri": "https://localhost:8080/",
          "height": 34
        }
      },
      "source": [
        "df_timeprovince['province'].count()"
      ],
      "execution_count": 53,
      "outputs": [
        {
          "output_type": "execute_result",
          "data": {
            "text/plain": [
              "1054"
            ]
          },
          "metadata": {
            "tags": []
          },
          "execution_count": 53
        }
      ]
    },
    {
      "cell_type": "code",
      "metadata": {
        "id": "ZtTMC5F96VYO",
        "colab_type": "code",
        "outputId": "6fdeee8e-1cf5-41ab-c880-aa53d3e3f75e",
        "colab": {
          "base_uri": "https://localhost:8080/",
          "height": 204
        }
      },
      "source": [
        "df_weather.head()"
      ],
      "execution_count": 54,
      "outputs": [
        {
          "output_type": "execute_result",
          "data": {
            "text/html": [
              "<div>\n",
              "<style scoped>\n",
              "    .dataframe tbody tr th:only-of-type {\n",
              "        vertical-align: middle;\n",
              "    }\n",
              "\n",
              "    .dataframe tbody tr th {\n",
              "        vertical-align: top;\n",
              "    }\n",
              "\n",
              "    .dataframe thead th {\n",
              "        text-align: right;\n",
              "    }\n",
              "</style>\n",
              "<table border=\"1\" class=\"dataframe\">\n",
              "  <thead>\n",
              "    <tr style=\"text-align: right;\">\n",
              "      <th></th>\n",
              "      <th>code</th>\n",
              "      <th>province</th>\n",
              "      <th>date</th>\n",
              "      <th>avg_temp</th>\n",
              "      <th>min_temp</th>\n",
              "      <th>max_temp</th>\n",
              "      <th>precipitation</th>\n",
              "      <th>max_wind_speed</th>\n",
              "      <th>most_wind_direction</th>\n",
              "      <th>avg_relative_humidity</th>\n",
              "    </tr>\n",
              "  </thead>\n",
              "  <tbody>\n",
              "    <tr>\n",
              "      <th>0</th>\n",
              "      <td>10000</td>\n",
              "      <td>Seoul</td>\n",
              "      <td>2016-03-17</td>\n",
              "      <td>9.3</td>\n",
              "      <td>2.0</td>\n",
              "      <td>14.7</td>\n",
              "      <td>0.0</td>\n",
              "      <td>3.2</td>\n",
              "      <td>70.0</td>\n",
              "      <td>40.9</td>\n",
              "    </tr>\n",
              "    <tr>\n",
              "      <th>1</th>\n",
              "      <td>10000</td>\n",
              "      <td>Seoul</td>\n",
              "      <td>2016-03-18</td>\n",
              "      <td>13.4</td>\n",
              "      <td>8.8</td>\n",
              "      <td>20.1</td>\n",
              "      <td>0.0</td>\n",
              "      <td>5.0</td>\n",
              "      <td>110.0</td>\n",
              "      <td>50.0</td>\n",
              "    </tr>\n",
              "    <tr>\n",
              "      <th>2</th>\n",
              "      <td>10000</td>\n",
              "      <td>Seoul</td>\n",
              "      <td>2016-03-19</td>\n",
              "      <td>11.4</td>\n",
              "      <td>6.6</td>\n",
              "      <td>18.1</td>\n",
              "      <td>0.0</td>\n",
              "      <td>4.8</td>\n",
              "      <td>320.0</td>\n",
              "      <td>58.3</td>\n",
              "    </tr>\n",
              "    <tr>\n",
              "      <th>3</th>\n",
              "      <td>10000</td>\n",
              "      <td>Seoul</td>\n",
              "      <td>2016-03-20</td>\n",
              "      <td>10.6</td>\n",
              "      <td>4.9</td>\n",
              "      <td>17.5</td>\n",
              "      <td>0.0</td>\n",
              "      <td>4.6</td>\n",
              "      <td>320.0</td>\n",
              "      <td>54.0</td>\n",
              "    </tr>\n",
              "    <tr>\n",
              "      <th>4</th>\n",
              "      <td>10000</td>\n",
              "      <td>Seoul</td>\n",
              "      <td>2016-03-21</td>\n",
              "      <td>9.9</td>\n",
              "      <td>5.5</td>\n",
              "      <td>16.1</td>\n",
              "      <td>0.0</td>\n",
              "      <td>5.4</td>\n",
              "      <td>320.0</td>\n",
              "      <td>54.1</td>\n",
              "    </tr>\n",
              "  </tbody>\n",
              "</table>\n",
              "</div>"
            ],
            "text/plain": [
              "    code province  ... most_wind_direction  avg_relative_humidity\n",
              "0  10000    Seoul  ...                70.0                   40.9\n",
              "1  10000    Seoul  ...               110.0                   50.0\n",
              "2  10000    Seoul  ...               320.0                   58.3\n",
              "3  10000    Seoul  ...               320.0                   54.0\n",
              "4  10000    Seoul  ...               320.0                   54.1\n",
              "\n",
              "[5 rows x 10 columns]"
            ]
          },
          "metadata": {
            "tags": []
          },
          "execution_count": 54
        }
      ]
    },
    {
      "cell_type": "code",
      "metadata": {
        "id": "0TYGy7SP6VbV",
        "colab_type": "code",
        "outputId": "b3598924-1155-4420-b051-511c6e52e6b5",
        "colab": {
          "base_uri": "https://localhost:8080/",
          "height": 204
        }
      },
      "source": [
        "df_weather.isnull().sum()"
      ],
      "execution_count": 55,
      "outputs": [
        {
          "output_type": "execute_result",
          "data": {
            "text/plain": [
              "code                      0\n",
              "province                  0\n",
              "date                      0\n",
              "avg_temp                 15\n",
              "min_temp                  5\n",
              "max_temp                  3\n",
              "precipitation             0\n",
              "max_wind_speed            9\n",
              "most_wind_direction      29\n",
              "avg_relative_humidity    20\n",
              "dtype: int64"
            ]
          },
          "metadata": {
            "tags": []
          },
          "execution_count": 55
        }
      ]
    },
    {
      "cell_type": "code",
      "metadata": {
        "id": "xC1mHBCTajEb",
        "colab_type": "code",
        "outputId": "37ad87e7-771d-4784-f3d3-c8eb344e2b2d",
        "colab": {
          "base_uri": "https://localhost:8080/",
          "height": 34
        }
      },
      "source": [
        "df_patientinfo.shape"
      ],
      "execution_count": 56,
      "outputs": [
        {
          "output_type": "execute_result",
          "data": {
            "text/plain": [
              "(2243, 18)"
            ]
          },
          "metadata": {
            "tags": []
          },
          "execution_count": 56
        }
      ]
    },
    {
      "cell_type": "code",
      "metadata": {
        "id": "66AZLDWIajMI",
        "colab_type": "code",
        "outputId": "7bdfca4d-ea36-4fc8-c42d-660b86b184d4",
        "colab": {
          "base_uri": "https://localhost:8080/",
          "height": 34
        }
      },
      "source": [
        "df_patientroute.shape"
      ],
      "execution_count": 57,
      "outputs": [
        {
          "output_type": "execute_result",
          "data": {
            "text/plain": [
              "(175, 8)"
            ]
          },
          "metadata": {
            "tags": []
          },
          "execution_count": 57
        }
      ]
    },
    {
      "cell_type": "code",
      "metadata": {
        "id": "uYXbBRpNf8Ke",
        "colab_type": "code",
        "outputId": "9022bf54-b0aa-47a5-894b-05406063b1c7",
        "colab": {
          "base_uri": "https://localhost:8080/",
          "height": 34
        }
      },
      "source": [
        "df_casef.shape"
      ],
      "execution_count": 58,
      "outputs": [
        {
          "output_type": "execute_result",
          "data": {
            "text/plain": [
              "(29, 9)"
            ]
          },
          "metadata": {
            "tags": []
          },
          "execution_count": 58
        }
      ]
    },
    {
      "cell_type": "markdown",
      "metadata": {
        "id": "MCpR6Fc8dg0B",
        "colab_type": "text"
      },
      "source": [
        "Let's focus on optimizing placement of officials to handle the most cases by finding the nearest centroid in relationship to case number."
      ]
    },
    {
      "cell_type": "code",
      "metadata": {
        "id": "V2gu06s3ajYy",
        "colab_type": "code",
        "colab": {}
      },
      "source": [
        "from sklearn.neighbors import NearestCentroid"
      ],
      "execution_count": 0,
      "outputs": []
    },
    {
      "cell_type": "code",
      "metadata": {
        "id": "-cTWTrRUcnoq",
        "colab_type": "code",
        "outputId": "0ed3c1e2-f6d7-4b77-ff6c-35ad4fd26297",
        "colab": {
          "base_uri": "https://localhost:8080/",
          "height": 948
        }
      },
      "source": [
        "X=pd.concat([df_casef['longitude'], df_casef['latitude']], axis=1)\n",
        "X"
      ],
      "execution_count": 60,
      "outputs": [
        {
          "output_type": "execute_result",
          "data": {
            "text/html": [
              "<div>\n",
              "<style scoped>\n",
              "    .dataframe tbody tr th:only-of-type {\n",
              "        vertical-align: middle;\n",
              "    }\n",
              "\n",
              "    .dataframe tbody tr th {\n",
              "        vertical-align: top;\n",
              "    }\n",
              "\n",
              "    .dataframe thead th {\n",
              "        text-align: right;\n",
              "    }\n",
              "</style>\n",
              "<table border=\"1\" class=\"dataframe\">\n",
              "  <thead>\n",
              "    <tr style=\"text-align: right;\">\n",
              "      <th></th>\n",
              "      <th>longitude</th>\n",
              "      <th>latitude</th>\n",
              "    </tr>\n",
              "  </thead>\n",
              "  <tbody>\n",
              "    <tr>\n",
              "      <th>0</th>\n",
              "      <td>126.884387</td>\n",
              "      <td>37.508163</td>\n",
              "    </tr>\n",
              "    <tr>\n",
              "      <th>1</th>\n",
              "      <td>127.056766</td>\n",
              "      <td>37.592888</td>\n",
              "    </tr>\n",
              "    <tr>\n",
              "      <th>2</th>\n",
              "      <td>126.9165</td>\n",
              "      <td>37.63369</td>\n",
              "    </tr>\n",
              "    <tr>\n",
              "      <th>3</th>\n",
              "      <td>127.0403</td>\n",
              "      <td>37.55713</td>\n",
              "    </tr>\n",
              "    <tr>\n",
              "      <th>4</th>\n",
              "      <td>127.006</td>\n",
              "      <td>37.57681</td>\n",
              "    </tr>\n",
              "    <tr>\n",
              "      <th>5</th>\n",
              "      <td>126.984377</td>\n",
              "      <td>37.562405</td>\n",
              "    </tr>\n",
              "    <tr>\n",
              "      <th>8</th>\n",
              "      <td>129.0771</td>\n",
              "      <td>35.21628</td>\n",
              "    </tr>\n",
              "    <tr>\n",
              "      <th>10</th>\n",
              "      <td>129.1124</td>\n",
              "      <td>35.16708</td>\n",
              "    </tr>\n",
              "    <tr>\n",
              "      <th>11</th>\n",
              "      <td>129.1256</td>\n",
              "      <td>35.20599</td>\n",
              "    </tr>\n",
              "    <tr>\n",
              "      <th>12</th>\n",
              "      <td>129.0633</td>\n",
              "      <td>35.17371</td>\n",
              "    </tr>\n",
              "    <tr>\n",
              "      <th>15</th>\n",
              "      <td>128.5667</td>\n",
              "      <td>35.84008</td>\n",
              "    </tr>\n",
              "    <tr>\n",
              "      <th>35</th>\n",
              "      <td>127.265172</td>\n",
              "      <td>36.504713</td>\n",
              "    </tr>\n",
              "    <tr>\n",
              "      <th>36</th>\n",
              "      <td>127.289</td>\n",
              "      <td>36.48025</td>\n",
              "    </tr>\n",
              "    <tr>\n",
              "      <th>41</th>\n",
              "      <td>127.1218</td>\n",
              "      <td>37.38833</td>\n",
              "    </tr>\n",
              "    <tr>\n",
              "      <th>42</th>\n",
              "      <td>127.161627</td>\n",
              "      <td>37.455687</td>\n",
              "    </tr>\n",
              "    <tr>\n",
              "      <th>43</th>\n",
              "      <td>127.0517</td>\n",
              "      <td>37.2376</td>\n",
              "    </tr>\n",
              "    <tr>\n",
              "      <th>50</th>\n",
              "      <td>127.9552</td>\n",
              "      <td>36.82422</td>\n",
              "    </tr>\n",
              "    <tr>\n",
              "      <th>53</th>\n",
              "      <td>127.1139</td>\n",
              "      <td>36.81503</td>\n",
              "    </tr>\n",
              "    <tr>\n",
              "      <th>54</th>\n",
              "      <td>126.354443</td>\n",
              "      <td>37.000354</td>\n",
              "    </tr>\n",
              "    <tr>\n",
              "      <th>65</th>\n",
              "      <td>128.7368</td>\n",
              "      <td>35.64887</td>\n",
              "    </tr>\n",
              "    <tr>\n",
              "      <th>66</th>\n",
              "      <td>128.9099</td>\n",
              "      <td>36.92757</td>\n",
              "    </tr>\n",
              "    <tr>\n",
              "      <th>68</th>\n",
              "      <td>128.4941</td>\n",
              "      <td>36.0581</td>\n",
              "    </tr>\n",
              "    <tr>\n",
              "      <th>69</th>\n",
              "      <td>128.801498</td>\n",
              "      <td>35.782149</td>\n",
              "    </tr>\n",
              "    <tr>\n",
              "      <th>70</th>\n",
              "      <td>128.7621</td>\n",
              "      <td>35.84819</td>\n",
              "    </tr>\n",
              "    <tr>\n",
              "      <th>71</th>\n",
              "      <td>128.7373</td>\n",
              "      <td>35.82558</td>\n",
              "    </tr>\n",
              "    <tr>\n",
              "      <th>74</th>\n",
              "      <td>127.9127</td>\n",
              "      <td>35.68556</td>\n",
              "    </tr>\n",
              "    <tr>\n",
              "      <th>75</th>\n",
              "      <td>127.917805</td>\n",
              "      <td>35.805681</td>\n",
              "    </tr>\n",
              "    <tr>\n",
              "      <th>76</th>\n",
              "      <td>128.6866</td>\n",
              "      <td>35.22115</td>\n",
              "    </tr>\n",
              "    <tr>\n",
              "      <th>77</th>\n",
              "      <td>128.5008</td>\n",
              "      <td>35.54127</td>\n",
              "    </tr>\n",
              "  </tbody>\n",
              "</table>\n",
              "</div>"
            ],
            "text/plain": [
              "     longitude   latitude\n",
              "0   126.884387  37.508163\n",
              "1   127.056766  37.592888\n",
              "2     126.9165   37.63369\n",
              "3     127.0403   37.55713\n",
              "4      127.006   37.57681\n",
              "5   126.984377  37.562405\n",
              "8     129.0771   35.21628\n",
              "10    129.1124   35.16708\n",
              "11    129.1256   35.20599\n",
              "12    129.0633   35.17371\n",
              "15    128.5667   35.84008\n",
              "35  127.265172  36.504713\n",
              "36     127.289   36.48025\n",
              "41    127.1218   37.38833\n",
              "42  127.161627  37.455687\n",
              "43    127.0517    37.2376\n",
              "50    127.9552   36.82422\n",
              "53    127.1139   36.81503\n",
              "54  126.354443  37.000354\n",
              "65    128.7368   35.64887\n",
              "66    128.9099   36.92757\n",
              "68    128.4941    36.0581\n",
              "69  128.801498  35.782149\n",
              "70    128.7621   35.84819\n",
              "71    128.7373   35.82558\n",
              "74    127.9127   35.68556\n",
              "75  127.917805  35.805681\n",
              "76    128.6866   35.22115\n",
              "77    128.5008   35.54127"
            ]
          },
          "metadata": {
            "tags": []
          },
          "execution_count": 60
        }
      ]
    },
    {
      "cell_type": "code",
      "metadata": {
        "id": "1HHLVsfxiFOR",
        "colab_type": "code",
        "outputId": "1019eecf-2566-4cc0-b7c4-0fb32fb87111",
        "colab": {
          "base_uri": "https://localhost:8080/",
          "height": 34
        }
      },
      "source": [
        "X.shape"
      ],
      "execution_count": 61,
      "outputs": [
        {
          "output_type": "execute_result",
          "data": {
            "text/plain": [
              "(29, 2)"
            ]
          },
          "metadata": {
            "tags": []
          },
          "execution_count": 61
        }
      ]
    },
    {
      "cell_type": "code",
      "metadata": {
        "id": "Upt3PHidgK0A",
        "colab_type": "code",
        "outputId": "342240d4-d22e-4ba2-bb56-e221b1ddfe00",
        "colab": {
          "base_uri": "https://localhost:8080/",
          "height": 527
        }
      },
      "source": [
        "y= df_casef['confirmed']\n",
        "y"
      ],
      "execution_count": 62,
      "outputs": [
        {
          "output_type": "execute_result",
          "data": {
            "text/plain": [
              "0       79\n",
              "1       24\n",
              "2       14\n",
              "3       13\n",
              "4       10\n",
              "5        7\n",
              "8       34\n",
              "10       6\n",
              "11       6\n",
              "12       4\n",
              "15    4359\n",
              "35      28\n",
              "36       8\n",
              "41      22\n",
              "42      19\n",
              "43      10\n",
              "50      11\n",
              "53     104\n",
              "54       8\n",
              "65     119\n",
              "66      58\n",
              "68      25\n",
              "69      22\n",
              "70      17\n",
              "71      16\n",
              "74      10\n",
              "75       8\n",
              "76       7\n",
              "77       7\n",
              "Name: confirmed, dtype: int64"
            ]
          },
          "metadata": {
            "tags": []
          },
          "execution_count": 62
        }
      ]
    },
    {
      "cell_type": "code",
      "metadata": {
        "id": "Ks8mJqosgK5N",
        "colab_type": "code",
        "outputId": "9d9d567b-5027-4e5e-eb01-327e1cc564a0",
        "colab": {
          "base_uri": "https://localhost:8080/",
          "height": 68
        }
      },
      "source": [
        "clf=KNeighborsClassifier(metric='haversine')\n",
        "clf.fit(X, y)"
      ],
      "execution_count": 63,
      "outputs": [
        {
          "output_type": "execute_result",
          "data": {
            "text/plain": [
              "KNeighborsClassifier(algorithm='auto', leaf_size=30, metric='haversine',\n",
              "                     metric_params=None, n_jobs=None, n_neighbors=5, p=2,\n",
              "                     weights='uniform')"
            ]
          },
          "metadata": {
            "tags": []
          },
          "execution_count": 63
        }
      ]
    },
    {
      "cell_type": "code",
      "metadata": {
        "id": "tX2x6HuocnxO",
        "colab_type": "code",
        "outputId": "2dadd04e-124f-43f1-f468-3b4ee0f73baf",
        "colab": {
          "base_uri": "https://localhost:8080/",
          "height": 34
        }
      },
      "source": [
        "clf.predict([[126.884387,37.508163]])"
      ],
      "execution_count": 64,
      "outputs": [
        {
          "output_type": "execute_result",
          "data": {
            "text/plain": [
              "array([7])"
            ]
          },
          "metadata": {
            "tags": []
          },
          "execution_count": 64
        }
      ]
    },
    {
      "cell_type": "code",
      "metadata": {
        "id": "HDtDp9EmGuIa",
        "colab_type": "code",
        "outputId": "df50c130-c2cc-44a3-f81b-56a1ccfecd08",
        "colab": {
          "base_uri": "https://localhost:8080/",
          "height": 34
        }
      },
      "source": [
        "clf.predict([[126, 36]])"
      ],
      "execution_count": 65,
      "outputs": [
        {
          "output_type": "execute_result",
          "data": {
            "text/plain": [
              "array([8])"
            ]
          },
          "metadata": {
            "tags": []
          },
          "execution_count": 65
        }
      ]
    },
    {
      "cell_type": "code",
      "metadata": {
        "id": "YLYOzIKLnYS7",
        "colab_type": "code",
        "colab": {}
      },
      "source": [
        ""
      ],
      "execution_count": 0,
      "outputs": []
    },
    {
      "cell_type": "code",
      "metadata": {
        "id": "iLnhY2rUnYY9",
        "colab_type": "code",
        "colab": {}
      },
      "source": [
        ""
      ],
      "execution_count": 0,
      "outputs": []
    },
    {
      "cell_type": "code",
      "metadata": {
        "id": "iqKfLVb7VF-q",
        "colab_type": "code",
        "outputId": "f11fa216-3479-4e83-aeec-53ad4d7ff539",
        "colab": {
          "base_uri": "https://localhost:8080/",
          "height": 282
        }
      },
      "source": [
        "Xf=gdf_patientroutef\n",
        "Xf.plot()"
      ],
      "execution_count": 66,
      "outputs": [
        {
          "output_type": "execute_result",
          "data": {
            "text/plain": [
              "<matplotlib.axes._subplots.AxesSubplot at 0x7f3c7448f438>"
            ]
          },
          "metadata": {
            "tags": []
          },
          "execution_count": 66
        },
        {
          "output_type": "display_data",
          "data": {
            "image/png": "[encoded data removed]",
            "text/plain": [
              "<Figure size 432x288 with 1 Axes>"
            ]
          },
          "metadata": {
            "tags": []
          }
        }
      ]
    },
    {
      "cell_type": "code",
      "metadata": {
        "id": "nXpZShFyIvtY",
        "colab_type": "code",
        "outputId": "de3c932f-d10f-4526-f3a7-606eaf197248",
        "colab": {
          "base_uri": "https://localhost:8080/",
          "height": 282
        }
      },
      "source": [
        "yf= gdf_casef\n",
        "yf.plot()"
      ],
      "execution_count": 67,
      "outputs": [
        {
          "output_type": "execute_result",
          "data": {
            "text/plain": [
              "<matplotlib.axes._subplots.AxesSubplot at 0x7f3c7445ffd0>"
            ]
          },
          "metadata": {
            "tags": []
          },
          "execution_count": 67
        },
        {
          "output_type": "display_data",
          "data": {
            "image/png": "[encoded data removed]",
            "text/plain": [
              "<Figure size 432x288 with 1 Axes>"
            ]
          },
          "metadata": {
            "tags": []
          }
        }
      ]
    },
    {
      "cell_type": "code",
      "metadata": {
        "id": "2vNuHPWtI1y9",
        "colab_type": "code",
        "colab": {}
      },
      "source": [
        "def get_nearest_values(row, other_gdf, point_column='geometry', value_column=\"geometry\"):\n",
        "    \"\"\"Find the nearest point and return the corresponding value from specified value column.\"\"\"\n",
        "\n",
        "    # Create an union of the other GeoDataFrame's geometries:\n",
        "    other_points = other_gdf[\"geometry\"].unary_union\n",
        "\n",
        "    # Find the nearest points (uses euclidean geometry)\n",
        "    nearest_geoms = nearest_points(row[point_column], other_points)\n",
        "\n",
        "    # Get corresponding values from the other df\n",
        "    nearest_data = other_gdf.loc[other_gdf[\"geometry\"] == nearest_geoms[1]]\n",
        "\n",
        "    nearest_location = nearest_data[value_column].to_numpy()[0]\n",
        "\n",
        "    return nearest_location"
      ],
      "execution_count": 0,
      "outputs": []
    },
    {
      "cell_type": "code",
      "metadata": {
        "id": "famhS3G6NQ5M",
        "colab_type": "code",
        "outputId": "c9fb59f8-f683-4ed4-f32f-664f6b3cac01",
        "colab": {
          "base_uri": "https://localhost:8080/",
          "height": 54
        }
      },
      "source": [
        "unary_union = yf.unary_union\n",
        "print(unary_union)"
      ],
      "execution_count": 69,
      "outputs": [
        {
          "output_type": "stream",
          "text": [
            "MULTIPOINT (126.354443 37.00035399999999, 126.884387 37.508163, 126.9165 37.63369, 126.984377 37.562405, 127.006 37.57680999999999, 127.0403 37.55713, 127.0517 37.2376, 127.056766 37.592888, 127.1139 36.81503, 127.1218 37.38833, 127.161627 37.455687, 127.265172 36.504713, 127.289 36.48025, 127.9127 35.68556, 127.917805 35.805681, 127.9552 36.82422, 128.4941 36.0581, 128.5008 35.54127, 128.5667 35.84008, 128.6866 35.22115, 128.7368 35.64887, 128.7373 35.82558, 128.7621 35.84819, 128.801498 35.782149, 128.9099 36.92757, 129.0633 35.17371, 129.0771 35.21628, 129.1124 35.16708, 129.1256 35.20599)\n"
          ],
          "name": "stdout"
        }
      ]
    },
    {
      "cell_type": "code",
      "metadata": {
        "id": "6VGbYwS4bJtB",
        "colab_type": "code",
        "colab": {}
      },
      "source": [
        "Xf[\"nearest_epicenter\"] = Xf.apply(get_nearest_values, other_gdf=yf, point_column='geometry', value_column='geometry', axis=1)"
      ],
      "execution_count": 0,
      "outputs": []
    },
    {
      "cell_type": "code",
      "metadata": {
        "colab_type": "code",
        "id": "1wr-uCuMi8Zb",
        "colab": {}
      },
      "source": [
        "Xf[\"nearest_epicenter_id\"] = Xf.apply(get_nearest_values, other_gdf=yf, point_column='geometry', value_column='case_id', axis=1)"
      ],
      "execution_count": 0,
      "outputs": []
    },
    {
      "cell_type": "code",
      "metadata": {
        "id": "47mDwd_Hr1-f",
        "colab_type": "code",
        "outputId": "7b762830-343c-4e32-ff53-11c09c991695",
        "colab": {
          "base_uri": "https://localhost:8080/",
          "height": 419
        }
      },
      "source": [
        "Xf"
      ],
      "execution_count": 72,
      "outputs": [
        {
          "output_type": "execute_result",
          "data": {
            "text/html": [
              "<div>\n",
              "<style scoped>\n",
              "    .dataframe tbody tr th:only-of-type {\n",
              "        vertical-align: middle;\n",
              "    }\n",
              "\n",
              "    .dataframe tbody tr th {\n",
              "        vertical-align: top;\n",
              "    }\n",
              "\n",
              "    .dataframe thead th {\n",
              "        text-align: right;\n",
              "    }\n",
              "</style>\n",
              "<table border=\"1\" class=\"dataframe\">\n",
              "  <thead>\n",
              "    <tr style=\"text-align: right;\">\n",
              "      <th></th>\n",
              "      <th>patient_id</th>\n",
              "      <th>global_num</th>\n",
              "      <th>date</th>\n",
              "      <th>province</th>\n",
              "      <th>city</th>\n",
              "      <th>latitude</th>\n",
              "      <th>longitude</th>\n",
              "      <th>geometry</th>\n",
              "      <th>nearest_epicenter</th>\n",
              "      <th>nearest_epicenter_id</th>\n",
              "    </tr>\n",
              "  </thead>\n",
              "  <tbody>\n",
              "    <tr>\n",
              "      <th>0</th>\n",
              "      <td>1400000001</td>\n",
              "      <td>1</td>\n",
              "      <td>2020-01-19</td>\n",
              "      <td>Incheon</td>\n",
              "      <td>Jung-gu</td>\n",
              "      <td>37.460459</td>\n",
              "      <td>126.440680</td>\n",
              "      <td>POINT (126.44068 37.46046)</td>\n",
              "      <td>POINT (126.884387 37.508163)</td>\n",
              "      <td>1000001</td>\n",
              "    </tr>\n",
              "    <tr>\n",
              "      <th>1</th>\n",
              "      <td>1400000001</td>\n",
              "      <td>1</td>\n",
              "      <td>2020-01-20</td>\n",
              "      <td>Incheon</td>\n",
              "      <td>Seo-gu</td>\n",
              "      <td>37.478832</td>\n",
              "      <td>126.668558</td>\n",
              "      <td>POINT (126.66856 37.47883)</td>\n",
              "      <td>POINT (126.884387 37.508163)</td>\n",
              "      <td>1000001</td>\n",
              "    </tr>\n",
              "    <tr>\n",
              "      <th>2</th>\n",
              "      <td>1000000001</td>\n",
              "      <td>2</td>\n",
              "      <td>2020-01-22</td>\n",
              "      <td>Gyeonggi-do</td>\n",
              "      <td>Gimpo-si</td>\n",
              "      <td>37.562143</td>\n",
              "      <td>126.801884</td>\n",
              "      <td>POINT (126.80188 37.56214)</td>\n",
              "      <td>POINT (126.884387 37.508163)</td>\n",
              "      <td>1000001</td>\n",
              "    </tr>\n",
              "    <tr>\n",
              "      <th>3</th>\n",
              "      <td>1000000001</td>\n",
              "      <td>2</td>\n",
              "      <td>2020-01-23</td>\n",
              "      <td>Seoul</td>\n",
              "      <td>Jung-gu</td>\n",
              "      <td>37.567454</td>\n",
              "      <td>127.005627</td>\n",
              "      <td>POINT (127.00563 37.56745)</td>\n",
              "      <td>POINT (127.006 37.57680999999999)</td>\n",
              "      <td>1000005</td>\n",
              "    </tr>\n",
              "    <tr>\n",
              "      <th>4</th>\n",
              "      <td>2000000001</td>\n",
              "      <td>3</td>\n",
              "      <td>2020-01-20</td>\n",
              "      <td>Incheon</td>\n",
              "      <td>Jung-gu</td>\n",
              "      <td>37.460459</td>\n",
              "      <td>126.440680</td>\n",
              "      <td>POINT (126.44068 37.46046)</td>\n",
              "      <td>POINT (126.884387 37.508163)</td>\n",
              "      <td>1000001</td>\n",
              "    </tr>\n",
              "    <tr>\n",
              "      <th>...</th>\n",
              "      <td>...</td>\n",
              "      <td>...</td>\n",
              "      <td>...</td>\n",
              "      <td>...</td>\n",
              "      <td>...</td>\n",
              "      <td>...</td>\n",
              "      <td>...</td>\n",
              "      <td>...</td>\n",
              "      <td>...</td>\n",
              "      <td>...</td>\n",
              "    </tr>\n",
              "    <tr>\n",
              "      <th>170</th>\n",
              "      <td>1200000031</td>\n",
              "      <td>31</td>\n",
              "      <td>2020-02-09</td>\n",
              "      <td>Daegu</td>\n",
              "      <td>Nam-gu</td>\n",
              "      <td>35.839820</td>\n",
              "      <td>128.566600</td>\n",
              "      <td>POINT (128.56660 35.83982)</td>\n",
              "      <td>POINT (128.5667 35.84008)</td>\n",
              "      <td>1200001</td>\n",
              "    </tr>\n",
              "    <tr>\n",
              "      <th>171</th>\n",
              "      <td>1200000031</td>\n",
              "      <td>31</td>\n",
              "      <td>2020-02-15</td>\n",
              "      <td>Daegu</td>\n",
              "      <td>Dong-gu</td>\n",
              "      <td>35.882410</td>\n",
              "      <td>128.662100</td>\n",
              "      <td>POINT (128.66210 35.88241)</td>\n",
              "      <td>POINT (128.7373 35.82558)</td>\n",
              "      <td>6000008</td>\n",
              "    </tr>\n",
              "    <tr>\n",
              "      <th>172</th>\n",
              "      <td>1200000031</td>\n",
              "      <td>31</td>\n",
              "      <td>2020-02-16</td>\n",
              "      <td>Daegu</td>\n",
              "      <td>Nam-gu</td>\n",
              "      <td>35.839820</td>\n",
              "      <td>128.566600</td>\n",
              "      <td>POINT (128.56660 35.83982)</td>\n",
              "      <td>POINT (128.5667 35.84008)</td>\n",
              "      <td>1200001</td>\n",
              "    </tr>\n",
              "    <tr>\n",
              "      <th>173</th>\n",
              "      <td>1200000031</td>\n",
              "      <td>31</td>\n",
              "      <td>2020-02-17</td>\n",
              "      <td>Daegu</td>\n",
              "      <td>Suseong-gu</td>\n",
              "      <td>35.844730</td>\n",
              "      <td>128.612300</td>\n",
              "      <td>POINT (128.61230 35.84473)</td>\n",
              "      <td>POINT (128.5667 35.84008)</td>\n",
              "      <td>1200001</td>\n",
              "    </tr>\n",
              "    <tr>\n",
              "      <th>174</th>\n",
              "      <td>1200000031</td>\n",
              "      <td>31</td>\n",
              "      <td>2020-02-18</td>\n",
              "      <td>Daegu</td>\n",
              "      <td>Seo-gu</td>\n",
              "      <td>35.859590</td>\n",
              "      <td>128.540600</td>\n",
              "      <td>POINT (128.54060 35.85959)</td>\n",
              "      <td>POINT (128.5667 35.84008)</td>\n",
              "      <td>1200001</td>\n",
              "    </tr>\n",
              "  </tbody>\n",
              "</table>\n",
              "<p>175 rows × 10 columns</p>\n",
              "</div>"
            ],
            "text/plain": [
              "     patient_id  ...  nearest_epicenter_id\n",
              "0    1400000001  ...               1000001\n",
              "1    1400000001  ...               1000001\n",
              "2    1000000001  ...               1000001\n",
              "3    1000000001  ...               1000005\n",
              "4    2000000001  ...               1000001\n",
              "..          ...  ...                   ...\n",
              "170  1200000031  ...               1200001\n",
              "171  1200000031  ...               6000008\n",
              "172  1200000031  ...               1200001\n",
              "173  1200000031  ...               1200001\n",
              "174  1200000031  ...               1200001\n",
              "\n",
              "[175 rows x 10 columns]"
            ]
          },
          "metadata": {
            "tags": []
          },
          "execution_count": 72
        }
      ]
    },
    {
      "cell_type": "code",
      "metadata": {
        "id": "EfhyOQdgIPBO",
        "colab_type": "code",
        "outputId": "6c8ace9b-a9ba-4826-a28c-e9bdd0285cb1",
        "colab": {
          "base_uri": "https://localhost:8080/",
          "height": 282
        }
      },
      "source": [
        "Xf.plot()\n"
      ],
      "execution_count": 89,
      "outputs": [
        {
          "output_type": "execute_result",
          "data": {
            "text/plain": [
              "<matplotlib.axes._subplots.AxesSubplot at 0x7f3c73fed400>"
            ]
          },
          "metadata": {
            "tags": []
          },
          "execution_count": 89
        },
        {
          "output_type": "display_data",
          "data": {
            "image/png": "[encoded data removed]",
            "text/plain": [
              "<Figure size 432x288 with 1 Axes>"
            ]
          },
          "metadata": {
            "tags": []
          }
        }
      ]
    },
    {
      "cell_type": "markdown",
      "metadata": {
        "id": "wCBEbq32qA1T",
        "colab_type": "text"
      },
      "source": [
        "Now that I have Route geometry and the epicenter geometry all in one  geodataframe lets test the function"
      ]
    },
    {
      "cell_type": "code",
      "metadata": {
        "id": "-eBYKqSTy-4n",
        "colab_type": "code",
        "outputId": "868fa1d9-ae4f-41e3-e2fa-2c6d8e15fd7b",
        "colab": {
          "base_uri": "https://localhost:8080/",
          "height": 80
        }
      },
      "source": [
        "d = {'latitude': [37], 'longitude': [126]}\n",
        "dftest = pd.DataFrame(data=d)\n",
        "dftest"
      ],
      "execution_count": 74,
      "outputs": [
        {
          "output_type": "execute_result",
          "data": {
            "text/html": [
              "<div>\n",
              "<style scoped>\n",
              "    .dataframe tbody tr th:only-of-type {\n",
              "        vertical-align: middle;\n",
              "    }\n",
              "\n",
              "    .dataframe tbody tr th {\n",
              "        vertical-align: top;\n",
              "    }\n",
              "\n",
              "    .dataframe thead th {\n",
              "        text-align: right;\n",
              "    }\n",
              "</style>\n",
              "<table border=\"1\" class=\"dataframe\">\n",
              "  <thead>\n",
              "    <tr style=\"text-align: right;\">\n",
              "      <th></th>\n",
              "      <th>latitude</th>\n",
              "      <th>longitude</th>\n",
              "    </tr>\n",
              "  </thead>\n",
              "  <tbody>\n",
              "    <tr>\n",
              "      <th>0</th>\n",
              "      <td>37</td>\n",
              "      <td>126</td>\n",
              "    </tr>\n",
              "  </tbody>\n",
              "</table>\n",
              "</div>"
            ],
            "text/plain": [
              "   latitude  longitude\n",
              "0        37        126"
            ]
          },
          "metadata": {
            "tags": []
          },
          "execution_count": 74
        }
      ]
    },
    {
      "cell_type": "code",
      "metadata": {
        "id": "Nuv5xKqmzxjT",
        "colab_type": "code",
        "outputId": "82d71244-27fd-4d84-9a7b-8355779ef536",
        "colab": {
          "base_uri": "https://localhost:8080/",
          "height": 134
        }
      },
      "source": [
        "def create_gdf_test(dftest, lng, lat):\n",
        "    \"Convert pandas dataframe into a Geopandas GeoDataFrame\"\n",
        "    crs = {'init': 'EPSG:3395'}\n",
        "    xlng= pd.to_numeric(dftest['longitude'], errors='coerce')\n",
        "    ylat= pd.to_numeric(dftest['latitude'], errors='coerce')\n",
        "    geometry = [Point(xy) for xy in zip(xlng, ylat)]\n",
        "    gdftest = gpd.GeoDataFrame(dftest, crs= crs , geometry=geometry)\n",
        "    return gdftest\n",
        "gdftestf =  create_gdf_test(dftest, \"longitude\", \"latitude\")\n",
        "gdftestf.tail()"
      ],
      "execution_count": 75,
      "outputs": [
        {
          "output_type": "stream",
          "text": [
            "/usr/local/lib/python3.6/dist-packages/pyproj/crs/crs.py:53: FutureWarning: '+init=<authority>:<code>' syntax is deprecated. '<authority>:<code>' is the preferred initialization method. When making the change, be mindful of axis order changes: https://pyproj4.github.io/pyproj/stable/gotchas.html#axis-order-changes-in-proj-6\n",
            "  return _prepare_from_string(\" \".join(pjargs))\n"
          ],
          "name": "stderr"
        },
        {
          "output_type": "execute_result",
          "data": {
            "text/html": [
              "<div>\n",
              "<style scoped>\n",
              "    .dataframe tbody tr th:only-of-type {\n",
              "        vertical-align: middle;\n",
              "    }\n",
              "\n",
              "    .dataframe tbody tr th {\n",
              "        vertical-align: top;\n",
              "    }\n",
              "\n",
              "    .dataframe thead th {\n",
              "        text-align: right;\n",
              "    }\n",
              "</style>\n",
              "<table border=\"1\" class=\"dataframe\">\n",
              "  <thead>\n",
              "    <tr style=\"text-align: right;\">\n",
              "      <th></th>\n",
              "      <th>latitude</th>\n",
              "      <th>longitude</th>\n",
              "      <th>geometry</th>\n",
              "    </tr>\n",
              "  </thead>\n",
              "  <tbody>\n",
              "    <tr>\n",
              "      <th>0</th>\n",
              "      <td>37</td>\n",
              "      <td>126</td>\n",
              "      <td>POINT (126.00000 37.00000)</td>\n",
              "    </tr>\n",
              "  </tbody>\n",
              "</table>\n",
              "</div>"
            ],
            "text/plain": [
              "   latitude  longitude                    geometry\n",
              "0        37        126  POINT (126.00000 37.00000)"
            ]
          },
          "metadata": {
            "tags": []
          },
          "execution_count": 75
        }
      ]
    },
    {
      "cell_type": "code",
      "metadata": {
        "id": "jyUVxgtL0WQT",
        "colab_type": "code",
        "colab": {}
      },
      "source": [
        "Xtest=gdftestf"
      ],
      "execution_count": 0,
      "outputs": []
    },
    {
      "cell_type": "code",
      "metadata": {
        "id": "12i4r59miPp1",
        "colab_type": "code",
        "outputId": "32e40b3d-8da8-4b46-92ba-7a3f4949e7a6",
        "colab": {
          "base_uri": "https://localhost:8080/",
          "height": 51
        }
      },
      "source": [
        "Xtest.apply(get_nearest_values, other_gdf=yf, point_column='geometry', value_column='geometry', axis=1)\n"
      ],
      "execution_count": 77,
      "outputs": [
        {
          "output_type": "execute_result",
          "data": {
            "text/plain": [
              "0    POINT (126.354443 37.00035399999999)\n",
              "dtype: object"
            ]
          },
          "metadata": {
            "tags": []
          },
          "execution_count": 77
        }
      ]
    },
    {
      "cell_type": "code",
      "metadata": {
        "id": "djI4kgp0rKN8",
        "colab_type": "code",
        "outputId": "18755836-a77d-4b59-9681-829994134c61",
        "colab": {
          "base_uri": "https://localhost:8080/",
          "height": 51
        }
      },
      "source": [
        "Xtest.apply(get_nearest_values, other_gdf=yf, point_column='geometry', value_column='case_id', axis=1)"
      ],
      "execution_count": 78,
      "outputs": [
        {
          "output_type": "execute_result",
          "data": {
            "text/plain": [
              "0    4100002\n",
              "dtype: int64"
            ]
          },
          "metadata": {
            "tags": []
          },
          "execution_count": 78
        }
      ]
    },
    {
      "cell_type": "code",
      "metadata": {
        "id": "v3rIss1lDpxK",
        "colab_type": "code",
        "outputId": "ece969b2-6762-4fd4-8b57-bc491833443a",
        "colab": {
          "base_uri": "https://localhost:8080/",
          "height": 80
        }
      },
      "source": [
        "testresult=df_casef[df_casef.case_id == 4100002]\n",
        "testresult"
      ],
      "execution_count": 79,
      "outputs": [
        {
          "output_type": "execute_result",
          "data": {
            "text/html": [
              "<div>\n",
              "<style scoped>\n",
              "    .dataframe tbody tr th:only-of-type {\n",
              "        vertical-align: middle;\n",
              "    }\n",
              "\n",
              "    .dataframe tbody tr th {\n",
              "        vertical-align: top;\n",
              "    }\n",
              "\n",
              "    .dataframe thead th {\n",
              "        text-align: right;\n",
              "    }\n",
              "</style>\n",
              "<table border=\"1\" class=\"dataframe\">\n",
              "  <thead>\n",
              "    <tr style=\"text-align: right;\">\n",
              "      <th></th>\n",
              "      <th>case_id</th>\n",
              "      <th>province</th>\n",
              "      <th>city</th>\n",
              "      <th>group</th>\n",
              "      <th>infection_case</th>\n",
              "      <th>confirmed</th>\n",
              "      <th>latitude</th>\n",
              "      <th>longitude</th>\n",
              "      <th>geometry</th>\n",
              "    </tr>\n",
              "  </thead>\n",
              "  <tbody>\n",
              "    <tr>\n",
              "      <th>54</th>\n",
              "      <td>4100002</td>\n",
              "      <td>Chungcheongnam-do</td>\n",
              "      <td>Seosan-si</td>\n",
              "      <td>True</td>\n",
              "      <td>Seosan-si Laboratory</td>\n",
              "      <td>8</td>\n",
              "      <td>37.000354</td>\n",
              "      <td>126.354443</td>\n",
              "      <td>POINT (126.35444 37.00035)</td>\n",
              "    </tr>\n",
              "  </tbody>\n",
              "</table>\n",
              "</div>"
            ],
            "text/plain": [
              "    case_id           province  ...   longitude                    geometry\n",
              "54  4100002  Chungcheongnam-do  ...  126.354443  POINT (126.35444 37.00035)\n",
              "\n",
              "[1 rows x 9 columns]"
            ]
          },
          "metadata": {
            "tags": []
          },
          "execution_count": 79
        }
      ]
    },
    {
      "cell_type": "code",
      "metadata": {
        "id": "8aIxzBzwDp0Y",
        "colab_type": "code",
        "colab": {}
      },
      "source": [
        ""
      ],
      "execution_count": 0,
      "outputs": []
    },
    {
      "cell_type": "code",
      "metadata": {
        "id": "1Gw7Xav_SfYE",
        "colab_type": "code",
        "colab": {}
      },
      "source": [
        ""
      ],
      "execution_count": 0,
      "outputs": []
    },
    {
      "cell_type": "code",
      "metadata": {
        "id": "A4NIHlcqSfcX",
        "colab_type": "code",
        "colab": {}
      },
      "source": [
        ""
      ],
      "execution_count": 0,
      "outputs": []
    },
    {
      "cell_type": "code",
      "metadata": {
        "id": "zeq8KZiKDp3n",
        "colab_type": "code",
        "outputId": "aae1beee-f6f6-47ec-a5da-9619543f1d68",
        "colab": {
          "base_uri": "https://localhost:8080/",
          "height": 204
        }
      },
      "source": [
        "pd_seoul=pd.read_csv('SeoulFloating.csv')\n",
        "pd_seoul.head()"
      ],
      "execution_count": 0,
      "outputs": [
        {
          "output_type": "execute_result",
          "data": {
            "text/html": [
              "<div>\n",
              "<style scoped>\n",
              "    .dataframe tbody tr th:only-of-type {\n",
              "        vertical-align: middle;\n",
              "    }\n",
              "\n",
              "    .dataframe tbody tr th {\n",
              "        vertical-align: top;\n",
              "    }\n",
              "\n",
              "    .dataframe thead th {\n",
              "        text-align: right;\n",
              "    }\n",
              "</style>\n",
              "<table border=\"1\" class=\"dataframe\">\n",
              "  <thead>\n",
              "    <tr style=\"text-align: right;\">\n",
              "      <th></th>\n",
              "      <th>date</th>\n",
              "      <th>hour</th>\n",
              "      <th>birth_year</th>\n",
              "      <th>sex</th>\n",
              "      <th>province</th>\n",
              "      <th>city</th>\n",
              "      <th>fp_num</th>\n",
              "    </tr>\n",
              "  </thead>\n",
              "  <tbody>\n",
              "    <tr>\n",
              "      <th>0</th>\n",
              "      <td>2020-01-01</td>\n",
              "      <td>0</td>\n",
              "      <td>20</td>\n",
              "      <td>female</td>\n",
              "      <td>Seoul</td>\n",
              "      <td>Dobong-gu</td>\n",
              "      <td>19140</td>\n",
              "    </tr>\n",
              "    <tr>\n",
              "      <th>1</th>\n",
              "      <td>2020-01-01</td>\n",
              "      <td>0</td>\n",
              "      <td>20</td>\n",
              "      <td>male</td>\n",
              "      <td>Seoul</td>\n",
              "      <td>Dobong-gu</td>\n",
              "      <td>19950</td>\n",
              "    </tr>\n",
              "    <tr>\n",
              "      <th>2</th>\n",
              "      <td>2020-01-01</td>\n",
              "      <td>0</td>\n",
              "      <td>20</td>\n",
              "      <td>female</td>\n",
              "      <td>Seoul</td>\n",
              "      <td>Dongdaemun-gu</td>\n",
              "      <td>25450</td>\n",
              "    </tr>\n",
              "    <tr>\n",
              "      <th>3</th>\n",
              "      <td>2020-01-01</td>\n",
              "      <td>0</td>\n",
              "      <td>20</td>\n",
              "      <td>male</td>\n",
              "      <td>Seoul</td>\n",
              "      <td>Dongdaemun-gu</td>\n",
              "      <td>27050</td>\n",
              "    </tr>\n",
              "    <tr>\n",
              "      <th>4</th>\n",
              "      <td>2020-01-01</td>\n",
              "      <td>0</td>\n",
              "      <td>20</td>\n",
              "      <td>female</td>\n",
              "      <td>Seoul</td>\n",
              "      <td>Dongjag-gu</td>\n",
              "      <td>28880</td>\n",
              "    </tr>\n",
              "  </tbody>\n",
              "</table>\n",
              "</div>"
            ],
            "text/plain": [
              "         date  hour  birth_year     sex province           city  fp_num\n",
              "0  2020-01-01     0          20  female    Seoul      Dobong-gu   19140\n",
              "1  2020-01-01     0          20    male    Seoul      Dobong-gu   19950\n",
              "2  2020-01-01     0          20  female    Seoul  Dongdaemun-gu   25450\n",
              "3  2020-01-01     0          20    male    Seoul  Dongdaemun-gu   27050\n",
              "4  2020-01-01     0          20  female    Seoul     Dongjag-gu   28880"
            ]
          },
          "metadata": {
            "tags": []
          },
          "execution_count": 288
        }
      ]
    },
    {
      "cell_type": "markdown",
      "metadata": {
        "id": "7RkX8rZBbPz-",
        "colab_type": "text"
      },
      "source": [
        "https://automating-gis-processes.github.io/site/develop/notebooks/L3/nearest-neighbour.html\n",
        "\n",
        "was helpful for nearest neighbor analysis"
      ]
    },
    {
      "cell_type": "code",
      "metadata": {
        "id": "GYhTZ5RTbJ1v",
        "colab_type": "code",
        "colab": {}
      },
      "source": [
        ""
      ],
      "execution_count": 0,
      "outputs": []
    }
  ]
}