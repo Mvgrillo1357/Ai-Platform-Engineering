{
  "nbformat": 4,
  "nbformat_minor": 0,
  "metadata": {
    "colab": {
      "name": "Coronavirus.ipynb",
      "provenance": [],
      "collapsed_sections": [
        "Cl29ADyRpUco",
        "lNW-9NpNqDtL",
        "6bTIpab0Wb3H"
      ],
      "authorship_tag": "ABX9TyMeMEtNHjOwOVInxJTe1yzj",
      "include_colab_link": true
    },
    "kernelspec": {
      "name": "python3",
      "display_name": "Python 3"
    },
    "accelerator": "GPU"
  },
  "cells": [
    {
      "cell_type": "markdown",
      "metadata": {
        "id": "view-in-github",
        "colab_type": "text"
      },
      "source": [
        "<a href=\"https://colab.research.google.com/github/Mvgrillo1357/Ai-Platform-Engineering/blob/master/Ai-Platform-Engineering/ml_applied_to_coronavirus/Coronavirus.ipynb\" target=\"_parent\"><img src=\"https://colab.research.google.com/assets/colab-badge.svg\" alt=\"Open In Colab\"/></a>"
      ]
    },
    {
      "cell_type": "markdown",
      "metadata": {
        "id": "drkeDK3tS2JF",
        "colab_type": "text"
      },
      "source": [
        "https://www.kaggle.com/kimjihoo/coronavirusdataset#case.csv the dataset source"
      ]
    },
    {
      "cell_type": "markdown",
      "metadata": {
        "id": "0te79cN0n3fz",
        "colab_type": "text"
      },
      "source": [
        "#Access Kaggle"
      ]
    },
    {
      "cell_type": "code",
      "metadata": {
        "id": "FfoY892ptBzT",
        "colab_type": "code",
        "outputId": "eed74c1b-6c36-494f-ac1f-37d3fe4473d4",
        "colab": {
          "base_uri": "https://localhost:8080/",
          "height": 217
        }
      },
      "source": [
        "# Colab library to upload files to notebook\n",
        "from google.colab import files\n",
        "\n",
        "# Install Kaggle library\n",
        "!pip install kaggle\n"
      ],
      "execution_count": 1,
      "outputs": [
        {
          "output_type": "stream",
          "text": [
            "Requirement already satisfied: kaggle in /usr/local/lib/python3.6/dist-packages (1.5.6)\n",
            "Requirement already satisfied: python-slugify in /usr/local/lib/python3.6/dist-packages (from kaggle) (4.0.0)\n",
            "Requirement already satisfied: python-dateutil in /usr/local/lib/python3.6/dist-packages (from kaggle) (2.8.1)\n",
            "Requirement already satisfied: tqdm in /usr/local/lib/python3.6/dist-packages (from kaggle) (4.38.0)\n",
            "Requirement already satisfied: certifi in /usr/local/lib/python3.6/dist-packages (from kaggle) (2019.11.28)\n",
            "Requirement already satisfied: urllib3<1.25,>=1.21.1 in /usr/local/lib/python3.6/dist-packages (from kaggle) (1.24.3)\n",
            "Requirement already satisfied: requests in /usr/local/lib/python3.6/dist-packages (from kaggle) (2.21.0)\n",
            "Requirement already satisfied: six>=1.10 in /usr/local/lib/python3.6/dist-packages (from kaggle) (1.12.0)\n",
            "Requirement already satisfied: text-unidecode>=1.3 in /usr/local/lib/python3.6/dist-packages (from python-slugify->kaggle) (1.3)\n",
            "Requirement already satisfied: chardet<3.1.0,>=3.0.2 in /usr/local/lib/python3.6/dist-packages (from requests->kaggle) (3.0.4)\n",
            "Requirement already satisfied: idna<2.9,>=2.5 in /usr/local/lib/python3.6/dist-packages (from requests->kaggle) (2.8)\n"
          ],
          "name": "stdout"
        }
      ]
    },
    {
      "cell_type": "code",
      "metadata": {
        "id": "JfH4KbeCtJhD",
        "colab_type": "code",
        "colab": {}
      },
      "source": [
        "!mkdir .kaggle\n",
        "!mkdir ~/.kaggle"
      ],
      "execution_count": 0,
      "outputs": []
    },
    {
      "cell_type": "code",
      "metadata": {
        "id": "mOJnpFzqtRCh",
        "colab_type": "code",
        "colab": {}
      },
      "source": [
        "import json\n",
        "token = {\"username\":\"michaelgrillo\",\"key\":\"1b1b61b21b7bd669c2b170bf718b9cd8\"}\n",
        "with open ('/content/.kaggle/kaggle.json', 'w') as file:\n",
        "  json.dump(token, file)"
      ],
      "execution_count": 0,
      "outputs": []
    },
    {
      "cell_type": "code",
      "metadata": {
        "id": "w7R-S4FBtR0J",
        "colab_type": "code",
        "colab": {}
      },
      "source": [
        "!chmod 600 /content/.kaggle/kaggle.json"
      ],
      "execution_count": 0,
      "outputs": []
    },
    {
      "cell_type": "code",
      "metadata": {
        "id": "J7e9DLm1tTvz",
        "colab_type": "code",
        "colab": {}
      },
      "source": [
        "!cp /content/.kaggle/kaggle.json ~/.kaggle/kaggle.json"
      ],
      "execution_count": 0,
      "outputs": []
    },
    {
      "cell_type": "code",
      "metadata": {
        "id": "8MPjkeiJtVbe",
        "colab_type": "code",
        "outputId": "7f9bb8fc-8bed-41fe-f3e2-aae24c559297",
        "colab": {
          "base_uri": "https://localhost:8080/",
          "height": 35
        }
      },
      "source": [
        "!kaggle config set -n path -v{/content}"
      ],
      "execution_count": 6,
      "outputs": [
        {
          "output_type": "stream",
          "text": [
            "- path is now set to: {/content}\n"
          ],
          "name": "stdout"
        }
      ]
    },
    {
      "cell_type": "code",
      "metadata": {
        "id": "7rx79rjGtXN3",
        "colab_type": "code",
        "outputId": "d670f290-77d0-44dd-8c59-f278f357e967",
        "colab": {
          "base_uri": "https://localhost:8080/",
          "height": 72
        }
      },
      "source": [
        "!kaggle datasets download -d kimjihoo/coronavirusdataset -p /content --force"
      ],
      "execution_count": 7,
      "outputs": [
        {
          "output_type": "stream",
          "text": [
            "Downloading coronavirusdataset.zip to /content\n",
            "\r  0% 0.00/2.53M [00:00<?, ?B/s]\n",
            "\r100% 2.53M/2.53M [00:00<00:00, 85.4MB/s]\n"
          ],
          "name": "stdout"
        }
      ]
    },
    {
      "cell_type": "code",
      "metadata": {
        "id": "0DeA8FGptcFU",
        "colab_type": "code",
        "outputId": "29ad3f55-120e-4c32-9179-51024fb914aa",
        "colab": {
          "base_uri": "https://localhost:8080/",
          "height": 235
        }
      },
      "source": [
        "!unzip \\*.zip"
      ],
      "execution_count": 8,
      "outputs": [
        {
          "output_type": "stream",
          "text": [
            "Archive:  coronavirusdataset.zip\n",
            "  inflating: Case.csv                \n",
            "  inflating: PatientInfo.csv         \n",
            "  inflating: PatientRoute.csv        \n",
            "  inflating: Region.csv              \n",
            "  inflating: SearchTrend.csv         \n",
            "  inflating: SeoulFloating.csv       \n",
            "  inflating: Time.csv                \n",
            "  inflating: TimeAge.csv             \n",
            "  inflating: TimeGender.csv          \n",
            "  inflating: TimeProvince.csv        \n",
            "  inflating: Weather.csv             \n"
          ],
          "name": "stdout"
        }
      ]
    },
    {
      "cell_type": "code",
      "metadata": {
        "id": "E-PjS2pRtflI",
        "colab_type": "code",
        "outputId": "9817114f-eff4-45ff-c4f1-3a192d6702c5",
        "colab": {
          "base_uri": "https://localhost:8080/",
          "height": 90
        }
      },
      "source": [
        "!ls"
      ],
      "execution_count": 9,
      "outputs": [
        {
          "output_type": "stream",
          "text": [
            "Case.csv\t\tRegion.csv\t   TimeAge.csv\t     Weather.csv\n",
            "coronavirusdataset.zip\tsample_data\t   Time.csv\n",
            "PatientInfo.csv\t\tSearchTrend.csv    TimeGender.csv\n",
            "PatientRoute.csv\tSeoulFloating.csv  TimeProvince.csv\n"
          ],
          "name": "stdout"
        }
      ]
    },
    {
      "cell_type": "markdown",
      "metadata": {
        "id": "uzpok8AVoAZt",
        "colab_type": "text"
      },
      "source": [
        "#Import Libraries"
      ]
    },
    {
      "cell_type": "code",
      "metadata": {
        "id": "oJj5umJuthIK",
        "colab_type": "code",
        "outputId": "aadfff54-5c5e-40cd-908e-f87426b6fbd0",
        "colab": {
          "base_uri": "https://localhost:8080/",
          "height": 819
        }
      },
      "source": [
        "import pandas as pd\n",
        "import matplotlib.pyplot as plt\n",
        "import seaborn as sns\n",
        "import numpy as np\n",
        "from sklearn.neighbors import KNeighborsClassifier\n",
        "from sklearn.model_selection import train_test_split\n",
        "import scipy as sp\n",
        "!pip install geopandas\n",
        "import sklearn as skl\n",
        "import geopandas as gpd\n",
        "import geopy\n",
        "import folium\n",
        "from shapely.geometry import Point, Polygon\n",
        "from sklearn.cluster import KMeans\n",
        "from shapely.ops import nearest_points\n",
        "from geopy.geocoders import Nominatim\n",
        "from sklearn.metrics import accuracy_score\n",
        "from sklearn.metrics import classification_report\n",
        "from sklearn.metrics import confusion_matrix, mean_squared_error\n",
        "from collections import Counter\n",
        "from sklearn.datasets import make_classification\n",
        "!pip install imblearn\n",
        "from imblearn.over_sampling import SMOTE\n",
        "from sklearn.preprocessing import StandardScaler\n",
        "import pickle as plk\n",
        "import math\n",
        "import matplotlib as mpl\n",
        "from sklearn.neighbors import NearestNeighbors\n",
        "!pip install kmodes\n",
        "from kmodes.kmodes import KModes"
      ],
      "execution_count": 10,
      "outputs": [
        {
          "output_type": "stream",
          "text": [
            "Collecting geopandas\n",
            "\u001b[?25l  Downloading https://files.pythonhosted.org/packages/83/c5/3cf9cdc39a6f2552922f79915f36b45a95b71fd343cfc51170a5b6ddb6e8/geopandas-0.7.0-py2.py3-none-any.whl (928kB)\n",
            "\u001b[K     |████████████████████████████████| 931kB 4.9MB/s \n",
            "\u001b[?25hCollecting pyproj>=2.2.0\n",
            "\u001b[?25l  Downloading https://files.pythonhosted.org/packages/ce/37/705ee471f71130d4ceee41bbcb06f3b52175cb89273cbb5755ed5e6374e0/pyproj-2.6.0-cp36-cp36m-manylinux2010_x86_64.whl (10.4MB)\n",
            "\u001b[K     |████████████████████████████████| 10.4MB 19.0MB/s \n",
            "\u001b[?25hRequirement already satisfied: shapely in /usr/local/lib/python3.6/dist-packages (from geopandas) (1.7.0)\n",
            "Collecting fiona\n",
            "\u001b[?25l  Downloading https://files.pythonhosted.org/packages/ec/20/4e63bc5c6e62df889297b382c3ccd4a7a488b00946aaaf81a118158c6f09/Fiona-1.8.13.post1-cp36-cp36m-manylinux1_x86_64.whl (14.7MB)\n",
            "\u001b[K     |████████████████████████████████| 14.7MB 213kB/s \n",
            "\u001b[?25hRequirement already satisfied: pandas>=0.23.0 in /usr/local/lib/python3.6/dist-packages (from geopandas) (0.25.3)\n",
            "Collecting cligj>=0.5\n",
            "  Downloading https://files.pythonhosted.org/packages/e4/be/30a58b4b0733850280d01f8bd132591b4668ed5c7046761098d665ac2174/cligj-0.5.0-py3-none-any.whl\n",
            "Collecting click-plugins>=1.0\n",
            "  Downloading https://files.pythonhosted.org/packages/e9/da/824b92d9942f4e472702488857914bdd50f73021efea15b4cad9aca8ecef/click_plugins-1.1.1-py2.py3-none-any.whl\n",
            "Requirement already satisfied: attrs>=17 in /usr/local/lib/python3.6/dist-packages (from fiona->geopandas) (19.3.0)\n",
            "Requirement already satisfied: click<8,>=4.0 in /usr/local/lib/python3.6/dist-packages (from fiona->geopandas) (7.1.1)\n",
            "Requirement already satisfied: six>=1.7 in /usr/local/lib/python3.6/dist-packages (from fiona->geopandas) (1.12.0)\n",
            "Collecting munch\n",
            "  Downloading https://files.pythonhosted.org/packages/cc/ab/85d8da5c9a45e072301beb37ad7f833cd344e04c817d97e0cc75681d248f/munch-2.5.0-py2.py3-none-any.whl\n",
            "Requirement already satisfied: numpy>=1.13.3 in /usr/local/lib/python3.6/dist-packages (from pandas>=0.23.0->geopandas) (1.18.2)\n",
            "Requirement already satisfied: python-dateutil>=2.6.1 in /usr/local/lib/python3.6/dist-packages (from pandas>=0.23.0->geopandas) (2.8.1)\n",
            "Requirement already satisfied: pytz>=2017.2 in /usr/local/lib/python3.6/dist-packages (from pandas>=0.23.0->geopandas) (2018.9)\n",
            "Installing collected packages: pyproj, cligj, click-plugins, munch, fiona, geopandas\n",
            "Successfully installed click-plugins-1.1.1 cligj-0.5.0 fiona-1.8.13.post1 geopandas-0.7.0 munch-2.5.0 pyproj-2.6.0\n",
            "Requirement already satisfied: imblearn in /usr/local/lib/python3.6/dist-packages (0.0)\n",
            "Requirement already satisfied: imbalanced-learn in /usr/local/lib/python3.6/dist-packages (from imblearn) (0.4.3)\n",
            "Requirement already satisfied: numpy>=1.8.2 in /usr/local/lib/python3.6/dist-packages (from imbalanced-learn->imblearn) (1.18.2)\n",
            "Requirement already satisfied: scikit-learn>=0.20 in /usr/local/lib/python3.6/dist-packages (from imbalanced-learn->imblearn) (0.22.2.post1)\n",
            "Requirement already satisfied: scipy>=0.13.3 in /usr/local/lib/python3.6/dist-packages (from imbalanced-learn->imblearn) (1.4.1)\n",
            "Requirement already satisfied: joblib>=0.11 in /usr/local/lib/python3.6/dist-packages (from scikit-learn>=0.20->imbalanced-learn->imblearn) (0.14.1)\n"
          ],
          "name": "stdout"
        },
        {
          "output_type": "stream",
          "text": [
            "/usr/local/lib/python3.6/dist-packages/sklearn/externals/six.py:31: FutureWarning: The module is deprecated in version 0.21 and will be removed in version 0.23 since we've dropped support for Python 2.7. Please rely on the official version of six (https://pypi.org/project/six/).\n",
            "  \"(https://pypi.org/project/six/).\", FutureWarning)\n",
            "/usr/local/lib/python3.6/dist-packages/sklearn/utils/deprecation.py:144: FutureWarning: The sklearn.neighbors.base module is  deprecated in version 0.22 and will be removed in version 0.24. The corresponding classes / functions should instead be imported from sklearn.neighbors. Anything that cannot be imported from sklearn.neighbors is now part of the private API.\n",
            "  warnings.warn(message, FutureWarning)\n"
          ],
          "name": "stderr"
        },
        {
          "output_type": "stream",
          "text": [
            "Collecting kmodes\n",
            "  Downloading https://files.pythonhosted.org/packages/b2/55/d8ec1ae1f7e1e202a8a4184c6852a3ee993b202b0459672c699d0ac18fc8/kmodes-0.10.2-py2.py3-none-any.whl\n",
            "Requirement already satisfied: numpy>=1.10.4 in /usr/local/lib/python3.6/dist-packages (from kmodes) (1.18.2)\n",
            "Requirement already satisfied: scikit-learn>=0.19.0 in /usr/local/lib/python3.6/dist-packages (from kmodes) (0.22.2.post1)\n",
            "Requirement already satisfied: joblib>=0.11 in /usr/local/lib/python3.6/dist-packages (from kmodes) (0.14.1)\n",
            "Requirement already satisfied: scipy>=0.13.3 in /usr/local/lib/python3.6/dist-packages (from kmodes) (1.4.1)\n",
            "Installing collected packages: kmodes\n",
            "Successfully installed kmodes-0.10.2\n"
          ],
          "name": "stdout"
        }
      ]
    },
    {
      "cell_type": "markdown",
      "metadata": {
        "id": "i3tl7CP0oG9Z",
        "colab_type": "text"
      },
      "source": [
        "#Make Dataframes"
      ]
    },
    {
      "cell_type": "code",
      "metadata": {
        "id": "BwA_EtWQtnBC",
        "colab_type": "code",
        "colab": {}
      },
      "source": [
        "import io\n",
        "df_case = pd.read_csv('Case.csv')\n",
        "df_patientroute = pd.read_csv('PatientRoute.csv')\n",
        "df_region = pd.read_csv('Region.csv')\n",
        "df_patientinfo = pd.read_csv('PatientInfo.csv')\n",
        "df_searchtrend=pd.read_csv('SearchTrend.csv')\n",
        "df_timeage=pd.read_csv('TimeAge.csv')\n",
        "df_time=pd.read_csv('Time.csv')\n",
        "df_timegender=pd.read_csv('TimeGender.csv')\n",
        "df_timeprovince=pd.read_csv('TimeProvince.csv')\n",
        "df_weather=pd.read_csv('Weather.csv')"
      ],
      "execution_count": 0,
      "outputs": []
    },
    {
      "cell_type": "markdown",
      "metadata": {
        "id": "Kgej723xytAM",
        "colab_type": "text"
      },
      "source": [
        "#DF Case"
      ]
    },
    {
      "cell_type": "code",
      "metadata": {
        "id": "2jq8FEwz4EbE",
        "colab_type": "code",
        "outputId": "607797ba-3a39-4b87-cb60-871003fdfec6",
        "colab": {
          "base_uri": "https://localhost:8080/",
          "height": 198
        }
      },
      "source": [
        "df_case.head()"
      ],
      "execution_count": 12,
      "outputs": [
        {
          "output_type": "execute_result",
          "data": {
            "text/html": [
              "<div>\n",
              "<style scoped>\n",
              "    .dataframe tbody tr th:only-of-type {\n",
              "        vertical-align: middle;\n",
              "    }\n",
              "\n",
              "    .dataframe tbody tr th {\n",
              "        vertical-align: top;\n",
              "    }\n",
              "\n",
              "    .dataframe thead th {\n",
              "        text-align: right;\n",
              "    }\n",
              "</style>\n",
              "<table border=\"1\" class=\"dataframe\">\n",
              "  <thead>\n",
              "    <tr style=\"text-align: right;\">\n",
              "      <th></th>\n",
              "      <th>case_id</th>\n",
              "      <th>province</th>\n",
              "      <th>city</th>\n",
              "      <th>group</th>\n",
              "      <th>infection_case</th>\n",
              "      <th>confirmed</th>\n",
              "      <th>latitude</th>\n",
              "      <th>longitude</th>\n",
              "    </tr>\n",
              "  </thead>\n",
              "  <tbody>\n",
              "    <tr>\n",
              "      <th>0</th>\n",
              "      <td>1000001</td>\n",
              "      <td>Seoul</td>\n",
              "      <td>Guro-gu</td>\n",
              "      <td>True</td>\n",
              "      <td>Guro-gu Call Center</td>\n",
              "      <td>79</td>\n",
              "      <td>37.508163</td>\n",
              "      <td>126.884387</td>\n",
              "    </tr>\n",
              "    <tr>\n",
              "      <th>1</th>\n",
              "      <td>1000002</td>\n",
              "      <td>Seoul</td>\n",
              "      <td>Dongdaemun-gu</td>\n",
              "      <td>True</td>\n",
              "      <td>Dongan Church</td>\n",
              "      <td>24</td>\n",
              "      <td>37.592888</td>\n",
              "      <td>127.056766</td>\n",
              "    </tr>\n",
              "    <tr>\n",
              "      <th>2</th>\n",
              "      <td>1000003</td>\n",
              "      <td>Seoul</td>\n",
              "      <td>Eunpyeong-gu</td>\n",
              "      <td>True</td>\n",
              "      <td>Eunpyeong St. Mary's Hospital</td>\n",
              "      <td>14</td>\n",
              "      <td>37.63369</td>\n",
              "      <td>126.9165</td>\n",
              "    </tr>\n",
              "    <tr>\n",
              "      <th>3</th>\n",
              "      <td>1000004</td>\n",
              "      <td>Seoul</td>\n",
              "      <td>Seongdong-gu</td>\n",
              "      <td>True</td>\n",
              "      <td>Seongdong-gu APT</td>\n",
              "      <td>13</td>\n",
              "      <td>37.55713</td>\n",
              "      <td>127.0403</td>\n",
              "    </tr>\n",
              "    <tr>\n",
              "      <th>4</th>\n",
              "      <td>1000005</td>\n",
              "      <td>Seoul</td>\n",
              "      <td>Jongno-gu</td>\n",
              "      <td>True</td>\n",
              "      <td>Jongno Community Center</td>\n",
              "      <td>10</td>\n",
              "      <td>37.57681</td>\n",
              "      <td>127.006</td>\n",
              "    </tr>\n",
              "  </tbody>\n",
              "</table>\n",
              "</div>"
            ],
            "text/plain": [
              "   case_id province           city  ...  confirmed   latitude   longitude\n",
              "0  1000001    Seoul        Guro-gu  ...         79  37.508163  126.884387\n",
              "1  1000002    Seoul  Dongdaemun-gu  ...         24  37.592888  127.056766\n",
              "2  1000003    Seoul   Eunpyeong-gu  ...         14   37.63369    126.9165\n",
              "3  1000004    Seoul   Seongdong-gu  ...         13   37.55713    127.0403\n",
              "4  1000005    Seoul      Jongno-gu  ...         10   37.57681     127.006\n",
              "\n",
              "[5 rows x 8 columns]"
            ]
          },
          "metadata": {
            "tags": []
          },
          "execution_count": 12
        }
      ]
    },
    {
      "cell_type": "code",
      "metadata": {
        "id": "71t47n4nyH51",
        "colab_type": "code",
        "outputId": "d715e07f-3852-468e-ced9-7ec8f77a04d5",
        "colab": {
          "base_uri": "https://localhost:8080/",
          "height": 126
        }
      },
      "source": [
        "df_case.latitude.unique()"
      ],
      "execution_count": 13,
      "outputs": [
        {
          "output_type": "execute_result",
          "data": {
            "text/plain": [
              "array(['37.508163', '37.592888', '37.63369', '37.55713', '37.57681',\n",
              "       '37.562405', '-', '35.21628', '35.16708', '35.20599', '35.17371',\n",
              "       '35.84008', '36.504713', '36.48025', '37.38833', '37.455687',\n",
              "       '37.2376', '36.82422', '36.81503', '37.000354', '35.64887',\n",
              "       '36.92757', '36.0581', '35.782149', '35.84819', '35.82558',\n",
              "       '35.68556', '35.805681', '35.22115', '35.54127'], dtype=object)"
            ]
          },
          "metadata": {
            "tags": []
          },
          "execution_count": 13
        }
      ]
    },
    {
      "cell_type": "markdown",
      "metadata": {
        "id": "bUZRJXmMiVdj",
        "colab_type": "text"
      },
      "source": [
        "It looks like the null values are described as \"-\" these values need to be handled."
      ]
    },
    {
      "cell_type": "markdown",
      "metadata": {
        "id": "pBOpVUJFpSHO",
        "colab_type": "text"
      },
      "source": [
        "Fascinating, According to https://www.nytimes.com/2020/03/10/world/asia/south-korea-coronavirus-shincheonji.html and https://www.christianitytoday.com/news/2020/february/korea-coronavirus-shincheonji-church-daegu-covid19.html , Shincheonji Church is a haven for the virus. That may make it difficult to handle this data especially since the dataset states they are from other cities so this will have to be dropped. The Pilgrimage to Israel is impossible to tell where in the pilgrimmage the infection originated from. According to https://www.christianitytoday.com/news/2020/february/korea-coronavirus-churches-close-sunday-shincheonji-covid19.html Onchun Church is “investigating the possibility of Shincheonji’s infiltrating into our church” so that could mean that the virus was spread from Shincheonji Church!?!\n",
        "\n",
        "Additionally there are points that are represented as \"etc.\" and \"overseas inflow\" which are impossible to impute.\n",
        "\n",
        "This data table is not great for my needs but dropping the null \"-\" values may allow me to conduct reasonable geospatial analysis.\n"
      ]
    },
    {
      "cell_type": "markdown",
      "metadata": {
        "id": "Gwzt1j80D20h",
        "colab_type": "text"
      },
      "source": [
        "now that we have the non null values we can conduct further analysis"
      ]
    },
    {
      "cell_type": "code",
      "metadata": {
        "id": "rJM_IRQoxloO",
        "colab_type": "code",
        "outputId": "98d7b95d-586d-417a-81b1-6004ae4073f3",
        "colab": {
          "base_uri": "https://localhost:8080/",
          "height": 1000
        }
      },
      "source": [
        "badpoints=df_case.loc[df_case['latitude']== '-']\n",
        "badpoints"
      ],
      "execution_count": 14,
      "outputs": [
        {
          "output_type": "execute_result",
          "data": {
            "text/html": [
              "<div>\n",
              "<style scoped>\n",
              "    .dataframe tbody tr th:only-of-type {\n",
              "        vertical-align: middle;\n",
              "    }\n",
              "\n",
              "    .dataframe tbody tr th {\n",
              "        vertical-align: top;\n",
              "    }\n",
              "\n",
              "    .dataframe thead th {\n",
              "        text-align: right;\n",
              "    }\n",
              "</style>\n",
              "<table border=\"1\" class=\"dataframe\">\n",
              "  <thead>\n",
              "    <tr style=\"text-align: right;\">\n",
              "      <th></th>\n",
              "      <th>case_id</th>\n",
              "      <th>province</th>\n",
              "      <th>city</th>\n",
              "      <th>group</th>\n",
              "      <th>infection_case</th>\n",
              "      <th>confirmed</th>\n",
              "      <th>latitude</th>\n",
              "      <th>longitude</th>\n",
              "    </tr>\n",
              "  </thead>\n",
              "  <tbody>\n",
              "    <tr>\n",
              "      <th>6</th>\n",
              "      <td>1000007</td>\n",
              "      <td>Seoul</td>\n",
              "      <td>from other city</td>\n",
              "      <td>True</td>\n",
              "      <td>Shincheonji Church</td>\n",
              "      <td>6</td>\n",
              "      <td>-</td>\n",
              "      <td>-</td>\n",
              "    </tr>\n",
              "    <tr>\n",
              "      <th>7</th>\n",
              "      <td>1000008</td>\n",
              "      <td>Seoul</td>\n",
              "      <td>-</td>\n",
              "      <td>False</td>\n",
              "      <td>etc</td>\n",
              "      <td>65</td>\n",
              "      <td>-</td>\n",
              "      <td>-</td>\n",
              "    </tr>\n",
              "    <tr>\n",
              "      <th>9</th>\n",
              "      <td>1100002</td>\n",
              "      <td>Busan</td>\n",
              "      <td>from other city</td>\n",
              "      <td>True</td>\n",
              "      <td>Shincheonji Church</td>\n",
              "      <td>8</td>\n",
              "      <td>-</td>\n",
              "      <td>-</td>\n",
              "    </tr>\n",
              "    <tr>\n",
              "      <th>13</th>\n",
              "      <td>1100006</td>\n",
              "      <td>Busan</td>\n",
              "      <td>from other city</td>\n",
              "      <td>True</td>\n",
              "      <td>Cheongdo Daenam Hospital</td>\n",
              "      <td>1</td>\n",
              "      <td>-</td>\n",
              "      <td>-</td>\n",
              "    </tr>\n",
              "    <tr>\n",
              "      <th>14</th>\n",
              "      <td>1100007</td>\n",
              "      <td>Busan</td>\n",
              "      <td>-</td>\n",
              "      <td>False</td>\n",
              "      <td>etc</td>\n",
              "      <td>32</td>\n",
              "      <td>-</td>\n",
              "      <td>-</td>\n",
              "    </tr>\n",
              "    <tr>\n",
              "      <th>16</th>\n",
              "      <td>1200002</td>\n",
              "      <td>Daegu</td>\n",
              "      <td>-</td>\n",
              "      <td>False</td>\n",
              "      <td>contact with patient</td>\n",
              "      <td>649</td>\n",
              "      <td>-</td>\n",
              "      <td>-</td>\n",
              "    </tr>\n",
              "    <tr>\n",
              "      <th>17</th>\n",
              "      <td>1200003</td>\n",
              "      <td>Daegu</td>\n",
              "      <td>from other city</td>\n",
              "      <td>True</td>\n",
              "      <td>Cheongdo Daenam Hospital</td>\n",
              "      <td>2</td>\n",
              "      <td>-</td>\n",
              "      <td>-</td>\n",
              "    </tr>\n",
              "    <tr>\n",
              "      <th>18</th>\n",
              "      <td>1200004</td>\n",
              "      <td>Daegu</td>\n",
              "      <td>-</td>\n",
              "      <td>False</td>\n",
              "      <td>etc</td>\n",
              "      <td>1056</td>\n",
              "      <td>-</td>\n",
              "      <td>-</td>\n",
              "    </tr>\n",
              "    <tr>\n",
              "      <th>19</th>\n",
              "      <td>1300001</td>\n",
              "      <td>Gwangju</td>\n",
              "      <td>from other city</td>\n",
              "      <td>True</td>\n",
              "      <td>Shincheonji Church</td>\n",
              "      <td>9</td>\n",
              "      <td>-</td>\n",
              "      <td>-</td>\n",
              "    </tr>\n",
              "    <tr>\n",
              "      <th>20</th>\n",
              "      <td>1300002</td>\n",
              "      <td>Gwangju</td>\n",
              "      <td>-</td>\n",
              "      <td>False</td>\n",
              "      <td>contact with patient</td>\n",
              "      <td>4</td>\n",
              "      <td>-</td>\n",
              "      <td>-</td>\n",
              "    </tr>\n",
              "    <tr>\n",
              "      <th>21</th>\n",
              "      <td>1300003</td>\n",
              "      <td>Gwangju</td>\n",
              "      <td>-</td>\n",
              "      <td>False</td>\n",
              "      <td>overseas inflow</td>\n",
              "      <td>1</td>\n",
              "      <td>-</td>\n",
              "      <td>-</td>\n",
              "    </tr>\n",
              "    <tr>\n",
              "      <th>22</th>\n",
              "      <td>1300004</td>\n",
              "      <td>Gwangju</td>\n",
              "      <td>-</td>\n",
              "      <td>False</td>\n",
              "      <td>etc</td>\n",
              "      <td>2</td>\n",
              "      <td>-</td>\n",
              "      <td>-</td>\n",
              "    </tr>\n",
              "    <tr>\n",
              "      <th>23</th>\n",
              "      <td>1400001</td>\n",
              "      <td>Incheon</td>\n",
              "      <td>from other city</td>\n",
              "      <td>True</td>\n",
              "      <td>Guro-gu Call Center</td>\n",
              "      <td>18</td>\n",
              "      <td>-</td>\n",
              "      <td>-</td>\n",
              "    </tr>\n",
              "    <tr>\n",
              "      <th>24</th>\n",
              "      <td>1400002</td>\n",
              "      <td>Incheon</td>\n",
              "      <td>-</td>\n",
              "      <td>False</td>\n",
              "      <td>contact with patient</td>\n",
              "      <td>5</td>\n",
              "      <td>-</td>\n",
              "      <td>-</td>\n",
              "    </tr>\n",
              "    <tr>\n",
              "      <th>25</th>\n",
              "      <td>1400003</td>\n",
              "      <td>Incheon</td>\n",
              "      <td>from other city</td>\n",
              "      <td>True</td>\n",
              "      <td>Shincheonji Church</td>\n",
              "      <td>2</td>\n",
              "      <td>-</td>\n",
              "      <td>-</td>\n",
              "    </tr>\n",
              "    <tr>\n",
              "      <th>26</th>\n",
              "      <td>1400004</td>\n",
              "      <td>Incheon</td>\n",
              "      <td>-</td>\n",
              "      <td>False</td>\n",
              "      <td>overseas inflow</td>\n",
              "      <td>1</td>\n",
              "      <td>-</td>\n",
              "      <td>-</td>\n",
              "    </tr>\n",
              "    <tr>\n",
              "      <th>27</th>\n",
              "      <td>1400005</td>\n",
              "      <td>Incheon</td>\n",
              "      <td>-</td>\n",
              "      <td>False</td>\n",
              "      <td>etc</td>\n",
              "      <td>4</td>\n",
              "      <td>-</td>\n",
              "      <td>-</td>\n",
              "    </tr>\n",
              "    <tr>\n",
              "      <th>28</th>\n",
              "      <td>1500001</td>\n",
              "      <td>Daejeon</td>\n",
              "      <td>-</td>\n",
              "      <td>False</td>\n",
              "      <td>contact with patient</td>\n",
              "      <td>8</td>\n",
              "      <td>-</td>\n",
              "      <td>-</td>\n",
              "    </tr>\n",
              "    <tr>\n",
              "      <th>29</th>\n",
              "      <td>1500002</td>\n",
              "      <td>Daejeon</td>\n",
              "      <td>from other city</td>\n",
              "      <td>True</td>\n",
              "      <td>Shincheonji Church</td>\n",
              "      <td>2</td>\n",
              "      <td>-</td>\n",
              "      <td>-</td>\n",
              "    </tr>\n",
              "    <tr>\n",
              "      <th>30</th>\n",
              "      <td>1500003</td>\n",
              "      <td>Daejeon</td>\n",
              "      <td>from other city</td>\n",
              "      <td>True</td>\n",
              "      <td>Seosan-si Laboratory</td>\n",
              "      <td>2</td>\n",
              "      <td>-</td>\n",
              "      <td>-</td>\n",
              "    </tr>\n",
              "    <tr>\n",
              "      <th>31</th>\n",
              "      <td>1500003</td>\n",
              "      <td>Daejeon</td>\n",
              "      <td>-</td>\n",
              "      <td>False</td>\n",
              "      <td>etc</td>\n",
              "      <td>10</td>\n",
              "      <td>-</td>\n",
              "      <td>-</td>\n",
              "    </tr>\n",
              "    <tr>\n",
              "      <th>32</th>\n",
              "      <td>1600001</td>\n",
              "      <td>Ulsan</td>\n",
              "      <td>from other city</td>\n",
              "      <td>True</td>\n",
              "      <td>Shincheonji Church</td>\n",
              "      <td>16</td>\n",
              "      <td>-</td>\n",
              "      <td>-</td>\n",
              "    </tr>\n",
              "    <tr>\n",
              "      <th>33</th>\n",
              "      <td>1600002</td>\n",
              "      <td>Ulsan</td>\n",
              "      <td>-</td>\n",
              "      <td>False</td>\n",
              "      <td>contact with patient</td>\n",
              "      <td>6</td>\n",
              "      <td>-</td>\n",
              "      <td>-</td>\n",
              "    </tr>\n",
              "    <tr>\n",
              "      <th>34</th>\n",
              "      <td>1600003</td>\n",
              "      <td>Ulsan</td>\n",
              "      <td>-</td>\n",
              "      <td>False</td>\n",
              "      <td>etc</td>\n",
              "      <td>6</td>\n",
              "      <td>-</td>\n",
              "      <td>-</td>\n",
              "    </tr>\n",
              "    <tr>\n",
              "      <th>37</th>\n",
              "      <td>1700003</td>\n",
              "      <td>Sejong</td>\n",
              "      <td>from other city</td>\n",
              "      <td>True</td>\n",
              "      <td>Shincheonji Church</td>\n",
              "      <td>1</td>\n",
              "      <td>-</td>\n",
              "      <td>-</td>\n",
              "    </tr>\n",
              "    <tr>\n",
              "      <th>38</th>\n",
              "      <td>1700004</td>\n",
              "      <td>Sejong</td>\n",
              "      <td>-</td>\n",
              "      <td>False</td>\n",
              "      <td>etc</td>\n",
              "      <td>3</td>\n",
              "      <td>-</td>\n",
              "      <td>-</td>\n",
              "    </tr>\n",
              "    <tr>\n",
              "      <th>39</th>\n",
              "      <td>2000001</td>\n",
              "      <td>Gyeonggi-do</td>\n",
              "      <td>from other city</td>\n",
              "      <td>True</td>\n",
              "      <td>Guro-gu Call Center</td>\n",
              "      <td>32</td>\n",
              "      <td>-</td>\n",
              "      <td>-</td>\n",
              "    </tr>\n",
              "    <tr>\n",
              "      <th>40</th>\n",
              "      <td>2000002</td>\n",
              "      <td>Gyeonggi-do</td>\n",
              "      <td>from other city</td>\n",
              "      <td>True</td>\n",
              "      <td>Shincheonji Church</td>\n",
              "      <td>28</td>\n",
              "      <td>-</td>\n",
              "      <td>-</td>\n",
              "    </tr>\n",
              "    <tr>\n",
              "      <th>44</th>\n",
              "      <td>2000006</td>\n",
              "      <td>Gyeonggi-do</td>\n",
              "      <td>-</td>\n",
              "      <td>False</td>\n",
              "      <td>overseas inflow</td>\n",
              "      <td>6</td>\n",
              "      <td>-</td>\n",
              "      <td>-</td>\n",
              "    </tr>\n",
              "    <tr>\n",
              "      <th>45</th>\n",
              "      <td>2000007</td>\n",
              "      <td>Gyeonggi-do</td>\n",
              "      <td>-</td>\n",
              "      <td>False</td>\n",
              "      <td>etc</td>\n",
              "      <td>47</td>\n",
              "      <td>-</td>\n",
              "      <td>-</td>\n",
              "    </tr>\n",
              "    <tr>\n",
              "      <th>46</th>\n",
              "      <td>3000001</td>\n",
              "      <td>Gangwon-do</td>\n",
              "      <td>from other city</td>\n",
              "      <td>True</td>\n",
              "      <td>Shincheonji Church</td>\n",
              "      <td>20</td>\n",
              "      <td>-</td>\n",
              "      <td>-</td>\n",
              "    </tr>\n",
              "    <tr>\n",
              "      <th>47</th>\n",
              "      <td>3000002</td>\n",
              "      <td>Gangwon-do</td>\n",
              "      <td>from other city</td>\n",
              "      <td>True</td>\n",
              "      <td>gym facility in Cheonan</td>\n",
              "      <td>1</td>\n",
              "      <td>-</td>\n",
              "      <td>-</td>\n",
              "    </tr>\n",
              "    <tr>\n",
              "      <th>48</th>\n",
              "      <td>3000003</td>\n",
              "      <td>Gangwon-do</td>\n",
              "      <td>-</td>\n",
              "      <td>False</td>\n",
              "      <td>etc</td>\n",
              "      <td>8</td>\n",
              "      <td>-</td>\n",
              "      <td>-</td>\n",
              "    </tr>\n",
              "    <tr>\n",
              "      <th>49</th>\n",
              "      <td>4000001</td>\n",
              "      <td>Chungcheongbuk-do</td>\n",
              "      <td>from other city</td>\n",
              "      <td>True</td>\n",
              "      <td>Shincheonji Church</td>\n",
              "      <td>10</td>\n",
              "      <td>-</td>\n",
              "      <td>-</td>\n",
              "    </tr>\n",
              "    <tr>\n",
              "      <th>51</th>\n",
              "      <td>4000003</td>\n",
              "      <td>Chungcheongbuk-do</td>\n",
              "      <td>-</td>\n",
              "      <td>False</td>\n",
              "      <td>contact with patient</td>\n",
              "      <td>6</td>\n",
              "      <td>-</td>\n",
              "      <td>-</td>\n",
              "    </tr>\n",
              "    <tr>\n",
              "      <th>52</th>\n",
              "      <td>4000004</td>\n",
              "      <td>Chungcheongbuk-do</td>\n",
              "      <td>-</td>\n",
              "      <td>False</td>\n",
              "      <td>etc</td>\n",
              "      <td>4</td>\n",
              "      <td>-</td>\n",
              "      <td>-</td>\n",
              "    </tr>\n",
              "    <tr>\n",
              "      <th>55</th>\n",
              "      <td>4100003</td>\n",
              "      <td>Chungcheongnam-do</td>\n",
              "      <td>-</td>\n",
              "      <td>False</td>\n",
              "      <td>etc</td>\n",
              "      <td>3</td>\n",
              "      <td>-</td>\n",
              "      <td>-</td>\n",
              "    </tr>\n",
              "    <tr>\n",
              "      <th>56</th>\n",
              "      <td>5000001</td>\n",
              "      <td>Jeollabuk-do</td>\n",
              "      <td>-</td>\n",
              "      <td>False</td>\n",
              "      <td>contact with patient</td>\n",
              "      <td>2</td>\n",
              "      <td>-</td>\n",
              "      <td>-</td>\n",
              "    </tr>\n",
              "    <tr>\n",
              "      <th>57</th>\n",
              "      <td>5000002</td>\n",
              "      <td>Jeollabuk-do</td>\n",
              "      <td>from other city</td>\n",
              "      <td>True</td>\n",
              "      <td>Shincheonji Church</td>\n",
              "      <td>1</td>\n",
              "      <td>-</td>\n",
              "      <td>-</td>\n",
              "    </tr>\n",
              "    <tr>\n",
              "      <th>58</th>\n",
              "      <td>5000003</td>\n",
              "      <td>Jeollabuk-do</td>\n",
              "      <td>-</td>\n",
              "      <td>False</td>\n",
              "      <td>overseas inflow</td>\n",
              "      <td>1</td>\n",
              "      <td>-</td>\n",
              "      <td>-</td>\n",
              "    </tr>\n",
              "    <tr>\n",
              "      <th>59</th>\n",
              "      <td>5000004</td>\n",
              "      <td>Jeollabuk-do</td>\n",
              "      <td>-</td>\n",
              "      <td>False</td>\n",
              "      <td>etc</td>\n",
              "      <td>3</td>\n",
              "      <td>-</td>\n",
              "      <td>-</td>\n",
              "    </tr>\n",
              "    <tr>\n",
              "      <th>60</th>\n",
              "      <td>5100001</td>\n",
              "      <td>Jeollanam-do</td>\n",
              "      <td>from other city</td>\n",
              "      <td>True</td>\n",
              "      <td>Shincheonji Church</td>\n",
              "      <td>1</td>\n",
              "      <td>-</td>\n",
              "      <td>-</td>\n",
              "    </tr>\n",
              "    <tr>\n",
              "      <th>61</th>\n",
              "      <td>5100002</td>\n",
              "      <td>Jeollanam-do</td>\n",
              "      <td>-</td>\n",
              "      <td>False</td>\n",
              "      <td>overseas inflow</td>\n",
              "      <td>1</td>\n",
              "      <td>-</td>\n",
              "      <td>-</td>\n",
              "    </tr>\n",
              "    <tr>\n",
              "      <th>62</th>\n",
              "      <td>5100003</td>\n",
              "      <td>Jeollanam-do</td>\n",
              "      <td>-</td>\n",
              "      <td>False</td>\n",
              "      <td>contact with patient</td>\n",
              "      <td>1</td>\n",
              "      <td>-</td>\n",
              "      <td>-</td>\n",
              "    </tr>\n",
              "    <tr>\n",
              "      <th>63</th>\n",
              "      <td>5100004</td>\n",
              "      <td>Jeollanam-do</td>\n",
              "      <td>-</td>\n",
              "      <td>False</td>\n",
              "      <td>etc</td>\n",
              "      <td>1</td>\n",
              "      <td>-</td>\n",
              "      <td>-</td>\n",
              "    </tr>\n",
              "    <tr>\n",
              "      <th>64</th>\n",
              "      <td>6000001</td>\n",
              "      <td>Gyeongsangbuk-do</td>\n",
              "      <td>from other city</td>\n",
              "      <td>True</td>\n",
              "      <td>Shincheonji Church</td>\n",
              "      <td>517</td>\n",
              "      <td>-</td>\n",
              "      <td>-</td>\n",
              "    </tr>\n",
              "    <tr>\n",
              "      <th>67</th>\n",
              "      <td>6000004</td>\n",
              "      <td>Gyeongsangbuk-do</td>\n",
              "      <td>from other city</td>\n",
              "      <td>True</td>\n",
              "      <td>Pilgrimage to Israel</td>\n",
              "      <td>49</td>\n",
              "      <td>-</td>\n",
              "      <td>-</td>\n",
              "    </tr>\n",
              "    <tr>\n",
              "      <th>72</th>\n",
              "      <td>6000009</td>\n",
              "      <td>Gyeongsangbuk-do</td>\n",
              "      <td>-</td>\n",
              "      <td>False</td>\n",
              "      <td>etc</td>\n",
              "      <td>322</td>\n",
              "      <td>-</td>\n",
              "      <td>-</td>\n",
              "    </tr>\n",
              "    <tr>\n",
              "      <th>73</th>\n",
              "      <td>6100001</td>\n",
              "      <td>Gyeongsangnam-do</td>\n",
              "      <td>from other city</td>\n",
              "      <td>True</td>\n",
              "      <td>Shincheonji Church</td>\n",
              "      <td>32</td>\n",
              "      <td>-</td>\n",
              "      <td>-</td>\n",
              "    </tr>\n",
              "    <tr>\n",
              "      <th>78</th>\n",
              "      <td>6100006</td>\n",
              "      <td>Gyeongsangnam-do</td>\n",
              "      <td>from other city</td>\n",
              "      <td>True</td>\n",
              "      <td>Onchun Church</td>\n",
              "      <td>2</td>\n",
              "      <td>-</td>\n",
              "      <td>-</td>\n",
              "    </tr>\n",
              "    <tr>\n",
              "      <th>79</th>\n",
              "      <td>6100007</td>\n",
              "      <td>Gyeongsangnam-do</td>\n",
              "      <td>-</td>\n",
              "      <td>False</td>\n",
              "      <td>etc</td>\n",
              "      <td>19</td>\n",
              "      <td>-</td>\n",
              "      <td>-</td>\n",
              "    </tr>\n",
              "    <tr>\n",
              "      <th>80</th>\n",
              "      <td>7000001</td>\n",
              "      <td>Jeju-do</td>\n",
              "      <td>-</td>\n",
              "      <td>False</td>\n",
              "      <td>etc</td>\n",
              "      <td>4</td>\n",
              "      <td>-</td>\n",
              "      <td>-</td>\n",
              "    </tr>\n",
              "  </tbody>\n",
              "</table>\n",
              "</div>"
            ],
            "text/plain": [
              "    case_id           province             city  ...  confirmed latitude  longitude\n",
              "6   1000007              Seoul  from other city  ...          6        -          -\n",
              "7   1000008              Seoul                -  ...         65        -          -\n",
              "9   1100002              Busan  from other city  ...          8        -          -\n",
              "13  1100006              Busan  from other city  ...          1        -          -\n",
              "14  1100007              Busan                -  ...         32        -          -\n",
              "16  1200002              Daegu                -  ...        649        -          -\n",
              "17  1200003              Daegu  from other city  ...          2        -          -\n",
              "18  1200004              Daegu                -  ...       1056        -          -\n",
              "19  1300001            Gwangju  from other city  ...          9        -          -\n",
              "20  1300002            Gwangju                -  ...          4        -          -\n",
              "21  1300003            Gwangju                -  ...          1        -          -\n",
              "22  1300004            Gwangju                -  ...          2        -          -\n",
              "23  1400001            Incheon  from other city  ...         18        -          -\n",
              "24  1400002            Incheon                -  ...          5        -          -\n",
              "25  1400003            Incheon  from other city  ...          2        -          -\n",
              "26  1400004            Incheon                -  ...          1        -          -\n",
              "27  1400005            Incheon                -  ...          4        -          -\n",
              "28  1500001            Daejeon                -  ...          8        -          -\n",
              "29  1500002            Daejeon  from other city  ...          2        -          -\n",
              "30  1500003            Daejeon  from other city  ...          2        -          -\n",
              "31  1500003            Daejeon                -  ...         10        -          -\n",
              "32  1600001              Ulsan  from other city  ...         16        -          -\n",
              "33  1600002              Ulsan                -  ...          6        -          -\n",
              "34  1600003              Ulsan                -  ...          6        -          -\n",
              "37  1700003             Sejong  from other city  ...          1        -          -\n",
              "38  1700004             Sejong                -  ...          3        -          -\n",
              "39  2000001        Gyeonggi-do  from other city  ...         32        -          -\n",
              "40  2000002        Gyeonggi-do  from other city  ...         28        -          -\n",
              "44  2000006        Gyeonggi-do                -  ...          6        -          -\n",
              "45  2000007        Gyeonggi-do                -  ...         47        -          -\n",
              "46  3000001         Gangwon-do  from other city  ...         20        -          -\n",
              "47  3000002         Gangwon-do  from other city  ...          1        -          -\n",
              "48  3000003         Gangwon-do                -  ...          8        -          -\n",
              "49  4000001  Chungcheongbuk-do  from other city  ...         10        -          -\n",
              "51  4000003  Chungcheongbuk-do                -  ...          6        -          -\n",
              "52  4000004  Chungcheongbuk-do                -  ...          4        -          -\n",
              "55  4100003  Chungcheongnam-do                -  ...          3        -          -\n",
              "56  5000001       Jeollabuk-do                -  ...          2        -          -\n",
              "57  5000002       Jeollabuk-do  from other city  ...          1        -          -\n",
              "58  5000003       Jeollabuk-do                -  ...          1        -          -\n",
              "59  5000004       Jeollabuk-do                -  ...          3        -          -\n",
              "60  5100001       Jeollanam-do  from other city  ...          1        -          -\n",
              "61  5100002       Jeollanam-do                -  ...          1        -          -\n",
              "62  5100003       Jeollanam-do                -  ...          1        -          -\n",
              "63  5100004       Jeollanam-do                -  ...          1        -          -\n",
              "64  6000001   Gyeongsangbuk-do  from other city  ...        517        -          -\n",
              "67  6000004   Gyeongsangbuk-do  from other city  ...         49        -          -\n",
              "72  6000009   Gyeongsangbuk-do                -  ...        322        -          -\n",
              "73  6100001   Gyeongsangnam-do  from other city  ...         32        -          -\n",
              "78  6100006   Gyeongsangnam-do  from other city  ...          2        -          -\n",
              "79  6100007   Gyeongsangnam-do                -  ...         19        -          -\n",
              "80  7000001            Jeju-do                -  ...          4        -          -\n",
              "\n",
              "[52 rows x 8 columns]"
            ]
          },
          "metadata": {
            "tags": []
          },
          "execution_count": 14
        }
      ]
    },
    {
      "cell_type": "code",
      "metadata": {
        "id": "vIV8DOQdxiAE",
        "colab_type": "code",
        "outputId": "22a07e24-0d5c-450a-bc82-391095d8f1cc",
        "colab": {
          "base_uri": "https://localhost:8080/",
          "height": 918
        }
      },
      "source": [
        "df_casef = df_case[df_case.latitude != '-']\n",
        "df_casef"
      ],
      "execution_count": 15,
      "outputs": [
        {
          "output_type": "execute_result",
          "data": {
            "text/html": [
              "<div>\n",
              "<style scoped>\n",
              "    .dataframe tbody tr th:only-of-type {\n",
              "        vertical-align: middle;\n",
              "    }\n",
              "\n",
              "    .dataframe tbody tr th {\n",
              "        vertical-align: top;\n",
              "    }\n",
              "\n",
              "    .dataframe thead th {\n",
              "        text-align: right;\n",
              "    }\n",
              "</style>\n",
              "<table border=\"1\" class=\"dataframe\">\n",
              "  <thead>\n",
              "    <tr style=\"text-align: right;\">\n",
              "      <th></th>\n",
              "      <th>case_id</th>\n",
              "      <th>province</th>\n",
              "      <th>city</th>\n",
              "      <th>group</th>\n",
              "      <th>infection_case</th>\n",
              "      <th>confirmed</th>\n",
              "      <th>latitude</th>\n",
              "      <th>longitude</th>\n",
              "    </tr>\n",
              "  </thead>\n",
              "  <tbody>\n",
              "    <tr>\n",
              "      <th>0</th>\n",
              "      <td>1000001</td>\n",
              "      <td>Seoul</td>\n",
              "      <td>Guro-gu</td>\n",
              "      <td>True</td>\n",
              "      <td>Guro-gu Call Center</td>\n",
              "      <td>79</td>\n",
              "      <td>37.508163</td>\n",
              "      <td>126.884387</td>\n",
              "    </tr>\n",
              "    <tr>\n",
              "      <th>1</th>\n",
              "      <td>1000002</td>\n",
              "      <td>Seoul</td>\n",
              "      <td>Dongdaemun-gu</td>\n",
              "      <td>True</td>\n",
              "      <td>Dongan Church</td>\n",
              "      <td>24</td>\n",
              "      <td>37.592888</td>\n",
              "      <td>127.056766</td>\n",
              "    </tr>\n",
              "    <tr>\n",
              "      <th>2</th>\n",
              "      <td>1000003</td>\n",
              "      <td>Seoul</td>\n",
              "      <td>Eunpyeong-gu</td>\n",
              "      <td>True</td>\n",
              "      <td>Eunpyeong St. Mary's Hospital</td>\n",
              "      <td>14</td>\n",
              "      <td>37.63369</td>\n",
              "      <td>126.9165</td>\n",
              "    </tr>\n",
              "    <tr>\n",
              "      <th>3</th>\n",
              "      <td>1000004</td>\n",
              "      <td>Seoul</td>\n",
              "      <td>Seongdong-gu</td>\n",
              "      <td>True</td>\n",
              "      <td>Seongdong-gu APT</td>\n",
              "      <td>13</td>\n",
              "      <td>37.55713</td>\n",
              "      <td>127.0403</td>\n",
              "    </tr>\n",
              "    <tr>\n",
              "      <th>4</th>\n",
              "      <td>1000005</td>\n",
              "      <td>Seoul</td>\n",
              "      <td>Jongno-gu</td>\n",
              "      <td>True</td>\n",
              "      <td>Jongno Community Center</td>\n",
              "      <td>10</td>\n",
              "      <td>37.57681</td>\n",
              "      <td>127.006</td>\n",
              "    </tr>\n",
              "    <tr>\n",
              "      <th>5</th>\n",
              "      <td>1000006</td>\n",
              "      <td>Seoul</td>\n",
              "      <td>Jung-gu</td>\n",
              "      <td>True</td>\n",
              "      <td>Jung-gu Fashion Company</td>\n",
              "      <td>7</td>\n",
              "      <td>37.562405</td>\n",
              "      <td>126.984377</td>\n",
              "    </tr>\n",
              "    <tr>\n",
              "      <th>8</th>\n",
              "      <td>1100001</td>\n",
              "      <td>Busan</td>\n",
              "      <td>Dongnae-gu</td>\n",
              "      <td>True</td>\n",
              "      <td>Onchun Church</td>\n",
              "      <td>34</td>\n",
              "      <td>35.21628</td>\n",
              "      <td>129.0771</td>\n",
              "    </tr>\n",
              "    <tr>\n",
              "      <th>10</th>\n",
              "      <td>1100003</td>\n",
              "      <td>Busan</td>\n",
              "      <td>Suyeong-gu</td>\n",
              "      <td>True</td>\n",
              "      <td>Suyeong-gu Kindergarten</td>\n",
              "      <td>6</td>\n",
              "      <td>35.16708</td>\n",
              "      <td>129.1124</td>\n",
              "    </tr>\n",
              "    <tr>\n",
              "      <th>11</th>\n",
              "      <td>1100004</td>\n",
              "      <td>Busan</td>\n",
              "      <td>Haeundae-gu</td>\n",
              "      <td>True</td>\n",
              "      <td>Haeundae-gu Catholic Church</td>\n",
              "      <td>6</td>\n",
              "      <td>35.20599</td>\n",
              "      <td>129.1256</td>\n",
              "    </tr>\n",
              "    <tr>\n",
              "      <th>12</th>\n",
              "      <td>1100005</td>\n",
              "      <td>Busan</td>\n",
              "      <td>Jin-gu</td>\n",
              "      <td>True</td>\n",
              "      <td>Jin-gu Academy</td>\n",
              "      <td>4</td>\n",
              "      <td>35.17371</td>\n",
              "      <td>129.0633</td>\n",
              "    </tr>\n",
              "    <tr>\n",
              "      <th>15</th>\n",
              "      <td>1200001</td>\n",
              "      <td>Daegu</td>\n",
              "      <td>Nam-gu</td>\n",
              "      <td>True</td>\n",
              "      <td>Shincheonji Church</td>\n",
              "      <td>4359</td>\n",
              "      <td>35.84008</td>\n",
              "      <td>128.5667</td>\n",
              "    </tr>\n",
              "    <tr>\n",
              "      <th>35</th>\n",
              "      <td>1700001</td>\n",
              "      <td>Sejong</td>\n",
              "      <td>Eojin-dong</td>\n",
              "      <td>True</td>\n",
              "      <td>Ministry of Oceans and Fisheries</td>\n",
              "      <td>28</td>\n",
              "      <td>36.504713</td>\n",
              "      <td>127.265172</td>\n",
              "    </tr>\n",
              "    <tr>\n",
              "      <th>36</th>\n",
              "      <td>1700002</td>\n",
              "      <td>Sejong</td>\n",
              "      <td>Boram-dong</td>\n",
              "      <td>True</td>\n",
              "      <td>gym facility in Sejong</td>\n",
              "      <td>8</td>\n",
              "      <td>36.48025</td>\n",
              "      <td>127.289</td>\n",
              "    </tr>\n",
              "    <tr>\n",
              "      <th>41</th>\n",
              "      <td>2000003</td>\n",
              "      <td>Gyeonggi-do</td>\n",
              "      <td>Seongnam-si</td>\n",
              "      <td>True</td>\n",
              "      <td>Bundang Jesaeng Hospital</td>\n",
              "      <td>22</td>\n",
              "      <td>37.38833</td>\n",
              "      <td>127.1218</td>\n",
              "    </tr>\n",
              "    <tr>\n",
              "      <th>42</th>\n",
              "      <td>2000004</td>\n",
              "      <td>Gyeonggi-do</td>\n",
              "      <td>Seongnam-si</td>\n",
              "      <td>True</td>\n",
              "      <td>River of Grace Community Church</td>\n",
              "      <td>19</td>\n",
              "      <td>37.455687</td>\n",
              "      <td>127.161627</td>\n",
              "    </tr>\n",
              "    <tr>\n",
              "      <th>43</th>\n",
              "      <td>2000005</td>\n",
              "      <td>Gyeonggi-do</td>\n",
              "      <td>Suwon-si</td>\n",
              "      <td>True</td>\n",
              "      <td>Suwon Saeng Myeong Saem Church</td>\n",
              "      <td>10</td>\n",
              "      <td>37.2376</td>\n",
              "      <td>127.0517</td>\n",
              "    </tr>\n",
              "    <tr>\n",
              "      <th>50</th>\n",
              "      <td>4000002</td>\n",
              "      <td>Chungcheongbuk-do</td>\n",
              "      <td>Goesan-gun</td>\n",
              "      <td>True</td>\n",
              "      <td>Goesan-gun Jangyeon-myeon</td>\n",
              "      <td>11</td>\n",
              "      <td>36.82422</td>\n",
              "      <td>127.9552</td>\n",
              "    </tr>\n",
              "    <tr>\n",
              "      <th>53</th>\n",
              "      <td>4100001</td>\n",
              "      <td>Chungcheongnam-do</td>\n",
              "      <td>Cheonan-si</td>\n",
              "      <td>True</td>\n",
              "      <td>gym facility in Cheonan</td>\n",
              "      <td>104</td>\n",
              "      <td>36.81503</td>\n",
              "      <td>127.1139</td>\n",
              "    </tr>\n",
              "    <tr>\n",
              "      <th>54</th>\n",
              "      <td>4100002</td>\n",
              "      <td>Chungcheongnam-do</td>\n",
              "      <td>Seosan-si</td>\n",
              "      <td>True</td>\n",
              "      <td>Seosan-si Laboratory</td>\n",
              "      <td>8</td>\n",
              "      <td>37.000354</td>\n",
              "      <td>126.354443</td>\n",
              "    </tr>\n",
              "    <tr>\n",
              "      <th>65</th>\n",
              "      <td>6000002</td>\n",
              "      <td>Gyeongsangbuk-do</td>\n",
              "      <td>Cheongdo-gun</td>\n",
              "      <td>True</td>\n",
              "      <td>Cheongdo Daenam Hospital</td>\n",
              "      <td>119</td>\n",
              "      <td>35.64887</td>\n",
              "      <td>128.7368</td>\n",
              "    </tr>\n",
              "    <tr>\n",
              "      <th>66</th>\n",
              "      <td>6000003</td>\n",
              "      <td>Gyeongsangbuk-do</td>\n",
              "      <td>Bonghwa-gun</td>\n",
              "      <td>True</td>\n",
              "      <td>Bonghwa Pureun Nursing Home</td>\n",
              "      <td>58</td>\n",
              "      <td>36.92757</td>\n",
              "      <td>128.9099</td>\n",
              "    </tr>\n",
              "    <tr>\n",
              "      <th>68</th>\n",
              "      <td>6000005</td>\n",
              "      <td>Gyeongsangbuk-do</td>\n",
              "      <td>Chilgok-gun</td>\n",
              "      <td>True</td>\n",
              "      <td>Milal Shelter</td>\n",
              "      <td>25</td>\n",
              "      <td>36.0581</td>\n",
              "      <td>128.4941</td>\n",
              "    </tr>\n",
              "    <tr>\n",
              "      <th>69</th>\n",
              "      <td>6000006</td>\n",
              "      <td>Gyeongsangbuk-do</td>\n",
              "      <td>Gyeongsan-si</td>\n",
              "      <td>True</td>\n",
              "      <td>Gyeongsan Seorin Nursing Home</td>\n",
              "      <td>22</td>\n",
              "      <td>35.782149</td>\n",
              "      <td>128.801498</td>\n",
              "    </tr>\n",
              "    <tr>\n",
              "      <th>70</th>\n",
              "      <td>6000007</td>\n",
              "      <td>Gyeongsangbuk-do</td>\n",
              "      <td>Gyeongsan-si</td>\n",
              "      <td>True</td>\n",
              "      <td>Gyeongsan Jeil Silver Town</td>\n",
              "      <td>17</td>\n",
              "      <td>35.84819</td>\n",
              "      <td>128.7621</td>\n",
              "    </tr>\n",
              "    <tr>\n",
              "      <th>71</th>\n",
              "      <td>6000008</td>\n",
              "      <td>Gyeongsangbuk-do</td>\n",
              "      <td>Gyeongsan-si</td>\n",
              "      <td>True</td>\n",
              "      <td>Gyeongsan Cham Joeun Community Center</td>\n",
              "      <td>16</td>\n",
              "      <td>35.82558</td>\n",
              "      <td>128.7373</td>\n",
              "    </tr>\n",
              "    <tr>\n",
              "      <th>74</th>\n",
              "      <td>6100002</td>\n",
              "      <td>Gyeongsangnam-do</td>\n",
              "      <td>Geochang-gun</td>\n",
              "      <td>True</td>\n",
              "      <td>Geochang Church</td>\n",
              "      <td>10</td>\n",
              "      <td>35.68556</td>\n",
              "      <td>127.9127</td>\n",
              "    </tr>\n",
              "    <tr>\n",
              "      <th>75</th>\n",
              "      <td>6100003</td>\n",
              "      <td>Gyeongsangnam-do</td>\n",
              "      <td>Geochang-gun</td>\n",
              "      <td>True</td>\n",
              "      <td>Geochang-gun Woongyang-myeon</td>\n",
              "      <td>8</td>\n",
              "      <td>35.805681</td>\n",
              "      <td>127.917805</td>\n",
              "    </tr>\n",
              "    <tr>\n",
              "      <th>76</th>\n",
              "      <td>6100004</td>\n",
              "      <td>Gyeongsangnam-do</td>\n",
              "      <td>Changwon-si</td>\n",
              "      <td>True</td>\n",
              "      <td>Hanmaeum Changwon Hospital</td>\n",
              "      <td>7</td>\n",
              "      <td>35.22115</td>\n",
              "      <td>128.6866</td>\n",
              "    </tr>\n",
              "    <tr>\n",
              "      <th>77</th>\n",
              "      <td>6100005</td>\n",
              "      <td>Gyeongsangnam-do</td>\n",
              "      <td>Changnyeong-gun</td>\n",
              "      <td>True</td>\n",
              "      <td>Changnyeong Coin Karaoke</td>\n",
              "      <td>7</td>\n",
              "      <td>35.54127</td>\n",
              "      <td>128.5008</td>\n",
              "    </tr>\n",
              "  </tbody>\n",
              "</table>\n",
              "</div>"
            ],
            "text/plain": [
              "    case_id           province  ...   latitude   longitude\n",
              "0   1000001              Seoul  ...  37.508163  126.884387\n",
              "1   1000002              Seoul  ...  37.592888  127.056766\n",
              "2   1000003              Seoul  ...   37.63369    126.9165\n",
              "3   1000004              Seoul  ...   37.55713    127.0403\n",
              "4   1000005              Seoul  ...   37.57681     127.006\n",
              "5   1000006              Seoul  ...  37.562405  126.984377\n",
              "8   1100001              Busan  ...   35.21628    129.0771\n",
              "10  1100003              Busan  ...   35.16708    129.1124\n",
              "11  1100004              Busan  ...   35.20599    129.1256\n",
              "12  1100005              Busan  ...   35.17371    129.0633\n",
              "15  1200001              Daegu  ...   35.84008    128.5667\n",
              "35  1700001             Sejong  ...  36.504713  127.265172\n",
              "36  1700002             Sejong  ...   36.48025     127.289\n",
              "41  2000003        Gyeonggi-do  ...   37.38833    127.1218\n",
              "42  2000004        Gyeonggi-do  ...  37.455687  127.161627\n",
              "43  2000005        Gyeonggi-do  ...    37.2376    127.0517\n",
              "50  4000002  Chungcheongbuk-do  ...   36.82422    127.9552\n",
              "53  4100001  Chungcheongnam-do  ...   36.81503    127.1139\n",
              "54  4100002  Chungcheongnam-do  ...  37.000354  126.354443\n",
              "65  6000002   Gyeongsangbuk-do  ...   35.64887    128.7368\n",
              "66  6000003   Gyeongsangbuk-do  ...   36.92757    128.9099\n",
              "68  6000005   Gyeongsangbuk-do  ...    36.0581    128.4941\n",
              "69  6000006   Gyeongsangbuk-do  ...  35.782149  128.801498\n",
              "70  6000007   Gyeongsangbuk-do  ...   35.84819    128.7621\n",
              "71  6000008   Gyeongsangbuk-do  ...   35.82558    128.7373\n",
              "74  6100002   Gyeongsangnam-do  ...   35.68556    127.9127\n",
              "75  6100003   Gyeongsangnam-do  ...  35.805681  127.917805\n",
              "76  6100004   Gyeongsangnam-do  ...   35.22115    128.6866\n",
              "77  6100005   Gyeongsangnam-do  ...   35.54127    128.5008\n",
              "\n",
              "[29 rows x 8 columns]"
            ]
          },
          "metadata": {
            "tags": []
          },
          "execution_count": 15
        }
      ]
    },
    {
      "cell_type": "code",
      "metadata": {
        "id": "hfkuMSHyBZ9o",
        "colab_type": "code",
        "outputId": "be26b6f6-f48e-443b-feee-d2226cf8615e",
        "colab": {
          "base_uri": "https://localhost:8080/",
          "height": 918
        }
      },
      "source": [
        "greatpoints=pd.DataFrame(data=df_casef, columns=['case_id','latitude','longitude'])\n",
        "greatpoints"
      ],
      "execution_count": 16,
      "outputs": [
        {
          "output_type": "execute_result",
          "data": {
            "text/html": [
              "<div>\n",
              "<style scoped>\n",
              "    .dataframe tbody tr th:only-of-type {\n",
              "        vertical-align: middle;\n",
              "    }\n",
              "\n",
              "    .dataframe tbody tr th {\n",
              "        vertical-align: top;\n",
              "    }\n",
              "\n",
              "    .dataframe thead th {\n",
              "        text-align: right;\n",
              "    }\n",
              "</style>\n",
              "<table border=\"1\" class=\"dataframe\">\n",
              "  <thead>\n",
              "    <tr style=\"text-align: right;\">\n",
              "      <th></th>\n",
              "      <th>case_id</th>\n",
              "      <th>latitude</th>\n",
              "      <th>longitude</th>\n",
              "    </tr>\n",
              "  </thead>\n",
              "  <tbody>\n",
              "    <tr>\n",
              "      <th>0</th>\n",
              "      <td>1000001</td>\n",
              "      <td>37.508163</td>\n",
              "      <td>126.884387</td>\n",
              "    </tr>\n",
              "    <tr>\n",
              "      <th>1</th>\n",
              "      <td>1000002</td>\n",
              "      <td>37.592888</td>\n",
              "      <td>127.056766</td>\n",
              "    </tr>\n",
              "    <tr>\n",
              "      <th>2</th>\n",
              "      <td>1000003</td>\n",
              "      <td>37.63369</td>\n",
              "      <td>126.9165</td>\n",
              "    </tr>\n",
              "    <tr>\n",
              "      <th>3</th>\n",
              "      <td>1000004</td>\n",
              "      <td>37.55713</td>\n",
              "      <td>127.0403</td>\n",
              "    </tr>\n",
              "    <tr>\n",
              "      <th>4</th>\n",
              "      <td>1000005</td>\n",
              "      <td>37.57681</td>\n",
              "      <td>127.006</td>\n",
              "    </tr>\n",
              "    <tr>\n",
              "      <th>5</th>\n",
              "      <td>1000006</td>\n",
              "      <td>37.562405</td>\n",
              "      <td>126.984377</td>\n",
              "    </tr>\n",
              "    <tr>\n",
              "      <th>8</th>\n",
              "      <td>1100001</td>\n",
              "      <td>35.21628</td>\n",
              "      <td>129.0771</td>\n",
              "    </tr>\n",
              "    <tr>\n",
              "      <th>10</th>\n",
              "      <td>1100003</td>\n",
              "      <td>35.16708</td>\n",
              "      <td>129.1124</td>\n",
              "    </tr>\n",
              "    <tr>\n",
              "      <th>11</th>\n",
              "      <td>1100004</td>\n",
              "      <td>35.20599</td>\n",
              "      <td>129.1256</td>\n",
              "    </tr>\n",
              "    <tr>\n",
              "      <th>12</th>\n",
              "      <td>1100005</td>\n",
              "      <td>35.17371</td>\n",
              "      <td>129.0633</td>\n",
              "    </tr>\n",
              "    <tr>\n",
              "      <th>15</th>\n",
              "      <td>1200001</td>\n",
              "      <td>35.84008</td>\n",
              "      <td>128.5667</td>\n",
              "    </tr>\n",
              "    <tr>\n",
              "      <th>35</th>\n",
              "      <td>1700001</td>\n",
              "      <td>36.504713</td>\n",
              "      <td>127.265172</td>\n",
              "    </tr>\n",
              "    <tr>\n",
              "      <th>36</th>\n",
              "      <td>1700002</td>\n",
              "      <td>36.48025</td>\n",
              "      <td>127.289</td>\n",
              "    </tr>\n",
              "    <tr>\n",
              "      <th>41</th>\n",
              "      <td>2000003</td>\n",
              "      <td>37.38833</td>\n",
              "      <td>127.1218</td>\n",
              "    </tr>\n",
              "    <tr>\n",
              "      <th>42</th>\n",
              "      <td>2000004</td>\n",
              "      <td>37.455687</td>\n",
              "      <td>127.161627</td>\n",
              "    </tr>\n",
              "    <tr>\n",
              "      <th>43</th>\n",
              "      <td>2000005</td>\n",
              "      <td>37.2376</td>\n",
              "      <td>127.0517</td>\n",
              "    </tr>\n",
              "    <tr>\n",
              "      <th>50</th>\n",
              "      <td>4000002</td>\n",
              "      <td>36.82422</td>\n",
              "      <td>127.9552</td>\n",
              "    </tr>\n",
              "    <tr>\n",
              "      <th>53</th>\n",
              "      <td>4100001</td>\n",
              "      <td>36.81503</td>\n",
              "      <td>127.1139</td>\n",
              "    </tr>\n",
              "    <tr>\n",
              "      <th>54</th>\n",
              "      <td>4100002</td>\n",
              "      <td>37.000354</td>\n",
              "      <td>126.354443</td>\n",
              "    </tr>\n",
              "    <tr>\n",
              "      <th>65</th>\n",
              "      <td>6000002</td>\n",
              "      <td>35.64887</td>\n",
              "      <td>128.7368</td>\n",
              "    </tr>\n",
              "    <tr>\n",
              "      <th>66</th>\n",
              "      <td>6000003</td>\n",
              "      <td>36.92757</td>\n",
              "      <td>128.9099</td>\n",
              "    </tr>\n",
              "    <tr>\n",
              "      <th>68</th>\n",
              "      <td>6000005</td>\n",
              "      <td>36.0581</td>\n",
              "      <td>128.4941</td>\n",
              "    </tr>\n",
              "    <tr>\n",
              "      <th>69</th>\n",
              "      <td>6000006</td>\n",
              "      <td>35.782149</td>\n",
              "      <td>128.801498</td>\n",
              "    </tr>\n",
              "    <tr>\n",
              "      <th>70</th>\n",
              "      <td>6000007</td>\n",
              "      <td>35.84819</td>\n",
              "      <td>128.7621</td>\n",
              "    </tr>\n",
              "    <tr>\n",
              "      <th>71</th>\n",
              "      <td>6000008</td>\n",
              "      <td>35.82558</td>\n",
              "      <td>128.7373</td>\n",
              "    </tr>\n",
              "    <tr>\n",
              "      <th>74</th>\n",
              "      <td>6100002</td>\n",
              "      <td>35.68556</td>\n",
              "      <td>127.9127</td>\n",
              "    </tr>\n",
              "    <tr>\n",
              "      <th>75</th>\n",
              "      <td>6100003</td>\n",
              "      <td>35.805681</td>\n",
              "      <td>127.917805</td>\n",
              "    </tr>\n",
              "    <tr>\n",
              "      <th>76</th>\n",
              "      <td>6100004</td>\n",
              "      <td>35.22115</td>\n",
              "      <td>128.6866</td>\n",
              "    </tr>\n",
              "    <tr>\n",
              "      <th>77</th>\n",
              "      <td>6100005</td>\n",
              "      <td>35.54127</td>\n",
              "      <td>128.5008</td>\n",
              "    </tr>\n",
              "  </tbody>\n",
              "</table>\n",
              "</div>"
            ],
            "text/plain": [
              "    case_id   latitude   longitude\n",
              "0   1000001  37.508163  126.884387\n",
              "1   1000002  37.592888  127.056766\n",
              "2   1000003   37.63369    126.9165\n",
              "3   1000004   37.55713    127.0403\n",
              "4   1000005   37.57681     127.006\n",
              "5   1000006  37.562405  126.984377\n",
              "8   1100001   35.21628    129.0771\n",
              "10  1100003   35.16708    129.1124\n",
              "11  1100004   35.20599    129.1256\n",
              "12  1100005   35.17371    129.0633\n",
              "15  1200001   35.84008    128.5667\n",
              "35  1700001  36.504713  127.265172\n",
              "36  1700002   36.48025     127.289\n",
              "41  2000003   37.38833    127.1218\n",
              "42  2000004  37.455687  127.161627\n",
              "43  2000005    37.2376    127.0517\n",
              "50  4000002   36.82422    127.9552\n",
              "53  4100001   36.81503    127.1139\n",
              "54  4100002  37.000354  126.354443\n",
              "65  6000002   35.64887    128.7368\n",
              "66  6000003   36.92757    128.9099\n",
              "68  6000005    36.0581    128.4941\n",
              "69  6000006  35.782149  128.801498\n",
              "70  6000007   35.84819    128.7621\n",
              "71  6000008   35.82558    128.7373\n",
              "74  6100002   35.68556    127.9127\n",
              "75  6100003  35.805681  127.917805\n",
              "76  6100004   35.22115    128.6866\n",
              "77  6100005   35.54127    128.5008"
            ]
          },
          "metadata": {
            "tags": []
          },
          "execution_count": 16
        }
      ]
    },
    {
      "cell_type": "markdown",
      "metadata": {
        "id": "0561o6-VoOoK",
        "colab_type": "text"
      },
      "source": [
        "#Make DF Case Geodataframe"
      ]
    },
    {
      "cell_type": "markdown",
      "metadata": {
        "id": "CEKWHV5SHdmW",
        "colab_type": "text"
      },
      "source": [
        "In order to easily map the data I created a geodataframe.\n",
        "\n",
        "It turns out WGS84 stands for World Geodetic System 1984 and the crs for this is actually EPSG:3395."
      ]
    },
    {
      "cell_type": "code",
      "metadata": {
        "id": "QnVv7JET5W7p",
        "colab_type": "code",
        "outputId": "4740b5fe-0620-4893-a05c-9054f45615db",
        "colab": {
          "base_uri": "https://localhost:8080/",
          "height": 255
        }
      },
      "source": [
        "def create_gdf(df_casef, lng, lat):\n",
        "    \"Convert pandas dataframe into a Geopandas GeoDataFrame\"\n",
        "    crs = {'init': 'EPSG:3395'}\n",
        "    xlng= pd.to_numeric(df_casef['longitude'], errors='coerce')\n",
        "    ylat= pd.to_numeric(df_casef['latitude'], errors='coerce')\n",
        "    geometry = [Point(xy) for xy in zip(xlng, ylat)]\n",
        "    gdf2 = gpd.GeoDataFrame(df_casef, crs= crs , geometry=geometry)\n",
        "    return gdf2\n",
        "gdf_casef =  create_gdf(df_casef, \"longitude\", \"latitude\")\n",
        "gdf_casef.tail()"
      ],
      "execution_count": 17,
      "outputs": [
        {
          "output_type": "stream",
          "text": [
            "/usr/local/lib/python3.6/dist-packages/pyproj/crs/crs.py:53: FutureWarning: '+init=<authority>:<code>' syntax is deprecated. '<authority>:<code>' is the preferred initialization method. When making the change, be mindful of axis order changes: https://pyproj4.github.io/pyproj/stable/gotchas.html#axis-order-changes-in-proj-6\n",
            "  return _prepare_from_string(\" \".join(pjargs))\n"
          ],
          "name": "stderr"
        },
        {
          "output_type": "execute_result",
          "data": {
            "text/html": [
              "<div>\n",
              "<style scoped>\n",
              "    .dataframe tbody tr th:only-of-type {\n",
              "        vertical-align: middle;\n",
              "    }\n",
              "\n",
              "    .dataframe tbody tr th {\n",
              "        vertical-align: top;\n",
              "    }\n",
              "\n",
              "    .dataframe thead th {\n",
              "        text-align: right;\n",
              "    }\n",
              "</style>\n",
              "<table border=\"1\" class=\"dataframe\">\n",
              "  <thead>\n",
              "    <tr style=\"text-align: right;\">\n",
              "      <th></th>\n",
              "      <th>case_id</th>\n",
              "      <th>province</th>\n",
              "      <th>city</th>\n",
              "      <th>group</th>\n",
              "      <th>infection_case</th>\n",
              "      <th>confirmed</th>\n",
              "      <th>latitude</th>\n",
              "      <th>longitude</th>\n",
              "      <th>geometry</th>\n",
              "    </tr>\n",
              "  </thead>\n",
              "  <tbody>\n",
              "    <tr>\n",
              "      <th>71</th>\n",
              "      <td>6000008</td>\n",
              "      <td>Gyeongsangbuk-do</td>\n",
              "      <td>Gyeongsan-si</td>\n",
              "      <td>True</td>\n",
              "      <td>Gyeongsan Cham Joeun Community Center</td>\n",
              "      <td>16</td>\n",
              "      <td>35.82558</td>\n",
              "      <td>128.7373</td>\n",
              "      <td>POINT (128.73730 35.82558)</td>\n",
              "    </tr>\n",
              "    <tr>\n",
              "      <th>74</th>\n",
              "      <td>6100002</td>\n",
              "      <td>Gyeongsangnam-do</td>\n",
              "      <td>Geochang-gun</td>\n",
              "      <td>True</td>\n",
              "      <td>Geochang Church</td>\n",
              "      <td>10</td>\n",
              "      <td>35.68556</td>\n",
              "      <td>127.9127</td>\n",
              "      <td>POINT (127.91270 35.68556)</td>\n",
              "    </tr>\n",
              "    <tr>\n",
              "      <th>75</th>\n",
              "      <td>6100003</td>\n",
              "      <td>Gyeongsangnam-do</td>\n",
              "      <td>Geochang-gun</td>\n",
              "      <td>True</td>\n",
              "      <td>Geochang-gun Woongyang-myeon</td>\n",
              "      <td>8</td>\n",
              "      <td>35.805681</td>\n",
              "      <td>127.917805</td>\n",
              "      <td>POINT (127.91781 35.80568)</td>\n",
              "    </tr>\n",
              "    <tr>\n",
              "      <th>76</th>\n",
              "      <td>6100004</td>\n",
              "      <td>Gyeongsangnam-do</td>\n",
              "      <td>Changwon-si</td>\n",
              "      <td>True</td>\n",
              "      <td>Hanmaeum Changwon Hospital</td>\n",
              "      <td>7</td>\n",
              "      <td>35.22115</td>\n",
              "      <td>128.6866</td>\n",
              "      <td>POINT (128.68660 35.22115)</td>\n",
              "    </tr>\n",
              "    <tr>\n",
              "      <th>77</th>\n",
              "      <td>6100005</td>\n",
              "      <td>Gyeongsangnam-do</td>\n",
              "      <td>Changnyeong-gun</td>\n",
              "      <td>True</td>\n",
              "      <td>Changnyeong Coin Karaoke</td>\n",
              "      <td>7</td>\n",
              "      <td>35.54127</td>\n",
              "      <td>128.5008</td>\n",
              "      <td>POINT (128.50080 35.54127)</td>\n",
              "    </tr>\n",
              "  </tbody>\n",
              "</table>\n",
              "</div>"
            ],
            "text/plain": [
              "    case_id          province  ...   longitude                    geometry\n",
              "71  6000008  Gyeongsangbuk-do  ...    128.7373  POINT (128.73730 35.82558)\n",
              "74  6100002  Gyeongsangnam-do  ...    127.9127  POINT (127.91270 35.68556)\n",
              "75  6100003  Gyeongsangnam-do  ...  127.917805  POINT (127.91781 35.80568)\n",
              "76  6100004  Gyeongsangnam-do  ...    128.6866  POINT (128.68660 35.22115)\n",
              "77  6100005  Gyeongsangnam-do  ...    128.5008  POINT (128.50080 35.54127)\n",
              "\n",
              "[5 rows x 9 columns]"
            ]
          },
          "metadata": {
            "tags": []
          },
          "execution_count": 17
        }
      ]
    },
    {
      "cell_type": "code",
      "metadata": {
        "id": "9H441FRS5sD2",
        "colab_type": "code",
        "outputId": "0a889322-edd4-4fc1-f4a2-7a411e40f4e5",
        "colab": {
          "base_uri": "https://localhost:8080/",
          "height": 283
        }
      },
      "source": [
        "gdf_casef.plot()"
      ],
      "execution_count": 18,
      "outputs": [
        {
          "output_type": "execute_result",
          "data": {
            "text/plain": [
              "<matplotlib.axes._subplots.AxesSubplot at 0x7f7917269f28>"
            ]
          },
          "metadata": {
            "tags": []
          },
          "execution_count": 18
        },
        {
          "output_type": "display_data",
          "data": {
            "image/png": "[encoded data removed]",
            "text/plain": [
              "<Figure size 432x288 with 1 Axes>"
            ]
          },
          "metadata": {
            "tags": []
          }
        }
      ]
    },
    {
      "cell_type": "markdown",
      "metadata": {
        "id": "QZGO47gT4f2D",
        "colab_type": "text"
      },
      "source": [
        "Let's see if we can find the minimum haversine distance to optimize medical resource placement/ find centroids of the clusters of greatest problems to find the features of those centroids."
      ]
    },
    {
      "cell_type": "code",
      "metadata": {
        "id": "QkydB0rE4clS",
        "colab_type": "code",
        "colab": {}
      },
      "source": [
        ""
      ],
      "execution_count": 0,
      "outputs": []
    },
    {
      "cell_type": "markdown",
      "metadata": {
        "id": "SZyPPqonoff9",
        "colab_type": "text"
      },
      "source": [
        "#DF Patientroute"
      ]
    },
    {
      "cell_type": "code",
      "metadata": {
        "id": "8ifEPrxY4FHw",
        "colab_type": "code",
        "outputId": "e1c416da-d3a9-4784-fad3-27d7e266a145",
        "colab": {
          "base_uri": "https://localhost:8080/",
          "height": 198
        }
      },
      "source": [
        "df_patientroute.tail()"
      ],
      "execution_count": 19,
      "outputs": [
        {
          "output_type": "execute_result",
          "data": {
            "text/html": [
              "<div>\n",
              "<style scoped>\n",
              "    .dataframe tbody tr th:only-of-type {\n",
              "        vertical-align: middle;\n",
              "    }\n",
              "\n",
              "    .dataframe tbody tr th {\n",
              "        vertical-align: top;\n",
              "    }\n",
              "\n",
              "    .dataframe thead th {\n",
              "        text-align: right;\n",
              "    }\n",
              "</style>\n",
              "<table border=\"1\" class=\"dataframe\">\n",
              "  <thead>\n",
              "    <tr style=\"text-align: right;\">\n",
              "      <th></th>\n",
              "      <th>patient_id</th>\n",
              "      <th>global_num</th>\n",
              "      <th>date</th>\n",
              "      <th>province</th>\n",
              "      <th>city</th>\n",
              "      <th>latitude</th>\n",
              "      <th>longitude</th>\n",
              "    </tr>\n",
              "  </thead>\n",
              "  <tbody>\n",
              "    <tr>\n",
              "      <th>170</th>\n",
              "      <td>1200000031</td>\n",
              "      <td>31</td>\n",
              "      <td>2020-02-09</td>\n",
              "      <td>Daegu</td>\n",
              "      <td>Nam-gu</td>\n",
              "      <td>35.83982</td>\n",
              "      <td>128.5666</td>\n",
              "    </tr>\n",
              "    <tr>\n",
              "      <th>171</th>\n",
              "      <td>1200000031</td>\n",
              "      <td>31</td>\n",
              "      <td>2020-02-15</td>\n",
              "      <td>Daegu</td>\n",
              "      <td>Dong-gu</td>\n",
              "      <td>35.88241</td>\n",
              "      <td>128.6621</td>\n",
              "    </tr>\n",
              "    <tr>\n",
              "      <th>172</th>\n",
              "      <td>1200000031</td>\n",
              "      <td>31</td>\n",
              "      <td>2020-02-16</td>\n",
              "      <td>Daegu</td>\n",
              "      <td>Nam-gu</td>\n",
              "      <td>35.83982</td>\n",
              "      <td>128.5666</td>\n",
              "    </tr>\n",
              "    <tr>\n",
              "      <th>173</th>\n",
              "      <td>1200000031</td>\n",
              "      <td>31</td>\n",
              "      <td>2020-02-17</td>\n",
              "      <td>Daegu</td>\n",
              "      <td>Suseong-gu</td>\n",
              "      <td>35.84473</td>\n",
              "      <td>128.6123</td>\n",
              "    </tr>\n",
              "    <tr>\n",
              "      <th>174</th>\n",
              "      <td>1200000031</td>\n",
              "      <td>31</td>\n",
              "      <td>2020-02-18</td>\n",
              "      <td>Daegu</td>\n",
              "      <td>Seo-gu</td>\n",
              "      <td>35.85959</td>\n",
              "      <td>128.5406</td>\n",
              "    </tr>\n",
              "  </tbody>\n",
              "</table>\n",
              "</div>"
            ],
            "text/plain": [
              "     patient_id  global_num        date  ...        city  latitude  longitude\n",
              "170  1200000031          31  2020-02-09  ...      Nam-gu  35.83982   128.5666\n",
              "171  1200000031          31  2020-02-15  ...     Dong-gu  35.88241   128.6621\n",
              "172  1200000031          31  2020-02-16  ...      Nam-gu  35.83982   128.5666\n",
              "173  1200000031          31  2020-02-17  ...  Suseong-gu  35.84473   128.6123\n",
              "174  1200000031          31  2020-02-18  ...      Seo-gu  35.85959   128.5406\n",
              "\n",
              "[5 rows x 7 columns]"
            ]
          },
          "metadata": {
            "tags": []
          },
          "execution_count": 19
        }
      ]
    },
    {
      "cell_type": "code",
      "metadata": {
        "id": "RZLy8sT2w980",
        "colab_type": "code",
        "outputId": "43f44323-bdec-4a45-fd7c-c0a0466eef2a",
        "colab": {
          "base_uri": "https://localhost:8080/",
          "height": 85
        }
      },
      "source": [
        "badroutes=df_patientroute.loc[df_patientroute['latitude']== '-']\n",
        "badroutes"
      ],
      "execution_count": 20,
      "outputs": [
        {
          "output_type": "stream",
          "text": [
            "/usr/local/lib/python3.6/dist-packages/pandas/core/ops/__init__.py:1115: FutureWarning: elementwise comparison failed; returning scalar instead, but in the future will perform elementwise comparison\n",
            "  result = method(y)\n"
          ],
          "name": "stderr"
        },
        {
          "output_type": "execute_result",
          "data": {
            "text/html": [
              "<div>\n",
              "<style scoped>\n",
              "    .dataframe tbody tr th:only-of-type {\n",
              "        vertical-align: middle;\n",
              "    }\n",
              "\n",
              "    .dataframe tbody tr th {\n",
              "        vertical-align: top;\n",
              "    }\n",
              "\n",
              "    .dataframe thead th {\n",
              "        text-align: right;\n",
              "    }\n",
              "</style>\n",
              "<table border=\"1\" class=\"dataframe\">\n",
              "  <thead>\n",
              "    <tr style=\"text-align: right;\">\n",
              "      <th></th>\n",
              "      <th>patient_id</th>\n",
              "      <th>global_num</th>\n",
              "      <th>date</th>\n",
              "      <th>province</th>\n",
              "      <th>city</th>\n",
              "      <th>latitude</th>\n",
              "      <th>longitude</th>\n",
              "    </tr>\n",
              "  </thead>\n",
              "  <tbody>\n",
              "  </tbody>\n",
              "</table>\n",
              "</div>"
            ],
            "text/plain": [
              "Empty DataFrame\n",
              "Columns: [patient_id, global_num, date, province, city, latitude, longitude]\n",
              "Index: []"
            ]
          },
          "metadata": {
            "tags": []
          },
          "execution_count": 20
        }
      ]
    },
    {
      "cell_type": "markdown",
      "metadata": {
        "id": "grnZk9OP4IKK",
        "colab_type": "text"
      },
      "source": [
        "Good this data is complete. We can use this "
      ]
    },
    {
      "cell_type": "code",
      "metadata": {
        "id": "Qfm_Dye2JjvD",
        "colab_type": "code",
        "outputId": "c0ed5f6e-5e43-4fd7-d26f-7a4101652a8f",
        "colab": {
          "base_uri": "https://localhost:8080/",
          "height": 163
        }
      },
      "source": [
        "df_patientroute.isnull().sum()"
      ],
      "execution_count": 21,
      "outputs": [
        {
          "output_type": "execute_result",
          "data": {
            "text/plain": [
              "patient_id    0\n",
              "global_num    0\n",
              "date          0\n",
              "province      0\n",
              "city          0\n",
              "latitude      0\n",
              "longitude     0\n",
              "dtype: int64"
            ]
          },
          "metadata": {
            "tags": []
          },
          "execution_count": 21
        }
      ]
    },
    {
      "cell_type": "markdown",
      "metadata": {
        "id": "sine65KPoybn",
        "colab_type": "text"
      },
      "source": [
        "#GDF Patientroute"
      ]
    },
    {
      "cell_type": "code",
      "metadata": {
        "id": "jQVdj27oReng",
        "colab_type": "code",
        "outputId": "7dc77268-9de2-420a-ef8f-b504fecec229",
        "colab": {
          "base_uri": "https://localhost:8080/",
          "height": 255
        }
      },
      "source": [
        "def create_gdf2(df_patientroute, lng, lat):\n",
        "    \"Convert pandas dataframe into a Geopandas GeoDataFrame\"\n",
        "    crs = {'init': 'EPSG:3395'}\n",
        "    xlng= pd.to_numeric(df_patientroute['longitude'], errors='coerce')\n",
        "    ylat= pd.to_numeric(df_patientroute['latitude'], errors='coerce')\n",
        "    geometry = [Point(xy) for xy in zip(xlng, ylat)]\n",
        "    gdf3 = gpd.GeoDataFrame(df_patientroute, crs= crs , geometry=geometry)\n",
        "    return gdf3\n",
        "gdf_patientroutef =  create_gdf2(df_patientroute, \"longitude\", \"latitude\")\n",
        "gdf_patientroutef.tail()"
      ],
      "execution_count": 22,
      "outputs": [
        {
          "output_type": "stream",
          "text": [
            "/usr/local/lib/python3.6/dist-packages/pyproj/crs/crs.py:53: FutureWarning: '+init=<authority>:<code>' syntax is deprecated. '<authority>:<code>' is the preferred initialization method. When making the change, be mindful of axis order changes: https://pyproj4.github.io/pyproj/stable/gotchas.html#axis-order-changes-in-proj-6\n",
            "  return _prepare_from_string(\" \".join(pjargs))\n"
          ],
          "name": "stderr"
        },
        {
          "output_type": "execute_result",
          "data": {
            "text/html": [
              "<div>\n",
              "<style scoped>\n",
              "    .dataframe tbody tr th:only-of-type {\n",
              "        vertical-align: middle;\n",
              "    }\n",
              "\n",
              "    .dataframe tbody tr th {\n",
              "        vertical-align: top;\n",
              "    }\n",
              "\n",
              "    .dataframe thead th {\n",
              "        text-align: right;\n",
              "    }\n",
              "</style>\n",
              "<table border=\"1\" class=\"dataframe\">\n",
              "  <thead>\n",
              "    <tr style=\"text-align: right;\">\n",
              "      <th></th>\n",
              "      <th>patient_id</th>\n",
              "      <th>global_num</th>\n",
              "      <th>date</th>\n",
              "      <th>province</th>\n",
              "      <th>city</th>\n",
              "      <th>latitude</th>\n",
              "      <th>longitude</th>\n",
              "      <th>geometry</th>\n",
              "    </tr>\n",
              "  </thead>\n",
              "  <tbody>\n",
              "    <tr>\n",
              "      <th>170</th>\n",
              "      <td>1200000031</td>\n",
              "      <td>31</td>\n",
              "      <td>2020-02-09</td>\n",
              "      <td>Daegu</td>\n",
              "      <td>Nam-gu</td>\n",
              "      <td>35.83982</td>\n",
              "      <td>128.5666</td>\n",
              "      <td>POINT (128.56660 35.83982)</td>\n",
              "    </tr>\n",
              "    <tr>\n",
              "      <th>171</th>\n",
              "      <td>1200000031</td>\n",
              "      <td>31</td>\n",
              "      <td>2020-02-15</td>\n",
              "      <td>Daegu</td>\n",
              "      <td>Dong-gu</td>\n",
              "      <td>35.88241</td>\n",
              "      <td>128.6621</td>\n",
              "      <td>POINT (128.66210 35.88241)</td>\n",
              "    </tr>\n",
              "    <tr>\n",
              "      <th>172</th>\n",
              "      <td>1200000031</td>\n",
              "      <td>31</td>\n",
              "      <td>2020-02-16</td>\n",
              "      <td>Daegu</td>\n",
              "      <td>Nam-gu</td>\n",
              "      <td>35.83982</td>\n",
              "      <td>128.5666</td>\n",
              "      <td>POINT (128.56660 35.83982)</td>\n",
              "    </tr>\n",
              "    <tr>\n",
              "      <th>173</th>\n",
              "      <td>1200000031</td>\n",
              "      <td>31</td>\n",
              "      <td>2020-02-17</td>\n",
              "      <td>Daegu</td>\n",
              "      <td>Suseong-gu</td>\n",
              "      <td>35.84473</td>\n",
              "      <td>128.6123</td>\n",
              "      <td>POINT (128.61230 35.84473)</td>\n",
              "    </tr>\n",
              "    <tr>\n",
              "      <th>174</th>\n",
              "      <td>1200000031</td>\n",
              "      <td>31</td>\n",
              "      <td>2020-02-18</td>\n",
              "      <td>Daegu</td>\n",
              "      <td>Seo-gu</td>\n",
              "      <td>35.85959</td>\n",
              "      <td>128.5406</td>\n",
              "      <td>POINT (128.54060 35.85959)</td>\n",
              "    </tr>\n",
              "  </tbody>\n",
              "</table>\n",
              "</div>"
            ],
            "text/plain": [
              "     patient_id  global_num  ... longitude                    geometry\n",
              "170  1200000031          31  ...  128.5666  POINT (128.56660 35.83982)\n",
              "171  1200000031          31  ...  128.6621  POINT (128.66210 35.88241)\n",
              "172  1200000031          31  ...  128.5666  POINT (128.56660 35.83982)\n",
              "173  1200000031          31  ...  128.6123  POINT (128.61230 35.84473)\n",
              "174  1200000031          31  ...  128.5406  POINT (128.54060 35.85959)\n",
              "\n",
              "[5 rows x 8 columns]"
            ]
          },
          "metadata": {
            "tags": []
          },
          "execution_count": 22
        }
      ]
    },
    {
      "cell_type": "code",
      "metadata": {
        "id": "7r3iaUCT6N7O",
        "colab_type": "code",
        "outputId": "5c8fbe5e-e2b5-445a-8b95-b6c60c2f667d",
        "colab": {
          "base_uri": "https://localhost:8080/",
          "height": 283
        }
      },
      "source": [
        "gdf_patientroutef.plot()"
      ],
      "execution_count": 23,
      "outputs": [
        {
          "output_type": "execute_result",
          "data": {
            "text/plain": [
              "<matplotlib.axes._subplots.AxesSubplot at 0x7f791495ab00>"
            ]
          },
          "metadata": {
            "tags": []
          },
          "execution_count": 23
        },
        {
          "output_type": "display_data",
          "data": {
            "image/png": "[encoded data removed]",
            "text/plain": [
              "<Figure size 432x288 with 1 Axes>"
            ]
          },
          "metadata": {
            "tags": []
          }
        }
      ]
    },
    {
      "cell_type": "code",
      "metadata": {
        "id": "_r4fvtIMTAHX",
        "colab_type": "code",
        "colab": {}
      },
      "source": [
        ""
      ],
      "execution_count": 0,
      "outputs": []
    },
    {
      "cell_type": "code",
      "metadata": {
        "id": "IxW17_eeTANt",
        "colab_type": "code",
        "colab": {}
      },
      "source": [
        ""
      ],
      "execution_count": 0,
      "outputs": []
    },
    {
      "cell_type": "code",
      "metadata": {
        "id": "qKPfOOpiTATZ",
        "colab_type": "code",
        "colab": {}
      },
      "source": [
        ""
      ],
      "execution_count": 0,
      "outputs": []
    },
    {
      "cell_type": "markdown",
      "metadata": {
        "id": "FWC-3VGHoaAf",
        "colab_type": "text"
      },
      "source": [
        "# DF Region"
      ]
    },
    {
      "cell_type": "code",
      "metadata": {
        "id": "Yd7CqEc94FRS",
        "colab_type": "code",
        "outputId": "833ee21b-a4d5-4fe5-dc9e-32062e9916ee",
        "colab": {
          "base_uri": "https://localhost:8080/",
          "height": 198
        }
      },
      "source": [
        "df_region.head()"
      ],
      "execution_count": 24,
      "outputs": [
        {
          "output_type": "execute_result",
          "data": {
            "text/html": [
              "<div>\n",
              "<style scoped>\n",
              "    .dataframe tbody tr th:only-of-type {\n",
              "        vertical-align: middle;\n",
              "    }\n",
              "\n",
              "    .dataframe tbody tr th {\n",
              "        vertical-align: top;\n",
              "    }\n",
              "\n",
              "    .dataframe thead th {\n",
              "        text-align: right;\n",
              "    }\n",
              "</style>\n",
              "<table border=\"1\" class=\"dataframe\">\n",
              "  <thead>\n",
              "    <tr style=\"text-align: right;\">\n",
              "      <th></th>\n",
              "      <th>code</th>\n",
              "      <th>province</th>\n",
              "      <th>city</th>\n",
              "      <th>latitude</th>\n",
              "      <th>longitude</th>\n",
              "      <th>elementary_school_count</th>\n",
              "      <th>kindergarten_count</th>\n",
              "      <th>university_count</th>\n",
              "      <th>academy_ratio</th>\n",
              "      <th>elderly_population_ratio</th>\n",
              "      <th>elderly_alone_ratio</th>\n",
              "      <th>nursing_home_count</th>\n",
              "    </tr>\n",
              "  </thead>\n",
              "  <tbody>\n",
              "    <tr>\n",
              "      <th>0</th>\n",
              "      <td>10000</td>\n",
              "      <td>Seoul</td>\n",
              "      <td>Seoul</td>\n",
              "      <td>37.566953</td>\n",
              "      <td>126.977977</td>\n",
              "      <td>607</td>\n",
              "      <td>830</td>\n",
              "      <td>48</td>\n",
              "      <td>1.44</td>\n",
              "      <td>15.38</td>\n",
              "      <td>5.8</td>\n",
              "      <td>22739</td>\n",
              "    </tr>\n",
              "    <tr>\n",
              "      <th>1</th>\n",
              "      <td>10010</td>\n",
              "      <td>Seoul</td>\n",
              "      <td>Gangnam-gu</td>\n",
              "      <td>37.518421</td>\n",
              "      <td>127.047222</td>\n",
              "      <td>33</td>\n",
              "      <td>38</td>\n",
              "      <td>0</td>\n",
              "      <td>4.18</td>\n",
              "      <td>13.17</td>\n",
              "      <td>4.3</td>\n",
              "      <td>3088</td>\n",
              "    </tr>\n",
              "    <tr>\n",
              "      <th>2</th>\n",
              "      <td>10020</td>\n",
              "      <td>Seoul</td>\n",
              "      <td>Gangdong-gu</td>\n",
              "      <td>37.530492</td>\n",
              "      <td>127.123837</td>\n",
              "      <td>27</td>\n",
              "      <td>32</td>\n",
              "      <td>0</td>\n",
              "      <td>1.54</td>\n",
              "      <td>14.55</td>\n",
              "      <td>5.4</td>\n",
              "      <td>1023</td>\n",
              "    </tr>\n",
              "    <tr>\n",
              "      <th>3</th>\n",
              "      <td>10030</td>\n",
              "      <td>Seoul</td>\n",
              "      <td>Gangbuk-gu</td>\n",
              "      <td>37.639938</td>\n",
              "      <td>127.025508</td>\n",
              "      <td>14</td>\n",
              "      <td>21</td>\n",
              "      <td>0</td>\n",
              "      <td>0.67</td>\n",
              "      <td>19.49</td>\n",
              "      <td>8.5</td>\n",
              "      <td>628</td>\n",
              "    </tr>\n",
              "    <tr>\n",
              "      <th>4</th>\n",
              "      <td>10040</td>\n",
              "      <td>Seoul</td>\n",
              "      <td>Gangseo-gu</td>\n",
              "      <td>37.551166</td>\n",
              "      <td>126.849506</td>\n",
              "      <td>36</td>\n",
              "      <td>56</td>\n",
              "      <td>1</td>\n",
              "      <td>1.17</td>\n",
              "      <td>14.39</td>\n",
              "      <td>5.7</td>\n",
              "      <td>1080</td>\n",
              "    </tr>\n",
              "  </tbody>\n",
              "</table>\n",
              "</div>"
            ],
            "text/plain": [
              "    code province  ... elderly_alone_ratio  nursing_home_count\n",
              "0  10000    Seoul  ...                 5.8               22739\n",
              "1  10010    Seoul  ...                 4.3                3088\n",
              "2  10020    Seoul  ...                 5.4                1023\n",
              "3  10030    Seoul  ...                 8.5                 628\n",
              "4  10040    Seoul  ...                 5.7                1080\n",
              "\n",
              "[5 rows x 12 columns]"
            ]
          },
          "metadata": {
            "tags": []
          },
          "execution_count": 24
        }
      ]
    },
    {
      "cell_type": "code",
      "metadata": {
        "id": "ffOxQAdGQFDM",
        "colab_type": "code",
        "outputId": "53befd4f-3351-4206-cb31-e7a14fde6325",
        "colab": {
          "base_uri": "https://localhost:8080/",
          "height": 254
        }
      },
      "source": [
        "df_region.isnull().sum()"
      ],
      "execution_count": 25,
      "outputs": [
        {
          "output_type": "execute_result",
          "data": {
            "text/plain": [
              "code                        0\n",
              "province                    0\n",
              "city                        0\n",
              "latitude                    0\n",
              "longitude                   0\n",
              "elementary_school_count     0\n",
              "kindergarten_count          0\n",
              "university_count            0\n",
              "academy_ratio               0\n",
              "elderly_population_ratio    0\n",
              "elderly_alone_ratio         0\n",
              "nursing_home_count          0\n",
              "dtype: int64"
            ]
          },
          "metadata": {
            "tags": []
          },
          "execution_count": 25
        }
      ]
    },
    {
      "cell_type": "markdown",
      "metadata": {
        "id": "Ga8QzPI77BFc",
        "colab_type": "text"
      },
      "source": [
        "This data may need to be included joined with case data so that we can understand commonalities between areas with cases of coronavirus and areas without cases of coronavirus. "
      ]
    },
    {
      "cell_type": "code",
      "metadata": {
        "id": "KoHoEYZN65ik",
        "colab_type": "code",
        "outputId": "93841089-1dc8-4250-80bf-ac6b8a35b0d0",
        "colab": {
          "base_uri": "https://localhost:8080/",
          "height": 35
        }
      },
      "source": [
        "df_region['city'].count()"
      ],
      "execution_count": 26,
      "outputs": [
        {
          "output_type": "execute_result",
          "data": {
            "text/plain": [
              "244"
            ]
          },
          "metadata": {
            "tags": []
          },
          "execution_count": 26
        }
      ]
    },
    {
      "cell_type": "code",
      "metadata": {
        "id": "AkGjK1V2bn1v",
        "colab_type": "code",
        "outputId": "1634a12c-03b5-417a-b294-1c612aaffb9a",
        "colab": {
          "base_uri": "https://localhost:8080/",
          "height": 254
        }
      },
      "source": [
        "df_region.dtypes"
      ],
      "execution_count": 27,
      "outputs": [
        {
          "output_type": "execute_result",
          "data": {
            "text/plain": [
              "code                          int64\n",
              "province                     object\n",
              "city                         object\n",
              "latitude                    float64\n",
              "longitude                   float64\n",
              "elementary_school_count       int64\n",
              "kindergarten_count            int64\n",
              "university_count              int64\n",
              "academy_ratio               float64\n",
              "elderly_population_ratio    float64\n",
              "elderly_alone_ratio         float64\n",
              "nursing_home_count            int64\n",
              "dtype: object"
            ]
          },
          "metadata": {
            "tags": []
          },
          "execution_count": 27
        }
      ]
    },
    {
      "cell_type": "markdown",
      "metadata": {
        "id": "CgF4U6OJo5B-",
        "colab_type": "text"
      },
      "source": [
        "#DF Patient Info"
      ]
    },
    {
      "cell_type": "code",
      "metadata": {
        "id": "X_BZFvKStzJ0",
        "colab_type": "code",
        "outputId": "12576757-b6e4-45bd-dce0-dd761798de36",
        "colab": {
          "base_uri": "https://localhost:8080/",
          "height": 287
        }
      },
      "source": [
        "df_patientinfo.head()"
      ],
      "execution_count": 28,
      "outputs": [
        {
          "output_type": "execute_result",
          "data": {
            "text/html": [
              "<div>\n",
              "<style scoped>\n",
              "    .dataframe tbody tr th:only-of-type {\n",
              "        vertical-align: middle;\n",
              "    }\n",
              "\n",
              "    .dataframe tbody tr th {\n",
              "        vertical-align: top;\n",
              "    }\n",
              "\n",
              "    .dataframe thead th {\n",
              "        text-align: right;\n",
              "    }\n",
              "</style>\n",
              "<table border=\"1\" class=\"dataframe\">\n",
              "  <thead>\n",
              "    <tr style=\"text-align: right;\">\n",
              "      <th></th>\n",
              "      <th>patient_id</th>\n",
              "      <th>global_num</th>\n",
              "      <th>sex</th>\n",
              "      <th>birth_year</th>\n",
              "      <th>age</th>\n",
              "      <th>country</th>\n",
              "      <th>province</th>\n",
              "      <th>city</th>\n",
              "      <th>disease</th>\n",
              "      <th>infection_case</th>\n",
              "      <th>infection_order</th>\n",
              "      <th>infected_by</th>\n",
              "      <th>contact_number</th>\n",
              "      <th>symptom_onset_date</th>\n",
              "      <th>confirmed_date</th>\n",
              "      <th>released_date</th>\n",
              "      <th>deceased_date</th>\n",
              "      <th>state</th>\n",
              "    </tr>\n",
              "  </thead>\n",
              "  <tbody>\n",
              "    <tr>\n",
              "      <th>0</th>\n",
              "      <td>1000000001</td>\n",
              "      <td>2.0</td>\n",
              "      <td>male</td>\n",
              "      <td>1964.0</td>\n",
              "      <td>50s</td>\n",
              "      <td>Korea</td>\n",
              "      <td>Seoul</td>\n",
              "      <td>Gangseo-gu</td>\n",
              "      <td>NaN</td>\n",
              "      <td>overseas inflow</td>\n",
              "      <td>1.0</td>\n",
              "      <td>NaN</td>\n",
              "      <td>75.0</td>\n",
              "      <td>2020-01-22</td>\n",
              "      <td>2020-01-23</td>\n",
              "      <td>2020-02-05</td>\n",
              "      <td>NaN</td>\n",
              "      <td>released</td>\n",
              "    </tr>\n",
              "    <tr>\n",
              "      <th>1</th>\n",
              "      <td>1000000002</td>\n",
              "      <td>5.0</td>\n",
              "      <td>male</td>\n",
              "      <td>1987.0</td>\n",
              "      <td>30s</td>\n",
              "      <td>Korea</td>\n",
              "      <td>Seoul</td>\n",
              "      <td>Jungnang-gu</td>\n",
              "      <td>NaN</td>\n",
              "      <td>overseas inflow</td>\n",
              "      <td>1.0</td>\n",
              "      <td>NaN</td>\n",
              "      <td>31.0</td>\n",
              "      <td>NaN</td>\n",
              "      <td>2020-01-30</td>\n",
              "      <td>2020-03-02</td>\n",
              "      <td>NaN</td>\n",
              "      <td>released</td>\n",
              "    </tr>\n",
              "    <tr>\n",
              "      <th>2</th>\n",
              "      <td>1000000003</td>\n",
              "      <td>6.0</td>\n",
              "      <td>male</td>\n",
              "      <td>1964.0</td>\n",
              "      <td>50s</td>\n",
              "      <td>Korea</td>\n",
              "      <td>Seoul</td>\n",
              "      <td>Jongno-gu</td>\n",
              "      <td>NaN</td>\n",
              "      <td>contact with patient</td>\n",
              "      <td>2.0</td>\n",
              "      <td>2.002000e+09</td>\n",
              "      <td>17.0</td>\n",
              "      <td>NaN</td>\n",
              "      <td>2020-01-30</td>\n",
              "      <td>2020-02-19</td>\n",
              "      <td>NaN</td>\n",
              "      <td>released</td>\n",
              "    </tr>\n",
              "    <tr>\n",
              "      <th>3</th>\n",
              "      <td>1000000004</td>\n",
              "      <td>7.0</td>\n",
              "      <td>male</td>\n",
              "      <td>1991.0</td>\n",
              "      <td>20s</td>\n",
              "      <td>Korea</td>\n",
              "      <td>Seoul</td>\n",
              "      <td>Mapo-gu</td>\n",
              "      <td>NaN</td>\n",
              "      <td>overseas inflow</td>\n",
              "      <td>1.0</td>\n",
              "      <td>NaN</td>\n",
              "      <td>9.0</td>\n",
              "      <td>2020-01-26</td>\n",
              "      <td>2020-01-30</td>\n",
              "      <td>2020-02-15</td>\n",
              "      <td>NaN</td>\n",
              "      <td>released</td>\n",
              "    </tr>\n",
              "    <tr>\n",
              "      <th>4</th>\n",
              "      <td>1000000005</td>\n",
              "      <td>9.0</td>\n",
              "      <td>female</td>\n",
              "      <td>1992.0</td>\n",
              "      <td>20s</td>\n",
              "      <td>Korea</td>\n",
              "      <td>Seoul</td>\n",
              "      <td>Seongbuk-gu</td>\n",
              "      <td>NaN</td>\n",
              "      <td>contact with patient</td>\n",
              "      <td>2.0</td>\n",
              "      <td>1.000000e+09</td>\n",
              "      <td>2.0</td>\n",
              "      <td>NaN</td>\n",
              "      <td>2020-01-31</td>\n",
              "      <td>2020-02-24</td>\n",
              "      <td>NaN</td>\n",
              "      <td>released</td>\n",
              "    </tr>\n",
              "  </tbody>\n",
              "</table>\n",
              "</div>"
            ],
            "text/plain": [
              "   patient_id  global_num     sex  ...  released_date deceased_date     state\n",
              "0  1000000001         2.0    male  ...     2020-02-05           NaN  released\n",
              "1  1000000002         5.0    male  ...     2020-03-02           NaN  released\n",
              "2  1000000003         6.0    male  ...     2020-02-19           NaN  released\n",
              "3  1000000004         7.0    male  ...     2020-02-15           NaN  released\n",
              "4  1000000005         9.0  female  ...     2020-02-24           NaN  released\n",
              "\n",
              "[5 rows x 18 columns]"
            ]
          },
          "metadata": {
            "tags": []
          },
          "execution_count": 28
        }
      ]
    },
    {
      "cell_type": "code",
      "metadata": {
        "id": "xTOaKK0Afv-B",
        "colab_type": "code",
        "outputId": "f215800f-efe5-49c5-fb57-f71af9f92a90",
        "colab": {
          "base_uri": "https://localhost:8080/",
          "height": 35
        }
      },
      "source": [
        "df_patientinfo.shape"
      ],
      "execution_count": 29,
      "outputs": [
        {
          "output_type": "execute_result",
          "data": {
            "text/plain": [
              "(2243, 18)"
            ]
          },
          "metadata": {
            "tags": []
          },
          "execution_count": 29
        }
      ]
    },
    {
      "cell_type": "code",
      "metadata": {
        "id": "d45YUYFz4kkz",
        "colab_type": "code",
        "outputId": "de33cc3b-e9b6-4e53-93a8-a990d3e88553",
        "colab": {
          "base_uri": "https://localhost:8080/",
          "height": 145
        }
      },
      "source": [
        "df_patientinfo.infection_case.unique()"
      ],
      "execution_count": 30,
      "outputs": [
        {
          "output_type": "execute_result",
          "data": {
            "text/plain": [
              "array(['overseas inflow', 'contact with patient', 'Seongdong-gu APT',\n",
              "       'etc', \"Eunpyeong St. Mary's Hospital\", 'Shincheonji Church',\n",
              "       'Dongan Church', 'Guro-gu Call Center', 'Onchun Church',\n",
              "       'Cheongdo Daenam Hospital', 'Suyeong-gu Kindergarten', nan,\n",
              "       'Ministry of Oceans and Fisheries', 'gym facility in Cheonan',\n",
              "       'gym facility in Sejong', 'River of Grace Community Church',\n",
              "       'Pilgrimage to Israel'], dtype=object)"
            ]
          },
          "metadata": {
            "tags": []
          },
          "execution_count": 30
        }
      ]
    },
    {
      "cell_type": "code",
      "metadata": {
        "id": "Jpx6zGF7QJGs",
        "colab_type": "code",
        "outputId": "190b4908-d00c-4eca-8118-035870b6e423",
        "colab": {
          "base_uri": "https://localhost:8080/",
          "height": 363
        }
      },
      "source": [
        "df_patientinfo.isnull().sum()"
      ],
      "execution_count": 31,
      "outputs": [
        {
          "output_type": "execute_result",
          "data": {
            "text/plain": [
              "patient_id               0\n",
              "global_num             906\n",
              "sex                     96\n",
              "birth_year             454\n",
              "age                    258\n",
              "country                  0\n",
              "province                 0\n",
              "city                    67\n",
              "disease               2224\n",
              "infection_case        1050\n",
              "infection_order       2201\n",
              "infected_by           1768\n",
              "contact_number        1830\n",
              "symptom_onset_date    2049\n",
              "confirmed_date         145\n",
              "released_date         2010\n",
              "deceased_date         2213\n",
              "state                   96\n",
              "dtype: int64"
            ]
          },
          "metadata": {
            "tags": []
          },
          "execution_count": 31
        }
      ]
    },
    {
      "cell_type": "code",
      "metadata": {
        "id": "9ZAzg0-FP1-p",
        "colab_type": "code",
        "outputId": "0cba3080-4bc9-4e60-8876-8b602333dbaa",
        "colab": {
          "base_uri": "https://localhost:8080/",
          "height": 435
        }
      },
      "source": [
        "df_patientinfo.info()"
      ],
      "execution_count": 32,
      "outputs": [
        {
          "output_type": "stream",
          "text": [
            "<class 'pandas.core.frame.DataFrame'>\n",
            "RangeIndex: 2243 entries, 0 to 2242\n",
            "Data columns (total 18 columns):\n",
            "patient_id            2243 non-null int64\n",
            "global_num            1337 non-null float64\n",
            "sex                   2147 non-null object\n",
            "birth_year            1789 non-null float64\n",
            "age                   1985 non-null object\n",
            "country               2243 non-null object\n",
            "province              2243 non-null object\n",
            "city                  2176 non-null object\n",
            "disease               19 non-null object\n",
            "infection_case        1193 non-null object\n",
            "infection_order       42 non-null float64\n",
            "infected_by           475 non-null float64\n",
            "contact_number        413 non-null float64\n",
            "symptom_onset_date    194 non-null object\n",
            "confirmed_date        2098 non-null object\n",
            "released_date         233 non-null object\n",
            "deceased_date         30 non-null object\n",
            "state                 2147 non-null object\n",
            "dtypes: float64(5), int64(1), object(12)\n",
            "memory usage: 315.5+ KB\n"
          ],
          "name": "stdout"
        }
      ]
    },
    {
      "cell_type": "code",
      "metadata": {
        "id": "5IWMBVYhfa-z",
        "colab_type": "code",
        "outputId": "1da65980-6ff8-46c8-f495-cc25aba0abb7",
        "colab": {
          "base_uri": "https://localhost:8080/",
          "height": 35
        }
      },
      "source": [
        "df_patientinfo['state'].nunique()"
      ],
      "execution_count": 33,
      "outputs": [
        {
          "output_type": "execute_result",
          "data": {
            "text/plain": [
              "3"
            ]
          },
          "metadata": {
            "tags": []
          },
          "execution_count": 33
        }
      ]
    },
    {
      "cell_type": "code",
      "metadata": {
        "id": "F0VeM360gWco",
        "colab_type": "code",
        "colab": {}
      },
      "source": [
        "statuscount=df_patientinfo.state.unique()\n",
        "\n",
        "count_status=[]\n",
        "for i in df_patientinfo.state.unique():\n",
        "    count_status.append(df_patientinfo[df_patientinfo['state']==i].count()['patient_id'])"
      ],
      "execution_count": 0,
      "outputs": []
    },
    {
      "cell_type": "code",
      "metadata": {
        "id": "dZAb9u8SibmP",
        "colab_type": "code",
        "outputId": "2e91a956-f866-44f6-e178-7b20259671e8",
        "colab": {
          "base_uri": "https://localhost:8080/",
          "height": 35
        }
      },
      "source": [
        "statuscount"
      ],
      "execution_count": 35,
      "outputs": [
        {
          "output_type": "execute_result",
          "data": {
            "text/plain": [
              "array(['released', 'isolated', 'deceased', nan], dtype=object)"
            ]
          },
          "metadata": {
            "tags": []
          },
          "execution_count": 35
        }
      ]
    },
    {
      "cell_type": "code",
      "metadata": {
        "id": "tivo3y3Yoqbm",
        "colab_type": "code",
        "outputId": "9a0505ac-f763-4421-a0ce-71e33879f079",
        "colab": {
          "base_uri": "https://localhost:8080/",
          "height": 35
        }
      },
      "source": [
        "count_status"
      ],
      "execution_count": 36,
      "outputs": [
        {
          "output_type": "execute_result",
          "data": {
            "text/plain": [
              "[314, 1801, 32, 0]"
            ]
          },
          "metadata": {
            "tags": []
          },
          "execution_count": 36
        }
      ]
    },
    {
      "cell_type": "code",
      "metadata": {
        "id": "FYN5_5AxkNAT",
        "colab_type": "code",
        "outputId": "df44fb5a-f17d-4d26-e70d-5fe59192a599",
        "colab": {
          "base_uri": "https://localhost:8080/",
          "height": 338
        }
      },
      "source": [
        "plt.figure(figsize=(10,5))\n",
        "sns.barplot(statuscount, count_status)"
      ],
      "execution_count": 37,
      "outputs": [
        {
          "output_type": "execute_result",
          "data": {
            "text/plain": [
              "<matplotlib.axes._subplots.AxesSubplot at 0x7f791443aa90>"
            ]
          },
          "metadata": {
            "tags": []
          },
          "execution_count": 37
        },
        {
          "output_type": "display_data",
          "data": {
            "image/png": "[encoded data removed]",
            "text/plain": [
              "<Figure size 720x360 with 1 Axes>"
            ]
          },
          "metadata": {
            "tags": []
          }
        }
      ]
    },
    {
      "cell_type": "code",
      "metadata": {
        "id": "ZsQtwmv5qFjF",
        "colab_type": "code",
        "outputId": "74ba59d6-4d11-4813-dab9-4b194a2bc93e",
        "colab": {
          "base_uri": "https://localhost:8080/",
          "height": 35
        }
      },
      "source": [
        "df_patientinfo.disease.unique()"
      ],
      "execution_count": 38,
      "outputs": [
        {
          "output_type": "execute_result",
          "data": {
            "text/plain": [
              "array([nan, True], dtype=object)"
            ]
          },
          "metadata": {
            "tags": []
          },
          "execution_count": 38
        }
      ]
    },
    {
      "cell_type": "code",
      "metadata": {
        "id": "7osfiaNt0fjp",
        "colab_type": "code",
        "outputId": "1a4c2443-db7d-4709-ffdf-d39e8a527ef5",
        "colab": {
          "base_uri": "https://localhost:8080/",
          "height": 145
        }
      },
      "source": [
        "df_patientinfo.infection_case.unique()"
      ],
      "execution_count": 39,
      "outputs": [
        {
          "output_type": "execute_result",
          "data": {
            "text/plain": [
              "array(['overseas inflow', 'contact with patient', 'Seongdong-gu APT',\n",
              "       'etc', \"Eunpyeong St. Mary's Hospital\", 'Shincheonji Church',\n",
              "       'Dongan Church', 'Guro-gu Call Center', 'Onchun Church',\n",
              "       'Cheongdo Daenam Hospital', 'Suyeong-gu Kindergarten', nan,\n",
              "       'Ministry of Oceans and Fisheries', 'gym facility in Cheonan',\n",
              "       'gym facility in Sejong', 'River of Grace Community Church',\n",
              "       'Pilgrimage to Israel'], dtype=object)"
            ]
          },
          "metadata": {
            "tags": []
          },
          "execution_count": 39
        }
      ]
    },
    {
      "cell_type": "code",
      "metadata": {
        "id": "RyWvmEIY0fqC",
        "colab_type": "code",
        "colab": {}
      },
      "source": [
        "howinfected=df_patientinfo.infection_case.unique()\n",
        "\n",
        "count_infection=[]\n",
        "for i in df_patientinfo.infection_case.unique():\n",
        "    count_infection.append(df_patientinfo[df_patientinfo['infection_case']==i].count()['patient_id'])"
      ],
      "execution_count": 0,
      "outputs": []
    },
    {
      "cell_type": "code",
      "metadata": {
        "id": "YKZqlpPm6Azz",
        "colab_type": "code",
        "outputId": "361a41c0-a90e-4720-e7cd-39904f2e738e",
        "colab": {
          "base_uri": "https://localhost:8080/",
          "height": 271
        }
      },
      "source": [
        "plt.figure(figsize=(50,7))\n",
        "sns.barplot(howinfected, count_infection)"
      ],
      "execution_count": 41,
      "outputs": [
        {
          "output_type": "execute_result",
          "data": {
            "text/plain": [
              "<matplotlib.axes._subplots.AxesSubplot at 0x7f7914498b70>"
            ]
          },
          "metadata": {
            "tags": []
          },
          "execution_count": 41
        },
        {
          "output_type": "display_data",
          "data": {
            "image/png": "[encoded data removed]",
            "text/plain": [
              "<Figure size 3600x504 with 1 Axes>"
            ]
          },
          "metadata": {
            "tags": []
          }
        }
      ]
    },
    {
      "cell_type": "code",
      "metadata": {
        "id": "yeGR0Ai87c8O",
        "colab_type": "code",
        "outputId": "170ca3da-23f6-474c-8e22-54e94c500421",
        "colab": {
          "base_uri": "https://localhost:8080/",
          "height": 254
        }
      },
      "source": [
        "df_patientinfo.contact_number.unique()"
      ],
      "execution_count": 42,
      "outputs": [
        {
          "output_type": "execute_result",
          "data": {
            "text/plain": [
              "array([7.500e+01, 3.100e+01, 1.700e+01, 9.000e+00, 2.000e+00, 4.300e+01,\n",
              "       0.000e+00, 6.800e+01, 6.000e+00, 2.300e+01, 1.170e+02, 2.700e+01,\n",
              "       8.000e+00,       nan, 1.091e+03, 1.310e+02, 1.600e+01, 1.400e+01,\n",
              "       4.850e+02, 4.000e+00, 1.900e+01, 2.960e+02, 1.500e+01, 3.400e+01,\n",
              "       1.000e+00, 3.700e+01, 2.200e+01, 7.000e+00, 1.000e+01, 2.800e+01,\n",
              "       2.100e+01, 3.000e+00, 5.000e+00, 2.500e+01, 1.800e+01, 1.590e+02,\n",
              "       1.100e+01, 3.000e+01, 4.100e+01, 7.100e+01, 3.800e+01, 1.300e+01,\n",
              "       1.160e+03, 4.500e+02, 6.500e+01, 1.560e+02, 3.900e+01, 4.700e+01,\n",
              "       8.600e+01, 7.400e+01, 1.200e+01, 4.600e+01, 6.400e+01, 6.600e+01,\n",
              "       4.000e+01, 4.900e+01, 2.000e+01, 9.500e+01, 4.220e+02, 2.900e+02,\n",
              "       5.300e+01, 4.500e+01, 2.400e+01, 3.500e+01, 5.100e+01, 1.300e+02,\n",
              "       1.060e+02, 1.740e+02, 7.800e+01, 3.300e+01, 1.130e+02, 8.700e+01,\n",
              "       8.400e+01])"
            ]
          },
          "metadata": {
            "tags": []
          },
          "execution_count": 42
        }
      ]
    },
    {
      "cell_type": "code",
      "metadata": {
        "id": "X5ORYB0B7kMe",
        "colab_type": "code",
        "colab": {}
      },
      "source": [
        "numbercontacted=df_patientinfo.contact_number.unique()\n",
        "\n",
        "count_seen=[]\n",
        "for i in df_patientinfo.contact_number.unique():\n",
        "    count_seen.append(df_patientinfo[df_patientinfo['contact_number']==i].count()['patient_id'])"
      ],
      "execution_count": 0,
      "outputs": []
    },
    {
      "cell_type": "code",
      "metadata": {
        "id": "MnTuMwE29u-p",
        "colab_type": "code",
        "outputId": "5e63dd0c-6db9-4c70-d4bf-b0bd82095a9b",
        "colab": {
          "base_uri": "https://localhost:8080/",
          "height": 272
        }
      },
      "source": [
        "plt.figure(figsize=(50,7))\n",
        "sns.barplot(numbercontacted, count_seen)"
      ],
      "execution_count": 44,
      "outputs": [
        {
          "output_type": "execute_result",
          "data": {
            "text/plain": [
              "<matplotlib.axes._subplots.AxesSubplot at 0x7f7914498940>"
            ]
          },
          "metadata": {
            "tags": []
          },
          "execution_count": 44
        },
        {
          "output_type": "display_data",
          "data": {
            "image/png": "[encoded data removed]",
            "text/plain": [
              "<Figure size 3600x504 with 1 Axes>"
            ]
          },
          "metadata": {
            "tags": []
          }
        }
      ]
    },
    {
      "cell_type": "code",
      "metadata": {
        "id": "o5YW4TZO966J",
        "colab_type": "code",
        "outputId": "cb85fd4e-eb2a-401c-d246-30eeafe99b45",
        "colab": {
          "base_uri": "https://localhost:8080/",
          "height": 235
        }
      },
      "source": [
        "df_patientinfo.infection_case.unique        "
      ],
      "execution_count": 45,
      "outputs": [
        {
          "output_type": "execute_result",
          "data": {
            "text/plain": [
              "<bound method Series.unique of 0            overseas inflow\n",
              "1            overseas inflow\n",
              "2       contact with patient\n",
              "3            overseas inflow\n",
              "4       contact with patient\n",
              "                ...         \n",
              "2238                     NaN\n",
              "2239                     etc\n",
              "2240                     etc\n",
              "2241                     etc\n",
              "2242                     etc\n",
              "Name: infection_case, Length: 2243, dtype: object>"
            ]
          },
          "metadata": {
            "tags": []
          },
          "execution_count": 45
        }
      ]
    },
    {
      "cell_type": "code",
      "metadata": {
        "id": "ku09kO8F-AFA",
        "colab_type": "code",
        "outputId": "7fdc8899-2d6c-4e54-fd58-a4aea214c317",
        "colab": {
          "base_uri": "https://localhost:8080/",
          "height": 445
        }
      },
      "source": [
        "badcases=df_patientinfo.loc[df_patientinfo['infection_case']== 'etc']\n",
        "badcases"
      ],
      "execution_count": 46,
      "outputs": [
        {
          "output_type": "execute_result",
          "data": {
            "text/html": [
              "<div>\n",
              "<style scoped>\n",
              "    .dataframe tbody tr th:only-of-type {\n",
              "        vertical-align: middle;\n",
              "    }\n",
              "\n",
              "    .dataframe tbody tr th {\n",
              "        vertical-align: top;\n",
              "    }\n",
              "\n",
              "    .dataframe thead th {\n",
              "        text-align: right;\n",
              "    }\n",
              "</style>\n",
              "<table border=\"1\" class=\"dataframe\">\n",
              "  <thead>\n",
              "    <tr style=\"text-align: right;\">\n",
              "      <th></th>\n",
              "      <th>patient_id</th>\n",
              "      <th>global_num</th>\n",
              "      <th>sex</th>\n",
              "      <th>birth_year</th>\n",
              "      <th>age</th>\n",
              "      <th>country</th>\n",
              "      <th>province</th>\n",
              "      <th>city</th>\n",
              "      <th>disease</th>\n",
              "      <th>infection_case</th>\n",
              "      <th>infection_order</th>\n",
              "      <th>infected_by</th>\n",
              "      <th>contact_number</th>\n",
              "      <th>symptom_onset_date</th>\n",
              "      <th>confirmed_date</th>\n",
              "      <th>released_date</th>\n",
              "      <th>deceased_date</th>\n",
              "      <th>state</th>\n",
              "    </tr>\n",
              "  </thead>\n",
              "  <tbody>\n",
              "    <tr>\n",
              "      <th>17</th>\n",
              "      <td>1000000018</td>\n",
              "      <td>111.0</td>\n",
              "      <td>male</td>\n",
              "      <td>2000.0</td>\n",
              "      <td>20s</td>\n",
              "      <td>Korea</td>\n",
              "      <td>Seoul</td>\n",
              "      <td>etc</td>\n",
              "      <td>NaN</td>\n",
              "      <td>etc</td>\n",
              "      <td>NaN</td>\n",
              "      <td>NaN</td>\n",
              "      <td>NaN</td>\n",
              "      <td>NaN</td>\n",
              "      <td>2020-02-20</td>\n",
              "      <td>NaN</td>\n",
              "      <td>NaN</td>\n",
              "      <td>isolated</td>\n",
              "    </tr>\n",
              "    <tr>\n",
              "      <th>25</th>\n",
              "      <td>1000000026</td>\n",
              "      <td>420.0</td>\n",
              "      <td>male</td>\n",
              "      <td>1986.0</td>\n",
              "      <td>30s</td>\n",
              "      <td>Korea</td>\n",
              "      <td>Seoul</td>\n",
              "      <td>Seocho-gu</td>\n",
              "      <td>NaN</td>\n",
              "      <td>etc</td>\n",
              "      <td>NaN</td>\n",
              "      <td>NaN</td>\n",
              "      <td>NaN</td>\n",
              "      <td>2020-02-21</td>\n",
              "      <td>2020-02-22</td>\n",
              "      <td>2020-03-11</td>\n",
              "      <td>NaN</td>\n",
              "      <td>released</td>\n",
              "    </tr>\n",
              "    <tr>\n",
              "      <th>30</th>\n",
              "      <td>1000000031</td>\n",
              "      <td>780.0</td>\n",
              "      <td>male</td>\n",
              "      <td>1965.0</td>\n",
              "      <td>50s</td>\n",
              "      <td>Korea</td>\n",
              "      <td>Seoul</td>\n",
              "      <td>Songpa-gu</td>\n",
              "      <td>NaN</td>\n",
              "      <td>etc</td>\n",
              "      <td>NaN</td>\n",
              "      <td>NaN</td>\n",
              "      <td>NaN</td>\n",
              "      <td>NaN</td>\n",
              "      <td>2020-02-22</td>\n",
              "      <td>2020-03-19</td>\n",
              "      <td>NaN</td>\n",
              "      <td>released</td>\n",
              "    </tr>\n",
              "    <tr>\n",
              "      <th>34</th>\n",
              "      <td>1000000035</td>\n",
              "      <td>847.0</td>\n",
              "      <td>male</td>\n",
              "      <td>1984.0</td>\n",
              "      <td>30s</td>\n",
              "      <td>Korea</td>\n",
              "      <td>Seoul</td>\n",
              "      <td>etc</td>\n",
              "      <td>NaN</td>\n",
              "      <td>etc</td>\n",
              "      <td>NaN</td>\n",
              "      <td>NaN</td>\n",
              "      <td>NaN</td>\n",
              "      <td>2020-02-19</td>\n",
              "      <td>2020-02-25</td>\n",
              "      <td>2020-03-20</td>\n",
              "      <td>NaN</td>\n",
              "      <td>released</td>\n",
              "    </tr>\n",
              "    <tr>\n",
              "      <th>37</th>\n",
              "      <td>1000000038</td>\n",
              "      <td>907.0</td>\n",
              "      <td>male</td>\n",
              "      <td>1953.0</td>\n",
              "      <td>60s</td>\n",
              "      <td>Korea</td>\n",
              "      <td>Seoul</td>\n",
              "      <td>etc</td>\n",
              "      <td>NaN</td>\n",
              "      <td>etc</td>\n",
              "      <td>NaN</td>\n",
              "      <td>NaN</td>\n",
              "      <td>NaN</td>\n",
              "      <td>2020-02-24</td>\n",
              "      <td>2020-02-25</td>\n",
              "      <td>NaN</td>\n",
              "      <td>NaN</td>\n",
              "      <td>isolated</td>\n",
              "    </tr>\n",
              "    <tr>\n",
              "      <th>...</th>\n",
              "      <td>...</td>\n",
              "      <td>...</td>\n",
              "      <td>...</td>\n",
              "      <td>...</td>\n",
              "      <td>...</td>\n",
              "      <td>...</td>\n",
              "      <td>...</td>\n",
              "      <td>...</td>\n",
              "      <td>...</td>\n",
              "      <td>...</td>\n",
              "      <td>...</td>\n",
              "      <td>...</td>\n",
              "      <td>...</td>\n",
              "      <td>...</td>\n",
              "      <td>...</td>\n",
              "      <td>...</td>\n",
              "      <td>...</td>\n",
              "      <td>...</td>\n",
              "    </tr>\n",
              "    <tr>\n",
              "      <th>2191</th>\n",
              "      <td>6112000038</td>\n",
              "      <td>NaN</td>\n",
              "      <td>female</td>\n",
              "      <td>1961.0</td>\n",
              "      <td>50s</td>\n",
              "      <td>Korea</td>\n",
              "      <td>Gyeongsangnam-do</td>\n",
              "      <td>Changnyeong-gun</td>\n",
              "      <td>NaN</td>\n",
              "      <td>etc</td>\n",
              "      <td>NaN</td>\n",
              "      <td>NaN</td>\n",
              "      <td>NaN</td>\n",
              "      <td>NaN</td>\n",
              "      <td>2020-02-26</td>\n",
              "      <td>NaN</td>\n",
              "      <td>NaN</td>\n",
              "      <td>isolated</td>\n",
              "    </tr>\n",
              "    <tr>\n",
              "      <th>2239</th>\n",
              "      <td>7000000001</td>\n",
              "      <td>139.0</td>\n",
              "      <td>male</td>\n",
              "      <td>1998.0</td>\n",
              "      <td>20s</td>\n",
              "      <td>Korea</td>\n",
              "      <td>Jeju-do</td>\n",
              "      <td>Jeju-do</td>\n",
              "      <td>NaN</td>\n",
              "      <td>etc</td>\n",
              "      <td>NaN</td>\n",
              "      <td>NaN</td>\n",
              "      <td>87.0</td>\n",
              "      <td>NaN</td>\n",
              "      <td>2020-02-20</td>\n",
              "      <td>NaN</td>\n",
              "      <td>NaN</td>\n",
              "      <td>isolated</td>\n",
              "    </tr>\n",
              "    <tr>\n",
              "      <th>2240</th>\n",
              "      <td>7000000002</td>\n",
              "      <td>222.0</td>\n",
              "      <td>female</td>\n",
              "      <td>1998.0</td>\n",
              "      <td>20s</td>\n",
              "      <td>Korea</td>\n",
              "      <td>Jeju-do</td>\n",
              "      <td>Jeju-do</td>\n",
              "      <td>NaN</td>\n",
              "      <td>etc</td>\n",
              "      <td>NaN</td>\n",
              "      <td>NaN</td>\n",
              "      <td>84.0</td>\n",
              "      <td>NaN</td>\n",
              "      <td>2020-02-22</td>\n",
              "      <td>2020-03-07</td>\n",
              "      <td>NaN</td>\n",
              "      <td>released</td>\n",
              "    </tr>\n",
              "    <tr>\n",
              "      <th>2241</th>\n",
              "      <td>7000000003</td>\n",
              "      <td>4345.0</td>\n",
              "      <td>female</td>\n",
              "      <td>1972.0</td>\n",
              "      <td>40s</td>\n",
              "      <td>Korea</td>\n",
              "      <td>Jeju-do</td>\n",
              "      <td>etc</td>\n",
              "      <td>NaN</td>\n",
              "      <td>etc</td>\n",
              "      <td>NaN</td>\n",
              "      <td>NaN</td>\n",
              "      <td>21.0</td>\n",
              "      <td>NaN</td>\n",
              "      <td>2020-03-02</td>\n",
              "      <td>2020-03-15</td>\n",
              "      <td>NaN</td>\n",
              "      <td>released</td>\n",
              "    </tr>\n",
              "    <tr>\n",
              "      <th>2242</th>\n",
              "      <td>7000000004</td>\n",
              "      <td>5534.0</td>\n",
              "      <td>male</td>\n",
              "      <td>1974.0</td>\n",
              "      <td>40s</td>\n",
              "      <td>Korea</td>\n",
              "      <td>Jeju-do</td>\n",
              "      <td>Jeju-do</td>\n",
              "      <td>NaN</td>\n",
              "      <td>etc</td>\n",
              "      <td>NaN</td>\n",
              "      <td>NaN</td>\n",
              "      <td>74.0</td>\n",
              "      <td>NaN</td>\n",
              "      <td>2020-03-04</td>\n",
              "      <td>NaN</td>\n",
              "      <td>NaN</td>\n",
              "      <td>isolated</td>\n",
              "    </tr>\n",
              "  </tbody>\n",
              "</table>\n",
              "<p>224 rows × 18 columns</p>\n",
              "</div>"
            ],
            "text/plain": [
              "      patient_id  global_num     sex  ...  released_date deceased_date     state\n",
              "17    1000000018       111.0    male  ...            NaN           NaN  isolated\n",
              "25    1000000026       420.0    male  ...     2020-03-11           NaN  released\n",
              "30    1000000031       780.0    male  ...     2020-03-19           NaN  released\n",
              "34    1000000035       847.0    male  ...     2020-03-20           NaN  released\n",
              "37    1000000038       907.0    male  ...            NaN           NaN  isolated\n",
              "...          ...         ...     ...  ...            ...           ...       ...\n",
              "2191  6112000038         NaN  female  ...            NaN           NaN  isolated\n",
              "2239  7000000001       139.0    male  ...            NaN           NaN  isolated\n",
              "2240  7000000002       222.0  female  ...     2020-03-07           NaN  released\n",
              "2241  7000000003      4345.0  female  ...     2020-03-15           NaN  released\n",
              "2242  7000000004      5534.0    male  ...            NaN           NaN  isolated\n",
              "\n",
              "[224 rows x 18 columns]"
            ]
          },
          "metadata": {
            "tags": []
          },
          "execution_count": 46
        }
      ]
    },
    {
      "cell_type": "code",
      "metadata": {
        "id": "7AtzgKc-sQjE",
        "colab_type": "code",
        "outputId": "ff71a40c-64e5-4aa8-ed21-53981664b7cf",
        "colab": {
          "base_uri": "https://localhost:8080/",
          "height": 514
        }
      },
      "source": [
        "df_patientinfof=df_patientinfo[df_patientinfo['infection_case'].notnull()]\n",
        "df_patientinfof"
      ],
      "execution_count": 47,
      "outputs": [
        {
          "output_type": "execute_result",
          "data": {
            "text/html": [
              "<div>\n",
              "<style scoped>\n",
              "    .dataframe tbody tr th:only-of-type {\n",
              "        vertical-align: middle;\n",
              "    }\n",
              "\n",
              "    .dataframe tbody tr th {\n",
              "        vertical-align: top;\n",
              "    }\n",
              "\n",
              "    .dataframe thead th {\n",
              "        text-align: right;\n",
              "    }\n",
              "</style>\n",
              "<table border=\"1\" class=\"dataframe\">\n",
              "  <thead>\n",
              "    <tr style=\"text-align: right;\">\n",
              "      <th></th>\n",
              "      <th>patient_id</th>\n",
              "      <th>global_num</th>\n",
              "      <th>sex</th>\n",
              "      <th>birth_year</th>\n",
              "      <th>age</th>\n",
              "      <th>country</th>\n",
              "      <th>province</th>\n",
              "      <th>city</th>\n",
              "      <th>disease</th>\n",
              "      <th>infection_case</th>\n",
              "      <th>infection_order</th>\n",
              "      <th>infected_by</th>\n",
              "      <th>contact_number</th>\n",
              "      <th>symptom_onset_date</th>\n",
              "      <th>confirmed_date</th>\n",
              "      <th>released_date</th>\n",
              "      <th>deceased_date</th>\n",
              "      <th>state</th>\n",
              "    </tr>\n",
              "  </thead>\n",
              "  <tbody>\n",
              "    <tr>\n",
              "      <th>0</th>\n",
              "      <td>1000000001</td>\n",
              "      <td>2.0</td>\n",
              "      <td>male</td>\n",
              "      <td>1964.0</td>\n",
              "      <td>50s</td>\n",
              "      <td>Korea</td>\n",
              "      <td>Seoul</td>\n",
              "      <td>Gangseo-gu</td>\n",
              "      <td>NaN</td>\n",
              "      <td>overseas inflow</td>\n",
              "      <td>1.0</td>\n",
              "      <td>NaN</td>\n",
              "      <td>75.0</td>\n",
              "      <td>2020-01-22</td>\n",
              "      <td>2020-01-23</td>\n",
              "      <td>2020-02-05</td>\n",
              "      <td>NaN</td>\n",
              "      <td>released</td>\n",
              "    </tr>\n",
              "    <tr>\n",
              "      <th>1</th>\n",
              "      <td>1000000002</td>\n",
              "      <td>5.0</td>\n",
              "      <td>male</td>\n",
              "      <td>1987.0</td>\n",
              "      <td>30s</td>\n",
              "      <td>Korea</td>\n",
              "      <td>Seoul</td>\n",
              "      <td>Jungnang-gu</td>\n",
              "      <td>NaN</td>\n",
              "      <td>overseas inflow</td>\n",
              "      <td>1.0</td>\n",
              "      <td>NaN</td>\n",
              "      <td>31.0</td>\n",
              "      <td>NaN</td>\n",
              "      <td>2020-01-30</td>\n",
              "      <td>2020-03-02</td>\n",
              "      <td>NaN</td>\n",
              "      <td>released</td>\n",
              "    </tr>\n",
              "    <tr>\n",
              "      <th>2</th>\n",
              "      <td>1000000003</td>\n",
              "      <td>6.0</td>\n",
              "      <td>male</td>\n",
              "      <td>1964.0</td>\n",
              "      <td>50s</td>\n",
              "      <td>Korea</td>\n",
              "      <td>Seoul</td>\n",
              "      <td>Jongno-gu</td>\n",
              "      <td>NaN</td>\n",
              "      <td>contact with patient</td>\n",
              "      <td>2.0</td>\n",
              "      <td>2.002000e+09</td>\n",
              "      <td>17.0</td>\n",
              "      <td>NaN</td>\n",
              "      <td>2020-01-30</td>\n",
              "      <td>2020-02-19</td>\n",
              "      <td>NaN</td>\n",
              "      <td>released</td>\n",
              "    </tr>\n",
              "    <tr>\n",
              "      <th>3</th>\n",
              "      <td>1000000004</td>\n",
              "      <td>7.0</td>\n",
              "      <td>male</td>\n",
              "      <td>1991.0</td>\n",
              "      <td>20s</td>\n",
              "      <td>Korea</td>\n",
              "      <td>Seoul</td>\n",
              "      <td>Mapo-gu</td>\n",
              "      <td>NaN</td>\n",
              "      <td>overseas inflow</td>\n",
              "      <td>1.0</td>\n",
              "      <td>NaN</td>\n",
              "      <td>9.0</td>\n",
              "      <td>2020-01-26</td>\n",
              "      <td>2020-01-30</td>\n",
              "      <td>2020-02-15</td>\n",
              "      <td>NaN</td>\n",
              "      <td>released</td>\n",
              "    </tr>\n",
              "    <tr>\n",
              "      <th>4</th>\n",
              "      <td>1000000005</td>\n",
              "      <td>9.0</td>\n",
              "      <td>female</td>\n",
              "      <td>1992.0</td>\n",
              "      <td>20s</td>\n",
              "      <td>Korea</td>\n",
              "      <td>Seoul</td>\n",
              "      <td>Seongbuk-gu</td>\n",
              "      <td>NaN</td>\n",
              "      <td>contact with patient</td>\n",
              "      <td>2.0</td>\n",
              "      <td>1.000000e+09</td>\n",
              "      <td>2.0</td>\n",
              "      <td>NaN</td>\n",
              "      <td>2020-01-31</td>\n",
              "      <td>2020-02-24</td>\n",
              "      <td>NaN</td>\n",
              "      <td>released</td>\n",
              "    </tr>\n",
              "    <tr>\n",
              "      <th>...</th>\n",
              "      <td>...</td>\n",
              "      <td>...</td>\n",
              "      <td>...</td>\n",
              "      <td>...</td>\n",
              "      <td>...</td>\n",
              "      <td>...</td>\n",
              "      <td>...</td>\n",
              "      <td>...</td>\n",
              "      <td>...</td>\n",
              "      <td>...</td>\n",
              "      <td>...</td>\n",
              "      <td>...</td>\n",
              "      <td>...</td>\n",
              "      <td>...</td>\n",
              "      <td>...</td>\n",
              "      <td>...</td>\n",
              "      <td>...</td>\n",
              "      <td>...</td>\n",
              "    </tr>\n",
              "    <tr>\n",
              "      <th>2197</th>\n",
              "      <td>6113000044</td>\n",
              "      <td>NaN</td>\n",
              "      <td>female</td>\n",
              "      <td>1976.0</td>\n",
              "      <td>40s</td>\n",
              "      <td>Korea</td>\n",
              "      <td>Gyeongsangnam-do</td>\n",
              "      <td>Changwon-si</td>\n",
              "      <td>NaN</td>\n",
              "      <td>contact with patient</td>\n",
              "      <td>NaN</td>\n",
              "      <td>6.113000e+09</td>\n",
              "      <td>NaN</td>\n",
              "      <td>NaN</td>\n",
              "      <td>2020-02-27</td>\n",
              "      <td>NaN</td>\n",
              "      <td>NaN</td>\n",
              "      <td>released</td>\n",
              "    </tr>\n",
              "    <tr>\n",
              "      <th>2239</th>\n",
              "      <td>7000000001</td>\n",
              "      <td>139.0</td>\n",
              "      <td>male</td>\n",
              "      <td>1998.0</td>\n",
              "      <td>20s</td>\n",
              "      <td>Korea</td>\n",
              "      <td>Jeju-do</td>\n",
              "      <td>Jeju-do</td>\n",
              "      <td>NaN</td>\n",
              "      <td>etc</td>\n",
              "      <td>NaN</td>\n",
              "      <td>NaN</td>\n",
              "      <td>87.0</td>\n",
              "      <td>NaN</td>\n",
              "      <td>2020-02-20</td>\n",
              "      <td>NaN</td>\n",
              "      <td>NaN</td>\n",
              "      <td>isolated</td>\n",
              "    </tr>\n",
              "    <tr>\n",
              "      <th>2240</th>\n",
              "      <td>7000000002</td>\n",
              "      <td>222.0</td>\n",
              "      <td>female</td>\n",
              "      <td>1998.0</td>\n",
              "      <td>20s</td>\n",
              "      <td>Korea</td>\n",
              "      <td>Jeju-do</td>\n",
              "      <td>Jeju-do</td>\n",
              "      <td>NaN</td>\n",
              "      <td>etc</td>\n",
              "      <td>NaN</td>\n",
              "      <td>NaN</td>\n",
              "      <td>84.0</td>\n",
              "      <td>NaN</td>\n",
              "      <td>2020-02-22</td>\n",
              "      <td>2020-03-07</td>\n",
              "      <td>NaN</td>\n",
              "      <td>released</td>\n",
              "    </tr>\n",
              "    <tr>\n",
              "      <th>2241</th>\n",
              "      <td>7000000003</td>\n",
              "      <td>4345.0</td>\n",
              "      <td>female</td>\n",
              "      <td>1972.0</td>\n",
              "      <td>40s</td>\n",
              "      <td>Korea</td>\n",
              "      <td>Jeju-do</td>\n",
              "      <td>etc</td>\n",
              "      <td>NaN</td>\n",
              "      <td>etc</td>\n",
              "      <td>NaN</td>\n",
              "      <td>NaN</td>\n",
              "      <td>21.0</td>\n",
              "      <td>NaN</td>\n",
              "      <td>2020-03-02</td>\n",
              "      <td>2020-03-15</td>\n",
              "      <td>NaN</td>\n",
              "      <td>released</td>\n",
              "    </tr>\n",
              "    <tr>\n",
              "      <th>2242</th>\n",
              "      <td>7000000004</td>\n",
              "      <td>5534.0</td>\n",
              "      <td>male</td>\n",
              "      <td>1974.0</td>\n",
              "      <td>40s</td>\n",
              "      <td>Korea</td>\n",
              "      <td>Jeju-do</td>\n",
              "      <td>Jeju-do</td>\n",
              "      <td>NaN</td>\n",
              "      <td>etc</td>\n",
              "      <td>NaN</td>\n",
              "      <td>NaN</td>\n",
              "      <td>74.0</td>\n",
              "      <td>NaN</td>\n",
              "      <td>2020-03-04</td>\n",
              "      <td>NaN</td>\n",
              "      <td>NaN</td>\n",
              "      <td>isolated</td>\n",
              "    </tr>\n",
              "  </tbody>\n",
              "</table>\n",
              "<p>1193 rows × 18 columns</p>\n",
              "</div>"
            ],
            "text/plain": [
              "      patient_id  global_num     sex  ...  released_date deceased_date     state\n",
              "0     1000000001         2.0    male  ...     2020-02-05           NaN  released\n",
              "1     1000000002         5.0    male  ...     2020-03-02           NaN  released\n",
              "2     1000000003         6.0    male  ...     2020-02-19           NaN  released\n",
              "3     1000000004         7.0    male  ...     2020-02-15           NaN  released\n",
              "4     1000000005         9.0  female  ...     2020-02-24           NaN  released\n",
              "...          ...         ...     ...  ...            ...           ...       ...\n",
              "2197  6113000044         NaN  female  ...            NaN           NaN  released\n",
              "2239  7000000001       139.0    male  ...            NaN           NaN  isolated\n",
              "2240  7000000002       222.0  female  ...     2020-03-07           NaN  released\n",
              "2241  7000000003      4345.0  female  ...     2020-03-15           NaN  released\n",
              "2242  7000000004      5534.0    male  ...            NaN           NaN  isolated\n",
              "\n",
              "[1193 rows x 18 columns]"
            ]
          },
          "metadata": {
            "tags": []
          },
          "execution_count": 47
        }
      ]
    },
    {
      "cell_type": "code",
      "metadata": {
        "id": "Q3ICVBMkv1e_",
        "colab_type": "code",
        "outputId": "5f6b744d-2868-4208-c6df-2f447afbf849",
        "colab": {
          "base_uri": "https://localhost:8080/",
          "height": 583
        }
      },
      "source": [
        "df_patientinfof2=df_patientinfof[df_patientinfof.infection_case != 'etc']\n",
        "df_patientinfof2"
      ],
      "execution_count": 48,
      "outputs": [
        {
          "output_type": "execute_result",
          "data": {
            "text/html": [
              "<div>\n",
              "<style scoped>\n",
              "    .dataframe tbody tr th:only-of-type {\n",
              "        vertical-align: middle;\n",
              "    }\n",
              "\n",
              "    .dataframe tbody tr th {\n",
              "        vertical-align: top;\n",
              "    }\n",
              "\n",
              "    .dataframe thead th {\n",
              "        text-align: right;\n",
              "    }\n",
              "</style>\n",
              "<table border=\"1\" class=\"dataframe\">\n",
              "  <thead>\n",
              "    <tr style=\"text-align: right;\">\n",
              "      <th></th>\n",
              "      <th>patient_id</th>\n",
              "      <th>global_num</th>\n",
              "      <th>sex</th>\n",
              "      <th>birth_year</th>\n",
              "      <th>age</th>\n",
              "      <th>country</th>\n",
              "      <th>province</th>\n",
              "      <th>city</th>\n",
              "      <th>disease</th>\n",
              "      <th>infection_case</th>\n",
              "      <th>infection_order</th>\n",
              "      <th>infected_by</th>\n",
              "      <th>contact_number</th>\n",
              "      <th>symptom_onset_date</th>\n",
              "      <th>confirmed_date</th>\n",
              "      <th>released_date</th>\n",
              "      <th>deceased_date</th>\n",
              "      <th>state</th>\n",
              "    </tr>\n",
              "  </thead>\n",
              "  <tbody>\n",
              "    <tr>\n",
              "      <th>0</th>\n",
              "      <td>1000000001</td>\n",
              "      <td>2.0</td>\n",
              "      <td>male</td>\n",
              "      <td>1964.0</td>\n",
              "      <td>50s</td>\n",
              "      <td>Korea</td>\n",
              "      <td>Seoul</td>\n",
              "      <td>Gangseo-gu</td>\n",
              "      <td>NaN</td>\n",
              "      <td>overseas inflow</td>\n",
              "      <td>1.0</td>\n",
              "      <td>NaN</td>\n",
              "      <td>75.0</td>\n",
              "      <td>2020-01-22</td>\n",
              "      <td>2020-01-23</td>\n",
              "      <td>2020-02-05</td>\n",
              "      <td>NaN</td>\n",
              "      <td>released</td>\n",
              "    </tr>\n",
              "    <tr>\n",
              "      <th>1</th>\n",
              "      <td>1000000002</td>\n",
              "      <td>5.0</td>\n",
              "      <td>male</td>\n",
              "      <td>1987.0</td>\n",
              "      <td>30s</td>\n",
              "      <td>Korea</td>\n",
              "      <td>Seoul</td>\n",
              "      <td>Jungnang-gu</td>\n",
              "      <td>NaN</td>\n",
              "      <td>overseas inflow</td>\n",
              "      <td>1.0</td>\n",
              "      <td>NaN</td>\n",
              "      <td>31.0</td>\n",
              "      <td>NaN</td>\n",
              "      <td>2020-01-30</td>\n",
              "      <td>2020-03-02</td>\n",
              "      <td>NaN</td>\n",
              "      <td>released</td>\n",
              "    </tr>\n",
              "    <tr>\n",
              "      <th>2</th>\n",
              "      <td>1000000003</td>\n",
              "      <td>6.0</td>\n",
              "      <td>male</td>\n",
              "      <td>1964.0</td>\n",
              "      <td>50s</td>\n",
              "      <td>Korea</td>\n",
              "      <td>Seoul</td>\n",
              "      <td>Jongno-gu</td>\n",
              "      <td>NaN</td>\n",
              "      <td>contact with patient</td>\n",
              "      <td>2.0</td>\n",
              "      <td>2.002000e+09</td>\n",
              "      <td>17.0</td>\n",
              "      <td>NaN</td>\n",
              "      <td>2020-01-30</td>\n",
              "      <td>2020-02-19</td>\n",
              "      <td>NaN</td>\n",
              "      <td>released</td>\n",
              "    </tr>\n",
              "    <tr>\n",
              "      <th>3</th>\n",
              "      <td>1000000004</td>\n",
              "      <td>7.0</td>\n",
              "      <td>male</td>\n",
              "      <td>1991.0</td>\n",
              "      <td>20s</td>\n",
              "      <td>Korea</td>\n",
              "      <td>Seoul</td>\n",
              "      <td>Mapo-gu</td>\n",
              "      <td>NaN</td>\n",
              "      <td>overseas inflow</td>\n",
              "      <td>1.0</td>\n",
              "      <td>NaN</td>\n",
              "      <td>9.0</td>\n",
              "      <td>2020-01-26</td>\n",
              "      <td>2020-01-30</td>\n",
              "      <td>2020-02-15</td>\n",
              "      <td>NaN</td>\n",
              "      <td>released</td>\n",
              "    </tr>\n",
              "    <tr>\n",
              "      <th>4</th>\n",
              "      <td>1000000005</td>\n",
              "      <td>9.0</td>\n",
              "      <td>female</td>\n",
              "      <td>1992.0</td>\n",
              "      <td>20s</td>\n",
              "      <td>Korea</td>\n",
              "      <td>Seoul</td>\n",
              "      <td>Seongbuk-gu</td>\n",
              "      <td>NaN</td>\n",
              "      <td>contact with patient</td>\n",
              "      <td>2.0</td>\n",
              "      <td>1.000000e+09</td>\n",
              "      <td>2.0</td>\n",
              "      <td>NaN</td>\n",
              "      <td>2020-01-31</td>\n",
              "      <td>2020-02-24</td>\n",
              "      <td>NaN</td>\n",
              "      <td>released</td>\n",
              "    </tr>\n",
              "    <tr>\n",
              "      <th>...</th>\n",
              "      <td>...</td>\n",
              "      <td>...</td>\n",
              "      <td>...</td>\n",
              "      <td>...</td>\n",
              "      <td>...</td>\n",
              "      <td>...</td>\n",
              "      <td>...</td>\n",
              "      <td>...</td>\n",
              "      <td>...</td>\n",
              "      <td>...</td>\n",
              "      <td>...</td>\n",
              "      <td>...</td>\n",
              "      <td>...</td>\n",
              "      <td>...</td>\n",
              "      <td>...</td>\n",
              "      <td>...</td>\n",
              "      <td>...</td>\n",
              "      <td>...</td>\n",
              "    </tr>\n",
              "    <tr>\n",
              "      <th>2193</th>\n",
              "      <td>6113000040</td>\n",
              "      <td>NaN</td>\n",
              "      <td>male</td>\n",
              "      <td>1964.0</td>\n",
              "      <td>50s</td>\n",
              "      <td>Korea</td>\n",
              "      <td>Gyeongsangnam-do</td>\n",
              "      <td>Changwon-si</td>\n",
              "      <td>NaN</td>\n",
              "      <td>contact with patient</td>\n",
              "      <td>2.0</td>\n",
              "      <td>6.113000e+09</td>\n",
              "      <td>NaN</td>\n",
              "      <td>NaN</td>\n",
              "      <td>2020-02-26</td>\n",
              "      <td>NaN</td>\n",
              "      <td>NaN</td>\n",
              "      <td>isolated</td>\n",
              "    </tr>\n",
              "    <tr>\n",
              "      <th>2194</th>\n",
              "      <td>6106000041</td>\n",
              "      <td>NaN</td>\n",
              "      <td>male</td>\n",
              "      <td>1985.0</td>\n",
              "      <td>30s</td>\n",
              "      <td>Korea</td>\n",
              "      <td>Gyeongsangnam-do</td>\n",
              "      <td>Miryang-si</td>\n",
              "      <td>NaN</td>\n",
              "      <td>contact with patient</td>\n",
              "      <td>2.0</td>\n",
              "      <td>6.106000e+09</td>\n",
              "      <td>NaN</td>\n",
              "      <td>NaN</td>\n",
              "      <td>2020-02-26</td>\n",
              "      <td>NaN</td>\n",
              "      <td>NaN</td>\n",
              "      <td>released</td>\n",
              "    </tr>\n",
              "    <tr>\n",
              "      <th>2195</th>\n",
              "      <td>6113000042</td>\n",
              "      <td>NaN</td>\n",
              "      <td>male</td>\n",
              "      <td>1979.0</td>\n",
              "      <td>40s</td>\n",
              "      <td>Korea</td>\n",
              "      <td>Gyeongsangnam-do</td>\n",
              "      <td>Changwon-si</td>\n",
              "      <td>NaN</td>\n",
              "      <td>contact with patient</td>\n",
              "      <td>2.0</td>\n",
              "      <td>6.113000e+09</td>\n",
              "      <td>NaN</td>\n",
              "      <td>NaN</td>\n",
              "      <td>2020-02-26</td>\n",
              "      <td>NaN</td>\n",
              "      <td>NaN</td>\n",
              "      <td>isolated</td>\n",
              "    </tr>\n",
              "    <tr>\n",
              "      <th>2196</th>\n",
              "      <td>6104000043</td>\n",
              "      <td>NaN</td>\n",
              "      <td>male</td>\n",
              "      <td>1996.0</td>\n",
              "      <td>20s</td>\n",
              "      <td>Korea</td>\n",
              "      <td>Gyeongsangnam-do</td>\n",
              "      <td>Gimhae-si</td>\n",
              "      <td>NaN</td>\n",
              "      <td>Shincheonji Church</td>\n",
              "      <td>NaN</td>\n",
              "      <td>NaN</td>\n",
              "      <td>NaN</td>\n",
              "      <td>NaN</td>\n",
              "      <td>2020-02-26</td>\n",
              "      <td>NaN</td>\n",
              "      <td>NaN</td>\n",
              "      <td>released</td>\n",
              "    </tr>\n",
              "    <tr>\n",
              "      <th>2197</th>\n",
              "      <td>6113000044</td>\n",
              "      <td>NaN</td>\n",
              "      <td>female</td>\n",
              "      <td>1976.0</td>\n",
              "      <td>40s</td>\n",
              "      <td>Korea</td>\n",
              "      <td>Gyeongsangnam-do</td>\n",
              "      <td>Changwon-si</td>\n",
              "      <td>NaN</td>\n",
              "      <td>contact with patient</td>\n",
              "      <td>NaN</td>\n",
              "      <td>6.113000e+09</td>\n",
              "      <td>NaN</td>\n",
              "      <td>NaN</td>\n",
              "      <td>2020-02-27</td>\n",
              "      <td>NaN</td>\n",
              "      <td>NaN</td>\n",
              "      <td>released</td>\n",
              "    </tr>\n",
              "  </tbody>\n",
              "</table>\n",
              "<p>969 rows × 18 columns</p>\n",
              "</div>"
            ],
            "text/plain": [
              "      patient_id  global_num     sex  ...  released_date deceased_date     state\n",
              "0     1000000001         2.0    male  ...     2020-02-05           NaN  released\n",
              "1     1000000002         5.0    male  ...     2020-03-02           NaN  released\n",
              "2     1000000003         6.0    male  ...     2020-02-19           NaN  released\n",
              "3     1000000004         7.0    male  ...     2020-02-15           NaN  released\n",
              "4     1000000005         9.0  female  ...     2020-02-24           NaN  released\n",
              "...          ...         ...     ...  ...            ...           ...       ...\n",
              "2193  6113000040         NaN    male  ...            NaN           NaN  isolated\n",
              "2194  6106000041         NaN    male  ...            NaN           NaN  released\n",
              "2195  6113000042         NaN    male  ...            NaN           NaN  isolated\n",
              "2196  6104000043         NaN    male  ...            NaN           NaN  released\n",
              "2197  6113000044         NaN  female  ...            NaN           NaN  released\n",
              "\n",
              "[969 rows x 18 columns]"
            ]
          },
          "metadata": {
            "tags": []
          },
          "execution_count": 48
        }
      ]
    },
    {
      "cell_type": "code",
      "metadata": {
        "id": "bTuY72u__ifu",
        "colab_type": "code",
        "outputId": "c5fd308a-0cec-4af6-a80d-a63858f623ca",
        "colab": {
          "base_uri": "https://localhost:8080/",
          "height": 583
        }
      },
      "source": [
        "goodresults=df_patientinfof2[df_patientinfof2.state=='released']\n",
        "goodresults"
      ],
      "execution_count": 49,
      "outputs": [
        {
          "output_type": "execute_result",
          "data": {
            "text/html": [
              "<div>\n",
              "<style scoped>\n",
              "    .dataframe tbody tr th:only-of-type {\n",
              "        vertical-align: middle;\n",
              "    }\n",
              "\n",
              "    .dataframe tbody tr th {\n",
              "        vertical-align: top;\n",
              "    }\n",
              "\n",
              "    .dataframe thead th {\n",
              "        text-align: right;\n",
              "    }\n",
              "</style>\n",
              "<table border=\"1\" class=\"dataframe\">\n",
              "  <thead>\n",
              "    <tr style=\"text-align: right;\">\n",
              "      <th></th>\n",
              "      <th>patient_id</th>\n",
              "      <th>global_num</th>\n",
              "      <th>sex</th>\n",
              "      <th>birth_year</th>\n",
              "      <th>age</th>\n",
              "      <th>country</th>\n",
              "      <th>province</th>\n",
              "      <th>city</th>\n",
              "      <th>disease</th>\n",
              "      <th>infection_case</th>\n",
              "      <th>infection_order</th>\n",
              "      <th>infected_by</th>\n",
              "      <th>contact_number</th>\n",
              "      <th>symptom_onset_date</th>\n",
              "      <th>confirmed_date</th>\n",
              "      <th>released_date</th>\n",
              "      <th>deceased_date</th>\n",
              "      <th>state</th>\n",
              "    </tr>\n",
              "  </thead>\n",
              "  <tbody>\n",
              "    <tr>\n",
              "      <th>0</th>\n",
              "      <td>1000000001</td>\n",
              "      <td>2.0</td>\n",
              "      <td>male</td>\n",
              "      <td>1964.0</td>\n",
              "      <td>50s</td>\n",
              "      <td>Korea</td>\n",
              "      <td>Seoul</td>\n",
              "      <td>Gangseo-gu</td>\n",
              "      <td>NaN</td>\n",
              "      <td>overseas inflow</td>\n",
              "      <td>1.0</td>\n",
              "      <td>NaN</td>\n",
              "      <td>75.0</td>\n",
              "      <td>2020-01-22</td>\n",
              "      <td>2020-01-23</td>\n",
              "      <td>2020-02-05</td>\n",
              "      <td>NaN</td>\n",
              "      <td>released</td>\n",
              "    </tr>\n",
              "    <tr>\n",
              "      <th>1</th>\n",
              "      <td>1000000002</td>\n",
              "      <td>5.0</td>\n",
              "      <td>male</td>\n",
              "      <td>1987.0</td>\n",
              "      <td>30s</td>\n",
              "      <td>Korea</td>\n",
              "      <td>Seoul</td>\n",
              "      <td>Jungnang-gu</td>\n",
              "      <td>NaN</td>\n",
              "      <td>overseas inflow</td>\n",
              "      <td>1.0</td>\n",
              "      <td>NaN</td>\n",
              "      <td>31.0</td>\n",
              "      <td>NaN</td>\n",
              "      <td>2020-01-30</td>\n",
              "      <td>2020-03-02</td>\n",
              "      <td>NaN</td>\n",
              "      <td>released</td>\n",
              "    </tr>\n",
              "    <tr>\n",
              "      <th>2</th>\n",
              "      <td>1000000003</td>\n",
              "      <td>6.0</td>\n",
              "      <td>male</td>\n",
              "      <td>1964.0</td>\n",
              "      <td>50s</td>\n",
              "      <td>Korea</td>\n",
              "      <td>Seoul</td>\n",
              "      <td>Jongno-gu</td>\n",
              "      <td>NaN</td>\n",
              "      <td>contact with patient</td>\n",
              "      <td>2.0</td>\n",
              "      <td>2.002000e+09</td>\n",
              "      <td>17.0</td>\n",
              "      <td>NaN</td>\n",
              "      <td>2020-01-30</td>\n",
              "      <td>2020-02-19</td>\n",
              "      <td>NaN</td>\n",
              "      <td>released</td>\n",
              "    </tr>\n",
              "    <tr>\n",
              "      <th>3</th>\n",
              "      <td>1000000004</td>\n",
              "      <td>7.0</td>\n",
              "      <td>male</td>\n",
              "      <td>1991.0</td>\n",
              "      <td>20s</td>\n",
              "      <td>Korea</td>\n",
              "      <td>Seoul</td>\n",
              "      <td>Mapo-gu</td>\n",
              "      <td>NaN</td>\n",
              "      <td>overseas inflow</td>\n",
              "      <td>1.0</td>\n",
              "      <td>NaN</td>\n",
              "      <td>9.0</td>\n",
              "      <td>2020-01-26</td>\n",
              "      <td>2020-01-30</td>\n",
              "      <td>2020-02-15</td>\n",
              "      <td>NaN</td>\n",
              "      <td>released</td>\n",
              "    </tr>\n",
              "    <tr>\n",
              "      <th>4</th>\n",
              "      <td>1000000005</td>\n",
              "      <td>9.0</td>\n",
              "      <td>female</td>\n",
              "      <td>1992.0</td>\n",
              "      <td>20s</td>\n",
              "      <td>Korea</td>\n",
              "      <td>Seoul</td>\n",
              "      <td>Seongbuk-gu</td>\n",
              "      <td>NaN</td>\n",
              "      <td>contact with patient</td>\n",
              "      <td>2.0</td>\n",
              "      <td>1.000000e+09</td>\n",
              "      <td>2.0</td>\n",
              "      <td>NaN</td>\n",
              "      <td>2020-01-31</td>\n",
              "      <td>2020-02-24</td>\n",
              "      <td>NaN</td>\n",
              "      <td>released</td>\n",
              "    </tr>\n",
              "    <tr>\n",
              "      <th>...</th>\n",
              "      <td>...</td>\n",
              "      <td>...</td>\n",
              "      <td>...</td>\n",
              "      <td>...</td>\n",
              "      <td>...</td>\n",
              "      <td>...</td>\n",
              "      <td>...</td>\n",
              "      <td>...</td>\n",
              "      <td>...</td>\n",
              "      <td>...</td>\n",
              "      <td>...</td>\n",
              "      <td>...</td>\n",
              "      <td>...</td>\n",
              "      <td>...</td>\n",
              "      <td>...</td>\n",
              "      <td>...</td>\n",
              "      <td>...</td>\n",
              "      <td>...</td>\n",
              "    </tr>\n",
              "    <tr>\n",
              "      <th>2190</th>\n",
              "      <td>6113000037</td>\n",
              "      <td>NaN</td>\n",
              "      <td>female</td>\n",
              "      <td>1967.0</td>\n",
              "      <td>50s</td>\n",
              "      <td>Korea</td>\n",
              "      <td>Gyeongsangnam-do</td>\n",
              "      <td>Changwon-si</td>\n",
              "      <td>NaN</td>\n",
              "      <td>contact with patient</td>\n",
              "      <td>2.0</td>\n",
              "      <td>6.113000e+09</td>\n",
              "      <td>NaN</td>\n",
              "      <td>NaN</td>\n",
              "      <td>2020-02-26</td>\n",
              "      <td>NaN</td>\n",
              "      <td>NaN</td>\n",
              "      <td>released</td>\n",
              "    </tr>\n",
              "    <tr>\n",
              "      <th>2192</th>\n",
              "      <td>6104000039</td>\n",
              "      <td>NaN</td>\n",
              "      <td>female</td>\n",
              "      <td>1955.0</td>\n",
              "      <td>60s</td>\n",
              "      <td>Korea</td>\n",
              "      <td>Gyeongsangnam-do</td>\n",
              "      <td>Gimhae-si</td>\n",
              "      <td>NaN</td>\n",
              "      <td>contact with patient</td>\n",
              "      <td>NaN</td>\n",
              "      <td>NaN</td>\n",
              "      <td>NaN</td>\n",
              "      <td>NaN</td>\n",
              "      <td>2020-02-26</td>\n",
              "      <td>NaN</td>\n",
              "      <td>NaN</td>\n",
              "      <td>released</td>\n",
              "    </tr>\n",
              "    <tr>\n",
              "      <th>2194</th>\n",
              "      <td>6106000041</td>\n",
              "      <td>NaN</td>\n",
              "      <td>male</td>\n",
              "      <td>1985.0</td>\n",
              "      <td>30s</td>\n",
              "      <td>Korea</td>\n",
              "      <td>Gyeongsangnam-do</td>\n",
              "      <td>Miryang-si</td>\n",
              "      <td>NaN</td>\n",
              "      <td>contact with patient</td>\n",
              "      <td>2.0</td>\n",
              "      <td>6.106000e+09</td>\n",
              "      <td>NaN</td>\n",
              "      <td>NaN</td>\n",
              "      <td>2020-02-26</td>\n",
              "      <td>NaN</td>\n",
              "      <td>NaN</td>\n",
              "      <td>released</td>\n",
              "    </tr>\n",
              "    <tr>\n",
              "      <th>2196</th>\n",
              "      <td>6104000043</td>\n",
              "      <td>NaN</td>\n",
              "      <td>male</td>\n",
              "      <td>1996.0</td>\n",
              "      <td>20s</td>\n",
              "      <td>Korea</td>\n",
              "      <td>Gyeongsangnam-do</td>\n",
              "      <td>Gimhae-si</td>\n",
              "      <td>NaN</td>\n",
              "      <td>Shincheonji Church</td>\n",
              "      <td>NaN</td>\n",
              "      <td>NaN</td>\n",
              "      <td>NaN</td>\n",
              "      <td>NaN</td>\n",
              "      <td>2020-02-26</td>\n",
              "      <td>NaN</td>\n",
              "      <td>NaN</td>\n",
              "      <td>released</td>\n",
              "    </tr>\n",
              "    <tr>\n",
              "      <th>2197</th>\n",
              "      <td>6113000044</td>\n",
              "      <td>NaN</td>\n",
              "      <td>female</td>\n",
              "      <td>1976.0</td>\n",
              "      <td>40s</td>\n",
              "      <td>Korea</td>\n",
              "      <td>Gyeongsangnam-do</td>\n",
              "      <td>Changwon-si</td>\n",
              "      <td>NaN</td>\n",
              "      <td>contact with patient</td>\n",
              "      <td>NaN</td>\n",
              "      <td>6.113000e+09</td>\n",
              "      <td>NaN</td>\n",
              "      <td>NaN</td>\n",
              "      <td>2020-02-27</td>\n",
              "      <td>NaN</td>\n",
              "      <td>NaN</td>\n",
              "      <td>released</td>\n",
              "    </tr>\n",
              "  </tbody>\n",
              "</table>\n",
              "<p>167 rows × 18 columns</p>\n",
              "</div>"
            ],
            "text/plain": [
              "      patient_id  global_num     sex  ...  released_date deceased_date     state\n",
              "0     1000000001         2.0    male  ...     2020-02-05           NaN  released\n",
              "1     1000000002         5.0    male  ...     2020-03-02           NaN  released\n",
              "2     1000000003         6.0    male  ...     2020-02-19           NaN  released\n",
              "3     1000000004         7.0    male  ...     2020-02-15           NaN  released\n",
              "4     1000000005         9.0  female  ...     2020-02-24           NaN  released\n",
              "...          ...         ...     ...  ...            ...           ...       ...\n",
              "2190  6113000037         NaN  female  ...            NaN           NaN  released\n",
              "2192  6104000039         NaN  female  ...            NaN           NaN  released\n",
              "2194  6106000041         NaN    male  ...            NaN           NaN  released\n",
              "2196  6104000043         NaN    male  ...            NaN           NaN  released\n",
              "2197  6113000044         NaN  female  ...            NaN           NaN  released\n",
              "\n",
              "[167 rows x 18 columns]"
            ]
          },
          "metadata": {
            "tags": []
          },
          "execution_count": 49
        }
      ]
    },
    {
      "cell_type": "code",
      "metadata": {
        "id": "u_7qOsMn_in7",
        "colab_type": "code",
        "outputId": "4e225715-053e-441a-f408-3ff698618585",
        "colab": {
          "base_uri": "https://localhost:8080/",
          "height": 435
        }
      },
      "source": [
        "goodresults.info()"
      ],
      "execution_count": 50,
      "outputs": [
        {
          "output_type": "stream",
          "text": [
            "<class 'pandas.core.frame.DataFrame'>\n",
            "Int64Index: 167 entries, 0 to 2197\n",
            "Data columns (total 18 columns):\n",
            "patient_id            167 non-null int64\n",
            "global_num            80 non-null float64\n",
            "sex                   167 non-null object\n",
            "birth_year            153 non-null float64\n",
            "age                   167 non-null object\n",
            "country               167 non-null object\n",
            "province              167 non-null object\n",
            "city                  158 non-null object\n",
            "disease               0 non-null object\n",
            "infection_case        167 non-null object\n",
            "infection_order       32 non-null float64\n",
            "infected_by           88 non-null float64\n",
            "contact_number        89 non-null float64\n",
            "symptom_onset_date    30 non-null object\n",
            "confirmed_date        167 non-null object\n",
            "released_date         111 non-null object\n",
            "deceased_date         0 non-null object\n",
            "state                 167 non-null object\n",
            "dtypes: float64(5), int64(1), object(12)\n",
            "memory usage: 24.8+ KB\n"
          ],
          "name": "stdout"
        }
      ]
    },
    {
      "cell_type": "code",
      "metadata": {
        "id": "2e90OwiZSd8h",
        "colab_type": "code",
        "outputId": "019a3fbc-bc00-4acd-a40c-8ee4aee4e786",
        "colab": {
          "base_uri": "https://localhost:8080/",
          "height": 272
        }
      },
      "source": [
        "birthday=goodresults.birth_year.unique()\n",
        "\n",
        "count_birthday=[]\n",
        "for i in goodresults.birth_year.unique():\n",
        "    count_birthday.append(goodresults[goodresults['birth_year']==i].count()['birth_year'])\n",
        "\n",
        "plt.figure(figsize=(50,7))\n",
        "sns.barplot(birthday, count_birthday)"
      ],
      "execution_count": 51,
      "outputs": [
        {
          "output_type": "execute_result",
          "data": {
            "text/plain": [
              "<matplotlib.axes._subplots.AxesSubplot at 0x7f79140362b0>"
            ]
          },
          "metadata": {
            "tags": []
          },
          "execution_count": 51
        },
        {
          "output_type": "display_data",
          "data": {
            "image/png": "[encoded data removed]",
            "text/plain": [
              "<Figure size 3600x504 with 1 Axes>"
            ]
          },
          "metadata": {
            "tags": []
          }
        }
      ]
    },
    {
      "cell_type": "code",
      "metadata": {
        "id": "4EkOk6VITcbO",
        "colab_type": "code",
        "colab": {}
      },
      "source": [
        ""
      ],
      "execution_count": 0,
      "outputs": []
    },
    {
      "cell_type": "code",
      "metadata": {
        "id": "XJHUe939TckV",
        "colab_type": "code",
        "colab": {}
      },
      "source": [
        ""
      ],
      "execution_count": 0,
      "outputs": []
    },
    {
      "cell_type": "markdown",
      "metadata": {
        "id": "iWxmxrlio_oA",
        "colab_type": "text"
      },
      "source": [
        "#DF SearchTrend"
      ]
    },
    {
      "cell_type": "code",
      "metadata": {
        "id": "YvAVSZ_m6ENW",
        "colab_type": "code",
        "outputId": "3c19c7d6-cd68-4f6d-f487-482f279ce0d4",
        "colab": {
          "base_uri": "https://localhost:8080/",
          "height": 198
        }
      },
      "source": [
        "df_searchtrend.head()"
      ],
      "execution_count": 52,
      "outputs": [
        {
          "output_type": "execute_result",
          "data": {
            "text/html": [
              "<div>\n",
              "<style scoped>\n",
              "    .dataframe tbody tr th:only-of-type {\n",
              "        vertical-align: middle;\n",
              "    }\n",
              "\n",
              "    .dataframe tbody tr th {\n",
              "        vertical-align: top;\n",
              "    }\n",
              "\n",
              "    .dataframe thead th {\n",
              "        text-align: right;\n",
              "    }\n",
              "</style>\n",
              "<table border=\"1\" class=\"dataframe\">\n",
              "  <thead>\n",
              "    <tr style=\"text-align: right;\">\n",
              "      <th></th>\n",
              "      <th>date</th>\n",
              "      <th>cold</th>\n",
              "      <th>flu</th>\n",
              "      <th>pneumonia</th>\n",
              "      <th>coronavirus</th>\n",
              "    </tr>\n",
              "  </thead>\n",
              "  <tbody>\n",
              "    <tr>\n",
              "      <th>0</th>\n",
              "      <td>2016-03-17</td>\n",
              "      <td>0.15554</td>\n",
              "      <td>0.34471</td>\n",
              "      <td>0.18181</td>\n",
              "      <td>0.01236</td>\n",
              "    </tr>\n",
              "    <tr>\n",
              "      <th>1</th>\n",
              "      <td>2016-03-18</td>\n",
              "      <td>0.14417</td>\n",
              "      <td>0.49416</td>\n",
              "      <td>0.17563</td>\n",
              "      <td>0.01027</td>\n",
              "    </tr>\n",
              "    <tr>\n",
              "      <th>2</th>\n",
              "      <td>2016-03-19</td>\n",
              "      <td>0.13290</td>\n",
              "      <td>0.39907</td>\n",
              "      <td>0.15145</td>\n",
              "      <td>0.01154</td>\n",
              "    </tr>\n",
              "    <tr>\n",
              "      <th>3</th>\n",
              "      <td>2016-03-20</td>\n",
              "      <td>0.13863</td>\n",
              "      <td>0.39662</td>\n",
              "      <td>0.14408</td>\n",
              "      <td>0.00945</td>\n",
              "    </tr>\n",
              "    <tr>\n",
              "      <th>4</th>\n",
              "      <td>2016-03-21</td>\n",
              "      <td>0.16735</td>\n",
              "      <td>0.56989</td>\n",
              "      <td>0.21199</td>\n",
              "      <td>0.00963</td>\n",
              "    </tr>\n",
              "  </tbody>\n",
              "</table>\n",
              "</div>"
            ],
            "text/plain": [
              "         date     cold      flu  pneumonia  coronavirus\n",
              "0  2016-03-17  0.15554  0.34471    0.18181      0.01236\n",
              "1  2016-03-18  0.14417  0.49416    0.17563      0.01027\n",
              "2  2016-03-19  0.13290  0.39907    0.15145      0.01154\n",
              "3  2016-03-20  0.13863  0.39662    0.14408      0.00945\n",
              "4  2016-03-21  0.16735  0.56989    0.21199      0.00963"
            ]
          },
          "metadata": {
            "tags": []
          },
          "execution_count": 52
        }
      ]
    },
    {
      "cell_type": "code",
      "metadata": {
        "id": "5M0DlTeoQOLz",
        "colab_type": "code",
        "outputId": "31d47265-c539-4399-9a5d-839bca38c37d",
        "colab": {
          "base_uri": "https://localhost:8080/",
          "height": 126
        }
      },
      "source": [
        "df_searchtrend.isnull().sum()"
      ],
      "execution_count": 53,
      "outputs": [
        {
          "output_type": "execute_result",
          "data": {
            "text/plain": [
              "date           0\n",
              "cold           0\n",
              "flu            0\n",
              "pneumonia      0\n",
              "coronavirus    0\n",
              "dtype: int64"
            ]
          },
          "metadata": {
            "tags": []
          },
          "execution_count": 53
        }
      ]
    },
    {
      "cell_type": "markdown",
      "metadata": {
        "id": "atg7MOJWpDN0",
        "colab_type": "text"
      },
      "source": [
        "#DF Time Series Info"
      ]
    },
    {
      "cell_type": "code",
      "metadata": {
        "id": "4K9popVE6ET-",
        "colab_type": "code",
        "outputId": "dd163de6-b6cd-473d-ead0-10bb0b6feee4",
        "colab": {
          "base_uri": "https://localhost:8080/",
          "height": 648
        }
      },
      "source": [
        "df_timeage.head(20)"
      ],
      "execution_count": 54,
      "outputs": [
        {
          "output_type": "execute_result",
          "data": {
            "text/html": [
              "<div>\n",
              "<style scoped>\n",
              "    .dataframe tbody tr th:only-of-type {\n",
              "        vertical-align: middle;\n",
              "    }\n",
              "\n",
              "    .dataframe tbody tr th {\n",
              "        vertical-align: top;\n",
              "    }\n",
              "\n",
              "    .dataframe thead th {\n",
              "        text-align: right;\n",
              "    }\n",
              "</style>\n",
              "<table border=\"1\" class=\"dataframe\">\n",
              "  <thead>\n",
              "    <tr style=\"text-align: right;\">\n",
              "      <th></th>\n",
              "      <th>date</th>\n",
              "      <th>time</th>\n",
              "      <th>age</th>\n",
              "      <th>confirmed</th>\n",
              "      <th>deceased</th>\n",
              "    </tr>\n",
              "  </thead>\n",
              "  <tbody>\n",
              "    <tr>\n",
              "      <th>0</th>\n",
              "      <td>2020-03-02</td>\n",
              "      <td>0</td>\n",
              "      <td>0s</td>\n",
              "      <td>32</td>\n",
              "      <td>0</td>\n",
              "    </tr>\n",
              "    <tr>\n",
              "      <th>1</th>\n",
              "      <td>2020-03-02</td>\n",
              "      <td>0</td>\n",
              "      <td>10s</td>\n",
              "      <td>169</td>\n",
              "      <td>0</td>\n",
              "    </tr>\n",
              "    <tr>\n",
              "      <th>2</th>\n",
              "      <td>2020-03-02</td>\n",
              "      <td>0</td>\n",
              "      <td>20s</td>\n",
              "      <td>1235</td>\n",
              "      <td>0</td>\n",
              "    </tr>\n",
              "    <tr>\n",
              "      <th>3</th>\n",
              "      <td>2020-03-02</td>\n",
              "      <td>0</td>\n",
              "      <td>30s</td>\n",
              "      <td>506</td>\n",
              "      <td>1</td>\n",
              "    </tr>\n",
              "    <tr>\n",
              "      <th>4</th>\n",
              "      <td>2020-03-02</td>\n",
              "      <td>0</td>\n",
              "      <td>40s</td>\n",
              "      <td>633</td>\n",
              "      <td>1</td>\n",
              "    </tr>\n",
              "    <tr>\n",
              "      <th>5</th>\n",
              "      <td>2020-03-02</td>\n",
              "      <td>0</td>\n",
              "      <td>50s</td>\n",
              "      <td>834</td>\n",
              "      <td>5</td>\n",
              "    </tr>\n",
              "    <tr>\n",
              "      <th>6</th>\n",
              "      <td>2020-03-02</td>\n",
              "      <td>0</td>\n",
              "      <td>60s</td>\n",
              "      <td>530</td>\n",
              "      <td>6</td>\n",
              "    </tr>\n",
              "    <tr>\n",
              "      <th>7</th>\n",
              "      <td>2020-03-02</td>\n",
              "      <td>0</td>\n",
              "      <td>70s</td>\n",
              "      <td>192</td>\n",
              "      <td>6</td>\n",
              "    </tr>\n",
              "    <tr>\n",
              "      <th>8</th>\n",
              "      <td>2020-03-02</td>\n",
              "      <td>0</td>\n",
              "      <td>80s</td>\n",
              "      <td>81</td>\n",
              "      <td>3</td>\n",
              "    </tr>\n",
              "    <tr>\n",
              "      <th>9</th>\n",
              "      <td>2020-03-03</td>\n",
              "      <td>0</td>\n",
              "      <td>0s</td>\n",
              "      <td>34</td>\n",
              "      <td>0</td>\n",
              "    </tr>\n",
              "    <tr>\n",
              "      <th>10</th>\n",
              "      <td>2020-03-03</td>\n",
              "      <td>0</td>\n",
              "      <td>10s</td>\n",
              "      <td>204</td>\n",
              "      <td>0</td>\n",
              "    </tr>\n",
              "    <tr>\n",
              "      <th>11</th>\n",
              "      <td>2020-03-03</td>\n",
              "      <td>0</td>\n",
              "      <td>20s</td>\n",
              "      <td>1417</td>\n",
              "      <td>0</td>\n",
              "    </tr>\n",
              "    <tr>\n",
              "      <th>12</th>\n",
              "      <td>2020-03-03</td>\n",
              "      <td>0</td>\n",
              "      <td>30s</td>\n",
              "      <td>578</td>\n",
              "      <td>1</td>\n",
              "    </tr>\n",
              "    <tr>\n",
              "      <th>13</th>\n",
              "      <td>2020-03-03</td>\n",
              "      <td>0</td>\n",
              "      <td>40s</td>\n",
              "      <td>713</td>\n",
              "      <td>1</td>\n",
              "    </tr>\n",
              "    <tr>\n",
              "      <th>14</th>\n",
              "      <td>2020-03-03</td>\n",
              "      <td>0</td>\n",
              "      <td>50s</td>\n",
              "      <td>952</td>\n",
              "      <td>5</td>\n",
              "    </tr>\n",
              "    <tr>\n",
              "      <th>15</th>\n",
              "      <td>2020-03-03</td>\n",
              "      <td>0</td>\n",
              "      <td>60s</td>\n",
              "      <td>597</td>\n",
              "      <td>7</td>\n",
              "    </tr>\n",
              "    <tr>\n",
              "      <th>16</th>\n",
              "      <td>2020-03-03</td>\n",
              "      <td>0</td>\n",
              "      <td>70s</td>\n",
              "      <td>224</td>\n",
              "      <td>9</td>\n",
              "    </tr>\n",
              "    <tr>\n",
              "      <th>17</th>\n",
              "      <td>2020-03-03</td>\n",
              "      <td>0</td>\n",
              "      <td>80s</td>\n",
              "      <td>93</td>\n",
              "      <td>5</td>\n",
              "    </tr>\n",
              "    <tr>\n",
              "      <th>18</th>\n",
              "      <td>2020-03-04</td>\n",
              "      <td>0</td>\n",
              "      <td>0s</td>\n",
              "      <td>34</td>\n",
              "      <td>0</td>\n",
              "    </tr>\n",
              "    <tr>\n",
              "      <th>19</th>\n",
              "      <td>2020-03-04</td>\n",
              "      <td>0</td>\n",
              "      <td>10s</td>\n",
              "      <td>233</td>\n",
              "      <td>0</td>\n",
              "    </tr>\n",
              "  </tbody>\n",
              "</table>\n",
              "</div>"
            ],
            "text/plain": [
              "          date  time  age  confirmed  deceased\n",
              "0   2020-03-02     0   0s         32         0\n",
              "1   2020-03-02     0  10s        169         0\n",
              "2   2020-03-02     0  20s       1235         0\n",
              "3   2020-03-02     0  30s        506         1\n",
              "4   2020-03-02     0  40s        633         1\n",
              "5   2020-03-02     0  50s        834         5\n",
              "6   2020-03-02     0  60s        530         6\n",
              "7   2020-03-02     0  70s        192         6\n",
              "8   2020-03-02     0  80s         81         3\n",
              "9   2020-03-03     0   0s         34         0\n",
              "10  2020-03-03     0  10s        204         0\n",
              "11  2020-03-03     0  20s       1417         0\n",
              "12  2020-03-03     0  30s        578         1\n",
              "13  2020-03-03     0  40s        713         1\n",
              "14  2020-03-03     0  50s        952         5\n",
              "15  2020-03-03     0  60s        597         7\n",
              "16  2020-03-03     0  70s        224         9\n",
              "17  2020-03-03     0  80s         93         5\n",
              "18  2020-03-04     0   0s         34         0\n",
              "19  2020-03-04     0  10s        233         0"
            ]
          },
          "metadata": {
            "tags": []
          },
          "execution_count": 54
        }
      ]
    },
    {
      "cell_type": "code",
      "metadata": {
        "id": "HbM02-J_TC-k",
        "colab_type": "code",
        "colab": {
          "base_uri": "https://localhost:8080/",
          "height": 35
        },
        "outputId": "cbb18448-8b38-4747-8040-8003c8af05c0"
      },
      "source": [
        "df_timeage.deceased.sum()"
      ],
      "execution_count": 146,
      "outputs": [
        {
          "output_type": "execute_result",
          "data": {
            "text/plain": [
              "1329"
            ]
          },
          "metadata": {
            "tags": []
          },
          "execution_count": 146
        }
      ]
    },
    {
      "cell_type": "code",
      "metadata": {
        "id": "recWQly76EYH",
        "colab_type": "code",
        "outputId": "91c8f8a4-41b0-495a-b04d-9b96fa9ac298",
        "colab": {
          "base_uri": "https://localhost:8080/",
          "height": 198
        }
      },
      "source": [
        "df_time.head()"
      ],
      "execution_count": 55,
      "outputs": [
        {
          "output_type": "execute_result",
          "data": {
            "text/html": [
              "<div>\n",
              "<style scoped>\n",
              "    .dataframe tbody tr th:only-of-type {\n",
              "        vertical-align: middle;\n",
              "    }\n",
              "\n",
              "    .dataframe tbody tr th {\n",
              "        vertical-align: top;\n",
              "    }\n",
              "\n",
              "    .dataframe thead th {\n",
              "        text-align: right;\n",
              "    }\n",
              "</style>\n",
              "<table border=\"1\" class=\"dataframe\">\n",
              "  <thead>\n",
              "    <tr style=\"text-align: right;\">\n",
              "      <th></th>\n",
              "      <th>date</th>\n",
              "      <th>time</th>\n",
              "      <th>test</th>\n",
              "      <th>negative</th>\n",
              "      <th>confirmed</th>\n",
              "      <th>released</th>\n",
              "      <th>deceased</th>\n",
              "    </tr>\n",
              "  </thead>\n",
              "  <tbody>\n",
              "    <tr>\n",
              "      <th>0</th>\n",
              "      <td>2020-01-20</td>\n",
              "      <td>16</td>\n",
              "      <td>1</td>\n",
              "      <td>0</td>\n",
              "      <td>1</td>\n",
              "      <td>0</td>\n",
              "      <td>0</td>\n",
              "    </tr>\n",
              "    <tr>\n",
              "      <th>1</th>\n",
              "      <td>2020-01-21</td>\n",
              "      <td>16</td>\n",
              "      <td>1</td>\n",
              "      <td>0</td>\n",
              "      <td>1</td>\n",
              "      <td>0</td>\n",
              "      <td>0</td>\n",
              "    </tr>\n",
              "    <tr>\n",
              "      <th>2</th>\n",
              "      <td>2020-01-22</td>\n",
              "      <td>16</td>\n",
              "      <td>4</td>\n",
              "      <td>3</td>\n",
              "      <td>1</td>\n",
              "      <td>0</td>\n",
              "      <td>0</td>\n",
              "    </tr>\n",
              "    <tr>\n",
              "      <th>3</th>\n",
              "      <td>2020-01-23</td>\n",
              "      <td>16</td>\n",
              "      <td>22</td>\n",
              "      <td>21</td>\n",
              "      <td>1</td>\n",
              "      <td>0</td>\n",
              "      <td>0</td>\n",
              "    </tr>\n",
              "    <tr>\n",
              "      <th>4</th>\n",
              "      <td>2020-01-24</td>\n",
              "      <td>16</td>\n",
              "      <td>27</td>\n",
              "      <td>25</td>\n",
              "      <td>2</td>\n",
              "      <td>0</td>\n",
              "      <td>0</td>\n",
              "    </tr>\n",
              "  </tbody>\n",
              "</table>\n",
              "</div>"
            ],
            "text/plain": [
              "         date  time  test  negative  confirmed  released  deceased\n",
              "0  2020-01-20    16     1         0          1         0         0\n",
              "1  2020-01-21    16     1         0          1         0         0\n",
              "2  2020-01-22    16     4         3          1         0         0\n",
              "3  2020-01-23    16    22        21          1         0         0\n",
              "4  2020-01-24    16    27        25          2         0         0"
            ]
          },
          "metadata": {
            "tags": []
          },
          "execution_count": 55
        }
      ]
    },
    {
      "cell_type": "code",
      "metadata": {
        "id": "IOgOwfeYQSvp",
        "colab_type": "code",
        "outputId": "73aa7ff1-6d02-4acf-afa1-3fc23e840cef",
        "colab": {
          "base_uri": "https://localhost:8080/",
          "height": 163
        }
      },
      "source": [
        "df_time.isnull().sum()"
      ],
      "execution_count": 56,
      "outputs": [
        {
          "output_type": "execute_result",
          "data": {
            "text/plain": [
              "date         0\n",
              "time         0\n",
              "test         0\n",
              "negative     0\n",
              "confirmed    0\n",
              "released     0\n",
              "deceased     0\n",
              "dtype: int64"
            ]
          },
          "metadata": {
            "tags": []
          },
          "execution_count": 56
        }
      ]
    },
    {
      "cell_type": "code",
      "metadata": {
        "id": "FxtYfp_v6Edg",
        "colab_type": "code",
        "outputId": "d1a1050b-1488-41ef-d677-a5bfec57089d",
        "colab": {
          "base_uri": "https://localhost:8080/",
          "height": 198
        }
      },
      "source": [
        "df_timegender.head()"
      ],
      "execution_count": 57,
      "outputs": [
        {
          "output_type": "execute_result",
          "data": {
            "text/html": [
              "<div>\n",
              "<style scoped>\n",
              "    .dataframe tbody tr th:only-of-type {\n",
              "        vertical-align: middle;\n",
              "    }\n",
              "\n",
              "    .dataframe tbody tr th {\n",
              "        vertical-align: top;\n",
              "    }\n",
              "\n",
              "    .dataframe thead th {\n",
              "        text-align: right;\n",
              "    }\n",
              "</style>\n",
              "<table border=\"1\" class=\"dataframe\">\n",
              "  <thead>\n",
              "    <tr style=\"text-align: right;\">\n",
              "      <th></th>\n",
              "      <th>date</th>\n",
              "      <th>time</th>\n",
              "      <th>sex</th>\n",
              "      <th>confirmed</th>\n",
              "      <th>deceased</th>\n",
              "    </tr>\n",
              "  </thead>\n",
              "  <tbody>\n",
              "    <tr>\n",
              "      <th>0</th>\n",
              "      <td>2020-03-02</td>\n",
              "      <td>0</td>\n",
              "      <td>male</td>\n",
              "      <td>1591</td>\n",
              "      <td>13</td>\n",
              "    </tr>\n",
              "    <tr>\n",
              "      <th>1</th>\n",
              "      <td>2020-03-02</td>\n",
              "      <td>0</td>\n",
              "      <td>female</td>\n",
              "      <td>2621</td>\n",
              "      <td>9</td>\n",
              "    </tr>\n",
              "    <tr>\n",
              "      <th>2</th>\n",
              "      <td>2020-03-03</td>\n",
              "      <td>0</td>\n",
              "      <td>male</td>\n",
              "      <td>1810</td>\n",
              "      <td>16</td>\n",
              "    </tr>\n",
              "    <tr>\n",
              "      <th>3</th>\n",
              "      <td>2020-03-03</td>\n",
              "      <td>0</td>\n",
              "      <td>female</td>\n",
              "      <td>3002</td>\n",
              "      <td>12</td>\n",
              "    </tr>\n",
              "    <tr>\n",
              "      <th>4</th>\n",
              "      <td>2020-03-04</td>\n",
              "      <td>0</td>\n",
              "      <td>male</td>\n",
              "      <td>1996</td>\n",
              "      <td>20</td>\n",
              "    </tr>\n",
              "  </tbody>\n",
              "</table>\n",
              "</div>"
            ],
            "text/plain": [
              "         date  time     sex  confirmed  deceased\n",
              "0  2020-03-02     0    male       1591        13\n",
              "1  2020-03-02     0  female       2621         9\n",
              "2  2020-03-03     0    male       1810        16\n",
              "3  2020-03-03     0  female       3002        12\n",
              "4  2020-03-04     0    male       1996        20"
            ]
          },
          "metadata": {
            "tags": []
          },
          "execution_count": 57
        }
      ]
    },
    {
      "cell_type": "code",
      "metadata": {
        "id": "UD6llWqoQVsf",
        "colab_type": "code",
        "outputId": "299c9036-3a1c-40b0-8173-7f1643353fc5",
        "colab": {
          "base_uri": "https://localhost:8080/",
          "height": 126
        }
      },
      "source": [
        "df_timegender.isnull().sum()"
      ],
      "execution_count": 58,
      "outputs": [
        {
          "output_type": "execute_result",
          "data": {
            "text/plain": [
              "date         0\n",
              "time         0\n",
              "sex          0\n",
              "confirmed    0\n",
              "deceased     0\n",
              "dtype: int64"
            ]
          },
          "metadata": {
            "tags": []
          },
          "execution_count": 58
        }
      ]
    },
    {
      "cell_type": "code",
      "metadata": {
        "id": "KieLh6XK6VVV",
        "colab_type": "code",
        "outputId": "3c368c41-7672-42c2-f8fb-7318bf7b11cf",
        "colab": {
          "base_uri": "https://localhost:8080/",
          "height": 198
        }
      },
      "source": [
        "df_timeprovince.head()"
      ],
      "execution_count": 59,
      "outputs": [
        {
          "output_type": "execute_result",
          "data": {
            "text/html": [
              "<div>\n",
              "<style scoped>\n",
              "    .dataframe tbody tr th:only-of-type {\n",
              "        vertical-align: middle;\n",
              "    }\n",
              "\n",
              "    .dataframe tbody tr th {\n",
              "        vertical-align: top;\n",
              "    }\n",
              "\n",
              "    .dataframe thead th {\n",
              "        text-align: right;\n",
              "    }\n",
              "</style>\n",
              "<table border=\"1\" class=\"dataframe\">\n",
              "  <thead>\n",
              "    <tr style=\"text-align: right;\">\n",
              "      <th></th>\n",
              "      <th>date</th>\n",
              "      <th>time</th>\n",
              "      <th>province</th>\n",
              "      <th>confirmed</th>\n",
              "      <th>released</th>\n",
              "      <th>deceased</th>\n",
              "    </tr>\n",
              "  </thead>\n",
              "  <tbody>\n",
              "    <tr>\n",
              "      <th>0</th>\n",
              "      <td>2020-01-20</td>\n",
              "      <td>16</td>\n",
              "      <td>Seoul</td>\n",
              "      <td>0</td>\n",
              "      <td>0</td>\n",
              "      <td>0</td>\n",
              "    </tr>\n",
              "    <tr>\n",
              "      <th>1</th>\n",
              "      <td>2020-01-20</td>\n",
              "      <td>16</td>\n",
              "      <td>Busan</td>\n",
              "      <td>0</td>\n",
              "      <td>0</td>\n",
              "      <td>0</td>\n",
              "    </tr>\n",
              "    <tr>\n",
              "      <th>2</th>\n",
              "      <td>2020-01-20</td>\n",
              "      <td>16</td>\n",
              "      <td>Daegu</td>\n",
              "      <td>0</td>\n",
              "      <td>0</td>\n",
              "      <td>0</td>\n",
              "    </tr>\n",
              "    <tr>\n",
              "      <th>3</th>\n",
              "      <td>2020-01-20</td>\n",
              "      <td>16</td>\n",
              "      <td>Incheon</td>\n",
              "      <td>1</td>\n",
              "      <td>0</td>\n",
              "      <td>0</td>\n",
              "    </tr>\n",
              "    <tr>\n",
              "      <th>4</th>\n",
              "      <td>2020-01-20</td>\n",
              "      <td>16</td>\n",
              "      <td>Gwangju</td>\n",
              "      <td>0</td>\n",
              "      <td>0</td>\n",
              "      <td>0</td>\n",
              "    </tr>\n",
              "  </tbody>\n",
              "</table>\n",
              "</div>"
            ],
            "text/plain": [
              "         date  time province  confirmed  released  deceased\n",
              "0  2020-01-20    16    Seoul          0         0         0\n",
              "1  2020-01-20    16    Busan          0         0         0\n",
              "2  2020-01-20    16    Daegu          0         0         0\n",
              "3  2020-01-20    16  Incheon          1         0         0\n",
              "4  2020-01-20    16  Gwangju          0         0         0"
            ]
          },
          "metadata": {
            "tags": []
          },
          "execution_count": 59
        }
      ]
    },
    {
      "cell_type": "code",
      "metadata": {
        "id": "dtXRl3JVQYu2",
        "colab_type": "code",
        "outputId": "329e67d6-cd26-46a0-e93a-41a2f197670e",
        "colab": {
          "base_uri": "https://localhost:8080/",
          "height": 145
        }
      },
      "source": [
        "df_timeprovince.isnull().sum()"
      ],
      "execution_count": 60,
      "outputs": [
        {
          "output_type": "execute_result",
          "data": {
            "text/plain": [
              "date         0\n",
              "time         0\n",
              "province     0\n",
              "confirmed    0\n",
              "released     0\n",
              "deceased     0\n",
              "dtype: int64"
            ]
          },
          "metadata": {
            "tags": []
          },
          "execution_count": 60
        }
      ]
    },
    {
      "cell_type": "code",
      "metadata": {
        "id": "ppotu2XKLZ-8",
        "colab_type": "code",
        "outputId": "b2b2aba9-244a-4946-f172-815058898857",
        "colab": {
          "base_uri": "https://localhost:8080/",
          "height": 35
        }
      },
      "source": [
        "df_timeprovince['province'].count()"
      ],
      "execution_count": 61,
      "outputs": [
        {
          "output_type": "execute_result",
          "data": {
            "text/plain": [
              "1071"
            ]
          },
          "metadata": {
            "tags": []
          },
          "execution_count": 61
        }
      ]
    },
    {
      "cell_type": "markdown",
      "metadata": {
        "id": "_FhLAjVWpOZU",
        "colab_type": "text"
      },
      "source": [
        "#DF Weather"
      ]
    },
    {
      "cell_type": "code",
      "metadata": {
        "id": "ZtTMC5F96VYO",
        "colab_type": "code",
        "outputId": "398b5960-aa5a-45a8-9721-67adc51a3b83",
        "colab": {
          "base_uri": "https://localhost:8080/",
          "height": 198
        }
      },
      "source": [
        "df_weather.head()"
      ],
      "execution_count": 62,
      "outputs": [
        {
          "output_type": "execute_result",
          "data": {
            "text/html": [
              "<div>\n",
              "<style scoped>\n",
              "    .dataframe tbody tr th:only-of-type {\n",
              "        vertical-align: middle;\n",
              "    }\n",
              "\n",
              "    .dataframe tbody tr th {\n",
              "        vertical-align: top;\n",
              "    }\n",
              "\n",
              "    .dataframe thead th {\n",
              "        text-align: right;\n",
              "    }\n",
              "</style>\n",
              "<table border=\"1\" class=\"dataframe\">\n",
              "  <thead>\n",
              "    <tr style=\"text-align: right;\">\n",
              "      <th></th>\n",
              "      <th>code</th>\n",
              "      <th>province</th>\n",
              "      <th>date</th>\n",
              "      <th>avg_temp</th>\n",
              "      <th>min_temp</th>\n",
              "      <th>max_temp</th>\n",
              "      <th>precipitation</th>\n",
              "      <th>max_wind_speed</th>\n",
              "      <th>most_wind_direction</th>\n",
              "      <th>avg_relative_humidity</th>\n",
              "    </tr>\n",
              "  </thead>\n",
              "  <tbody>\n",
              "    <tr>\n",
              "      <th>0</th>\n",
              "      <td>10000</td>\n",
              "      <td>Seoul</td>\n",
              "      <td>2016-03-17</td>\n",
              "      <td>9.3</td>\n",
              "      <td>2.0</td>\n",
              "      <td>14.7</td>\n",
              "      <td>0.0</td>\n",
              "      <td>3.2</td>\n",
              "      <td>70.0</td>\n",
              "      <td>40.9</td>\n",
              "    </tr>\n",
              "    <tr>\n",
              "      <th>1</th>\n",
              "      <td>10000</td>\n",
              "      <td>Seoul</td>\n",
              "      <td>2016-03-18</td>\n",
              "      <td>13.4</td>\n",
              "      <td>8.8</td>\n",
              "      <td>20.1</td>\n",
              "      <td>0.0</td>\n",
              "      <td>5.0</td>\n",
              "      <td>110.0</td>\n",
              "      <td>50.0</td>\n",
              "    </tr>\n",
              "    <tr>\n",
              "      <th>2</th>\n",
              "      <td>10000</td>\n",
              "      <td>Seoul</td>\n",
              "      <td>2016-03-19</td>\n",
              "      <td>11.4</td>\n",
              "      <td>6.6</td>\n",
              "      <td>18.1</td>\n",
              "      <td>0.0</td>\n",
              "      <td>4.8</td>\n",
              "      <td>320.0</td>\n",
              "      <td>58.3</td>\n",
              "    </tr>\n",
              "    <tr>\n",
              "      <th>3</th>\n",
              "      <td>10000</td>\n",
              "      <td>Seoul</td>\n",
              "      <td>2016-03-20</td>\n",
              "      <td>10.6</td>\n",
              "      <td>4.9</td>\n",
              "      <td>17.5</td>\n",
              "      <td>0.0</td>\n",
              "      <td>4.6</td>\n",
              "      <td>320.0</td>\n",
              "      <td>54.0</td>\n",
              "    </tr>\n",
              "    <tr>\n",
              "      <th>4</th>\n",
              "      <td>10000</td>\n",
              "      <td>Seoul</td>\n",
              "      <td>2016-03-21</td>\n",
              "      <td>9.9</td>\n",
              "      <td>5.5</td>\n",
              "      <td>16.1</td>\n",
              "      <td>0.0</td>\n",
              "      <td>5.4</td>\n",
              "      <td>320.0</td>\n",
              "      <td>54.1</td>\n",
              "    </tr>\n",
              "  </tbody>\n",
              "</table>\n",
              "</div>"
            ],
            "text/plain": [
              "    code province  ... most_wind_direction  avg_relative_humidity\n",
              "0  10000    Seoul  ...                70.0                   40.9\n",
              "1  10000    Seoul  ...               110.0                   50.0\n",
              "2  10000    Seoul  ...               320.0                   58.3\n",
              "3  10000    Seoul  ...               320.0                   54.0\n",
              "4  10000    Seoul  ...               320.0                   54.1\n",
              "\n",
              "[5 rows x 10 columns]"
            ]
          },
          "metadata": {
            "tags": []
          },
          "execution_count": 62
        }
      ]
    },
    {
      "cell_type": "code",
      "metadata": {
        "id": "0TYGy7SP6VbV",
        "colab_type": "code",
        "outputId": "724a9c97-8627-4912-b9d4-ba1791c8a8cb",
        "colab": {
          "base_uri": "https://localhost:8080/",
          "height": 217
        }
      },
      "source": [
        "df_weather.isnull().sum()"
      ],
      "execution_count": 63,
      "outputs": [
        {
          "output_type": "execute_result",
          "data": {
            "text/plain": [
              "code                      0\n",
              "province                  0\n",
              "date                      0\n",
              "avg_temp                 15\n",
              "min_temp                  5\n",
              "max_temp                  3\n",
              "precipitation             0\n",
              "max_wind_speed            9\n",
              "most_wind_direction      29\n",
              "avg_relative_humidity    20\n",
              "dtype: int64"
            ]
          },
          "metadata": {
            "tags": []
          },
          "execution_count": 63
        }
      ]
    },
    {
      "cell_type": "markdown",
      "metadata": {
        "id": "Cl29ADyRpUco",
        "colab_type": "text"
      },
      "source": [
        "#KNN"
      ]
    },
    {
      "cell_type": "code",
      "metadata": {
        "id": "xC1mHBCTajEb",
        "colab_type": "code",
        "outputId": "f76a3270-951f-42be-f441-05f48c69de3c",
        "colab": {
          "base_uri": "https://localhost:8080/",
          "height": 0
        }
      },
      "source": [
        "df_patientinfo.shape"
      ],
      "execution_count": 64,
      "outputs": [
        {
          "output_type": "execute_result",
          "data": {
            "text/plain": [
              "(2243, 18)"
            ]
          },
          "metadata": {
            "tags": []
          },
          "execution_count": 64
        }
      ]
    },
    {
      "cell_type": "code",
      "metadata": {
        "id": "66AZLDWIajMI",
        "colab_type": "code",
        "outputId": "b2d93e4a-29ea-4d4d-96ec-c48e0509f8f2",
        "colab": {
          "base_uri": "https://localhost:8080/",
          "height": 0
        }
      },
      "source": [
        "df_patientroute.shape"
      ],
      "execution_count": 65,
      "outputs": [
        {
          "output_type": "execute_result",
          "data": {
            "text/plain": [
              "(175, 8)"
            ]
          },
          "metadata": {
            "tags": []
          },
          "execution_count": 65
        }
      ]
    },
    {
      "cell_type": "code",
      "metadata": {
        "id": "uYXbBRpNf8Ke",
        "colab_type": "code",
        "outputId": "9b51bfdd-8ec4-4e6d-ba2a-75d988bff26c",
        "colab": {
          "base_uri": "https://localhost:8080/",
          "height": 0
        }
      },
      "source": [
        "df_casef.shape"
      ],
      "execution_count": 66,
      "outputs": [
        {
          "output_type": "execute_result",
          "data": {
            "text/plain": [
              "(29, 9)"
            ]
          },
          "metadata": {
            "tags": []
          },
          "execution_count": 66
        }
      ]
    },
    {
      "cell_type": "markdown",
      "metadata": {
        "id": "MCpR6Fc8dg0B",
        "colab_type": "text"
      },
      "source": [
        "Let's focus on optimizing placement of officials to handle the most cases by finding the nearest centroid in relationship to case number."
      ]
    },
    {
      "cell_type": "code",
      "metadata": {
        "id": "V2gu06s3ajYy",
        "colab_type": "code",
        "colab": {}
      },
      "source": [
        "from sklearn.neighbors import NearestCentroid"
      ],
      "execution_count": 0,
      "outputs": []
    },
    {
      "cell_type": "code",
      "metadata": {
        "id": "-cTWTrRUcnoq",
        "colab_type": "code",
        "outputId": "22c3c67c-dd9a-4793-86a2-5fdf88eb406a",
        "colab": {
          "base_uri": "https://localhost:8080/",
          "height": 0
        }
      },
      "source": [
        "X=pd.concat([df_casef['longitude'], df_casef['latitude']], axis=1)\n",
        "X"
      ],
      "execution_count": 68,
      "outputs": [
        {
          "output_type": "execute_result",
          "data": {
            "text/html": [
              "<div>\n",
              "<style scoped>\n",
              "    .dataframe tbody tr th:only-of-type {\n",
              "        vertical-align: middle;\n",
              "    }\n",
              "\n",
              "    .dataframe tbody tr th {\n",
              "        vertical-align: top;\n",
              "    }\n",
              "\n",
              "    .dataframe thead th {\n",
              "        text-align: right;\n",
              "    }\n",
              "</style>\n",
              "<table border=\"1\" class=\"dataframe\">\n",
              "  <thead>\n",
              "    <tr style=\"text-align: right;\">\n",
              "      <th></th>\n",
              "      <th>longitude</th>\n",
              "      <th>latitude</th>\n",
              "    </tr>\n",
              "  </thead>\n",
              "  <tbody>\n",
              "    <tr>\n",
              "      <th>0</th>\n",
              "      <td>126.884387</td>\n",
              "      <td>37.508163</td>\n",
              "    </tr>\n",
              "    <tr>\n",
              "      <th>1</th>\n",
              "      <td>127.056766</td>\n",
              "      <td>37.592888</td>\n",
              "    </tr>\n",
              "    <tr>\n",
              "      <th>2</th>\n",
              "      <td>126.9165</td>\n",
              "      <td>37.63369</td>\n",
              "    </tr>\n",
              "    <tr>\n",
              "      <th>3</th>\n",
              "      <td>127.0403</td>\n",
              "      <td>37.55713</td>\n",
              "    </tr>\n",
              "    <tr>\n",
              "      <th>4</th>\n",
              "      <td>127.006</td>\n",
              "      <td>37.57681</td>\n",
              "    </tr>\n",
              "    <tr>\n",
              "      <th>5</th>\n",
              "      <td>126.984377</td>\n",
              "      <td>37.562405</td>\n",
              "    </tr>\n",
              "    <tr>\n",
              "      <th>8</th>\n",
              "      <td>129.0771</td>\n",
              "      <td>35.21628</td>\n",
              "    </tr>\n",
              "    <tr>\n",
              "      <th>10</th>\n",
              "      <td>129.1124</td>\n",
              "      <td>35.16708</td>\n",
              "    </tr>\n",
              "    <tr>\n",
              "      <th>11</th>\n",
              "      <td>129.1256</td>\n",
              "      <td>35.20599</td>\n",
              "    </tr>\n",
              "    <tr>\n",
              "      <th>12</th>\n",
              "      <td>129.0633</td>\n",
              "      <td>35.17371</td>\n",
              "    </tr>\n",
              "    <tr>\n",
              "      <th>15</th>\n",
              "      <td>128.5667</td>\n",
              "      <td>35.84008</td>\n",
              "    </tr>\n",
              "    <tr>\n",
              "      <th>35</th>\n",
              "      <td>127.265172</td>\n",
              "      <td>36.504713</td>\n",
              "    </tr>\n",
              "    <tr>\n",
              "      <th>36</th>\n",
              "      <td>127.289</td>\n",
              "      <td>36.48025</td>\n",
              "    </tr>\n",
              "    <tr>\n",
              "      <th>41</th>\n",
              "      <td>127.1218</td>\n",
              "      <td>37.38833</td>\n",
              "    </tr>\n",
              "    <tr>\n",
              "      <th>42</th>\n",
              "      <td>127.161627</td>\n",
              "      <td>37.455687</td>\n",
              "    </tr>\n",
              "    <tr>\n",
              "      <th>43</th>\n",
              "      <td>127.0517</td>\n",
              "      <td>37.2376</td>\n",
              "    </tr>\n",
              "    <tr>\n",
              "      <th>50</th>\n",
              "      <td>127.9552</td>\n",
              "      <td>36.82422</td>\n",
              "    </tr>\n",
              "    <tr>\n",
              "      <th>53</th>\n",
              "      <td>127.1139</td>\n",
              "      <td>36.81503</td>\n",
              "    </tr>\n",
              "    <tr>\n",
              "      <th>54</th>\n",
              "      <td>126.354443</td>\n",
              "      <td>37.000354</td>\n",
              "    </tr>\n",
              "    <tr>\n",
              "      <th>65</th>\n",
              "      <td>128.7368</td>\n",
              "      <td>35.64887</td>\n",
              "    </tr>\n",
              "    <tr>\n",
              "      <th>66</th>\n",
              "      <td>128.9099</td>\n",
              "      <td>36.92757</td>\n",
              "    </tr>\n",
              "    <tr>\n",
              "      <th>68</th>\n",
              "      <td>128.4941</td>\n",
              "      <td>36.0581</td>\n",
              "    </tr>\n",
              "    <tr>\n",
              "      <th>69</th>\n",
              "      <td>128.801498</td>\n",
              "      <td>35.782149</td>\n",
              "    </tr>\n",
              "    <tr>\n",
              "      <th>70</th>\n",
              "      <td>128.7621</td>\n",
              "      <td>35.84819</td>\n",
              "    </tr>\n",
              "    <tr>\n",
              "      <th>71</th>\n",
              "      <td>128.7373</td>\n",
              "      <td>35.82558</td>\n",
              "    </tr>\n",
              "    <tr>\n",
              "      <th>74</th>\n",
              "      <td>127.9127</td>\n",
              "      <td>35.68556</td>\n",
              "    </tr>\n",
              "    <tr>\n",
              "      <th>75</th>\n",
              "      <td>127.917805</td>\n",
              "      <td>35.805681</td>\n",
              "    </tr>\n",
              "    <tr>\n",
              "      <th>76</th>\n",
              "      <td>128.6866</td>\n",
              "      <td>35.22115</td>\n",
              "    </tr>\n",
              "    <tr>\n",
              "      <th>77</th>\n",
              "      <td>128.5008</td>\n",
              "      <td>35.54127</td>\n",
              "    </tr>\n",
              "  </tbody>\n",
              "</table>\n",
              "</div>"
            ],
            "text/plain": [
              "     longitude   latitude\n",
              "0   126.884387  37.508163\n",
              "1   127.056766  37.592888\n",
              "2     126.9165   37.63369\n",
              "3     127.0403   37.55713\n",
              "4      127.006   37.57681\n",
              "5   126.984377  37.562405\n",
              "8     129.0771   35.21628\n",
              "10    129.1124   35.16708\n",
              "11    129.1256   35.20599\n",
              "12    129.0633   35.17371\n",
              "15    128.5667   35.84008\n",
              "35  127.265172  36.504713\n",
              "36     127.289   36.48025\n",
              "41    127.1218   37.38833\n",
              "42  127.161627  37.455687\n",
              "43    127.0517    37.2376\n",
              "50    127.9552   36.82422\n",
              "53    127.1139   36.81503\n",
              "54  126.354443  37.000354\n",
              "65    128.7368   35.64887\n",
              "66    128.9099   36.92757\n",
              "68    128.4941    36.0581\n",
              "69  128.801498  35.782149\n",
              "70    128.7621   35.84819\n",
              "71    128.7373   35.82558\n",
              "74    127.9127   35.68556\n",
              "75  127.917805  35.805681\n",
              "76    128.6866   35.22115\n",
              "77    128.5008   35.54127"
            ]
          },
          "metadata": {
            "tags": []
          },
          "execution_count": 68
        }
      ]
    },
    {
      "cell_type": "code",
      "metadata": {
        "id": "1HHLVsfxiFOR",
        "colab_type": "code",
        "outputId": "1723f7be-c7f8-403a-8719-96bf55932e5b",
        "colab": {
          "base_uri": "https://localhost:8080/",
          "height": 0
        }
      },
      "source": [
        "X.shape"
      ],
      "execution_count": 69,
      "outputs": [
        {
          "output_type": "execute_result",
          "data": {
            "text/plain": [
              "(29, 2)"
            ]
          },
          "metadata": {
            "tags": []
          },
          "execution_count": 69
        }
      ]
    },
    {
      "cell_type": "code",
      "metadata": {
        "id": "Upt3PHidgK0A",
        "colab_type": "code",
        "outputId": "47dfa3c0-c2c3-4431-9dcb-0ce37e724f40",
        "colab": {
          "base_uri": "https://localhost:8080/",
          "height": 0
        }
      },
      "source": [
        "y= df_casef['confirmed']\n",
        "y"
      ],
      "execution_count": 70,
      "outputs": [
        {
          "output_type": "execute_result",
          "data": {
            "text/plain": [
              "0       79\n",
              "1       24\n",
              "2       14\n",
              "3       13\n",
              "4       10\n",
              "5        7\n",
              "8       34\n",
              "10       6\n",
              "11       6\n",
              "12       4\n",
              "15    4359\n",
              "35      28\n",
              "36       8\n",
              "41      22\n",
              "42      19\n",
              "43      10\n",
              "50      11\n",
              "53     104\n",
              "54       8\n",
              "65     119\n",
              "66      58\n",
              "68      25\n",
              "69      22\n",
              "70      17\n",
              "71      16\n",
              "74      10\n",
              "75       8\n",
              "76       7\n",
              "77       7\n",
              "Name: confirmed, dtype: int64"
            ]
          },
          "metadata": {
            "tags": []
          },
          "execution_count": 70
        }
      ]
    },
    {
      "cell_type": "code",
      "metadata": {
        "id": "Ks8mJqosgK5N",
        "colab_type": "code",
        "outputId": "ebc96ac9-afaf-456a-bb51-6d78eb0c0c50",
        "colab": {
          "base_uri": "https://localhost:8080/",
          "height": 0
        }
      },
      "source": [
        "clf=KNeighborsClassifier(metric='haversine')\n",
        "clf.fit(X, y)"
      ],
      "execution_count": 71,
      "outputs": [
        {
          "output_type": "execute_result",
          "data": {
            "text/plain": [
              "KNeighborsClassifier(algorithm='auto', leaf_size=30, metric='haversine',\n",
              "                     metric_params=None, n_jobs=None, n_neighbors=5, p=2,\n",
              "                     weights='uniform')"
            ]
          },
          "metadata": {
            "tags": []
          },
          "execution_count": 71
        }
      ]
    },
    {
      "cell_type": "code",
      "metadata": {
        "id": "tX2x6HuocnxO",
        "colab_type": "code",
        "outputId": "274ad619-27d6-48c8-c700-b6531420f612",
        "colab": {
          "base_uri": "https://localhost:8080/",
          "height": 0
        }
      },
      "source": [
        "clf.predict([[126.884387,37.508163]])"
      ],
      "execution_count": 72,
      "outputs": [
        {
          "output_type": "execute_result",
          "data": {
            "text/plain": [
              "array([7])"
            ]
          },
          "metadata": {
            "tags": []
          },
          "execution_count": 72
        }
      ]
    },
    {
      "cell_type": "code",
      "metadata": {
        "id": "HDtDp9EmGuIa",
        "colab_type": "code",
        "outputId": "a3a076cc-2646-4da1-9c3a-05ad38a83773",
        "colab": {
          "base_uri": "https://localhost:8080/",
          "height": 0
        }
      },
      "source": [
        "clf.predict([[126, 36]])"
      ],
      "execution_count": 73,
      "outputs": [
        {
          "output_type": "execute_result",
          "data": {
            "text/plain": [
              "array([8])"
            ]
          },
          "metadata": {
            "tags": []
          },
          "execution_count": 73
        }
      ]
    },
    {
      "cell_type": "code",
      "metadata": {
        "id": "YLYOzIKLnYS7",
        "colab_type": "code",
        "colab": {}
      },
      "source": [
        ""
      ],
      "execution_count": 0,
      "outputs": []
    },
    {
      "cell_type": "markdown",
      "metadata": {
        "id": "lNW-9NpNqDtL",
        "colab_type": "text"
      },
      "source": [
        "#nearest_point"
      ]
    },
    {
      "cell_type": "code",
      "metadata": {
        "id": "iLnhY2rUnYY9",
        "colab_type": "code",
        "colab": {}
      },
      "source": [
        ""
      ],
      "execution_count": 0,
      "outputs": []
    },
    {
      "cell_type": "code",
      "metadata": {
        "id": "iqKfLVb7VF-q",
        "colab_type": "code",
        "outputId": "fea23147-f40b-475b-e68c-9d5567f54327",
        "colab": {
          "base_uri": "https://localhost:8080/",
          "height": 0
        }
      },
      "source": [
        "Xf=gdf_patientroutef\n",
        "Xf.plot()"
      ],
      "execution_count": 74,
      "outputs": [
        {
          "output_type": "execute_result",
          "data": {
            "text/plain": [
              "<matplotlib.axes._subplots.AxesSubplot at 0x7f7913dae780>"
            ]
          },
          "metadata": {
            "tags": []
          },
          "execution_count": 74
        },
        {
          "output_type": "display_data",
          "data": {
            "image/png": "[encoded data removed]",
            "text/plain": [
              "<Figure size 432x288 with 1 Axes>"
            ]
          },
          "metadata": {
            "tags": []
          }
        }
      ]
    },
    {
      "cell_type": "code",
      "metadata": {
        "id": "nXpZShFyIvtY",
        "colab_type": "code",
        "outputId": "873b8e6f-8fd8-4896-f78e-12d26526e700",
        "colab": {
          "base_uri": "https://localhost:8080/",
          "height": 0
        }
      },
      "source": [
        "yf= gdf_casef\n",
        "yf.plot()"
      ],
      "execution_count": 75,
      "outputs": [
        {
          "output_type": "execute_result",
          "data": {
            "text/plain": [
              "<matplotlib.axes._subplots.AxesSubplot at 0x7f7913d93d68>"
            ]
          },
          "metadata": {
            "tags": []
          },
          "execution_count": 75
        },
        {
          "output_type": "display_data",
          "data": {
            "image/png": "[encoded data removed]",
            "text/plain": [
              "<Figure size 432x288 with 1 Axes>"
            ]
          },
          "metadata": {
            "tags": []
          }
        }
      ]
    },
    {
      "cell_type": "code",
      "metadata": {
        "id": "2vNuHPWtI1y9",
        "colab_type": "code",
        "colab": {}
      },
      "source": [
        "def get_nearest_values(row, other_gdf, point_column='geometry', value_column=\"geometry\"):\n",
        "    \"\"\"Find the nearest point and return the corresponding value from specified value column.\"\"\"\n",
        "\n",
        "    # Create an union of the other GeoDataFrame's geometries:\n",
        "    other_points = other_gdf[\"geometry\"].unary_union\n",
        "\n",
        "    # Find the nearest points (uses euclidean geometry)\n",
        "    nearest_geoms = nearest_points(row[point_column], other_points)\n",
        "\n",
        "    # Get corresponding values from the other gdf\n",
        "    nearest_data = other_gdf.loc[other_gdf[\"geometry\"] == nearest_geoms[1]]\n",
        "\n",
        "\n",
        "    nearest_location = nearest_data[value_column].to_numpy()[0]\n",
        "\n",
        "    return nearest_location"
      ],
      "execution_count": 0,
      "outputs": []
    },
    {
      "cell_type": "code",
      "metadata": {
        "id": "famhS3G6NQ5M",
        "colab_type": "code",
        "outputId": "e3aad4ce-6e73-432a-cbeb-f440b113611c",
        "colab": {
          "base_uri": "https://localhost:8080/",
          "height": 0
        }
      },
      "source": [
        "unary_union = yf.unary_union\n",
        "print(unary_union)"
      ],
      "execution_count": 77,
      "outputs": [
        {
          "output_type": "stream",
          "text": [
            "MULTIPOINT (126.354443 37.00035399999999, 126.884387 37.508163, 126.9165 37.63369, 126.984377 37.562405, 127.006 37.57680999999999, 127.0403 37.55713, 127.0517 37.2376, 127.056766 37.592888, 127.1139 36.81503, 127.1218 37.38833, 127.161627 37.455687, 127.265172 36.504713, 127.289 36.48025, 127.9127 35.68556, 127.917805 35.805681, 127.9552 36.82422, 128.4941 36.0581, 128.5008 35.54127, 128.5667 35.84008, 128.6866 35.22115, 128.7368 35.64887, 128.7373 35.82558, 128.7621 35.84819, 128.801498 35.782149, 128.9099 36.92757, 129.0633 35.17371, 129.0771 35.21628, 129.1124 35.16708, 129.1256 35.20599)\n"
          ],
          "name": "stdout"
        }
      ]
    },
    {
      "cell_type": "code",
      "metadata": {
        "id": "6VGbYwS4bJtB",
        "colab_type": "code",
        "colab": {}
      },
      "source": [
        "Xf[\"infection_case\"] = Xf.apply(get_nearest_values, other_gdf=yf, point_column='geometry', value_column='geometry', axis=1)"
      ],
      "execution_count": 0,
      "outputs": []
    },
    {
      "cell_type": "code",
      "metadata": {
        "colab_type": "code",
        "id": "1wr-uCuMi8Zb",
        "colab": {}
      },
      "source": [
        "Xf[\"case_id\"] = Xf.apply(get_nearest_values, other_gdf=yf, point_column='geometry', value_column='case_id', axis=1)"
      ],
      "execution_count": 0,
      "outputs": []
    },
    {
      "cell_type": "code",
      "metadata": {
        "id": "wtSFafi5BNJi",
        "colab_type": "code",
        "colab": {}
      },
      "source": [
        "Xult=pd.merge(Xf, greatpoints, on='case_id')"
      ],
      "execution_count": 0,
      "outputs": []
    },
    {
      "cell_type": "code",
      "metadata": {
        "id": "47mDwd_Hr1-f",
        "colab_type": "code",
        "outputId": "8004aa7e-7047-4585-d8e4-c3554fd62caf",
        "colab": {
          "base_uri": "https://localhost:8080/",
          "height": 0
        }
      },
      "source": [
        "Xult"
      ],
      "execution_count": 81,
      "outputs": [
        {
          "output_type": "execute_result",
          "data": {
            "text/html": [
              "<div>\n",
              "<style scoped>\n",
              "    .dataframe tbody tr th:only-of-type {\n",
              "        vertical-align: middle;\n",
              "    }\n",
              "\n",
              "    .dataframe tbody tr th {\n",
              "        vertical-align: top;\n",
              "    }\n",
              "\n",
              "    .dataframe thead th {\n",
              "        text-align: right;\n",
              "    }\n",
              "</style>\n",
              "<table border=\"1\" class=\"dataframe\">\n",
              "  <thead>\n",
              "    <tr style=\"text-align: right;\">\n",
              "      <th></th>\n",
              "      <th>patient_id</th>\n",
              "      <th>global_num</th>\n",
              "      <th>date</th>\n",
              "      <th>province</th>\n",
              "      <th>city</th>\n",
              "      <th>latitude_x</th>\n",
              "      <th>longitude_x</th>\n",
              "      <th>geometry</th>\n",
              "      <th>infection_case</th>\n",
              "      <th>case_id</th>\n",
              "      <th>latitude_y</th>\n",
              "      <th>longitude_y</th>\n",
              "    </tr>\n",
              "  </thead>\n",
              "  <tbody>\n",
              "    <tr>\n",
              "      <th>0</th>\n",
              "      <td>1400000001</td>\n",
              "      <td>1</td>\n",
              "      <td>2020-01-19</td>\n",
              "      <td>Incheon</td>\n",
              "      <td>Jung-gu</td>\n",
              "      <td>37.460459</td>\n",
              "      <td>126.440680</td>\n",
              "      <td>POINT (126.44068 37.46046)</td>\n",
              "      <td>POINT (126.884387 37.508163)</td>\n",
              "      <td>1000001</td>\n",
              "      <td>37.508163</td>\n",
              "      <td>126.884387</td>\n",
              "    </tr>\n",
              "    <tr>\n",
              "      <th>1</th>\n",
              "      <td>1400000001</td>\n",
              "      <td>1</td>\n",
              "      <td>2020-01-20</td>\n",
              "      <td>Incheon</td>\n",
              "      <td>Seo-gu</td>\n",
              "      <td>37.478832</td>\n",
              "      <td>126.668558</td>\n",
              "      <td>POINT (126.66856 37.47883)</td>\n",
              "      <td>POINT (126.884387 37.508163)</td>\n",
              "      <td>1000001</td>\n",
              "      <td>37.508163</td>\n",
              "      <td>126.884387</td>\n",
              "    </tr>\n",
              "    <tr>\n",
              "      <th>2</th>\n",
              "      <td>1000000001</td>\n",
              "      <td>2</td>\n",
              "      <td>2020-01-22</td>\n",
              "      <td>Gyeonggi-do</td>\n",
              "      <td>Gimpo-si</td>\n",
              "      <td>37.562143</td>\n",
              "      <td>126.801884</td>\n",
              "      <td>POINT (126.80188 37.56214)</td>\n",
              "      <td>POINT (126.884387 37.508163)</td>\n",
              "      <td>1000001</td>\n",
              "      <td>37.508163</td>\n",
              "      <td>126.884387</td>\n",
              "    </tr>\n",
              "    <tr>\n",
              "      <th>3</th>\n",
              "      <td>2000000001</td>\n",
              "      <td>3</td>\n",
              "      <td>2020-01-20</td>\n",
              "      <td>Incheon</td>\n",
              "      <td>Jung-gu</td>\n",
              "      <td>37.460459</td>\n",
              "      <td>126.440680</td>\n",
              "      <td>POINT (126.44068 37.46046)</td>\n",
              "      <td>POINT (126.884387 37.508163)</td>\n",
              "      <td>1000001</td>\n",
              "      <td>37.508163</td>\n",
              "      <td>126.884387</td>\n",
              "    </tr>\n",
              "    <tr>\n",
              "      <th>4</th>\n",
              "      <td>2000000002</td>\n",
              "      <td>4</td>\n",
              "      <td>2020-01-20</td>\n",
              "      <td>Incheon</td>\n",
              "      <td>Jung-gu</td>\n",
              "      <td>37.460459</td>\n",
              "      <td>126.440680</td>\n",
              "      <td>POINT (126.44068 37.46046)</td>\n",
              "      <td>POINT (126.884387 37.508163)</td>\n",
              "      <td>1000001</td>\n",
              "      <td>37.508163</td>\n",
              "      <td>126.884387</td>\n",
              "    </tr>\n",
              "    <tr>\n",
              "      <th>...</th>\n",
              "      <td>...</td>\n",
              "      <td>...</td>\n",
              "      <td>...</td>\n",
              "      <td>...</td>\n",
              "      <td>...</td>\n",
              "      <td>...</td>\n",
              "      <td>...</td>\n",
              "      <td>...</td>\n",
              "      <td>...</td>\n",
              "      <td>...</td>\n",
              "      <td>...</td>\n",
              "      <td>...</td>\n",
              "    </tr>\n",
              "    <tr>\n",
              "      <th>170</th>\n",
              "      <td>1000000009</td>\n",
              "      <td>19</td>\n",
              "      <td>2020-02-01</td>\n",
              "      <td>Seoul</td>\n",
              "      <td>Songpa-gu</td>\n",
              "      <td>37.495414</td>\n",
              "      <td>127.117521</td>\n",
              "      <td>POINT (127.11752 37.49541)</td>\n",
              "      <td>POINT (127.161627 37.455687)</td>\n",
              "      <td>2000004</td>\n",
              "      <td>37.455687</td>\n",
              "      <td>127.161627</td>\n",
              "    </tr>\n",
              "    <tr>\n",
              "      <th>171</th>\n",
              "      <td>2000000009</td>\n",
              "      <td>26</td>\n",
              "      <td>2020-02-09</td>\n",
              "      <td>Gyeonggi-do</td>\n",
              "      <td>Anseong-si</td>\n",
              "      <td>37.017297</td>\n",
              "      <td>127.260422</td>\n",
              "      <td>POINT (127.26042 37.01730)</td>\n",
              "      <td>POINT (127.1139 36.81503)</td>\n",
              "      <td>4100001</td>\n",
              "      <td>36.81503</td>\n",
              "      <td>127.1139</td>\n",
              "    </tr>\n",
              "    <tr>\n",
              "      <th>172</th>\n",
              "      <td>2000000010</td>\n",
              "      <td>27</td>\n",
              "      <td>2020-02-09</td>\n",
              "      <td>Gyeonggi-do</td>\n",
              "      <td>Anseong-si</td>\n",
              "      <td>37.017297</td>\n",
              "      <td>127.260422</td>\n",
              "      <td>POINT (127.26042 37.01730)</td>\n",
              "      <td>POINT (127.1139 36.81503)</td>\n",
              "      <td>4100001</td>\n",
              "      <td>36.81503</td>\n",
              "      <td>127.1139</td>\n",
              "    </tr>\n",
              "    <tr>\n",
              "      <th>173</th>\n",
              "      <td>1000000014</td>\n",
              "      <td>30</td>\n",
              "      <td>2020-02-10</td>\n",
              "      <td>Incheon</td>\n",
              "      <td>Jung-gu</td>\n",
              "      <td>37.423537</td>\n",
              "      <td>126.421426</td>\n",
              "      <td>POINT (126.42143 37.42354)</td>\n",
              "      <td>POINT (126.354443 37.00035399999999)</td>\n",
              "      <td>4100002</td>\n",
              "      <td>37.000354</td>\n",
              "      <td>126.354443</td>\n",
              "    </tr>\n",
              "    <tr>\n",
              "      <th>174</th>\n",
              "      <td>1200000031</td>\n",
              "      <td>31</td>\n",
              "      <td>2020-02-15</td>\n",
              "      <td>Daegu</td>\n",
              "      <td>Dong-gu</td>\n",
              "      <td>35.882410</td>\n",
              "      <td>128.662100</td>\n",
              "      <td>POINT (128.66210 35.88241)</td>\n",
              "      <td>POINT (128.7373 35.82558)</td>\n",
              "      <td>6000008</td>\n",
              "      <td>35.82558</td>\n",
              "      <td>128.7373</td>\n",
              "    </tr>\n",
              "  </tbody>\n",
              "</table>\n",
              "<p>175 rows × 12 columns</p>\n",
              "</div>"
            ],
            "text/plain": [
              "     patient_id  global_num        date  ...  case_id latitude_y  longitude_y\n",
              "0    1400000001           1  2020-01-19  ...  1000001  37.508163   126.884387\n",
              "1    1400000001           1  2020-01-20  ...  1000001  37.508163   126.884387\n",
              "2    1000000001           2  2020-01-22  ...  1000001  37.508163   126.884387\n",
              "3    2000000001           3  2020-01-20  ...  1000001  37.508163   126.884387\n",
              "4    2000000002           4  2020-01-20  ...  1000001  37.508163   126.884387\n",
              "..          ...         ...         ...  ...      ...        ...          ...\n",
              "170  1000000009          19  2020-02-01  ...  2000004  37.455687   127.161627\n",
              "171  2000000009          26  2020-02-09  ...  4100001   36.81503     127.1139\n",
              "172  2000000010          27  2020-02-09  ...  4100001   36.81503     127.1139\n",
              "173  1000000014          30  2020-02-10  ...  4100002  37.000354   126.354443\n",
              "174  1200000031          31  2020-02-15  ...  6000008   35.82558     128.7373\n",
              "\n",
              "[175 rows x 12 columns]"
            ]
          },
          "metadata": {
            "tags": []
          },
          "execution_count": 81
        }
      ]
    },
    {
      "cell_type": "markdown",
      "metadata": {
        "id": "wCBEbq32qA1T",
        "colab_type": "text"
      },
      "source": [
        "Now that I have Route geometry and the epicenter geometry all in one  geodataframe lets test the function"
      ]
    },
    {
      "cell_type": "code",
      "metadata": {
        "id": "-eBYKqSTy-4n",
        "colab_type": "code",
        "outputId": "8904d9b8-1784-4a66-f9f7-be0d04d53514",
        "colab": {
          "base_uri": "https://localhost:8080/",
          "height": 0
        }
      },
      "source": [
        "d = {'latitude': [37], 'longitude': [126]}\n",
        "dftest = pd.DataFrame(data=d)\n",
        "dftest"
      ],
      "execution_count": 82,
      "outputs": [
        {
          "output_type": "execute_result",
          "data": {
            "text/html": [
              "<div>\n",
              "<style scoped>\n",
              "    .dataframe tbody tr th:only-of-type {\n",
              "        vertical-align: middle;\n",
              "    }\n",
              "\n",
              "    .dataframe tbody tr th {\n",
              "        vertical-align: top;\n",
              "    }\n",
              "\n",
              "    .dataframe thead th {\n",
              "        text-align: right;\n",
              "    }\n",
              "</style>\n",
              "<table border=\"1\" class=\"dataframe\">\n",
              "  <thead>\n",
              "    <tr style=\"text-align: right;\">\n",
              "      <th></th>\n",
              "      <th>latitude</th>\n",
              "      <th>longitude</th>\n",
              "    </tr>\n",
              "  </thead>\n",
              "  <tbody>\n",
              "    <tr>\n",
              "      <th>0</th>\n",
              "      <td>37</td>\n",
              "      <td>126</td>\n",
              "    </tr>\n",
              "  </tbody>\n",
              "</table>\n",
              "</div>"
            ],
            "text/plain": [
              "   latitude  longitude\n",
              "0        37        126"
            ]
          },
          "metadata": {
            "tags": []
          },
          "execution_count": 82
        }
      ]
    },
    {
      "cell_type": "code",
      "metadata": {
        "id": "Nuv5xKqmzxjT",
        "colab_type": "code",
        "outputId": "e8dee245-b6ac-4737-f1d8-97d85b105a72",
        "colab": {
          "base_uri": "https://localhost:8080/",
          "height": 0
        }
      },
      "source": [
        "def create_gdf_test(dftest, lng, lat):\n",
        "    \"Convert pandas dataframe into a Geopandas GeoDataFrame\"\n",
        "    crs = {'init': 'EPSG:3395'}\n",
        "    xlng= pd.to_numeric(dftest['longitude'], errors='coerce')\n",
        "    ylat= pd.to_numeric(dftest['latitude'], errors='coerce')\n",
        "    geometry = [Point(xy) for xy in zip(xlng, ylat)]\n",
        "    gdftest = gpd.GeoDataFrame(dftest, crs= crs , geometry=geometry)\n",
        "    return gdftest\n",
        "gdftestf =  create_gdf_test(dftest, \"longitude\", \"latitude\")\n",
        "gdftestf.tail()"
      ],
      "execution_count": 83,
      "outputs": [
        {
          "output_type": "stream",
          "text": [
            "/usr/local/lib/python3.6/dist-packages/pyproj/crs/crs.py:53: FutureWarning: '+init=<authority>:<code>' syntax is deprecated. '<authority>:<code>' is the preferred initialization method. When making the change, be mindful of axis order changes: https://pyproj4.github.io/pyproj/stable/gotchas.html#axis-order-changes-in-proj-6\n",
            "  return _prepare_from_string(\" \".join(pjargs))\n"
          ],
          "name": "stderr"
        },
        {
          "output_type": "execute_result",
          "data": {
            "text/html": [
              "<div>\n",
              "<style scoped>\n",
              "    .dataframe tbody tr th:only-of-type {\n",
              "        vertical-align: middle;\n",
              "    }\n",
              "\n",
              "    .dataframe tbody tr th {\n",
              "        vertical-align: top;\n",
              "    }\n",
              "\n",
              "    .dataframe thead th {\n",
              "        text-align: right;\n",
              "    }\n",
              "</style>\n",
              "<table border=\"1\" class=\"dataframe\">\n",
              "  <thead>\n",
              "    <tr style=\"text-align: right;\">\n",
              "      <th></th>\n",
              "      <th>latitude</th>\n",
              "      <th>longitude</th>\n",
              "      <th>geometry</th>\n",
              "    </tr>\n",
              "  </thead>\n",
              "  <tbody>\n",
              "    <tr>\n",
              "      <th>0</th>\n",
              "      <td>37</td>\n",
              "      <td>126</td>\n",
              "      <td>POINT (126.00000 37.00000)</td>\n",
              "    </tr>\n",
              "  </tbody>\n",
              "</table>\n",
              "</div>"
            ],
            "text/plain": [
              "   latitude  longitude                    geometry\n",
              "0        37        126  POINT (126.00000 37.00000)"
            ]
          },
          "metadata": {
            "tags": []
          },
          "execution_count": 83
        }
      ]
    },
    {
      "cell_type": "code",
      "metadata": {
        "id": "jyUVxgtL0WQT",
        "colab_type": "code",
        "colab": {}
      },
      "source": [
        "Xtest=gdftestf"
      ],
      "execution_count": 0,
      "outputs": []
    },
    {
      "cell_type": "code",
      "metadata": {
        "id": "12i4r59miPp1",
        "colab_type": "code",
        "outputId": "1bbcf6ed-82ff-496a-9e92-30f4b51c79dd",
        "colab": {
          "base_uri": "https://localhost:8080/",
          "height": 0
        }
      },
      "source": [
        "Xtest.apply(get_nearest_values, other_gdf=yf, point_column='geometry', value_column='geometry', axis=1)\n"
      ],
      "execution_count": 85,
      "outputs": [
        {
          "output_type": "execute_result",
          "data": {
            "text/plain": [
              "0    POINT (126.354443 37.00035399999999)\n",
              "dtype: object"
            ]
          },
          "metadata": {
            "tags": []
          },
          "execution_count": 85
        }
      ]
    },
    {
      "cell_type": "code",
      "metadata": {
        "id": "djI4kgp0rKN8",
        "colab_type": "code",
        "outputId": "c8cb0258-24de-4026-a934-d7138871c29a",
        "colab": {
          "base_uri": "https://localhost:8080/",
          "height": 0
        }
      },
      "source": [
        "Xtest.apply(get_nearest_values, other_gdf=yf, point_column='geometry', value_column='case_id', axis=1)"
      ],
      "execution_count": 86,
      "outputs": [
        {
          "output_type": "execute_result",
          "data": {
            "text/plain": [
              "0    4100002\n",
              "dtype: int64"
            ]
          },
          "metadata": {
            "tags": []
          },
          "execution_count": 86
        }
      ]
    },
    {
      "cell_type": "code",
      "metadata": {
        "id": "v3rIss1lDpxK",
        "colab_type": "code",
        "outputId": "4a670c12-f8be-43b9-ef7f-f6021a0e30c8",
        "colab": {
          "base_uri": "https://localhost:8080/",
          "height": 0
        }
      },
      "source": [
        "testresult=df_casef[df_casef.case_id == 4100002]\n",
        "testresult"
      ],
      "execution_count": 87,
      "outputs": [
        {
          "output_type": "execute_result",
          "data": {
            "text/html": [
              "<div>\n",
              "<style scoped>\n",
              "    .dataframe tbody tr th:only-of-type {\n",
              "        vertical-align: middle;\n",
              "    }\n",
              "\n",
              "    .dataframe tbody tr th {\n",
              "        vertical-align: top;\n",
              "    }\n",
              "\n",
              "    .dataframe thead th {\n",
              "        text-align: right;\n",
              "    }\n",
              "</style>\n",
              "<table border=\"1\" class=\"dataframe\">\n",
              "  <thead>\n",
              "    <tr style=\"text-align: right;\">\n",
              "      <th></th>\n",
              "      <th>case_id</th>\n",
              "      <th>province</th>\n",
              "      <th>city</th>\n",
              "      <th>group</th>\n",
              "      <th>infection_case</th>\n",
              "      <th>confirmed</th>\n",
              "      <th>latitude</th>\n",
              "      <th>longitude</th>\n",
              "      <th>geometry</th>\n",
              "    </tr>\n",
              "  </thead>\n",
              "  <tbody>\n",
              "    <tr>\n",
              "      <th>54</th>\n",
              "      <td>4100002</td>\n",
              "      <td>Chungcheongnam-do</td>\n",
              "      <td>Seosan-si</td>\n",
              "      <td>True</td>\n",
              "      <td>Seosan-si Laboratory</td>\n",
              "      <td>8</td>\n",
              "      <td>37.000354</td>\n",
              "      <td>126.354443</td>\n",
              "      <td>POINT (126.35444 37.00035)</td>\n",
              "    </tr>\n",
              "  </tbody>\n",
              "</table>\n",
              "</div>"
            ],
            "text/plain": [
              "    case_id           province  ...   longitude                    geometry\n",
              "54  4100002  Chungcheongnam-do  ...  126.354443  POINT (126.35444 37.00035)\n",
              "\n",
              "[1 rows x 9 columns]"
            ]
          },
          "metadata": {
            "tags": []
          },
          "execution_count": 87
        }
      ]
    },
    {
      "cell_type": "markdown",
      "metadata": {
        "id": "5jKmtLS2WIgs",
        "colab_type": "text"
      },
      "source": [
        "#merging dataframes"
      ]
    },
    {
      "cell_type": "code",
      "metadata": {
        "id": "8HfpqQtQWQQf",
        "colab_type": "code",
        "outputId": "8bbcab1c-3565-4da7-d91b-9e116cd2fbf4",
        "colab": {
          "base_uri": "https://localhost:8080/",
          "height": 435
        }
      },
      "source": [
        "df_patientinfo.info()"
      ],
      "execution_count": 88,
      "outputs": [
        {
          "output_type": "stream",
          "text": [
            "<class 'pandas.core.frame.DataFrame'>\n",
            "RangeIndex: 2243 entries, 0 to 2242\n",
            "Data columns (total 18 columns):\n",
            "patient_id            2243 non-null int64\n",
            "global_num            1337 non-null float64\n",
            "sex                   2147 non-null object\n",
            "birth_year            1789 non-null float64\n",
            "age                   1985 non-null object\n",
            "country               2243 non-null object\n",
            "province              2243 non-null object\n",
            "city                  2176 non-null object\n",
            "disease               19 non-null object\n",
            "infection_case        1193 non-null object\n",
            "infection_order       42 non-null float64\n",
            "infected_by           475 non-null float64\n",
            "contact_number        413 non-null float64\n",
            "symptom_onset_date    194 non-null object\n",
            "confirmed_date        2098 non-null object\n",
            "released_date         233 non-null object\n",
            "deceased_date         30 non-null object\n",
            "state                 2147 non-null object\n",
            "dtypes: float64(5), int64(1), object(12)\n",
            "memory usage: 315.5+ KB\n"
          ],
          "name": "stdout"
        }
      ]
    },
    {
      "cell_type": "code",
      "metadata": {
        "id": "EO6asg2CWQ0y",
        "colab_type": "code",
        "outputId": "dc2f1a66-7e05-4da2-86cb-5b12ae1f7ae5",
        "colab": {
          "base_uri": "https://localhost:8080/",
          "height": 235
        }
      },
      "source": [
        "df_patientinfo.tail()"
      ],
      "execution_count": 89,
      "outputs": [
        {
          "output_type": "execute_result",
          "data": {
            "text/html": [
              "<div>\n",
              "<style scoped>\n",
              "    .dataframe tbody tr th:only-of-type {\n",
              "        vertical-align: middle;\n",
              "    }\n",
              "\n",
              "    .dataframe tbody tr th {\n",
              "        vertical-align: top;\n",
              "    }\n",
              "\n",
              "    .dataframe thead th {\n",
              "        text-align: right;\n",
              "    }\n",
              "</style>\n",
              "<table border=\"1\" class=\"dataframe\">\n",
              "  <thead>\n",
              "    <tr style=\"text-align: right;\">\n",
              "      <th></th>\n",
              "      <th>patient_id</th>\n",
              "      <th>global_num</th>\n",
              "      <th>sex</th>\n",
              "      <th>birth_year</th>\n",
              "      <th>age</th>\n",
              "      <th>country</th>\n",
              "      <th>province</th>\n",
              "      <th>city</th>\n",
              "      <th>disease</th>\n",
              "      <th>infection_case</th>\n",
              "      <th>infection_order</th>\n",
              "      <th>infected_by</th>\n",
              "      <th>contact_number</th>\n",
              "      <th>symptom_onset_date</th>\n",
              "      <th>confirmed_date</th>\n",
              "      <th>released_date</th>\n",
              "      <th>deceased_date</th>\n",
              "      <th>state</th>\n",
              "    </tr>\n",
              "  </thead>\n",
              "  <tbody>\n",
              "    <tr>\n",
              "      <th>2238</th>\n",
              "      <td>6100000085</td>\n",
              "      <td>NaN</td>\n",
              "      <td>male</td>\n",
              "      <td>1990.0</td>\n",
              "      <td>30s</td>\n",
              "      <td>Korea</td>\n",
              "      <td>Gyeongsangnam-do</td>\n",
              "      <td>Changwon-si</td>\n",
              "      <td>NaN</td>\n",
              "      <td>NaN</td>\n",
              "      <td>NaN</td>\n",
              "      <td>NaN</td>\n",
              "      <td>NaN</td>\n",
              "      <td>NaN</td>\n",
              "      <td>2020-03-16</td>\n",
              "      <td>NaN</td>\n",
              "      <td>NaN</td>\n",
              "      <td>NaN</td>\n",
              "    </tr>\n",
              "    <tr>\n",
              "      <th>2239</th>\n",
              "      <td>7000000001</td>\n",
              "      <td>139.0</td>\n",
              "      <td>male</td>\n",
              "      <td>1998.0</td>\n",
              "      <td>20s</td>\n",
              "      <td>Korea</td>\n",
              "      <td>Jeju-do</td>\n",
              "      <td>Jeju-do</td>\n",
              "      <td>NaN</td>\n",
              "      <td>etc</td>\n",
              "      <td>NaN</td>\n",
              "      <td>NaN</td>\n",
              "      <td>87.0</td>\n",
              "      <td>NaN</td>\n",
              "      <td>2020-02-20</td>\n",
              "      <td>NaN</td>\n",
              "      <td>NaN</td>\n",
              "      <td>isolated</td>\n",
              "    </tr>\n",
              "    <tr>\n",
              "      <th>2240</th>\n",
              "      <td>7000000002</td>\n",
              "      <td>222.0</td>\n",
              "      <td>female</td>\n",
              "      <td>1998.0</td>\n",
              "      <td>20s</td>\n",
              "      <td>Korea</td>\n",
              "      <td>Jeju-do</td>\n",
              "      <td>Jeju-do</td>\n",
              "      <td>NaN</td>\n",
              "      <td>etc</td>\n",
              "      <td>NaN</td>\n",
              "      <td>NaN</td>\n",
              "      <td>84.0</td>\n",
              "      <td>NaN</td>\n",
              "      <td>2020-02-22</td>\n",
              "      <td>2020-03-07</td>\n",
              "      <td>NaN</td>\n",
              "      <td>released</td>\n",
              "    </tr>\n",
              "    <tr>\n",
              "      <th>2241</th>\n",
              "      <td>7000000003</td>\n",
              "      <td>4345.0</td>\n",
              "      <td>female</td>\n",
              "      <td>1972.0</td>\n",
              "      <td>40s</td>\n",
              "      <td>Korea</td>\n",
              "      <td>Jeju-do</td>\n",
              "      <td>etc</td>\n",
              "      <td>NaN</td>\n",
              "      <td>etc</td>\n",
              "      <td>NaN</td>\n",
              "      <td>NaN</td>\n",
              "      <td>21.0</td>\n",
              "      <td>NaN</td>\n",
              "      <td>2020-03-02</td>\n",
              "      <td>2020-03-15</td>\n",
              "      <td>NaN</td>\n",
              "      <td>released</td>\n",
              "    </tr>\n",
              "    <tr>\n",
              "      <th>2242</th>\n",
              "      <td>7000000004</td>\n",
              "      <td>5534.0</td>\n",
              "      <td>male</td>\n",
              "      <td>1974.0</td>\n",
              "      <td>40s</td>\n",
              "      <td>Korea</td>\n",
              "      <td>Jeju-do</td>\n",
              "      <td>Jeju-do</td>\n",
              "      <td>NaN</td>\n",
              "      <td>etc</td>\n",
              "      <td>NaN</td>\n",
              "      <td>NaN</td>\n",
              "      <td>74.0</td>\n",
              "      <td>NaN</td>\n",
              "      <td>2020-03-04</td>\n",
              "      <td>NaN</td>\n",
              "      <td>NaN</td>\n",
              "      <td>isolated</td>\n",
              "    </tr>\n",
              "  </tbody>\n",
              "</table>\n",
              "</div>"
            ],
            "text/plain": [
              "      patient_id  global_num     sex  ...  released_date deceased_date     state\n",
              "2238  6100000085         NaN    male  ...            NaN           NaN       NaN\n",
              "2239  7000000001       139.0    male  ...            NaN           NaN  isolated\n",
              "2240  7000000002       222.0  female  ...     2020-03-07           NaN  released\n",
              "2241  7000000003      4345.0  female  ...     2020-03-15           NaN  released\n",
              "2242  7000000004      5534.0    male  ...            NaN           NaN  isolated\n",
              "\n",
              "[5 rows x 18 columns]"
            ]
          },
          "metadata": {
            "tags": []
          },
          "execution_count": 89
        }
      ]
    },
    {
      "cell_type": "code",
      "metadata": {
        "id": "O2LNXehLM_nf",
        "colab_type": "code",
        "outputId": "09d749ee-499a-48c4-f2eb-78012b28d7d6",
        "colab": {
          "base_uri": "https://localhost:8080/",
          "height": 479
        }
      },
      "source": [
        "merged_patientinfo=pd.merge(df_patientinfof, df_region, on='city')\n",
        "merged_patientinfo"
      ],
      "execution_count": 90,
      "outputs": [
        {
          "output_type": "execute_result",
          "data": {
            "text/html": [
              "<div>\n",
              "<style scoped>\n",
              "    .dataframe tbody tr th:only-of-type {\n",
              "        vertical-align: middle;\n",
              "    }\n",
              "\n",
              "    .dataframe tbody tr th {\n",
              "        vertical-align: top;\n",
              "    }\n",
              "\n",
              "    .dataframe thead th {\n",
              "        text-align: right;\n",
              "    }\n",
              "</style>\n",
              "<table border=\"1\" class=\"dataframe\">\n",
              "  <thead>\n",
              "    <tr style=\"text-align: right;\">\n",
              "      <th></th>\n",
              "      <th>patient_id</th>\n",
              "      <th>global_num</th>\n",
              "      <th>sex</th>\n",
              "      <th>birth_year</th>\n",
              "      <th>age</th>\n",
              "      <th>country</th>\n",
              "      <th>province_x</th>\n",
              "      <th>city</th>\n",
              "      <th>disease</th>\n",
              "      <th>infection_case</th>\n",
              "      <th>infection_order</th>\n",
              "      <th>infected_by</th>\n",
              "      <th>contact_number</th>\n",
              "      <th>symptom_onset_date</th>\n",
              "      <th>confirmed_date</th>\n",
              "      <th>released_date</th>\n",
              "      <th>deceased_date</th>\n",
              "      <th>state</th>\n",
              "      <th>code</th>\n",
              "      <th>province_y</th>\n",
              "      <th>latitude</th>\n",
              "      <th>longitude</th>\n",
              "      <th>elementary_school_count</th>\n",
              "      <th>kindergarten_count</th>\n",
              "      <th>university_count</th>\n",
              "      <th>academy_ratio</th>\n",
              "      <th>elderly_population_ratio</th>\n",
              "      <th>elderly_alone_ratio</th>\n",
              "      <th>nursing_home_count</th>\n",
              "    </tr>\n",
              "  </thead>\n",
              "  <tbody>\n",
              "    <tr>\n",
              "      <th>0</th>\n",
              "      <td>1000000001</td>\n",
              "      <td>2.0</td>\n",
              "      <td>male</td>\n",
              "      <td>1964.0</td>\n",
              "      <td>50s</td>\n",
              "      <td>Korea</td>\n",
              "      <td>Seoul</td>\n",
              "      <td>Gangseo-gu</td>\n",
              "      <td>NaN</td>\n",
              "      <td>overseas inflow</td>\n",
              "      <td>1.0</td>\n",
              "      <td>NaN</td>\n",
              "      <td>75.0</td>\n",
              "      <td>2020-01-22</td>\n",
              "      <td>2020-01-23</td>\n",
              "      <td>2020-02-05</td>\n",
              "      <td>NaN</td>\n",
              "      <td>released</td>\n",
              "      <td>10040</td>\n",
              "      <td>Seoul</td>\n",
              "      <td>37.551166</td>\n",
              "      <td>126.849506</td>\n",
              "      <td>36</td>\n",
              "      <td>56</td>\n",
              "      <td>1</td>\n",
              "      <td>1.17</td>\n",
              "      <td>14.39</td>\n",
              "      <td>5.7</td>\n",
              "      <td>1080</td>\n",
              "    </tr>\n",
              "    <tr>\n",
              "      <th>1</th>\n",
              "      <td>1000000001</td>\n",
              "      <td>2.0</td>\n",
              "      <td>male</td>\n",
              "      <td>1964.0</td>\n",
              "      <td>50s</td>\n",
              "      <td>Korea</td>\n",
              "      <td>Seoul</td>\n",
              "      <td>Gangseo-gu</td>\n",
              "      <td>NaN</td>\n",
              "      <td>overseas inflow</td>\n",
              "      <td>1.0</td>\n",
              "      <td>NaN</td>\n",
              "      <td>75.0</td>\n",
              "      <td>2020-01-22</td>\n",
              "      <td>2020-01-23</td>\n",
              "      <td>2020-02-05</td>\n",
              "      <td>NaN</td>\n",
              "      <td>released</td>\n",
              "      <td>11010</td>\n",
              "      <td>Busan</td>\n",
              "      <td>35.212424</td>\n",
              "      <td>128.980680</td>\n",
              "      <td>17</td>\n",
              "      <td>21</td>\n",
              "      <td>0</td>\n",
              "      <td>1.43</td>\n",
              "      <td>11.84</td>\n",
              "      <td>5.0</td>\n",
              "      <td>147</td>\n",
              "    </tr>\n",
              "    <tr>\n",
              "      <th>2</th>\n",
              "      <td>1000000027</td>\n",
              "      <td>593.0</td>\n",
              "      <td>male</td>\n",
              "      <td>1968.0</td>\n",
              "      <td>50s</td>\n",
              "      <td>Korea</td>\n",
              "      <td>Seoul</td>\n",
              "      <td>Gangseo-gu</td>\n",
              "      <td>NaN</td>\n",
              "      <td>overseas inflow</td>\n",
              "      <td>NaN</td>\n",
              "      <td>NaN</td>\n",
              "      <td>NaN</td>\n",
              "      <td>NaN</td>\n",
              "      <td>2020-02-23</td>\n",
              "      <td>2020-03-04</td>\n",
              "      <td>NaN</td>\n",
              "      <td>released</td>\n",
              "      <td>10040</td>\n",
              "      <td>Seoul</td>\n",
              "      <td>37.551166</td>\n",
              "      <td>126.849506</td>\n",
              "      <td>36</td>\n",
              "      <td>56</td>\n",
              "      <td>1</td>\n",
              "      <td>1.17</td>\n",
              "      <td>14.39</td>\n",
              "      <td>5.7</td>\n",
              "      <td>1080</td>\n",
              "    </tr>\n",
              "    <tr>\n",
              "      <th>3</th>\n",
              "      <td>1000000027</td>\n",
              "      <td>593.0</td>\n",
              "      <td>male</td>\n",
              "      <td>1968.0</td>\n",
              "      <td>50s</td>\n",
              "      <td>Korea</td>\n",
              "      <td>Seoul</td>\n",
              "      <td>Gangseo-gu</td>\n",
              "      <td>NaN</td>\n",
              "      <td>overseas inflow</td>\n",
              "      <td>NaN</td>\n",
              "      <td>NaN</td>\n",
              "      <td>NaN</td>\n",
              "      <td>NaN</td>\n",
              "      <td>2020-02-23</td>\n",
              "      <td>2020-03-04</td>\n",
              "      <td>NaN</td>\n",
              "      <td>released</td>\n",
              "      <td>11010</td>\n",
              "      <td>Busan</td>\n",
              "      <td>35.212424</td>\n",
              "      <td>128.980680</td>\n",
              "      <td>17</td>\n",
              "      <td>21</td>\n",
              "      <td>0</td>\n",
              "      <td>1.43</td>\n",
              "      <td>11.84</td>\n",
              "      <td>5.0</td>\n",
              "      <td>147</td>\n",
              "    </tr>\n",
              "    <tr>\n",
              "      <th>4</th>\n",
              "      <td>1000000106</td>\n",
              "      <td>6384.0</td>\n",
              "      <td>male</td>\n",
              "      <td>1986.0</td>\n",
              "      <td>30s</td>\n",
              "      <td>Korea</td>\n",
              "      <td>Seoul</td>\n",
              "      <td>Gangseo-gu</td>\n",
              "      <td>NaN</td>\n",
              "      <td>contact with patient</td>\n",
              "      <td>NaN</td>\n",
              "      <td>NaN</td>\n",
              "      <td>NaN</td>\n",
              "      <td>NaN</td>\n",
              "      <td>2020-03-06</td>\n",
              "      <td>NaN</td>\n",
              "      <td>NaN</td>\n",
              "      <td>isolated</td>\n",
              "      <td>10040</td>\n",
              "      <td>Seoul</td>\n",
              "      <td>37.551166</td>\n",
              "      <td>126.849506</td>\n",
              "      <td>36</td>\n",
              "      <td>56</td>\n",
              "      <td>1</td>\n",
              "      <td>1.17</td>\n",
              "      <td>14.39</td>\n",
              "      <td>5.7</td>\n",
              "      <td>1080</td>\n",
              "    </tr>\n",
              "    <tr>\n",
              "      <th>...</th>\n",
              "      <td>...</td>\n",
              "      <td>...</td>\n",
              "      <td>...</td>\n",
              "      <td>...</td>\n",
              "      <td>...</td>\n",
              "      <td>...</td>\n",
              "      <td>...</td>\n",
              "      <td>...</td>\n",
              "      <td>...</td>\n",
              "      <td>...</td>\n",
              "      <td>...</td>\n",
              "      <td>...</td>\n",
              "      <td>...</td>\n",
              "      <td>...</td>\n",
              "      <td>...</td>\n",
              "      <td>...</td>\n",
              "      <td>...</td>\n",
              "      <td>...</td>\n",
              "      <td>...</td>\n",
              "      <td>...</td>\n",
              "      <td>...</td>\n",
              "      <td>...</td>\n",
              "      <td>...</td>\n",
              "      <td>...</td>\n",
              "      <td>...</td>\n",
              "      <td>...</td>\n",
              "      <td>...</td>\n",
              "      <td>...</td>\n",
              "      <td>...</td>\n",
              "    </tr>\n",
              "    <tr>\n",
              "      <th>1376</th>\n",
              "      <td>6112000038</td>\n",
              "      <td>NaN</td>\n",
              "      <td>female</td>\n",
              "      <td>1961.0</td>\n",
              "      <td>50s</td>\n",
              "      <td>Korea</td>\n",
              "      <td>Gyeongsangnam-do</td>\n",
              "      <td>Changnyeong-gun</td>\n",
              "      <td>NaN</td>\n",
              "      <td>etc</td>\n",
              "      <td>NaN</td>\n",
              "      <td>NaN</td>\n",
              "      <td>NaN</td>\n",
              "      <td>NaN</td>\n",
              "      <td>2020-02-26</td>\n",
              "      <td>NaN</td>\n",
              "      <td>NaN</td>\n",
              "      <td>isolated</td>\n",
              "      <td>61120</td>\n",
              "      <td>Gyeongsangnam-do</td>\n",
              "      <td>35.544603</td>\n",
              "      <td>128.492330</td>\n",
              "      <td>17</td>\n",
              "      <td>20</td>\n",
              "      <td>0</td>\n",
              "      <td>0.80</td>\n",
              "      <td>29.80</td>\n",
              "      <td>18.4</td>\n",
              "      <td>129</td>\n",
              "    </tr>\n",
              "    <tr>\n",
              "      <th>1377</th>\n",
              "      <td>6106000041</td>\n",
              "      <td>NaN</td>\n",
              "      <td>male</td>\n",
              "      <td>1985.0</td>\n",
              "      <td>30s</td>\n",
              "      <td>Korea</td>\n",
              "      <td>Gyeongsangnam-do</td>\n",
              "      <td>Miryang-si</td>\n",
              "      <td>NaN</td>\n",
              "      <td>contact with patient</td>\n",
              "      <td>2.0</td>\n",
              "      <td>6.106000e+09</td>\n",
              "      <td>NaN</td>\n",
              "      <td>NaN</td>\n",
              "      <td>2020-02-26</td>\n",
              "      <td>NaN</td>\n",
              "      <td>NaN</td>\n",
              "      <td>released</td>\n",
              "      <td>61060</td>\n",
              "      <td>Gyeongsangnam-do</td>\n",
              "      <td>35.503827</td>\n",
              "      <td>128.746604</td>\n",
              "      <td>21</td>\n",
              "      <td>25</td>\n",
              "      <td>0</td>\n",
              "      <td>1.39</td>\n",
              "      <td>27.31</td>\n",
              "      <td>16.3</td>\n",
              "      <td>178</td>\n",
              "    </tr>\n",
              "    <tr>\n",
              "      <th>1378</th>\n",
              "      <td>7000000001</td>\n",
              "      <td>139.0</td>\n",
              "      <td>male</td>\n",
              "      <td>1998.0</td>\n",
              "      <td>20s</td>\n",
              "      <td>Korea</td>\n",
              "      <td>Jeju-do</td>\n",
              "      <td>Jeju-do</td>\n",
              "      <td>NaN</td>\n",
              "      <td>etc</td>\n",
              "      <td>NaN</td>\n",
              "      <td>NaN</td>\n",
              "      <td>87.0</td>\n",
              "      <td>NaN</td>\n",
              "      <td>2020-02-20</td>\n",
              "      <td>NaN</td>\n",
              "      <td>NaN</td>\n",
              "      <td>isolated</td>\n",
              "      <td>70000</td>\n",
              "      <td>Jeju-do</td>\n",
              "      <td>33.488936</td>\n",
              "      <td>126.500423</td>\n",
              "      <td>113</td>\n",
              "      <td>123</td>\n",
              "      <td>4</td>\n",
              "      <td>1.53</td>\n",
              "      <td>15.10</td>\n",
              "      <td>6.4</td>\n",
              "      <td>1245</td>\n",
              "    </tr>\n",
              "    <tr>\n",
              "      <th>1379</th>\n",
              "      <td>7000000002</td>\n",
              "      <td>222.0</td>\n",
              "      <td>female</td>\n",
              "      <td>1998.0</td>\n",
              "      <td>20s</td>\n",
              "      <td>Korea</td>\n",
              "      <td>Jeju-do</td>\n",
              "      <td>Jeju-do</td>\n",
              "      <td>NaN</td>\n",
              "      <td>etc</td>\n",
              "      <td>NaN</td>\n",
              "      <td>NaN</td>\n",
              "      <td>84.0</td>\n",
              "      <td>NaN</td>\n",
              "      <td>2020-02-22</td>\n",
              "      <td>2020-03-07</td>\n",
              "      <td>NaN</td>\n",
              "      <td>released</td>\n",
              "      <td>70000</td>\n",
              "      <td>Jeju-do</td>\n",
              "      <td>33.488936</td>\n",
              "      <td>126.500423</td>\n",
              "      <td>113</td>\n",
              "      <td>123</td>\n",
              "      <td>4</td>\n",
              "      <td>1.53</td>\n",
              "      <td>15.10</td>\n",
              "      <td>6.4</td>\n",
              "      <td>1245</td>\n",
              "    </tr>\n",
              "    <tr>\n",
              "      <th>1380</th>\n",
              "      <td>7000000004</td>\n",
              "      <td>5534.0</td>\n",
              "      <td>male</td>\n",
              "      <td>1974.0</td>\n",
              "      <td>40s</td>\n",
              "      <td>Korea</td>\n",
              "      <td>Jeju-do</td>\n",
              "      <td>Jeju-do</td>\n",
              "      <td>NaN</td>\n",
              "      <td>etc</td>\n",
              "      <td>NaN</td>\n",
              "      <td>NaN</td>\n",
              "      <td>74.0</td>\n",
              "      <td>NaN</td>\n",
              "      <td>2020-03-04</td>\n",
              "      <td>NaN</td>\n",
              "      <td>NaN</td>\n",
              "      <td>isolated</td>\n",
              "      <td>70000</td>\n",
              "      <td>Jeju-do</td>\n",
              "      <td>33.488936</td>\n",
              "      <td>126.500423</td>\n",
              "      <td>113</td>\n",
              "      <td>123</td>\n",
              "      <td>4</td>\n",
              "      <td>1.53</td>\n",
              "      <td>15.10</td>\n",
              "      <td>6.4</td>\n",
              "      <td>1245</td>\n",
              "    </tr>\n",
              "  </tbody>\n",
              "</table>\n",
              "<p>1381 rows × 29 columns</p>\n",
              "</div>"
            ],
            "text/plain": [
              "      patient_id  global_num  ... elderly_alone_ratio  nursing_home_count\n",
              "0     1000000001         2.0  ...                 5.7                1080\n",
              "1     1000000001         2.0  ...                 5.0                 147\n",
              "2     1000000027       593.0  ...                 5.7                1080\n",
              "3     1000000027       593.0  ...                 5.0                 147\n",
              "4     1000000106      6384.0  ...                 5.7                1080\n",
              "...          ...         ...  ...                 ...                 ...\n",
              "1376  6112000038         NaN  ...                18.4                 129\n",
              "1377  6106000041         NaN  ...                16.3                 178\n",
              "1378  7000000001       139.0  ...                 6.4                1245\n",
              "1379  7000000002       222.0  ...                 6.4                1245\n",
              "1380  7000000004      5534.0  ...                 6.4                1245\n",
              "\n",
              "[1381 rows x 29 columns]"
            ]
          },
          "metadata": {
            "tags": []
          },
          "execution_count": 90
        }
      ]
    },
    {
      "cell_type": "code",
      "metadata": {
        "id": "Sg_PHitP7RsA",
        "colab_type": "code",
        "outputId": "04ecc6d4-edef-4918-997a-45c22c8fd1b0",
        "colab": {
          "base_uri": "https://localhost:8080/",
          "height": 635
        }
      },
      "source": [
        "merged_patientinfo.info()"
      ],
      "execution_count": 91,
      "outputs": [
        {
          "output_type": "stream",
          "text": [
            "<class 'pandas.core.frame.DataFrame'>\n",
            "Int64Index: 1381 entries, 0 to 1380\n",
            "Data columns (total 29 columns):\n",
            "patient_id                  1381 non-null int64\n",
            "global_num                  779 non-null float64\n",
            "sex                         1379 non-null object\n",
            "birth_year                  1194 non-null float64\n",
            "age                         1262 non-null object\n",
            "country                     1381 non-null object\n",
            "province_x                  1381 non-null object\n",
            "city                        1381 non-null object\n",
            "disease                     9 non-null object\n",
            "infection_case              1381 non-null object\n",
            "infection_order             41 non-null float64\n",
            "infected_by                 522 non-null float64\n",
            "contact_number              409 non-null float64\n",
            "symptom_onset_date          197 non-null object\n",
            "confirmed_date              1362 non-null object\n",
            "released_date               188 non-null object\n",
            "deceased_date               10 non-null object\n",
            "state                       1278 non-null object\n",
            "code                        1381 non-null int64\n",
            "province_y                  1381 non-null object\n",
            "latitude                    1381 non-null float64\n",
            "longitude                   1381 non-null float64\n",
            "elementary_school_count     1381 non-null int64\n",
            "kindergarten_count          1381 non-null int64\n",
            "university_count            1381 non-null int64\n",
            "academy_ratio               1381 non-null float64\n",
            "elderly_population_ratio    1381 non-null float64\n",
            "elderly_alone_ratio         1381 non-null float64\n",
            "nursing_home_count          1381 non-null int64\n",
            "dtypes: float64(10), int64(6), object(13)\n",
            "memory usage: 323.7+ KB\n"
          ],
          "name": "stdout"
        }
      ]
    },
    {
      "cell_type": "markdown",
      "metadata": {
        "id": "FBzb596jtr-7",
        "colab_type": "text"
      },
      "source": [
        "Let's see if we can find where the virus is spreading and maybe some properties of where the virus is spreading to or originating from"
      ]
    },
    {
      "cell_type": "code",
      "metadata": {
        "id": "HZ6_yKSWqn5e",
        "colab_type": "code",
        "outputId": "6676f29c-f4e5-4d92-8cba-7fdbf625aa7d",
        "colab": {
          "base_uri": "https://localhost:8080/",
          "height": 773
        }
      },
      "source": [
        "merged=pd.merge(df_patientroute, merged_patientinfo, on='patient_id')\n",
        "merged"
      ],
      "execution_count": 92,
      "outputs": [
        {
          "output_type": "execute_result",
          "data": {
            "text/html": [
              "<div>\n",
              "<style scoped>\n",
              "    .dataframe tbody tr th:only-of-type {\n",
              "        vertical-align: middle;\n",
              "    }\n",
              "\n",
              "    .dataframe tbody tr th {\n",
              "        vertical-align: top;\n",
              "    }\n",
              "\n",
              "    .dataframe thead th {\n",
              "        text-align: right;\n",
              "    }\n",
              "</style>\n",
              "<table border=\"1\" class=\"dataframe\">\n",
              "  <thead>\n",
              "    <tr style=\"text-align: right;\">\n",
              "      <th></th>\n",
              "      <th>patient_id</th>\n",
              "      <th>global_num_x</th>\n",
              "      <th>date</th>\n",
              "      <th>province</th>\n",
              "      <th>city_x</th>\n",
              "      <th>latitude_x</th>\n",
              "      <th>longitude_x</th>\n",
              "      <th>geometry</th>\n",
              "      <th>infection_case_x</th>\n",
              "      <th>global_num_y</th>\n",
              "      <th>sex</th>\n",
              "      <th>birth_year</th>\n",
              "      <th>age</th>\n",
              "      <th>country</th>\n",
              "      <th>province_x</th>\n",
              "      <th>city_y</th>\n",
              "      <th>disease</th>\n",
              "      <th>infection_case_y</th>\n",
              "      <th>infection_order</th>\n",
              "      <th>infected_by</th>\n",
              "      <th>contact_number</th>\n",
              "      <th>symptom_onset_date</th>\n",
              "      <th>confirmed_date</th>\n",
              "      <th>released_date</th>\n",
              "      <th>deceased_date</th>\n",
              "      <th>state</th>\n",
              "      <th>code</th>\n",
              "      <th>province_y</th>\n",
              "      <th>latitude_y</th>\n",
              "      <th>longitude_y</th>\n",
              "      <th>elementary_school_count</th>\n",
              "      <th>kindergarten_count</th>\n",
              "      <th>university_count</th>\n",
              "      <th>academy_ratio</th>\n",
              "      <th>elderly_population_ratio</th>\n",
              "      <th>elderly_alone_ratio</th>\n",
              "      <th>nursing_home_count</th>\n",
              "    </tr>\n",
              "  </thead>\n",
              "  <tbody>\n",
              "    <tr>\n",
              "      <th>0</th>\n",
              "      <td>1000000001</td>\n",
              "      <td>2</td>\n",
              "      <td>2020-01-22</td>\n",
              "      <td>Gyeonggi-do</td>\n",
              "      <td>Gimpo-si</td>\n",
              "      <td>37.562143</td>\n",
              "      <td>126.801884</td>\n",
              "      <td>POINT (126.80188 37.56214)</td>\n",
              "      <td>POINT (126.884387 37.508163)</td>\n",
              "      <td>2.0</td>\n",
              "      <td>male</td>\n",
              "      <td>1964.0</td>\n",
              "      <td>50s</td>\n",
              "      <td>Korea</td>\n",
              "      <td>Seoul</td>\n",
              "      <td>Gangseo-gu</td>\n",
              "      <td>NaN</td>\n",
              "      <td>overseas inflow</td>\n",
              "      <td>1.0</td>\n",
              "      <td>NaN</td>\n",
              "      <td>75.0</td>\n",
              "      <td>2020-01-22</td>\n",
              "      <td>2020-01-23</td>\n",
              "      <td>2020-02-05</td>\n",
              "      <td>NaN</td>\n",
              "      <td>released</td>\n",
              "      <td>10040</td>\n",
              "      <td>Seoul</td>\n",
              "      <td>37.551166</td>\n",
              "      <td>126.849506</td>\n",
              "      <td>36</td>\n",
              "      <td>56</td>\n",
              "      <td>1</td>\n",
              "      <td>1.17</td>\n",
              "      <td>14.39</td>\n",
              "      <td>5.7</td>\n",
              "      <td>1080</td>\n",
              "    </tr>\n",
              "    <tr>\n",
              "      <th>1</th>\n",
              "      <td>1000000001</td>\n",
              "      <td>2</td>\n",
              "      <td>2020-01-22</td>\n",
              "      <td>Gyeonggi-do</td>\n",
              "      <td>Gimpo-si</td>\n",
              "      <td>37.562143</td>\n",
              "      <td>126.801884</td>\n",
              "      <td>POINT (126.80188 37.56214)</td>\n",
              "      <td>POINT (126.884387 37.508163)</td>\n",
              "      <td>2.0</td>\n",
              "      <td>male</td>\n",
              "      <td>1964.0</td>\n",
              "      <td>50s</td>\n",
              "      <td>Korea</td>\n",
              "      <td>Seoul</td>\n",
              "      <td>Gangseo-gu</td>\n",
              "      <td>NaN</td>\n",
              "      <td>overseas inflow</td>\n",
              "      <td>1.0</td>\n",
              "      <td>NaN</td>\n",
              "      <td>75.0</td>\n",
              "      <td>2020-01-22</td>\n",
              "      <td>2020-01-23</td>\n",
              "      <td>2020-02-05</td>\n",
              "      <td>NaN</td>\n",
              "      <td>released</td>\n",
              "      <td>11010</td>\n",
              "      <td>Busan</td>\n",
              "      <td>35.212424</td>\n",
              "      <td>128.980680</td>\n",
              "      <td>17</td>\n",
              "      <td>21</td>\n",
              "      <td>0</td>\n",
              "      <td>1.43</td>\n",
              "      <td>11.84</td>\n",
              "      <td>5.0</td>\n",
              "      <td>147</td>\n",
              "    </tr>\n",
              "    <tr>\n",
              "      <th>2</th>\n",
              "      <td>1000000001</td>\n",
              "      <td>2</td>\n",
              "      <td>2020-01-23</td>\n",
              "      <td>Seoul</td>\n",
              "      <td>Jung-gu</td>\n",
              "      <td>37.567454</td>\n",
              "      <td>127.005627</td>\n",
              "      <td>POINT (127.00563 37.56745)</td>\n",
              "      <td>POINT (127.006 37.57680999999999)</td>\n",
              "      <td>2.0</td>\n",
              "      <td>male</td>\n",
              "      <td>1964.0</td>\n",
              "      <td>50s</td>\n",
              "      <td>Korea</td>\n",
              "      <td>Seoul</td>\n",
              "      <td>Gangseo-gu</td>\n",
              "      <td>NaN</td>\n",
              "      <td>overseas inflow</td>\n",
              "      <td>1.0</td>\n",
              "      <td>NaN</td>\n",
              "      <td>75.0</td>\n",
              "      <td>2020-01-22</td>\n",
              "      <td>2020-01-23</td>\n",
              "      <td>2020-02-05</td>\n",
              "      <td>NaN</td>\n",
              "      <td>released</td>\n",
              "      <td>10040</td>\n",
              "      <td>Seoul</td>\n",
              "      <td>37.551166</td>\n",
              "      <td>126.849506</td>\n",
              "      <td>36</td>\n",
              "      <td>56</td>\n",
              "      <td>1</td>\n",
              "      <td>1.17</td>\n",
              "      <td>14.39</td>\n",
              "      <td>5.7</td>\n",
              "      <td>1080</td>\n",
              "    </tr>\n",
              "    <tr>\n",
              "      <th>3</th>\n",
              "      <td>1000000001</td>\n",
              "      <td>2</td>\n",
              "      <td>2020-01-23</td>\n",
              "      <td>Seoul</td>\n",
              "      <td>Jung-gu</td>\n",
              "      <td>37.567454</td>\n",
              "      <td>127.005627</td>\n",
              "      <td>POINT (127.00563 37.56745)</td>\n",
              "      <td>POINT (127.006 37.57680999999999)</td>\n",
              "      <td>2.0</td>\n",
              "      <td>male</td>\n",
              "      <td>1964.0</td>\n",
              "      <td>50s</td>\n",
              "      <td>Korea</td>\n",
              "      <td>Seoul</td>\n",
              "      <td>Gangseo-gu</td>\n",
              "      <td>NaN</td>\n",
              "      <td>overseas inflow</td>\n",
              "      <td>1.0</td>\n",
              "      <td>NaN</td>\n",
              "      <td>75.0</td>\n",
              "      <td>2020-01-22</td>\n",
              "      <td>2020-01-23</td>\n",
              "      <td>2020-02-05</td>\n",
              "      <td>NaN</td>\n",
              "      <td>released</td>\n",
              "      <td>11010</td>\n",
              "      <td>Busan</td>\n",
              "      <td>35.212424</td>\n",
              "      <td>128.980680</td>\n",
              "      <td>17</td>\n",
              "      <td>21</td>\n",
              "      <td>0</td>\n",
              "      <td>1.43</td>\n",
              "      <td>11.84</td>\n",
              "      <td>5.0</td>\n",
              "      <td>147</td>\n",
              "    </tr>\n",
              "    <tr>\n",
              "      <th>4</th>\n",
              "      <td>2000000001</td>\n",
              "      <td>3</td>\n",
              "      <td>2020-01-20</td>\n",
              "      <td>Incheon</td>\n",
              "      <td>Jung-gu</td>\n",
              "      <td>37.460459</td>\n",
              "      <td>126.440680</td>\n",
              "      <td>POINT (126.44068 37.46046)</td>\n",
              "      <td>POINT (126.884387 37.508163)</td>\n",
              "      <td>3.0</td>\n",
              "      <td>male</td>\n",
              "      <td>1966.0</td>\n",
              "      <td>50s</td>\n",
              "      <td>Korea</td>\n",
              "      <td>Gyeonggi-do</td>\n",
              "      <td>Goyang-si</td>\n",
              "      <td>NaN</td>\n",
              "      <td>overseas inflow</td>\n",
              "      <td>1.0</td>\n",
              "      <td>NaN</td>\n",
              "      <td>16.0</td>\n",
              "      <td>NaN</td>\n",
              "      <td>2020-01-26</td>\n",
              "      <td>2020-02-12</td>\n",
              "      <td>NaN</td>\n",
              "      <td>released</td>\n",
              "      <td>20020</td>\n",
              "      <td>Gyeonggi-do</td>\n",
              "      <td>37.658363</td>\n",
              "      <td>126.831961</td>\n",
              "      <td>84</td>\n",
              "      <td>171</td>\n",
              "      <td>2</td>\n",
              "      <td>1.88</td>\n",
              "      <td>12.82</td>\n",
              "      <td>5.2</td>\n",
              "      <td>1608</td>\n",
              "    </tr>\n",
              "    <tr>\n",
              "      <th>...</th>\n",
              "      <td>...</td>\n",
              "      <td>...</td>\n",
              "      <td>...</td>\n",
              "      <td>...</td>\n",
              "      <td>...</td>\n",
              "      <td>...</td>\n",
              "      <td>...</td>\n",
              "      <td>...</td>\n",
              "      <td>...</td>\n",
              "      <td>...</td>\n",
              "      <td>...</td>\n",
              "      <td>...</td>\n",
              "      <td>...</td>\n",
              "      <td>...</td>\n",
              "      <td>...</td>\n",
              "      <td>...</td>\n",
              "      <td>...</td>\n",
              "      <td>...</td>\n",
              "      <td>...</td>\n",
              "      <td>...</td>\n",
              "      <td>...</td>\n",
              "      <td>...</td>\n",
              "      <td>...</td>\n",
              "      <td>...</td>\n",
              "      <td>...</td>\n",
              "      <td>...</td>\n",
              "      <td>...</td>\n",
              "      <td>...</td>\n",
              "      <td>...</td>\n",
              "      <td>...</td>\n",
              "      <td>...</td>\n",
              "      <td>...</td>\n",
              "      <td>...</td>\n",
              "      <td>...</td>\n",
              "      <td>...</td>\n",
              "      <td>...</td>\n",
              "      <td>...</td>\n",
              "    </tr>\n",
              "    <tr>\n",
              "      <th>152</th>\n",
              "      <td>1000000014</td>\n",
              "      <td>30</td>\n",
              "      <td>2020-02-13</td>\n",
              "      <td>Seoul</td>\n",
              "      <td>Jongno-gu</td>\n",
              "      <td>37.572793</td>\n",
              "      <td>127.015975</td>\n",
              "      <td>POINT (127.01597 37.57279)</td>\n",
              "      <td>POINT (127.006 37.57680999999999)</td>\n",
              "      <td>30.0</td>\n",
              "      <td>female</td>\n",
              "      <td>1952.0</td>\n",
              "      <td>60s</td>\n",
              "      <td>Korea</td>\n",
              "      <td>Seoul</td>\n",
              "      <td>Jongno-gu</td>\n",
              "      <td>NaN</td>\n",
              "      <td>contact with patient</td>\n",
              "      <td>5.0</td>\n",
              "      <td>1.000000e+09</td>\n",
              "      <td>27.0</td>\n",
              "      <td>2020-02-06</td>\n",
              "      <td>2020-02-16</td>\n",
              "      <td>2020-03-12</td>\n",
              "      <td>NaN</td>\n",
              "      <td>released</td>\n",
              "      <td>10230</td>\n",
              "      <td>Seoul</td>\n",
              "      <td>37.572999</td>\n",
              "      <td>126.979189</td>\n",
              "      <td>13</td>\n",
              "      <td>17</td>\n",
              "      <td>3</td>\n",
              "      <td>1.71</td>\n",
              "      <td>18.27</td>\n",
              "      <td>6.8</td>\n",
              "      <td>668</td>\n",
              "    </tr>\n",
              "    <tr>\n",
              "      <th>153</th>\n",
              "      <td>1000000014</td>\n",
              "      <td>30</td>\n",
              "      <td>2020-02-14</td>\n",
              "      <td>Seoul</td>\n",
              "      <td>Jongno-gu</td>\n",
              "      <td>37.572596</td>\n",
              "      <td>127.015270</td>\n",
              "      <td>POINT (127.01527 37.57260)</td>\n",
              "      <td>POINT (127.006 37.57680999999999)</td>\n",
              "      <td>30.0</td>\n",
              "      <td>female</td>\n",
              "      <td>1952.0</td>\n",
              "      <td>60s</td>\n",
              "      <td>Korea</td>\n",
              "      <td>Seoul</td>\n",
              "      <td>Jongno-gu</td>\n",
              "      <td>NaN</td>\n",
              "      <td>contact with patient</td>\n",
              "      <td>5.0</td>\n",
              "      <td>1.000000e+09</td>\n",
              "      <td>27.0</td>\n",
              "      <td>2020-02-06</td>\n",
              "      <td>2020-02-16</td>\n",
              "      <td>2020-03-12</td>\n",
              "      <td>NaN</td>\n",
              "      <td>released</td>\n",
              "      <td>10230</td>\n",
              "      <td>Seoul</td>\n",
              "      <td>37.572999</td>\n",
              "      <td>126.979189</td>\n",
              "      <td>13</td>\n",
              "      <td>17</td>\n",
              "      <td>3</td>\n",
              "      <td>1.71</td>\n",
              "      <td>18.27</td>\n",
              "      <td>6.8</td>\n",
              "      <td>668</td>\n",
              "    </tr>\n",
              "    <tr>\n",
              "      <th>154</th>\n",
              "      <td>1000000014</td>\n",
              "      <td>30</td>\n",
              "      <td>2020-02-14</td>\n",
              "      <td>Seoul</td>\n",
              "      <td>Jongno-gu</td>\n",
              "      <td>37.574541</td>\n",
              "      <td>127.015927</td>\n",
              "      <td>POINT (127.01593 37.57454)</td>\n",
              "      <td>POINT (127.006 37.57680999999999)</td>\n",
              "      <td>30.0</td>\n",
              "      <td>female</td>\n",
              "      <td>1952.0</td>\n",
              "      <td>60s</td>\n",
              "      <td>Korea</td>\n",
              "      <td>Seoul</td>\n",
              "      <td>Jongno-gu</td>\n",
              "      <td>NaN</td>\n",
              "      <td>contact with patient</td>\n",
              "      <td>5.0</td>\n",
              "      <td>1.000000e+09</td>\n",
              "      <td>27.0</td>\n",
              "      <td>2020-02-06</td>\n",
              "      <td>2020-02-16</td>\n",
              "      <td>2020-03-12</td>\n",
              "      <td>NaN</td>\n",
              "      <td>released</td>\n",
              "      <td>10230</td>\n",
              "      <td>Seoul</td>\n",
              "      <td>37.572999</td>\n",
              "      <td>126.979189</td>\n",
              "      <td>13</td>\n",
              "      <td>17</td>\n",
              "      <td>3</td>\n",
              "      <td>1.71</td>\n",
              "      <td>18.27</td>\n",
              "      <td>6.8</td>\n",
              "      <td>668</td>\n",
              "    </tr>\n",
              "    <tr>\n",
              "      <th>155</th>\n",
              "      <td>1000000014</td>\n",
              "      <td>30</td>\n",
              "      <td>2020-02-15</td>\n",
              "      <td>Seoul</td>\n",
              "      <td>Seongbuk-gu</td>\n",
              "      <td>37.587055</td>\n",
              "      <td>127.026830</td>\n",
              "      <td>POINT (127.02683 37.58705)</td>\n",
              "      <td>POINT (127.006 37.57680999999999)</td>\n",
              "      <td>30.0</td>\n",
              "      <td>female</td>\n",
              "      <td>1952.0</td>\n",
              "      <td>60s</td>\n",
              "      <td>Korea</td>\n",
              "      <td>Seoul</td>\n",
              "      <td>Jongno-gu</td>\n",
              "      <td>NaN</td>\n",
              "      <td>contact with patient</td>\n",
              "      <td>5.0</td>\n",
              "      <td>1.000000e+09</td>\n",
              "      <td>27.0</td>\n",
              "      <td>2020-02-06</td>\n",
              "      <td>2020-02-16</td>\n",
              "      <td>2020-03-12</td>\n",
              "      <td>NaN</td>\n",
              "      <td>released</td>\n",
              "      <td>10230</td>\n",
              "      <td>Seoul</td>\n",
              "      <td>37.572999</td>\n",
              "      <td>126.979189</td>\n",
              "      <td>13</td>\n",
              "      <td>17</td>\n",
              "      <td>3</td>\n",
              "      <td>1.71</td>\n",
              "      <td>18.27</td>\n",
              "      <td>6.8</td>\n",
              "      <td>668</td>\n",
              "    </tr>\n",
              "    <tr>\n",
              "      <th>156</th>\n",
              "      <td>1000000014</td>\n",
              "      <td>30</td>\n",
              "      <td>2020-02-16</td>\n",
              "      <td>Seoul</td>\n",
              "      <td>Jongno-gu</td>\n",
              "      <td>37.579678</td>\n",
              "      <td>126.998945</td>\n",
              "      <td>POINT (126.99894 37.57968)</td>\n",
              "      <td>POINT (127.006 37.57680999999999)</td>\n",
              "      <td>30.0</td>\n",
              "      <td>female</td>\n",
              "      <td>1952.0</td>\n",
              "      <td>60s</td>\n",
              "      <td>Korea</td>\n",
              "      <td>Seoul</td>\n",
              "      <td>Jongno-gu</td>\n",
              "      <td>NaN</td>\n",
              "      <td>contact with patient</td>\n",
              "      <td>5.0</td>\n",
              "      <td>1.000000e+09</td>\n",
              "      <td>27.0</td>\n",
              "      <td>2020-02-06</td>\n",
              "      <td>2020-02-16</td>\n",
              "      <td>2020-03-12</td>\n",
              "      <td>NaN</td>\n",
              "      <td>released</td>\n",
              "      <td>10230</td>\n",
              "      <td>Seoul</td>\n",
              "      <td>37.572999</td>\n",
              "      <td>126.979189</td>\n",
              "      <td>13</td>\n",
              "      <td>17</td>\n",
              "      <td>3</td>\n",
              "      <td>1.71</td>\n",
              "      <td>18.27</td>\n",
              "      <td>6.8</td>\n",
              "      <td>668</td>\n",
              "    </tr>\n",
              "  </tbody>\n",
              "</table>\n",
              "<p>157 rows × 37 columns</p>\n",
              "</div>"
            ],
            "text/plain": [
              "     patient_id  global_num_x  ... elderly_alone_ratio nursing_home_count\n",
              "0    1000000001             2  ...                 5.7               1080\n",
              "1    1000000001             2  ...                 5.0                147\n",
              "2    1000000001             2  ...                 5.7               1080\n",
              "3    1000000001             2  ...                 5.0                147\n",
              "4    2000000001             3  ...                 5.2               1608\n",
              "..          ...           ...  ...                 ...                ...\n",
              "152  1000000014            30  ...                 6.8                668\n",
              "153  1000000014            30  ...                 6.8                668\n",
              "154  1000000014            30  ...                 6.8                668\n",
              "155  1000000014            30  ...                 6.8                668\n",
              "156  1000000014            30  ...                 6.8                668\n",
              "\n",
              "[157 rows x 37 columns]"
            ]
          },
          "metadata": {
            "tags": []
          },
          "execution_count": 92
        }
      ]
    },
    {
      "cell_type": "code",
      "metadata": {
        "id": "1xBDaJnV79r_",
        "colab_type": "code",
        "outputId": "9972d836-4000-478a-b9dc-e91dde1a09fa",
        "colab": {
          "base_uri": "https://localhost:8080/",
          "height": 35
        }
      },
      "source": [
        "types_states=merged['state'].unique()\n",
        "types_states"
      ],
      "execution_count": 93,
      "outputs": [
        {
          "output_type": "execute_result",
          "data": {
            "text/plain": [
              "array(['released', 'isolated'], dtype=object)"
            ]
          },
          "metadata": {
            "tags": []
          },
          "execution_count": 93
        }
      ]
    },
    {
      "cell_type": "markdown",
      "metadata": {
        "id": "7dyf2ZPK_c9U",
        "colab_type": "text"
      },
      "source": [
        "My merged table shows isolated and released cases. This is useful for potentially predicting what conditions allow you to make it through the virus."
      ]
    },
    {
      "cell_type": "code",
      "metadata": {
        "id": "fRvo5AkF79zv",
        "colab_type": "code",
        "outputId": "c7160da5-510c-4061-d8f0-a9825e726f09",
        "colab": {
          "base_uri": "https://localhost:8080/",
          "height": 35
        }
      },
      "source": [
        "types_all_states=merged_patientinfo['state'].unique()\n",
        "types_all_states"
      ],
      "execution_count": 94,
      "outputs": [
        {
          "output_type": "execute_result",
          "data": {
            "text/plain": [
              "array(['released', 'isolated', nan, 'deceased'], dtype=object)"
            ]
          },
          "metadata": {
            "tags": []
          },
          "execution_count": 94
        }
      ]
    },
    {
      "cell_type": "markdown",
      "metadata": {
        "id": "AEBhcvOUD___",
        "colab_type": "text"
      },
      "source": [
        "To describe this table, the _x values represent the route patients take, the _y values represent the nearest epicenters or case_ids according to euclidean geometry. Additionally, the table includes the patient's info and region info."
      ]
    },
    {
      "cell_type": "markdown",
      "metadata": {
        "id": "6bTIpab0Wb3H",
        "colab_type": "text"
      },
      "source": [
        "#knn"
      ]
    },
    {
      "cell_type": "markdown",
      "metadata": {
        "id": "Lkh07vOM5GKi",
        "colab_type": "text"
      },
      "source": [
        "First we will see if knearestneighbors can take in a route and predict a state or at the very least provide some insight"
      ]
    },
    {
      "cell_type": "code",
      "metadata": {
        "id": "jxjI6r-SES_c",
        "colab_type": "code",
        "colab": {}
      },
      "source": [
        "Xk=pd.concat([merged['latitude_x'], merged['longitude_x'], merged['birth_year']], axis=1)"
      ],
      "execution_count": 0,
      "outputs": []
    },
    {
      "cell_type": "code",
      "metadata": {
        "id": "EPXT6_OKecfy",
        "colab_type": "code",
        "colab": {}
      },
      "source": [
        "one_hot = pd.get_dummies(merged['state'])"
      ],
      "execution_count": 0,
      "outputs": []
    },
    {
      "cell_type": "code",
      "metadata": {
        "id": "PxBoHtBOe2qD",
        "colab_type": "code",
        "colab": {}
      },
      "source": [
        "df = merged.drop('state',axis = 1)"
      ],
      "execution_count": 0,
      "outputs": []
    },
    {
      "cell_type": "code",
      "metadata": {
        "id": "rD3D8OMJeXmB",
        "colab_type": "code",
        "colab": {}
      },
      "source": [
        "mergedoh=merged.join(one_hot)"
      ],
      "execution_count": 0,
      "outputs": []
    },
    {
      "cell_type": "code",
      "metadata": {
        "id": "_tTDyaJDn1rN",
        "colab_type": "code",
        "outputId": "444ca00e-f7a1-40ed-f8df-a8390d1ba9a5",
        "colab": {
          "base_uri": "https://localhost:8080/",
          "height": 0
        }
      },
      "source": [
        "mergedoh.info()"
      ],
      "execution_count": 99,
      "outputs": [
        {
          "output_type": "stream",
          "text": [
            "<class 'pandas.core.frame.DataFrame'>\n",
            "Int64Index: 157 entries, 0 to 156\n",
            "Data columns (total 39 columns):\n",
            "patient_id                  157 non-null int64\n",
            "global_num_x                157 non-null int64\n",
            "date                        157 non-null object\n",
            "province                    157 non-null object\n",
            "city_x                      157 non-null object\n",
            "latitude_x                  157 non-null float64\n",
            "longitude_x                 157 non-null float64\n",
            "geometry                    157 non-null geometry\n",
            "infection_case_x            157 non-null object\n",
            "global_num_y                157 non-null float64\n",
            "sex                         157 non-null object\n",
            "birth_year                  157 non-null float64\n",
            "age                         157 non-null object\n",
            "country                     157 non-null object\n",
            "province_x                  157 non-null object\n",
            "city_y                      157 non-null object\n",
            "disease                     0 non-null object\n",
            "infection_case_y            157 non-null object\n",
            "infection_order             157 non-null float64\n",
            "infected_by                 71 non-null float64\n",
            "contact_number              157 non-null float64\n",
            "symptom_onset_date          17 non-null object\n",
            "confirmed_date              157 non-null object\n",
            "released_date               121 non-null object\n",
            "deceased_date               0 non-null object\n",
            "state                       157 non-null object\n",
            "code                        157 non-null int64\n",
            "province_y                  157 non-null object\n",
            "latitude_y                  157 non-null float64\n",
            "longitude_y                 157 non-null float64\n",
            "elementary_school_count     157 non-null int64\n",
            "kindergarten_count          157 non-null int64\n",
            "university_count            157 non-null int64\n",
            "academy_ratio               157 non-null float64\n",
            "elderly_population_ratio    157 non-null float64\n",
            "elderly_alone_ratio         157 non-null float64\n",
            "nursing_home_count          157 non-null int64\n",
            "isolated                    157 non-null uint8\n",
            "released                    157 non-null uint8\n",
            "dtypes: float64(12), geometry(1), int64(7), object(17), uint8(2)\n",
            "memory usage: 51.9+ KB\n"
          ],
          "name": "stdout"
        }
      ]
    },
    {
      "cell_type": "code",
      "metadata": {
        "id": "T71WVUeLylHB",
        "colab_type": "code",
        "outputId": "ade77dd1-6783-4dc8-f919-4d3bb31dc88d",
        "colab": {
          "base_uri": "https://localhost:8080/",
          "height": 0
        }
      },
      "source": [
        "mergedoh.head()"
      ],
      "execution_count": 100,
      "outputs": [
        {
          "output_type": "execute_result",
          "data": {
            "text/html": [
              "<div>\n",
              "<style scoped>\n",
              "    .dataframe tbody tr th:only-of-type {\n",
              "        vertical-align: middle;\n",
              "    }\n",
              "\n",
              "    .dataframe tbody tr th {\n",
              "        vertical-align: top;\n",
              "    }\n",
              "\n",
              "    .dataframe thead th {\n",
              "        text-align: right;\n",
              "    }\n",
              "</style>\n",
              "<table border=\"1\" class=\"dataframe\">\n",
              "  <thead>\n",
              "    <tr style=\"text-align: right;\">\n",
              "      <th></th>\n",
              "      <th>patient_id</th>\n",
              "      <th>global_num_x</th>\n",
              "      <th>date</th>\n",
              "      <th>province</th>\n",
              "      <th>city_x</th>\n",
              "      <th>latitude_x</th>\n",
              "      <th>longitude_x</th>\n",
              "      <th>geometry</th>\n",
              "      <th>infection_case_x</th>\n",
              "      <th>global_num_y</th>\n",
              "      <th>sex</th>\n",
              "      <th>birth_year</th>\n",
              "      <th>age</th>\n",
              "      <th>country</th>\n",
              "      <th>province_x</th>\n",
              "      <th>city_y</th>\n",
              "      <th>disease</th>\n",
              "      <th>infection_case_y</th>\n",
              "      <th>infection_order</th>\n",
              "      <th>infected_by</th>\n",
              "      <th>contact_number</th>\n",
              "      <th>symptom_onset_date</th>\n",
              "      <th>confirmed_date</th>\n",
              "      <th>released_date</th>\n",
              "      <th>deceased_date</th>\n",
              "      <th>state</th>\n",
              "      <th>code</th>\n",
              "      <th>province_y</th>\n",
              "      <th>latitude_y</th>\n",
              "      <th>longitude_y</th>\n",
              "      <th>elementary_school_count</th>\n",
              "      <th>kindergarten_count</th>\n",
              "      <th>university_count</th>\n",
              "      <th>academy_ratio</th>\n",
              "      <th>elderly_population_ratio</th>\n",
              "      <th>elderly_alone_ratio</th>\n",
              "      <th>nursing_home_count</th>\n",
              "      <th>isolated</th>\n",
              "      <th>released</th>\n",
              "    </tr>\n",
              "  </thead>\n",
              "  <tbody>\n",
              "    <tr>\n",
              "      <th>0</th>\n",
              "      <td>1000000001</td>\n",
              "      <td>2</td>\n",
              "      <td>2020-01-22</td>\n",
              "      <td>Gyeonggi-do</td>\n",
              "      <td>Gimpo-si</td>\n",
              "      <td>37.562143</td>\n",
              "      <td>126.801884</td>\n",
              "      <td>POINT (126.80188 37.56214)</td>\n",
              "      <td>POINT (126.884387 37.508163)</td>\n",
              "      <td>2.0</td>\n",
              "      <td>male</td>\n",
              "      <td>1964.0</td>\n",
              "      <td>50s</td>\n",
              "      <td>Korea</td>\n",
              "      <td>Seoul</td>\n",
              "      <td>Gangseo-gu</td>\n",
              "      <td>NaN</td>\n",
              "      <td>overseas inflow</td>\n",
              "      <td>1.0</td>\n",
              "      <td>NaN</td>\n",
              "      <td>75.0</td>\n",
              "      <td>2020-01-22</td>\n",
              "      <td>2020-01-23</td>\n",
              "      <td>2020-02-05</td>\n",
              "      <td>NaN</td>\n",
              "      <td>released</td>\n",
              "      <td>10040</td>\n",
              "      <td>Seoul</td>\n",
              "      <td>37.551166</td>\n",
              "      <td>126.849506</td>\n",
              "      <td>36</td>\n",
              "      <td>56</td>\n",
              "      <td>1</td>\n",
              "      <td>1.17</td>\n",
              "      <td>14.39</td>\n",
              "      <td>5.7</td>\n",
              "      <td>1080</td>\n",
              "      <td>0</td>\n",
              "      <td>1</td>\n",
              "    </tr>\n",
              "    <tr>\n",
              "      <th>1</th>\n",
              "      <td>1000000001</td>\n",
              "      <td>2</td>\n",
              "      <td>2020-01-22</td>\n",
              "      <td>Gyeonggi-do</td>\n",
              "      <td>Gimpo-si</td>\n",
              "      <td>37.562143</td>\n",
              "      <td>126.801884</td>\n",
              "      <td>POINT (126.80188 37.56214)</td>\n",
              "      <td>POINT (126.884387 37.508163)</td>\n",
              "      <td>2.0</td>\n",
              "      <td>male</td>\n",
              "      <td>1964.0</td>\n",
              "      <td>50s</td>\n",
              "      <td>Korea</td>\n",
              "      <td>Seoul</td>\n",
              "      <td>Gangseo-gu</td>\n",
              "      <td>NaN</td>\n",
              "      <td>overseas inflow</td>\n",
              "      <td>1.0</td>\n",
              "      <td>NaN</td>\n",
              "      <td>75.0</td>\n",
              "      <td>2020-01-22</td>\n",
              "      <td>2020-01-23</td>\n",
              "      <td>2020-02-05</td>\n",
              "      <td>NaN</td>\n",
              "      <td>released</td>\n",
              "      <td>11010</td>\n",
              "      <td>Busan</td>\n",
              "      <td>35.212424</td>\n",
              "      <td>128.980680</td>\n",
              "      <td>17</td>\n",
              "      <td>21</td>\n",
              "      <td>0</td>\n",
              "      <td>1.43</td>\n",
              "      <td>11.84</td>\n",
              "      <td>5.0</td>\n",
              "      <td>147</td>\n",
              "      <td>0</td>\n",
              "      <td>1</td>\n",
              "    </tr>\n",
              "    <tr>\n",
              "      <th>2</th>\n",
              "      <td>1000000001</td>\n",
              "      <td>2</td>\n",
              "      <td>2020-01-23</td>\n",
              "      <td>Seoul</td>\n",
              "      <td>Jung-gu</td>\n",
              "      <td>37.567454</td>\n",
              "      <td>127.005627</td>\n",
              "      <td>POINT (127.00563 37.56745)</td>\n",
              "      <td>POINT (127.006 37.57680999999999)</td>\n",
              "      <td>2.0</td>\n",
              "      <td>male</td>\n",
              "      <td>1964.0</td>\n",
              "      <td>50s</td>\n",
              "      <td>Korea</td>\n",
              "      <td>Seoul</td>\n",
              "      <td>Gangseo-gu</td>\n",
              "      <td>NaN</td>\n",
              "      <td>overseas inflow</td>\n",
              "      <td>1.0</td>\n",
              "      <td>NaN</td>\n",
              "      <td>75.0</td>\n",
              "      <td>2020-01-22</td>\n",
              "      <td>2020-01-23</td>\n",
              "      <td>2020-02-05</td>\n",
              "      <td>NaN</td>\n",
              "      <td>released</td>\n",
              "      <td>10040</td>\n",
              "      <td>Seoul</td>\n",
              "      <td>37.551166</td>\n",
              "      <td>126.849506</td>\n",
              "      <td>36</td>\n",
              "      <td>56</td>\n",
              "      <td>1</td>\n",
              "      <td>1.17</td>\n",
              "      <td>14.39</td>\n",
              "      <td>5.7</td>\n",
              "      <td>1080</td>\n",
              "      <td>0</td>\n",
              "      <td>1</td>\n",
              "    </tr>\n",
              "    <tr>\n",
              "      <th>3</th>\n",
              "      <td>1000000001</td>\n",
              "      <td>2</td>\n",
              "      <td>2020-01-23</td>\n",
              "      <td>Seoul</td>\n",
              "      <td>Jung-gu</td>\n",
              "      <td>37.567454</td>\n",
              "      <td>127.005627</td>\n",
              "      <td>POINT (127.00563 37.56745)</td>\n",
              "      <td>POINT (127.006 37.57680999999999)</td>\n",
              "      <td>2.0</td>\n",
              "      <td>male</td>\n",
              "      <td>1964.0</td>\n",
              "      <td>50s</td>\n",
              "      <td>Korea</td>\n",
              "      <td>Seoul</td>\n",
              "      <td>Gangseo-gu</td>\n",
              "      <td>NaN</td>\n",
              "      <td>overseas inflow</td>\n",
              "      <td>1.0</td>\n",
              "      <td>NaN</td>\n",
              "      <td>75.0</td>\n",
              "      <td>2020-01-22</td>\n",
              "      <td>2020-01-23</td>\n",
              "      <td>2020-02-05</td>\n",
              "      <td>NaN</td>\n",
              "      <td>released</td>\n",
              "      <td>11010</td>\n",
              "      <td>Busan</td>\n",
              "      <td>35.212424</td>\n",
              "      <td>128.980680</td>\n",
              "      <td>17</td>\n",
              "      <td>21</td>\n",
              "      <td>0</td>\n",
              "      <td>1.43</td>\n",
              "      <td>11.84</td>\n",
              "      <td>5.0</td>\n",
              "      <td>147</td>\n",
              "      <td>0</td>\n",
              "      <td>1</td>\n",
              "    </tr>\n",
              "    <tr>\n",
              "      <th>4</th>\n",
              "      <td>2000000001</td>\n",
              "      <td>3</td>\n",
              "      <td>2020-01-20</td>\n",
              "      <td>Incheon</td>\n",
              "      <td>Jung-gu</td>\n",
              "      <td>37.460459</td>\n",
              "      <td>126.440680</td>\n",
              "      <td>POINT (126.44068 37.46046)</td>\n",
              "      <td>POINT (126.884387 37.508163)</td>\n",
              "      <td>3.0</td>\n",
              "      <td>male</td>\n",
              "      <td>1966.0</td>\n",
              "      <td>50s</td>\n",
              "      <td>Korea</td>\n",
              "      <td>Gyeonggi-do</td>\n",
              "      <td>Goyang-si</td>\n",
              "      <td>NaN</td>\n",
              "      <td>overseas inflow</td>\n",
              "      <td>1.0</td>\n",
              "      <td>NaN</td>\n",
              "      <td>16.0</td>\n",
              "      <td>NaN</td>\n",
              "      <td>2020-01-26</td>\n",
              "      <td>2020-02-12</td>\n",
              "      <td>NaN</td>\n",
              "      <td>released</td>\n",
              "      <td>20020</td>\n",
              "      <td>Gyeonggi-do</td>\n",
              "      <td>37.658363</td>\n",
              "      <td>126.831961</td>\n",
              "      <td>84</td>\n",
              "      <td>171</td>\n",
              "      <td>2</td>\n",
              "      <td>1.88</td>\n",
              "      <td>12.82</td>\n",
              "      <td>5.2</td>\n",
              "      <td>1608</td>\n",
              "      <td>0</td>\n",
              "      <td>1</td>\n",
              "    </tr>\n",
              "  </tbody>\n",
              "</table>\n",
              "</div>"
            ],
            "text/plain": [
              "   patient_id  global_num_x        date  ... nursing_home_count isolated  released\n",
              "0  1000000001             2  2020-01-22  ...               1080        0         1\n",
              "1  1000000001             2  2020-01-22  ...                147        0         1\n",
              "2  1000000001             2  2020-01-23  ...               1080        0         1\n",
              "3  1000000001             2  2020-01-23  ...                147        0         1\n",
              "4  2000000001             3  2020-01-20  ...               1608        0         1\n",
              "\n",
              "[5 rows x 39 columns]"
            ]
          },
          "metadata": {
            "tags": []
          },
          "execution_count": 100
        }
      ]
    },
    {
      "cell_type": "code",
      "metadata": {
        "id": "A9VsNKvTn_H9",
        "colab_type": "code",
        "colab": {}
      },
      "source": [
        "y_one_hot= pd.concat([mergedoh['isolated'], mergedoh['released']], axis=1)"
      ],
      "execution_count": 0,
      "outputs": []
    },
    {
      "cell_type": "code",
      "metadata": {
        "id": "vPKY7PIMqoBf",
        "colab_type": "code",
        "colab": {}
      },
      "source": [
        "neigh_m= KNeighborsClassifier(weights='distance', algorithm='brute', p=1)"
      ],
      "execution_count": 0,
      "outputs": []
    },
    {
      "cell_type": "code",
      "metadata": {
        "id": "ME4G32KH53HY",
        "colab_type": "code",
        "outputId": "9f306bda-9dbf-455d-e2f5-5f347d2db58b",
        "colab": {
          "base_uri": "https://localhost:8080/",
          "height": 0
        }
      },
      "source": [
        "neigh_m.fit(Xk, y_one_hot)"
      ],
      "execution_count": 103,
      "outputs": [
        {
          "output_type": "execute_result",
          "data": {
            "text/plain": [
              "KNeighborsClassifier(algorithm='brute', leaf_size=30, metric='minkowski',\n",
              "                     metric_params=None, n_jobs=None, n_neighbors=5, p=1,\n",
              "                     weights='distance')"
            ]
          },
          "metadata": {
            "tags": []
          },
          "execution_count": 103
        }
      ]
    },
    {
      "cell_type": "code",
      "metadata": {
        "id": "nhDOLwi053KP",
        "colab_type": "code",
        "colab": {}
      },
      "source": [
        "pred=neigh_m.predict(Xk)"
      ],
      "execution_count": 0,
      "outputs": []
    },
    {
      "cell_type": "code",
      "metadata": {
        "id": "6pea3eVq53NB",
        "colab_type": "code",
        "outputId": "8a152a42-ae9d-4f28-ead2-551d9e3043d0",
        "colab": {
          "base_uri": "https://localhost:8080/",
          "height": 0
        }
      },
      "source": [
        "print(accuracy_score(y_one_hot, pred))\n",
        "print(classification_report(y_one_hot, pred))"
      ],
      "execution_count": 105,
      "outputs": [
        {
          "output_type": "stream",
          "text": [
            "0.9872611464968153\n",
            "              precision    recall  f1-score   support\n",
            "\n",
            "           0       1.00      0.86      0.92         7\n",
            "           1       1.00      0.99      1.00       150\n",
            "\n",
            "   micro avg       1.00      0.99      0.99       157\n",
            "   macro avg       1.00      0.93      0.96       157\n",
            "weighted avg       1.00      0.99      0.99       157\n",
            " samples avg       0.99      0.99      0.99       157\n",
            "\n"
          ],
          "name": "stdout"
        },
        {
          "output_type": "stream",
          "text": [
            "/usr/local/lib/python3.6/dist-packages/sklearn/metrics/_classification.py:1272: UndefinedMetricWarning: Precision and F-score are ill-defined and being set to 0.0 in samples with no predicted labels. Use `zero_division` parameter to control this behavior.\n",
            "  _warn_prf(average, modifier, msg_start, len(result))\n"
          ],
          "name": "stderr"
        }
      ]
    },
    {
      "cell_type": "code",
      "metadata": {
        "id": "YCIus_pQ7aNz",
        "colab_type": "code",
        "colab": {}
      },
      "source": [
        "saved_model = plk.dumps(neigh_m)"
      ],
      "execution_count": 0,
      "outputs": []
    },
    {
      "cell_type": "code",
      "metadata": {
        "id": "-fHkxfq97aTL",
        "colab_type": "code",
        "colab": {}
      },
      "source": [
        "knn_from_pickle = plk.loads(saved_model) "
      ],
      "execution_count": 0,
      "outputs": []
    },
    {
      "cell_type": "code",
      "metadata": {
        "id": "HUN11Yc24JTf",
        "colab_type": "code",
        "outputId": "47b90253-5383-4903-edf7-7b3425e56814",
        "colab": {
          "base_uri": "https://localhost:8080/",
          "height": 0
        }
      },
      "source": [
        "X_test_pkl=[[127.006 , 37.57680999999999, 1964.0]]\n",
        "knn_from_pickle.predict(X_test_pkl)"
      ],
      "execution_count": 108,
      "outputs": [
        {
          "output_type": "execute_result",
          "data": {
            "text/plain": [
              "array([[0, 1]], dtype=uint8)"
            ]
          },
          "metadata": {
            "tags": []
          },
          "execution_count": 108
        }
      ]
    },
    {
      "cell_type": "markdown",
      "metadata": {
        "id": "KCL-e7Yu5Mv-",
        "colab_type": "text"
      },
      "source": [
        "Good the model works"
      ]
    },
    {
      "cell_type": "code",
      "metadata": {
        "id": "HPmv4luU4JWs",
        "colab_type": "code",
        "colab": {}
      },
      "source": [
        "plk.dump(knn_from_pickle, open('neigh_m.plk', 'wb'))"
      ],
      "execution_count": 0,
      "outputs": []
    },
    {
      "cell_type": "code",
      "metadata": {
        "id": "55Typ-bC4JZd",
        "colab_type": "code",
        "colab": {}
      },
      "source": [
        ""
      ],
      "execution_count": 0,
      "outputs": []
    },
    {
      "cell_type": "markdown",
      "metadata": {
        "id": "R0Ejg_bVnx0k",
        "colab_type": "text"
      },
      "source": [
        "#kmodes experimentation"
      ]
    },
    {
      "cell_type": "markdown",
      "metadata": {
        "id": "LjvTZVCT7bm2",
        "colab_type": "text"
      },
      "source": [
        "Now to test all possible states"
      ]
    },
    {
      "cell_type": "code",
      "metadata": {
        "id": "A-oC-IXQ7hq_",
        "colab_type": "code",
        "outputId": "00ccafde-affd-42e0-e20d-355187ab568f",
        "colab": {
          "base_uri": "https://localhost:8080/",
          "height": 253
        }
      },
      "source": [
        "one_hot = pd.get_dummies(merged_patientinfo['state'])\n",
        "dfpi = merged.drop('state',axis = 1)\n",
        "merged_patientinfooh=merged_patientinfo.join(one_hot)\n",
        "merged_patientinfooh.tail()"
      ],
      "execution_count": 110,
      "outputs": [
        {
          "output_type": "execute_result",
          "data": {
            "text/html": [
              "<div>\n",
              "<style scoped>\n",
              "    .dataframe tbody tr th:only-of-type {\n",
              "        vertical-align: middle;\n",
              "    }\n",
              "\n",
              "    .dataframe tbody tr th {\n",
              "        vertical-align: top;\n",
              "    }\n",
              "\n",
              "    .dataframe thead th {\n",
              "        text-align: right;\n",
              "    }\n",
              "</style>\n",
              "<table border=\"1\" class=\"dataframe\">\n",
              "  <thead>\n",
              "    <tr style=\"text-align: right;\">\n",
              "      <th></th>\n",
              "      <th>patient_id</th>\n",
              "      <th>global_num</th>\n",
              "      <th>sex</th>\n",
              "      <th>birth_year</th>\n",
              "      <th>age</th>\n",
              "      <th>country</th>\n",
              "      <th>province_x</th>\n",
              "      <th>city</th>\n",
              "      <th>disease</th>\n",
              "      <th>infection_case</th>\n",
              "      <th>infection_order</th>\n",
              "      <th>infected_by</th>\n",
              "      <th>contact_number</th>\n",
              "      <th>symptom_onset_date</th>\n",
              "      <th>confirmed_date</th>\n",
              "      <th>released_date</th>\n",
              "      <th>deceased_date</th>\n",
              "      <th>state</th>\n",
              "      <th>code</th>\n",
              "      <th>province_y</th>\n",
              "      <th>latitude</th>\n",
              "      <th>longitude</th>\n",
              "      <th>elementary_school_count</th>\n",
              "      <th>kindergarten_count</th>\n",
              "      <th>university_count</th>\n",
              "      <th>academy_ratio</th>\n",
              "      <th>elderly_population_ratio</th>\n",
              "      <th>elderly_alone_ratio</th>\n",
              "      <th>nursing_home_count</th>\n",
              "      <th>deceased</th>\n",
              "      <th>isolated</th>\n",
              "      <th>released</th>\n",
              "    </tr>\n",
              "  </thead>\n",
              "  <tbody>\n",
              "    <tr>\n",
              "      <th>1376</th>\n",
              "      <td>6112000038</td>\n",
              "      <td>NaN</td>\n",
              "      <td>female</td>\n",
              "      <td>1961.0</td>\n",
              "      <td>50s</td>\n",
              "      <td>Korea</td>\n",
              "      <td>Gyeongsangnam-do</td>\n",
              "      <td>Changnyeong-gun</td>\n",
              "      <td>NaN</td>\n",
              "      <td>etc</td>\n",
              "      <td>NaN</td>\n",
              "      <td>NaN</td>\n",
              "      <td>NaN</td>\n",
              "      <td>NaN</td>\n",
              "      <td>2020-02-26</td>\n",
              "      <td>NaN</td>\n",
              "      <td>NaN</td>\n",
              "      <td>isolated</td>\n",
              "      <td>61120</td>\n",
              "      <td>Gyeongsangnam-do</td>\n",
              "      <td>35.544603</td>\n",
              "      <td>128.492330</td>\n",
              "      <td>17</td>\n",
              "      <td>20</td>\n",
              "      <td>0</td>\n",
              "      <td>0.80</td>\n",
              "      <td>29.80</td>\n",
              "      <td>18.4</td>\n",
              "      <td>129</td>\n",
              "      <td>0</td>\n",
              "      <td>1</td>\n",
              "      <td>0</td>\n",
              "    </tr>\n",
              "    <tr>\n",
              "      <th>1377</th>\n",
              "      <td>6106000041</td>\n",
              "      <td>NaN</td>\n",
              "      <td>male</td>\n",
              "      <td>1985.0</td>\n",
              "      <td>30s</td>\n",
              "      <td>Korea</td>\n",
              "      <td>Gyeongsangnam-do</td>\n",
              "      <td>Miryang-si</td>\n",
              "      <td>NaN</td>\n",
              "      <td>contact with patient</td>\n",
              "      <td>2.0</td>\n",
              "      <td>6.106000e+09</td>\n",
              "      <td>NaN</td>\n",
              "      <td>NaN</td>\n",
              "      <td>2020-02-26</td>\n",
              "      <td>NaN</td>\n",
              "      <td>NaN</td>\n",
              "      <td>released</td>\n",
              "      <td>61060</td>\n",
              "      <td>Gyeongsangnam-do</td>\n",
              "      <td>35.503827</td>\n",
              "      <td>128.746604</td>\n",
              "      <td>21</td>\n",
              "      <td>25</td>\n",
              "      <td>0</td>\n",
              "      <td>1.39</td>\n",
              "      <td>27.31</td>\n",
              "      <td>16.3</td>\n",
              "      <td>178</td>\n",
              "      <td>0</td>\n",
              "      <td>0</td>\n",
              "      <td>1</td>\n",
              "    </tr>\n",
              "    <tr>\n",
              "      <th>1378</th>\n",
              "      <td>7000000001</td>\n",
              "      <td>139.0</td>\n",
              "      <td>male</td>\n",
              "      <td>1998.0</td>\n",
              "      <td>20s</td>\n",
              "      <td>Korea</td>\n",
              "      <td>Jeju-do</td>\n",
              "      <td>Jeju-do</td>\n",
              "      <td>NaN</td>\n",
              "      <td>etc</td>\n",
              "      <td>NaN</td>\n",
              "      <td>NaN</td>\n",
              "      <td>87.0</td>\n",
              "      <td>NaN</td>\n",
              "      <td>2020-02-20</td>\n",
              "      <td>NaN</td>\n",
              "      <td>NaN</td>\n",
              "      <td>isolated</td>\n",
              "      <td>70000</td>\n",
              "      <td>Jeju-do</td>\n",
              "      <td>33.488936</td>\n",
              "      <td>126.500423</td>\n",
              "      <td>113</td>\n",
              "      <td>123</td>\n",
              "      <td>4</td>\n",
              "      <td>1.53</td>\n",
              "      <td>15.10</td>\n",
              "      <td>6.4</td>\n",
              "      <td>1245</td>\n",
              "      <td>0</td>\n",
              "      <td>1</td>\n",
              "      <td>0</td>\n",
              "    </tr>\n",
              "    <tr>\n",
              "      <th>1379</th>\n",
              "      <td>7000000002</td>\n",
              "      <td>222.0</td>\n",
              "      <td>female</td>\n",
              "      <td>1998.0</td>\n",
              "      <td>20s</td>\n",
              "      <td>Korea</td>\n",
              "      <td>Jeju-do</td>\n",
              "      <td>Jeju-do</td>\n",
              "      <td>NaN</td>\n",
              "      <td>etc</td>\n",
              "      <td>NaN</td>\n",
              "      <td>NaN</td>\n",
              "      <td>84.0</td>\n",
              "      <td>NaN</td>\n",
              "      <td>2020-02-22</td>\n",
              "      <td>2020-03-07</td>\n",
              "      <td>NaN</td>\n",
              "      <td>released</td>\n",
              "      <td>70000</td>\n",
              "      <td>Jeju-do</td>\n",
              "      <td>33.488936</td>\n",
              "      <td>126.500423</td>\n",
              "      <td>113</td>\n",
              "      <td>123</td>\n",
              "      <td>4</td>\n",
              "      <td>1.53</td>\n",
              "      <td>15.10</td>\n",
              "      <td>6.4</td>\n",
              "      <td>1245</td>\n",
              "      <td>0</td>\n",
              "      <td>0</td>\n",
              "      <td>1</td>\n",
              "    </tr>\n",
              "    <tr>\n",
              "      <th>1380</th>\n",
              "      <td>7000000004</td>\n",
              "      <td>5534.0</td>\n",
              "      <td>male</td>\n",
              "      <td>1974.0</td>\n",
              "      <td>40s</td>\n",
              "      <td>Korea</td>\n",
              "      <td>Jeju-do</td>\n",
              "      <td>Jeju-do</td>\n",
              "      <td>NaN</td>\n",
              "      <td>etc</td>\n",
              "      <td>NaN</td>\n",
              "      <td>NaN</td>\n",
              "      <td>74.0</td>\n",
              "      <td>NaN</td>\n",
              "      <td>2020-03-04</td>\n",
              "      <td>NaN</td>\n",
              "      <td>NaN</td>\n",
              "      <td>isolated</td>\n",
              "      <td>70000</td>\n",
              "      <td>Jeju-do</td>\n",
              "      <td>33.488936</td>\n",
              "      <td>126.500423</td>\n",
              "      <td>113</td>\n",
              "      <td>123</td>\n",
              "      <td>4</td>\n",
              "      <td>1.53</td>\n",
              "      <td>15.10</td>\n",
              "      <td>6.4</td>\n",
              "      <td>1245</td>\n",
              "      <td>0</td>\n",
              "      <td>1</td>\n",
              "      <td>0</td>\n",
              "    </tr>\n",
              "  </tbody>\n",
              "</table>\n",
              "</div>"
            ],
            "text/plain": [
              "      patient_id  global_num     sex  ...  deceased isolated released\n",
              "1376  6112000038         NaN  female  ...         0        1        0\n",
              "1377  6106000041         NaN    male  ...         0        0        1\n",
              "1378  7000000001       139.0    male  ...         0        1        0\n",
              "1379  7000000002       222.0  female  ...         0        0        1\n",
              "1380  7000000004      5534.0    male  ...         0        1        0\n",
              "\n",
              "[5 rows x 32 columns]"
            ]
          },
          "metadata": {
            "tags": []
          },
          "execution_count": 110
        }
      ]
    },
    {
      "cell_type": "code",
      "metadata": {
        "id": "FqHzhoyivweu",
        "colab_type": "code",
        "colab": {
          "base_uri": "https://localhost:8080/",
          "height": 690
        },
        "outputId": "2667c686-156e-4605-82c8-3daa19552dd7"
      },
      "source": [
        "merged_patientinfooh.info()"
      ],
      "execution_count": 124,
      "outputs": [
        {
          "output_type": "stream",
          "text": [
            "<class 'pandas.core.frame.DataFrame'>\n",
            "Int64Index: 1381 entries, 0 to 1380\n",
            "Data columns (total 32 columns):\n",
            "patient_id                  1381 non-null int64\n",
            "global_num                  779 non-null float64\n",
            "sex                         1379 non-null object\n",
            "birth_year                  1194 non-null float64\n",
            "age                         1262 non-null object\n",
            "country                     1381 non-null object\n",
            "province_x                  1381 non-null object\n",
            "city                        1381 non-null object\n",
            "disease                     9 non-null object\n",
            "infection_case              1381 non-null object\n",
            "infection_order             41 non-null float64\n",
            "infected_by                 522 non-null float64\n",
            "contact_number              409 non-null float64\n",
            "symptom_onset_date          197 non-null object\n",
            "confirmed_date              1362 non-null object\n",
            "released_date               188 non-null object\n",
            "deceased_date               10 non-null object\n",
            "state                       1278 non-null object\n",
            "code                        1381 non-null int64\n",
            "province_y                  1381 non-null object\n",
            "latitude                    1381 non-null float64\n",
            "longitude                   1381 non-null float64\n",
            "elementary_school_count     1381 non-null int64\n",
            "kindergarten_count          1381 non-null int64\n",
            "university_count            1381 non-null int64\n",
            "academy_ratio               1381 non-null float64\n",
            "elderly_population_ratio    1381 non-null float64\n",
            "elderly_alone_ratio         1381 non-null float64\n",
            "nursing_home_count          1381 non-null int64\n",
            "deceased                    1381 non-null uint8\n",
            "isolated                    1381 non-null uint8\n",
            "released                    1381 non-null uint8\n",
            "dtypes: float64(10), int64(6), object(13), uint8(3)\n",
            "memory usage: 367.7+ KB\n"
          ],
          "name": "stdout"
        }
      ]
    },
    {
      "cell_type": "code",
      "metadata": {
        "colab_type": "code",
        "outputId": "b691d4c0-41a6-4c21-a834-81fb13824fd6",
        "id": "_IuWf_zCwuGE",
        "colab": {
          "base_uri": "https://localhost:8080/",
          "height": 199
        }
      },
      "source": [
        "merged_patientinfooh.birth_year.unique()"
      ],
      "execution_count": 111,
      "outputs": [
        {
          "output_type": "execute_result",
          "data": {
            "text/plain": [
              "array([1964., 1968., 1986., 1971., 1960., 1966., 1972., 1962., 1992.,\n",
              "       1999., 1967., 1994., 1982., 1978., 2002., 1987., 2005., 1973.,\n",
              "       1984., 1953., 1995., 1938., 1952., 1945., 1944., 1941., 1936.,\n",
              "       1950., 1991., 1998., 1976., 2008., 1970., 1969., 1981., 1963.,\n",
              "       1983., 1965., 2000., 1979., 1993., 1997., 1951., 1958., 1985.,\n",
              "       1955., 1943., 1961., 1980., 1975., 1974., 2012., 2001., 1954.,\n",
              "       1977., 1956., 1937., 1935., 1989., 1959., 1990., 1949., 1939.,\n",
              "       1996., 1988., 2013., 2003., 2007., 2020., 2004., 2006., 1929.,\n",
              "       1934., 1947.,   nan, 2015., 1948., 1957., 1946., 1932., 2010.,\n",
              "       2009., 2018., 1942., 2014., 2011., 2017., 1930., 2019.])"
            ]
          },
          "metadata": {
            "tags": []
          },
          "execution_count": 111
        }
      ]
    },
    {
      "cell_type": "code",
      "metadata": {
        "id": "OWvE8uKdwzIJ",
        "colab_type": "code",
        "outputId": "4627259d-e525-4499-9baf-880a592ff4c4",
        "colab": {
          "base_uri": "https://localhost:8080/",
          "height": 617
        }
      },
      "source": [
        "merged_patientinfooh.isnull().sum()"
      ],
      "execution_count": 112,
      "outputs": [
        {
          "output_type": "execute_result",
          "data": {
            "text/plain": [
              "patient_id                     0\n",
              "global_num                   602\n",
              "sex                            2\n",
              "birth_year                   187\n",
              "age                          119\n",
              "country                        0\n",
              "province_x                     0\n",
              "city                           0\n",
              "disease                     1372\n",
              "infection_case                 0\n",
              "infection_order             1340\n",
              "infected_by                  859\n",
              "contact_number               972\n",
              "symptom_onset_date          1184\n",
              "confirmed_date                19\n",
              "released_date               1193\n",
              "deceased_date               1371\n",
              "state                        103\n",
              "code                           0\n",
              "province_y                     0\n",
              "latitude                       0\n",
              "longitude                      0\n",
              "elementary_school_count        0\n",
              "kindergarten_count             0\n",
              "university_count               0\n",
              "academy_ratio                  0\n",
              "elderly_population_ratio       0\n",
              "elderly_alone_ratio            0\n",
              "nursing_home_count             0\n",
              "deceased                       0\n",
              "isolated                       0\n",
              "released                       0\n",
              "dtype: int64"
            ]
          },
          "metadata": {
            "tags": []
          },
          "execution_count": 112
        }
      ]
    },
    {
      "cell_type": "code",
      "metadata": {
        "id": "IxX9RFCjIzxL",
        "colab_type": "code",
        "colab": {}
      },
      "source": [
        "gmerged_patientinfooh=merged_patientinfooh.dropna(subset=['birth_year'])"
      ],
      "execution_count": 0,
      "outputs": []
    },
    {
      "cell_type": "code",
      "metadata": {
        "id": "oN_o6uhozQk7",
        "colab_type": "code",
        "outputId": "85ae34e3-3a8b-4bb9-ff01-4e14250e9dad",
        "colab": {
          "base_uri": "https://localhost:8080/",
          "height": 407
        }
      },
      "source": [
        "datatable=pd.concat([gmerged_patientinfooh['birth_year'], gmerged_patientinfooh['deceased'], gmerged_patientinfooh['isolated'], gmerged_patientinfooh['released']], axis=1)\n",
        "datatable"
      ],
      "execution_count": 114,
      "outputs": [
        {
          "output_type": "execute_result",
          "data": {
            "text/html": [
              "<div>\n",
              "<style scoped>\n",
              "    .dataframe tbody tr th:only-of-type {\n",
              "        vertical-align: middle;\n",
              "    }\n",
              "\n",
              "    .dataframe tbody tr th {\n",
              "        vertical-align: top;\n",
              "    }\n",
              "\n",
              "    .dataframe thead th {\n",
              "        text-align: right;\n",
              "    }\n",
              "</style>\n",
              "<table border=\"1\" class=\"dataframe\">\n",
              "  <thead>\n",
              "    <tr style=\"text-align: right;\">\n",
              "      <th></th>\n",
              "      <th>birth_year</th>\n",
              "      <th>deceased</th>\n",
              "      <th>isolated</th>\n",
              "      <th>released</th>\n",
              "    </tr>\n",
              "  </thead>\n",
              "  <tbody>\n",
              "    <tr>\n",
              "      <th>0</th>\n",
              "      <td>1964.0</td>\n",
              "      <td>0</td>\n",
              "      <td>0</td>\n",
              "      <td>1</td>\n",
              "    </tr>\n",
              "    <tr>\n",
              "      <th>1</th>\n",
              "      <td>1964.0</td>\n",
              "      <td>0</td>\n",
              "      <td>0</td>\n",
              "      <td>1</td>\n",
              "    </tr>\n",
              "    <tr>\n",
              "      <th>2</th>\n",
              "      <td>1968.0</td>\n",
              "      <td>0</td>\n",
              "      <td>0</td>\n",
              "      <td>1</td>\n",
              "    </tr>\n",
              "    <tr>\n",
              "      <th>3</th>\n",
              "      <td>1968.0</td>\n",
              "      <td>0</td>\n",
              "      <td>0</td>\n",
              "      <td>1</td>\n",
              "    </tr>\n",
              "    <tr>\n",
              "      <th>4</th>\n",
              "      <td>1986.0</td>\n",
              "      <td>0</td>\n",
              "      <td>1</td>\n",
              "      <td>0</td>\n",
              "    </tr>\n",
              "    <tr>\n",
              "      <th>...</th>\n",
              "      <td>...</td>\n",
              "      <td>...</td>\n",
              "      <td>...</td>\n",
              "      <td>...</td>\n",
              "    </tr>\n",
              "    <tr>\n",
              "      <th>1376</th>\n",
              "      <td>1961.0</td>\n",
              "      <td>0</td>\n",
              "      <td>1</td>\n",
              "      <td>0</td>\n",
              "    </tr>\n",
              "    <tr>\n",
              "      <th>1377</th>\n",
              "      <td>1985.0</td>\n",
              "      <td>0</td>\n",
              "      <td>0</td>\n",
              "      <td>1</td>\n",
              "    </tr>\n",
              "    <tr>\n",
              "      <th>1378</th>\n",
              "      <td>1998.0</td>\n",
              "      <td>0</td>\n",
              "      <td>1</td>\n",
              "      <td>0</td>\n",
              "    </tr>\n",
              "    <tr>\n",
              "      <th>1379</th>\n",
              "      <td>1998.0</td>\n",
              "      <td>0</td>\n",
              "      <td>0</td>\n",
              "      <td>1</td>\n",
              "    </tr>\n",
              "    <tr>\n",
              "      <th>1380</th>\n",
              "      <td>1974.0</td>\n",
              "      <td>0</td>\n",
              "      <td>1</td>\n",
              "      <td>0</td>\n",
              "    </tr>\n",
              "  </tbody>\n",
              "</table>\n",
              "<p>1194 rows × 4 columns</p>\n",
              "</div>"
            ],
            "text/plain": [
              "      birth_year  deceased  isolated  released\n",
              "0         1964.0         0         0         1\n",
              "1         1964.0         0         0         1\n",
              "2         1968.0         0         0         1\n",
              "3         1968.0         0         0         1\n",
              "4         1986.0         0         1         0\n",
              "...          ...       ...       ...       ...\n",
              "1376      1961.0         0         1         0\n",
              "1377      1985.0         0         0         1\n",
              "1378      1998.0         0         1         0\n",
              "1379      1998.0         0         0         1\n",
              "1380      1974.0         0         1         0\n",
              "\n",
              "[1194 rows x 4 columns]"
            ]
          },
          "metadata": {
            "tags": []
          },
          "execution_count": 114
        }
      ]
    },
    {
      "cell_type": "code",
      "metadata": {
        "id": "Mq5FYyyPNzfw",
        "colab_type": "code",
        "colab": {}
      },
      "source": [
        "from kmodes.kmodes import KModes\n",
        "km = KModes(n_clusters=3, init='Huang', n_init=5, verbose=1)"
      ],
      "execution_count": 0,
      "outputs": []
    },
    {
      "cell_type": "code",
      "metadata": {
        "id": "AsAdSLqBp4s_",
        "colab_type": "code",
        "outputId": "506bae20-adee-405b-9dbd-b2ae85cfa1af",
        "colab": {
          "base_uri": "https://localhost:8080/",
          "height": 508
        }
      },
      "source": [
        "km.fit(datatable)"
      ],
      "execution_count": 116,
      "outputs": [
        {
          "output_type": "stream",
          "text": [
            "Init: initializing centroids\n",
            "Init: initializing clusters\n",
            "Starting iterations...\n",
            "Run 1, iteration: 1/100, moves: 326, cost: 1153.0\n",
            "Run 1, iteration: 2/100, moves: 4, cost: 1153.0\n",
            "Init: initializing centroids\n",
            "Init: initializing clusters\n",
            "Starting iterations...\n",
            "Run 2, iteration: 1/100, moves: 112, cost: 1244.0\n",
            "Run 2, iteration: 2/100, moves: 0, cost: 1244.0\n",
            "Init: initializing centroids\n",
            "Init: initializing clusters\n",
            "Starting iterations...\n",
            "Run 3, iteration: 1/100, moves: 115, cost: 1253.0\n",
            "Run 3, iteration: 2/100, moves: 0, cost: 1253.0\n",
            "Init: initializing centroids\n",
            "Init: initializing clusters\n",
            "Starting iterations...\n",
            "Run 4, iteration: 1/100, moves: 13, cost: 1249.0\n",
            "Init: initializing centroids\n",
            "Init: initializing clusters\n",
            "Starting iterations...\n",
            "Run 5, iteration: 1/100, moves: 0, cost: 1693.0\n",
            "Best run was number 1\n"
          ],
          "name": "stdout"
        },
        {
          "output_type": "execute_result",
          "data": {
            "text/plain": [
              "KModes(cat_dissim=<function matching_dissim at 0x7f7921706268>, init='Huang',\n",
              "       max_iter=100, n_clusters=3, n_init=5, n_jobs=1, random_state=None,\n",
              "       verbose=1)"
            ]
          },
          "metadata": {
            "tags": []
          },
          "execution_count": 116
        }
      ]
    },
    {
      "cell_type": "code",
      "metadata": {
        "id": "tRzW5q7D_-8c",
        "colab_type": "code",
        "outputId": "6d2c9505-0195-47e9-c6ca-734888c0bfaa",
        "colab": {
          "base_uri": "https://localhost:8080/",
          "height": 72
        }
      },
      "source": [
        "km.cluster_centroids_"
      ],
      "execution_count": 117,
      "outputs": [
        {
          "output_type": "execute_result",
          "data": {
            "text/plain": [
              "array([[1.969e+03, 0.000e+00, 1.000e+00, 0.000e+00],\n",
              "       [1.978e+03, 0.000e+00, 0.000e+00, 0.000e+00],\n",
              "       [1.995e+03, 0.000e+00, 0.000e+00, 1.000e+00]])"
            ]
          },
          "metadata": {
            "tags": []
          },
          "execution_count": 117
        }
      ]
    },
    {
      "cell_type": "code",
      "metadata": {
        "id": "FAPIKlvO26_P",
        "colab_type": "code",
        "colab": {}
      },
      "source": [
        "saved_kmodes_model = plk.dumps(km)"
      ],
      "execution_count": 0,
      "outputs": []
    },
    {
      "cell_type": "code",
      "metadata": {
        "id": "mwYZoULD8tqM",
        "colab_type": "code",
        "colab": {}
      },
      "source": [
        "km_from_pickle = plk.loads(saved_kmodes_model) "
      ],
      "execution_count": 0,
      "outputs": []
    },
    {
      "cell_type": "code",
      "metadata": {
        "id": "2Cz3MV4f8tx-",
        "colab_type": "code",
        "outputId": "33e823e6-6ccb-4d68-e225-f39f7ac5b5c0",
        "colab": {
          "base_uri": "https://localhost:8080/",
          "height": 35
        }
      },
      "source": [
        "X_test_pkl_km=[[1956]]\n",
        "km_from_pickle.predict(X_test_pkl_km)"
      ],
      "execution_count": 121,
      "outputs": [
        {
          "output_type": "execute_result",
          "data": {
            "text/plain": [
              "array([0], dtype=uint16)"
            ]
          },
          "metadata": {
            "tags": []
          },
          "execution_count": 121
        }
      ]
    },
    {
      "cell_type": "markdown",
      "metadata": {
        "id": "-tLdDbQplETW",
        "colab_type": "text"
      },
      "source": [
        "array[0] means that it could be compatable with any cluster, that is not very ideal. Kmodes is best with categorical features that are one hotted and birth_year is not great to one hot since there are many different types of entries for birth year. Let's look for a different feature to try this on."
      ]
    },
    {
      "cell_type": "code",
      "metadata": {
        "id": "FsUu4fSIwXs3",
        "colab_type": "code",
        "colab": {
          "base_uri": "https://localhost:8080/",
          "height": 690
        },
        "outputId": "7f9f30f3-1ae6-4aa7-86a4-5c427e4bec5e"
      },
      "source": [
        "merged_patientinfooh.info()"
      ],
      "execution_count": 129,
      "outputs": [
        {
          "output_type": "stream",
          "text": [
            "<class 'pandas.core.frame.DataFrame'>\n",
            "Int64Index: 1381 entries, 0 to 1380\n",
            "Data columns (total 32 columns):\n",
            "patient_id                  1381 non-null int64\n",
            "global_num                  779 non-null float64\n",
            "sex                         1379 non-null object\n",
            "birth_year                  1194 non-null float64\n",
            "age                         1262 non-null object\n",
            "country                     1381 non-null object\n",
            "province_x                  1381 non-null object\n",
            "city                        1381 non-null object\n",
            "disease                     9 non-null object\n",
            "infection_case              1381 non-null object\n",
            "infection_order             41 non-null float64\n",
            "infected_by                 522 non-null float64\n",
            "contact_number              409 non-null float64\n",
            "symptom_onset_date          197 non-null object\n",
            "confirmed_date              1362 non-null object\n",
            "released_date               188 non-null object\n",
            "deceased_date               10 non-null object\n",
            "state                       1278 non-null object\n",
            "code                        1381 non-null int64\n",
            "province_y                  1381 non-null object\n",
            "latitude                    1381 non-null float64\n",
            "longitude                   1381 non-null float64\n",
            "elementary_school_count     1381 non-null int64\n",
            "kindergarten_count          1381 non-null int64\n",
            "university_count            1381 non-null int64\n",
            "academy_ratio               1381 non-null float64\n",
            "elderly_population_ratio    1381 non-null float64\n",
            "elderly_alone_ratio         1381 non-null float64\n",
            "nursing_home_count          1381 non-null int64\n",
            "deceased                    1381 non-null uint8\n",
            "isolated                    1381 non-null uint8\n",
            "released                    1381 non-null uint8\n",
            "dtypes: float64(10), int64(6), object(13), uint8(3)\n",
            "memory usage: 367.7+ KB\n"
          ],
          "name": "stdout"
        }
      ]
    },
    {
      "cell_type": "code",
      "metadata": {
        "id": "RrLZmXqWwIsV",
        "colab_type": "code",
        "colab": {}
      },
      "source": [
        "completedata=merged_patientinfooh.dropna(axis=1)"
      ],
      "execution_count": 0,
      "outputs": []
    },
    {
      "cell_type": "code",
      "metadata": {
        "id": "0VPqr3hl6AH4",
        "colab_type": "code",
        "colab": {
          "base_uri": "https://localhost:8080/",
          "height": 454
        },
        "outputId": "0a248685-aa75-4580-8586-995a021906a2"
      },
      "source": [
        "completedata.info()"
      ],
      "execution_count": 133,
      "outputs": [
        {
          "output_type": "stream",
          "text": [
            "<class 'pandas.core.frame.DataFrame'>\n",
            "Int64Index: 1381 entries, 0 to 1380\n",
            "Data columns (total 19 columns):\n",
            "patient_id                  1381 non-null int64\n",
            "country                     1381 non-null object\n",
            "province_x                  1381 non-null object\n",
            "city                        1381 non-null object\n",
            "infection_case              1381 non-null object\n",
            "code                        1381 non-null int64\n",
            "province_y                  1381 non-null object\n",
            "latitude                    1381 non-null float64\n",
            "longitude                   1381 non-null float64\n",
            "elementary_school_count     1381 non-null int64\n",
            "kindergarten_count          1381 non-null int64\n",
            "university_count            1381 non-null int64\n",
            "academy_ratio               1381 non-null float64\n",
            "elderly_population_ratio    1381 non-null float64\n",
            "elderly_alone_ratio         1381 non-null float64\n",
            "nursing_home_count          1381 non-null int64\n",
            "deceased                    1381 non-null uint8\n",
            "isolated                    1381 non-null uint8\n",
            "released                    1381 non-null uint8\n",
            "dtypes: float64(5), int64(6), object(5), uint8(3)\n",
            "memory usage: 227.5+ KB\n"
          ],
          "name": "stdout"
        }
      ]
    },
    {
      "cell_type": "code",
      "metadata": {
        "id": "46sgwxF48vUw",
        "colab_type": "code",
        "colab": {
          "base_uri": "https://localhost:8080/",
          "height": 35
        },
        "outputId": "6d05967e-0312-4d54-cf92-fbb67cff589c"
      },
      "source": [
        "completedata.deceased.sum()"
      ],
      "execution_count": 142,
      "outputs": [
        {
          "output_type": "execute_result",
          "data": {
            "text/plain": [
              "10"
            ]
          },
          "metadata": {
            "tags": []
          },
          "execution_count": 142
        }
      ]
    },
    {
      "cell_type": "markdown",
      "metadata": {
        "id": "hPjatC5U9Eyy",
        "colab_type": "text"
      },
      "source": [
        "There are 10 deaths in the dataset so it may be difficult for a model to predict the deceased status."
      ]
    },
    {
      "cell_type": "code",
      "metadata": {
        "id": "jgrPFUfjvQhP",
        "colab_type": "code",
        "colab": {}
      },
      "source": [
        "from kmodes.kmodes import KModes\n",
        "km2 = KModes(n_clusters=24, init='Huang', n_init=5, verbose=1)"
      ],
      "execution_count": 0,
      "outputs": []
    },
    {
      "cell_type": "code",
      "metadata": {
        "id": "dy60jbFE64wU",
        "colab_type": "code",
        "colab": {
          "base_uri": "https://localhost:8080/",
          "height": 726
        },
        "outputId": "42aa338c-6fb1-48a0-b012-3cdb7e9d1d80"
      },
      "source": [
        "km2.fit(completedata)"
      ],
      "execution_count": 140,
      "outputs": [
        {
          "output_type": "stream",
          "text": [
            "Init: initializing centroids\n",
            "Init: initializing clusters\n",
            "Starting iterations...\n",
            "Run 1, iteration: 1/100, moves: 221, cost: 10862.0\n",
            "Run 1, iteration: 2/100, moves: 90, cost: 10814.0\n",
            "Run 1, iteration: 3/100, moves: 2, cost: 10814.0\n",
            "Init: initializing centroids\n",
            "Init: initializing clusters\n",
            "Starting iterations...\n",
            "Run 2, iteration: 1/100, moves: 265, cost: 11335.0\n",
            "Run 2, iteration: 2/100, moves: 88, cost: 11286.0\n",
            "Run 2, iteration: 3/100, moves: 51, cost: 11253.0\n",
            "Run 2, iteration: 4/100, moves: 2, cost: 11253.0\n",
            "Init: initializing centroids\n",
            "Init: initializing clusters\n",
            "Starting iterations...\n",
            "Run 3, iteration: 1/100, moves: 246, cost: 11153.0\n",
            "Run 3, iteration: 2/100, moves: 92, cost: 11092.0\n",
            "Run 3, iteration: 3/100, moves: 8, cost: 11092.0\n",
            "Init: initializing centroids\n",
            "Init: initializing clusters\n",
            "Starting iterations...\n",
            "Run 4, iteration: 1/100, moves: 361, cost: 11135.0\n",
            "Run 4, iteration: 2/100, moves: 130, cost: 11085.0\n",
            "Run 4, iteration: 3/100, moves: 41, cost: 11056.0\n",
            "Run 4, iteration: 4/100, moves: 32, cost: 10887.0\n",
            "Run 4, iteration: 5/100, moves: 37, cost: 10868.0\n",
            "Run 4, iteration: 6/100, moves: 20, cost: 10859.0\n",
            "Run 4, iteration: 7/100, moves: 4, cost: 10859.0\n",
            "Init: initializing centroids\n",
            "Init: initializing clusters\n",
            "Starting iterations...\n",
            "Run 5, iteration: 1/100, moves: 286, cost: 11357.0\n",
            "Run 5, iteration: 2/100, moves: 66, cost: 11314.0\n",
            "Run 5, iteration: 3/100, moves: 20, cost: 11314.0\n",
            "Best run was number 1\n"
          ],
          "name": "stdout"
        },
        {
          "output_type": "execute_result",
          "data": {
            "text/plain": [
              "KModes(cat_dissim=<function matching_dissim at 0x7f7921706268>, init='Huang',\n",
              "       max_iter=100, n_clusters=24, n_init=5, n_jobs=1, random_state=None,\n",
              "       verbose=1)"
            ]
          },
          "metadata": {
            "tags": []
          },
          "execution_count": 140
        }
      ]
    },
    {
      "cell_type": "code",
      "metadata": {
        "id": "EZpzQy7m643A",
        "colab_type": "code",
        "colab": {
          "base_uri": "https://localhost:8080/",
          "height": 1000
        },
        "outputId": "87347207-3a74-4d11-e007-b387dadf27e8"
      },
      "source": [
        "km2.cluster_centroids_"
      ],
      "execution_count": 141,
      "outputs": [
        {
          "output_type": "execute_result",
          "data": {
            "text/plain": [
              "array([['1100000011', 'Korea', 'Chungcheongnam-do', 'Cheonan-si',\n",
              "        'contact with patient', '41120', 'Chungcheongnam-do', '36.81498',\n",
              "        '127.113868', '75', '112', '6', '1.91', '10.42', '4.5', '1069',\n",
              "        '0', '1', '0'],\n",
              "       ['1000000136', 'Korea', 'Seoul', 'Gwanak-gu',\n",
              "        'Guro-gu Call Center', '10050', 'Seoul', '37.47829',\n",
              "        '126.951502', '22', '33', '1', '0.89', '15.12', '4.9', '909',\n",
              "        '0', '1', '0'],\n",
              "       ['1600000019', 'Korea', 'Daejeon', 'Seo-gu', 'etc', '11110',\n",
              "        'Busan', '35.098135', '129.024193', '17', '9', '0', '0.83',\n",
              "        '24.36', '12.3', '235', '0', '1', '0'],\n",
              "       ['1600000002', 'Korea', 'Busan', 'Dongnae-gu',\n",
              "        'Shincheonji Church', '11060', 'Busan', '35.205059999999996',\n",
              "        '129.083673', '22', '31', '0', '1.98', '17.53', '7.7', '608',\n",
              "        '0', '0', '1'],\n",
              "       ['1400000006', 'Korea', 'Gyeongsangbuk-do', 'Yeongcheon-si',\n",
              "        'etc', '60150', 'Gyeongsangbuk-do', '35.973268', '128.938603',\n",
              "        '18', '23', '1', '0.83', '27.32', '15.3', '192', '0', '1', '0'],\n",
              "       ['1100000020', 'Korea', 'Busan', 'Haeundae-gu',\n",
              "        'contact with patient', '11160', 'Busan', '35.16336',\n",
              "        '129.163594', '33', '39', '1', '1.63', '16.53', '7.9', '814',\n",
              "        '0', '1', '0'],\n",
              "       ['1700000001', 'Korea', 'Sejong', 'Sejong',\n",
              "        'Ministry of Oceans and Fisheries', '17000', 'Sejong',\n",
              "        '36.480132', '127.28902099999999', '48', '60', '3', '1.78',\n",
              "        '9.48', '3.8', '491', '0', '1', '0'],\n",
              "       ['3001000006', 'Korea', 'Gyeongsangbuk-do', 'Pohang-si',\n",
              "        'contact with patient', '60230', 'Gyeongsangbuk-do', '36.019052',\n",
              "        '129.343645', '66', '117', '4', '1.51', '16.44', '8.0', '877',\n",
              "        '0', '1', '0'],\n",
              "       ['1200000033', 'Korea', 'Seoul', 'Yeongdeungpo-gu',\n",
              "        'contact with patient', '10200', 'Seoul', '37.526505',\n",
              "        '126.89618999999999', '23', '39', '0', '1.21', '15.6', '5.8',\n",
              "        '1001', '0', '1', '0'],\n",
              "       ['1500000001', 'Korea', 'Daejeon', 'Seo-gu', 'etc', '15030',\n",
              "        'Daejeon', '36.35553', '127.38375500000001', '39', '78', '3',\n",
              "        '1.81', '12.05', '4.9', '1123', '0', '0', '1'],\n",
              "       ['1400000004', 'Korea', 'Gyeonggi-do', 'Seongnam-si',\n",
              "        'contact with patient', '20120', 'Gyeonggi-do', '37.42',\n",
              "        '127.126703', '72', '127', '2', '2.08', '13.52', '5.6', '2095',\n",
              "        '0', '1', '0'],\n",
              "       ['1600000025', 'Korea', 'Ulsan', 'Buk-gu', 'Shincheonji Church',\n",
              "        '11080', 'Busan', '35.197483', '128.990224', '27', '37', '1',\n",
              "        '1.35', '16.04', '8.4', '465', '0', '1', '0'],\n",
              "       ['1400000035', 'Korea', 'Gyeonggi-do', 'Seongnam-si',\n",
              "        'contact with patient', '20120', 'Gyeonggi-do', '37.42',\n",
              "        '127.126703', '72', '127', '3', '2.08', '13.52', '5.6', '2095',\n",
              "        '0', '0', '0'],\n",
              "       ['1000000147', 'Korea', 'Seoul', 'Guro-gu', 'Guro-gu Call Center',\n",
              "        '10070', 'Seoul', '37.495632', '126.88765', '26', '34', '3',\n",
              "        '1.0', '16.21', '5.7', '741', '0', '1', '0'],\n",
              "       ['1000000009', 'Korea', 'Seoul', 'Songpa-gu',\n",
              "        'contact with patient', '10180', 'Seoul', '37.51462',\n",
              "        '127.106141', '40', '51', '1', '1.65', '13.1', '4.1', '1527',\n",
              "        '0', '1', '0'],\n",
              "       ['2000000015', 'Korea', 'Gyeonggi-do', 'Bucheon-si',\n",
              "        'contact with patient', '20110', 'Gyeonggi-do', '37.503393',\n",
              "        '126.766049', '64', '124', '4', '1.51', '12.77', '5.4', '1432',\n",
              "        '0', '1', '0'],\n",
              "       ['2000000018', 'Korea', 'Gyeonggi-do', 'Seongnam-si', 'etc',\n",
              "        '20120', 'Gyeonggi-do', '37.42', '127.126703', '72', '127', '3',\n",
              "        '2.08', '13.52', '5.6', '2095', '0', '1', '0'],\n",
              "       ['1000000144', 'Korea', 'Seoul', 'Gangseo-gu',\n",
              "        'Guro-gu Call Center', '10040', 'Seoul', '37.551165999999995',\n",
              "        '126.849506', '36', '56', '1', '1.17', '14.39', '5.7', '1080',\n",
              "        '0', '1', '0'],\n",
              "       ['1600000014', 'Korea', 'Ulsan', 'Nam-gu', 'Shincheonji Church',\n",
              "        '12010', 'Daegu', '35.8463', '128.597723', '11', '15', '2',\n",
              "        '0.85', '22.49', '10.4', '345', '0', '1', '0'],\n",
              "       ['1000000015', 'Korea', 'Seoul', 'Dongdaemun-gu',\n",
              "        'contact with patient', '10110', 'Seoul', '37.574552000000004',\n",
              "        '127.039721', '21', '31', '4', '1.06', '17.26', '6.7', '832',\n",
              "        '0', '1', '0'],\n",
              "       ['1000000041', 'Korea', 'Seoul', 'Gangnam-gu', 'etc', '10010',\n",
              "        'Seoul', '37.518421000000004', '127.04722199999999', '33', '38',\n",
              "        '0', '4.18', '13.17', '4.3', '3088', '0', '1', '0'],\n",
              "       ['1400000035', 'Korea', 'Gyeonggi-do', 'Bucheon-si',\n",
              "        'contact with patient', '20110', 'Gyeonggi-do', '37.503393',\n",
              "        '126.766049', '64', '124', '4', '1.51', '12.77', '5.4', '1432',\n",
              "        '0', '0', '0'],\n",
              "       ['1100000017', 'Korea', 'Ulsan', 'Nam-gu', 'contact with patient',\n",
              "        '11040', 'Busan', '35.136789', '129.08414', '21', '27', '4',\n",
              "        '1.24', '19.13', '7.9', '475', '0', '0', '1'],\n",
              "       ['1600000021', 'Korea', 'Ulsan', 'Nam-gu', 'contact with patient',\n",
              "        '16010', 'Ulsan', '35.543833', '129.330047', '30', '44', '1',\n",
              "        '3.23', '11.42', '4.8', '765', '0', '1', '0']], dtype='<U32')"
            ]
          },
          "metadata": {
            "tags": []
          },
          "execution_count": 141
        }
      ]
    },
    {
      "cell_type": "code",
      "metadata": {
        "id": "0F5cz2Xi-to3",
        "colab_type": "code",
        "colab": {
          "base_uri": "https://localhost:8080/",
          "height": 541
        },
        "outputId": "d81a8eaa-246c-4f15-9a13-39a4b6a7e8ed"
      },
      "source": [
        "deaths=completedata.loc[completedata['deceased']== 1]\n",
        "deaths"
      ],
      "execution_count": 145,
      "outputs": [
        {
          "output_type": "execute_result",
          "data": {
            "text/html": [
              "<div>\n",
              "<style scoped>\n",
              "    .dataframe tbody tr th:only-of-type {\n",
              "        vertical-align: middle;\n",
              "    }\n",
              "\n",
              "    .dataframe tbody tr th {\n",
              "        vertical-align: top;\n",
              "    }\n",
              "\n",
              "    .dataframe thead th {\n",
              "        text-align: right;\n",
              "    }\n",
              "</style>\n",
              "<table border=\"1\" class=\"dataframe\">\n",
              "  <thead>\n",
              "    <tr style=\"text-align: right;\">\n",
              "      <th></th>\n",
              "      <th>patient_id</th>\n",
              "      <th>country</th>\n",
              "      <th>province_x</th>\n",
              "      <th>city</th>\n",
              "      <th>infection_case</th>\n",
              "      <th>code</th>\n",
              "      <th>province_y</th>\n",
              "      <th>latitude</th>\n",
              "      <th>longitude</th>\n",
              "      <th>elementary_school_count</th>\n",
              "      <th>kindergarten_count</th>\n",
              "      <th>university_count</th>\n",
              "      <th>academy_ratio</th>\n",
              "      <th>elderly_population_ratio</th>\n",
              "      <th>elderly_alone_ratio</th>\n",
              "      <th>nursing_home_count</th>\n",
              "      <th>deceased</th>\n",
              "      <th>isolated</th>\n",
              "      <th>released</th>\n",
              "    </tr>\n",
              "  </thead>\n",
              "  <tbody>\n",
              "    <tr>\n",
              "      <th>905</th>\n",
              "      <td>2000000039</td>\n",
              "      <td>Mongolia</td>\n",
              "      <td>Gyeonggi-do</td>\n",
              "      <td>Namyangju-si</td>\n",
              "      <td>etc</td>\n",
              "      <td>20090</td>\n",
              "      <td>Gyeonggi-do</td>\n",
              "      <td>37.635791</td>\n",
              "      <td>127.216552</td>\n",
              "      <td>64</td>\n",
              "      <td>110</td>\n",
              "      <td>1</td>\n",
              "      <td>1.38</td>\n",
              "      <td>13.44</td>\n",
              "      <td>5.0</td>\n",
              "      <td>912</td>\n",
              "      <td>1</td>\n",
              "      <td>0</td>\n",
              "      <td>0</td>\n",
              "    </tr>\n",
              "    <tr>\n",
              "      <th>1078</th>\n",
              "      <td>3014000001</td>\n",
              "      <td>Korea</td>\n",
              "      <td>Gangwon-do</td>\n",
              "      <td>Taebaek-si</td>\n",
              "      <td>contact with patient</td>\n",
              "      <td>30140</td>\n",
              "      <td>Gangwon-do</td>\n",
              "      <td>37.164060</td>\n",
              "      <td>128.985736</td>\n",
              "      <td>12</td>\n",
              "      <td>12</td>\n",
              "      <td>1</td>\n",
              "      <td>1.16</td>\n",
              "      <td>23.88</td>\n",
              "      <td>12.8</td>\n",
              "      <td>64</td>\n",
              "      <td>1</td>\n",
              "      <td>0</td>\n",
              "      <td>0</td>\n",
              "    </tr>\n",
              "    <tr>\n",
              "      <th>1294</th>\n",
              "      <td>6015000035</td>\n",
              "      <td>Korea</td>\n",
              "      <td>Gyeongsangbuk-do</td>\n",
              "      <td>Yeongcheon-si</td>\n",
              "      <td>etc</td>\n",
              "      <td>60150</td>\n",
              "      <td>Gyeongsangbuk-do</td>\n",
              "      <td>35.973268</td>\n",
              "      <td>128.938603</td>\n",
              "      <td>18</td>\n",
              "      <td>23</td>\n",
              "      <td>1</td>\n",
              "      <td>0.83</td>\n",
              "      <td>27.32</td>\n",
              "      <td>15.3</td>\n",
              "      <td>192</td>\n",
              "      <td>1</td>\n",
              "      <td>0</td>\n",
              "      <td>0</td>\n",
              "    </tr>\n",
              "    <tr>\n",
              "      <th>1315</th>\n",
              "      <td>6020100054</td>\n",
              "      <td>Korea</td>\n",
              "      <td>Gyeongsangbuk-do</td>\n",
              "      <td>Cheongdo-gun</td>\n",
              "      <td>Cheongdo Daenam Hospital</td>\n",
              "      <td>60200</td>\n",
              "      <td>Gyeongsangbuk-do</td>\n",
              "      <td>35.647361</td>\n",
              "      <td>128.734382</td>\n",
              "      <td>11</td>\n",
              "      <td>14</td>\n",
              "      <td>0</td>\n",
              "      <td>0.63</td>\n",
              "      <td>36.55</td>\n",
              "      <td>21.0</td>\n",
              "      <td>85</td>\n",
              "      <td>1</td>\n",
              "      <td>0</td>\n",
              "      <td>0</td>\n",
              "    </tr>\n",
              "    <tr>\n",
              "      <th>1316</th>\n",
              "      <td>6020100055</td>\n",
              "      <td>Korea</td>\n",
              "      <td>Gyeongsangbuk-do</td>\n",
              "      <td>Cheongdo-gun</td>\n",
              "      <td>Cheongdo Daenam Hospital</td>\n",
              "      <td>60200</td>\n",
              "      <td>Gyeongsangbuk-do</td>\n",
              "      <td>35.647361</td>\n",
              "      <td>128.734382</td>\n",
              "      <td>11</td>\n",
              "      <td>14</td>\n",
              "      <td>0</td>\n",
              "      <td>0.63</td>\n",
              "      <td>36.55</td>\n",
              "      <td>21.0</td>\n",
              "      <td>85</td>\n",
              "      <td>1</td>\n",
              "      <td>0</td>\n",
              "      <td>0</td>\n",
              "    </tr>\n",
              "    <tr>\n",
              "      <th>1317</th>\n",
              "      <td>6020100104</td>\n",
              "      <td>Korea</td>\n",
              "      <td>Gyeongsangbuk-do</td>\n",
              "      <td>Cheongdo-gun</td>\n",
              "      <td>Cheongdo Daenam Hospital</td>\n",
              "      <td>60200</td>\n",
              "      <td>Gyeongsangbuk-do</td>\n",
              "      <td>35.647361</td>\n",
              "      <td>128.734382</td>\n",
              "      <td>11</td>\n",
              "      <td>14</td>\n",
              "      <td>0</td>\n",
              "      <td>0.63</td>\n",
              "      <td>36.55</td>\n",
              "      <td>21.0</td>\n",
              "      <td>85</td>\n",
              "      <td>1</td>\n",
              "      <td>0</td>\n",
              "      <td>0</td>\n",
              "    </tr>\n",
              "    <tr>\n",
              "      <th>1318</th>\n",
              "      <td>6020100107</td>\n",
              "      <td>Korea</td>\n",
              "      <td>Gyeongsangbuk-do</td>\n",
              "      <td>Cheongdo-gun</td>\n",
              "      <td>Cheongdo Daenam Hospital</td>\n",
              "      <td>60200</td>\n",
              "      <td>Gyeongsangbuk-do</td>\n",
              "      <td>35.647361</td>\n",
              "      <td>128.734382</td>\n",
              "      <td>11</td>\n",
              "      <td>14</td>\n",
              "      <td>0</td>\n",
              "      <td>0.63</td>\n",
              "      <td>36.55</td>\n",
              "      <td>21.0</td>\n",
              "      <td>85</td>\n",
              "      <td>1</td>\n",
              "      <td>0</td>\n",
              "      <td>0</td>\n",
              "    </tr>\n",
              "    <tr>\n",
              "      <th>1319</th>\n",
              "      <td>6020100205</td>\n",
              "      <td>Korea</td>\n",
              "      <td>Gyeongsangbuk-do</td>\n",
              "      <td>Cheongdo-gun</td>\n",
              "      <td>Cheongdo Daenam Hospital</td>\n",
              "      <td>60200</td>\n",
              "      <td>Gyeongsangbuk-do</td>\n",
              "      <td>35.647361</td>\n",
              "      <td>128.734382</td>\n",
              "      <td>11</td>\n",
              "      <td>14</td>\n",
              "      <td>0</td>\n",
              "      <td>0.63</td>\n",
              "      <td>36.55</td>\n",
              "      <td>21.0</td>\n",
              "      <td>85</td>\n",
              "      <td>1</td>\n",
              "      <td>0</td>\n",
              "      <td>0</td>\n",
              "    </tr>\n",
              "    <tr>\n",
              "      <th>1320</th>\n",
              "      <td>6020100286</td>\n",
              "      <td>Korea</td>\n",
              "      <td>Gyeongsangbuk-do</td>\n",
              "      <td>Cheongdo-gun</td>\n",
              "      <td>Cheongdo Daenam Hospital</td>\n",
              "      <td>60200</td>\n",
              "      <td>Gyeongsangbuk-do</td>\n",
              "      <td>35.647361</td>\n",
              "      <td>128.734382</td>\n",
              "      <td>11</td>\n",
              "      <td>14</td>\n",
              "      <td>0</td>\n",
              "      <td>0.63</td>\n",
              "      <td>36.55</td>\n",
              "      <td>21.0</td>\n",
              "      <td>85</td>\n",
              "      <td>1</td>\n",
              "      <td>0</td>\n",
              "      <td>0</td>\n",
              "    </tr>\n",
              "    <tr>\n",
              "      <th>1321</th>\n",
              "      <td>6020100298</td>\n",
              "      <td>Korea</td>\n",
              "      <td>Gyeongsangbuk-do</td>\n",
              "      <td>Cheongdo-gun</td>\n",
              "      <td>Cheongdo Daenam Hospital</td>\n",
              "      <td>60200</td>\n",
              "      <td>Gyeongsangbuk-do</td>\n",
              "      <td>35.647361</td>\n",
              "      <td>128.734382</td>\n",
              "      <td>11</td>\n",
              "      <td>14</td>\n",
              "      <td>0</td>\n",
              "      <td>0.63</td>\n",
              "      <td>36.55</td>\n",
              "      <td>21.0</td>\n",
              "      <td>85</td>\n",
              "      <td>1</td>\n",
              "      <td>0</td>\n",
              "      <td>0</td>\n",
              "    </tr>\n",
              "  </tbody>\n",
              "</table>\n",
              "</div>"
            ],
            "text/plain": [
              "      patient_id   country        province_x  ... deceased isolated  released\n",
              "905   2000000039  Mongolia       Gyeonggi-do  ...        1        0         0\n",
              "1078  3014000001     Korea        Gangwon-do  ...        1        0         0\n",
              "1294  6015000035     Korea  Gyeongsangbuk-do  ...        1        0         0\n",
              "1315  6020100054     Korea  Gyeongsangbuk-do  ...        1        0         0\n",
              "1316  6020100055     Korea  Gyeongsangbuk-do  ...        1        0         0\n",
              "1317  6020100104     Korea  Gyeongsangbuk-do  ...        1        0         0\n",
              "1318  6020100107     Korea  Gyeongsangbuk-do  ...        1        0         0\n",
              "1319  6020100205     Korea  Gyeongsangbuk-do  ...        1        0         0\n",
              "1320  6020100286     Korea  Gyeongsangbuk-do  ...        1        0         0\n",
              "1321  6020100298     Korea  Gyeongsangbuk-do  ...        1        0         0\n",
              "\n",
              "[10 rows x 19 columns]"
            ]
          },
          "metadata": {
            "tags": []
          },
          "execution_count": 145
        }
      ]
    },
    {
      "cell_type": "markdown",
      "metadata": {
        "id": "V3s9pK9apk4t",
        "colab_type": "text"
      },
      "source": [
        "#DF Seoul Information"
      ]
    },
    {
      "cell_type": "code",
      "metadata": {
        "id": "zeq8KZiKDp3n",
        "colab_type": "code",
        "colab": {
          "base_uri": "https://localhost:8080/",
          "height": 198
        },
        "outputId": "9339d220-f284-4bda-ae4c-8a6603b65068"
      },
      "source": [
        "pd_seoul=pd.read_csv('SeoulFloating.csv')\n",
        "pd_seoul.head()"
      ],
      "execution_count": 130,
      "outputs": [
        {
          "output_type": "execute_result",
          "data": {
            "text/html": [
              "<div>\n",
              "<style scoped>\n",
              "    .dataframe tbody tr th:only-of-type {\n",
              "        vertical-align: middle;\n",
              "    }\n",
              "\n",
              "    .dataframe tbody tr th {\n",
              "        vertical-align: top;\n",
              "    }\n",
              "\n",
              "    .dataframe thead th {\n",
              "        text-align: right;\n",
              "    }\n",
              "</style>\n",
              "<table border=\"1\" class=\"dataframe\">\n",
              "  <thead>\n",
              "    <tr style=\"text-align: right;\">\n",
              "      <th></th>\n",
              "      <th>date</th>\n",
              "      <th>hour</th>\n",
              "      <th>birth_year</th>\n",
              "      <th>sex</th>\n",
              "      <th>province</th>\n",
              "      <th>city</th>\n",
              "      <th>fp_num</th>\n",
              "    </tr>\n",
              "  </thead>\n",
              "  <tbody>\n",
              "    <tr>\n",
              "      <th>0</th>\n",
              "      <td>2020-01-01</td>\n",
              "      <td>0</td>\n",
              "      <td>20</td>\n",
              "      <td>female</td>\n",
              "      <td>Seoul</td>\n",
              "      <td>Dobong-gu</td>\n",
              "      <td>19140</td>\n",
              "    </tr>\n",
              "    <tr>\n",
              "      <th>1</th>\n",
              "      <td>2020-01-01</td>\n",
              "      <td>0</td>\n",
              "      <td>20</td>\n",
              "      <td>male</td>\n",
              "      <td>Seoul</td>\n",
              "      <td>Dobong-gu</td>\n",
              "      <td>19950</td>\n",
              "    </tr>\n",
              "    <tr>\n",
              "      <th>2</th>\n",
              "      <td>2020-01-01</td>\n",
              "      <td>0</td>\n",
              "      <td>20</td>\n",
              "      <td>female</td>\n",
              "      <td>Seoul</td>\n",
              "      <td>Dongdaemun-gu</td>\n",
              "      <td>25450</td>\n",
              "    </tr>\n",
              "    <tr>\n",
              "      <th>3</th>\n",
              "      <td>2020-01-01</td>\n",
              "      <td>0</td>\n",
              "      <td>20</td>\n",
              "      <td>male</td>\n",
              "      <td>Seoul</td>\n",
              "      <td>Dongdaemun-gu</td>\n",
              "      <td>27050</td>\n",
              "    </tr>\n",
              "    <tr>\n",
              "      <th>4</th>\n",
              "      <td>2020-01-01</td>\n",
              "      <td>0</td>\n",
              "      <td>20</td>\n",
              "      <td>female</td>\n",
              "      <td>Seoul</td>\n",
              "      <td>Dongjag-gu</td>\n",
              "      <td>28880</td>\n",
              "    </tr>\n",
              "  </tbody>\n",
              "</table>\n",
              "</div>"
            ],
            "text/plain": [
              "         date  hour  birth_year     sex province           city  fp_num\n",
              "0  2020-01-01     0          20  female    Seoul      Dobong-gu   19140\n",
              "1  2020-01-01     0          20    male    Seoul      Dobong-gu   19950\n",
              "2  2020-01-01     0          20  female    Seoul  Dongdaemun-gu   25450\n",
              "3  2020-01-01     0          20    male    Seoul  Dongdaemun-gu   27050\n",
              "4  2020-01-01     0          20  female    Seoul     Dongjag-gu   28880"
            ]
          },
          "metadata": {
            "tags": []
          },
          "execution_count": 130
        }
      ]
    },
    {
      "cell_type": "markdown",
      "metadata": {
        "id": "AIlA5sPwppEt",
        "colab_type": "text"
      },
      "source": [
        "#References"
      ]
    },
    {
      "cell_type": "markdown",
      "metadata": {
        "id": "7RkX8rZBbPz-",
        "colab_type": "text"
      },
      "source": [
        "https://automating-gis-processes.github.io/site/develop/notebooks/L3/nearest-neighbour.html\n",
        "\n",
        "was helpful for nearest neighbor analysis"
      ]
    },
    {
      "cell_type": "markdown",
      "metadata": {
        "id": "d7mrlWsKqrT4",
        "colab_type": "text"
      },
      "source": [
        "https://scikit-learn.org/stable/modules/generated/sklearn.cluster.KMeans.html\n",
        "\n",
        "Kmodes inherits some similar properties as kmeans and that makes it useful\n",
        "like for example .fit and .fit_predict"
      ]
    }
  ]
}